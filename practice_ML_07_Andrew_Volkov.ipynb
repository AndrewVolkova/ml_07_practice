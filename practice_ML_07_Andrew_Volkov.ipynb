{
 "cells": [
  {
   "cell_type": "code",
   "execution_count": 1,
   "metadata": {},
   "outputs": [],
   "source": [
    "#импорт библиотек\n",
    "import numpy as np #для матричных вычислений\n",
    "import pandas as pd #для анализа и предобработки данных\n",
    "import matplotlib.pyplot as plt #для визуализации\n",
    "import seaborn as sns #для визуализации\n",
    "\n",
    "from sklearn import linear_model #линейные моделиё\n",
    "from sklearn import tree #деревья решений\n",
    "from sklearn import ensemble #ансамбли\n",
    "from sklearn import metrics #метрики\n",
    "from sklearn import preprocessing #предобработка\n",
    "from sklearn.model_selection import train_test_split #сплитование выборки\n",
    "\n",
    "from sklearn.model_selection import GridSearchCV\n",
    "from sklearn.model_selection import RandomizedSearchCV\n",
    "\n",
    "from sklearn.model_selection import cross_val_score\n",
    "import hyperopt\n",
    "from hyperopt import hp, fmin, tpe, Trials, STATUS_OK\n",
    "\n",
    "import optuna\n",
    "\n",
    "%matplotlib inline\n",
    "\n",
    "from colorama import Fore, Back, Style\n",
    "pd.set_option('display.max_colwidth', None)\n",
    "pd.set_option('display.float_format', '{:.3f}'.format)\n",
    "\n",
    "import warnings\n",
    "warnings.filterwarnings(\"ignore\")"
   ]
  },
  {
   "attachments": {},
   "cell_type": "markdown",
   "metadata": {},
   "source": [
    "# Данные"
   ]
  },
  {
   "cell_type": "code",
   "execution_count": 2,
   "metadata": {},
   "outputs": [],
   "source": [
    "data = pd.read_csv('data/_train_sem09 (1).csv')"
   ]
  },
  {
   "cell_type": "code",
   "execution_count": 3,
   "metadata": {},
   "outputs": [
    {
     "data": {
      "text/html": [
       "<div>\n",
       "<style scoped>\n",
       "    .dataframe tbody tr th:only-of-type {\n",
       "        vertical-align: middle;\n",
       "    }\n",
       "\n",
       "    .dataframe tbody tr th {\n",
       "        vertical-align: top;\n",
       "    }\n",
       "\n",
       "    .dataframe thead th {\n",
       "        text-align: right;\n",
       "    }\n",
       "</style>\n",
       "<table border=\"1\" class=\"dataframe\">\n",
       "  <thead>\n",
       "    <tr style=\"text-align: right;\">\n",
       "      <th></th>\n",
       "      <th>Activity</th>\n",
       "      <th>D1</th>\n",
       "      <th>D2</th>\n",
       "      <th>D3</th>\n",
       "      <th>D4</th>\n",
       "      <th>D5</th>\n",
       "      <th>D6</th>\n",
       "      <th>D7</th>\n",
       "      <th>D8</th>\n",
       "      <th>D9</th>\n",
       "      <th>...</th>\n",
       "      <th>D1767</th>\n",
       "      <th>D1768</th>\n",
       "      <th>D1769</th>\n",
       "      <th>D1770</th>\n",
       "      <th>D1771</th>\n",
       "      <th>D1772</th>\n",
       "      <th>D1773</th>\n",
       "      <th>D1774</th>\n",
       "      <th>D1775</th>\n",
       "      <th>D1776</th>\n",
       "    </tr>\n",
       "  </thead>\n",
       "  <tbody>\n",
       "    <tr>\n",
       "      <th>0</th>\n",
       "      <td>1</td>\n",
       "      <td>0.000</td>\n",
       "      <td>0.497</td>\n",
       "      <td>0.100</td>\n",
       "      <td>0.000</td>\n",
       "      <td>0.133</td>\n",
       "      <td>0.678</td>\n",
       "      <td>0.273</td>\n",
       "      <td>0.585</td>\n",
       "      <td>0.744</td>\n",
       "      <td>...</td>\n",
       "      <td>0</td>\n",
       "      <td>0</td>\n",
       "      <td>0</td>\n",
       "      <td>0</td>\n",
       "      <td>0</td>\n",
       "      <td>0</td>\n",
       "      <td>0</td>\n",
       "      <td>0</td>\n",
       "      <td>0</td>\n",
       "      <td>0</td>\n",
       "    </tr>\n",
       "    <tr>\n",
       "      <th>1</th>\n",
       "      <td>1</td>\n",
       "      <td>0.367</td>\n",
       "      <td>0.606</td>\n",
       "      <td>0.050</td>\n",
       "      <td>0.000</td>\n",
       "      <td>0.111</td>\n",
       "      <td>0.803</td>\n",
       "      <td>0.106</td>\n",
       "      <td>0.412</td>\n",
       "      <td>0.837</td>\n",
       "      <td>...</td>\n",
       "      <td>1</td>\n",
       "      <td>1</td>\n",
       "      <td>1</td>\n",
       "      <td>1</td>\n",
       "      <td>0</td>\n",
       "      <td>1</td>\n",
       "      <td>0</td>\n",
       "      <td>0</td>\n",
       "      <td>1</td>\n",
       "      <td>0</td>\n",
       "    </tr>\n",
       "  </tbody>\n",
       "</table>\n",
       "<p>2 rows × 1777 columns</p>\n",
       "</div>"
      ],
      "text/plain": [
       "   Activity    D1    D2    D3    D4    D5    D6    D7    D8    D9  ...  D1767   \n",
       "0         1 0.000 0.497 0.100 0.000 0.133 0.678 0.273 0.585 0.744  ...      0  \\\n",
       "1         1 0.367 0.606 0.050 0.000 0.111 0.803 0.106 0.412 0.837  ...      1   \n",
       "\n",
       "   D1768  D1769  D1770  D1771  D1772  D1773  D1774  D1775  D1776  \n",
       "0      0      0      0      0      0      0      0      0      0  \n",
       "1      1      1      1      0      1      0      0      1      0  \n",
       "\n",
       "[2 rows x 1777 columns]"
      ]
     },
     "execution_count": 3,
     "metadata": {},
     "output_type": "execute_result"
    }
   ],
   "source": [
    "data.head(2)"
   ]
  },
  {
   "cell_type": "code",
   "execution_count": 4,
   "metadata": {},
   "outputs": [
    {
     "data": {
      "text/plain": [
       "(3751, 1777)"
      ]
     },
     "execution_count": 4,
     "metadata": {},
     "output_type": "execute_result"
    }
   ],
   "source": [
    "data.shape"
   ]
  },
  {
   "cell_type": "code",
   "execution_count": 5,
   "metadata": {},
   "outputs": [],
   "source": [
    "# Подготовка данных для следующей работы\n",
    "X = data.drop(['D1776'], axis=1)\n",
    "y = data['D1776']\n",
    "\n",
    "X_train, X_test, y_train, y_test = train_test_split(X, y, stratify=y, random_state = 1, test_size = 0.2)"
   ]
  },
  {
   "cell_type": "code",
   "execution_count": 6,
   "metadata": {},
   "outputs": [],
   "source": [
    "# В данную переменную буду сохранять результаты моделей [f1_train, f1_test, название]\n",
    "f1_score_results = []\n",
    "# Константы часто используемых параметров\n",
    "RANDOM_STATE = 42\n",
    "MAX_ITER = 500"
   ]
  },
  {
   "cell_type": "code",
   "execution_count": 7,
   "metadata": {},
   "outputs": [],
   "source": [
    "\n",
    "def printAndSaveModelResults(model, methodName):\n",
    "  \"\"\"функция для вывода результатов score для train и test \n",
    "     и также для сохранения этих значений для последующего использования\n",
    "  Args:\n",
    "      model (model): Ссылка на обучепнную модель\n",
    "      methodName (string): Название примененной модели\n",
    "  \"\"\"\n",
    "  y_train_pred = model.predict(X_train)\n",
    "  metrics_train = metrics.f1_score(y_train, y_train_pred).round(6)\n",
    "  print(f\"{Fore.LIGHTBLUE_EX}f1_score на тренировочном наборе: {Fore.LIGHTGREEN_EX}{metrics_train:.3f}{Fore.RESET}\")\n",
    "  y_test_pred = model.predict(X_test)\n",
    "  metrics_test = metrics.f1_score(y_test, y_test_pred).round(6)\n",
    "  print(f\"{Fore.LIGHTBLUE_EX}f1_score на тестовом наборе: {Fore.LIGHTGREEN_EX}{metrics_test:.3f}{Fore.RESET}\")\n",
    "\n",
    "  f1_score_results.append({'result_train': metrics_train,\n",
    "                           'result_test': metrics_test,\n",
    "                          'method': methodName})"
   ]
  },
  {
   "attachments": {},
   "cell_type": "markdown",
   "metadata": {},
   "source": [
    "# Моделирование"
   ]
  },
  {
   "attachments": {},
   "cell_type": "markdown",
   "metadata": {},
   "source": [
    "Зафиксируем только метрики, которые были получены без дополнительной настройки, т.е со значениями гиперпараметров, установленных по умолчанию:"
   ]
  },
  {
   "attachments": {},
   "cell_type": "markdown",
   "metadata": {},
   "source": [
    "## Логистическая регрессия"
   ]
  },
  {
   "cell_type": "code",
   "execution_count": 8,
   "metadata": {},
   "outputs": [
    {
     "name": "stdout",
     "output_type": "stream",
     "text": [
      "\u001b[94mf1_score на тренировочном наборе: \u001b[92m1.000\u001b[39m\n",
      "\u001b[94mf1_score на тестовом наборе: \u001b[92m0.824\u001b[39m\n"
     ]
    }
   ],
   "source": [
    "#Создаем объект класса логистическая регрессия\n",
    "log_reg = linear_model.LogisticRegression(max_iter = MAX_ITER)\n",
    "#Обучаем модель, минимизируя logloss\n",
    "log_reg.fit(X_train, y_train)\n",
    "\n",
    "printAndSaveModelResults(log_reg,'LogisticRegression native')\n",
    "\n"
   ]
  },
  {
   "attachments": {},
   "cell_type": "markdown",
   "metadata": {},
   "source": [
    "## Случайный лес"
   ]
  },
  {
   "cell_type": "code",
   "execution_count": 9,
   "metadata": {},
   "outputs": [
    {
     "name": "stdout",
     "output_type": "stream",
     "text": [
      "\u001b[94mf1_score на тренировочном наборе: \u001b[92m1.000\u001b[39m\n",
      "\u001b[94mf1_score на тестовом наборе: \u001b[92m0.857\u001b[39m\n"
     ]
    }
   ],
   "source": [
    "#Создаем объект класса случайный лес\n",
    "rf = ensemble.RandomForestClassifier(random_state=RANDOM_STATE)\n",
    "\n",
    "#Обучаем модель\n",
    "rf.fit(X_train, y_train)\n",
    "\n",
    "printAndSaveModelResults(rf,'RandomForestClassifier native')"
   ]
  },
  {
   "attachments": {},
   "cell_type": "markdown",
   "metadata": {},
   "source": [
    "# Оптимизация гиперпараметров модели"
   ]
  },
  {
   "attachments": {},
   "cell_type": "markdown",
   "metadata": {},
   "source": [
    "### **GridSearchCV**"
   ]
  },
  {
   "attachments": {},
   "cell_type": "markdown",
   "metadata": {},
   "source": [
    "#### Логистическая регрессия"
   ]
  },
  {
   "cell_type": "code",
   "execution_count": 10,
   "metadata": {},
   "outputs": [
    {
     "name": "stdout",
     "output_type": "stream",
     "text": [
      "CPU times: total: 26.3 s\n",
      "Wall time: 2min 20s\n",
      "\u001b[94mf1_score на тренировочном наборе: \u001b[92m1.000\u001b[39m\n",
      "\u001b[94mf1_score на тестовом наборе: \u001b[92m0.824\u001b[39m\n",
      "\u001b[94m Наилучшие значения гиперпараметров: \u001b[92m{'C': 0.01, 'penalty': None, 'solver': 'sag'}\u001b[39m\n"
     ]
    }
   ],
   "source": [
    "param_grid = {'penalty': ['l2', None] ,\n",
    "              'solver': ['lbfgs', 'sag'],\n",
    "               'C': list(np.linspace(0.01, 10, 10, dtype=float))},\n",
    "\n",
    "grid_search = GridSearchCV(\n",
    "    estimator=linear_model.LogisticRegression(random_state=RANDOM_STATE, max_iter=MAX_ITER), \n",
    "    param_grid=param_grid, \n",
    "    cv=5, \n",
    "    n_jobs = -1\n",
    ")  \n",
    "\n",
    "%time grid_search.fit(X_train, y_train) \n",
    "\n",
    "printAndSaveModelResults(grid_search,'LogisticRegression GridSearch Optimization')\n",
    "\n",
    "print(f\"{Fore.LIGHTBLUE_EX} Наилучшие значения гиперпараметров: {Fore.LIGHTGREEN_EX}{grid_search.best_params_}{Fore.RESET}\")\n"
   ]
  },
  {
   "attachments": {},
   "cell_type": "markdown",
   "metadata": {},
   "source": [
    "#### Случайный лес"
   ]
  },
  {
   "cell_type": "code",
   "execution_count": 11,
   "metadata": {},
   "outputs": [
    {
     "name": "stdout",
     "output_type": "stream",
     "text": [
      "CPU times: total: 4.56 s\n",
      "Wall time: 36.1 s\n",
      "\u001b[94mf1_score на тренировочном наборе: \u001b[92m0.985\u001b[39m\n",
      "\u001b[94mf1_score на тестовом наборе: \u001b[92m0.769\u001b[39m\n",
      "\u001b[94mНаилучшие значения гиперпараметров: \u001b[92m{'max_depth': 11, 'min_samples_leaf': 3, 'n_estimators': 350}\u001b[39m\n"
     ]
    }
   ],
   "source": [
    "param_grid = {'n_estimators': list(range(100, 500, 50)),\n",
    "              'min_samples_leaf': [3,5,7],\n",
    "              'max_depth': list(np.linspace(2, 40, 5, dtype=int))\n",
    "              }\n",
    "            \n",
    "grid_search_forest = GridSearchCV(\n",
    "    estimator=ensemble.RandomForestClassifier(random_state=RANDOM_STATE), \n",
    "    param_grid=param_grid, \n",
    "    cv=5, \n",
    "    n_jobs = -1\n",
    ")  \n",
    "%time grid_search_forest.fit(X_train, y_train) \n",
    "\n",
    "printAndSaveModelResults(grid_search_forest,'RandomForestClassifier GridSearch Optimization')\n",
    "\n",
    "print(f\"{Fore.LIGHTBLUE_EX}Наилучшие значения гиперпараметров: {Fore.LIGHTGREEN_EX}{grid_search_forest.best_params_}{Fore.RESET}\")\n",
    "\n"
   ]
  },
  {
   "attachments": {},
   "cell_type": "markdown",
   "metadata": {},
   "source": [
    "### **RandomizedSearchCV**"
   ]
  },
  {
   "attachments": {},
   "cell_type": "markdown",
   "metadata": {},
   "source": [
    "#### Логистическая регрессия"
   ]
  },
  {
   "cell_type": "code",
   "execution_count": 12,
   "metadata": {},
   "outputs": [
    {
     "name": "stdout",
     "output_type": "stream",
     "text": [
      "CPU times: total: 25.5 s\n",
      "Wall time: 1min 1s\n",
      "\u001b[94mf1_score на тренировочном наборе: \u001b[92m1.000\u001b[39m\n",
      "\u001b[94mf1_score на тестовом наборе: \u001b[92m0.875\u001b[39m\n",
      "\u001b[94m Наилучшие значения гиперпараметров: \u001b[92m{'solver': 'sag', 'penalty': 'l2', 'C': 0.89}\u001b[39m\n"
     ]
    }
   ],
   "source": [
    "param_distributions = {'penalty': ['l2', None] ,\n",
    "              'solver': ['lbfgs', 'sag'],\n",
    "               'C': list(np.linspace(0.01, 1, 10, dtype=float))},\n",
    "            \n",
    "random_search = RandomizedSearchCV(\n",
    "    estimator=linear_model.LogisticRegression(random_state=RANDOM_STATE, max_iter=MAX_ITER), \n",
    "    param_distributions=param_distributions, \n",
    "    cv=5, \n",
    "    n_iter = 10, \n",
    "    n_jobs = -1\n",
    ")  \n",
    "%time random_search.fit(X_train, y_train) \n",
    "\n",
    "printAndSaveModelResults(random_search,'LogisticRegression RandomSearch Optimization')\n",
    "\n",
    "print(f\"{Fore.LIGHTBLUE_EX} Наилучшие значения гиперпараметров: {Fore.LIGHTGREEN_EX}{random_search.best_params_}{Fore.RESET}\")\n",
    "\n"
   ]
  },
  {
   "attachments": {},
   "cell_type": "markdown",
   "metadata": {},
   "source": [
    "#### Случайный лес"
   ]
  },
  {
   "cell_type": "code",
   "execution_count": 13,
   "metadata": {},
   "outputs": [
    {
     "name": "stdout",
     "output_type": "stream",
     "text": [
      "CPU times: total: 3.05 s\n",
      "Wall time: 16.6 s\n",
      "\u001b[94mf1_score на тренировочном наборе: \u001b[92m0.985\u001b[39m\n",
      "\u001b[94mf1_score на тестовом наборе: \u001b[92m0.769\u001b[39m\n",
      "\u001b[94m Наилучшие значения гиперпараметров: \u001b[92m{'n_estimators': 350, 'min_samples_leaf': 3, 'max_depth': 21}\u001b[39m\n"
     ]
    }
   ],
   "source": [
    "param_distributions = {'n_estimators': list(range(100, 500, 50)),\n",
    "              'min_samples_leaf': [3,5,7],\n",
    "              'max_depth': list(np.linspace(2, 40, 5, dtype=int))\n",
    "              }\n",
    "            \n",
    "random_search_forest = RandomizedSearchCV(\n",
    "    estimator = ensemble.RandomForestClassifier(random_state=RANDOM_STATE), \n",
    "    param_distributions=param_distributions, \n",
    "    cv=5, \n",
    "    n_iter = 50, \n",
    "    n_jobs = -1\n",
    ")  \n",
    "%time random_search_forest.fit(X_train, y_train) \n",
    "\n",
    "printAndSaveModelResults(random_search_forest,'RandomForestClassifier RandomSearch Optimization')\n",
    "\n",
    "print(f\"{Fore.LIGHTBLUE_EX} Наилучшие значения гиперпараметров: {Fore.LIGHTGREEN_EX}{random_search_forest.best_params_}{Fore.RESET}\")\n",
    "\n"
   ]
  },
  {
   "cell_type": "markdown",
   "metadata": {},
   "source": [
    "### **Hyperopt**"
   ]
  },
  {
   "attachments": {},
   "cell_type": "markdown",
   "metadata": {},
   "source": [
    "##### Подготовка функций для расчета"
   ]
  },
  {
   "cell_type": "code",
   "execution_count": 14,
   "metadata": {},
   "outputs": [],
   "source": [
    "# Как то hyperopt не зажелал норм работать с hp.не помню как, поэтому триканул с hp.choice\n",
    "# обьявил отдельно, так как в предсказании, метод выдает индексы категорий, а не сами категории,\n",
    "# поэтому обьявил параметры отдельными переменными\n",
    "penalty = ['l2', None]\n",
    "solver = ['lbfgs', 'sag']\n",
    "C = np.arange(.1,1.1,.1)\n",
    "\n",
    "space = {'penalty': hp.choice('penalty', penalty) ,\n",
    "          'solver': hp.choice('solver', solver),\n",
    "          'C': hp.choice('C', C)\n",
    "          }\n",
    "\n",
    "scoreCalc = 'standard'\n",
    "modelType = 'logReg'"
   ]
  },
  {
   "cell_type": "code",
   "execution_count": 15,
   "metadata": {},
   "outputs": [],
   "source": [
    "def hyperparameter_tuning(params):\n",
    "    \"\"\"Функция для проведения оптимизации библиотекой Hyperopt\n",
    "       так же внутри проверяем для какого типа модели провести гиперпараметризацию \n",
    "       и с кроссвалидацией или без \n",
    "    Args:\n",
    "        params (params): Обьект с параметрами для обучения\n",
    "\n",
    "    Returns:\n",
    "        object: Обьект с результатом \n",
    "    \"\"\"\n",
    "    if modelType =='logReg':\n",
    "        model = linear_model.LogisticRegression(**params, random_state=RANDOM_STATE, max_iter=MAX_ITER,n_jobs=-1)\n",
    "    elif modelType == 'ranFor':\n",
    "        model = ensemble.RandomForestClassifier(**params, random_state=RANDOM_STATE, n_jobs=-1)\n",
    "    if scoreCalc == 'standard':\n",
    "        model.fit(X_train, y_train)\n",
    "        score = metrics.f1_score(y_test, model.predict(X_test))\n",
    "    elif scoreCalc == 'cross':\n",
    "        score = cross_val_score(model, X_train, y_train, cv = 5, scoring=\"f1\", n_jobs = -1).mean()\n",
    "    return {\"loss\": -score, \"status\": STATUS_OK}"
   ]
  },
  {
   "attachments": {},
   "cell_type": "markdown",
   "metadata": {},
   "source": [
    "#### Логистическая регрессия"
   ]
  },
  {
   "attachments": {},
   "cell_type": "markdown",
   "metadata": {},
   "source": [
    "##### Стандартный расчет score"
   ]
  },
  {
   "cell_type": "code",
   "execution_count": 16,
   "metadata": {},
   "outputs": [
    {
     "name": "stdout",
     "output_type": "stream",
     "text": [
      "100%|██████████| 10/10 [01:51<00:00, 11.15s/trial, best loss: -0.9333333333333333]\n"
     ]
    }
   ],
   "source": [
    "# Initialize trials object\n",
    "trials = Trials()\n",
    "\n",
    "best = fmin(\n",
    "    fn=hyperparameter_tuning,\n",
    "    space = space, \n",
    "    algo=tpe.suggest, \n",
    "    max_evals=10, \n",
    "    trials=trials\n",
    ")\n"
   ]
  },
  {
   "cell_type": "code",
   "execution_count": 17,
   "metadata": {},
   "outputs": [
    {
     "name": "stdout",
     "output_type": "stream",
     "text": [
      "\u001b[94mf1_score на тренировочном наборе: \u001b[92m1.000\u001b[39m\n",
      "\u001b[94mf1_score на тестовом наборе: \u001b[92m0.933\u001b[39m\n"
     ]
    }
   ],
   "source": [
    "log_reg_Hyperopt = linear_model.LogisticRegression(\n",
    "    random_state=RANDOM_STATE, \n",
    "    penalty=penalty[int(best['penalty'])],\n",
    "    solver=solver[int(best['solver'])],\n",
    "    C=C[int(best['C'])]\n",
    ")\n",
    "\n",
    "#Обучаем модель\n",
    "log_reg_Hyperopt.fit(X_train, y_train)\n",
    "\n",
    "printAndSaveModelResults(log_reg_Hyperopt,'LogisticRegression Hyperopt Optimization')"
   ]
  },
  {
   "attachments": {},
   "cell_type": "markdown",
   "metadata": {},
   "source": [
    "##### Кросс-валидация"
   ]
  },
  {
   "cell_type": "code",
   "execution_count": 18,
   "metadata": {},
   "outputs": [
    {
     "name": "stdout",
     "output_type": "stream",
     "text": [
      "100%|██████████| 10/10 [02:04<00:00, 12.45s/trial, best loss: -0.7050727050727051]\n"
     ]
    }
   ],
   "source": [
    "# Initialize trials object\n",
    "scoreCalc = 'cross'\n",
    "\n",
    "trials = Trials()\n",
    "\n",
    "best = fmin(\n",
    "    fn=hyperparameter_tuning,\n",
    "    space = space, \n",
    "    algo=tpe.suggest, \n",
    "    max_evals=10, \n",
    "    trials=trials\n",
    ")\n"
   ]
  },
  {
   "cell_type": "code",
   "execution_count": 19,
   "metadata": {},
   "outputs": [
    {
     "name": "stdout",
     "output_type": "stream",
     "text": [
      "\u001b[94mf1_score на тренировочном наборе: \u001b[92m1.000\u001b[39m\n",
      "\u001b[94mf1_score на тестовом наборе: \u001b[92m0.875\u001b[39m\n"
     ]
    }
   ],
   "source": [
    "log_reg_Hyperopt_cross = linear_model.LogisticRegression(\n",
    "    random_state=RANDOM_STATE, \n",
    "    penalty=penalty[int(best['penalty'])],\n",
    "    solver=solver[int(best['solver'])],\n",
    "    C=C[int(best['C'])]\n",
    ")\n",
    "\n",
    "#Обучаем модель\n",
    "log_reg_Hyperopt_cross.fit(X_train, y_train)\n",
    "\n",
    "printAndSaveModelResults(log_reg_Hyperopt_cross,'LogisticRegression Hyperopt Optimization with Cross Validation')"
   ]
  },
  {
   "attachments": {},
   "cell_type": "markdown",
   "metadata": {},
   "source": [
    "#### Случайный лес"
   ]
  },
  {
   "cell_type": "code",
   "execution_count": 20,
   "metadata": {},
   "outputs": [],
   "source": [
    "n_estimators = np.arange(100, 500, 2, dtype = int)\n",
    "max_depth = np.arange(15, 26, 1, dtype = int)\n",
    "min_samples_leaf = np.arange(2, 11, 1, dtype=int)\n",
    "\n",
    "# зададим пространство поиска гиперпараметров\n",
    "space={'n_estimators': hp.choice('n_estimators', n_estimators ),\n",
    "       'max_depth' : hp.choice('max_depth', max_depth),\n",
    "       'min_samples_leaf': hp.choice('min_samples_leaf', min_samples_leaf)\n",
    "      }\n",
    "scoreCalc = 'standard'\n",
    "modelType = 'ranFor'"
   ]
  },
  {
   "attachments": {},
   "cell_type": "markdown",
   "metadata": {},
   "source": [
    "##### Стандартный расчет score"
   ]
  },
  {
   "cell_type": "code",
   "execution_count": 21,
   "metadata": {},
   "outputs": [
    {
     "name": "stdout",
     "output_type": "stream",
     "text": [
      "100%|██████████| 10/10 [00:06<00:00,  1.55trial/s, best loss: -0.8571428571428571]\n"
     ]
    }
   ],
   "source": [
    "# Initialize trials object\n",
    "trials = Trials()\n",
    "\n",
    "best = fmin(\n",
    "    fn=hyperparameter_tuning,\n",
    "    space = space, \n",
    "    algo=tpe.suggest, \n",
    "    max_evals=10, \n",
    "    trials=trials\n",
    ")"
   ]
  },
  {
   "cell_type": "code",
   "execution_count": 22,
   "metadata": {},
   "outputs": [
    {
     "name": "stdout",
     "output_type": "stream",
     "text": [
      "\u001b[94mf1_score на тренировочном наборе: \u001b[92m1.000\u001b[39m\n",
      "\u001b[94mf1_score на тестовом наборе: \u001b[92m0.857\u001b[39m\n"
     ]
    }
   ],
   "source": [
    "rf_Hyperopt = ensemble.RandomForestClassifier(\n",
    "    random_state=RANDOM_STATE, \n",
    "    n_estimators=n_estimators[int(best['n_estimators'])],\n",
    "    max_depth=max_depth[int(best['max_depth'])],\n",
    "    min_samples_leaf=min_samples_leaf[int(best['min_samples_leaf'])],\n",
    ")\n",
    "\n",
    "#Обучаем модель\n",
    "rf_Hyperopt.fit(X_train, y_train)\n",
    "\n",
    "printAndSaveModelResults(rf_Hyperopt,'RandomForestClassifier Hyperopt Optimization')"
   ]
  },
  {
   "attachments": {},
   "cell_type": "markdown",
   "metadata": {},
   "source": [
    "##### Кросс-валидация"
   ]
  },
  {
   "cell_type": "code",
   "execution_count": 23,
   "metadata": {},
   "outputs": [
    {
     "name": "stdout",
     "output_type": "stream",
     "text": [
      "100%|██████████| 10/10 [00:14<00:00,  1.49s/trial, best loss: -0.48666666666666664]\n"
     ]
    }
   ],
   "source": [
    "scoreCalc = 'cross'\n",
    "# Initialize trials object\n",
    "trials = Trials()\n",
    "\n",
    "best = fmin(\n",
    "    fn=hyperparameter_tuning,\n",
    "    space = space, \n",
    "    algo=tpe.suggest, \n",
    "    max_evals=10, \n",
    "    trials=trials\n",
    ")"
   ]
  },
  {
   "cell_type": "code",
   "execution_count": 24,
   "metadata": {},
   "outputs": [
    {
     "name": "stdout",
     "output_type": "stream",
     "text": [
      "\u001b[94mf1_score на тренировочном наборе: \u001b[92m0.985\u001b[39m\n",
      "\u001b[94mf1_score на тестовом наборе: \u001b[92m0.769\u001b[39m\n"
     ]
    }
   ],
   "source": [
    "rf_Hyperopt_cross = ensemble.RandomForestClassifier(\n",
    "    random_state=RANDOM_STATE, \n",
    "    n_estimators=n_estimators[int(best['n_estimators'])],\n",
    "    max_depth=max_depth[int(best['max_depth'])],\n",
    "    min_samples_leaf=min_samples_leaf[int(best['min_samples_leaf'])],\n",
    ")\n",
    "\n",
    "#Обучаем модель\n",
    "rf_Hyperopt_cross.fit(X_train, y_train)\n",
    "\n",
    "printAndSaveModelResults(rf_Hyperopt_cross,'RandomForestClassifier Hyperopt Optimization with Crossvalidation')"
   ]
  },
  {
   "attachments": {},
   "cell_type": "markdown",
   "metadata": {},
   "source": [
    "## Optuna"
   ]
  },
  {
   "attachments": {},
   "cell_type": "markdown",
   "metadata": {},
   "source": [
    "##### Подготовка функций для расчета"
   ]
  },
  {
   "cell_type": "code",
   "execution_count": 25,
   "metadata": {},
   "outputs": [],
   "source": [
    "scoreCalc = 'standard'\n",
    "modelType = 'logReg'"
   ]
  },
  {
   "cell_type": "code",
   "execution_count": 26,
   "metadata": {},
   "outputs": [],
   "source": [
    "def optuna_optimize(trial):\n",
    "  \n",
    "  # задаем пространства поиска гиперпараметров\n",
    "  if modelType == 'logReg':\n",
    "    penalty = ['l2', None]\n",
    "    solver = ['lbfgs', 'sag']\n",
    "    C = np.arange(.1,1.1,.1)\n",
    "  \n",
    "    penalty=trial.suggest_categorical('penalty', penalty)\n",
    "    solver=trial.suggest_categorical('solver',solver)\n",
    "    C=trial.suggest_categorical('C',C)\n",
    "    \n",
    "    model = linear_model.LogisticRegression(\n",
    "      penalty = penalty,\n",
    "      solver = solver,\n",
    "      C = C,\n",
    "      random_state = RANDOM_STATE,\n",
    "    )\n",
    "\n",
    "  elif modelType == 'ranFor':\n",
    "    n_estimators = trial.suggest_int('n_estimators', 100, 310, 10)\n",
    "    min_samples_leaf = trial.suggest_int('min_samples_leaf', 3, 7, 1)\n",
    "    max_depth = trial.suggest_int('max_depth', 15, 40, 1)\n",
    "\n",
    "    # создаем модель\n",
    "    model = ensemble.RandomForestClassifier(n_estimators=n_estimators,\n",
    "                                          max_depth=max_depth,\n",
    "                                          min_samples_leaf=min_samples_leaf,\n",
    "                                          random_state=RANDOM_STATE)\n",
    "  # обучаем модель\n",
    "  if scoreCalc == 'standard':\n",
    "    model.fit(X_train, y_train)\n",
    "    score = metrics.f1_score(y_train, model.predict(X_train))\n",
    "  elif scoreCalc == 'cross':\n",
    "      score = cross_val_score(model, X_train, y_train, cv = 5, scoring=\"f1\", n_jobs = -1).mean()  \n",
    "  return score"
   ]
  },
  {
   "attachments": {},
   "cell_type": "markdown",
   "metadata": {},
   "source": [
    "#### Логистическая регрессия"
   ]
  },
  {
   "attachments": {},
   "cell_type": "markdown",
   "metadata": {},
   "source": [
    "##### Стандартный расчет score"
   ]
  },
  {
   "cell_type": "code",
   "execution_count": 27,
   "metadata": {},
   "outputs": [
    {
     "name": "stderr",
     "output_type": "stream",
     "text": [
      "\u001b[32m[I 2023-04-20 19:43:16,032]\u001b[0m A new study created in memory with name: LogisticRegression Optuna Optimization\u001b[0m\n"
     ]
    },
    {
     "name": "stdout",
     "output_type": "stream",
     "text": [
      "CPU times: total: 0 ns\n",
      "Wall time: 0 ns\n"
     ]
    },
    {
     "name": "stderr",
     "output_type": "stream",
     "text": [
      "\u001b[32m[I 2023-04-20 19:43:21,183]\u001b[0m Trial 0 finished with value: 1.0 and parameters: {'penalty': None, 'solver': 'sag', 'C': 0.30000000000000004}. Best is trial 0 with value: 1.0.\u001b[0m\n",
      "\u001b[32m[I 2023-04-20 19:43:26,393]\u001b[0m Trial 1 finished with value: 1.0 and parameters: {'penalty': 'l2', 'solver': 'sag', 'C': 0.8}. Best is trial 0 with value: 1.0.\u001b[0m\n",
      "\u001b[32m[I 2023-04-20 19:43:31,552]\u001b[0m Trial 2 finished with value: 1.0 and parameters: {'penalty': None, 'solver': 'sag', 'C': 1.0}. Best is trial 0 with value: 1.0.\u001b[0m\n",
      "\u001b[32m[I 2023-04-20 19:43:31,823]\u001b[0m Trial 3 finished with value: 1.0 and parameters: {'penalty': None, 'solver': 'lbfgs', 'C': 0.4}. Best is trial 0 with value: 1.0.\u001b[0m\n",
      "\u001b[32m[I 2023-04-20 19:43:36,959]\u001b[0m Trial 4 finished with value: 1.0 and parameters: {'penalty': None, 'solver': 'sag', 'C': 0.7000000000000001}. Best is trial 0 with value: 1.0.\u001b[0m\n",
      "\u001b[32m[I 2023-04-20 19:43:42,436]\u001b[0m Trial 5 finished with value: 1.0 and parameters: {'penalty': 'l2', 'solver': 'sag', 'C': 0.9}. Best is trial 0 with value: 1.0.\u001b[0m\n",
      "\u001b[32m[I 2023-04-20 19:43:42,716]\u001b[0m Trial 6 finished with value: 1.0 and parameters: {'penalty': None, 'solver': 'lbfgs', 'C': 0.2}. Best is trial 0 with value: 1.0.\u001b[0m\n",
      "\u001b[32m[I 2023-04-20 19:43:43,152]\u001b[0m Trial 7 finished with value: 1.0 and parameters: {'penalty': 'l2', 'solver': 'lbfgs', 'C': 0.7000000000000001}. Best is trial 0 with value: 1.0.\u001b[0m\n",
      "\u001b[32m[I 2023-04-20 19:43:48,295]\u001b[0m Trial 8 finished with value: 1.0 and parameters: {'penalty': 'l2', 'solver': 'sag', 'C': 0.7000000000000001}. Best is trial 0 with value: 1.0.\u001b[0m\n",
      "\u001b[32m[I 2023-04-20 19:43:48,571]\u001b[0m Trial 9 finished with value: 1.0 and parameters: {'penalty': None, 'solver': 'lbfgs', 'C': 0.5}. Best is trial 0 with value: 1.0.\u001b[0m\n",
      "\u001b[32m[I 2023-04-20 19:43:53,764]\u001b[0m Trial 10 finished with value: 1.0 and parameters: {'penalty': None, 'solver': 'sag', 'C': 0.30000000000000004}. Best is trial 0 with value: 1.0.\u001b[0m\n",
      "\u001b[32m[I 2023-04-20 19:43:59,238]\u001b[0m Trial 11 finished with value: 1.0 and parameters: {'penalty': 'l2', 'solver': 'sag', 'C': 0.8}. Best is trial 0 with value: 1.0.\u001b[0m\n",
      "\u001b[32m[I 2023-04-20 19:44:04,383]\u001b[0m Trial 12 finished with value: 1.0 and parameters: {'penalty': 'l2', 'solver': 'sag', 'C': 0.8}. Best is trial 0 with value: 1.0.\u001b[0m\n",
      "\u001b[32m[I 2023-04-20 19:44:09,521]\u001b[0m Trial 13 finished with value: 1.0 and parameters: {'penalty': 'l2', 'solver': 'sag', 'C': 0.6}. Best is trial 0 with value: 1.0.\u001b[0m\n",
      "\u001b[32m[I 2023-04-20 19:44:14,654]\u001b[0m Trial 14 finished with value: 1.0 and parameters: {'penalty': 'l2', 'solver': 'sag', 'C': 0.30000000000000004}. Best is trial 0 with value: 1.0.\u001b[0m\n",
      "\u001b[32m[I 2023-04-20 19:44:19,798]\u001b[0m Trial 15 finished with value: 1.0 and parameters: {'penalty': None, 'solver': 'sag', 'C': 0.1}. Best is trial 0 with value: 1.0.\u001b[0m\n",
      "\u001b[32m[I 2023-04-20 19:44:24,940]\u001b[0m Trial 16 finished with value: 1.0 and parameters: {'penalty': None, 'solver': 'sag', 'C': 0.30000000000000004}. Best is trial 0 with value: 1.0.\u001b[0m\n",
      "\u001b[32m[I 2023-04-20 19:44:30,124]\u001b[0m Trial 17 finished with value: 1.0 and parameters: {'penalty': 'l2', 'solver': 'sag', 'C': 0.8}. Best is trial 0 with value: 1.0.\u001b[0m\n",
      "\u001b[32m[I 2023-04-20 19:44:30,611]\u001b[0m Trial 18 finished with value: 1.0 and parameters: {'penalty': 'l2', 'solver': 'lbfgs', 'C': 0.4}. Best is trial 0 with value: 1.0.\u001b[0m\n",
      "\u001b[32m[I 2023-04-20 19:44:35,747]\u001b[0m Trial 19 finished with value: 1.0 and parameters: {'penalty': None, 'solver': 'sag', 'C': 0.5}. Best is trial 0 with value: 1.0.\u001b[0m\n"
     ]
    },
    {
     "name": "stdout",
     "output_type": "stream",
     "text": [
      "Наилучшие значения гиперпараметров {'penalty': None, 'solver': 'sag', 'C': 0.30000000000000004}\n",
      "f1_score на обучающем наборе: 1.00\n"
     ]
    }
   ],
   "source": [
    "%time\n",
    "\n",
    "# cоздаем объект исследования\n",
    "# можем напрямую указать, что нам необходимо максимизировать метрику direction=\"maximize\"\n",
    "study_logreg = optuna.create_study(study_name=\"LogisticRegression Optuna Optimization\", direction=\"maximize\")\n",
    "# ищем лучшую комбинацию гиперпараметров n_trials раз\n",
    "study_logreg.optimize(optuna_optimize, n_trials=20)\n",
    "\n",
    "# выводим результаты на обучающей выборке\n",
    "print(\"Наилучшие значения гиперпараметров {}\".format(study_logreg.best_params))\n",
    "print(\"f1_score на обучающем наборе: {:.2f}\".format(study_logreg.best_value))"
   ]
  },
  {
   "cell_type": "code",
   "execution_count": 28,
   "metadata": {},
   "outputs": [
    {
     "name": "stdout",
     "output_type": "stream",
     "text": [
      "\u001b[94mf1_score на тренировочном наборе: \u001b[92m1.000\u001b[39m\n",
      "\u001b[94mf1_score на тестовом наборе: \u001b[92m0.824\u001b[39m\n"
     ]
    }
   ],
   "source": [
    "# рассчитаем точность для тестовой выборки\n",
    "model = linear_model.LogisticRegression(**study_logreg.best_params,random_state=RANDOM_STATE, )\n",
    "model.fit(X_train, y_train)\n",
    "\n",
    "printAndSaveModelResults(model,'LogisticRegression Optuna Optimization')"
   ]
  },
  {
   "cell_type": "markdown",
   "metadata": {},
   "source": [
    "##### Кросс-валидация"
   ]
  },
  {
   "cell_type": "code",
   "execution_count": 29,
   "metadata": {},
   "outputs": [
    {
     "name": "stderr",
     "output_type": "stream",
     "text": [
      "\u001b[32m[I 2023-04-20 19:44:40,985]\u001b[0m A new study created in memory with name: LogisticRegression Optuna Optimization with Cross Validation\u001b[0m\n"
     ]
    },
    {
     "name": "stdout",
     "output_type": "stream",
     "text": [
      "CPU times: total: 0 ns\n",
      "Wall time: 0 ns\n"
     ]
    },
    {
     "name": "stderr",
     "output_type": "stream",
     "text": [
      "\u001b[32m[I 2023-04-20 19:44:42,614]\u001b[0m Trial 0 finished with value: 0.5867832167832168 and parameters: {'penalty': 'l2', 'solver': 'lbfgs', 'C': 0.7000000000000001}. Best is trial 0 with value: 0.5867832167832168.\u001b[0m\n",
      "\u001b[32m[I 2023-04-20 19:44:43,827]\u001b[0m Trial 1 finished with value: 0.6110256410256409 and parameters: {'penalty': 'l2', 'solver': 'lbfgs', 'C': 0.8}. Best is trial 1 with value: 0.6110256410256409.\u001b[0m\n",
      "\u001b[32m[I 2023-04-20 19:44:45,194]\u001b[0m Trial 2 finished with value: 0.6110256410256409 and parameters: {'penalty': 'l2', 'solver': 'lbfgs', 'C': 0.9}. Best is trial 1 with value: 0.6110256410256409.\u001b[0m\n",
      "\u001b[32m[I 2023-04-20 19:44:50,430]\u001b[0m Trial 3 finished with value: 0.5976923076923077 and parameters: {'penalty': 'l2', 'solver': 'sag', 'C': 0.1}. Best is trial 1 with value: 0.6110256410256409.\u001b[0m\n",
      "\u001b[32m[I 2023-04-20 19:44:51,349]\u001b[0m Trial 4 finished with value: 0.691046731046731 and parameters: {'penalty': None, 'solver': 'lbfgs', 'C': 0.6}. Best is trial 4 with value: 0.691046731046731.\u001b[0m\n",
      "\u001b[32m[I 2023-04-20 19:44:52,552]\u001b[0m Trial 5 finished with value: 0.6110256410256409 and parameters: {'penalty': 'l2', 'solver': 'lbfgs', 'C': 0.9}. Best is trial 4 with value: 0.691046731046731.\u001b[0m\n",
      "\u001b[32m[I 2023-04-20 19:44:53,558]\u001b[0m Trial 6 finished with value: 0.691046731046731 and parameters: {'penalty': None, 'solver': 'lbfgs', 'C': 1.0}. Best is trial 4 with value: 0.691046731046731.\u001b[0m\n",
      "\u001b[32m[I 2023-04-20 19:44:58,589]\u001b[0m Trial 7 finished with value: 0.7050727050727051 and parameters: {'penalty': 'l2', 'solver': 'sag', 'C': 0.6}. Best is trial 7 with value: 0.7050727050727051.\u001b[0m\n",
      "\u001b[32m[I 2023-04-20 19:44:59,410]\u001b[0m Trial 8 finished with value: 0.691046731046731 and parameters: {'penalty': None, 'solver': 'lbfgs', 'C': 0.5}. Best is trial 7 with value: 0.7050727050727051.\u001b[0m\n",
      "\u001b[32m[I 2023-04-20 19:45:00,438]\u001b[0m Trial 9 finished with value: 0.691046731046731 and parameters: {'penalty': None, 'solver': 'lbfgs', 'C': 0.4}. Best is trial 7 with value: 0.7050727050727051.\u001b[0m\n",
      "\u001b[32m[I 2023-04-20 19:45:05,710]\u001b[0m Trial 10 finished with value: 0.7050727050727051 and parameters: {'penalty': 'l2', 'solver': 'sag', 'C': 0.6}. Best is trial 7 with value: 0.7050727050727051.\u001b[0m\n",
      "\u001b[32m[I 2023-04-20 19:45:10,758]\u001b[0m Trial 11 finished with value: 0.7050727050727051 and parameters: {'penalty': 'l2', 'solver': 'sag', 'C': 0.6}. Best is trial 7 with value: 0.7050727050727051.\u001b[0m\n",
      "\u001b[32m[I 2023-04-20 19:45:15,747]\u001b[0m Trial 12 finished with value: 0.7050727050727051 and parameters: {'penalty': 'l2', 'solver': 'sag', 'C': 0.6}. Best is trial 7 with value: 0.7050727050727051.\u001b[0m\n",
      "\u001b[32m[I 2023-04-20 19:45:20,828]\u001b[0m Trial 13 finished with value: 0.6661838161838162 and parameters: {'penalty': 'l2', 'solver': 'sag', 'C': 0.30000000000000004}. Best is trial 7 with value: 0.7050727050727051.\u001b[0m\n",
      "\u001b[32m[I 2023-04-20 19:45:26,081]\u001b[0m Trial 14 finished with value: 0.6407292707292707 and parameters: {'penalty': 'l2', 'solver': 'sag', 'C': 0.2}. Best is trial 7 with value: 0.7050727050727051.\u001b[0m\n",
      "\u001b[32m[I 2023-04-20 19:45:31,339]\u001b[0m Trial 15 finished with value: 0.7050727050727051 and parameters: {'penalty': 'l2', 'solver': 'sag', 'C': 0.6}. Best is trial 7 with value: 0.7050727050727051.\u001b[0m\n",
      "\u001b[32m[I 2023-04-20 19:45:36,515]\u001b[0m Trial 16 finished with value: 0.7050727050727051 and parameters: {'penalty': 'l2', 'solver': 'sag', 'C': 0.6}. Best is trial 7 with value: 0.7050727050727051.\u001b[0m\n",
      "\u001b[32m[I 2023-04-20 19:45:41,830]\u001b[0m Trial 17 finished with value: 0.5976923076923077 and parameters: {'penalty': 'l2', 'solver': 'sag', 'C': 0.1}. Best is trial 7 with value: 0.7050727050727051.\u001b[0m\n",
      "\u001b[32m[I 2023-04-20 19:45:46,865]\u001b[0m Trial 18 finished with value: 0.6929514929514929 and parameters: {'penalty': None, 'solver': 'sag', 'C': 0.5}. Best is trial 7 with value: 0.7050727050727051.\u001b[0m\n",
      "\u001b[32m[I 2023-04-20 19:45:52,027]\u001b[0m Trial 19 finished with value: 0.7050727050727051 and parameters: {'penalty': 'l2', 'solver': 'sag', 'C': 1.0}. Best is trial 7 with value: 0.7050727050727051.\u001b[0m\n"
     ]
    },
    {
     "name": "stdout",
     "output_type": "stream",
     "text": [
      "Наилучшие значения гиперпараметров {'penalty': 'l2', 'solver': 'sag', 'C': 0.6}\n",
      "f1_score на обучающем наборе: 0.71\n"
     ]
    }
   ],
   "source": [
    "%time\n",
    "\n",
    "scoreCalc = \"cross\"\n",
    "# cоздаем объект исследования\n",
    "# можем напрямую указать, что нам необходимо максимизировать метрику direction=\"maximize\"\n",
    "study_logreg_cross = optuna.create_study(study_name=\"LogisticRegression Optuna Optimization with Cross Validation\", direction=\"maximize\")\n",
    "# ищем лучшую комбинацию гиперпараметров n_trials раз\n",
    "study_logreg_cross.optimize(optuna_optimize, n_trials=20)\n",
    "\n",
    "# выводим результаты на обучающей выборке\n",
    "print(\"Наилучшие значения гиперпараметров {}\".format(study_logreg_cross.best_params))\n",
    "print(\"f1_score на обучающем наборе: {:.2f}\".format(study_logreg_cross.best_value))"
   ]
  },
  {
   "cell_type": "code",
   "execution_count": 30,
   "metadata": {},
   "outputs": [
    {
     "name": "stdout",
     "output_type": "stream",
     "text": [
      "\u001b[94mf1_score на тренировочном наборе: \u001b[92m1.000\u001b[39m\n",
      "\u001b[94mf1_score на тестовом наборе: \u001b[92m0.875\u001b[39m\n"
     ]
    }
   ],
   "source": [
    "# рассчитаем точность для тестовой выборки\n",
    "model = linear_model.LogisticRegression(**study_logreg_cross.best_params,random_state=RANDOM_STATE, )\n",
    "model.fit(X_train, y_train)\n",
    "\n",
    "printAndSaveModelResults(model,'LogisticRegression Optuna Optimization with Cross Validation')"
   ]
  },
  {
   "attachments": {},
   "cell_type": "markdown",
   "metadata": {},
   "source": [
    "#### Случайный лес"
   ]
  },
  {
   "attachments": {},
   "cell_type": "markdown",
   "metadata": {},
   "source": [
    "##### Стандартный расчет score"
   ]
  },
  {
   "cell_type": "code",
   "execution_count": 31,
   "metadata": {},
   "outputs": [
    {
     "name": "stderr",
     "output_type": "stream",
     "text": [
      "\u001b[32m[I 2023-04-20 19:45:57,288]\u001b[0m A new study created in memory with name: RandomForestClassifier Optuna Optimization\u001b[0m\n"
     ]
    },
    {
     "name": "stdout",
     "output_type": "stream",
     "text": [
      "CPU times: total: 0 ns\n",
      "Wall time: 0 ns\n"
     ]
    },
    {
     "name": "stderr",
     "output_type": "stream",
     "text": [
      "\u001b[32m[I 2023-04-20 19:45:58,276]\u001b[0m Trial 0 finished with value: 0.7931034482758621 and parameters: {'n_estimators': 160, 'min_samples_leaf': 6, 'max_depth': 18}. Best is trial 0 with value: 0.7931034482758621.\u001b[0m\n",
      "\u001b[32m[I 2023-04-20 19:45:59,477]\u001b[0m Trial 1 finished with value: 0.6538461538461539 and parameters: {'n_estimators': 210, 'min_samples_leaf': 7, 'max_depth': 32}. Best is trial 0 with value: 0.7931034482758621.\u001b[0m\n",
      "\u001b[32m[I 2023-04-20 19:46:00,611]\u001b[0m Trial 2 finished with value: 0.8524590163934426 and parameters: {'n_estimators': 190, 'min_samples_leaf': 5, 'max_depth': 32}. Best is trial 2 with value: 0.8524590163934426.\u001b[0m\n",
      "\u001b[32m[I 2023-04-20 19:46:01,435]\u001b[0m Trial 3 finished with value: 0.955223880597015 and parameters: {'n_estimators': 130, 'min_samples_leaf': 4, 'max_depth': 30}. Best is trial 3 with value: 0.955223880597015.\u001b[0m\n",
      "\u001b[32m[I 2023-04-20 19:46:02,990]\u001b[0m Trial 4 finished with value: 0.8709677419354839 and parameters: {'n_estimators': 270, 'min_samples_leaf': 5, 'max_depth': 26}. Best is trial 3 with value: 0.955223880597015.\u001b[0m\n",
      "\u001b[32m[I 2023-04-20 19:46:03,688]\u001b[0m Trial 5 finished with value: 0.8333333333333333 and parameters: {'n_estimators': 110, 'min_samples_leaf': 5, 'max_depth': 15}. Best is trial 3 with value: 0.955223880597015.\u001b[0m\n",
      "\u001b[32m[I 2023-04-20 19:46:04,597]\u001b[0m Trial 6 finished with value: 0.8524590163934426 and parameters: {'n_estimators': 150, 'min_samples_leaf': 5, 'max_depth': 34}. Best is trial 3 with value: 0.955223880597015.\u001b[0m\n",
      "\u001b[32m[I 2023-04-20 19:46:05,493]\u001b[0m Trial 7 finished with value: 0.75 and parameters: {'n_estimators': 150, 'min_samples_leaf': 6, 'max_depth': 16}. Best is trial 3 with value: 0.955223880597015.\u001b[0m\n",
      "\u001b[32m[I 2023-04-20 19:46:06,510]\u001b[0m Trial 8 finished with value: 0.8333333333333333 and parameters: {'n_estimators': 170, 'min_samples_leaf': 5, 'max_depth': 35}. Best is trial 3 with value: 0.955223880597015.\u001b[0m\n",
      "\u001b[32m[I 2023-04-20 19:46:07,983]\u001b[0m Trial 9 finished with value: 0.6538461538461539 and parameters: {'n_estimators': 260, 'min_samples_leaf': 7, 'max_depth': 25}. Best is trial 3 with value: 0.955223880597015.\u001b[0m\n",
      "\u001b[32m[I 2023-04-20 19:46:08,649]\u001b[0m Trial 10 finished with value: 0.9705882352941176 and parameters: {'n_estimators': 100, 'min_samples_leaf': 3, 'max_depth': 39}. Best is trial 10 with value: 0.9705882352941176.\u001b[0m\n",
      "\u001b[32m[I 2023-04-20 19:46:09,370]\u001b[0m Trial 11 finished with value: 0.9705882352941176 and parameters: {'n_estimators': 110, 'min_samples_leaf': 3, 'max_depth': 40}. Best is trial 10 with value: 0.9705882352941176.\u001b[0m\n",
      "\u001b[32m[I 2023-04-20 19:46:10,040]\u001b[0m Trial 12 finished with value: 0.9705882352941176 and parameters: {'n_estimators': 100, 'min_samples_leaf': 3, 'max_depth': 40}. Best is trial 10 with value: 0.9705882352941176.\u001b[0m\n",
      "\u001b[32m[I 2023-04-20 19:46:11,423]\u001b[0m Trial 13 finished with value: 0.9850746268656716 and parameters: {'n_estimators': 230, 'min_samples_leaf': 3, 'max_depth': 40}. Best is trial 13 with value: 0.9850746268656716.\u001b[0m\n",
      "\u001b[32m[I 2023-04-20 19:46:12,852]\u001b[0m Trial 14 finished with value: 0.9850746268656716 and parameters: {'n_estimators': 230, 'min_samples_leaf': 3, 'max_depth': 37}. Best is trial 13 with value: 0.9850746268656716.\u001b[0m\n",
      "\u001b[32m[I 2023-04-20 19:46:14,218]\u001b[0m Trial 15 finished with value: 0.955223880597015 and parameters: {'n_estimators': 230, 'min_samples_leaf': 4, 'max_depth': 35}. Best is trial 13 with value: 0.9850746268656716.\u001b[0m\n",
      "\u001b[32m[I 2023-04-20 19:46:15,901]\u001b[0m Trial 16 finished with value: 0.9696969696969697 and parameters: {'n_estimators': 290, 'min_samples_leaf': 4, 'max_depth': 37}. Best is trial 13 with value: 0.9850746268656716.\u001b[0m\n",
      "\u001b[32m[I 2023-04-20 19:46:17,358]\u001b[0m Trial 17 finished with value: 0.9850746268656716 and parameters: {'n_estimators': 240, 'min_samples_leaf': 3, 'max_depth': 22}. Best is trial 13 with value: 0.9850746268656716.\u001b[0m\n",
      "\u001b[32m[I 2023-04-20 19:46:19,098]\u001b[0m Trial 18 finished with value: 0.9696969696969697 and parameters: {'n_estimators': 300, 'min_samples_leaf': 4, 'max_depth': 29}. Best is trial 13 with value: 0.9850746268656716.\u001b[0m\n",
      "\u001b[32m[I 2023-04-20 19:46:20,369]\u001b[0m Trial 19 finished with value: 0.9705882352941176 and parameters: {'n_estimators': 210, 'min_samples_leaf': 3, 'max_depth': 37}. Best is trial 13 with value: 0.9850746268656716.\u001b[0m\n"
     ]
    },
    {
     "name": "stdout",
     "output_type": "stream",
     "text": [
      "Наилучшие значения гиперпараметров {'n_estimators': 230, 'min_samples_leaf': 3, 'max_depth': 40}\n",
      "f1_score на обучающем наборе: 0.99\n"
     ]
    }
   ],
   "source": [
    "%time\n",
    "\n",
    "scoreCalc = \"standard\"\n",
    "modelType = \"ranFor\"\n",
    "# cоздаем объект исследования\n",
    "# можем напрямую указать, что нам необходимо максимизировать метрику direction=\"maximize\"\n",
    "study_ranFor = optuna.create_study(study_name=\"RandomForestClassifier Optuna Optimization\", direction=\"maximize\")\n",
    "# ищем лучшую комбинацию гиперпараметров n_trials раз\n",
    "study_ranFor.optimize(optuna_optimize, n_trials=20)\n",
    "\n",
    "# выводим результаты на обучающей выборке\n",
    "print(\"Наилучшие значения гиперпараметров {}\".format(study_ranFor.best_params))\n",
    "print(\"f1_score на обучающем наборе: {:.2f}\".format(study_ranFor.best_value))"
   ]
  },
  {
   "cell_type": "code",
   "execution_count": 32,
   "metadata": {},
   "outputs": [
    {
     "name": "stdout",
     "output_type": "stream",
     "text": [
      "\u001b[94mf1_score на тренировочном наборе: \u001b[92m0.985\u001b[39m\n",
      "\u001b[94mf1_score на тестовом наборе: \u001b[92m0.769\u001b[39m\n"
     ]
    }
   ],
   "source": [
    "# рассчитаем точность для тестовой выборки\n",
    "model = ensemble.RandomForestClassifier(**study_ranFor.best_params,random_state=RANDOM_STATE, )\n",
    "model.fit(X_train, y_train)\n",
    "\n",
    "printAndSaveModelResults(model,'RandomForestClassifier Optuna Optimization')"
   ]
  },
  {
   "attachments": {},
   "cell_type": "markdown",
   "metadata": {},
   "source": [
    "##### Кросс-валидация"
   ]
  },
  {
   "cell_type": "code",
   "execution_count": 33,
   "metadata": {},
   "outputs": [
    {
     "name": "stderr",
     "output_type": "stream",
     "text": [
      "\u001b[32m[I 2023-04-20 19:46:21,904]\u001b[0m A new study created in memory with name: RandomForestClassifier Optuna Optimization with Cross Validation\u001b[0m\n"
     ]
    },
    {
     "name": "stdout",
     "output_type": "stream",
     "text": [
      "CPU times: total: 0 ns\n",
      "Wall time: 0 ns\n"
     ]
    },
    {
     "name": "stderr",
     "output_type": "stream",
     "text": [
      "\u001b[32m[I 2023-04-20 19:46:23,337]\u001b[0m Trial 0 finished with value: 0.25 and parameters: {'n_estimators': 170, 'min_samples_leaf': 6, 'max_depth': 15}. Best is trial 0 with value: 0.25.\u001b[0m\n",
      "\u001b[32m[I 2023-04-20 19:46:25,101]\u001b[0m Trial 1 finished with value: 0.306031746031746 and parameters: {'n_estimators': 230, 'min_samples_leaf': 5, 'max_depth': 15}. Best is trial 1 with value: 0.306031746031746.\u001b[0m\n",
      "\u001b[32m[I 2023-04-20 19:46:26,612]\u001b[0m Trial 2 finished with value: 0.4833333333333333 and parameters: {'n_estimators': 180, 'min_samples_leaf': 3, 'max_depth': 39}. Best is trial 2 with value: 0.4833333333333333.\u001b[0m\n",
      "\u001b[32m[I 2023-04-20 19:46:28,335]\u001b[0m Trial 3 finished with value: 0.044444444444444446 and parameters: {'n_estimators': 230, 'min_samples_leaf': 7, 'max_depth': 38}. Best is trial 2 with value: 0.4833333333333333.\u001b[0m\n",
      "\u001b[32m[I 2023-04-20 19:46:30,440]\u001b[0m Trial 4 finished with value: 0.08 and parameters: {'n_estimators': 300, 'min_samples_leaf': 6, 'max_depth': 36}. Best is trial 2 with value: 0.4833333333333333.\u001b[0m\n",
      "\u001b[32m[I 2023-04-20 19:46:31,974]\u001b[0m Trial 5 finished with value: 0.4833333333333333 and parameters: {'n_estimators': 180, 'min_samples_leaf': 3, 'max_depth': 34}. Best is trial 2 with value: 0.4833333333333333.\u001b[0m\n",
      "\u001b[32m[I 2023-04-20 19:46:34,026]\u001b[0m Trial 6 finished with value: 0.08 and parameters: {'n_estimators': 290, 'min_samples_leaf': 6, 'max_depth': 26}. Best is trial 2 with value: 0.4833333333333333.\u001b[0m\n",
      "\u001b[32m[I 2023-04-20 19:46:36,116]\u001b[0m Trial 7 finished with value: 0.48666666666666664 and parameters: {'n_estimators': 280, 'min_samples_leaf': 3, 'max_depth': 21}. Best is trial 7 with value: 0.48666666666666664.\u001b[0m\n",
      "\u001b[32m[I 2023-04-20 19:46:37,208]\u001b[0m Trial 8 finished with value: 0.4522222222222222 and parameters: {'n_estimators': 100, 'min_samples_leaf': 3, 'max_depth': 34}. Best is trial 7 with value: 0.48666666666666664.\u001b[0m\n",
      "\u001b[32m[I 2023-04-20 19:46:38,926]\u001b[0m Trial 9 finished with value: 0.09444444444444444 and parameters: {'n_estimators': 220, 'min_samples_leaf': 7, 'max_depth': 34}. Best is trial 7 with value: 0.48666666666666664.\u001b[0m\n",
      "\u001b[32m[I 2023-04-20 19:46:40,971]\u001b[0m Trial 10 finished with value: 0.4070707070707071 and parameters: {'n_estimators': 270, 'min_samples_leaf': 4, 'max_depth': 22}. Best is trial 7 with value: 0.48666666666666664.\u001b[0m\n",
      "\u001b[32m[I 2023-04-20 19:46:42,290]\u001b[0m Trial 11 finished with value: 0.3642135642135642 and parameters: {'n_estimators': 140, 'min_samples_leaf': 4, 'max_depth': 22}. Best is trial 7 with value: 0.48666666666666664.\u001b[0m\n",
      "\u001b[32m[I 2023-04-20 19:46:44,243]\u001b[0m Trial 12 finished with value: 0.48666666666666664 and parameters: {'n_estimators': 260, 'min_samples_leaf': 3, 'max_depth': 28}. Best is trial 7 with value: 0.48666666666666664.\u001b[0m\n",
      "\u001b[32m[I 2023-04-20 19:46:46,215]\u001b[0m Trial 13 finished with value: 0.37797979797979797 and parameters: {'n_estimators': 260, 'min_samples_leaf': 4, 'max_depth': 28}. Best is trial 7 with value: 0.48666666666666664.\u001b[0m\n",
      "\u001b[32m[I 2023-04-20 19:46:48,209]\u001b[0m Trial 14 finished with value: 0.48666666666666664 and parameters: {'n_estimators': 260, 'min_samples_leaf': 3, 'max_depth': 28}. Best is trial 7 with value: 0.48666666666666664.\u001b[0m\n",
      "\u001b[32m[I 2023-04-20 19:46:50,377]\u001b[0m Trial 15 finished with value: 0.4070707070707071 and parameters: {'n_estimators': 300, 'min_samples_leaf': 4, 'max_depth': 20}. Best is trial 7 with value: 0.48666666666666664.\u001b[0m\n",
      "\u001b[32m[I 2023-04-20 19:46:52,265]\u001b[0m Trial 16 finished with value: 0.306031746031746 and parameters: {'n_estimators': 250, 'min_samples_leaf': 5, 'max_depth': 30}. Best is trial 7 with value: 0.48666666666666664.\u001b[0m\n",
      "\u001b[32m[I 2023-04-20 19:46:54,514]\u001b[0m Trial 17 finished with value: 0.48666666666666664 and parameters: {'n_estimators': 310, 'min_samples_leaf': 3, 'max_depth': 19}. Best is trial 7 with value: 0.48666666666666664.\u001b[0m\n",
      "\u001b[32m[I 2023-04-20 19:46:56,611]\u001b[0m Trial 18 finished with value: 0.4070707070707071 and parameters: {'n_estimators': 280, 'min_samples_leaf': 4, 'max_depth': 25}. Best is trial 7 with value: 0.48666666666666664.\u001b[0m\n",
      "\u001b[32m[I 2023-04-20 19:46:58,270]\u001b[0m Trial 19 finished with value: 0.31492063492063493 and parameters: {'n_estimators': 200, 'min_samples_leaf': 5, 'max_depth': 24}. Best is trial 7 with value: 0.48666666666666664.\u001b[0m\n"
     ]
    },
    {
     "name": "stdout",
     "output_type": "stream",
     "text": [
      "Наилучшие значения гиперпараметров {'n_estimators': 280, 'min_samples_leaf': 3, 'max_depth': 21}\n",
      "f1_score на обучающем наборе: 0.49\n"
     ]
    }
   ],
   "source": [
    "%time\n",
    "\n",
    "scoreCalc = \"cross\"\n",
    "\n",
    "# cоздаем объект исследования\n",
    "# можем напрямую указать, что нам необходимо максимизировать метрику direction=\"maximize\"\n",
    "study_ranFor_cross = optuna.create_study(study_name=\"RandomForestClassifier Optuna Optimization with Cross Validation\", direction=\"maximize\")\n",
    "# ищем лучшую комбинацию гиперпараметров n_trials раз\n",
    "study_ranFor_cross.optimize(optuna_optimize, n_trials=20)\n",
    "\n",
    "# выводим результаты на обучающей выборке\n",
    "print(\"Наилучшие значения гиперпараметров {}\".format(study_ranFor_cross.best_params))\n",
    "print(\"f1_score на обучающем наборе: {:.2f}\".format(study_ranFor_cross.best_value))"
   ]
  },
  {
   "cell_type": "code",
   "execution_count": 34,
   "metadata": {},
   "outputs": [
    {
     "name": "stdout",
     "output_type": "stream",
     "text": [
      "\u001b[94mf1_score на тренировочном наборе: \u001b[92m0.985\u001b[39m\n",
      "\u001b[94mf1_score на тестовом наборе: \u001b[92m0.769\u001b[39m\n"
     ]
    }
   ],
   "source": [
    "# рассчитаем точность для тестовой выборки\n",
    "model = ensemble.RandomForestClassifier(**study_ranFor_cross.best_params,random_state=RANDOM_STATE, )\n",
    "model.fit(X_train, y_train)\n",
    "\n",
    "printAndSaveModelResults(model,'RandomForestClassifier Optuna Optimization with Cross Validation')"
   ]
  },
  {
   "cell_type": "code",
   "execution_count": 35,
   "metadata": {},
   "outputs": [
    {
     "data": {
      "text/plain": [
       "True"
      ]
     },
     "execution_count": 35,
     "metadata": {},
     "output_type": "execute_result"
    }
   ],
   "source": [
    "optuna.visualization.is_available()"
   ]
  },
  {
   "attachments": {},
   "cell_type": "markdown",
   "metadata": {},
   "source": [
    "Немного графиков для одной из выборок Optuna. "
   ]
  },
  {
   "cell_type": "code",
   "execution_count": 36,
   "metadata": {},
   "outputs": [
    {
     "data": {
      "application/vnd.plotly.v1+json": {
       "config": {
        "plotlyServerURL": "https://plot.ly"
       },
       "data": [
        {
         "mode": "markers",
         "name": "f1_score",
         "type": "scatter",
         "x": [
          0,
          1,
          2,
          3,
          4,
          5,
          6,
          7,
          8,
          9,
          10,
          11,
          12,
          13,
          14,
          15,
          16,
          17,
          18,
          19
         ],
         "y": [
          0.7931034482758621,
          0.6538461538461539,
          0.8524590163934426,
          0.955223880597015,
          0.8709677419354839,
          0.8333333333333333,
          0.8524590163934426,
          0.75,
          0.8333333333333333,
          0.6538461538461539,
          0.9705882352941176,
          0.9705882352941176,
          0.9705882352941176,
          0.9850746268656716,
          0.9850746268656716,
          0.955223880597015,
          0.9696969696969697,
          0.9850746268656716,
          0.9696969696969697,
          0.9705882352941176
         ]
        },
        {
         "name": "Best Value",
         "type": "scatter",
         "x": [
          0,
          1,
          2,
          3,
          4,
          5,
          6,
          7,
          8,
          9,
          10,
          11,
          12,
          13,
          14,
          15,
          16,
          17,
          18,
          19
         ],
         "y": [
          0.7931034482758621,
          0.7931034482758621,
          0.8524590163934426,
          0.955223880597015,
          0.955223880597015,
          0.955223880597015,
          0.955223880597015,
          0.955223880597015,
          0.955223880597015,
          0.955223880597015,
          0.9705882352941176,
          0.9705882352941176,
          0.9705882352941176,
          0.9850746268656716,
          0.9850746268656716,
          0.9850746268656716,
          0.9850746268656716,
          0.9850746268656716,
          0.9850746268656716,
          0.9850746268656716
         ]
        }
       ],
       "layout": {
        "template": {
         "data": {
          "bar": [
           {
            "error_x": {
             "color": "#2a3f5f"
            },
            "error_y": {
             "color": "#2a3f5f"
            },
            "marker": {
             "line": {
              "color": "#E5ECF6",
              "width": 0.5
             },
             "pattern": {
              "fillmode": "overlay",
              "size": 10,
              "solidity": 0.2
             }
            },
            "type": "bar"
           }
          ],
          "barpolar": [
           {
            "marker": {
             "line": {
              "color": "#E5ECF6",
              "width": 0.5
             },
             "pattern": {
              "fillmode": "overlay",
              "size": 10,
              "solidity": 0.2
             }
            },
            "type": "barpolar"
           }
          ],
          "carpet": [
           {
            "aaxis": {
             "endlinecolor": "#2a3f5f",
             "gridcolor": "white",
             "linecolor": "white",
             "minorgridcolor": "white",
             "startlinecolor": "#2a3f5f"
            },
            "baxis": {
             "endlinecolor": "#2a3f5f",
             "gridcolor": "white",
             "linecolor": "white",
             "minorgridcolor": "white",
             "startlinecolor": "#2a3f5f"
            },
            "type": "carpet"
           }
          ],
          "choropleth": [
           {
            "colorbar": {
             "outlinewidth": 0,
             "ticks": ""
            },
            "type": "choropleth"
           }
          ],
          "contour": [
           {
            "colorbar": {
             "outlinewidth": 0,
             "ticks": ""
            },
            "colorscale": [
             [
              0,
              "#0d0887"
             ],
             [
              0.1111111111111111,
              "#46039f"
             ],
             [
              0.2222222222222222,
              "#7201a8"
             ],
             [
              0.3333333333333333,
              "#9c179e"
             ],
             [
              0.4444444444444444,
              "#bd3786"
             ],
             [
              0.5555555555555556,
              "#d8576b"
             ],
             [
              0.6666666666666666,
              "#ed7953"
             ],
             [
              0.7777777777777778,
              "#fb9f3a"
             ],
             [
              0.8888888888888888,
              "#fdca26"
             ],
             [
              1,
              "#f0f921"
             ]
            ],
            "type": "contour"
           }
          ],
          "contourcarpet": [
           {
            "colorbar": {
             "outlinewidth": 0,
             "ticks": ""
            },
            "type": "contourcarpet"
           }
          ],
          "heatmap": [
           {
            "colorbar": {
             "outlinewidth": 0,
             "ticks": ""
            },
            "colorscale": [
             [
              0,
              "#0d0887"
             ],
             [
              0.1111111111111111,
              "#46039f"
             ],
             [
              0.2222222222222222,
              "#7201a8"
             ],
             [
              0.3333333333333333,
              "#9c179e"
             ],
             [
              0.4444444444444444,
              "#bd3786"
             ],
             [
              0.5555555555555556,
              "#d8576b"
             ],
             [
              0.6666666666666666,
              "#ed7953"
             ],
             [
              0.7777777777777778,
              "#fb9f3a"
             ],
             [
              0.8888888888888888,
              "#fdca26"
             ],
             [
              1,
              "#f0f921"
             ]
            ],
            "type": "heatmap"
           }
          ],
          "heatmapgl": [
           {
            "colorbar": {
             "outlinewidth": 0,
             "ticks": ""
            },
            "colorscale": [
             [
              0,
              "#0d0887"
             ],
             [
              0.1111111111111111,
              "#46039f"
             ],
             [
              0.2222222222222222,
              "#7201a8"
             ],
             [
              0.3333333333333333,
              "#9c179e"
             ],
             [
              0.4444444444444444,
              "#bd3786"
             ],
             [
              0.5555555555555556,
              "#d8576b"
             ],
             [
              0.6666666666666666,
              "#ed7953"
             ],
             [
              0.7777777777777778,
              "#fb9f3a"
             ],
             [
              0.8888888888888888,
              "#fdca26"
             ],
             [
              1,
              "#f0f921"
             ]
            ],
            "type": "heatmapgl"
           }
          ],
          "histogram": [
           {
            "marker": {
             "pattern": {
              "fillmode": "overlay",
              "size": 10,
              "solidity": 0.2
             }
            },
            "type": "histogram"
           }
          ],
          "histogram2d": [
           {
            "colorbar": {
             "outlinewidth": 0,
             "ticks": ""
            },
            "colorscale": [
             [
              0,
              "#0d0887"
             ],
             [
              0.1111111111111111,
              "#46039f"
             ],
             [
              0.2222222222222222,
              "#7201a8"
             ],
             [
              0.3333333333333333,
              "#9c179e"
             ],
             [
              0.4444444444444444,
              "#bd3786"
             ],
             [
              0.5555555555555556,
              "#d8576b"
             ],
             [
              0.6666666666666666,
              "#ed7953"
             ],
             [
              0.7777777777777778,
              "#fb9f3a"
             ],
             [
              0.8888888888888888,
              "#fdca26"
             ],
             [
              1,
              "#f0f921"
             ]
            ],
            "type": "histogram2d"
           }
          ],
          "histogram2dcontour": [
           {
            "colorbar": {
             "outlinewidth": 0,
             "ticks": ""
            },
            "colorscale": [
             [
              0,
              "#0d0887"
             ],
             [
              0.1111111111111111,
              "#46039f"
             ],
             [
              0.2222222222222222,
              "#7201a8"
             ],
             [
              0.3333333333333333,
              "#9c179e"
             ],
             [
              0.4444444444444444,
              "#bd3786"
             ],
             [
              0.5555555555555556,
              "#d8576b"
             ],
             [
              0.6666666666666666,
              "#ed7953"
             ],
             [
              0.7777777777777778,
              "#fb9f3a"
             ],
             [
              0.8888888888888888,
              "#fdca26"
             ],
             [
              1,
              "#f0f921"
             ]
            ],
            "type": "histogram2dcontour"
           }
          ],
          "mesh3d": [
           {
            "colorbar": {
             "outlinewidth": 0,
             "ticks": ""
            },
            "type": "mesh3d"
           }
          ],
          "parcoords": [
           {
            "line": {
             "colorbar": {
              "outlinewidth": 0,
              "ticks": ""
             }
            },
            "type": "parcoords"
           }
          ],
          "pie": [
           {
            "automargin": true,
            "type": "pie"
           }
          ],
          "scatter": [
           {
            "fillpattern": {
             "fillmode": "overlay",
             "size": 10,
             "solidity": 0.2
            },
            "type": "scatter"
           }
          ],
          "scatter3d": [
           {
            "line": {
             "colorbar": {
              "outlinewidth": 0,
              "ticks": ""
             }
            },
            "marker": {
             "colorbar": {
              "outlinewidth": 0,
              "ticks": ""
             }
            },
            "type": "scatter3d"
           }
          ],
          "scattercarpet": [
           {
            "marker": {
             "colorbar": {
              "outlinewidth": 0,
              "ticks": ""
             }
            },
            "type": "scattercarpet"
           }
          ],
          "scattergeo": [
           {
            "marker": {
             "colorbar": {
              "outlinewidth": 0,
              "ticks": ""
             }
            },
            "type": "scattergeo"
           }
          ],
          "scattergl": [
           {
            "marker": {
             "colorbar": {
              "outlinewidth": 0,
              "ticks": ""
             }
            },
            "type": "scattergl"
           }
          ],
          "scattermapbox": [
           {
            "marker": {
             "colorbar": {
              "outlinewidth": 0,
              "ticks": ""
             }
            },
            "type": "scattermapbox"
           }
          ],
          "scatterpolar": [
           {
            "marker": {
             "colorbar": {
              "outlinewidth": 0,
              "ticks": ""
             }
            },
            "type": "scatterpolar"
           }
          ],
          "scatterpolargl": [
           {
            "marker": {
             "colorbar": {
              "outlinewidth": 0,
              "ticks": ""
             }
            },
            "type": "scatterpolargl"
           }
          ],
          "scatterternary": [
           {
            "marker": {
             "colorbar": {
              "outlinewidth": 0,
              "ticks": ""
             }
            },
            "type": "scatterternary"
           }
          ],
          "surface": [
           {
            "colorbar": {
             "outlinewidth": 0,
             "ticks": ""
            },
            "colorscale": [
             [
              0,
              "#0d0887"
             ],
             [
              0.1111111111111111,
              "#46039f"
             ],
             [
              0.2222222222222222,
              "#7201a8"
             ],
             [
              0.3333333333333333,
              "#9c179e"
             ],
             [
              0.4444444444444444,
              "#bd3786"
             ],
             [
              0.5555555555555556,
              "#d8576b"
             ],
             [
              0.6666666666666666,
              "#ed7953"
             ],
             [
              0.7777777777777778,
              "#fb9f3a"
             ],
             [
              0.8888888888888888,
              "#fdca26"
             ],
             [
              1,
              "#f0f921"
             ]
            ],
            "type": "surface"
           }
          ],
          "table": [
           {
            "cells": {
             "fill": {
              "color": "#EBF0F8"
             },
             "line": {
              "color": "white"
             }
            },
            "header": {
             "fill": {
              "color": "#C8D4E3"
             },
             "line": {
              "color": "white"
             }
            },
            "type": "table"
           }
          ]
         },
         "layout": {
          "annotationdefaults": {
           "arrowcolor": "#2a3f5f",
           "arrowhead": 0,
           "arrowwidth": 1
          },
          "autotypenumbers": "strict",
          "coloraxis": {
           "colorbar": {
            "outlinewidth": 0,
            "ticks": ""
           }
          },
          "colorscale": {
           "diverging": [
            [
             0,
             "#8e0152"
            ],
            [
             0.1,
             "#c51b7d"
            ],
            [
             0.2,
             "#de77ae"
            ],
            [
             0.3,
             "#f1b6da"
            ],
            [
             0.4,
             "#fde0ef"
            ],
            [
             0.5,
             "#f7f7f7"
            ],
            [
             0.6,
             "#e6f5d0"
            ],
            [
             0.7,
             "#b8e186"
            ],
            [
             0.8,
             "#7fbc41"
            ],
            [
             0.9,
             "#4d9221"
            ],
            [
             1,
             "#276419"
            ]
           ],
           "sequential": [
            [
             0,
             "#0d0887"
            ],
            [
             0.1111111111111111,
             "#46039f"
            ],
            [
             0.2222222222222222,
             "#7201a8"
            ],
            [
             0.3333333333333333,
             "#9c179e"
            ],
            [
             0.4444444444444444,
             "#bd3786"
            ],
            [
             0.5555555555555556,
             "#d8576b"
            ],
            [
             0.6666666666666666,
             "#ed7953"
            ],
            [
             0.7777777777777778,
             "#fb9f3a"
            ],
            [
             0.8888888888888888,
             "#fdca26"
            ],
            [
             1,
             "#f0f921"
            ]
           ],
           "sequentialminus": [
            [
             0,
             "#0d0887"
            ],
            [
             0.1111111111111111,
             "#46039f"
            ],
            [
             0.2222222222222222,
             "#7201a8"
            ],
            [
             0.3333333333333333,
             "#9c179e"
            ],
            [
             0.4444444444444444,
             "#bd3786"
            ],
            [
             0.5555555555555556,
             "#d8576b"
            ],
            [
             0.6666666666666666,
             "#ed7953"
            ],
            [
             0.7777777777777778,
             "#fb9f3a"
            ],
            [
             0.8888888888888888,
             "#fdca26"
            ],
            [
             1,
             "#f0f921"
            ]
           ]
          },
          "colorway": [
           "#636efa",
           "#EF553B",
           "#00cc96",
           "#ab63fa",
           "#FFA15A",
           "#19d3f3",
           "#FF6692",
           "#B6E880",
           "#FF97FF",
           "#FECB52"
          ],
          "font": {
           "color": "#2a3f5f"
          },
          "geo": {
           "bgcolor": "white",
           "lakecolor": "white",
           "landcolor": "#E5ECF6",
           "showlakes": true,
           "showland": true,
           "subunitcolor": "white"
          },
          "hoverlabel": {
           "align": "left"
          },
          "hovermode": "closest",
          "mapbox": {
           "style": "light"
          },
          "paper_bgcolor": "white",
          "plot_bgcolor": "#E5ECF6",
          "polar": {
           "angularaxis": {
            "gridcolor": "white",
            "linecolor": "white",
            "ticks": ""
           },
           "bgcolor": "#E5ECF6",
           "radialaxis": {
            "gridcolor": "white",
            "linecolor": "white",
            "ticks": ""
           }
          },
          "scene": {
           "xaxis": {
            "backgroundcolor": "#E5ECF6",
            "gridcolor": "white",
            "gridwidth": 2,
            "linecolor": "white",
            "showbackground": true,
            "ticks": "",
            "zerolinecolor": "white"
           },
           "yaxis": {
            "backgroundcolor": "#E5ECF6",
            "gridcolor": "white",
            "gridwidth": 2,
            "linecolor": "white",
            "showbackground": true,
            "ticks": "",
            "zerolinecolor": "white"
           },
           "zaxis": {
            "backgroundcolor": "#E5ECF6",
            "gridcolor": "white",
            "gridwidth": 2,
            "linecolor": "white",
            "showbackground": true,
            "ticks": "",
            "zerolinecolor": "white"
           }
          },
          "shapedefaults": {
           "line": {
            "color": "#2a3f5f"
           }
          },
          "ternary": {
           "aaxis": {
            "gridcolor": "white",
            "linecolor": "white",
            "ticks": ""
           },
           "baxis": {
            "gridcolor": "white",
            "linecolor": "white",
            "ticks": ""
           },
           "bgcolor": "#E5ECF6",
           "caxis": {
            "gridcolor": "white",
            "linecolor": "white",
            "ticks": ""
           }
          },
          "title": {
           "x": 0.05
          },
          "xaxis": {
           "automargin": true,
           "gridcolor": "white",
           "linecolor": "white",
           "ticks": "",
           "title": {
            "standoff": 15
           },
           "zerolinecolor": "white",
           "zerolinewidth": 2
          },
          "yaxis": {
           "automargin": true,
           "gridcolor": "white",
           "linecolor": "white",
           "ticks": "",
           "title": {
            "standoff": 15
           },
           "zerolinecolor": "white",
           "zerolinewidth": 2
          }
         }
        },
        "title": {
         "text": "Optimization History Plot"
        },
        "xaxis": {
         "title": {
          "text": "Trial"
         }
        },
        "yaxis": {
         "title": {
          "text": "f1_score"
         }
        }
       }
      }
     },
     "metadata": {},
     "output_type": "display_data"
    }
   ],
   "source": [
    "optuna.visualization.plot_optimization_history(study_ranFor, target_name=\"f1_score\")"
   ]
  },
  {
   "cell_type": "code",
   "execution_count": 37,
   "metadata": {},
   "outputs": [
    {
     "data": {
      "application/vnd.plotly.v1+json": {
       "config": {
        "plotlyServerURL": "https://plot.ly"
       },
       "data": [
        {
         "cliponaxis": false,
         "hovertemplate": [
          "n_estimators (IntDistribution): 0.011953360963409704<extra></extra>",
          "max_depth (IntDistribution): 0.02459437284438739<extra></extra>",
          "min_samples_leaf (IntDistribution): 0.963452266192203<extra></extra>"
         ],
         "marker": {
          "color": "rgb(66,146,198)"
         },
         "orientation": "h",
         "text": [
          "0.01",
          "0.02",
          "0.96"
         ],
         "textposition": "outside",
         "type": "bar",
         "x": [
          0.011953360963409704,
          0.02459437284438739,
          0.963452266192203
         ],
         "y": [
          "n_estimators",
          "max_depth",
          "min_samples_leaf"
         ]
        }
       ],
       "layout": {
        "showlegend": false,
        "template": {
         "data": {
          "bar": [
           {
            "error_x": {
             "color": "#2a3f5f"
            },
            "error_y": {
             "color": "#2a3f5f"
            },
            "marker": {
             "line": {
              "color": "#E5ECF6",
              "width": 0.5
             },
             "pattern": {
              "fillmode": "overlay",
              "size": 10,
              "solidity": 0.2
             }
            },
            "type": "bar"
           }
          ],
          "barpolar": [
           {
            "marker": {
             "line": {
              "color": "#E5ECF6",
              "width": 0.5
             },
             "pattern": {
              "fillmode": "overlay",
              "size": 10,
              "solidity": 0.2
             }
            },
            "type": "barpolar"
           }
          ],
          "carpet": [
           {
            "aaxis": {
             "endlinecolor": "#2a3f5f",
             "gridcolor": "white",
             "linecolor": "white",
             "minorgridcolor": "white",
             "startlinecolor": "#2a3f5f"
            },
            "baxis": {
             "endlinecolor": "#2a3f5f",
             "gridcolor": "white",
             "linecolor": "white",
             "minorgridcolor": "white",
             "startlinecolor": "#2a3f5f"
            },
            "type": "carpet"
           }
          ],
          "choropleth": [
           {
            "colorbar": {
             "outlinewidth": 0,
             "ticks": ""
            },
            "type": "choropleth"
           }
          ],
          "contour": [
           {
            "colorbar": {
             "outlinewidth": 0,
             "ticks": ""
            },
            "colorscale": [
             [
              0,
              "#0d0887"
             ],
             [
              0.1111111111111111,
              "#46039f"
             ],
             [
              0.2222222222222222,
              "#7201a8"
             ],
             [
              0.3333333333333333,
              "#9c179e"
             ],
             [
              0.4444444444444444,
              "#bd3786"
             ],
             [
              0.5555555555555556,
              "#d8576b"
             ],
             [
              0.6666666666666666,
              "#ed7953"
             ],
             [
              0.7777777777777778,
              "#fb9f3a"
             ],
             [
              0.8888888888888888,
              "#fdca26"
             ],
             [
              1,
              "#f0f921"
             ]
            ],
            "type": "contour"
           }
          ],
          "contourcarpet": [
           {
            "colorbar": {
             "outlinewidth": 0,
             "ticks": ""
            },
            "type": "contourcarpet"
           }
          ],
          "heatmap": [
           {
            "colorbar": {
             "outlinewidth": 0,
             "ticks": ""
            },
            "colorscale": [
             [
              0,
              "#0d0887"
             ],
             [
              0.1111111111111111,
              "#46039f"
             ],
             [
              0.2222222222222222,
              "#7201a8"
             ],
             [
              0.3333333333333333,
              "#9c179e"
             ],
             [
              0.4444444444444444,
              "#bd3786"
             ],
             [
              0.5555555555555556,
              "#d8576b"
             ],
             [
              0.6666666666666666,
              "#ed7953"
             ],
             [
              0.7777777777777778,
              "#fb9f3a"
             ],
             [
              0.8888888888888888,
              "#fdca26"
             ],
             [
              1,
              "#f0f921"
             ]
            ],
            "type": "heatmap"
           }
          ],
          "heatmapgl": [
           {
            "colorbar": {
             "outlinewidth": 0,
             "ticks": ""
            },
            "colorscale": [
             [
              0,
              "#0d0887"
             ],
             [
              0.1111111111111111,
              "#46039f"
             ],
             [
              0.2222222222222222,
              "#7201a8"
             ],
             [
              0.3333333333333333,
              "#9c179e"
             ],
             [
              0.4444444444444444,
              "#bd3786"
             ],
             [
              0.5555555555555556,
              "#d8576b"
             ],
             [
              0.6666666666666666,
              "#ed7953"
             ],
             [
              0.7777777777777778,
              "#fb9f3a"
             ],
             [
              0.8888888888888888,
              "#fdca26"
             ],
             [
              1,
              "#f0f921"
             ]
            ],
            "type": "heatmapgl"
           }
          ],
          "histogram": [
           {
            "marker": {
             "pattern": {
              "fillmode": "overlay",
              "size": 10,
              "solidity": 0.2
             }
            },
            "type": "histogram"
           }
          ],
          "histogram2d": [
           {
            "colorbar": {
             "outlinewidth": 0,
             "ticks": ""
            },
            "colorscale": [
             [
              0,
              "#0d0887"
             ],
             [
              0.1111111111111111,
              "#46039f"
             ],
             [
              0.2222222222222222,
              "#7201a8"
             ],
             [
              0.3333333333333333,
              "#9c179e"
             ],
             [
              0.4444444444444444,
              "#bd3786"
             ],
             [
              0.5555555555555556,
              "#d8576b"
             ],
             [
              0.6666666666666666,
              "#ed7953"
             ],
             [
              0.7777777777777778,
              "#fb9f3a"
             ],
             [
              0.8888888888888888,
              "#fdca26"
             ],
             [
              1,
              "#f0f921"
             ]
            ],
            "type": "histogram2d"
           }
          ],
          "histogram2dcontour": [
           {
            "colorbar": {
             "outlinewidth": 0,
             "ticks": ""
            },
            "colorscale": [
             [
              0,
              "#0d0887"
             ],
             [
              0.1111111111111111,
              "#46039f"
             ],
             [
              0.2222222222222222,
              "#7201a8"
             ],
             [
              0.3333333333333333,
              "#9c179e"
             ],
             [
              0.4444444444444444,
              "#bd3786"
             ],
             [
              0.5555555555555556,
              "#d8576b"
             ],
             [
              0.6666666666666666,
              "#ed7953"
             ],
             [
              0.7777777777777778,
              "#fb9f3a"
             ],
             [
              0.8888888888888888,
              "#fdca26"
             ],
             [
              1,
              "#f0f921"
             ]
            ],
            "type": "histogram2dcontour"
           }
          ],
          "mesh3d": [
           {
            "colorbar": {
             "outlinewidth": 0,
             "ticks": ""
            },
            "type": "mesh3d"
           }
          ],
          "parcoords": [
           {
            "line": {
             "colorbar": {
              "outlinewidth": 0,
              "ticks": ""
             }
            },
            "type": "parcoords"
           }
          ],
          "pie": [
           {
            "automargin": true,
            "type": "pie"
           }
          ],
          "scatter": [
           {
            "fillpattern": {
             "fillmode": "overlay",
             "size": 10,
             "solidity": 0.2
            },
            "type": "scatter"
           }
          ],
          "scatter3d": [
           {
            "line": {
             "colorbar": {
              "outlinewidth": 0,
              "ticks": ""
             }
            },
            "marker": {
             "colorbar": {
              "outlinewidth": 0,
              "ticks": ""
             }
            },
            "type": "scatter3d"
           }
          ],
          "scattercarpet": [
           {
            "marker": {
             "colorbar": {
              "outlinewidth": 0,
              "ticks": ""
             }
            },
            "type": "scattercarpet"
           }
          ],
          "scattergeo": [
           {
            "marker": {
             "colorbar": {
              "outlinewidth": 0,
              "ticks": ""
             }
            },
            "type": "scattergeo"
           }
          ],
          "scattergl": [
           {
            "marker": {
             "colorbar": {
              "outlinewidth": 0,
              "ticks": ""
             }
            },
            "type": "scattergl"
           }
          ],
          "scattermapbox": [
           {
            "marker": {
             "colorbar": {
              "outlinewidth": 0,
              "ticks": ""
             }
            },
            "type": "scattermapbox"
           }
          ],
          "scatterpolar": [
           {
            "marker": {
             "colorbar": {
              "outlinewidth": 0,
              "ticks": ""
             }
            },
            "type": "scatterpolar"
           }
          ],
          "scatterpolargl": [
           {
            "marker": {
             "colorbar": {
              "outlinewidth": 0,
              "ticks": ""
             }
            },
            "type": "scatterpolargl"
           }
          ],
          "scatterternary": [
           {
            "marker": {
             "colorbar": {
              "outlinewidth": 0,
              "ticks": ""
             }
            },
            "type": "scatterternary"
           }
          ],
          "surface": [
           {
            "colorbar": {
             "outlinewidth": 0,
             "ticks": ""
            },
            "colorscale": [
             [
              0,
              "#0d0887"
             ],
             [
              0.1111111111111111,
              "#46039f"
             ],
             [
              0.2222222222222222,
              "#7201a8"
             ],
             [
              0.3333333333333333,
              "#9c179e"
             ],
             [
              0.4444444444444444,
              "#bd3786"
             ],
             [
              0.5555555555555556,
              "#d8576b"
             ],
             [
              0.6666666666666666,
              "#ed7953"
             ],
             [
              0.7777777777777778,
              "#fb9f3a"
             ],
             [
              0.8888888888888888,
              "#fdca26"
             ],
             [
              1,
              "#f0f921"
             ]
            ],
            "type": "surface"
           }
          ],
          "table": [
           {
            "cells": {
             "fill": {
              "color": "#EBF0F8"
             },
             "line": {
              "color": "white"
             }
            },
            "header": {
             "fill": {
              "color": "#C8D4E3"
             },
             "line": {
              "color": "white"
             }
            },
            "type": "table"
           }
          ]
         },
         "layout": {
          "annotationdefaults": {
           "arrowcolor": "#2a3f5f",
           "arrowhead": 0,
           "arrowwidth": 1
          },
          "autotypenumbers": "strict",
          "coloraxis": {
           "colorbar": {
            "outlinewidth": 0,
            "ticks": ""
           }
          },
          "colorscale": {
           "diverging": [
            [
             0,
             "#8e0152"
            ],
            [
             0.1,
             "#c51b7d"
            ],
            [
             0.2,
             "#de77ae"
            ],
            [
             0.3,
             "#f1b6da"
            ],
            [
             0.4,
             "#fde0ef"
            ],
            [
             0.5,
             "#f7f7f7"
            ],
            [
             0.6,
             "#e6f5d0"
            ],
            [
             0.7,
             "#b8e186"
            ],
            [
             0.8,
             "#7fbc41"
            ],
            [
             0.9,
             "#4d9221"
            ],
            [
             1,
             "#276419"
            ]
           ],
           "sequential": [
            [
             0,
             "#0d0887"
            ],
            [
             0.1111111111111111,
             "#46039f"
            ],
            [
             0.2222222222222222,
             "#7201a8"
            ],
            [
             0.3333333333333333,
             "#9c179e"
            ],
            [
             0.4444444444444444,
             "#bd3786"
            ],
            [
             0.5555555555555556,
             "#d8576b"
            ],
            [
             0.6666666666666666,
             "#ed7953"
            ],
            [
             0.7777777777777778,
             "#fb9f3a"
            ],
            [
             0.8888888888888888,
             "#fdca26"
            ],
            [
             1,
             "#f0f921"
            ]
           ],
           "sequentialminus": [
            [
             0,
             "#0d0887"
            ],
            [
             0.1111111111111111,
             "#46039f"
            ],
            [
             0.2222222222222222,
             "#7201a8"
            ],
            [
             0.3333333333333333,
             "#9c179e"
            ],
            [
             0.4444444444444444,
             "#bd3786"
            ],
            [
             0.5555555555555556,
             "#d8576b"
            ],
            [
             0.6666666666666666,
             "#ed7953"
            ],
            [
             0.7777777777777778,
             "#fb9f3a"
            ],
            [
             0.8888888888888888,
             "#fdca26"
            ],
            [
             1,
             "#f0f921"
            ]
           ]
          },
          "colorway": [
           "#636efa",
           "#EF553B",
           "#00cc96",
           "#ab63fa",
           "#FFA15A",
           "#19d3f3",
           "#FF6692",
           "#B6E880",
           "#FF97FF",
           "#FECB52"
          ],
          "font": {
           "color": "#2a3f5f"
          },
          "geo": {
           "bgcolor": "white",
           "lakecolor": "white",
           "landcolor": "#E5ECF6",
           "showlakes": true,
           "showland": true,
           "subunitcolor": "white"
          },
          "hoverlabel": {
           "align": "left"
          },
          "hovermode": "closest",
          "mapbox": {
           "style": "light"
          },
          "paper_bgcolor": "white",
          "plot_bgcolor": "#E5ECF6",
          "polar": {
           "angularaxis": {
            "gridcolor": "white",
            "linecolor": "white",
            "ticks": ""
           },
           "bgcolor": "#E5ECF6",
           "radialaxis": {
            "gridcolor": "white",
            "linecolor": "white",
            "ticks": ""
           }
          },
          "scene": {
           "xaxis": {
            "backgroundcolor": "#E5ECF6",
            "gridcolor": "white",
            "gridwidth": 2,
            "linecolor": "white",
            "showbackground": true,
            "ticks": "",
            "zerolinecolor": "white"
           },
           "yaxis": {
            "backgroundcolor": "#E5ECF6",
            "gridcolor": "white",
            "gridwidth": 2,
            "linecolor": "white",
            "showbackground": true,
            "ticks": "",
            "zerolinecolor": "white"
           },
           "zaxis": {
            "backgroundcolor": "#E5ECF6",
            "gridcolor": "white",
            "gridwidth": 2,
            "linecolor": "white",
            "showbackground": true,
            "ticks": "",
            "zerolinecolor": "white"
           }
          },
          "shapedefaults": {
           "line": {
            "color": "#2a3f5f"
           }
          },
          "ternary": {
           "aaxis": {
            "gridcolor": "white",
            "linecolor": "white",
            "ticks": ""
           },
           "baxis": {
            "gridcolor": "white",
            "linecolor": "white",
            "ticks": ""
           },
           "bgcolor": "#E5ECF6",
           "caxis": {
            "gridcolor": "white",
            "linecolor": "white",
            "ticks": ""
           }
          },
          "title": {
           "x": 0.05
          },
          "xaxis": {
           "automargin": true,
           "gridcolor": "white",
           "linecolor": "white",
           "ticks": "",
           "title": {
            "standoff": 15
           },
           "zerolinecolor": "white",
           "zerolinewidth": 2
          },
          "yaxis": {
           "automargin": true,
           "gridcolor": "white",
           "linecolor": "white",
           "ticks": "",
           "title": {
            "standoff": 15
           },
           "zerolinecolor": "white",
           "zerolinewidth": 2
          }
         }
        },
        "title": {
         "text": "Hyperparameter Importances"
        },
        "xaxis": {
         "title": {
          "text": "Importance for f1_score"
         }
        },
        "yaxis": {
         "title": {
          "text": "Hyperparameter"
         }
        }
       }
      }
     },
     "metadata": {},
     "output_type": "display_data"
    }
   ],
   "source": [
    "optuna.visualization.plot_param_importances(study_ranFor, target_name=\"f1_score\")"
   ]
  },
  {
   "cell_type": "code",
   "execution_count": 38,
   "metadata": {},
   "outputs": [
    {
     "data": {
      "application/vnd.plotly.v1+json": {
       "config": {
        "plotlyServerURL": "https://plot.ly"
       },
       "data": [
        {
         "colorbar": {
          "title": {
           "text": "f1_score"
          }
         },
         "colorscale": [
          [
           0,
           "rgb(247,251,255)"
          ],
          [
           0.125,
           "rgb(222,235,247)"
          ],
          [
           0.25,
           "rgb(198,219,239)"
          ],
          [
           0.375,
           "rgb(158,202,225)"
          ],
          [
           0.5,
           "rgb(107,174,214)"
          ],
          [
           0.625,
           "rgb(66,146,198)"
          ],
          [
           0.75,
           "rgb(33,113,181)"
          ],
          [
           0.875,
           "rgb(8,81,156)"
          ],
          [
           1,
           "rgb(8,48,107)"
          ]
         ],
         "connectgaps": true,
         "contours": {
          "coloring": "heatmap"
         },
         "hoverinfo": "none",
         "line": {
          "smoothing": 1.3
         },
         "reversescale": false,
         "type": "contour",
         "x": [
          13.75,
          15,
          16,
          18,
          22,
          25,
          26,
          29,
          30,
          32,
          34,
          35,
          37,
          39,
          40,
          41.25
         ],
         "y": [
          2.8,
          3,
          4,
          5,
          6,
          7,
          7.2
         ],
         "z": [
          [
           null,
           null,
           null,
           null,
           null,
           null,
           null,
           null,
           null,
           null,
           null,
           null,
           null,
           null,
           null,
           null
          ],
          [
           null,
           null,
           null,
           null,
           0.9850746268656716,
           null,
           null,
           null,
           null,
           null,
           null,
           null,
           0.9705882352941176,
           0.9705882352941176,
           0.9850746268656716,
           null
          ],
          [
           null,
           null,
           null,
           null,
           null,
           null,
           null,
           0.9696969696969697,
           0.955223880597015,
           null,
           null,
           0.955223880597015,
           0.9696969696969697,
           null,
           null,
           null
          ],
          [
           null,
           0.8333333333333333,
           null,
           null,
           null,
           null,
           0.8709677419354839,
           null,
           null,
           0.8524590163934426,
           0.8524590163934426,
           0.8333333333333333,
           null,
           null,
           null,
           null
          ],
          [
           null,
           null,
           0.75,
           0.7931034482758621,
           null,
           null,
           null,
           null,
           null,
           null,
           null,
           null,
           null,
           null,
           null,
           null
          ],
          [
           null,
           null,
           null,
           null,
           null,
           0.6538461538461539,
           null,
           null,
           null,
           0.6538461538461539,
           null,
           null,
           null,
           null,
           null,
           null
          ],
          [
           null,
           null,
           null,
           null,
           null,
           null,
           null,
           null,
           null,
           null,
           null,
           null,
           null,
           null,
           null,
           null
          ]
         ]
        },
        {
         "marker": {
          "color": "black",
          "line": {
           "color": "Grey",
           "width": 2
          }
         },
         "mode": "markers",
         "showlegend": false,
         "type": "scatter",
         "x": [
          18,
          32,
          32,
          30,
          26,
          15,
          34,
          16,
          35,
          25,
          39,
          40,
          40,
          40,
          37,
          35,
          37,
          22,
          29,
          37
         ],
         "y": [
          6,
          7,
          5,
          4,
          5,
          5,
          5,
          6,
          5,
          7,
          3,
          3,
          3,
          3,
          3,
          4,
          4,
          3,
          4,
          3
         ]
        }
       ],
       "layout": {
        "template": {
         "data": {
          "bar": [
           {
            "error_x": {
             "color": "#2a3f5f"
            },
            "error_y": {
             "color": "#2a3f5f"
            },
            "marker": {
             "line": {
              "color": "#E5ECF6",
              "width": 0.5
             },
             "pattern": {
              "fillmode": "overlay",
              "size": 10,
              "solidity": 0.2
             }
            },
            "type": "bar"
           }
          ],
          "barpolar": [
           {
            "marker": {
             "line": {
              "color": "#E5ECF6",
              "width": 0.5
             },
             "pattern": {
              "fillmode": "overlay",
              "size": 10,
              "solidity": 0.2
             }
            },
            "type": "barpolar"
           }
          ],
          "carpet": [
           {
            "aaxis": {
             "endlinecolor": "#2a3f5f",
             "gridcolor": "white",
             "linecolor": "white",
             "minorgridcolor": "white",
             "startlinecolor": "#2a3f5f"
            },
            "baxis": {
             "endlinecolor": "#2a3f5f",
             "gridcolor": "white",
             "linecolor": "white",
             "minorgridcolor": "white",
             "startlinecolor": "#2a3f5f"
            },
            "type": "carpet"
           }
          ],
          "choropleth": [
           {
            "colorbar": {
             "outlinewidth": 0,
             "ticks": ""
            },
            "type": "choropleth"
           }
          ],
          "contour": [
           {
            "colorbar": {
             "outlinewidth": 0,
             "ticks": ""
            },
            "colorscale": [
             [
              0,
              "#0d0887"
             ],
             [
              0.1111111111111111,
              "#46039f"
             ],
             [
              0.2222222222222222,
              "#7201a8"
             ],
             [
              0.3333333333333333,
              "#9c179e"
             ],
             [
              0.4444444444444444,
              "#bd3786"
             ],
             [
              0.5555555555555556,
              "#d8576b"
             ],
             [
              0.6666666666666666,
              "#ed7953"
             ],
             [
              0.7777777777777778,
              "#fb9f3a"
             ],
             [
              0.8888888888888888,
              "#fdca26"
             ],
             [
              1,
              "#f0f921"
             ]
            ],
            "type": "contour"
           }
          ],
          "contourcarpet": [
           {
            "colorbar": {
             "outlinewidth": 0,
             "ticks": ""
            },
            "type": "contourcarpet"
           }
          ],
          "heatmap": [
           {
            "colorbar": {
             "outlinewidth": 0,
             "ticks": ""
            },
            "colorscale": [
             [
              0,
              "#0d0887"
             ],
             [
              0.1111111111111111,
              "#46039f"
             ],
             [
              0.2222222222222222,
              "#7201a8"
             ],
             [
              0.3333333333333333,
              "#9c179e"
             ],
             [
              0.4444444444444444,
              "#bd3786"
             ],
             [
              0.5555555555555556,
              "#d8576b"
             ],
             [
              0.6666666666666666,
              "#ed7953"
             ],
             [
              0.7777777777777778,
              "#fb9f3a"
             ],
             [
              0.8888888888888888,
              "#fdca26"
             ],
             [
              1,
              "#f0f921"
             ]
            ],
            "type": "heatmap"
           }
          ],
          "heatmapgl": [
           {
            "colorbar": {
             "outlinewidth": 0,
             "ticks": ""
            },
            "colorscale": [
             [
              0,
              "#0d0887"
             ],
             [
              0.1111111111111111,
              "#46039f"
             ],
             [
              0.2222222222222222,
              "#7201a8"
             ],
             [
              0.3333333333333333,
              "#9c179e"
             ],
             [
              0.4444444444444444,
              "#bd3786"
             ],
             [
              0.5555555555555556,
              "#d8576b"
             ],
             [
              0.6666666666666666,
              "#ed7953"
             ],
             [
              0.7777777777777778,
              "#fb9f3a"
             ],
             [
              0.8888888888888888,
              "#fdca26"
             ],
             [
              1,
              "#f0f921"
             ]
            ],
            "type": "heatmapgl"
           }
          ],
          "histogram": [
           {
            "marker": {
             "pattern": {
              "fillmode": "overlay",
              "size": 10,
              "solidity": 0.2
             }
            },
            "type": "histogram"
           }
          ],
          "histogram2d": [
           {
            "colorbar": {
             "outlinewidth": 0,
             "ticks": ""
            },
            "colorscale": [
             [
              0,
              "#0d0887"
             ],
             [
              0.1111111111111111,
              "#46039f"
             ],
             [
              0.2222222222222222,
              "#7201a8"
             ],
             [
              0.3333333333333333,
              "#9c179e"
             ],
             [
              0.4444444444444444,
              "#bd3786"
             ],
             [
              0.5555555555555556,
              "#d8576b"
             ],
             [
              0.6666666666666666,
              "#ed7953"
             ],
             [
              0.7777777777777778,
              "#fb9f3a"
             ],
             [
              0.8888888888888888,
              "#fdca26"
             ],
             [
              1,
              "#f0f921"
             ]
            ],
            "type": "histogram2d"
           }
          ],
          "histogram2dcontour": [
           {
            "colorbar": {
             "outlinewidth": 0,
             "ticks": ""
            },
            "colorscale": [
             [
              0,
              "#0d0887"
             ],
             [
              0.1111111111111111,
              "#46039f"
             ],
             [
              0.2222222222222222,
              "#7201a8"
             ],
             [
              0.3333333333333333,
              "#9c179e"
             ],
             [
              0.4444444444444444,
              "#bd3786"
             ],
             [
              0.5555555555555556,
              "#d8576b"
             ],
             [
              0.6666666666666666,
              "#ed7953"
             ],
             [
              0.7777777777777778,
              "#fb9f3a"
             ],
             [
              0.8888888888888888,
              "#fdca26"
             ],
             [
              1,
              "#f0f921"
             ]
            ],
            "type": "histogram2dcontour"
           }
          ],
          "mesh3d": [
           {
            "colorbar": {
             "outlinewidth": 0,
             "ticks": ""
            },
            "type": "mesh3d"
           }
          ],
          "parcoords": [
           {
            "line": {
             "colorbar": {
              "outlinewidth": 0,
              "ticks": ""
             }
            },
            "type": "parcoords"
           }
          ],
          "pie": [
           {
            "automargin": true,
            "type": "pie"
           }
          ],
          "scatter": [
           {
            "fillpattern": {
             "fillmode": "overlay",
             "size": 10,
             "solidity": 0.2
            },
            "type": "scatter"
           }
          ],
          "scatter3d": [
           {
            "line": {
             "colorbar": {
              "outlinewidth": 0,
              "ticks": ""
             }
            },
            "marker": {
             "colorbar": {
              "outlinewidth": 0,
              "ticks": ""
             }
            },
            "type": "scatter3d"
           }
          ],
          "scattercarpet": [
           {
            "marker": {
             "colorbar": {
              "outlinewidth": 0,
              "ticks": ""
             }
            },
            "type": "scattercarpet"
           }
          ],
          "scattergeo": [
           {
            "marker": {
             "colorbar": {
              "outlinewidth": 0,
              "ticks": ""
             }
            },
            "type": "scattergeo"
           }
          ],
          "scattergl": [
           {
            "marker": {
             "colorbar": {
              "outlinewidth": 0,
              "ticks": ""
             }
            },
            "type": "scattergl"
           }
          ],
          "scattermapbox": [
           {
            "marker": {
             "colorbar": {
              "outlinewidth": 0,
              "ticks": ""
             }
            },
            "type": "scattermapbox"
           }
          ],
          "scatterpolar": [
           {
            "marker": {
             "colorbar": {
              "outlinewidth": 0,
              "ticks": ""
             }
            },
            "type": "scatterpolar"
           }
          ],
          "scatterpolargl": [
           {
            "marker": {
             "colorbar": {
              "outlinewidth": 0,
              "ticks": ""
             }
            },
            "type": "scatterpolargl"
           }
          ],
          "scatterternary": [
           {
            "marker": {
             "colorbar": {
              "outlinewidth": 0,
              "ticks": ""
             }
            },
            "type": "scatterternary"
           }
          ],
          "surface": [
           {
            "colorbar": {
             "outlinewidth": 0,
             "ticks": ""
            },
            "colorscale": [
             [
              0,
              "#0d0887"
             ],
             [
              0.1111111111111111,
              "#46039f"
             ],
             [
              0.2222222222222222,
              "#7201a8"
             ],
             [
              0.3333333333333333,
              "#9c179e"
             ],
             [
              0.4444444444444444,
              "#bd3786"
             ],
             [
              0.5555555555555556,
              "#d8576b"
             ],
             [
              0.6666666666666666,
              "#ed7953"
             ],
             [
              0.7777777777777778,
              "#fb9f3a"
             ],
             [
              0.8888888888888888,
              "#fdca26"
             ],
             [
              1,
              "#f0f921"
             ]
            ],
            "type": "surface"
           }
          ],
          "table": [
           {
            "cells": {
             "fill": {
              "color": "#EBF0F8"
             },
             "line": {
              "color": "white"
             }
            },
            "header": {
             "fill": {
              "color": "#C8D4E3"
             },
             "line": {
              "color": "white"
             }
            },
            "type": "table"
           }
          ]
         },
         "layout": {
          "annotationdefaults": {
           "arrowcolor": "#2a3f5f",
           "arrowhead": 0,
           "arrowwidth": 1
          },
          "autotypenumbers": "strict",
          "coloraxis": {
           "colorbar": {
            "outlinewidth": 0,
            "ticks": ""
           }
          },
          "colorscale": {
           "diverging": [
            [
             0,
             "#8e0152"
            ],
            [
             0.1,
             "#c51b7d"
            ],
            [
             0.2,
             "#de77ae"
            ],
            [
             0.3,
             "#f1b6da"
            ],
            [
             0.4,
             "#fde0ef"
            ],
            [
             0.5,
             "#f7f7f7"
            ],
            [
             0.6,
             "#e6f5d0"
            ],
            [
             0.7,
             "#b8e186"
            ],
            [
             0.8,
             "#7fbc41"
            ],
            [
             0.9,
             "#4d9221"
            ],
            [
             1,
             "#276419"
            ]
           ],
           "sequential": [
            [
             0,
             "#0d0887"
            ],
            [
             0.1111111111111111,
             "#46039f"
            ],
            [
             0.2222222222222222,
             "#7201a8"
            ],
            [
             0.3333333333333333,
             "#9c179e"
            ],
            [
             0.4444444444444444,
             "#bd3786"
            ],
            [
             0.5555555555555556,
             "#d8576b"
            ],
            [
             0.6666666666666666,
             "#ed7953"
            ],
            [
             0.7777777777777778,
             "#fb9f3a"
            ],
            [
             0.8888888888888888,
             "#fdca26"
            ],
            [
             1,
             "#f0f921"
            ]
           ],
           "sequentialminus": [
            [
             0,
             "#0d0887"
            ],
            [
             0.1111111111111111,
             "#46039f"
            ],
            [
             0.2222222222222222,
             "#7201a8"
            ],
            [
             0.3333333333333333,
             "#9c179e"
            ],
            [
             0.4444444444444444,
             "#bd3786"
            ],
            [
             0.5555555555555556,
             "#d8576b"
            ],
            [
             0.6666666666666666,
             "#ed7953"
            ],
            [
             0.7777777777777778,
             "#fb9f3a"
            ],
            [
             0.8888888888888888,
             "#fdca26"
            ],
            [
             1,
             "#f0f921"
            ]
           ]
          },
          "colorway": [
           "#636efa",
           "#EF553B",
           "#00cc96",
           "#ab63fa",
           "#FFA15A",
           "#19d3f3",
           "#FF6692",
           "#B6E880",
           "#FF97FF",
           "#FECB52"
          ],
          "font": {
           "color": "#2a3f5f"
          },
          "geo": {
           "bgcolor": "white",
           "lakecolor": "white",
           "landcolor": "#E5ECF6",
           "showlakes": true,
           "showland": true,
           "subunitcolor": "white"
          },
          "hoverlabel": {
           "align": "left"
          },
          "hovermode": "closest",
          "mapbox": {
           "style": "light"
          },
          "paper_bgcolor": "white",
          "plot_bgcolor": "#E5ECF6",
          "polar": {
           "angularaxis": {
            "gridcolor": "white",
            "linecolor": "white",
            "ticks": ""
           },
           "bgcolor": "#E5ECF6",
           "radialaxis": {
            "gridcolor": "white",
            "linecolor": "white",
            "ticks": ""
           }
          },
          "scene": {
           "xaxis": {
            "backgroundcolor": "#E5ECF6",
            "gridcolor": "white",
            "gridwidth": 2,
            "linecolor": "white",
            "showbackground": true,
            "ticks": "",
            "zerolinecolor": "white"
           },
           "yaxis": {
            "backgroundcolor": "#E5ECF6",
            "gridcolor": "white",
            "gridwidth": 2,
            "linecolor": "white",
            "showbackground": true,
            "ticks": "",
            "zerolinecolor": "white"
           },
           "zaxis": {
            "backgroundcolor": "#E5ECF6",
            "gridcolor": "white",
            "gridwidth": 2,
            "linecolor": "white",
            "showbackground": true,
            "ticks": "",
            "zerolinecolor": "white"
           }
          },
          "shapedefaults": {
           "line": {
            "color": "#2a3f5f"
           }
          },
          "ternary": {
           "aaxis": {
            "gridcolor": "white",
            "linecolor": "white",
            "ticks": ""
           },
           "baxis": {
            "gridcolor": "white",
            "linecolor": "white",
            "ticks": ""
           },
           "bgcolor": "#E5ECF6",
           "caxis": {
            "gridcolor": "white",
            "linecolor": "white",
            "ticks": ""
           }
          },
          "title": {
           "x": 0.05
          },
          "xaxis": {
           "automargin": true,
           "gridcolor": "white",
           "linecolor": "white",
           "ticks": "",
           "title": {
            "standoff": 15
           },
           "zerolinecolor": "white",
           "zerolinewidth": 2
          },
          "yaxis": {
           "automargin": true,
           "gridcolor": "white",
           "linecolor": "white",
           "ticks": "",
           "title": {
            "standoff": 15
           },
           "zerolinecolor": "white",
           "zerolinewidth": 2
          }
         }
        },
        "title": {
         "text": "Contour Plot"
        },
        "xaxis": {
         "range": [
          13.75,
          41.25
         ],
         "title": {
          "text": "max_depth"
         }
        },
        "yaxis": {
         "range": [
          2.8,
          7.2
         ],
         "title": {
          "text": "min_samples_leaf"
         }
        }
       }
      }
     },
     "metadata": {},
     "output_type": "display_data"
    }
   ],
   "source": [
    "optuna.visualization.plot_contour(study_ranFor, params=[\"max_depth\", \"min_samples_leaf\"],\n",
    "                                  target_name=\"f1_score\")"
   ]
  },
  {
   "cell_type": "code",
   "execution_count": 39,
   "metadata": {},
   "outputs": [
    {
     "data": {
      "text/html": [
       "<style type=\"text/css\">\n",
       "#T_f834c_row0_col0, #T_f834c_row1_col0, #T_f834c_row2_col0, #T_f834c_row3_col0, #T_f834c_row4_col0, #T_f834c_row5_col0, #T_f834c_row6_col0, #T_f834c_row7_col0, #T_f834c_row8_col0 {\n",
       "  background-color: #42a6cc;\n",
       "  color: #f1f1f1;\n",
       "}\n",
       "#T_f834c_row0_col1 {\n",
       "  background-color: #6bc3c9;\n",
       "  color: #000000;\n",
       "}\n",
       "#T_f834c_row1_col1, #T_f834c_row2_col1, #T_f834c_row3_col1 {\n",
       "  background-color: #92d5bc;\n",
       "  color: #000000;\n",
       "}\n",
       "#T_f834c_row4_col1, #T_f834c_row5_col1 {\n",
       "  background-color: #9fdab8;\n",
       "  color: #000000;\n",
       "}\n",
       "#T_f834c_row6_col1, #T_f834c_row7_col1, #T_f834c_row8_col1 {\n",
       "  background-color: #b2e1b9;\n",
       "  color: #000000;\n",
       "}\n",
       "#T_f834c_row9_col0, #T_f834c_row10_col0, #T_f834c_row11_col0, #T_f834c_row12_col0, #T_f834c_row13_col0 {\n",
       "  background-color: #4aafd1;\n",
       "  color: #f1f1f1;\n",
       "}\n",
       "#T_f834c_row9_col1, #T_f834c_row10_col1, #T_f834c_row11_col1, #T_f834c_row12_col1, #T_f834c_row13_col1 {\n",
       "  background-color: #ceecc7;\n",
       "  color: #000000;\n",
       "}\n",
       "</style>\n",
       "<table id=\"T_f834c\">\n",
       "  <thead>\n",
       "    <tr>\n",
       "      <th class=\"blank level0\" >&nbsp;</th>\n",
       "      <th id=\"T_f834c_level0_col0\" class=\"col_heading level0 col0\" >result_train</th>\n",
       "      <th id=\"T_f834c_level0_col1\" class=\"col_heading level0 col1\" >result_test</th>\n",
       "    </tr>\n",
       "    <tr>\n",
       "      <th class=\"index_name level0\" >method</th>\n",
       "      <th class=\"blank col0\" >&nbsp;</th>\n",
       "      <th class=\"blank col1\" >&nbsp;</th>\n",
       "    </tr>\n",
       "  </thead>\n",
       "  <tbody>\n",
       "    <tr>\n",
       "      <th id=\"T_f834c_level0_row0\" class=\"row_heading level0 row0\" >LogisticRegression Hyperopt Optimization</th>\n",
       "      <td id=\"T_f834c_row0_col0\" class=\"data row0 col0\" >1.000000</td>\n",
       "      <td id=\"T_f834c_row0_col1\" class=\"data row0 col1\" >0.933333</td>\n",
       "    </tr>\n",
       "    <tr>\n",
       "      <th id=\"T_f834c_level0_row1\" class=\"row_heading level0 row1\" >LogisticRegression RandomSearch Optimization</th>\n",
       "      <td id=\"T_f834c_row1_col0\" class=\"data row1 col0\" >1.000000</td>\n",
       "      <td id=\"T_f834c_row1_col1\" class=\"data row1 col1\" >0.875000</td>\n",
       "    </tr>\n",
       "    <tr>\n",
       "      <th id=\"T_f834c_level0_row2\" class=\"row_heading level0 row2\" >LogisticRegression Hyperopt Optimization with Cross Validation</th>\n",
       "      <td id=\"T_f834c_row2_col0\" class=\"data row2 col0\" >1.000000</td>\n",
       "      <td id=\"T_f834c_row2_col1\" class=\"data row2 col1\" >0.875000</td>\n",
       "    </tr>\n",
       "    <tr>\n",
       "      <th id=\"T_f834c_level0_row3\" class=\"row_heading level0 row3\" >LogisticRegression Optuna Optimization with Cross Validation</th>\n",
       "      <td id=\"T_f834c_row3_col0\" class=\"data row3 col0\" >1.000000</td>\n",
       "      <td id=\"T_f834c_row3_col1\" class=\"data row3 col1\" >0.875000</td>\n",
       "    </tr>\n",
       "    <tr>\n",
       "      <th id=\"T_f834c_level0_row4\" class=\"row_heading level0 row4\" >RandomForestClassifier native</th>\n",
       "      <td id=\"T_f834c_row4_col0\" class=\"data row4 col0\" >1.000000</td>\n",
       "      <td id=\"T_f834c_row4_col1\" class=\"data row4 col1\" >0.857143</td>\n",
       "    </tr>\n",
       "    <tr>\n",
       "      <th id=\"T_f834c_level0_row5\" class=\"row_heading level0 row5\" >RandomForestClassifier Hyperopt Optimization</th>\n",
       "      <td id=\"T_f834c_row5_col0\" class=\"data row5 col0\" >1.000000</td>\n",
       "      <td id=\"T_f834c_row5_col1\" class=\"data row5 col1\" >0.857143</td>\n",
       "    </tr>\n",
       "    <tr>\n",
       "      <th id=\"T_f834c_level0_row6\" class=\"row_heading level0 row6\" >LogisticRegression native</th>\n",
       "      <td id=\"T_f834c_row6_col0\" class=\"data row6 col0\" >1.000000</td>\n",
       "      <td id=\"T_f834c_row6_col1\" class=\"data row6 col1\" >0.823529</td>\n",
       "    </tr>\n",
       "    <tr>\n",
       "      <th id=\"T_f834c_level0_row7\" class=\"row_heading level0 row7\" >LogisticRegression GridSearch Optimization</th>\n",
       "      <td id=\"T_f834c_row7_col0\" class=\"data row7 col0\" >1.000000</td>\n",
       "      <td id=\"T_f834c_row7_col1\" class=\"data row7 col1\" >0.823529</td>\n",
       "    </tr>\n",
       "    <tr>\n",
       "      <th id=\"T_f834c_level0_row8\" class=\"row_heading level0 row8\" >LogisticRegression Optuna Optimization</th>\n",
       "      <td id=\"T_f834c_row8_col0\" class=\"data row8 col0\" >1.000000</td>\n",
       "      <td id=\"T_f834c_row8_col1\" class=\"data row8 col1\" >0.823529</td>\n",
       "    </tr>\n",
       "    <tr>\n",
       "      <th id=\"T_f834c_level0_row9\" class=\"row_heading level0 row9\" >RandomForestClassifier GridSearch Optimization</th>\n",
       "      <td id=\"T_f834c_row9_col0\" class=\"data row9 col0\" >0.985075</td>\n",
       "      <td id=\"T_f834c_row9_col1\" class=\"data row9 col1\" >0.769231</td>\n",
       "    </tr>\n",
       "    <tr>\n",
       "      <th id=\"T_f834c_level0_row10\" class=\"row_heading level0 row10\" >RandomForestClassifier RandomSearch Optimization</th>\n",
       "      <td id=\"T_f834c_row10_col0\" class=\"data row10 col0\" >0.985075</td>\n",
       "      <td id=\"T_f834c_row10_col1\" class=\"data row10 col1\" >0.769231</td>\n",
       "    </tr>\n",
       "    <tr>\n",
       "      <th id=\"T_f834c_level0_row11\" class=\"row_heading level0 row11\" >RandomForestClassifier Hyperopt Optimization with Crossvalidation</th>\n",
       "      <td id=\"T_f834c_row11_col0\" class=\"data row11 col0\" >0.985075</td>\n",
       "      <td id=\"T_f834c_row11_col1\" class=\"data row11 col1\" >0.769231</td>\n",
       "    </tr>\n",
       "    <tr>\n",
       "      <th id=\"T_f834c_level0_row12\" class=\"row_heading level0 row12\" >RandomForestClassifier Optuna Optimization</th>\n",
       "      <td id=\"T_f834c_row12_col0\" class=\"data row12 col0\" >0.985075</td>\n",
       "      <td id=\"T_f834c_row12_col1\" class=\"data row12 col1\" >0.769231</td>\n",
       "    </tr>\n",
       "    <tr>\n",
       "      <th id=\"T_f834c_level0_row13\" class=\"row_heading level0 row13\" >RandomForestClassifier Optuna Optimization with Cross Validation</th>\n",
       "      <td id=\"T_f834c_row13_col0\" class=\"data row13 col0\" >0.985075</td>\n",
       "      <td id=\"T_f834c_row13_col1\" class=\"data row13 col1\" >0.769231</td>\n",
       "    </tr>\n",
       "  </tbody>\n",
       "</table>\n"
      ],
      "text/plain": [
       "<pandas.io.formats.style.Styler at 0x16aa3144390>"
      ]
     },
     "metadata": {},
     "output_type": "display_data"
    }
   ],
   "source": [
    "resultf1ScoreData = pd.DataFrame(f1_score_results).set_index('method').sort_values(by='result_test',ascending=False)\n",
    "\n",
    "display(resultf1ScoreData.\\\n",
    "        style.background_gradient(\\\n",
    "        axis=0, cmap='GnBu',\n",
    "        low = 0.8,\n",
    "        high=0.9,\n",
    "        vmin = 0.8,\n",
    "        vmax = 1))"
   ]
  },
  {
   "attachments": {},
   "cell_type": "markdown",
   "metadata": {},
   "source": [
    "## Немного выводов (хотя по заданию их вроде не надо)\n",
    "\n",
    "* Обе модели(Логистической регрессии и Случайный лес) показали не самые худшие результаты. Т.е значения обучения по умолчанию, можно сказать, подобраны достаточно оптимально\n",
    "* Также, важно отметить, что к подбору параметров также надо относится \"с головой\", так как видно из таблицы выше, мы также и испортили предсказательные особенности в некоторых случаях\n",
    "* В нашем случае LogisticRegression в большинстве случаев показала лучшие результаты"
   ]
  },
  {
   "attachments": {},
   "cell_type": "markdown",
   "metadata": {},
   "source": [
    "Попробуем немного поиграться на отсающем RandomForestClassifier\n",
    "\n",
    "Учитывая что f1_train всегда очень высокая, поменяю расчет f1_score на test.\n",
    "Также, увеличу диапазон минимального количества листьев, так как алгоритм считает это важным параметром."
   ]
  },
  {
   "cell_type": "code",
   "execution_count": 50,
   "metadata": {},
   "outputs": [],
   "source": [
    "def optuna_optimize_improvement(trial):\n",
    "  \n",
    "  n_estimators = trial.suggest_int('n_estimators', 100, 310, 10)\n",
    "  min_samples_leaf = trial.suggest_int('min_samples_leaf', 1, 15, 1)\n",
    "  max_depth = trial.suggest_int('max_depth', 15, 40, 1)\n",
    "\n",
    "    # создаем модель\n",
    "  model = ensemble.RandomForestClassifier(n_estimators=n_estimators,\n",
    "                                          max_depth=max_depth,\n",
    "                                          min_samples_leaf=min_samples_leaf,\n",
    "                                          random_state=RANDOM_STATE)\n",
    "  model.fit(X_train, y_train)\n",
    "  score = metrics.f1_score(y_test, model.predict(X_test))\n",
    "  # score = cross_val_score(model, X_train, y_train, cv = 5, scoring=\"f1\", n_jobs = -1).mean()  \n",
    "  return score"
   ]
  },
  {
   "cell_type": "code",
   "execution_count": 51,
   "metadata": {},
   "outputs": [
    {
     "name": "stderr",
     "output_type": "stream",
     "text": [
      "\u001b[32m[I 2023-04-20 20:15:51,904]\u001b[0m A new study created in memory with name: RandomForestClassifier Optuna Optimization Improved\u001b[0m\n"
     ]
    },
    {
     "name": "stdout",
     "output_type": "stream",
     "text": [
      "CPU times: total: 0 ns\n",
      "Wall time: 0 ns\n"
     ]
    },
    {
     "name": "stderr",
     "output_type": "stream",
     "text": [
      "\u001b[32m[I 2023-04-20 20:15:53,729]\u001b[0m Trial 0 finished with value: 0.6666666666666666 and parameters: {'n_estimators': 310, 'min_samples_leaf': 7, 'max_depth': 22}. Best is trial 0 with value: 0.6666666666666666.\u001b[0m\n",
      "\u001b[32m[I 2023-04-20 20:15:55,660]\u001b[0m Trial 1 finished with value: 0.8571428571428571 and parameters: {'n_estimators': 300, 'min_samples_leaf': 1, 'max_depth': 39}. Best is trial 1 with value: 0.8571428571428571.\u001b[0m\n",
      "\u001b[32m[I 2023-04-20 20:15:56,902]\u001b[0m Trial 2 finished with value: 0.8571428571428571 and parameters: {'n_estimators': 210, 'min_samples_leaf': 2, 'max_depth': 19}. Best is trial 1 with value: 0.8571428571428571.\u001b[0m\n",
      "\u001b[32m[I 2023-04-20 20:15:58,443]\u001b[0m Trial 3 finished with value: 0.0 and parameters: {'n_estimators': 280, 'min_samples_leaf': 14, 'max_depth': 27}. Best is trial 1 with value: 0.8571428571428571.\u001b[0m\n",
      "\u001b[32m[I 2023-04-20 20:15:59,437]\u001b[0m Trial 4 finished with value: 0.9333333333333333 and parameters: {'n_estimators': 160, 'min_samples_leaf': 1, 'max_depth': 21}. Best is trial 4 with value: 0.9333333333333333.\u001b[0m\n",
      "\u001b[32m[I 2023-04-20 20:16:00,304]\u001b[0m Trial 5 finished with value: 0.6666666666666666 and parameters: {'n_estimators': 140, 'min_samples_leaf': 7, 'max_depth': 17}. Best is trial 4 with value: 0.9333333333333333.\u001b[0m\n",
      "\u001b[32m[I 2023-04-20 20:16:01,053]\u001b[0m Trial 6 finished with value: 0.7692307692307693 and parameters: {'n_estimators': 110, 'min_samples_leaf': 4, 'max_depth': 29}. Best is trial 4 with value: 0.9333333333333333.\u001b[0m\n",
      "\u001b[32m[I 2023-04-20 20:16:02,326]\u001b[0m Trial 7 finished with value: 0.8571428571428571 and parameters: {'n_estimators': 210, 'min_samples_leaf': 2, 'max_depth': 36}. Best is trial 4 with value: 0.9333333333333333.\u001b[0m\n",
      "\u001b[32m[I 2023-04-20 20:16:03,984]\u001b[0m Trial 8 finished with value: 0.6666666666666666 and parameters: {'n_estimators': 300, 'min_samples_leaf': 6, 'max_depth': 17}. Best is trial 4 with value: 0.9333333333333333.\u001b[0m\n",
      "\u001b[32m[I 2023-04-20 20:16:05,452]\u001b[0m Trial 9 finished with value: 0.0 and parameters: {'n_estimators': 260, 'min_samples_leaf': 15, 'max_depth': 25}. Best is trial 4 with value: 0.9333333333333333.\u001b[0m\n",
      "\u001b[32m[I 2023-04-20 20:16:06,351]\u001b[0m Trial 10 finished with value: 0.2222222222222222 and parameters: {'n_estimators': 160, 'min_samples_leaf': 11, 'max_depth': 32}. Best is trial 4 with value: 0.9333333333333333.\u001b[0m\n",
      "\u001b[32m[I 2023-04-20 20:16:07,384]\u001b[0m Trial 11 finished with value: 0.9333333333333333 and parameters: {'n_estimators': 170, 'min_samples_leaf': 1, 'max_depth': 40}. Best is trial 4 with value: 0.9333333333333333.\u001b[0m\n",
      "\u001b[32m[I 2023-04-20 20:16:08,388]\u001b[0m Trial 12 finished with value: 0.7692307692307693 and parameters: {'n_estimators': 170, 'min_samples_leaf': 4, 'max_depth': 33}. Best is trial 4 with value: 0.9333333333333333.\u001b[0m\n",
      "\u001b[32m[I 2023-04-20 20:16:09,379]\u001b[0m Trial 13 finished with value: 0.5454545454545454 and parameters: {'n_estimators': 180, 'min_samples_leaf': 10, 'max_depth': 23}. Best is trial 4 with value: 0.9333333333333333.\u001b[0m\n",
      "\u001b[32m[I 2023-04-20 20:16:10,061]\u001b[0m Trial 14 finished with value: 0.7692307692307693 and parameters: {'n_estimators': 110, 'min_samples_leaf': 4, 'max_depth': 40}. Best is trial 4 with value: 0.9333333333333333.\u001b[0m\n",
      "\u001b[32m[I 2023-04-20 20:16:11,539]\u001b[0m Trial 15 finished with value: 0.8571428571428571 and parameters: {'n_estimators': 250, 'min_samples_leaf': 1, 'max_depth': 21}. Best is trial 4 with value: 0.9333333333333333.\u001b[0m\n",
      "\u001b[32m[I 2023-04-20 20:16:12,328]\u001b[0m Trial 16 finished with value: 0.5454545454545454 and parameters: {'n_estimators': 140, 'min_samples_leaf': 10, 'max_depth': 30}. Best is trial 4 with value: 0.9333333333333333.\u001b[0m\n",
      "\u001b[32m[I 2023-04-20 20:16:13,400]\u001b[0m Trial 17 finished with value: 0.6666666666666666 and parameters: {'n_estimators': 190, 'min_samples_leaf': 5, 'max_depth': 26}. Best is trial 4 with value: 0.9333333333333333.\u001b[0m\n",
      "\u001b[32m[I 2023-04-20 20:16:14,744]\u001b[0m Trial 18 finished with value: 0.7692307692307693 and parameters: {'n_estimators': 230, 'min_samples_leaf': 3, 'max_depth': 15}. Best is trial 4 with value: 0.9333333333333333.\u001b[0m\n",
      "\u001b[32m[I 2023-04-20 20:16:15,729]\u001b[0m Trial 19 finished with value: 0.9333333333333333 and parameters: {'n_estimators': 160, 'min_samples_leaf': 1, 'max_depth': 36}. Best is trial 4 with value: 0.9333333333333333.\u001b[0m\n",
      "\u001b[32m[I 2023-04-20 20:16:16,473]\u001b[0m Trial 20 finished with value: 0.5454545454545454 and parameters: {'n_estimators': 130, 'min_samples_leaf': 9, 'max_depth': 24}. Best is trial 4 with value: 0.9333333333333333.\u001b[0m\n",
      "\u001b[32m[I 2023-04-20 20:16:17,450]\u001b[0m Trial 21 finished with value: 0.9333333333333333 and parameters: {'n_estimators': 160, 'min_samples_leaf': 1, 'max_depth': 37}. Best is trial 4 with value: 0.9333333333333333.\u001b[0m\n",
      "\u001b[32m[I 2023-04-20 20:16:18,565]\u001b[0m Trial 22 finished with value: 0.7692307692307693 and parameters: {'n_estimators': 190, 'min_samples_leaf': 3, 'max_depth': 35}. Best is trial 4 with value: 0.9333333333333333.\u001b[0m\n",
      "\u001b[32m[I 2023-04-20 20:16:19,468]\u001b[0m Trial 23 finished with value: 0.8571428571428571 and parameters: {'n_estimators': 150, 'min_samples_leaf': 2, 'max_depth': 39}. Best is trial 4 with value: 0.9333333333333333.\u001b[0m\n",
      "\u001b[32m[I 2023-04-20 20:16:20,263]\u001b[0m Trial 24 finished with value: 0.7692307692307693 and parameters: {'n_estimators': 130, 'min_samples_leaf': 3, 'max_depth': 34}. Best is trial 4 with value: 0.9333333333333333.\u001b[0m\n",
      "\u001b[32m[I 2023-04-20 20:16:21,407]\u001b[0m Trial 25 finished with value: 0.8571428571428571 and parameters: {'n_estimators': 190, 'min_samples_leaf': 1, 'max_depth': 37}. Best is trial 4 with value: 0.9333333333333333.\u001b[0m\n",
      "\u001b[32m[I 2023-04-20 20:16:22,377]\u001b[0m Trial 26 finished with value: 0.7692307692307693 and parameters: {'n_estimators': 170, 'min_samples_leaf': 5, 'max_depth': 31}. Best is trial 4 with value: 0.9333333333333333.\u001b[0m\n",
      "\u001b[32m[I 2023-04-20 20:16:22,966]\u001b[0m Trial 27 finished with value: 0.0 and parameters: {'n_estimators': 100, 'min_samples_leaf': 12, 'max_depth': 38}. Best is trial 4 with value: 0.9333333333333333.\u001b[0m\n",
      "\u001b[32m[I 2023-04-20 20:16:24,263]\u001b[0m Trial 28 finished with value: 0.8571428571428571 and parameters: {'n_estimators': 220, 'min_samples_leaf': 2, 'max_depth': 28}. Best is trial 4 with value: 0.9333333333333333.\u001b[0m\n",
      "\u001b[32m[I 2023-04-20 20:16:24,974]\u001b[0m Trial 29 finished with value: 0.6666666666666666 and parameters: {'n_estimators': 120, 'min_samples_leaf': 7, 'max_depth': 21}. Best is trial 4 with value: 0.9333333333333333.\u001b[0m\n",
      "\u001b[32m[I 2023-04-20 20:16:25,853]\u001b[0m Trial 30 finished with value: 0.6666666666666666 and parameters: {'n_estimators': 150, 'min_samples_leaf': 5, 'max_depth': 35}. Best is trial 4 with value: 0.9333333333333333.\u001b[0m\n",
      "\u001b[32m[I 2023-04-20 20:16:26,834]\u001b[0m Trial 31 finished with value: 0.9333333333333333 and parameters: {'n_estimators': 160, 'min_samples_leaf': 1, 'max_depth': 37}. Best is trial 4 with value: 0.9333333333333333.\u001b[0m\n",
      "\u001b[32m[I 2023-04-20 20:16:27,867]\u001b[0m Trial 32 finished with value: 0.9333333333333333 and parameters: {'n_estimators': 170, 'min_samples_leaf': 1, 'max_depth': 40}. Best is trial 4 with value: 0.9333333333333333.\u001b[0m\n",
      "\u001b[32m[I 2023-04-20 20:16:29,028]\u001b[0m Trial 33 finished with value: 0.7692307692307693 and parameters: {'n_estimators': 200, 'min_samples_leaf': 3, 'max_depth': 38}. Best is trial 4 with value: 0.9333333333333333.\u001b[0m\n",
      "\u001b[32m[I 2023-04-20 20:16:29,959]\u001b[0m Trial 34 finished with value: 0.9333333333333333 and parameters: {'n_estimators': 150, 'min_samples_leaf': 1, 'max_depth': 33}. Best is trial 4 with value: 0.9333333333333333.\u001b[0m\n",
      "\u001b[32m[I 2023-04-20 20:16:31,033]\u001b[0m Trial 35 finished with value: 0.8571428571428571 and parameters: {'n_estimators': 180, 'min_samples_leaf': 2, 'max_depth': 40}. Best is trial 4 with value: 0.9333333333333333.\u001b[0m\n",
      "\u001b[32m[I 2023-04-20 20:16:31,822]\u001b[0m Trial 36 finished with value: 0.7692307692307693 and parameters: {'n_estimators': 130, 'min_samples_leaf': 3, 'max_depth': 36}. Best is trial 4 with value: 0.9333333333333333.\u001b[0m\n",
      "\u001b[32m[I 2023-04-20 20:16:32,780]\u001b[0m Trial 37 finished with value: 0.8571428571428571 and parameters: {'n_estimators': 160, 'min_samples_leaf': 2, 'max_depth': 19}. Best is trial 4 with value: 0.9333333333333333.\u001b[0m\n",
      "\u001b[32m[I 2023-04-20 20:16:33,602]\u001b[0m Trial 38 finished with value: 0.7692307692307693 and parameters: {'n_estimators': 140, 'min_samples_leaf': 4, 'max_depth': 38}. Best is trial 4 with value: 0.9333333333333333.\u001b[0m\n",
      "\u001b[32m[I 2023-04-20 20:16:34,709]\u001b[0m Trial 39 finished with value: 0.6666666666666666 and parameters: {'n_estimators': 200, 'min_samples_leaf': 6, 'max_depth': 28}. Best is trial 4 with value: 0.9333333333333333.\u001b[0m\n",
      "\u001b[32m[I 2023-04-20 20:16:35,702]\u001b[0m Trial 40 finished with value: 0.0 and parameters: {'n_estimators': 180, 'min_samples_leaf': 13, 'max_depth': 36}. Best is trial 4 with value: 0.9333333333333333.\u001b[0m\n",
      "\u001b[32m[I 2023-04-20 20:16:36,678]\u001b[0m Trial 41 finished with value: 0.9333333333333333 and parameters: {'n_estimators': 160, 'min_samples_leaf': 1, 'max_depth': 37}. Best is trial 4 with value: 0.9333333333333333.\u001b[0m\n",
      "\u001b[32m[I 2023-04-20 20:16:37,599]\u001b[0m Trial 42 finished with value: 0.9333333333333333 and parameters: {'n_estimators': 150, 'min_samples_leaf': 1, 'max_depth': 34}. Best is trial 4 with value: 0.9333333333333333.\u001b[0m\n",
      "\u001b[32m[I 2023-04-20 20:16:38,589]\u001b[0m Trial 43 finished with value: 0.8571428571428571 and parameters: {'n_estimators': 160, 'min_samples_leaf': 2, 'max_depth': 39}. Best is trial 4 with value: 0.9333333333333333.\u001b[0m\n",
      "\u001b[32m[I 2023-04-20 20:16:39,436]\u001b[0m Trial 44 finished with value: 0.8571428571428571 and parameters: {'n_estimators': 140, 'min_samples_leaf': 2, 'max_depth': 37}. Best is trial 4 with value: 0.9333333333333333.\u001b[0m\n",
      "\u001b[32m[I 2023-04-20 20:16:40,477]\u001b[0m Trial 45 finished with value: 0.9333333333333333 and parameters: {'n_estimators': 170, 'min_samples_leaf': 1, 'max_depth': 32}. Best is trial 4 with value: 0.9333333333333333.\u001b[0m\n",
      "\u001b[32m[I 2023-04-20 20:16:41,786]\u001b[0m Trial 46 finished with value: 0.8571428571428571 and parameters: {'n_estimators': 220, 'min_samples_leaf': 1, 'max_depth': 19}. Best is trial 4 with value: 0.9333333333333333.\u001b[0m\n",
      "\u001b[32m[I 2023-04-20 20:16:42,522]\u001b[0m Trial 47 finished with value: 0.7692307692307693 and parameters: {'n_estimators': 120, 'min_samples_leaf': 3, 'max_depth': 35}. Best is trial 4 with value: 0.9333333333333333.\u001b[0m\n",
      "\u001b[32m[I 2023-04-20 20:16:43,548]\u001b[0m Trial 48 finished with value: 0.7692307692307693 and parameters: {'n_estimators': 180, 'min_samples_leaf': 4, 'max_depth': 30}. Best is trial 4 with value: 0.9333333333333333.\u001b[0m\n",
      "\u001b[32m[I 2023-04-20 20:16:45,306]\u001b[0m Trial 49 finished with value: 0.8571428571428571 and parameters: {'n_estimators': 300, 'min_samples_leaf': 2, 'max_depth': 26}. Best is trial 4 with value: 0.9333333333333333.\u001b[0m\n"
     ]
    },
    {
     "name": "stdout",
     "output_type": "stream",
     "text": [
      "Наилучшие значения гиперпараметров {'n_estimators': 160, 'min_samples_leaf': 1, 'max_depth': 21}\n",
      "f1_score на обучающем наборе: 0.93\n"
     ]
    }
   ],
   "source": [
    "%time\n",
    "\n",
    "# cоздаем объект исследования\n",
    "# можем напрямую указать, что нам необходимо максимизировать метрику direction=\"maximize\"\n",
    "study_ranFor_opt = optuna.create_study(study_name=\"RandomForestClassifier Optuna Optimization Improved\", direction=\"maximize\")\n",
    "# ищем лучшую комбинацию гиперпараметров n_trials раз\n",
    "study_ranFor_opt.optimize(optuna_optimize_improvement, n_trials=50)\n",
    "\n",
    "# выводим результаты на обучающей выборке\n",
    "print(\"Наилучшие значения гиперпараметров {}\".format(study_ranFor_opt.best_params))\n",
    "print(\"f1_score на обучающем наборе: {:.2f}\".format(study_ranFor_opt.best_value))"
   ]
  },
  {
   "attachments": {},
   "cell_type": "markdown",
   "metadata": {},
   "source": [
    "Как мы видим один из лучших вариантов имеет минимальное кол-во листьев 1. До этого мы рассматривали только диапазон [3,5,7]"
   ]
  },
  {
   "cell_type": "code",
   "execution_count": 52,
   "metadata": {},
   "outputs": [
    {
     "data": {
      "text/html": [
       "<style>#sk-container-id-3 {color: black;background-color: white;}#sk-container-id-3 pre{padding: 0;}#sk-container-id-3 div.sk-toggleable {background-color: white;}#sk-container-id-3 label.sk-toggleable__label {cursor: pointer;display: block;width: 100%;margin-bottom: 0;padding: 0.3em;box-sizing: border-box;text-align: center;}#sk-container-id-3 label.sk-toggleable__label-arrow:before {content: \"▸\";float: left;margin-right: 0.25em;color: #696969;}#sk-container-id-3 label.sk-toggleable__label-arrow:hover:before {color: black;}#sk-container-id-3 div.sk-estimator:hover label.sk-toggleable__label-arrow:before {color: black;}#sk-container-id-3 div.sk-toggleable__content {max-height: 0;max-width: 0;overflow: hidden;text-align: left;background-color: #f0f8ff;}#sk-container-id-3 div.sk-toggleable__content pre {margin: 0.2em;color: black;border-radius: 0.25em;background-color: #f0f8ff;}#sk-container-id-3 input.sk-toggleable__control:checked~div.sk-toggleable__content {max-height: 200px;max-width: 100%;overflow: auto;}#sk-container-id-3 input.sk-toggleable__control:checked~label.sk-toggleable__label-arrow:before {content: \"▾\";}#sk-container-id-3 div.sk-estimator input.sk-toggleable__control:checked~label.sk-toggleable__label {background-color: #d4ebff;}#sk-container-id-3 div.sk-label input.sk-toggleable__control:checked~label.sk-toggleable__label {background-color: #d4ebff;}#sk-container-id-3 input.sk-hidden--visually {border: 0;clip: rect(1px 1px 1px 1px);clip: rect(1px, 1px, 1px, 1px);height: 1px;margin: -1px;overflow: hidden;padding: 0;position: absolute;width: 1px;}#sk-container-id-3 div.sk-estimator {font-family: monospace;background-color: #f0f8ff;border: 1px dotted black;border-radius: 0.25em;box-sizing: border-box;margin-bottom: 0.5em;}#sk-container-id-3 div.sk-estimator:hover {background-color: #d4ebff;}#sk-container-id-3 div.sk-parallel-item::after {content: \"\";width: 100%;border-bottom: 1px solid gray;flex-grow: 1;}#sk-container-id-3 div.sk-label:hover label.sk-toggleable__label {background-color: #d4ebff;}#sk-container-id-3 div.sk-serial::before {content: \"\";position: absolute;border-left: 1px solid gray;box-sizing: border-box;top: 0;bottom: 0;left: 50%;z-index: 0;}#sk-container-id-3 div.sk-serial {display: flex;flex-direction: column;align-items: center;background-color: white;padding-right: 0.2em;padding-left: 0.2em;position: relative;}#sk-container-id-3 div.sk-item {position: relative;z-index: 1;}#sk-container-id-3 div.sk-parallel {display: flex;align-items: stretch;justify-content: center;background-color: white;position: relative;}#sk-container-id-3 div.sk-item::before, #sk-container-id-3 div.sk-parallel-item::before {content: \"\";position: absolute;border-left: 1px solid gray;box-sizing: border-box;top: 0;bottom: 0;left: 50%;z-index: -1;}#sk-container-id-3 div.sk-parallel-item {display: flex;flex-direction: column;z-index: 1;position: relative;background-color: white;}#sk-container-id-3 div.sk-parallel-item:first-child::after {align-self: flex-end;width: 50%;}#sk-container-id-3 div.sk-parallel-item:last-child::after {align-self: flex-start;width: 50%;}#sk-container-id-3 div.sk-parallel-item:only-child::after {width: 0;}#sk-container-id-3 div.sk-dashed-wrapped {border: 1px dashed gray;margin: 0 0.4em 0.5em 0.4em;box-sizing: border-box;padding-bottom: 0.4em;background-color: white;}#sk-container-id-3 div.sk-label label {font-family: monospace;font-weight: bold;display: inline-block;line-height: 1.2em;}#sk-container-id-3 div.sk-label-container {text-align: center;}#sk-container-id-3 div.sk-container {/* jupyter's `normalize.less` sets `[hidden] { display: none; }` but bootstrap.min.css set `[hidden] { display: none !important; }` so we also need the `!important` here to be able to override the default hidden behavior on the sphinx rendered scikit-learn.org. See: https://github.com/scikit-learn/scikit-learn/issues/21755 */display: inline-block !important;position: relative;}#sk-container-id-3 div.sk-text-repr-fallback {display: none;}</style><div id=\"sk-container-id-3\" class=\"sk-top-container\"><div class=\"sk-text-repr-fallback\"><pre>RandomForestClassifier(max_depth=21, n_estimators=160, random_state=42)</pre><b>In a Jupyter environment, please rerun this cell to show the HTML representation or trust the notebook. <br />On GitHub, the HTML representation is unable to render, please try loading this page with nbviewer.org.</b></div><div class=\"sk-container\" hidden><div class=\"sk-item\"><div class=\"sk-estimator sk-toggleable\"><input class=\"sk-toggleable__control sk-hidden--visually\" id=\"sk-estimator-id-3\" type=\"checkbox\" checked><label for=\"sk-estimator-id-3\" class=\"sk-toggleable__label sk-toggleable__label-arrow\">RandomForestClassifier</label><div class=\"sk-toggleable__content\"><pre>RandomForestClassifier(max_depth=21, n_estimators=160, random_state=42)</pre></div></div></div></div></div>"
      ],
      "text/plain": [
       "RandomForestClassifier(max_depth=21, n_estimators=160, random_state=42)"
      ]
     },
     "execution_count": 52,
     "metadata": {},
     "output_type": "execute_result"
    }
   ],
   "source": [
    "# рассчитаем точность для тестовой выборки\n",
    "model = ensemble.RandomForestClassifier(**study_ranFor_opt.best_params,random_state=RANDOM_STATE, )\n",
    "model.fit(X_train, y_train)"
   ]
  },
  {
   "cell_type": "code",
   "execution_count": 53,
   "metadata": {},
   "outputs": [
    {
     "name": "stdout",
     "output_type": "stream",
     "text": [
      "\u001b[94mf1_score на тренировочном наборе: \u001b[92m1.000\u001b[39m\n",
      "\u001b[94mf1_score на тестовом наборе: \u001b[92m0.933\u001b[39m\n"
     ]
    }
   ],
   "source": [
    "y_train_pred = model.predict(X_train)\n",
    "metrics_train = metrics.f1_score(y_train, y_train_pred).round(6)\n",
    "print(f\"{Fore.LIGHTBLUE_EX}f1_score на тренировочном наборе: {Fore.LIGHTGREEN_EX}{metrics_train:.3f}{Fore.RESET}\")\n",
    "y_test_pred = model.predict(X_test)\n",
    "metrics_test = metrics.f1_score(y_test, y_test_pred).round(6)\n",
    "print(f\"{Fore.LIGHTBLUE_EX}f1_score на тестовом наборе: {Fore.LIGHTGREEN_EX}{metrics_test:.3f}{Fore.RESET}\")\n"
   ]
  },
  {
   "cell_type": "code",
   "execution_count": 54,
   "metadata": {},
   "outputs": [],
   "source": [
    "f1_score_results.append({'result_train': metrics_train,\n",
    "                           'result_test': metrics_test,\n",
    "                          'method': 'RandomForestClassifier Optuna Optimization Improved'})"
   ]
  },
  {
   "attachments": {},
   "cell_type": "markdown",
   "metadata": {},
   "source": [
    "Посмотрим еще раз на результаты\n",
    "Как видно, путем \"разумной\" оптимизации гиперпараметров, мы получили ТОП 1 результат по f1_score метрике для RandomForestClassifier"
   ]
  },
  {
   "cell_type": "code",
   "execution_count": 55,
   "metadata": {},
   "outputs": [
    {
     "data": {
      "text/html": [
       "<style type=\"text/css\">\n",
       "#T_aece7_row0_col0, #T_aece7_row1_col0, #T_aece7_row2_col0, #T_aece7_row3_col0, #T_aece7_row4_col0, #T_aece7_row5_col0, #T_aece7_row6_col0, #T_aece7_row7_col0, #T_aece7_row8_col0, #T_aece7_row9_col0 {\n",
       "  background-color: #42a6cc;\n",
       "  color: #f1f1f1;\n",
       "}\n",
       "#T_aece7_row0_col1, #T_aece7_row1_col1 {\n",
       "  background-color: #6bc3c9;\n",
       "  color: #000000;\n",
       "}\n",
       "#T_aece7_row2_col1, #T_aece7_row3_col1, #T_aece7_row4_col1 {\n",
       "  background-color: #92d5bc;\n",
       "  color: #000000;\n",
       "}\n",
       "#T_aece7_row5_col1, #T_aece7_row6_col1 {\n",
       "  background-color: #9fdab8;\n",
       "  color: #000000;\n",
       "}\n",
       "#T_aece7_row7_col1, #T_aece7_row8_col1, #T_aece7_row9_col1 {\n",
       "  background-color: #b2e1b9;\n",
       "  color: #000000;\n",
       "}\n",
       "#T_aece7_row10_col0, #T_aece7_row11_col0, #T_aece7_row12_col0, #T_aece7_row13_col0, #T_aece7_row14_col0 {\n",
       "  background-color: #4aafd1;\n",
       "  color: #f1f1f1;\n",
       "}\n",
       "#T_aece7_row10_col1, #T_aece7_row11_col1, #T_aece7_row12_col1, #T_aece7_row13_col1, #T_aece7_row14_col1 {\n",
       "  background-color: #ceecc7;\n",
       "  color: #000000;\n",
       "}\n",
       "</style>\n",
       "<table id=\"T_aece7\">\n",
       "  <thead>\n",
       "    <tr>\n",
       "      <th class=\"blank level0\" >&nbsp;</th>\n",
       "      <th id=\"T_aece7_level0_col0\" class=\"col_heading level0 col0\" >result_train</th>\n",
       "      <th id=\"T_aece7_level0_col1\" class=\"col_heading level0 col1\" >result_test</th>\n",
       "    </tr>\n",
       "    <tr>\n",
       "      <th class=\"index_name level0\" >method</th>\n",
       "      <th class=\"blank col0\" >&nbsp;</th>\n",
       "      <th class=\"blank col1\" >&nbsp;</th>\n",
       "    </tr>\n",
       "  </thead>\n",
       "  <tbody>\n",
       "    <tr>\n",
       "      <th id=\"T_aece7_level0_row0\" class=\"row_heading level0 row0\" >LogisticRegression Hyperopt Optimization</th>\n",
       "      <td id=\"T_aece7_row0_col0\" class=\"data row0 col0\" >1.000000</td>\n",
       "      <td id=\"T_aece7_row0_col1\" class=\"data row0 col1\" >0.933333</td>\n",
       "    </tr>\n",
       "    <tr>\n",
       "      <th id=\"T_aece7_level0_row1\" class=\"row_heading level0 row1\" >RandomForestClassifier Optuna Optimization Improved</th>\n",
       "      <td id=\"T_aece7_row1_col0\" class=\"data row1 col0\" >1.000000</td>\n",
       "      <td id=\"T_aece7_row1_col1\" class=\"data row1 col1\" >0.933333</td>\n",
       "    </tr>\n",
       "    <tr>\n",
       "      <th id=\"T_aece7_level0_row2\" class=\"row_heading level0 row2\" >LogisticRegression RandomSearch Optimization</th>\n",
       "      <td id=\"T_aece7_row2_col0\" class=\"data row2 col0\" >1.000000</td>\n",
       "      <td id=\"T_aece7_row2_col1\" class=\"data row2 col1\" >0.875000</td>\n",
       "    </tr>\n",
       "    <tr>\n",
       "      <th id=\"T_aece7_level0_row3\" class=\"row_heading level0 row3\" >LogisticRegression Hyperopt Optimization with Cross Validation</th>\n",
       "      <td id=\"T_aece7_row3_col0\" class=\"data row3 col0\" >1.000000</td>\n",
       "      <td id=\"T_aece7_row3_col1\" class=\"data row3 col1\" >0.875000</td>\n",
       "    </tr>\n",
       "    <tr>\n",
       "      <th id=\"T_aece7_level0_row4\" class=\"row_heading level0 row4\" >LogisticRegression Optuna Optimization with Cross Validation</th>\n",
       "      <td id=\"T_aece7_row4_col0\" class=\"data row4 col0\" >1.000000</td>\n",
       "      <td id=\"T_aece7_row4_col1\" class=\"data row4 col1\" >0.875000</td>\n",
       "    </tr>\n",
       "    <tr>\n",
       "      <th id=\"T_aece7_level0_row5\" class=\"row_heading level0 row5\" >RandomForestClassifier native</th>\n",
       "      <td id=\"T_aece7_row5_col0\" class=\"data row5 col0\" >1.000000</td>\n",
       "      <td id=\"T_aece7_row5_col1\" class=\"data row5 col1\" >0.857143</td>\n",
       "    </tr>\n",
       "    <tr>\n",
       "      <th id=\"T_aece7_level0_row6\" class=\"row_heading level0 row6\" >RandomForestClassifier Hyperopt Optimization</th>\n",
       "      <td id=\"T_aece7_row6_col0\" class=\"data row6 col0\" >1.000000</td>\n",
       "      <td id=\"T_aece7_row6_col1\" class=\"data row6 col1\" >0.857143</td>\n",
       "    </tr>\n",
       "    <tr>\n",
       "      <th id=\"T_aece7_level0_row7\" class=\"row_heading level0 row7\" >LogisticRegression native</th>\n",
       "      <td id=\"T_aece7_row7_col0\" class=\"data row7 col0\" >1.000000</td>\n",
       "      <td id=\"T_aece7_row7_col1\" class=\"data row7 col1\" >0.823529</td>\n",
       "    </tr>\n",
       "    <tr>\n",
       "      <th id=\"T_aece7_level0_row8\" class=\"row_heading level0 row8\" >LogisticRegression GridSearch Optimization</th>\n",
       "      <td id=\"T_aece7_row8_col0\" class=\"data row8 col0\" >1.000000</td>\n",
       "      <td id=\"T_aece7_row8_col1\" class=\"data row8 col1\" >0.823529</td>\n",
       "    </tr>\n",
       "    <tr>\n",
       "      <th id=\"T_aece7_level0_row9\" class=\"row_heading level0 row9\" >LogisticRegression Optuna Optimization</th>\n",
       "      <td id=\"T_aece7_row9_col0\" class=\"data row9 col0\" >1.000000</td>\n",
       "      <td id=\"T_aece7_row9_col1\" class=\"data row9 col1\" >0.823529</td>\n",
       "    </tr>\n",
       "    <tr>\n",
       "      <th id=\"T_aece7_level0_row10\" class=\"row_heading level0 row10\" >RandomForestClassifier GridSearch Optimization</th>\n",
       "      <td id=\"T_aece7_row10_col0\" class=\"data row10 col0\" >0.985075</td>\n",
       "      <td id=\"T_aece7_row10_col1\" class=\"data row10 col1\" >0.769231</td>\n",
       "    </tr>\n",
       "    <tr>\n",
       "      <th id=\"T_aece7_level0_row11\" class=\"row_heading level0 row11\" >RandomForestClassifier RandomSearch Optimization</th>\n",
       "      <td id=\"T_aece7_row11_col0\" class=\"data row11 col0\" >0.985075</td>\n",
       "      <td id=\"T_aece7_row11_col1\" class=\"data row11 col1\" >0.769231</td>\n",
       "    </tr>\n",
       "    <tr>\n",
       "      <th id=\"T_aece7_level0_row12\" class=\"row_heading level0 row12\" >RandomForestClassifier Hyperopt Optimization with Crossvalidation</th>\n",
       "      <td id=\"T_aece7_row12_col0\" class=\"data row12 col0\" >0.985075</td>\n",
       "      <td id=\"T_aece7_row12_col1\" class=\"data row12 col1\" >0.769231</td>\n",
       "    </tr>\n",
       "    <tr>\n",
       "      <th id=\"T_aece7_level0_row13\" class=\"row_heading level0 row13\" >RandomForestClassifier Optuna Optimization</th>\n",
       "      <td id=\"T_aece7_row13_col0\" class=\"data row13 col0\" >0.985075</td>\n",
       "      <td id=\"T_aece7_row13_col1\" class=\"data row13 col1\" >0.769231</td>\n",
       "    </tr>\n",
       "    <tr>\n",
       "      <th id=\"T_aece7_level0_row14\" class=\"row_heading level0 row14\" >RandomForestClassifier Optuna Optimization with Cross Validation</th>\n",
       "      <td id=\"T_aece7_row14_col0\" class=\"data row14 col0\" >0.985075</td>\n",
       "      <td id=\"T_aece7_row14_col1\" class=\"data row14 col1\" >0.769231</td>\n",
       "    </tr>\n",
       "  </tbody>\n",
       "</table>\n"
      ],
      "text/plain": [
       "<pandas.io.formats.style.Styler at 0x16a99275c10>"
      ]
     },
     "metadata": {},
     "output_type": "display_data"
    }
   ],
   "source": [
    "resultf1ScoreData = pd.DataFrame(f1_score_results).set_index('method').sort_values(by='result_test',ascending=False)\n",
    "\n",
    "display(resultf1ScoreData.\\\n",
    "        style.background_gradient(\\\n",
    "        axis=0, cmap='GnBu',\n",
    "        low = 0.8,\n",
    "        high=0.9,\n",
    "        vmin = 0.8,\n",
    "        vmax = 1))"
   ]
  },
  {
   "attachments": {},
   "cell_type": "markdown",
   "metadata": {},
   "source": [
    "И напоследок графики\n",
    "\n",
    "* Как видно, максимального f1_score мы уже добились примерно на 5-6 иттерации\n",
    "* Важность минимального кол-ва листьев выросла аж до 99%\n",
    "* Четко проглядывается, что f1_score улучшается при уменьшении листьев до 1-2 и увеличением глубины дерева. Ярко выраженные две области в правом нижнем углу на последнем графике\n",
    "\n",
    "Так что можно смело заявить, оптимизация гиперпараметров может достаточно сильно улучшить качество модели, при правильном использовании"
   ]
  },
  {
   "cell_type": "code",
   "execution_count": 56,
   "metadata": {},
   "outputs": [
    {
     "data": {
      "application/vnd.plotly.v1+json": {
       "config": {
        "plotlyServerURL": "https://plot.ly"
       },
       "data": [
        {
         "mode": "markers",
         "name": "f1_score",
         "type": "scatter",
         "x": [
          0,
          1,
          2,
          3,
          4,
          5,
          6,
          7,
          8,
          9,
          10,
          11,
          12,
          13,
          14,
          15,
          16,
          17,
          18,
          19,
          20,
          21,
          22,
          23,
          24,
          25,
          26,
          27,
          28,
          29,
          30,
          31,
          32,
          33,
          34,
          35,
          36,
          37,
          38,
          39,
          40,
          41,
          42,
          43,
          44,
          45,
          46,
          47,
          48,
          49
         ],
         "y": [
          0.6666666666666666,
          0.8571428571428571,
          0.8571428571428571,
          0,
          0.9333333333333333,
          0.6666666666666666,
          0.7692307692307693,
          0.8571428571428571,
          0.6666666666666666,
          0,
          0.2222222222222222,
          0.9333333333333333,
          0.7692307692307693,
          0.5454545454545454,
          0.7692307692307693,
          0.8571428571428571,
          0.5454545454545454,
          0.6666666666666666,
          0.7692307692307693,
          0.9333333333333333,
          0.5454545454545454,
          0.9333333333333333,
          0.7692307692307693,
          0.8571428571428571,
          0.7692307692307693,
          0.8571428571428571,
          0.7692307692307693,
          0,
          0.8571428571428571,
          0.6666666666666666,
          0.6666666666666666,
          0.9333333333333333,
          0.9333333333333333,
          0.7692307692307693,
          0.9333333333333333,
          0.8571428571428571,
          0.7692307692307693,
          0.8571428571428571,
          0.7692307692307693,
          0.6666666666666666,
          0,
          0.9333333333333333,
          0.9333333333333333,
          0.8571428571428571,
          0.8571428571428571,
          0.9333333333333333,
          0.8571428571428571,
          0.7692307692307693,
          0.7692307692307693,
          0.8571428571428571
         ]
        },
        {
         "name": "Best Value",
         "type": "scatter",
         "x": [
          0,
          1,
          2,
          3,
          4,
          5,
          6,
          7,
          8,
          9,
          10,
          11,
          12,
          13,
          14,
          15,
          16,
          17,
          18,
          19,
          20,
          21,
          22,
          23,
          24,
          25,
          26,
          27,
          28,
          29,
          30,
          31,
          32,
          33,
          34,
          35,
          36,
          37,
          38,
          39,
          40,
          41,
          42,
          43,
          44,
          45,
          46,
          47,
          48,
          49
         ],
         "y": [
          0.6666666666666666,
          0.8571428571428571,
          0.8571428571428571,
          0.8571428571428571,
          0.9333333333333333,
          0.9333333333333333,
          0.9333333333333333,
          0.9333333333333333,
          0.9333333333333333,
          0.9333333333333333,
          0.9333333333333333,
          0.9333333333333333,
          0.9333333333333333,
          0.9333333333333333,
          0.9333333333333333,
          0.9333333333333333,
          0.9333333333333333,
          0.9333333333333333,
          0.9333333333333333,
          0.9333333333333333,
          0.9333333333333333,
          0.9333333333333333,
          0.9333333333333333,
          0.9333333333333333,
          0.9333333333333333,
          0.9333333333333333,
          0.9333333333333333,
          0.9333333333333333,
          0.9333333333333333,
          0.9333333333333333,
          0.9333333333333333,
          0.9333333333333333,
          0.9333333333333333,
          0.9333333333333333,
          0.9333333333333333,
          0.9333333333333333,
          0.9333333333333333,
          0.9333333333333333,
          0.9333333333333333,
          0.9333333333333333,
          0.9333333333333333,
          0.9333333333333333,
          0.9333333333333333,
          0.9333333333333333,
          0.9333333333333333,
          0.9333333333333333,
          0.9333333333333333,
          0.9333333333333333,
          0.9333333333333333,
          0.9333333333333333
         ]
        }
       ],
       "layout": {
        "template": {
         "data": {
          "bar": [
           {
            "error_x": {
             "color": "#2a3f5f"
            },
            "error_y": {
             "color": "#2a3f5f"
            },
            "marker": {
             "line": {
              "color": "#E5ECF6",
              "width": 0.5
             },
             "pattern": {
              "fillmode": "overlay",
              "size": 10,
              "solidity": 0.2
             }
            },
            "type": "bar"
           }
          ],
          "barpolar": [
           {
            "marker": {
             "line": {
              "color": "#E5ECF6",
              "width": 0.5
             },
             "pattern": {
              "fillmode": "overlay",
              "size": 10,
              "solidity": 0.2
             }
            },
            "type": "barpolar"
           }
          ],
          "carpet": [
           {
            "aaxis": {
             "endlinecolor": "#2a3f5f",
             "gridcolor": "white",
             "linecolor": "white",
             "minorgridcolor": "white",
             "startlinecolor": "#2a3f5f"
            },
            "baxis": {
             "endlinecolor": "#2a3f5f",
             "gridcolor": "white",
             "linecolor": "white",
             "minorgridcolor": "white",
             "startlinecolor": "#2a3f5f"
            },
            "type": "carpet"
           }
          ],
          "choropleth": [
           {
            "colorbar": {
             "outlinewidth": 0,
             "ticks": ""
            },
            "type": "choropleth"
           }
          ],
          "contour": [
           {
            "colorbar": {
             "outlinewidth": 0,
             "ticks": ""
            },
            "colorscale": [
             [
              0,
              "#0d0887"
             ],
             [
              0.1111111111111111,
              "#46039f"
             ],
             [
              0.2222222222222222,
              "#7201a8"
             ],
             [
              0.3333333333333333,
              "#9c179e"
             ],
             [
              0.4444444444444444,
              "#bd3786"
             ],
             [
              0.5555555555555556,
              "#d8576b"
             ],
             [
              0.6666666666666666,
              "#ed7953"
             ],
             [
              0.7777777777777778,
              "#fb9f3a"
             ],
             [
              0.8888888888888888,
              "#fdca26"
             ],
             [
              1,
              "#f0f921"
             ]
            ],
            "type": "contour"
           }
          ],
          "contourcarpet": [
           {
            "colorbar": {
             "outlinewidth": 0,
             "ticks": ""
            },
            "type": "contourcarpet"
           }
          ],
          "heatmap": [
           {
            "colorbar": {
             "outlinewidth": 0,
             "ticks": ""
            },
            "colorscale": [
             [
              0,
              "#0d0887"
             ],
             [
              0.1111111111111111,
              "#46039f"
             ],
             [
              0.2222222222222222,
              "#7201a8"
             ],
             [
              0.3333333333333333,
              "#9c179e"
             ],
             [
              0.4444444444444444,
              "#bd3786"
             ],
             [
              0.5555555555555556,
              "#d8576b"
             ],
             [
              0.6666666666666666,
              "#ed7953"
             ],
             [
              0.7777777777777778,
              "#fb9f3a"
             ],
             [
              0.8888888888888888,
              "#fdca26"
             ],
             [
              1,
              "#f0f921"
             ]
            ],
            "type": "heatmap"
           }
          ],
          "heatmapgl": [
           {
            "colorbar": {
             "outlinewidth": 0,
             "ticks": ""
            },
            "colorscale": [
             [
              0,
              "#0d0887"
             ],
             [
              0.1111111111111111,
              "#46039f"
             ],
             [
              0.2222222222222222,
              "#7201a8"
             ],
             [
              0.3333333333333333,
              "#9c179e"
             ],
             [
              0.4444444444444444,
              "#bd3786"
             ],
             [
              0.5555555555555556,
              "#d8576b"
             ],
             [
              0.6666666666666666,
              "#ed7953"
             ],
             [
              0.7777777777777778,
              "#fb9f3a"
             ],
             [
              0.8888888888888888,
              "#fdca26"
             ],
             [
              1,
              "#f0f921"
             ]
            ],
            "type": "heatmapgl"
           }
          ],
          "histogram": [
           {
            "marker": {
             "pattern": {
              "fillmode": "overlay",
              "size": 10,
              "solidity": 0.2
             }
            },
            "type": "histogram"
           }
          ],
          "histogram2d": [
           {
            "colorbar": {
             "outlinewidth": 0,
             "ticks": ""
            },
            "colorscale": [
             [
              0,
              "#0d0887"
             ],
             [
              0.1111111111111111,
              "#46039f"
             ],
             [
              0.2222222222222222,
              "#7201a8"
             ],
             [
              0.3333333333333333,
              "#9c179e"
             ],
             [
              0.4444444444444444,
              "#bd3786"
             ],
             [
              0.5555555555555556,
              "#d8576b"
             ],
             [
              0.6666666666666666,
              "#ed7953"
             ],
             [
              0.7777777777777778,
              "#fb9f3a"
             ],
             [
              0.8888888888888888,
              "#fdca26"
             ],
             [
              1,
              "#f0f921"
             ]
            ],
            "type": "histogram2d"
           }
          ],
          "histogram2dcontour": [
           {
            "colorbar": {
             "outlinewidth": 0,
             "ticks": ""
            },
            "colorscale": [
             [
              0,
              "#0d0887"
             ],
             [
              0.1111111111111111,
              "#46039f"
             ],
             [
              0.2222222222222222,
              "#7201a8"
             ],
             [
              0.3333333333333333,
              "#9c179e"
             ],
             [
              0.4444444444444444,
              "#bd3786"
             ],
             [
              0.5555555555555556,
              "#d8576b"
             ],
             [
              0.6666666666666666,
              "#ed7953"
             ],
             [
              0.7777777777777778,
              "#fb9f3a"
             ],
             [
              0.8888888888888888,
              "#fdca26"
             ],
             [
              1,
              "#f0f921"
             ]
            ],
            "type": "histogram2dcontour"
           }
          ],
          "mesh3d": [
           {
            "colorbar": {
             "outlinewidth": 0,
             "ticks": ""
            },
            "type": "mesh3d"
           }
          ],
          "parcoords": [
           {
            "line": {
             "colorbar": {
              "outlinewidth": 0,
              "ticks": ""
             }
            },
            "type": "parcoords"
           }
          ],
          "pie": [
           {
            "automargin": true,
            "type": "pie"
           }
          ],
          "scatter": [
           {
            "fillpattern": {
             "fillmode": "overlay",
             "size": 10,
             "solidity": 0.2
            },
            "type": "scatter"
           }
          ],
          "scatter3d": [
           {
            "line": {
             "colorbar": {
              "outlinewidth": 0,
              "ticks": ""
             }
            },
            "marker": {
             "colorbar": {
              "outlinewidth": 0,
              "ticks": ""
             }
            },
            "type": "scatter3d"
           }
          ],
          "scattercarpet": [
           {
            "marker": {
             "colorbar": {
              "outlinewidth": 0,
              "ticks": ""
             }
            },
            "type": "scattercarpet"
           }
          ],
          "scattergeo": [
           {
            "marker": {
             "colorbar": {
              "outlinewidth": 0,
              "ticks": ""
             }
            },
            "type": "scattergeo"
           }
          ],
          "scattergl": [
           {
            "marker": {
             "colorbar": {
              "outlinewidth": 0,
              "ticks": ""
             }
            },
            "type": "scattergl"
           }
          ],
          "scattermapbox": [
           {
            "marker": {
             "colorbar": {
              "outlinewidth": 0,
              "ticks": ""
             }
            },
            "type": "scattermapbox"
           }
          ],
          "scatterpolar": [
           {
            "marker": {
             "colorbar": {
              "outlinewidth": 0,
              "ticks": ""
             }
            },
            "type": "scatterpolar"
           }
          ],
          "scatterpolargl": [
           {
            "marker": {
             "colorbar": {
              "outlinewidth": 0,
              "ticks": ""
             }
            },
            "type": "scatterpolargl"
           }
          ],
          "scatterternary": [
           {
            "marker": {
             "colorbar": {
              "outlinewidth": 0,
              "ticks": ""
             }
            },
            "type": "scatterternary"
           }
          ],
          "surface": [
           {
            "colorbar": {
             "outlinewidth": 0,
             "ticks": ""
            },
            "colorscale": [
             [
              0,
              "#0d0887"
             ],
             [
              0.1111111111111111,
              "#46039f"
             ],
             [
              0.2222222222222222,
              "#7201a8"
             ],
             [
              0.3333333333333333,
              "#9c179e"
             ],
             [
              0.4444444444444444,
              "#bd3786"
             ],
             [
              0.5555555555555556,
              "#d8576b"
             ],
             [
              0.6666666666666666,
              "#ed7953"
             ],
             [
              0.7777777777777778,
              "#fb9f3a"
             ],
             [
              0.8888888888888888,
              "#fdca26"
             ],
             [
              1,
              "#f0f921"
             ]
            ],
            "type": "surface"
           }
          ],
          "table": [
           {
            "cells": {
             "fill": {
              "color": "#EBF0F8"
             },
             "line": {
              "color": "white"
             }
            },
            "header": {
             "fill": {
              "color": "#C8D4E3"
             },
             "line": {
              "color": "white"
             }
            },
            "type": "table"
           }
          ]
         },
         "layout": {
          "annotationdefaults": {
           "arrowcolor": "#2a3f5f",
           "arrowhead": 0,
           "arrowwidth": 1
          },
          "autotypenumbers": "strict",
          "coloraxis": {
           "colorbar": {
            "outlinewidth": 0,
            "ticks": ""
           }
          },
          "colorscale": {
           "diverging": [
            [
             0,
             "#8e0152"
            ],
            [
             0.1,
             "#c51b7d"
            ],
            [
             0.2,
             "#de77ae"
            ],
            [
             0.3,
             "#f1b6da"
            ],
            [
             0.4,
             "#fde0ef"
            ],
            [
             0.5,
             "#f7f7f7"
            ],
            [
             0.6,
             "#e6f5d0"
            ],
            [
             0.7,
             "#b8e186"
            ],
            [
             0.8,
             "#7fbc41"
            ],
            [
             0.9,
             "#4d9221"
            ],
            [
             1,
             "#276419"
            ]
           ],
           "sequential": [
            [
             0,
             "#0d0887"
            ],
            [
             0.1111111111111111,
             "#46039f"
            ],
            [
             0.2222222222222222,
             "#7201a8"
            ],
            [
             0.3333333333333333,
             "#9c179e"
            ],
            [
             0.4444444444444444,
             "#bd3786"
            ],
            [
             0.5555555555555556,
             "#d8576b"
            ],
            [
             0.6666666666666666,
             "#ed7953"
            ],
            [
             0.7777777777777778,
             "#fb9f3a"
            ],
            [
             0.8888888888888888,
             "#fdca26"
            ],
            [
             1,
             "#f0f921"
            ]
           ],
           "sequentialminus": [
            [
             0,
             "#0d0887"
            ],
            [
             0.1111111111111111,
             "#46039f"
            ],
            [
             0.2222222222222222,
             "#7201a8"
            ],
            [
             0.3333333333333333,
             "#9c179e"
            ],
            [
             0.4444444444444444,
             "#bd3786"
            ],
            [
             0.5555555555555556,
             "#d8576b"
            ],
            [
             0.6666666666666666,
             "#ed7953"
            ],
            [
             0.7777777777777778,
             "#fb9f3a"
            ],
            [
             0.8888888888888888,
             "#fdca26"
            ],
            [
             1,
             "#f0f921"
            ]
           ]
          },
          "colorway": [
           "#636efa",
           "#EF553B",
           "#00cc96",
           "#ab63fa",
           "#FFA15A",
           "#19d3f3",
           "#FF6692",
           "#B6E880",
           "#FF97FF",
           "#FECB52"
          ],
          "font": {
           "color": "#2a3f5f"
          },
          "geo": {
           "bgcolor": "white",
           "lakecolor": "white",
           "landcolor": "#E5ECF6",
           "showlakes": true,
           "showland": true,
           "subunitcolor": "white"
          },
          "hoverlabel": {
           "align": "left"
          },
          "hovermode": "closest",
          "mapbox": {
           "style": "light"
          },
          "paper_bgcolor": "white",
          "plot_bgcolor": "#E5ECF6",
          "polar": {
           "angularaxis": {
            "gridcolor": "white",
            "linecolor": "white",
            "ticks": ""
           },
           "bgcolor": "#E5ECF6",
           "radialaxis": {
            "gridcolor": "white",
            "linecolor": "white",
            "ticks": ""
           }
          },
          "scene": {
           "xaxis": {
            "backgroundcolor": "#E5ECF6",
            "gridcolor": "white",
            "gridwidth": 2,
            "linecolor": "white",
            "showbackground": true,
            "ticks": "",
            "zerolinecolor": "white"
           },
           "yaxis": {
            "backgroundcolor": "#E5ECF6",
            "gridcolor": "white",
            "gridwidth": 2,
            "linecolor": "white",
            "showbackground": true,
            "ticks": "",
            "zerolinecolor": "white"
           },
           "zaxis": {
            "backgroundcolor": "#E5ECF6",
            "gridcolor": "white",
            "gridwidth": 2,
            "linecolor": "white",
            "showbackground": true,
            "ticks": "",
            "zerolinecolor": "white"
           }
          },
          "shapedefaults": {
           "line": {
            "color": "#2a3f5f"
           }
          },
          "ternary": {
           "aaxis": {
            "gridcolor": "white",
            "linecolor": "white",
            "ticks": ""
           },
           "baxis": {
            "gridcolor": "white",
            "linecolor": "white",
            "ticks": ""
           },
           "bgcolor": "#E5ECF6",
           "caxis": {
            "gridcolor": "white",
            "linecolor": "white",
            "ticks": ""
           }
          },
          "title": {
           "x": 0.05
          },
          "xaxis": {
           "automargin": true,
           "gridcolor": "white",
           "linecolor": "white",
           "ticks": "",
           "title": {
            "standoff": 15
           },
           "zerolinecolor": "white",
           "zerolinewidth": 2
          },
          "yaxis": {
           "automargin": true,
           "gridcolor": "white",
           "linecolor": "white",
           "ticks": "",
           "title": {
            "standoff": 15
           },
           "zerolinecolor": "white",
           "zerolinewidth": 2
          }
         }
        },
        "title": {
         "text": "Optimization History Plot"
        },
        "xaxis": {
         "title": {
          "text": "Trial"
         }
        },
        "yaxis": {
         "title": {
          "text": "f1_score"
         }
        }
       }
      }
     },
     "metadata": {},
     "output_type": "display_data"
    }
   ],
   "source": [
    "optuna.visualization.plot_optimization_history(study_ranFor_opt, target_name=\"f1_score\")"
   ]
  },
  {
   "cell_type": "code",
   "execution_count": 57,
   "metadata": {},
   "outputs": [
    {
     "data": {
      "application/vnd.plotly.v1+json": {
       "config": {
        "plotlyServerURL": "https://plot.ly"
       },
       "data": [
        {
         "cliponaxis": false,
         "hovertemplate": [
          "n_estimators (IntDistribution): 0.0013644083068830122<extra></extra>",
          "max_depth (IntDistribution): 0.010845594094825462<extra></extra>",
          "min_samples_leaf (IntDistribution): 0.9877899975982916<extra></extra>"
         ],
         "marker": {
          "color": "rgb(66,146,198)"
         },
         "orientation": "h",
         "text": [
          "<0.01",
          "0.01",
          "0.99"
         ],
         "textposition": "outside",
         "type": "bar",
         "x": [
          0.0013644083068830122,
          0.010845594094825462,
          0.9877899975982916
         ],
         "y": [
          "n_estimators",
          "max_depth",
          "min_samples_leaf"
         ]
        }
       ],
       "layout": {
        "showlegend": false,
        "template": {
         "data": {
          "bar": [
           {
            "error_x": {
             "color": "#2a3f5f"
            },
            "error_y": {
             "color": "#2a3f5f"
            },
            "marker": {
             "line": {
              "color": "#E5ECF6",
              "width": 0.5
             },
             "pattern": {
              "fillmode": "overlay",
              "size": 10,
              "solidity": 0.2
             }
            },
            "type": "bar"
           }
          ],
          "barpolar": [
           {
            "marker": {
             "line": {
              "color": "#E5ECF6",
              "width": 0.5
             },
             "pattern": {
              "fillmode": "overlay",
              "size": 10,
              "solidity": 0.2
             }
            },
            "type": "barpolar"
           }
          ],
          "carpet": [
           {
            "aaxis": {
             "endlinecolor": "#2a3f5f",
             "gridcolor": "white",
             "linecolor": "white",
             "minorgridcolor": "white",
             "startlinecolor": "#2a3f5f"
            },
            "baxis": {
             "endlinecolor": "#2a3f5f",
             "gridcolor": "white",
             "linecolor": "white",
             "minorgridcolor": "white",
             "startlinecolor": "#2a3f5f"
            },
            "type": "carpet"
           }
          ],
          "choropleth": [
           {
            "colorbar": {
             "outlinewidth": 0,
             "ticks": ""
            },
            "type": "choropleth"
           }
          ],
          "contour": [
           {
            "colorbar": {
             "outlinewidth": 0,
             "ticks": ""
            },
            "colorscale": [
             [
              0,
              "#0d0887"
             ],
             [
              0.1111111111111111,
              "#46039f"
             ],
             [
              0.2222222222222222,
              "#7201a8"
             ],
             [
              0.3333333333333333,
              "#9c179e"
             ],
             [
              0.4444444444444444,
              "#bd3786"
             ],
             [
              0.5555555555555556,
              "#d8576b"
             ],
             [
              0.6666666666666666,
              "#ed7953"
             ],
             [
              0.7777777777777778,
              "#fb9f3a"
             ],
             [
              0.8888888888888888,
              "#fdca26"
             ],
             [
              1,
              "#f0f921"
             ]
            ],
            "type": "contour"
           }
          ],
          "contourcarpet": [
           {
            "colorbar": {
             "outlinewidth": 0,
             "ticks": ""
            },
            "type": "contourcarpet"
           }
          ],
          "heatmap": [
           {
            "colorbar": {
             "outlinewidth": 0,
             "ticks": ""
            },
            "colorscale": [
             [
              0,
              "#0d0887"
             ],
             [
              0.1111111111111111,
              "#46039f"
             ],
             [
              0.2222222222222222,
              "#7201a8"
             ],
             [
              0.3333333333333333,
              "#9c179e"
             ],
             [
              0.4444444444444444,
              "#bd3786"
             ],
             [
              0.5555555555555556,
              "#d8576b"
             ],
             [
              0.6666666666666666,
              "#ed7953"
             ],
             [
              0.7777777777777778,
              "#fb9f3a"
             ],
             [
              0.8888888888888888,
              "#fdca26"
             ],
             [
              1,
              "#f0f921"
             ]
            ],
            "type": "heatmap"
           }
          ],
          "heatmapgl": [
           {
            "colorbar": {
             "outlinewidth": 0,
             "ticks": ""
            },
            "colorscale": [
             [
              0,
              "#0d0887"
             ],
             [
              0.1111111111111111,
              "#46039f"
             ],
             [
              0.2222222222222222,
              "#7201a8"
             ],
             [
              0.3333333333333333,
              "#9c179e"
             ],
             [
              0.4444444444444444,
              "#bd3786"
             ],
             [
              0.5555555555555556,
              "#d8576b"
             ],
             [
              0.6666666666666666,
              "#ed7953"
             ],
             [
              0.7777777777777778,
              "#fb9f3a"
             ],
             [
              0.8888888888888888,
              "#fdca26"
             ],
             [
              1,
              "#f0f921"
             ]
            ],
            "type": "heatmapgl"
           }
          ],
          "histogram": [
           {
            "marker": {
             "pattern": {
              "fillmode": "overlay",
              "size": 10,
              "solidity": 0.2
             }
            },
            "type": "histogram"
           }
          ],
          "histogram2d": [
           {
            "colorbar": {
             "outlinewidth": 0,
             "ticks": ""
            },
            "colorscale": [
             [
              0,
              "#0d0887"
             ],
             [
              0.1111111111111111,
              "#46039f"
             ],
             [
              0.2222222222222222,
              "#7201a8"
             ],
             [
              0.3333333333333333,
              "#9c179e"
             ],
             [
              0.4444444444444444,
              "#bd3786"
             ],
             [
              0.5555555555555556,
              "#d8576b"
             ],
             [
              0.6666666666666666,
              "#ed7953"
             ],
             [
              0.7777777777777778,
              "#fb9f3a"
             ],
             [
              0.8888888888888888,
              "#fdca26"
             ],
             [
              1,
              "#f0f921"
             ]
            ],
            "type": "histogram2d"
           }
          ],
          "histogram2dcontour": [
           {
            "colorbar": {
             "outlinewidth": 0,
             "ticks": ""
            },
            "colorscale": [
             [
              0,
              "#0d0887"
             ],
             [
              0.1111111111111111,
              "#46039f"
             ],
             [
              0.2222222222222222,
              "#7201a8"
             ],
             [
              0.3333333333333333,
              "#9c179e"
             ],
             [
              0.4444444444444444,
              "#bd3786"
             ],
             [
              0.5555555555555556,
              "#d8576b"
             ],
             [
              0.6666666666666666,
              "#ed7953"
             ],
             [
              0.7777777777777778,
              "#fb9f3a"
             ],
             [
              0.8888888888888888,
              "#fdca26"
             ],
             [
              1,
              "#f0f921"
             ]
            ],
            "type": "histogram2dcontour"
           }
          ],
          "mesh3d": [
           {
            "colorbar": {
             "outlinewidth": 0,
             "ticks": ""
            },
            "type": "mesh3d"
           }
          ],
          "parcoords": [
           {
            "line": {
             "colorbar": {
              "outlinewidth": 0,
              "ticks": ""
             }
            },
            "type": "parcoords"
           }
          ],
          "pie": [
           {
            "automargin": true,
            "type": "pie"
           }
          ],
          "scatter": [
           {
            "fillpattern": {
             "fillmode": "overlay",
             "size": 10,
             "solidity": 0.2
            },
            "type": "scatter"
           }
          ],
          "scatter3d": [
           {
            "line": {
             "colorbar": {
              "outlinewidth": 0,
              "ticks": ""
             }
            },
            "marker": {
             "colorbar": {
              "outlinewidth": 0,
              "ticks": ""
             }
            },
            "type": "scatter3d"
           }
          ],
          "scattercarpet": [
           {
            "marker": {
             "colorbar": {
              "outlinewidth": 0,
              "ticks": ""
             }
            },
            "type": "scattercarpet"
           }
          ],
          "scattergeo": [
           {
            "marker": {
             "colorbar": {
              "outlinewidth": 0,
              "ticks": ""
             }
            },
            "type": "scattergeo"
           }
          ],
          "scattergl": [
           {
            "marker": {
             "colorbar": {
              "outlinewidth": 0,
              "ticks": ""
             }
            },
            "type": "scattergl"
           }
          ],
          "scattermapbox": [
           {
            "marker": {
             "colorbar": {
              "outlinewidth": 0,
              "ticks": ""
             }
            },
            "type": "scattermapbox"
           }
          ],
          "scatterpolar": [
           {
            "marker": {
             "colorbar": {
              "outlinewidth": 0,
              "ticks": ""
             }
            },
            "type": "scatterpolar"
           }
          ],
          "scatterpolargl": [
           {
            "marker": {
             "colorbar": {
              "outlinewidth": 0,
              "ticks": ""
             }
            },
            "type": "scatterpolargl"
           }
          ],
          "scatterternary": [
           {
            "marker": {
             "colorbar": {
              "outlinewidth": 0,
              "ticks": ""
             }
            },
            "type": "scatterternary"
           }
          ],
          "surface": [
           {
            "colorbar": {
             "outlinewidth": 0,
             "ticks": ""
            },
            "colorscale": [
             [
              0,
              "#0d0887"
             ],
             [
              0.1111111111111111,
              "#46039f"
             ],
             [
              0.2222222222222222,
              "#7201a8"
             ],
             [
              0.3333333333333333,
              "#9c179e"
             ],
             [
              0.4444444444444444,
              "#bd3786"
             ],
             [
              0.5555555555555556,
              "#d8576b"
             ],
             [
              0.6666666666666666,
              "#ed7953"
             ],
             [
              0.7777777777777778,
              "#fb9f3a"
             ],
             [
              0.8888888888888888,
              "#fdca26"
             ],
             [
              1,
              "#f0f921"
             ]
            ],
            "type": "surface"
           }
          ],
          "table": [
           {
            "cells": {
             "fill": {
              "color": "#EBF0F8"
             },
             "line": {
              "color": "white"
             }
            },
            "header": {
             "fill": {
              "color": "#C8D4E3"
             },
             "line": {
              "color": "white"
             }
            },
            "type": "table"
           }
          ]
         },
         "layout": {
          "annotationdefaults": {
           "arrowcolor": "#2a3f5f",
           "arrowhead": 0,
           "arrowwidth": 1
          },
          "autotypenumbers": "strict",
          "coloraxis": {
           "colorbar": {
            "outlinewidth": 0,
            "ticks": ""
           }
          },
          "colorscale": {
           "diverging": [
            [
             0,
             "#8e0152"
            ],
            [
             0.1,
             "#c51b7d"
            ],
            [
             0.2,
             "#de77ae"
            ],
            [
             0.3,
             "#f1b6da"
            ],
            [
             0.4,
             "#fde0ef"
            ],
            [
             0.5,
             "#f7f7f7"
            ],
            [
             0.6,
             "#e6f5d0"
            ],
            [
             0.7,
             "#b8e186"
            ],
            [
             0.8,
             "#7fbc41"
            ],
            [
             0.9,
             "#4d9221"
            ],
            [
             1,
             "#276419"
            ]
           ],
           "sequential": [
            [
             0,
             "#0d0887"
            ],
            [
             0.1111111111111111,
             "#46039f"
            ],
            [
             0.2222222222222222,
             "#7201a8"
            ],
            [
             0.3333333333333333,
             "#9c179e"
            ],
            [
             0.4444444444444444,
             "#bd3786"
            ],
            [
             0.5555555555555556,
             "#d8576b"
            ],
            [
             0.6666666666666666,
             "#ed7953"
            ],
            [
             0.7777777777777778,
             "#fb9f3a"
            ],
            [
             0.8888888888888888,
             "#fdca26"
            ],
            [
             1,
             "#f0f921"
            ]
           ],
           "sequentialminus": [
            [
             0,
             "#0d0887"
            ],
            [
             0.1111111111111111,
             "#46039f"
            ],
            [
             0.2222222222222222,
             "#7201a8"
            ],
            [
             0.3333333333333333,
             "#9c179e"
            ],
            [
             0.4444444444444444,
             "#bd3786"
            ],
            [
             0.5555555555555556,
             "#d8576b"
            ],
            [
             0.6666666666666666,
             "#ed7953"
            ],
            [
             0.7777777777777778,
             "#fb9f3a"
            ],
            [
             0.8888888888888888,
             "#fdca26"
            ],
            [
             1,
             "#f0f921"
            ]
           ]
          },
          "colorway": [
           "#636efa",
           "#EF553B",
           "#00cc96",
           "#ab63fa",
           "#FFA15A",
           "#19d3f3",
           "#FF6692",
           "#B6E880",
           "#FF97FF",
           "#FECB52"
          ],
          "font": {
           "color": "#2a3f5f"
          },
          "geo": {
           "bgcolor": "white",
           "lakecolor": "white",
           "landcolor": "#E5ECF6",
           "showlakes": true,
           "showland": true,
           "subunitcolor": "white"
          },
          "hoverlabel": {
           "align": "left"
          },
          "hovermode": "closest",
          "mapbox": {
           "style": "light"
          },
          "paper_bgcolor": "white",
          "plot_bgcolor": "#E5ECF6",
          "polar": {
           "angularaxis": {
            "gridcolor": "white",
            "linecolor": "white",
            "ticks": ""
           },
           "bgcolor": "#E5ECF6",
           "radialaxis": {
            "gridcolor": "white",
            "linecolor": "white",
            "ticks": ""
           }
          },
          "scene": {
           "xaxis": {
            "backgroundcolor": "#E5ECF6",
            "gridcolor": "white",
            "gridwidth": 2,
            "linecolor": "white",
            "showbackground": true,
            "ticks": "",
            "zerolinecolor": "white"
           },
           "yaxis": {
            "backgroundcolor": "#E5ECF6",
            "gridcolor": "white",
            "gridwidth": 2,
            "linecolor": "white",
            "showbackground": true,
            "ticks": "",
            "zerolinecolor": "white"
           },
           "zaxis": {
            "backgroundcolor": "#E5ECF6",
            "gridcolor": "white",
            "gridwidth": 2,
            "linecolor": "white",
            "showbackground": true,
            "ticks": "",
            "zerolinecolor": "white"
           }
          },
          "shapedefaults": {
           "line": {
            "color": "#2a3f5f"
           }
          },
          "ternary": {
           "aaxis": {
            "gridcolor": "white",
            "linecolor": "white",
            "ticks": ""
           },
           "baxis": {
            "gridcolor": "white",
            "linecolor": "white",
            "ticks": ""
           },
           "bgcolor": "#E5ECF6",
           "caxis": {
            "gridcolor": "white",
            "linecolor": "white",
            "ticks": ""
           }
          },
          "title": {
           "x": 0.05
          },
          "xaxis": {
           "automargin": true,
           "gridcolor": "white",
           "linecolor": "white",
           "ticks": "",
           "title": {
            "standoff": 15
           },
           "zerolinecolor": "white",
           "zerolinewidth": 2
          },
          "yaxis": {
           "automargin": true,
           "gridcolor": "white",
           "linecolor": "white",
           "ticks": "",
           "title": {
            "standoff": 15
           },
           "zerolinecolor": "white",
           "zerolinewidth": 2
          }
         }
        },
        "title": {
         "text": "Hyperparameter Importances"
        },
        "xaxis": {
         "title": {
          "text": "Importance for f1_score"
         }
        },
        "yaxis": {
         "title": {
          "text": "Hyperparameter"
         }
        }
       }
      }
     },
     "metadata": {},
     "output_type": "display_data"
    }
   ],
   "source": [
    "optuna.visualization.plot_param_importances(study_ranFor_opt, target_name=\"f1_score\")"
   ]
  },
  {
   "cell_type": "code",
   "execution_count": 58,
   "metadata": {},
   "outputs": [
    {
     "data": {
      "application/vnd.plotly.v1+json": {
       "config": {
        "plotlyServerURL": "https://plot.ly"
       },
       "data": [
        {
         "colorbar": {
          "title": {
           "text": "f1_score"
          }
         },
         "colorscale": [
          [
           0,
           "rgb(247,251,255)"
          ],
          [
           0.125,
           "rgb(222,235,247)"
          ],
          [
           0.25,
           "rgb(198,219,239)"
          ],
          [
           0.375,
           "rgb(158,202,225)"
          ],
          [
           0.5,
           "rgb(107,174,214)"
          ],
          [
           0.625,
           "rgb(66,146,198)"
          ],
          [
           0.75,
           "rgb(33,113,181)"
          ],
          [
           0.875,
           "rgb(8,81,156)"
          ],
          [
           1,
           "rgb(8,48,107)"
          ]
         ],
         "connectgaps": true,
         "contours": {
          "coloring": "heatmap"
         },
         "hoverinfo": "none",
         "line": {
          "smoothing": 1.3
         },
         "reversescale": false,
         "type": "contour",
         "x": [
          13.75,
          15,
          17,
          19,
          21,
          22,
          23,
          24,
          25,
          26,
          27,
          28,
          29,
          30,
          31,
          32,
          33,
          34,
          35,
          36,
          37,
          38,
          39,
          40,
          41.25
         ],
         "y": [
          0.29999999999999993,
          1,
          2,
          3,
          4,
          5,
          6,
          7,
          9,
          10,
          11,
          12,
          13,
          14,
          15,
          15.7
         ],
         "z": [
          [
           null,
           null,
           null,
           null,
           null,
           null,
           null,
           null,
           null,
           null,
           null,
           null,
           null,
           null,
           null,
           null,
           null,
           null,
           null,
           null,
           null,
           null,
           null,
           null,
           null
          ],
          [
           null,
           null,
           null,
           0.8571428571428571,
           0.8571428571428571,
           null,
           null,
           null,
           null,
           null,
           null,
           null,
           null,
           null,
           null,
           0.9333333333333333,
           0.9333333333333333,
           0.9333333333333333,
           null,
           0.9333333333333333,
           0.9333333333333333,
           null,
           0.8571428571428571,
           0.9333333333333333,
           null
          ],
          [
           null,
           null,
           null,
           0.8571428571428571,
           null,
           null,
           null,
           null,
           null,
           0.8571428571428571,
           null,
           0.8571428571428571,
           null,
           null,
           null,
           null,
           null,
           null,
           null,
           0.8571428571428571,
           0.8571428571428571,
           null,
           0.8571428571428571,
           0.8571428571428571,
           null
          ],
          [
           null,
           0.7692307692307693,
           null,
           null,
           null,
           null,
           null,
           null,
           null,
           null,
           null,
           null,
           null,
           null,
           null,
           null,
           null,
           0.7692307692307693,
           0.7692307692307693,
           0.7692307692307693,
           null,
           0.7692307692307693,
           null,
           null,
           null
          ],
          [
           null,
           null,
           null,
           null,
           null,
           null,
           null,
           null,
           null,
           null,
           null,
           null,
           0.7692307692307693,
           0.7692307692307693,
           null,
           null,
           0.7692307692307693,
           null,
           null,
           null,
           null,
           0.7692307692307693,
           null,
           0.7692307692307693,
           null
          ],
          [
           null,
           null,
           null,
           null,
           null,
           null,
           null,
           null,
           null,
           0.6666666666666666,
           null,
           null,
           null,
           null,
           0.7692307692307693,
           null,
           null,
           null,
           0.6666666666666666,
           null,
           null,
           null,
           null,
           null,
           null
          ],
          [
           null,
           null,
           0.6666666666666666,
           null,
           null,
           null,
           null,
           null,
           null,
           null,
           null,
           0.6666666666666666,
           null,
           null,
           null,
           null,
           null,
           null,
           null,
           null,
           null,
           null,
           null,
           null,
           null
          ],
          [
           null,
           null,
           0.6666666666666666,
           null,
           0.6666666666666666,
           0.6666666666666666,
           null,
           null,
           null,
           null,
           null,
           null,
           null,
           null,
           null,
           null,
           null,
           null,
           null,
           null,
           null,
           null,
           null,
           null,
           null
          ],
          [
           null,
           null,
           null,
           null,
           null,
           null,
           null,
           0.5454545454545454,
           null,
           null,
           null,
           null,
           null,
           null,
           null,
           null,
           null,
           null,
           null,
           null,
           null,
           null,
           null,
           null,
           null
          ],
          [
           null,
           null,
           null,
           null,
           null,
           null,
           0.5454545454545454,
           null,
           null,
           null,
           null,
           null,
           null,
           0.5454545454545454,
           null,
           null,
           null,
           null,
           null,
           null,
           null,
           null,
           null,
           null,
           null
          ],
          [
           null,
           null,
           null,
           null,
           null,
           null,
           null,
           null,
           null,
           null,
           null,
           null,
           null,
           null,
           null,
           0.2222222222222222,
           null,
           null,
           null,
           null,
           null,
           null,
           null,
           null,
           null
          ],
          [
           null,
           null,
           null,
           null,
           null,
           null,
           null,
           null,
           null,
           null,
           null,
           null,
           null,
           null,
           null,
           null,
           null,
           null,
           null,
           null,
           null,
           0,
           null,
           null,
           null
          ],
          [
           null,
           null,
           null,
           null,
           null,
           null,
           null,
           null,
           null,
           null,
           null,
           null,
           null,
           null,
           null,
           null,
           null,
           null,
           null,
           0,
           null,
           null,
           null,
           null,
           null
          ],
          [
           null,
           null,
           null,
           null,
           null,
           null,
           null,
           null,
           null,
           null,
           0,
           null,
           null,
           null,
           null,
           null,
           null,
           null,
           null,
           null,
           null,
           null,
           null,
           null,
           null
          ],
          [
           null,
           null,
           null,
           null,
           null,
           null,
           null,
           null,
           0,
           null,
           null,
           null,
           null,
           null,
           null,
           null,
           null,
           null,
           null,
           null,
           null,
           null,
           null,
           null,
           null
          ],
          [
           null,
           null,
           null,
           null,
           null,
           null,
           null,
           null,
           null,
           null,
           null,
           null,
           null,
           null,
           null,
           null,
           null,
           null,
           null,
           null,
           null,
           null,
           null,
           null,
           null
          ]
         ]
        },
        {
         "marker": {
          "color": "black",
          "line": {
           "color": "Grey",
           "width": 2
          }
         },
         "mode": "markers",
         "showlegend": false,
         "type": "scatter",
         "x": [
          22,
          39,
          19,
          27,
          21,
          17,
          29,
          36,
          17,
          25,
          32,
          40,
          33,
          23,
          40,
          21,
          30,
          26,
          15,
          36,
          24,
          37,
          35,
          39,
          34,
          37,
          31,
          38,
          28,
          21,
          35,
          37,
          40,
          38,
          33,
          40,
          36,
          19,
          38,
          28,
          36,
          37,
          34,
          39,
          37,
          32,
          19,
          35,
          30,
          26
         ],
         "y": [
          7,
          1,
          2,
          14,
          1,
          7,
          4,
          2,
          6,
          15,
          11,
          1,
          4,
          10,
          4,
          1,
          10,
          5,
          3,
          1,
          9,
          1,
          3,
          2,
          3,
          1,
          5,
          12,
          2,
          7,
          5,
          1,
          1,
          3,
          1,
          2,
          3,
          2,
          4,
          6,
          13,
          1,
          1,
          2,
          2,
          1,
          1,
          3,
          4,
          2
         ]
        }
       ],
       "layout": {
        "template": {
         "data": {
          "bar": [
           {
            "error_x": {
             "color": "#2a3f5f"
            },
            "error_y": {
             "color": "#2a3f5f"
            },
            "marker": {
             "line": {
              "color": "#E5ECF6",
              "width": 0.5
             },
             "pattern": {
              "fillmode": "overlay",
              "size": 10,
              "solidity": 0.2
             }
            },
            "type": "bar"
           }
          ],
          "barpolar": [
           {
            "marker": {
             "line": {
              "color": "#E5ECF6",
              "width": 0.5
             },
             "pattern": {
              "fillmode": "overlay",
              "size": 10,
              "solidity": 0.2
             }
            },
            "type": "barpolar"
           }
          ],
          "carpet": [
           {
            "aaxis": {
             "endlinecolor": "#2a3f5f",
             "gridcolor": "white",
             "linecolor": "white",
             "minorgridcolor": "white",
             "startlinecolor": "#2a3f5f"
            },
            "baxis": {
             "endlinecolor": "#2a3f5f",
             "gridcolor": "white",
             "linecolor": "white",
             "minorgridcolor": "white",
             "startlinecolor": "#2a3f5f"
            },
            "type": "carpet"
           }
          ],
          "choropleth": [
           {
            "colorbar": {
             "outlinewidth": 0,
             "ticks": ""
            },
            "type": "choropleth"
           }
          ],
          "contour": [
           {
            "colorbar": {
             "outlinewidth": 0,
             "ticks": ""
            },
            "colorscale": [
             [
              0,
              "#0d0887"
             ],
             [
              0.1111111111111111,
              "#46039f"
             ],
             [
              0.2222222222222222,
              "#7201a8"
             ],
             [
              0.3333333333333333,
              "#9c179e"
             ],
             [
              0.4444444444444444,
              "#bd3786"
             ],
             [
              0.5555555555555556,
              "#d8576b"
             ],
             [
              0.6666666666666666,
              "#ed7953"
             ],
             [
              0.7777777777777778,
              "#fb9f3a"
             ],
             [
              0.8888888888888888,
              "#fdca26"
             ],
             [
              1,
              "#f0f921"
             ]
            ],
            "type": "contour"
           }
          ],
          "contourcarpet": [
           {
            "colorbar": {
             "outlinewidth": 0,
             "ticks": ""
            },
            "type": "contourcarpet"
           }
          ],
          "heatmap": [
           {
            "colorbar": {
             "outlinewidth": 0,
             "ticks": ""
            },
            "colorscale": [
             [
              0,
              "#0d0887"
             ],
             [
              0.1111111111111111,
              "#46039f"
             ],
             [
              0.2222222222222222,
              "#7201a8"
             ],
             [
              0.3333333333333333,
              "#9c179e"
             ],
             [
              0.4444444444444444,
              "#bd3786"
             ],
             [
              0.5555555555555556,
              "#d8576b"
             ],
             [
              0.6666666666666666,
              "#ed7953"
             ],
             [
              0.7777777777777778,
              "#fb9f3a"
             ],
             [
              0.8888888888888888,
              "#fdca26"
             ],
             [
              1,
              "#f0f921"
             ]
            ],
            "type": "heatmap"
           }
          ],
          "heatmapgl": [
           {
            "colorbar": {
             "outlinewidth": 0,
             "ticks": ""
            },
            "colorscale": [
             [
              0,
              "#0d0887"
             ],
             [
              0.1111111111111111,
              "#46039f"
             ],
             [
              0.2222222222222222,
              "#7201a8"
             ],
             [
              0.3333333333333333,
              "#9c179e"
             ],
             [
              0.4444444444444444,
              "#bd3786"
             ],
             [
              0.5555555555555556,
              "#d8576b"
             ],
             [
              0.6666666666666666,
              "#ed7953"
             ],
             [
              0.7777777777777778,
              "#fb9f3a"
             ],
             [
              0.8888888888888888,
              "#fdca26"
             ],
             [
              1,
              "#f0f921"
             ]
            ],
            "type": "heatmapgl"
           }
          ],
          "histogram": [
           {
            "marker": {
             "pattern": {
              "fillmode": "overlay",
              "size": 10,
              "solidity": 0.2
             }
            },
            "type": "histogram"
           }
          ],
          "histogram2d": [
           {
            "colorbar": {
             "outlinewidth": 0,
             "ticks": ""
            },
            "colorscale": [
             [
              0,
              "#0d0887"
             ],
             [
              0.1111111111111111,
              "#46039f"
             ],
             [
              0.2222222222222222,
              "#7201a8"
             ],
             [
              0.3333333333333333,
              "#9c179e"
             ],
             [
              0.4444444444444444,
              "#bd3786"
             ],
             [
              0.5555555555555556,
              "#d8576b"
             ],
             [
              0.6666666666666666,
              "#ed7953"
             ],
             [
              0.7777777777777778,
              "#fb9f3a"
             ],
             [
              0.8888888888888888,
              "#fdca26"
             ],
             [
              1,
              "#f0f921"
             ]
            ],
            "type": "histogram2d"
           }
          ],
          "histogram2dcontour": [
           {
            "colorbar": {
             "outlinewidth": 0,
             "ticks": ""
            },
            "colorscale": [
             [
              0,
              "#0d0887"
             ],
             [
              0.1111111111111111,
              "#46039f"
             ],
             [
              0.2222222222222222,
              "#7201a8"
             ],
             [
              0.3333333333333333,
              "#9c179e"
             ],
             [
              0.4444444444444444,
              "#bd3786"
             ],
             [
              0.5555555555555556,
              "#d8576b"
             ],
             [
              0.6666666666666666,
              "#ed7953"
             ],
             [
              0.7777777777777778,
              "#fb9f3a"
             ],
             [
              0.8888888888888888,
              "#fdca26"
             ],
             [
              1,
              "#f0f921"
             ]
            ],
            "type": "histogram2dcontour"
           }
          ],
          "mesh3d": [
           {
            "colorbar": {
             "outlinewidth": 0,
             "ticks": ""
            },
            "type": "mesh3d"
           }
          ],
          "parcoords": [
           {
            "line": {
             "colorbar": {
              "outlinewidth": 0,
              "ticks": ""
             }
            },
            "type": "parcoords"
           }
          ],
          "pie": [
           {
            "automargin": true,
            "type": "pie"
           }
          ],
          "scatter": [
           {
            "fillpattern": {
             "fillmode": "overlay",
             "size": 10,
             "solidity": 0.2
            },
            "type": "scatter"
           }
          ],
          "scatter3d": [
           {
            "line": {
             "colorbar": {
              "outlinewidth": 0,
              "ticks": ""
             }
            },
            "marker": {
             "colorbar": {
              "outlinewidth": 0,
              "ticks": ""
             }
            },
            "type": "scatter3d"
           }
          ],
          "scattercarpet": [
           {
            "marker": {
             "colorbar": {
              "outlinewidth": 0,
              "ticks": ""
             }
            },
            "type": "scattercarpet"
           }
          ],
          "scattergeo": [
           {
            "marker": {
             "colorbar": {
              "outlinewidth": 0,
              "ticks": ""
             }
            },
            "type": "scattergeo"
           }
          ],
          "scattergl": [
           {
            "marker": {
             "colorbar": {
              "outlinewidth": 0,
              "ticks": ""
             }
            },
            "type": "scattergl"
           }
          ],
          "scattermapbox": [
           {
            "marker": {
             "colorbar": {
              "outlinewidth": 0,
              "ticks": ""
             }
            },
            "type": "scattermapbox"
           }
          ],
          "scatterpolar": [
           {
            "marker": {
             "colorbar": {
              "outlinewidth": 0,
              "ticks": ""
             }
            },
            "type": "scatterpolar"
           }
          ],
          "scatterpolargl": [
           {
            "marker": {
             "colorbar": {
              "outlinewidth": 0,
              "ticks": ""
             }
            },
            "type": "scatterpolargl"
           }
          ],
          "scatterternary": [
           {
            "marker": {
             "colorbar": {
              "outlinewidth": 0,
              "ticks": ""
             }
            },
            "type": "scatterternary"
           }
          ],
          "surface": [
           {
            "colorbar": {
             "outlinewidth": 0,
             "ticks": ""
            },
            "colorscale": [
             [
              0,
              "#0d0887"
             ],
             [
              0.1111111111111111,
              "#46039f"
             ],
             [
              0.2222222222222222,
              "#7201a8"
             ],
             [
              0.3333333333333333,
              "#9c179e"
             ],
             [
              0.4444444444444444,
              "#bd3786"
             ],
             [
              0.5555555555555556,
              "#d8576b"
             ],
             [
              0.6666666666666666,
              "#ed7953"
             ],
             [
              0.7777777777777778,
              "#fb9f3a"
             ],
             [
              0.8888888888888888,
              "#fdca26"
             ],
             [
              1,
              "#f0f921"
             ]
            ],
            "type": "surface"
           }
          ],
          "table": [
           {
            "cells": {
             "fill": {
              "color": "#EBF0F8"
             },
             "line": {
              "color": "white"
             }
            },
            "header": {
             "fill": {
              "color": "#C8D4E3"
             },
             "line": {
              "color": "white"
             }
            },
            "type": "table"
           }
          ]
         },
         "layout": {
          "annotationdefaults": {
           "arrowcolor": "#2a3f5f",
           "arrowhead": 0,
           "arrowwidth": 1
          },
          "autotypenumbers": "strict",
          "coloraxis": {
           "colorbar": {
            "outlinewidth": 0,
            "ticks": ""
           }
          },
          "colorscale": {
           "diverging": [
            [
             0,
             "#8e0152"
            ],
            [
             0.1,
             "#c51b7d"
            ],
            [
             0.2,
             "#de77ae"
            ],
            [
             0.3,
             "#f1b6da"
            ],
            [
             0.4,
             "#fde0ef"
            ],
            [
             0.5,
             "#f7f7f7"
            ],
            [
             0.6,
             "#e6f5d0"
            ],
            [
             0.7,
             "#b8e186"
            ],
            [
             0.8,
             "#7fbc41"
            ],
            [
             0.9,
             "#4d9221"
            ],
            [
             1,
             "#276419"
            ]
           ],
           "sequential": [
            [
             0,
             "#0d0887"
            ],
            [
             0.1111111111111111,
             "#46039f"
            ],
            [
             0.2222222222222222,
             "#7201a8"
            ],
            [
             0.3333333333333333,
             "#9c179e"
            ],
            [
             0.4444444444444444,
             "#bd3786"
            ],
            [
             0.5555555555555556,
             "#d8576b"
            ],
            [
             0.6666666666666666,
             "#ed7953"
            ],
            [
             0.7777777777777778,
             "#fb9f3a"
            ],
            [
             0.8888888888888888,
             "#fdca26"
            ],
            [
             1,
             "#f0f921"
            ]
           ],
           "sequentialminus": [
            [
             0,
             "#0d0887"
            ],
            [
             0.1111111111111111,
             "#46039f"
            ],
            [
             0.2222222222222222,
             "#7201a8"
            ],
            [
             0.3333333333333333,
             "#9c179e"
            ],
            [
             0.4444444444444444,
             "#bd3786"
            ],
            [
             0.5555555555555556,
             "#d8576b"
            ],
            [
             0.6666666666666666,
             "#ed7953"
            ],
            [
             0.7777777777777778,
             "#fb9f3a"
            ],
            [
             0.8888888888888888,
             "#fdca26"
            ],
            [
             1,
             "#f0f921"
            ]
           ]
          },
          "colorway": [
           "#636efa",
           "#EF553B",
           "#00cc96",
           "#ab63fa",
           "#FFA15A",
           "#19d3f3",
           "#FF6692",
           "#B6E880",
           "#FF97FF",
           "#FECB52"
          ],
          "font": {
           "color": "#2a3f5f"
          },
          "geo": {
           "bgcolor": "white",
           "lakecolor": "white",
           "landcolor": "#E5ECF6",
           "showlakes": true,
           "showland": true,
           "subunitcolor": "white"
          },
          "hoverlabel": {
           "align": "left"
          },
          "hovermode": "closest",
          "mapbox": {
           "style": "light"
          },
          "paper_bgcolor": "white",
          "plot_bgcolor": "#E5ECF6",
          "polar": {
           "angularaxis": {
            "gridcolor": "white",
            "linecolor": "white",
            "ticks": ""
           },
           "bgcolor": "#E5ECF6",
           "radialaxis": {
            "gridcolor": "white",
            "linecolor": "white",
            "ticks": ""
           }
          },
          "scene": {
           "xaxis": {
            "backgroundcolor": "#E5ECF6",
            "gridcolor": "white",
            "gridwidth": 2,
            "linecolor": "white",
            "showbackground": true,
            "ticks": "",
            "zerolinecolor": "white"
           },
           "yaxis": {
            "backgroundcolor": "#E5ECF6",
            "gridcolor": "white",
            "gridwidth": 2,
            "linecolor": "white",
            "showbackground": true,
            "ticks": "",
            "zerolinecolor": "white"
           },
           "zaxis": {
            "backgroundcolor": "#E5ECF6",
            "gridcolor": "white",
            "gridwidth": 2,
            "linecolor": "white",
            "showbackground": true,
            "ticks": "",
            "zerolinecolor": "white"
           }
          },
          "shapedefaults": {
           "line": {
            "color": "#2a3f5f"
           }
          },
          "ternary": {
           "aaxis": {
            "gridcolor": "white",
            "linecolor": "white",
            "ticks": ""
           },
           "baxis": {
            "gridcolor": "white",
            "linecolor": "white",
            "ticks": ""
           },
           "bgcolor": "#E5ECF6",
           "caxis": {
            "gridcolor": "white",
            "linecolor": "white",
            "ticks": ""
           }
          },
          "title": {
           "x": 0.05
          },
          "xaxis": {
           "automargin": true,
           "gridcolor": "white",
           "linecolor": "white",
           "ticks": "",
           "title": {
            "standoff": 15
           },
           "zerolinecolor": "white",
           "zerolinewidth": 2
          },
          "yaxis": {
           "automargin": true,
           "gridcolor": "white",
           "linecolor": "white",
           "ticks": "",
           "title": {
            "standoff": 15
           },
           "zerolinecolor": "white",
           "zerolinewidth": 2
          }
         }
        },
        "title": {
         "text": "Contour Plot"
        },
        "xaxis": {
         "range": [
          13.75,
          41.25
         ],
         "title": {
          "text": "max_depth"
         }
        },
        "yaxis": {
         "range": [
          0.29999999999999993,
          15.7
         ],
         "title": {
          "text": "min_samples_leaf"
         }
        }
       }
      }
     },
     "metadata": {},
     "output_type": "display_data"
    }
   ],
   "source": [
    "optuna.visualization.plot_contour(study_ranFor_opt, params=[\"max_depth\", \"min_samples_leaf\"],\n",
    "                                  target_name=\"f1_score\")"
   ]
  }
 ],
 "metadata": {
  "kernelspec": {
   "display_name": "Python 3",
   "language": "python",
   "name": "python3"
  },
  "language_info": {
   "codemirror_mode": {
    "name": "ipython",
    "version": 3
   },
   "file_extension": ".py",
   "mimetype": "text/x-python",
   "name": "python",
   "nbconvert_exporter": "python",
   "pygments_lexer": "ipython3",
   "version": "3.11.0"
  },
  "orig_nbformat": 4
 },
 "nbformat": 4,
 "nbformat_minor": 2
}
