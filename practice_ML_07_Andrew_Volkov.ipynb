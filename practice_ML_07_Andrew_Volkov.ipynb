{
 "cells": [
  {
   "cell_type": "code",
   "execution_count": 1,
   "metadata": {},
   "outputs": [],
   "source": [
    "#импорт библиотек\n",
    "import numpy as np #для матричных вычислений\n",
    "import pandas as pd #для анализа и предобработки данных\n",
    "import matplotlib.pyplot as plt #для визуализации\n",
    "import seaborn as sns #для визуализации\n",
    "\n",
    "from sklearn import linear_model #линейные моделиё\n",
    "from sklearn import tree #деревья решений\n",
    "from sklearn import ensemble #ансамбли\n",
    "from sklearn import metrics #метрики\n",
    "from sklearn import preprocessing #предобработка\n",
    "from sklearn.model_selection import train_test_split #сплитование выборки\n",
    "\n",
    "from sklearn.model_selection import GridSearchCV\n",
    "from sklearn.model_selection import RandomizedSearchCV\n",
    "\n",
    "from sklearn.model_selection import cross_val_score\n",
    "import hyperopt\n",
    "from hyperopt import hp, fmin, tpe, Trials, STATUS_OK\n",
    "\n",
    "import optuna\n",
    "\n",
    "%matplotlib inline\n",
    "\n",
    "from colorama import Fore, Back, Style\n",
    "pd.set_option('display.max_colwidth', None)\n",
    "pd.set_option('display.float_format', '{:.3f}'.format)\n",
    "\n",
    "import warnings\n",
    "warnings.filterwarnings(\"ignore\")"
   ]
  },
  {
   "attachments": {},
   "cell_type": "markdown",
   "metadata": {},
   "source": [
    "# Данные"
   ]
  },
  {
   "cell_type": "code",
   "execution_count": 2,
   "metadata": {},
   "outputs": [],
   "source": [
    "data = pd.read_csv('data/_train_sem09 (1).csv')"
   ]
  },
  {
   "cell_type": "code",
   "execution_count": 3,
   "metadata": {},
   "outputs": [
    {
     "data": {
      "text/html": [
       "<div>\n",
       "<style scoped>\n",
       "    .dataframe tbody tr th:only-of-type {\n",
       "        vertical-align: middle;\n",
       "    }\n",
       "\n",
       "    .dataframe tbody tr th {\n",
       "        vertical-align: top;\n",
       "    }\n",
       "\n",
       "    .dataframe thead th {\n",
       "        text-align: right;\n",
       "    }\n",
       "</style>\n",
       "<table border=\"1\" class=\"dataframe\">\n",
       "  <thead>\n",
       "    <tr style=\"text-align: right;\">\n",
       "      <th></th>\n",
       "      <th>Activity</th>\n",
       "      <th>D1</th>\n",
       "      <th>D2</th>\n",
       "      <th>D3</th>\n",
       "      <th>D4</th>\n",
       "      <th>D5</th>\n",
       "      <th>D6</th>\n",
       "      <th>D7</th>\n",
       "      <th>D8</th>\n",
       "      <th>D9</th>\n",
       "      <th>...</th>\n",
       "      <th>D1767</th>\n",
       "      <th>D1768</th>\n",
       "      <th>D1769</th>\n",
       "      <th>D1770</th>\n",
       "      <th>D1771</th>\n",
       "      <th>D1772</th>\n",
       "      <th>D1773</th>\n",
       "      <th>D1774</th>\n",
       "      <th>D1775</th>\n",
       "      <th>D1776</th>\n",
       "    </tr>\n",
       "  </thead>\n",
       "  <tbody>\n",
       "    <tr>\n",
       "      <th>0</th>\n",
       "      <td>1</td>\n",
       "      <td>0.000</td>\n",
       "      <td>0.497</td>\n",
       "      <td>0.100</td>\n",
       "      <td>0.000</td>\n",
       "      <td>0.133</td>\n",
       "      <td>0.678</td>\n",
       "      <td>0.273</td>\n",
       "      <td>0.585</td>\n",
       "      <td>0.744</td>\n",
       "      <td>...</td>\n",
       "      <td>0</td>\n",
       "      <td>0</td>\n",
       "      <td>0</td>\n",
       "      <td>0</td>\n",
       "      <td>0</td>\n",
       "      <td>0</td>\n",
       "      <td>0</td>\n",
       "      <td>0</td>\n",
       "      <td>0</td>\n",
       "      <td>0</td>\n",
       "    </tr>\n",
       "    <tr>\n",
       "      <th>1</th>\n",
       "      <td>1</td>\n",
       "      <td>0.367</td>\n",
       "      <td>0.606</td>\n",
       "      <td>0.050</td>\n",
       "      <td>0.000</td>\n",
       "      <td>0.111</td>\n",
       "      <td>0.803</td>\n",
       "      <td>0.106</td>\n",
       "      <td>0.412</td>\n",
       "      <td>0.837</td>\n",
       "      <td>...</td>\n",
       "      <td>1</td>\n",
       "      <td>1</td>\n",
       "      <td>1</td>\n",
       "      <td>1</td>\n",
       "      <td>0</td>\n",
       "      <td>1</td>\n",
       "      <td>0</td>\n",
       "      <td>0</td>\n",
       "      <td>1</td>\n",
       "      <td>0</td>\n",
       "    </tr>\n",
       "  </tbody>\n",
       "</table>\n",
       "<p>2 rows × 1777 columns</p>\n",
       "</div>"
      ],
      "text/plain": [
       "   Activity    D1    D2    D3    D4    D5    D6    D7    D8    D9  ...  D1767   \n",
       "0         1 0.000 0.497 0.100 0.000 0.133 0.678 0.273 0.585 0.744  ...      0  \\\n",
       "1         1 0.367 0.606 0.050 0.000 0.111 0.803 0.106 0.412 0.837  ...      1   \n",
       "\n",
       "   D1768  D1769  D1770  D1771  D1772  D1773  D1774  D1775  D1776  \n",
       "0      0      0      0      0      0      0      0      0      0  \n",
       "1      1      1      1      0      1      0      0      1      0  \n",
       "\n",
       "[2 rows x 1777 columns]"
      ]
     },
     "execution_count": 3,
     "metadata": {},
     "output_type": "execute_result"
    }
   ],
   "source": [
    "data.head(2)"
   ]
  },
  {
   "cell_type": "code",
   "execution_count": 4,
   "metadata": {},
   "outputs": [
    {
     "data": {
      "text/plain": [
       "(3751, 1777)"
      ]
     },
     "execution_count": 4,
     "metadata": {},
     "output_type": "execute_result"
    }
   ],
   "source": [
    "data.shape"
   ]
  },
  {
   "cell_type": "code",
   "execution_count": 5,
   "metadata": {},
   "outputs": [],
   "source": [
    "# Подготовка данных для следующей работы\n",
    "X = data.drop(['Activity'], axis=1)\n",
    "y = data['Activity']\n",
    "\n",
    "X_train, X_test, y_train, y_test = train_test_split(X, y, stratify=y, random_state = 1, test_size = 0.2)"
   ]
  },
  {
   "cell_type": "code",
   "execution_count": 6,
   "metadata": {},
   "outputs": [],
   "source": [
    "# В данную переменную буду сохранять результаты моделей [f1_train, f1_test, название]\n",
    "f1_score_results = []\n",
    "# Константы часто используемых параметров\n",
    "RANDOM_STATE = 42\n",
    "MAX_ITER = 500"
   ]
  },
  {
   "cell_type": "code",
   "execution_count": 7,
   "metadata": {},
   "outputs": [],
   "source": [
    "\n",
    "def printAndSaveModelResults(model, methodName):\n",
    "  \"\"\"функция для вывода результатов score для train и test \n",
    "     и также для сохранения этих значений для последующего использования\n",
    "  Args:\n",
    "      model (model): Ссылка на обучепнную модель\n",
    "      methodName (string): Название примененной модели\n",
    "  \"\"\"\n",
    "  y_train_pred = model.predict(X_train)\n",
    "  metrics_train = metrics.f1_score(y_train, y_train_pred).round(6)\n",
    "  print(f\"{Fore.LIGHTBLUE_EX}f1_score на тренировочном наборе: {Fore.LIGHTGREEN_EX}{metrics_train:.3f}{Fore.RESET}\")\n",
    "  y_test_pred = model.predict(X_test)\n",
    "  metrics_test = metrics.f1_score(y_test, y_test_pred).round(6)\n",
    "  print(f\"{Fore.LIGHTBLUE_EX}f1_score на тестовом наборе: {Fore.LIGHTGREEN_EX}{metrics_test:.3f}{Fore.RESET}\")\n",
    "\n",
    "  f1_score_results.append({'result_train': metrics_train,\n",
    "                           'result_test': metrics_test,\n",
    "                          'method': methodName})"
   ]
  },
  {
   "attachments": {},
   "cell_type": "markdown",
   "metadata": {},
   "source": [
    "# Моделирование"
   ]
  },
  {
   "attachments": {},
   "cell_type": "markdown",
   "metadata": {},
   "source": [
    "Зафиксируем только метрики, которые были получены без дополнительной настройки, т.е со значениями гиперпараметров, установленных по умолчанию:"
   ]
  },
  {
   "attachments": {},
   "cell_type": "markdown",
   "metadata": {},
   "source": [
    "## Логистическая регрессия"
   ]
  },
  {
   "cell_type": "code",
   "execution_count": 7,
   "metadata": {},
   "outputs": [
    {
     "name": "stdout",
     "output_type": "stream",
     "text": [
      "\u001b[94mf1_score на тренировочном наборе: \u001b[92m0.885\u001b[39m\n",
      "\u001b[94mf1_score на тестовом наборе: \u001b[92m0.781\u001b[39m\n"
     ]
    }
   ],
   "source": [
    "#Создаем объект класса логистическая регрессия\n",
    "log_reg = linear_model.LogisticRegression(max_iter = MAX_ITER)\n",
    "#Обучаем модель, минимизируя logloss\n",
    "log_reg.fit(X_train, y_train)\n",
    "\n",
    "printAndSaveModelResults(log_reg,'LogisticRegression native')\n",
    "\n"
   ]
  },
  {
   "attachments": {},
   "cell_type": "markdown",
   "metadata": {},
   "source": [
    "## Случайный лес"
   ]
  },
  {
   "cell_type": "code",
   "execution_count": 8,
   "metadata": {},
   "outputs": [
    {
     "name": "stdout",
     "output_type": "stream",
     "text": [
      "\u001b[94mf1_score на тренировочном наборе: \u001b[92m1.000\u001b[39m\n",
      "\u001b[94mf1_score на тестовом наборе: \u001b[92m0.813\u001b[39m\n"
     ]
    }
   ],
   "source": [
    "#Создаем объект класса случайный лес\n",
    "rf = ensemble.RandomForestClassifier(random_state=RANDOM_STATE)\n",
    "\n",
    "#Обучаем модель\n",
    "rf.fit(X_train, y_train)\n",
    "\n",
    "printAndSaveModelResults(rf,'RandomForestClassifier native')"
   ]
  },
  {
   "attachments": {},
   "cell_type": "markdown",
   "metadata": {},
   "source": [
    "# Оптимизация гиперпараметров модели"
   ]
  },
  {
   "attachments": {},
   "cell_type": "markdown",
   "metadata": {},
   "source": [
    "### **GridSearchCV**"
   ]
  },
  {
   "attachments": {},
   "cell_type": "markdown",
   "metadata": {},
   "source": [
    "#### Логистическая регрессия"
   ]
  },
  {
   "cell_type": "code",
   "execution_count": 10,
   "metadata": {},
   "outputs": [
    {
     "name": "stdout",
     "output_type": "stream",
     "text": [
      "CPU times: total: 2.95 s\n",
      "Wall time: 1min 8s\n",
      "\u001b[94mf1_score на тренировочном наборе: \u001b[92m0.522\u001b[39m\n",
      "\u001b[94mf1_score на тестовом наборе: \u001b[92m0.545\u001b[39m\n",
      "\u001b[94m Наилучшие значения гиперпараметров: \u001b[92m{'C': 0.01, 'penalty': 'l2', 'solver': 'lbfgs'}\u001b[39m\n"
     ]
    }
   ],
   "source": [
    "param_grid = {'penalty': ['l2', None] ,\n",
    "              'solver': ['lbfgs', 'sag'],\n",
    "               'C': list(np.linspace(0.01, 10, 10, dtype=float))},\n",
    "\n",
    "grid_search = GridSearchCV(\n",
    "    estimator=linear_model.LogisticRegression(random_state=RANDOM_STATE, max_iter=MAX_ITER), \n",
    "    param_grid=param_grid, \n",
    "    cv=5, \n",
    "    n_jobs = -1\n",
    ")  \n",
    "\n",
    "%time grid_search.fit(X_train, y_train) \n",
    "\n",
    "printAndSaveModelResults(grid_search,'LogisticRegression GridSearch Optimization')\n",
    "\n",
    "print(f\"{Fore.LIGHTBLUE_EX} Наилучшие значения гиперпараметров: {Fore.LIGHTGREEN_EX}{grid_search.best_params_}{Fore.RESET}\")\n"
   ]
  },
  {
   "attachments": {},
   "cell_type": "markdown",
   "metadata": {},
   "source": [
    "#### Случайный лес"
   ]
  },
  {
   "cell_type": "code",
   "execution_count": 44,
   "metadata": {},
   "outputs": [
    {
     "name": "stdout",
     "output_type": "stream",
     "text": [
      "CPU times: total: 5.12 s\n",
      "Wall time: 36.1 s\n",
      "\u001b[94mf1_score на тренировочном наборе: \u001b[92m0.985\u001b[39m\n",
      "\u001b[94mf1_score на тестовом наборе: \u001b[92m0.769\u001b[39m\n",
      "\u001b[94mНаилучшие значения гиперпараметров: \u001b[92m{'max_depth': 11, 'min_samples_leaf': 3, 'n_estimators': 350}\u001b[39m\n"
     ]
    }
   ],
   "source": [
    "param_grid = {'n_estimators': list(range(100, 500, 50)),\n",
    "              'min_samples_leaf': [3,5,7],\n",
    "              'max_depth': list(np.linspace(2, 40, 5, dtype=int))\n",
    "              }\n",
    "            \n",
    "grid_search_forest = GridSearchCV(\n",
    "    estimator=ensemble.RandomForestClassifier(random_state=RANDOM_STATE), \n",
    "    param_grid=param_grid, \n",
    "    cv=5, \n",
    "    n_jobs = -1\n",
    ")  \n",
    "%time grid_search_forest.fit(X_train, y_train) \n",
    "\n",
    "printAndSaveModelResults(grid_search_forest,'RandomForestClassifier GridSearch Optimization')\n",
    "\n",
    "print(f\"{Fore.LIGHTBLUE_EX}Наилучшие значения гиперпараметров: {Fore.LIGHTGREEN_EX}{grid_search_forest.best_params_}{Fore.RESET}\")\n",
    "\n"
   ]
  },
  {
   "attachments": {},
   "cell_type": "markdown",
   "metadata": {},
   "source": [
    "### **RandomizedSearchCV**"
   ]
  },
  {
   "attachments": {},
   "cell_type": "markdown",
   "metadata": {},
   "source": [
    "#### Логистическая регрессия"
   ]
  },
  {
   "cell_type": "code",
   "execution_count": 12,
   "metadata": {},
   "outputs": [
    {
     "name": "stdout",
     "output_type": "stream",
     "text": [
      "CPU times: total: 4.19 s\n",
      "Wall time: 24.6 s\n",
      "\u001b[94mf1_score на тренировочном наборе: \u001b[92m1.000\u001b[39m\n",
      "\u001b[94mf1_score на тестовом наборе: \u001b[92m0.875\u001b[39m\n",
      "\u001b[94m Наилучшие значения гиперпараметров: \u001b[92m{'solver': 'lbfgs', 'penalty': 'l2', 'C': 0.23}\u001b[39m\n"
     ]
    }
   ],
   "source": [
    "param_distributions = {'penalty': ['l2', None] ,\n",
    "              'solver': ['lbfgs', 'sag'],\n",
    "               'C': list(np.linspace(0.01, 1, 10, dtype=float))},\n",
    "            \n",
    "random_search = RandomizedSearchCV(\n",
    "    estimator=linear_model.LogisticRegression(random_state=RANDOM_STATE, max_iter=MAX_ITER), \n",
    "    param_distributions=param_distributions, \n",
    "    cv=5, \n",
    "    n_iter = 10, \n",
    "    n_jobs = -1\n",
    ")  \n",
    "%time random_search.fit(X_train, y_train) \n",
    "\n",
    "printAndSaveModelResults(random_search,'LogisticRegression RandomSearch Optimization')\n",
    "\n",
    "print(f\"{Fore.LIGHTBLUE_EX} Наилучшие значения гиперпараметров: {Fore.LIGHTGREEN_EX}{random_search.best_params_}{Fore.RESET}\")\n",
    "\n"
   ]
  },
  {
   "attachments": {},
   "cell_type": "markdown",
   "metadata": {},
   "source": [
    "#### Случайный лес"
   ]
  },
  {
   "cell_type": "code",
   "execution_count": 13,
   "metadata": {},
   "outputs": [
    {
     "name": "stdout",
     "output_type": "stream",
     "text": [
      "CPU times: total: 2.78 s\n",
      "Wall time: 15.2 s\n",
      "\u001b[94mf1_score на тренировочном наборе: \u001b[92m0.985\u001b[39m\n",
      "\u001b[94mf1_score на тестовом наборе: \u001b[92m0.769\u001b[39m\n",
      "\u001b[94m Наилучшие значения гиперпараметров: \u001b[92m{'n_estimators': 350, 'min_samples_leaf': 3, 'max_depth': 40}\u001b[39m\n"
     ]
    }
   ],
   "source": [
    "param_distributions = {'n_estimators': list(range(100, 500, 50)),\n",
    "              'min_samples_leaf': [3,5,7],\n",
    "              'max_depth': list(np.linspace(2, 40, 5, dtype=int))\n",
    "              }\n",
    "            \n",
    "random_search_forest = RandomizedSearchCV(\n",
    "    estimator = ensemble.RandomForestClassifier(random_state=RANDOM_STATE), \n",
    "    param_distributions=param_distributions, \n",
    "    cv=5, \n",
    "    n_iter = 50, \n",
    "    n_jobs = -1\n",
    ")  \n",
    "%time random_search_forest.fit(X_train, y_train) \n",
    "\n",
    "printAndSaveModelResults(random_search_forest,'RandomForestClassifier RandomSearch Optimization')\n",
    "\n",
    "print(f\"{Fore.LIGHTBLUE_EX} Наилучшие значения гиперпараметров: {Fore.LIGHTGREEN_EX}{random_search_forest.best_params_}{Fore.RESET}\")\n",
    "\n"
   ]
  },
  {
   "cell_type": "markdown",
   "metadata": {},
   "source": [
    "### **Hyperopt**"
   ]
  },
  {
   "attachments": {},
   "cell_type": "markdown",
   "metadata": {},
   "source": [
    "##### Подготовка функций для расчета"
   ]
  },
  {
   "cell_type": "code",
   "execution_count": 14,
   "metadata": {},
   "outputs": [],
   "source": [
    "# Как то hyperopt не зажелал норм работать с hp.не помню как, поэтому триканул с hp.choice\n",
    "# обьявил отдельно, так как в предсказании, метод выдает индексы категорий, а не сами категории,\n",
    "# поэтому обьявил параметры отдельными переменными\n",
    "penalty = ['l2', None]\n",
    "solver = ['lbfgs', 'sag']\n",
    "C = np.arange(.1,1.1,.1)\n",
    "\n",
    "space = {'penalty': hp.choice('penalty', penalty) ,\n",
    "          'solver': hp.choice('solver', solver),\n",
    "          'C': hp.choice('C', C)\n",
    "          }\n",
    "\n",
    "scoreCalc = 'standard'\n",
    "modelType = 'logReg'"
   ]
  },
  {
   "cell_type": "code",
   "execution_count": 15,
   "metadata": {},
   "outputs": [],
   "source": [
    "def hyperparameter_tuning(params):\n",
    "    \"\"\"Функция для проведения оптимизации библиотекой Hyperopt\n",
    "       так же внутри проверяем для какого типа модели провести гиперпараметризацию \n",
    "       и с кроссвалидацией или без \n",
    "    Args:\n",
    "        params (params): Обьект с параметрами для обучения\n",
    "\n",
    "    Returns:\n",
    "        object: Обьект с результатом \n",
    "    \"\"\"\n",
    "    if modelType =='logReg':\n",
    "        model = linear_model.LogisticRegression(**params, random_state=RANDOM_STATE, max_iter=MAX_ITER,n_jobs=-1)\n",
    "    elif modelType == 'ranFor':\n",
    "        model = ensemble.RandomForestClassifier(**params, random_state=RANDOM_STATE, n_jobs=-1)\n",
    "    if scoreCalc == 'standard':\n",
    "        model.fit(X_train, y_train)\n",
    "        score = metrics.f1_score(y_test, model.predict(X_test))\n",
    "    elif scoreCalc == 'cross':\n",
    "        score = cross_val_score(model, X_train, y_train, cv = 5, scoring=\"f1\", n_jobs = -1).mean()\n",
    "    return {\"loss\": -score, \"status\": STATUS_OK}"
   ]
  },
  {
   "attachments": {},
   "cell_type": "markdown",
   "metadata": {},
   "source": [
    "#### Логистическая регрессия"
   ]
  },
  {
   "attachments": {},
   "cell_type": "markdown",
   "metadata": {},
   "source": [
    "##### Стандартный расчет score"
   ]
  },
  {
   "cell_type": "code",
   "execution_count": null,
   "metadata": {},
   "outputs": [],
   "source": [
    "# Initialize trials object\n",
    "trials = Trials()\n",
    "\n",
    "best = fmin(\n",
    "    fn=hyperparameter_tuning,\n",
    "    space = space, \n",
    "    algo=tpe.suggest, \n",
    "    max_evals=10, \n",
    "    trials=trials\n",
    ")\n"
   ]
  },
  {
   "cell_type": "code",
   "execution_count": null,
   "metadata": {},
   "outputs": [
    {
     "name": "stdout",
     "output_type": "stream",
     "text": [
      "\u001b[94mf1_score на тренировочном наборе: \u001b[92m1.000\u001b[39m\n",
      "\u001b[94mf1_score на тестовом наборе: \u001b[92m0.933\u001b[39m\n"
     ]
    }
   ],
   "source": [
    "log_reg_Hyperopt = linear_model.LogisticRegression(\n",
    "    random_state=RANDOM_STATE, \n",
    "    penalty=penalty[int(best['penalty'])],\n",
    "    solver=solver[int(best['solver'])],\n",
    "    C=C[int(best['C'])]\n",
    ")\n",
    "\n",
    "#Обучаем модель\n",
    "log_reg_Hyperopt.fit(X_train, y_train)\n",
    "\n",
    "printAndSaveModelResults(log_reg_Hyperopt,'LogisticRegression Hyperopt Optimization')"
   ]
  },
  {
   "attachments": {},
   "cell_type": "markdown",
   "metadata": {},
   "source": [
    "##### Кросс-валидация"
   ]
  },
  {
   "cell_type": "code",
   "execution_count": null,
   "metadata": {},
   "outputs": [
    {
     "name": "stdout",
     "output_type": "stream",
     "text": [
      "100%|██████████| 10/10 [02:04<00:00, 12.45s/trial, best loss: -0.7050727050727051]\n"
     ]
    }
   ],
   "source": [
    "# Initialize trials object\n",
    "scoreCalc = 'cross'\n",
    "\n",
    "trials = Trials()\n",
    "\n",
    "best = fmin(\n",
    "    fn=hyperparameter_tuning,\n",
    "    space = space, \n",
    "    algo=tpe.suggest, \n",
    "    max_evals=10, \n",
    "    trials=trials\n",
    ")\n"
   ]
  },
  {
   "cell_type": "code",
   "execution_count": null,
   "metadata": {},
   "outputs": [
    {
     "name": "stdout",
     "output_type": "stream",
     "text": [
      "\u001b[94mf1_score на тренировочном наборе: \u001b[92m1.000\u001b[39m\n",
      "\u001b[94mf1_score на тестовом наборе: \u001b[92m0.875\u001b[39m\n"
     ]
    }
   ],
   "source": [
    "log_reg_Hyperopt_cross = linear_model.LogisticRegression(\n",
    "    random_state=RANDOM_STATE, \n",
    "    penalty=penalty[int(best['penalty'])],\n",
    "    solver=solver[int(best['solver'])],\n",
    "    C=C[int(best['C'])]\n",
    ")\n",
    "\n",
    "#Обучаем модель\n",
    "log_reg_Hyperopt_cross.fit(X_train, y_train)\n",
    "\n",
    "printAndSaveModelResults(log_reg_Hyperopt_cross,'LogisticRegression Hyperopt Optimization with Cross Validation')"
   ]
  },
  {
   "attachments": {},
   "cell_type": "markdown",
   "metadata": {},
   "source": [
    "#### Случайный лес"
   ]
  },
  {
   "cell_type": "code",
   "execution_count": null,
   "metadata": {},
   "outputs": [],
   "source": [
    "n_estimators = np.arange(100, 500, 2, dtype = int)\n",
    "max_depth = np.arange(15, 26, 1, dtype = int)\n",
    "min_samples_leaf = np.arange(2, 11, 1, dtype=int)\n",
    "\n",
    "# зададим пространство поиска гиперпараметров\n",
    "space={'n_estimators': hp.choice('n_estimators', n_estimators ),\n",
    "       'max_depth' : hp.choice('max_depth', max_depth),\n",
    "       'min_samples_leaf': hp.choice('min_samples_leaf', min_samples_leaf)\n",
    "      }\n",
    "scoreCalc = 'standard'\n",
    "modelType = 'ranFor'"
   ]
  },
  {
   "attachments": {},
   "cell_type": "markdown",
   "metadata": {},
   "source": [
    "##### Стандартный расчет score"
   ]
  },
  {
   "cell_type": "code",
   "execution_count": null,
   "metadata": {},
   "outputs": [
    {
     "name": "stdout",
     "output_type": "stream",
     "text": [
      "100%|██████████| 10/10 [00:06<00:00,  1.55trial/s, best loss: -0.8571428571428571]\n"
     ]
    }
   ],
   "source": [
    "# Initialize trials object\n",
    "trials = Trials()\n",
    "\n",
    "best = fmin(\n",
    "    fn=hyperparameter_tuning,\n",
    "    space = space, \n",
    "    algo=tpe.suggest, \n",
    "    max_evals=10, \n",
    "    trials=trials\n",
    ")"
   ]
  },
  {
   "cell_type": "code",
   "execution_count": null,
   "metadata": {},
   "outputs": [
    {
     "name": "stdout",
     "output_type": "stream",
     "text": [
      "\u001b[94mf1_score на тренировочном наборе: \u001b[92m1.000\u001b[39m\n",
      "\u001b[94mf1_score на тестовом наборе: \u001b[92m0.857\u001b[39m\n"
     ]
    }
   ],
   "source": [
    "rf_Hyperopt = ensemble.RandomForestClassifier(\n",
    "    random_state=RANDOM_STATE, \n",
    "    n_estimators=n_estimators[int(best['n_estimators'])],\n",
    "    max_depth=max_depth[int(best['max_depth'])],\n",
    "    min_samples_leaf=min_samples_leaf[int(best['min_samples_leaf'])],\n",
    ")\n",
    "\n",
    "#Обучаем модель\n",
    "rf_Hyperopt.fit(X_train, y_train)\n",
    "\n",
    "printAndSaveModelResults(rf_Hyperopt,'RandomForestClassifier Hyperopt Optimization')"
   ]
  },
  {
   "attachments": {},
   "cell_type": "markdown",
   "metadata": {},
   "source": [
    "##### Кросс-валидация"
   ]
  },
  {
   "cell_type": "code",
   "execution_count": null,
   "metadata": {},
   "outputs": [
    {
     "name": "stdout",
     "output_type": "stream",
     "text": [
      "100%|██████████| 10/10 [00:14<00:00,  1.49s/trial, best loss: -0.48666666666666664]\n"
     ]
    }
   ],
   "source": [
    "scoreCalc = 'cross'\n",
    "# Initialize trials object\n",
    "trials = Trials()\n",
    "\n",
    "best = fmin(\n",
    "    fn=hyperparameter_tuning,\n",
    "    space = space, \n",
    "    algo=tpe.suggest, \n",
    "    max_evals=10, \n",
    "    trials=trials\n",
    ")"
   ]
  },
  {
   "cell_type": "code",
   "execution_count": null,
   "metadata": {},
   "outputs": [
    {
     "name": "stdout",
     "output_type": "stream",
     "text": [
      "\u001b[94mf1_score на тренировочном наборе: \u001b[92m0.985\u001b[39m\n",
      "\u001b[94mf1_score на тестовом наборе: \u001b[92m0.769\u001b[39m\n"
     ]
    }
   ],
   "source": [
    "rf_Hyperopt_cross = ensemble.RandomForestClassifier(\n",
    "    random_state=RANDOM_STATE, \n",
    "    n_estimators=n_estimators[int(best['n_estimators'])],\n",
    "    max_depth=max_depth[int(best['max_depth'])],\n",
    "    min_samples_leaf=min_samples_leaf[int(best['min_samples_leaf'])],\n",
    ")\n",
    "\n",
    "#Обучаем модель\n",
    "rf_Hyperopt_cross.fit(X_train, y_train)\n",
    "\n",
    "printAndSaveModelResults(rf_Hyperopt_cross,'RandomForestClassifier Hyperopt Optimization with Crossvalidation')"
   ]
  },
  {
   "attachments": {},
   "cell_type": "markdown",
   "metadata": {},
   "source": [
    "## Optuna"
   ]
  },
  {
   "attachments": {},
   "cell_type": "markdown",
   "metadata": {},
   "source": [
    "##### Подготовка функций для расчета"
   ]
  },
  {
   "cell_type": "code",
   "execution_count": 33,
   "metadata": {},
   "outputs": [],
   "source": [
    "scoreCalc = 'standard'\n",
    "modelType = 'logReg'"
   ]
  },
  {
   "cell_type": "code",
   "execution_count": 26,
   "metadata": {},
   "outputs": [],
   "source": [
    "def optuna_optimize(trial):\n",
    "  \n",
    "  # задаем пространства поиска гиперпараметров\n",
    "  if modelType == 'logReg':\n",
    "    penalty = ['l2', 'none']\n",
    "    solver = ['lbfgs', 'sag']\n",
    "    C = np.arange(.1,1.1,.1)\n",
    "  \n",
    "    penalty=trial.suggest_categorical('penalty', penalty)\n",
    "    solver=trial.suggest_categorical('solver',solver)\n",
    "    C=trial.suggest_categorical('C',C)\n",
    "    \n",
    "    model = linear_model.LogisticRegression(\n",
    "      penalty = penalty,\n",
    "      solver = solver,\n",
    "      C = C,\n",
    "      random_state = RANDOM_STATE,\n",
    "      n_jobs=-1\n",
    "    )\n",
    "\n",
    "  elif modelType == 'ranFor':\n",
    "    n_estimators = trial.suggest_int('n_estimators', 100, 310, 10)\n",
    "    min_samples_leaf = trial.suggest_int('min_samples_leaf', 3, 7, 1)\n",
    "    max_depth = trial.suggest_int('max_depth', 15, 40, 1)\n",
    "\n",
    "    # создаем модель\n",
    "    model = ensemble.RandomForestClassifier(n_estimators=n_estimators,\n",
    "                                          max_depth=max_depth,\n",
    "                                          min_samples_leaf=min_samples_leaf,\n",
    "                                          random_state=RANDOM_STATE,\n",
    "                                          n_jobs=-1\n",
    "                                          )\n",
    "  # обучаем модель\n",
    "  if scoreCalc == 'standard':\n",
    "    model.fit(X_train, y_train)\n",
    "    score = metrics.f1_score(y_test, model.predict(X_test))\n",
    "  elif scoreCalc == 'cross':\n",
    "      score = cross_val_score(model, X_train, y_train, cv = 5, scoring=\"f1\", n_jobs = -1).mean()  \n",
    "  return score"
   ]
  },
  {
   "attachments": {},
   "cell_type": "markdown",
   "metadata": {},
   "source": [
    "#### Логистическая регрессия"
   ]
  },
  {
   "attachments": {},
   "cell_type": "markdown",
   "metadata": {},
   "source": [
    "##### Стандартный расчет score"
   ]
  },
  {
   "cell_type": "code",
   "execution_count": null,
   "metadata": {},
   "outputs": [],
   "source": [
    "%time\n",
    "\n",
    "# cоздаем объект исследования\n",
    "# можем напрямую указать, что нам необходимо максимизировать метрику direction=\"maximize\"\n",
    "study_logreg = optuna.create_study(study_name=\"LogisticRegression Optuna Optimization\", \n",
    "                                   direction=\"maximize\",\n",
    "                                   storage='sqlite:///ex.db',\n",
    "                                   load_if_exists=True\n",
    "                                   )\n",
    "# ищем лучшую комбинацию гиперпараметров n_trials раз\n",
    "study_logreg.optimize(optuna_optimize, n_trials=1000\n",
    "                      , n_jobs=-1\n",
    "                      )\n",
    "\n",
    "# выводим результаты на обучающей выборке\n",
    "print(\"Наилучшие значения гиперпараметров {}\".format(study_logreg.best_params))\n",
    "print(\"f1_score на обучающем наборе: {:.2f}\".format(study_logreg.best_value))"
   ]
  },
  {
   "cell_type": "code",
   "execution_count": 13,
   "metadata": {},
   "outputs": [
    {
     "name": "stdout",
     "output_type": "stream",
     "text": [
      "\u001b[94mf1_score на тренировочном наборе: \u001b[92m0.863\u001b[39m\n",
      "\u001b[94mf1_score на тестовом наборе: \u001b[92m0.783\u001b[39m\n"
     ]
    }
   ],
   "source": [
    "# рассчитаем точность для тестовой выборки\n",
    "model = linear_model.LogisticRegression(**study_logreg.best_params,random_state=RANDOM_STATE, )\n",
    "model.fit(X_train, y_train)\n",
    "\n",
    "printAndSaveModelResults(model,'LogisticRegression Optuna Optimization')"
   ]
  },
  {
   "cell_type": "markdown",
   "metadata": {},
   "source": [
    "##### Кросс-валидация"
   ]
  },
  {
   "cell_type": "code",
   "execution_count": null,
   "metadata": {},
   "outputs": [],
   "source": [
    "%time\n",
    "\n",
    "scoreCalc = \"cross\"\n",
    "# cоздаем объект исследования\n",
    "# можем напрямую указать, что нам необходимо максимизировать метрику direction=\"maximize\"\n",
    "study_logreg_cross = optuna.create_study(study_name=\"LogisticRegression Optuna Optimization with Cross Validation\",\n",
    "                                         direction=\"maximize\",\n",
    "                                         storage='sqlite:///ex.db',\n",
    "                                         load_if_exists=True,\n",
    "                                         )\n",
    "# ищем лучшую комбинацию гиперпараметров n_trials раз\n",
    "study_logreg_cross.optimize(optuna_optimize, n_trials=20, n_jobs=-1)\n",
    "\n",
    "# выводим результаты на обучающей выборке\n",
    "print(\"Наилучшие значения гиперпараметров {}\".format(study_logreg_cross.best_params))\n",
    "print(\"f1_score на обучающем наборе: {:.2f}\".format(study_logreg_cross.best_value))"
   ]
  },
  {
   "cell_type": "code",
   "execution_count": 17,
   "metadata": {},
   "outputs": [
    {
     "name": "stdout",
     "output_type": "stream",
     "text": [
      "\u001b[94mf1_score на тренировочном наборе: \u001b[92m0.862\u001b[39m\n",
      "\u001b[94mf1_score на тестовом наборе: \u001b[92m0.781\u001b[39m\n"
     ]
    }
   ],
   "source": [
    "# рассчитаем точность для тестовой выборки\n",
    "model = linear_model.LogisticRegression(**study_logreg_cross.best_params,random_state=RANDOM_STATE, )\n",
    "model.fit(X_train, y_train)\n",
    "\n",
    "printAndSaveModelResults(model,'LogisticRegression Optuna Optimization with Cross Validation')"
   ]
  },
  {
   "attachments": {},
   "cell_type": "markdown",
   "metadata": {},
   "source": [
    "#### Случайный лес"
   ]
  },
  {
   "attachments": {},
   "cell_type": "markdown",
   "metadata": {},
   "source": [
    "##### Стандартный расчет score"
   ]
  },
  {
   "cell_type": "code",
   "execution_count": 32,
   "metadata": {},
   "outputs": [
    {
     "name": "stderr",
     "output_type": "stream",
     "text": [
      "\u001b[32m[I 2023-04-28 11:41:03,635]\u001b[0m A new study created in memory with name: RandomForestClassifier Optuna Optimization\u001b[0m\n"
     ]
    },
    {
     "name": "stdout",
     "output_type": "stream",
     "text": [
      "CPU times: total: 0 ns\n",
      "Wall time: 0 ns\n"
     ]
    },
    {
     "name": "stderr",
     "output_type": "stream",
     "text": [
      "\u001b[32m[I 2023-04-28 11:41:04,199]\u001b[0m Trial 0 finished with value: 0.828978622327791 and parameters: {'n_estimators': 180, 'min_samples_leaf': 3, 'max_depth': 17}. Best is trial 0 with value: 0.828978622327791.\u001b[0m\n",
      "\u001b[32m[I 2023-04-28 11:41:04,822]\u001b[0m Trial 1 finished with value: 0.8246445497630331 and parameters: {'n_estimators': 220, 'min_samples_leaf': 4, 'max_depth': 26}. Best is trial 0 with value: 0.828978622327791.\u001b[0m\n",
      "\u001b[32m[I 2023-04-28 11:41:05,232]\u001b[0m Trial 2 finished with value: 0.8293838862559241 and parameters: {'n_estimators': 130, 'min_samples_leaf': 5, 'max_depth': 40}. Best is trial 2 with value: 0.8293838862559241.\u001b[0m\n",
      "\u001b[32m[I 2023-04-28 11:41:05,870]\u001b[0m Trial 3 finished with value: 0.8246445497630331 and parameters: {'n_estimators': 230, 'min_samples_leaf': 4, 'max_depth': 34}. Best is trial 2 with value: 0.8293838862559241.\u001b[0m\n",
      "\u001b[32m[I 2023-04-28 11:41:06,339]\u001b[0m Trial 4 finished with value: 0.8182912154031289 and parameters: {'n_estimators': 150, 'min_samples_leaf': 6, 'max_depth': 30}. Best is trial 2 with value: 0.8293838862559241.\u001b[0m\n",
      "\u001b[32m[I 2023-04-28 11:41:06,883]\u001b[0m Trial 5 finished with value: 0.8293838862559241 and parameters: {'n_estimators': 190, 'min_samples_leaf': 5, 'max_depth': 26}. Best is trial 2 with value: 0.8293838862559241.\u001b[0m\n",
      "\u001b[32m[I 2023-04-28 11:41:07,447]\u001b[0m Trial 6 finished with value: 0.8233890214797136 and parameters: {'n_estimators': 190, 'min_samples_leaf': 4, 'max_depth': 30}. Best is trial 2 with value: 0.8293838862559241.\u001b[0m\n",
      "\u001b[32m[I 2023-04-28 11:41:08,102]\u001b[0m Trial 7 finished with value: 0.8208778173190985 and parameters: {'n_estimators': 240, 'min_samples_leaf': 4, 'max_depth': 21}. Best is trial 2 with value: 0.8293838862559241.\u001b[0m\n",
      "\u001b[32m[I 2023-04-28 11:41:08,557]\u001b[0m Trial 8 finished with value: 0.820754716981132 and parameters: {'n_estimators': 150, 'min_samples_leaf': 7, 'max_depth': 34}. Best is trial 2 with value: 0.8293838862559241.\u001b[0m\n",
      "\u001b[32m[I 2023-04-28 11:41:09,215]\u001b[0m Trial 9 finished with value: 0.8172043010752688 and parameters: {'n_estimators': 240, 'min_samples_leaf': 6, 'max_depth': 32}. Best is trial 2 with value: 0.8293838862559241.\u001b[0m\n",
      "\u001b[32m[I 2023-04-28 11:41:09,577]\u001b[0m Trial 10 finished with value: 0.8128724672228843 and parameters: {'n_estimators': 100, 'min_samples_leaf': 6, 'max_depth': 38}. Best is trial 2 with value: 0.8293838862559241.\u001b[0m\n",
      "\u001b[32m[I 2023-04-28 11:41:10,668]\u001b[0m Trial 11 finished with value: 0.8274231678486997 and parameters: {'n_estimators': 310, 'min_samples_leaf': 5, 'max_depth': 24}. Best is trial 2 with value: 0.8293838862559241.\u001b[0m\n",
      "\u001b[32m[I 2023-04-28 11:41:11,041]\u001b[0m Trial 12 finished with value: 0.8261904761904761 and parameters: {'n_estimators': 100, 'min_samples_leaf': 5, 'max_depth': 40}. Best is trial 2 with value: 0.8293838862559241.\u001b[0m\n",
      "\u001b[32m[I 2023-04-28 11:41:11,517]\u001b[0m Trial 13 finished with value: 0.8179669030732861 and parameters: {'n_estimators': 150, 'min_samples_leaf': 5, 'max_depth': 21}. Best is trial 2 with value: 0.8293838862559241.\u001b[0m\n",
      "\u001b[32m[I 2023-04-28 11:41:11,954]\u001b[0m Trial 14 finished with value: 0.8202115158636898 and parameters: {'n_estimators': 130, 'min_samples_leaf': 7, 'max_depth': 37}. Best is trial 2 with value: 0.8293838862559241.\u001b[0m\n",
      "\u001b[32m[I 2023-04-28 11:41:12,727]\u001b[0m Trial 15 finished with value: 0.8257756563245824 and parameters: {'n_estimators': 270, 'min_samples_leaf': 3, 'max_depth': 27}. Best is trial 2 with value: 0.8293838862559241.\u001b[0m\n",
      "\u001b[32m[I 2023-04-28 11:41:13,304]\u001b[0m Trial 16 finished with value: 0.8163265306122449 and parameters: {'n_estimators': 190, 'min_samples_leaf': 6, 'max_depth': 23}. Best is trial 2 with value: 0.8293838862559241.\u001b[0m\n",
      "\u001b[32m[I 2023-04-28 11:41:13,732]\u001b[0m Trial 17 finished with value: 0.824228028503563 and parameters: {'n_estimators': 130, 'min_samples_leaf': 5, 'max_depth': 15}. Best is trial 2 with value: 0.8293838862559241.\u001b[0m\n",
      "\u001b[32m[I 2023-04-28 11:41:14,257]\u001b[0m Trial 18 finished with value: 0.8261904761904761 and parameters: {'n_estimators': 170, 'min_samples_leaf': 5, 'max_depth': 29}. Best is trial 2 with value: 0.8293838862559241.\u001b[0m\n",
      "\u001b[32m[I 2023-04-28 11:41:15,009]\u001b[0m Trial 19 finished with value: 0.8250591016548463 and parameters: {'n_estimators': 270, 'min_samples_leaf': 4, 'max_depth': 34}. Best is trial 2 with value: 0.8293838862559241.\u001b[0m\n",
      "\u001b[32m[I 2023-04-28 11:41:15,588]\u001b[0m Trial 20 finished with value: 0.8215568862275449 and parameters: {'n_estimators': 200, 'min_samples_leaf': 6, 'max_depth': 19}. Best is trial 2 with value: 0.8293838862559241.\u001b[0m\n",
      "\u001b[32m[I 2023-04-28 11:41:16,111]\u001b[0m Trial 21 finished with value: 0.8279952550415184 and parameters: {'n_estimators': 170, 'min_samples_leaf': 3, 'max_depth': 18}. Best is trial 2 with value: 0.8293838862559241.\u001b[0m\n",
      "\u001b[32m[I 2023-04-28 11:41:16,627]\u001b[0m Trial 22 finished with value: 0.8238095238095238 and parameters: {'n_estimators': 170, 'min_samples_leaf': 3, 'max_depth': 16}. Best is trial 2 with value: 0.8293838862559241.\u001b[0m\n",
      "\u001b[32m[I 2023-04-28 11:41:17,036]\u001b[0m Trial 23 finished with value: 0.8233890214797136 and parameters: {'n_estimators': 120, 'min_samples_leaf': 3, 'max_depth': 25}. Best is trial 2 with value: 0.8293838862559241.\u001b[0m\n",
      "\u001b[32m[I 2023-04-28 11:41:17,600]\u001b[0m Trial 24 finished with value: 0.8247914183551848 and parameters: {'n_estimators': 180, 'min_samples_leaf': 4, 'max_depth': 22}. Best is trial 2 with value: 0.8293838862559241.\u001b[0m\n",
      "\u001b[32m[I 2023-04-28 11:41:18,208]\u001b[0m Trial 25 finished with value: 0.817102137767221 and parameters: {'n_estimators': 210, 'min_samples_leaf': 5, 'max_depth': 18}. Best is trial 2 with value: 0.8293838862559241.\u001b[0m\n",
      "\u001b[32m[I 2023-04-28 11:41:18,677]\u001b[0m Trial 26 finished with value: 0.820754716981132 and parameters: {'n_estimators': 150, 'min_samples_leaf': 7, 'max_depth': 28}. Best is trial 2 with value: 0.8293838862559241.\u001b[0m\n",
      "\u001b[32m[I 2023-04-28 11:41:19,100]\u001b[0m Trial 27 finished with value: 0.8293838862559241 and parameters: {'n_estimators': 130, 'min_samples_leaf': 5, 'max_depth': 32}. Best is trial 2 with value: 0.8293838862559241.\u001b[0m\n",
      "\u001b[32m[I 2023-04-28 11:41:19,500]\u001b[0m Trial 28 finished with value: 0.8297872340425532 and parameters: {'n_estimators': 120, 'min_samples_leaf': 5, 'max_depth': 37}. Best is trial 28 with value: 0.8297872340425532.\u001b[0m\n",
      "\u001b[32m[I 2023-04-28 11:41:19,881]\u001b[0m Trial 29 finished with value: 0.81145584725537 and parameters: {'n_estimators': 110, 'min_samples_leaf': 6, 'max_depth': 39}. Best is trial 28 with value: 0.8297872340425532.\u001b[0m\n",
      "\u001b[32m[I 2023-04-28 11:41:20,283]\u001b[0m Trial 30 finished with value: 0.8297872340425532 and parameters: {'n_estimators': 120, 'min_samples_leaf': 5, 'max_depth': 37}. Best is trial 28 with value: 0.8297872340425532.\u001b[0m\n",
      "\u001b[32m[I 2023-04-28 11:41:20,685]\u001b[0m Trial 31 finished with value: 0.8297872340425532 and parameters: {'n_estimators': 120, 'min_samples_leaf': 5, 'max_depth': 36}. Best is trial 28 with value: 0.8297872340425532.\u001b[0m\n",
      "\u001b[32m[I 2023-04-28 11:41:21,065]\u001b[0m Trial 32 finished with value: 0.8285714285714285 and parameters: {'n_estimators': 110, 'min_samples_leaf': 5, 'max_depth': 36}. Best is trial 28 with value: 0.8297872340425532.\u001b[0m\n",
      "\u001b[32m[I 2023-04-28 11:41:21,515]\u001b[0m Trial 33 finished with value: 0.8247914183551848 and parameters: {'n_estimators': 140, 'min_samples_leaf': 4, 'max_depth': 40}. Best is trial 28 with value: 0.8297872340425532.\u001b[0m\n",
      "\u001b[32m[I 2023-04-28 11:41:21,917]\u001b[0m Trial 34 finished with value: 0.8297872340425532 and parameters: {'n_estimators': 120, 'min_samples_leaf': 5, 'max_depth': 36}. Best is trial 28 with value: 0.8297872340425532.\u001b[0m\n",
      "\u001b[32m[I 2023-04-28 11:41:22,299]\u001b[0m Trial 35 finished with value: 0.820574162679426 and parameters: {'n_estimators': 110, 'min_samples_leaf': 4, 'max_depth': 36}. Best is trial 28 with value: 0.8297872340425532.\u001b[0m\n",
      "\u001b[32m[I 2023-04-28 11:41:22,704]\u001b[0m Trial 36 finished with value: 0.8297872340425532 and parameters: {'n_estimators': 120, 'min_samples_leaf': 5, 'max_depth': 35}. Best is trial 28 with value: 0.8297872340425532.\u001b[0m\n",
      "\u001b[32m[I 2023-04-28 11:41:23,148]\u001b[0m Trial 37 finished with value: 0.8187274909963986 and parameters: {'n_estimators': 140, 'min_samples_leaf': 6, 'max_depth': 32}. Best is trial 28 with value: 0.8297872340425532.\u001b[0m\n",
      "\u001b[32m[I 2023-04-28 11:41:23,507]\u001b[0m Trial 38 finished with value: 0.8261904761904761 and parameters: {'n_estimators': 100, 'min_samples_leaf': 5, 'max_depth': 38}. Best is trial 28 with value: 0.8297872340425532.\u001b[0m\n",
      "\u001b[32m[I 2023-04-28 11:41:23,992]\u001b[0m Trial 39 finished with value: 0.8261904761904761 and parameters: {'n_estimators': 160, 'min_samples_leaf': 5, 'max_depth': 33}. Best is trial 28 with value: 0.8297872340425532.\u001b[0m\n",
      "\u001b[32m[I 2023-04-28 11:41:24,411]\u001b[0m Trial 40 finished with value: 0.8152562574493444 and parameters: {'n_estimators': 120, 'min_samples_leaf': 4, 'max_depth': 37}. Best is trial 28 with value: 0.8297872340425532.\u001b[0m\n",
      "\u001b[32m[I 2023-04-28 11:41:24,812]\u001b[0m Trial 41 finished with value: 0.8297872340425532 and parameters: {'n_estimators': 120, 'min_samples_leaf': 5, 'max_depth': 35}. Best is trial 28 with value: 0.8297872340425532.\u001b[0m\n",
      "\u001b[32m[I 2023-04-28 11:41:25,255]\u001b[0m Trial 42 finished with value: 0.8246445497630331 and parameters: {'n_estimators': 140, 'min_samples_leaf': 5, 'max_depth': 35}. Best is trial 28 with value: 0.8297872340425532.\u001b[0m\n",
      "\u001b[32m[I 2023-04-28 11:41:25,639]\u001b[0m Trial 43 finished with value: 0.81145584725537 and parameters: {'n_estimators': 110, 'min_samples_leaf': 6, 'max_depth': 37}. Best is trial 28 with value: 0.8297872340425532.\u001b[0m\n",
      "\u001b[32m[I 2023-04-28 11:41:26,042]\u001b[0m Trial 44 finished with value: 0.8297872340425532 and parameters: {'n_estimators': 120, 'min_samples_leaf': 5, 'max_depth': 39}. Best is trial 28 with value: 0.8297872340425532.\u001b[0m\n",
      "\u001b[32m[I 2023-04-28 11:41:26,511]\u001b[0m Trial 45 finished with value: 0.8247914183551848 and parameters: {'n_estimators': 140, 'min_samples_leaf': 4, 'max_depth': 31}. Best is trial 28 with value: 0.8297872340425532.\u001b[0m\n",
      "\u001b[32m[I 2023-04-28 11:41:26,876]\u001b[0m Trial 46 finished with value: 0.8261904761904761 and parameters: {'n_estimators': 100, 'min_samples_leaf': 5, 'max_depth': 35}. Best is trial 28 with value: 0.8297872340425532.\u001b[0m\n",
      "\u001b[32m[I 2023-04-28 11:41:27,367]\u001b[0m Trial 47 finished with value: 0.8261904761904761 and parameters: {'n_estimators': 160, 'min_samples_leaf': 5, 'max_depth': 38}. Best is trial 28 with value: 0.8297872340425532.\u001b[0m\n",
      "\u001b[32m[I 2023-04-28 11:41:27,797]\u001b[0m Trial 48 finished with value: 0.8110047846889953 and parameters: {'n_estimators': 130, 'min_samples_leaf': 6, 'max_depth': 33}. Best is trial 28 with value: 0.8297872340425532.\u001b[0m\n",
      "\u001b[32m[I 2023-04-28 11:41:28,176]\u001b[0m Trial 49 finished with value: 0.8285714285714285 and parameters: {'n_estimators': 110, 'min_samples_leaf': 5, 'max_depth': 36}. Best is trial 28 with value: 0.8297872340425532.\u001b[0m\n",
      "\u001b[32m[I 2023-04-28 11:41:28,602]\u001b[0m Trial 50 finished with value: 0.8293838862559241 and parameters: {'n_estimators': 130, 'min_samples_leaf': 5, 'max_depth': 39}. Best is trial 28 with value: 0.8297872340425532.\u001b[0m\n",
      "\u001b[32m[I 2023-04-28 11:41:29,022]\u001b[0m Trial 51 finished with value: 0.8297872340425532 and parameters: {'n_estimators': 120, 'min_samples_leaf': 5, 'max_depth': 35}. Best is trial 28 with value: 0.8297872340425532.\u001b[0m\n",
      "\u001b[32m[I 2023-04-28 11:41:29,424]\u001b[0m Trial 52 finished with value: 0.8297872340425532 and parameters: {'n_estimators': 120, 'min_samples_leaf': 5, 'max_depth': 34}. Best is trial 28 with value: 0.8297872340425532.\u001b[0m\n",
      "\u001b[32m[I 2023-04-28 11:41:29,901]\u001b[0m Trial 53 finished with value: 0.8182912154031289 and parameters: {'n_estimators': 150, 'min_samples_leaf': 6, 'max_depth': 37}. Best is trial 28 with value: 0.8297872340425532.\u001b[0m\n",
      "\u001b[32m[I 2023-04-28 11:41:30,262]\u001b[0m Trial 54 finished with value: 0.8261904761904761 and parameters: {'n_estimators': 100, 'min_samples_leaf': 5, 'max_depth': 33}. Best is trial 28 with value: 0.8297872340425532.\u001b[0m\n",
      "\u001b[32m[I 2023-04-28 11:41:30,689]\u001b[0m Trial 55 finished with value: 0.8293838862559241 and parameters: {'n_estimators': 130, 'min_samples_leaf': 5, 'max_depth': 30}. Best is trial 28 with value: 0.8297872340425532.\u001b[0m\n",
      "\u001b[32m[I 2023-04-28 11:41:31,094]\u001b[0m Trial 56 finished with value: 0.8152562574493444 and parameters: {'n_estimators': 120, 'min_samples_leaf': 4, 'max_depth': 35}. Best is trial 28 with value: 0.8297872340425532.\u001b[0m\n",
      "\u001b[32m[I 2023-04-28 11:41:31,593]\u001b[0m Trial 57 finished with value: 0.8271752085816448 and parameters: {'n_estimators': 160, 'min_samples_leaf': 4, 'max_depth': 38}. Best is trial 28 with value: 0.8297872340425532.\u001b[0m\n",
      "\u001b[32m[I 2023-04-28 11:41:32,041]\u001b[0m Trial 58 finished with value: 0.8246445497630331 and parameters: {'n_estimators': 140, 'min_samples_leaf': 5, 'max_depth': 34}. Best is trial 28 with value: 0.8297872340425532.\u001b[0m\n",
      "\u001b[32m[I 2023-04-28 11:41:32,417]\u001b[0m Trial 59 finished with value: 0.81145584725537 and parameters: {'n_estimators': 110, 'min_samples_leaf': 6, 'max_depth': 36}. Best is trial 28 with value: 0.8297872340425532.\u001b[0m\n",
      "\u001b[32m[I 2023-04-28 11:41:33,166]\u001b[0m Trial 60 finished with value: 0.8307692307692307 and parameters: {'n_estimators': 270, 'min_samples_leaf': 5, 'max_depth': 38}. Best is trial 60 with value: 0.8307692307692307.\u001b[0m\n",
      "\u001b[32m[I 2023-04-28 11:41:33,969]\u001b[0m Trial 61 finished with value: 0.8264462809917356 and parameters: {'n_estimators': 300, 'min_samples_leaf': 5, 'max_depth': 40}. Best is trial 60 with value: 0.8307692307692307.\u001b[0m\n",
      "\u001b[32m[I 2023-04-28 11:41:34,872]\u001b[0m Trial 62 finished with value: 0.8293838862559241 and parameters: {'n_estimators': 260, 'min_samples_leaf': 5, 'max_depth': 38}. Best is trial 60 with value: 0.8307692307692307.\u001b[0m\n",
      "\u001b[32m[I 2023-04-28 11:41:35,549]\u001b[0m Trial 63 finished with value: 0.8293838862559241 and parameters: {'n_estimators': 240, 'min_samples_leaf': 5, 'max_depth': 37}. Best is trial 60 with value: 0.8307692307692307.\u001b[0m\n",
      "\u001b[32m[I 2023-04-28 11:41:36,176]\u001b[0m Trial 64 finished with value: 0.8279952550415184 and parameters: {'n_estimators': 220, 'min_samples_leaf': 5, 'max_depth': 39}. Best is trial 60 with value: 0.8307692307692307.\u001b[0m\n",
      "\u001b[32m[I 2023-04-28 11:41:36,865]\u001b[0m Trial 65 finished with value: 0.8270142180094787 and parameters: {'n_estimators': 250, 'min_samples_leaf': 5, 'max_depth': 36}. Best is trial 60 with value: 0.8307692307692307.\u001b[0m\n",
      "\u001b[32m[I 2023-04-28 11:41:37,701]\u001b[0m Trial 66 finished with value: 0.8297872340425532 and parameters: {'n_estimators': 290, 'min_samples_leaf': 5, 'max_depth': 35}. Best is trial 60 with value: 0.8307692307692307.\u001b[0m\n",
      "\u001b[32m[I 2023-04-28 11:41:38,066]\u001b[0m Trial 67 finished with value: 0.8128724672228843 and parameters: {'n_estimators': 100, 'min_samples_leaf': 6, 'max_depth': 37}. Best is trial 60 with value: 0.8307692307692307.\u001b[0m\n",
      "\u001b[32m[I 2023-04-28 11:41:38,863]\u001b[0m Trial 68 finished with value: 0.8274231678486997 and parameters: {'n_estimators': 280, 'min_samples_leaf': 5, 'max_depth': 33}. Best is trial 60 with value: 0.8307692307692307.\u001b[0m\n",
      "\u001b[32m[I 2023-04-28 11:41:39,299]\u001b[0m Trial 69 finished with value: 0.8210023866348448 and parameters: {'n_estimators': 130, 'min_samples_leaf': 4, 'max_depth': 34}. Best is trial 60 with value: 0.8307692307692307.\u001b[0m\n",
      "\u001b[32m[I 2023-04-28 11:41:39,885]\u001b[0m Trial 70 finished with value: 0.8293838862559241 and parameters: {'n_estimators': 200, 'min_samples_leaf': 5, 'max_depth': 40}. Best is trial 60 with value: 0.8307692307692307.\u001b[0m\n",
      "\u001b[32m[I 2023-04-28 11:41:40,288]\u001b[0m Trial 71 finished with value: 0.8297872340425532 and parameters: {'n_estimators': 120, 'min_samples_leaf': 5, 'max_depth': 39}. Best is trial 60 with value: 0.8307692307692307.\u001b[0m\n",
      "\u001b[32m[I 2023-04-28 11:41:40,690]\u001b[0m Trial 72 finished with value: 0.8297872340425532 and parameters: {'n_estimators': 120, 'min_samples_leaf': 5, 'max_depth': 38}. Best is trial 60 with value: 0.8307692307692307.\u001b[0m\n",
      "\u001b[32m[I 2023-04-28 11:41:41,079]\u001b[0m Trial 73 finished with value: 0.8285714285714285 and parameters: {'n_estimators': 110, 'min_samples_leaf': 5, 'max_depth': 39}. Best is trial 60 with value: 0.8307692307692307.\u001b[0m\n",
      "\u001b[32m[I 2023-04-28 11:41:41,509]\u001b[0m Trial 74 finished with value: 0.8293838862559241 and parameters: {'n_estimators': 130, 'min_samples_leaf': 5, 'max_depth': 36}. Best is trial 60 with value: 0.8307692307692307.\u001b[0m\n",
      "\u001b[32m[I 2023-04-28 11:41:41,960]\u001b[0m Trial 75 finished with value: 0.8246445497630331 and parameters: {'n_estimators': 140, 'min_samples_leaf': 5, 'max_depth': 39}. Best is trial 60 with value: 0.8307692307692307.\u001b[0m\n",
      "\u001b[32m[I 2023-04-28 11:41:42,807]\u001b[0m Trial 76 finished with value: 0.8274231678486997 and parameters: {'n_estimators': 310, 'min_samples_leaf': 5, 'max_depth': 38}. Best is trial 60 with value: 0.8307692307692307.\u001b[0m\n",
      "\u001b[32m[I 2023-04-28 11:41:43,223]\u001b[0m Trial 77 finished with value: 0.8152562574493444 and parameters: {'n_estimators': 120, 'min_samples_leaf': 4, 'max_depth': 37}. Best is trial 60 with value: 0.8307692307692307.\u001b[0m\n",
      "\u001b[32m[I 2023-04-28 11:41:43,769]\u001b[0m Trial 78 finished with value: 0.8188405797101449 and parameters: {'n_estimators': 180, 'min_samples_leaf': 6, 'max_depth': 40}. Best is trial 60 with value: 0.8307692307692307.\u001b[0m\n",
      "\u001b[32m[I 2023-04-28 11:41:44,129]\u001b[0m Trial 79 finished with value: 0.8261904761904761 and parameters: {'n_estimators': 100, 'min_samples_leaf': 5, 'max_depth': 35}. Best is trial 60 with value: 0.8307692307692307.\u001b[0m\n",
      "\u001b[32m[I 2023-04-28 11:41:44,601]\u001b[0m Trial 80 finished with value: 0.8232502965599051 and parameters: {'n_estimators': 150, 'min_samples_leaf': 5, 'max_depth': 31}. Best is trial 60 with value: 0.8307692307692307.\u001b[0m\n",
      "\u001b[32m[I 2023-04-28 11:41:45,001]\u001b[0m Trial 81 finished with value: 0.8297872340425532 and parameters: {'n_estimators': 120, 'min_samples_leaf': 5, 'max_depth': 36}. Best is trial 60 with value: 0.8307692307692307.\u001b[0m\n",
      "\u001b[32m[I 2023-04-28 11:41:45,387]\u001b[0m Trial 82 finished with value: 0.8285714285714285 and parameters: {'n_estimators': 110, 'min_samples_leaf': 5, 'max_depth': 35}. Best is trial 60 with value: 0.8307692307692307.\u001b[0m\n",
      "\u001b[32m[I 2023-04-28 11:41:45,768]\u001b[0m Trial 83 finished with value: 0.8285714285714285 and parameters: {'n_estimators': 110, 'min_samples_leaf': 5, 'max_depth': 37}. Best is trial 60 with value: 0.8307692307692307.\u001b[0m\n",
      "\u001b[32m[I 2023-04-28 11:41:46,197]\u001b[0m Trial 84 finished with value: 0.8293838862559241 and parameters: {'n_estimators': 130, 'min_samples_leaf': 5, 'max_depth': 35}. Best is trial 60 with value: 0.8307692307692307.\u001b[0m\n",
      "\u001b[32m[I 2023-04-28 11:41:46,614]\u001b[0m Trial 85 finished with value: 0.8297872340425532 and parameters: {'n_estimators': 120, 'min_samples_leaf': 5, 'max_depth': 36}. Best is trial 60 with value: 0.8307692307692307.\u001b[0m\n",
      "\u001b[32m[I 2023-04-28 11:41:47,067]\u001b[0m Trial 86 finished with value: 0.8246445497630331 and parameters: {'n_estimators': 140, 'min_samples_leaf': 5, 'max_depth': 34}. Best is trial 60 with value: 0.8307692307692307.\u001b[0m\n",
      "\u001b[32m[I 2023-04-28 11:41:47,500]\u001b[0m Trial 87 finished with value: 0.8293838862559241 and parameters: {'n_estimators': 130, 'min_samples_leaf': 5, 'max_depth': 38}. Best is trial 60 with value: 0.8307692307692307.\u001b[0m\n",
      "\u001b[32m[I 2023-04-28 11:41:47,861]\u001b[0m Trial 88 finished with value: 0.8299643281807373 and parameters: {'n_estimators': 100, 'min_samples_leaf': 5, 'max_depth': 26}. Best is trial 60 with value: 0.8307692307692307.\u001b[0m\n",
      "\u001b[32m[I 2023-04-28 11:41:48,226]\u001b[0m Trial 89 finished with value: 0.8307692307692307 and parameters: {'n_estimators': 100, 'min_samples_leaf': 5, 'max_depth': 25}. Best is trial 60 with value: 0.8307692307692307.\u001b[0m\n",
      "\u001b[32m[I 2023-04-28 11:41:48,584]\u001b[0m Trial 90 finished with value: 0.8129496402877698 and parameters: {'n_estimators': 100, 'min_samples_leaf': 6, 'max_depth': 25}. Best is trial 60 with value: 0.8307692307692307.\u001b[0m\n",
      "\u001b[32m[I 2023-04-28 11:41:48,968]\u001b[0m Trial 91 finished with value: 0.8323424494649226 and parameters: {'n_estimators': 110, 'min_samples_leaf': 5, 'max_depth': 25}. Best is trial 91 with value: 0.8323424494649226.\u001b[0m\n",
      "\u001b[32m[I 2023-04-28 11:41:49,334]\u001b[0m Trial 92 finished with value: 0.8261904761904761 and parameters: {'n_estimators': 100, 'min_samples_leaf': 5, 'max_depth': 27}. Best is trial 91 with value: 0.8323424494649226.\u001b[0m\n",
      "\u001b[32m[I 2023-04-28 11:41:49,719]\u001b[0m Trial 93 finished with value: 0.8309523809523809 and parameters: {'n_estimators': 110, 'min_samples_leaf': 5, 'max_depth': 23}. Best is trial 91 with value: 0.8323424494649226.\u001b[0m\n",
      "\u001b[32m[I 2023-04-28 11:41:50,117]\u001b[0m Trial 94 finished with value: 0.8309523809523809 and parameters: {'n_estimators': 110, 'min_samples_leaf': 5, 'max_depth': 23}. Best is trial 91 with value: 0.8323424494649226.\u001b[0m\n",
      "\u001b[32m[I 2023-04-28 11:41:50,502]\u001b[0m Trial 95 finished with value: 0.8309523809523809 and parameters: {'n_estimators': 110, 'min_samples_leaf': 5, 'max_depth': 23}. Best is trial 91 with value: 0.8323424494649226.\u001b[0m\n",
      "\u001b[32m[I 2023-04-28 11:41:50,883]\u001b[0m Trial 96 finished with value: 0.8309523809523809 and parameters: {'n_estimators': 110, 'min_samples_leaf': 5, 'max_depth': 23}. Best is trial 91 with value: 0.8323424494649226.\u001b[0m\n",
      "\u001b[32m[I 2023-04-28 11:41:51,265]\u001b[0m Trial 97 finished with value: 0.8309523809523809 and parameters: {'n_estimators': 110, 'min_samples_leaf': 5, 'max_depth': 23}. Best is trial 91 with value: 0.8323424494649226.\u001b[0m\n",
      "\u001b[32m[I 2023-04-28 11:41:51,649]\u001b[0m Trial 98 finished with value: 0.8309523809523809 and parameters: {'n_estimators': 110, 'min_samples_leaf': 5, 'max_depth': 23}. Best is trial 91 with value: 0.8323424494649226.\u001b[0m\n",
      "\u001b[32m[I 2023-04-28 11:41:52,033]\u001b[0m Trial 99 finished with value: 0.8309523809523809 and parameters: {'n_estimators': 110, 'min_samples_leaf': 5, 'max_depth': 23}. Best is trial 91 with value: 0.8323424494649226.\u001b[0m\n",
      "\u001b[32m[I 2023-04-28 11:41:52,414]\u001b[0m Trial 100 finished with value: 0.8309523809523809 and parameters: {'n_estimators': 110, 'min_samples_leaf': 5, 'max_depth': 23}. Best is trial 91 with value: 0.8323424494649226.\u001b[0m\n",
      "\u001b[32m[I 2023-04-28 11:41:52,793]\u001b[0m Trial 101 finished with value: 0.8309523809523809 and parameters: {'n_estimators': 110, 'min_samples_leaf': 5, 'max_depth': 23}. Best is trial 91 with value: 0.8323424494649226.\u001b[0m\n",
      "\u001b[32m[I 2023-04-28 11:41:53,178]\u001b[0m Trial 102 finished with value: 0.8299643281807373 and parameters: {'n_estimators': 110, 'min_samples_leaf': 5, 'max_depth': 22}. Best is trial 91 with value: 0.8323424494649226.\u001b[0m\n",
      "\u001b[32m[I 2023-04-28 11:41:53,561]\u001b[0m Trial 103 finished with value: 0.8309523809523809 and parameters: {'n_estimators': 110, 'min_samples_leaf': 5, 'max_depth': 23}. Best is trial 91 with value: 0.8323424494649226.\u001b[0m\n",
      "\u001b[32m[I 2023-04-28 11:41:53,943]\u001b[0m Trial 104 finished with value: 0.8309523809523809 and parameters: {'n_estimators': 110, 'min_samples_leaf': 5, 'max_depth': 23}. Best is trial 91 with value: 0.8323424494649226.\u001b[0m\n",
      "\u001b[32m[I 2023-04-28 11:41:54,324]\u001b[0m Trial 105 finished with value: 0.8239520958083831 and parameters: {'n_estimators': 110, 'min_samples_leaf': 5, 'max_depth': 20}. Best is trial 91 with value: 0.8323424494649226.\u001b[0m\n",
      "\u001b[32m[I 2023-04-28 11:41:54,702]\u001b[0m Trial 106 finished with value: 0.8309523809523809 and parameters: {'n_estimators': 110, 'min_samples_leaf': 5, 'max_depth': 23}. Best is trial 91 with value: 0.8323424494649226.\u001b[0m\n",
      "\u001b[32m[I 2023-04-28 11:41:55,059]\u001b[0m Trial 107 finished with value: 0.8257756563245824 and parameters: {'n_estimators': 100, 'min_samples_leaf': 5, 'max_depth': 24}. Best is trial 91 with value: 0.8323424494649226.\u001b[0m\n",
      "\u001b[32m[I 2023-04-28 11:41:55,441]\u001b[0m Trial 108 finished with value: 0.8299643281807373 and parameters: {'n_estimators': 110, 'min_samples_leaf': 5, 'max_depth': 22}. Best is trial 91 with value: 0.8323424494649226.\u001b[0m\n",
      "\u001b[32m[I 2023-04-28 11:41:55,806]\u001b[0m Trial 109 finished with value: 0.8257756563245824 and parameters: {'n_estimators': 100, 'min_samples_leaf': 5, 'max_depth': 24}. Best is trial 91 with value: 0.8323424494649226.\u001b[0m\n",
      "\u001b[32m[I 2023-04-28 11:41:56,191]\u001b[0m Trial 110 finished with value: 0.8293838862559241 and parameters: {'n_estimators': 110, 'min_samples_leaf': 5, 'max_depth': 21}. Best is trial 91 with value: 0.8323424494649226.\u001b[0m\n",
      "\u001b[32m[I 2023-04-28 11:41:56,572]\u001b[0m Trial 111 finished with value: 0.8309523809523809 and parameters: {'n_estimators': 110, 'min_samples_leaf': 5, 'max_depth': 23}. Best is trial 91 with value: 0.8323424494649226.\u001b[0m\n",
      "\u001b[32m[I 2023-04-28 11:41:57,131]\u001b[0m Trial 112 finished with value: 0.8299643281807373 and parameters: {'n_estimators': 110, 'min_samples_leaf': 5, 'max_depth': 22}. Best is trial 91 with value: 0.8323424494649226.\u001b[0m\n",
      "\u001b[32m[I 2023-04-28 11:41:57,490]\u001b[0m Trial 113 finished with value: 0.8347205707491082 and parameters: {'n_estimators': 100, 'min_samples_leaf': 5, 'max_depth': 23}. Best is trial 113 with value: 0.8347205707491082.\u001b[0m\n",
      "\u001b[32m[I 2023-04-28 11:41:57,847]\u001b[0m Trial 114 finished with value: 0.8257756563245824 and parameters: {'n_estimators': 100, 'min_samples_leaf': 5, 'max_depth': 24}. Best is trial 113 with value: 0.8347205707491082.\u001b[0m\n",
      "\u001b[32m[I 2023-04-28 11:41:58,216]\u001b[0m Trial 115 finished with value: 0.8264462809917356 and parameters: {'n_estimators': 100, 'min_samples_leaf': 5, 'max_depth': 21}. Best is trial 113 with value: 0.8347205707491082.\u001b[0m\n",
      "\u001b[32m[I 2023-04-28 11:41:58,578]\u001b[0m Trial 116 finished with value: 0.8257756563245824 and parameters: {'n_estimators': 100, 'min_samples_leaf': 5, 'max_depth': 24}. Best is trial 113 with value: 0.8347205707491082.\u001b[0m\n",
      "\u001b[32m[I 2023-04-28 11:41:58,981]\u001b[0m Trial 117 finished with value: 0.8303677342823249 and parameters: {'n_estimators': 120, 'min_samples_leaf': 5, 'max_depth': 22}. Best is trial 113 with value: 0.8347205707491082.\u001b[0m\n",
      "\u001b[32m[I 2023-04-28 11:41:59,364]\u001b[0m Trial 118 finished with value: 0.8285714285714285 and parameters: {'n_estimators': 110, 'min_samples_leaf': 5, 'max_depth': 26}. Best is trial 113 with value: 0.8347205707491082.\u001b[0m\n",
      "\u001b[32m[I 2023-04-28 11:41:59,781]\u001b[0m Trial 119 finished with value: 0.8293838862559241 and parameters: {'n_estimators': 120, 'min_samples_leaf': 5, 'max_depth': 23}. Best is trial 113 with value: 0.8347205707491082.\u001b[0m\n",
      "\u001b[32m[I 2023-04-28 11:42:00,207]\u001b[0m Trial 120 finished with value: 0.820574162679426 and parameters: {'n_estimators': 130, 'min_samples_leaf': 5, 'max_depth': 20}. Best is trial 113 with value: 0.8347205707491082.\u001b[0m\n",
      "\u001b[32m[I 2023-04-28 11:42:00,592]\u001b[0m Trial 121 finished with value: 0.8309523809523809 and parameters: {'n_estimators': 110, 'min_samples_leaf': 5, 'max_depth': 23}. Best is trial 113 with value: 0.8347205707491082.\u001b[0m\n",
      "\u001b[32m[I 2023-04-28 11:42:00,977]\u001b[0m Trial 122 finished with value: 0.8309523809523809 and parameters: {'n_estimators': 110, 'min_samples_leaf': 5, 'max_depth': 23}. Best is trial 113 with value: 0.8347205707491082.\u001b[0m\n",
      "\u001b[32m[I 2023-04-28 11:42:01,335]\u001b[0m Trial 123 finished with value: 0.8307692307692307 and parameters: {'n_estimators': 100, 'min_samples_leaf': 5, 'max_depth': 25}. Best is trial 113 with value: 0.8347205707491082.\u001b[0m\n",
      "\u001b[32m[I 2023-04-28 11:42:01,717]\u001b[0m Trial 124 finished with value: 0.8271752085816448 and parameters: {'n_estimators': 110, 'min_samples_leaf': 5, 'max_depth': 24}. Best is trial 113 with value: 0.8347205707491082.\u001b[0m\n",
      "\u001b[32m[I 2023-04-28 11:42:02,120]\u001b[0m Trial 125 finished with value: 0.8222748815165877 and parameters: {'n_estimators': 120, 'min_samples_leaf': 5, 'max_depth': 21}. Best is trial 113 with value: 0.8347205707491082.\u001b[0m\n",
      "\u001b[32m[I 2023-04-28 11:42:02,511]\u001b[0m Trial 126 finished with value: 0.8299643281807373 and parameters: {'n_estimators': 110, 'min_samples_leaf': 5, 'max_depth': 22}. Best is trial 113 with value: 0.8347205707491082.\u001b[0m\n",
      "\u001b[32m[I 2023-04-28 11:42:02,870]\u001b[0m Trial 127 finished with value: 0.8347205707491082 and parameters: {'n_estimators': 100, 'min_samples_leaf': 5, 'max_depth': 23}. Best is trial 113 with value: 0.8347205707491082.\u001b[0m\n",
      "\u001b[32m[I 2023-04-28 11:42:03,234]\u001b[0m Trial 128 finished with value: 0.8307692307692307 and parameters: {'n_estimators': 100, 'min_samples_leaf': 5, 'max_depth': 25}. Best is trial 113 with value: 0.8347205707491082.\u001b[0m\n",
      "\u001b[32m[I 2023-04-28 11:42:03,599]\u001b[0m Trial 129 finished with value: 0.8264462809917356 and parameters: {'n_estimators': 100, 'min_samples_leaf': 5, 'max_depth': 21}. Best is trial 113 with value: 0.8347205707491082.\u001b[0m\n",
      "\u001b[32m[I 2023-04-28 11:42:04,001]\u001b[0m Trial 130 finished with value: 0.8202115158636898 and parameters: {'n_estimators': 120, 'min_samples_leaf': 7, 'max_depth': 24}. Best is trial 113 with value: 0.8347205707491082.\u001b[0m\n",
      "\u001b[32m[I 2023-04-28 11:42:04,384]\u001b[0m Trial 131 finished with value: 0.8309523809523809 and parameters: {'n_estimators': 110, 'min_samples_leaf': 5, 'max_depth': 23}. Best is trial 113 with value: 0.8347205707491082.\u001b[0m\n",
      "\u001b[32m[I 2023-04-28 11:42:04,766]\u001b[0m Trial 132 finished with value: 0.8309523809523809 and parameters: {'n_estimators': 110, 'min_samples_leaf': 5, 'max_depth': 23}. Best is trial 113 with value: 0.8347205707491082.\u001b[0m\n",
      "\u001b[32m[I 2023-04-28 11:42:05,130]\u001b[0m Trial 133 finished with value: 0.8307692307692307 and parameters: {'n_estimators': 100, 'min_samples_leaf': 5, 'max_depth': 22}. Best is trial 113 with value: 0.8347205707491082.\u001b[0m\n",
      "\u001b[32m[I 2023-04-28 11:42:05,539]\u001b[0m Trial 134 finished with value: 0.8293838862559241 and parameters: {'n_estimators': 120, 'min_samples_leaf': 5, 'max_depth': 23}. Best is trial 113 with value: 0.8347205707491082.\u001b[0m\n",
      "\u001b[32m[I 2023-04-28 11:42:05,965]\u001b[0m Trial 135 finished with value: 0.8247914183551848 and parameters: {'n_estimators': 130, 'min_samples_leaf': 5, 'max_depth': 24}. Best is trial 113 with value: 0.8347205707491082.\u001b[0m\n",
      "\u001b[32m[I 2023-04-28 11:42:06,379]\u001b[0m Trial 136 finished with value: 0.8279952550415184 and parameters: {'n_estimators': 120, 'min_samples_leaf': 5, 'max_depth': 25}. Best is trial 113 with value: 0.8347205707491082.\u001b[0m\n",
      "\u001b[32m[I 2023-04-28 11:42:06,738]\u001b[0m Trial 137 finished with value: 0.8307692307692307 and parameters: {'n_estimators': 100, 'min_samples_leaf': 5, 'max_depth': 22}. Best is trial 113 with value: 0.8347205707491082.\u001b[0m\n",
      "\u001b[32m[I 2023-04-28 11:42:07,125]\u001b[0m Trial 138 finished with value: 0.8271752085816448 and parameters: {'n_estimators': 110, 'min_samples_leaf': 5, 'max_depth': 24}. Best is trial 113 with value: 0.8347205707491082.\u001b[0m\n",
      "\u001b[32m[I 2023-04-28 11:42:07,485]\u001b[0m Trial 139 finished with value: 0.8259303721488594 and parameters: {'n_estimators': 100, 'min_samples_leaf': 5, 'max_depth': 20}. Best is trial 113 with value: 0.8347205707491082.\u001b[0m\n",
      "\u001b[32m[I 2023-04-28 11:42:07,873]\u001b[0m Trial 140 finished with value: 0.8299643281807373 and parameters: {'n_estimators': 110, 'min_samples_leaf': 5, 'max_depth': 22}. Best is trial 113 with value: 0.8347205707491082.\u001b[0m\n",
      "\u001b[32m[I 2023-04-28 11:42:08,276]\u001b[0m Trial 141 finished with value: 0.8293838862559241 and parameters: {'n_estimators': 120, 'min_samples_leaf': 5, 'max_depth': 23}. Best is trial 113 with value: 0.8347205707491082.\u001b[0m\n",
      "\u001b[32m[I 2023-04-28 11:42:08,657]\u001b[0m Trial 142 finished with value: 0.8309523809523809 and parameters: {'n_estimators': 110, 'min_samples_leaf': 5, 'max_depth': 23}. Best is trial 113 with value: 0.8347205707491082.\u001b[0m\n",
      "\u001b[32m[I 2023-04-28 11:42:09,043]\u001b[0m Trial 143 finished with value: 0.8309523809523809 and parameters: {'n_estimators': 110, 'min_samples_leaf': 5, 'max_depth': 23}. Best is trial 113 with value: 0.8347205707491082.\u001b[0m\n",
      "\u001b[32m[I 2023-04-28 11:42:09,400]\u001b[0m Trial 144 finished with value: 0.8264462809917356 and parameters: {'n_estimators': 100, 'min_samples_leaf': 5, 'max_depth': 21}. Best is trial 113 with value: 0.8347205707491082.\u001b[0m\n",
      "\u001b[32m[I 2023-04-28 11:42:09,783]\u001b[0m Trial 145 finished with value: 0.8271752085816448 and parameters: {'n_estimators': 110, 'min_samples_leaf': 5, 'max_depth': 24}. Best is trial 113 with value: 0.8347205707491082.\u001b[0m\n",
      "\u001b[32m[I 2023-04-28 11:42:10,188]\u001b[0m Trial 146 finished with value: 0.8297872340425532 and parameters: {'n_estimators': 120, 'min_samples_leaf': 5, 'max_depth': 26}. Best is trial 113 with value: 0.8347205707491082.\u001b[0m\n",
      "\u001b[32m[I 2023-04-28 11:42:10,571]\u001b[0m Trial 147 finished with value: 0.8299643281807373 and parameters: {'n_estimators': 110, 'min_samples_leaf': 5, 'max_depth': 22}. Best is trial 113 with value: 0.8347205707491082.\u001b[0m\n",
      "\u001b[32m[I 2023-04-28 11:42:10,932]\u001b[0m Trial 148 finished with value: 0.8347205707491082 and parameters: {'n_estimators': 100, 'min_samples_leaf': 5, 'max_depth': 23}. Best is trial 113 with value: 0.8347205707491082.\u001b[0m\n",
      "\u001b[32m[I 2023-04-28 11:42:11,292]\u001b[0m Trial 149 finished with value: 0.8307692307692307 and parameters: {'n_estimators': 100, 'min_samples_leaf': 5, 'max_depth': 25}. Best is trial 113 with value: 0.8347205707491082.\u001b[0m\n",
      "\u001b[32m[I 2023-04-28 11:42:11,652]\u001b[0m Trial 150 finished with value: 0.8257756563245824 and parameters: {'n_estimators': 100, 'min_samples_leaf': 5, 'max_depth': 24}. Best is trial 113 with value: 0.8347205707491082.\u001b[0m\n",
      "\u001b[32m[I 2023-04-28 11:42:12,033]\u001b[0m Trial 151 finished with value: 0.8309523809523809 and parameters: {'n_estimators': 110, 'min_samples_leaf': 5, 'max_depth': 23}. Best is trial 113 with value: 0.8347205707491082.\u001b[0m\n",
      "\u001b[32m[I 2023-04-28 11:42:12,395]\u001b[0m Trial 152 finished with value: 0.8347205707491082 and parameters: {'n_estimators': 100, 'min_samples_leaf': 5, 'max_depth': 23}. Best is trial 113 with value: 0.8347205707491082.\u001b[0m\n",
      "\u001b[32m[I 2023-04-28 11:42:12,755]\u001b[0m Trial 153 finished with value: 0.8264462809917356 and parameters: {'n_estimators': 100, 'min_samples_leaf': 5, 'max_depth': 21}. Best is trial 113 with value: 0.8347205707491082.\u001b[0m\n",
      "\u001b[32m[I 2023-04-28 11:42:13,116]\u001b[0m Trial 154 finished with value: 0.8307692307692307 and parameters: {'n_estimators': 100, 'min_samples_leaf': 5, 'max_depth': 22}. Best is trial 113 with value: 0.8347205707491082.\u001b[0m\n",
      "\u001b[32m[I 2023-04-28 11:42:13,676]\u001b[0m Trial 155 finished with value: 0.8266033254156769 and parameters: {'n_estimators': 190, 'min_samples_leaf': 5, 'max_depth': 24}. Best is trial 113 with value: 0.8347205707491082.\u001b[0m\n",
      "\u001b[32m[I 2023-04-28 11:42:14,034]\u001b[0m Trial 156 finished with value: 0.8307692307692307 and parameters: {'n_estimators': 100, 'min_samples_leaf': 5, 'max_depth': 22}. Best is trial 113 with value: 0.8347205707491082.\u001b[0m\n",
      "\u001b[32m[I 2023-04-28 11:42:14,418]\u001b[0m Trial 157 finished with value: 0.8309523809523809 and parameters: {'n_estimators': 110, 'min_samples_leaf': 5, 'max_depth': 23}. Best is trial 113 with value: 0.8347205707491082.\u001b[0m\n",
      "\u001b[32m[I 2023-04-28 11:42:14,824]\u001b[0m Trial 158 finished with value: 0.8279952550415184 and parameters: {'n_estimators': 120, 'min_samples_leaf': 5, 'max_depth': 25}. Best is trial 113 with value: 0.8347205707491082.\u001b[0m\n",
      "\u001b[32m[I 2023-04-28 11:42:15,486]\u001b[0m Trial 159 finished with value: 0.8275862068965516 and parameters: {'n_estimators': 230, 'min_samples_leaf': 5, 'max_depth': 23}. Best is trial 113 with value: 0.8347205707491082.\u001b[0m\n",
      "\u001b[32m[I 2023-04-28 11:42:15,846]\u001b[0m Trial 160 finished with value: 0.8347205707491082 and parameters: {'n_estimators': 100, 'min_samples_leaf': 5, 'max_depth': 23}. Best is trial 113 with value: 0.8347205707491082.\u001b[0m\n",
      "\u001b[32m[I 2023-04-28 11:42:16,206]\u001b[0m Trial 161 finished with value: 0.8347205707491082 and parameters: {'n_estimators': 100, 'min_samples_leaf': 5, 'max_depth': 23}. Best is trial 113 with value: 0.8347205707491082.\u001b[0m\n",
      "\u001b[32m[I 2023-04-28 11:42:16,566]\u001b[0m Trial 162 finished with value: 0.8257756563245824 and parameters: {'n_estimators': 100, 'min_samples_leaf': 5, 'max_depth': 24}. Best is trial 113 with value: 0.8347205707491082.\u001b[0m\n",
      "\u001b[32m[I 2023-04-28 11:42:16,925]\u001b[0m Trial 163 finished with value: 0.8307692307692307 and parameters: {'n_estimators': 100, 'min_samples_leaf': 5, 'max_depth': 22}. Best is trial 113 with value: 0.8347205707491082.\u001b[0m\n",
      "\u001b[32m[I 2023-04-28 11:42:17,289]\u001b[0m Trial 164 finished with value: 0.8347205707491082 and parameters: {'n_estimators': 100, 'min_samples_leaf': 5, 'max_depth': 23}. Best is trial 113 with value: 0.8347205707491082.\u001b[0m\n",
      "\u001b[32m[I 2023-04-28 11:42:17,652]\u001b[0m Trial 165 finished with value: 0.8261904761904761 and parameters: {'n_estimators': 100, 'min_samples_leaf': 5, 'max_depth': 28}. Best is trial 113 with value: 0.8347205707491082.\u001b[0m\n",
      "\u001b[32m[I 2023-04-28 11:42:18,014]\u001b[0m Trial 166 finished with value: 0.8257756563245824 and parameters: {'n_estimators': 100, 'min_samples_leaf': 5, 'max_depth': 24}. Best is trial 113 with value: 0.8347205707491082.\u001b[0m\n",
      "\u001b[32m[I 2023-04-28 11:42:18,387]\u001b[0m Trial 167 finished with value: 0.8347205707491082 and parameters: {'n_estimators': 100, 'min_samples_leaf': 5, 'max_depth': 23}. Best is trial 113 with value: 0.8347205707491082.\u001b[0m\n",
      "\u001b[32m[I 2023-04-28 11:42:18,749]\u001b[0m Trial 168 finished with value: 0.8307692307692307 and parameters: {'n_estimators': 100, 'min_samples_leaf': 5, 'max_depth': 22}. Best is trial 113 with value: 0.8347205707491082.\u001b[0m\n",
      "\u001b[32m[I 2023-04-28 11:42:19,114]\u001b[0m Trial 169 finished with value: 0.8257756563245824 and parameters: {'n_estimators': 100, 'min_samples_leaf': 5, 'max_depth': 24}. Best is trial 113 with value: 0.8347205707491082.\u001b[0m\n",
      "\u001b[32m[I 2023-04-28 11:42:19,666]\u001b[0m Trial 170 finished with value: 0.8264462809917356 and parameters: {'n_estimators': 100, 'min_samples_leaf': 5, 'max_depth': 21}. Best is trial 113 with value: 0.8347205707491082.\u001b[0m\n",
      "\u001b[32m[I 2023-04-28 11:42:20,052]\u001b[0m Trial 171 finished with value: 0.8309523809523809 and parameters: {'n_estimators': 110, 'min_samples_leaf': 5, 'max_depth': 23}. Best is trial 113 with value: 0.8347205707491082.\u001b[0m\n",
      "\u001b[32m[I 2023-04-28 11:42:20,441]\u001b[0m Trial 172 finished with value: 0.8309523809523809 and parameters: {'n_estimators': 110, 'min_samples_leaf': 5, 'max_depth': 23}. Best is trial 113 with value: 0.8347205707491082.\u001b[0m\n",
      "\u001b[32m[I 2023-04-28 11:42:20,828]\u001b[0m Trial 173 finished with value: 0.8299643281807373 and parameters: {'n_estimators': 110, 'min_samples_leaf': 5, 'max_depth': 22}. Best is trial 113 with value: 0.8347205707491082.\u001b[0m\n",
      "\u001b[32m[I 2023-04-28 11:42:21,208]\u001b[0m Trial 174 finished with value: 0.8347205707491082 and parameters: {'n_estimators': 100, 'min_samples_leaf': 5, 'max_depth': 23}. Best is trial 113 with value: 0.8347205707491082.\u001b[0m\n",
      "\u001b[32m[I 2023-04-28 11:42:21,577]\u001b[0m Trial 175 finished with value: 0.8257756563245824 and parameters: {'n_estimators': 100, 'min_samples_leaf': 5, 'max_depth': 24}. Best is trial 113 with value: 0.8347205707491082.\u001b[0m\n",
      "\u001b[32m[I 2023-04-28 11:42:21,943]\u001b[0m Trial 176 finished with value: 0.8347205707491082 and parameters: {'n_estimators': 100, 'min_samples_leaf': 5, 'max_depth': 23}. Best is trial 113 with value: 0.8347205707491082.\u001b[0m\n",
      "\u001b[32m[I 2023-04-28 11:42:22,309]\u001b[0m Trial 177 finished with value: 0.8307692307692307 and parameters: {'n_estimators': 100, 'min_samples_leaf': 5, 'max_depth': 22}. Best is trial 113 with value: 0.8347205707491082.\u001b[0m\n",
      "\u001b[32m[I 2023-04-28 11:42:22,676]\u001b[0m Trial 178 finished with value: 0.8347205707491082 and parameters: {'n_estimators': 100, 'min_samples_leaf': 5, 'max_depth': 23}. Best is trial 113 with value: 0.8347205707491082.\u001b[0m\n",
      "\u001b[32m[I 2023-04-28 11:42:23,036]\u001b[0m Trial 179 finished with value: 0.8307692307692307 and parameters: {'n_estimators': 100, 'min_samples_leaf': 5, 'max_depth': 25}. Best is trial 113 with value: 0.8347205707491082.\u001b[0m\n",
      "\u001b[32m[I 2023-04-28 11:42:23,408]\u001b[0m Trial 180 finished with value: 0.8257756563245824 and parameters: {'n_estimators': 100, 'min_samples_leaf': 5, 'max_depth': 24}. Best is trial 113 with value: 0.8347205707491082.\u001b[0m\n",
      "\u001b[32m[I 2023-04-28 11:42:23,772]\u001b[0m Trial 181 finished with value: 0.8347205707491082 and parameters: {'n_estimators': 100, 'min_samples_leaf': 5, 'max_depth': 23}. Best is trial 113 with value: 0.8347205707491082.\u001b[0m\n",
      "\u001b[32m[I 2023-04-28 11:42:24,135]\u001b[0m Trial 182 finished with value: 0.8347205707491082 and parameters: {'n_estimators': 100, 'min_samples_leaf': 5, 'max_depth': 23}. Best is trial 113 with value: 0.8347205707491082.\u001b[0m\n",
      "\u001b[32m[I 2023-04-28 11:42:24,497]\u001b[0m Trial 183 finished with value: 0.8307692307692307 and parameters: {'n_estimators': 100, 'min_samples_leaf': 5, 'max_depth': 22}. Best is trial 113 with value: 0.8347205707491082.\u001b[0m\n",
      "\u001b[32m[I 2023-04-28 11:42:24,863]\u001b[0m Trial 184 finished with value: 0.8347205707491082 and parameters: {'n_estimators': 100, 'min_samples_leaf': 5, 'max_depth': 23}. Best is trial 113 with value: 0.8347205707491082.\u001b[0m\n",
      "\u001b[32m[I 2023-04-28 11:42:25,231]\u001b[0m Trial 185 finished with value: 0.8257756563245824 and parameters: {'n_estimators': 100, 'min_samples_leaf': 5, 'max_depth': 24}. Best is trial 113 with value: 0.8347205707491082.\u001b[0m\n",
      "\u001b[32m[I 2023-04-28 11:42:25,598]\u001b[0m Trial 186 finished with value: 0.8307692307692307 and parameters: {'n_estimators': 100, 'min_samples_leaf': 5, 'max_depth': 22}. Best is trial 113 with value: 0.8347205707491082.\u001b[0m\n",
      "\u001b[32m[I 2023-04-28 11:42:25,965]\u001b[0m Trial 187 finished with value: 0.8347205707491082 and parameters: {'n_estimators': 100, 'min_samples_leaf': 5, 'max_depth': 23}. Best is trial 113 with value: 0.8347205707491082.\u001b[0m\n",
      "\u001b[32m[I 2023-04-28 11:42:26,328]\u001b[0m Trial 188 finished with value: 0.8347205707491082 and parameters: {'n_estimators': 100, 'min_samples_leaf': 5, 'max_depth': 23}. Best is trial 113 with value: 0.8347205707491082.\u001b[0m\n",
      "\u001b[32m[I 2023-04-28 11:42:26,692]\u001b[0m Trial 189 finished with value: 0.8347205707491082 and parameters: {'n_estimators': 100, 'min_samples_leaf': 5, 'max_depth': 23}. Best is trial 113 with value: 0.8347205707491082.\u001b[0m\n",
      "\u001b[32m[I 2023-04-28 11:42:27,057]\u001b[0m Trial 190 finished with value: 0.8264462809917356 and parameters: {'n_estimators': 100, 'min_samples_leaf': 5, 'max_depth': 21}. Best is trial 113 with value: 0.8347205707491082.\u001b[0m\n",
      "\u001b[32m[I 2023-04-28 11:42:27,434]\u001b[0m Trial 191 finished with value: 0.8247914183551848 and parameters: {'n_estimators': 100, 'min_samples_leaf': 3, 'max_depth': 23}. Best is trial 113 with value: 0.8347205707491082.\u001b[0m\n",
      "\u001b[32m[I 2023-04-28 11:42:27,800]\u001b[0m Trial 192 finished with value: 0.8347205707491082 and parameters: {'n_estimators': 100, 'min_samples_leaf': 5, 'max_depth': 23}. Best is trial 113 with value: 0.8347205707491082.\u001b[0m\n",
      "\u001b[32m[I 2023-04-28 11:42:28,170]\u001b[0m Trial 193 finished with value: 0.8257756563245824 and parameters: {'n_estimators': 100, 'min_samples_leaf': 5, 'max_depth': 24}. Best is trial 113 with value: 0.8347205707491082.\u001b[0m\n",
      "\u001b[32m[I 2023-04-28 11:42:28,537]\u001b[0m Trial 194 finished with value: 0.8307692307692307 and parameters: {'n_estimators': 100, 'min_samples_leaf': 5, 'max_depth': 22}. Best is trial 113 with value: 0.8347205707491082.\u001b[0m\n",
      "\u001b[32m[I 2023-04-28 11:42:28,903]\u001b[0m Trial 195 finished with value: 0.8347205707491082 and parameters: {'n_estimators': 100, 'min_samples_leaf': 5, 'max_depth': 23}. Best is trial 113 with value: 0.8347205707491082.\u001b[0m\n",
      "\u001b[32m[I 2023-04-28 11:42:29,265]\u001b[0m Trial 196 finished with value: 0.8347205707491082 and parameters: {'n_estimators': 100, 'min_samples_leaf': 5, 'max_depth': 23}. Best is trial 113 with value: 0.8347205707491082.\u001b[0m\n",
      "\u001b[32m[I 2023-04-28 11:42:29,634]\u001b[0m Trial 197 finished with value: 0.8347205707491082 and parameters: {'n_estimators': 100, 'min_samples_leaf': 5, 'max_depth': 23}. Best is trial 113 with value: 0.8347205707491082.\u001b[0m\n",
      "\u001b[32m[I 2023-04-28 11:42:29,994]\u001b[0m Trial 198 finished with value: 0.8307692307692307 and parameters: {'n_estimators': 100, 'min_samples_leaf': 5, 'max_depth': 22}. Best is trial 113 with value: 0.8347205707491082.\u001b[0m\n",
      "\u001b[32m[I 2023-04-28 11:42:30,358]\u001b[0m Trial 199 finished with value: 0.8257756563245824 and parameters: {'n_estimators': 100, 'min_samples_leaf': 5, 'max_depth': 24}. Best is trial 113 with value: 0.8347205707491082.\u001b[0m\n",
      "\u001b[32m[I 2023-04-28 11:42:30,719]\u001b[0m Trial 200 finished with value: 0.8347205707491082 and parameters: {'n_estimators': 100, 'min_samples_leaf': 5, 'max_depth': 23}. Best is trial 113 with value: 0.8347205707491082.\u001b[0m\n",
      "\u001b[32m[I 2023-04-28 11:42:31,082]\u001b[0m Trial 201 finished with value: 0.8347205707491082 and parameters: {'n_estimators': 100, 'min_samples_leaf': 5, 'max_depth': 23}. Best is trial 113 with value: 0.8347205707491082.\u001b[0m\n",
      "\u001b[32m[I 2023-04-28 11:42:31,447]\u001b[0m Trial 202 finished with value: 0.8347205707491082 and parameters: {'n_estimators': 100, 'min_samples_leaf': 5, 'max_depth': 23}. Best is trial 113 with value: 0.8347205707491082.\u001b[0m\n",
      "\u001b[32m[I 2023-04-28 11:42:31,810]\u001b[0m Trial 203 finished with value: 0.8257756563245824 and parameters: {'n_estimators': 100, 'min_samples_leaf': 5, 'max_depth': 24}. Best is trial 113 with value: 0.8347205707491082.\u001b[0m\n",
      "\u001b[32m[I 2023-04-28 11:42:32,183]\u001b[0m Trial 204 finished with value: 0.8347205707491082 and parameters: {'n_estimators': 100, 'min_samples_leaf': 5, 'max_depth': 23}. Best is trial 113 with value: 0.8347205707491082.\u001b[0m\n",
      "\u001b[32m[I 2023-04-28 11:42:32,551]\u001b[0m Trial 205 finished with value: 0.8307692307692307 and parameters: {'n_estimators': 100, 'min_samples_leaf': 5, 'max_depth': 22}. Best is trial 113 with value: 0.8347205707491082.\u001b[0m\n",
      "\u001b[32m[I 2023-04-28 11:42:32,915]\u001b[0m Trial 206 finished with value: 0.8347205707491082 and parameters: {'n_estimators': 100, 'min_samples_leaf': 5, 'max_depth': 23}. Best is trial 113 with value: 0.8347205707491082.\u001b[0m\n",
      "\u001b[32m[I 2023-04-28 11:42:33,277]\u001b[0m Trial 207 finished with value: 0.8257756563245824 and parameters: {'n_estimators': 100, 'min_samples_leaf': 5, 'max_depth': 24}. Best is trial 113 with value: 0.8347205707491082.\u001b[0m\n",
      "\u001b[32m[I 2023-04-28 11:42:33,650]\u001b[0m Trial 208 finished with value: 0.8307692307692307 and parameters: {'n_estimators': 100, 'min_samples_leaf': 5, 'max_depth': 22}. Best is trial 113 with value: 0.8347205707491082.\u001b[0m\n",
      "\u001b[32m[I 2023-04-28 11:42:34,018]\u001b[0m Trial 209 finished with value: 0.8257756563245824 and parameters: {'n_estimators': 100, 'min_samples_leaf': 5, 'max_depth': 24}. Best is trial 113 with value: 0.8347205707491082.\u001b[0m\n",
      "\u001b[32m[I 2023-04-28 11:42:34,383]\u001b[0m Trial 210 finished with value: 0.8307692307692307 and parameters: {'n_estimators': 100, 'min_samples_leaf': 5, 'max_depth': 22}. Best is trial 113 with value: 0.8347205707491082.\u001b[0m\n",
      "\u001b[32m[I 2023-04-28 11:42:34,744]\u001b[0m Trial 211 finished with value: 0.8347205707491082 and parameters: {'n_estimators': 100, 'min_samples_leaf': 5, 'max_depth': 23}. Best is trial 113 with value: 0.8347205707491082.\u001b[0m\n",
      "\u001b[32m[I 2023-04-28 11:42:35,109]\u001b[0m Trial 212 finished with value: 0.8347205707491082 and parameters: {'n_estimators': 100, 'min_samples_leaf': 5, 'max_depth': 23}. Best is trial 113 with value: 0.8347205707491082.\u001b[0m\n",
      "\u001b[32m[I 2023-04-28 11:42:35,469]\u001b[0m Trial 213 finished with value: 0.819047619047619 and parameters: {'n_estimators': 100, 'min_samples_leaf': 5, 'max_depth': 16}. Best is trial 113 with value: 0.8347205707491082.\u001b[0m\n",
      "\u001b[32m[I 2023-04-28 11:42:35,832]\u001b[0m Trial 214 finished with value: 0.8347205707491082 and parameters: {'n_estimators': 100, 'min_samples_leaf': 5, 'max_depth': 23}. Best is trial 113 with value: 0.8347205707491082.\u001b[0m\n",
      "\u001b[32m[I 2023-04-28 11:42:36,221]\u001b[0m Trial 215 finished with value: 0.8271752085816448 and parameters: {'n_estimators': 110, 'min_samples_leaf': 5, 'max_depth': 24}. Best is trial 113 with value: 0.8347205707491082.\u001b[0m\n",
      "\u001b[32m[I 2023-04-28 11:42:36,579]\u001b[0m Trial 216 finished with value: 0.8347205707491082 and parameters: {'n_estimators': 100, 'min_samples_leaf': 5, 'max_depth': 23}. Best is trial 113 with value: 0.8347205707491082.\u001b[0m\n",
      "\u001b[32m[I 2023-04-28 11:42:36,982]\u001b[0m Trial 217 finished with value: 0.8299643281807373 and parameters: {'n_estimators': 110, 'min_samples_leaf': 5, 'max_depth': 22}. Best is trial 113 with value: 0.8347205707491082.\u001b[0m\n",
      "\u001b[32m[I 2023-04-28 11:42:37,363]\u001b[0m Trial 218 finished with value: 0.8347205707491082 and parameters: {'n_estimators': 100, 'min_samples_leaf': 5, 'max_depth': 23}. Best is trial 113 with value: 0.8347205707491082.\u001b[0m\n",
      "\u001b[32m[I 2023-04-28 11:42:37,755]\u001b[0m Trial 219 finished with value: 0.8347205707491082 and parameters: {'n_estimators': 100, 'min_samples_leaf': 5, 'max_depth': 23}. Best is trial 113 with value: 0.8347205707491082.\u001b[0m\n",
      "\u001b[32m[I 2023-04-28 11:42:38,152]\u001b[0m Trial 220 finished with value: 0.8271752085816448 and parameters: {'n_estimators': 110, 'min_samples_leaf': 5, 'max_depth': 24}. Best is trial 113 with value: 0.8347205707491082.\u001b[0m\n",
      "\u001b[32m[I 2023-04-28 11:42:38,554]\u001b[0m Trial 221 finished with value: 0.8347205707491082 and parameters: {'n_estimators': 100, 'min_samples_leaf': 5, 'max_depth': 23}. Best is trial 113 with value: 0.8347205707491082.\u001b[0m\n",
      "\u001b[32m[I 2023-04-28 11:42:38,951]\u001b[0m Trial 222 finished with value: 0.8307692307692307 and parameters: {'n_estimators': 100, 'min_samples_leaf': 5, 'max_depth': 22}. Best is trial 113 with value: 0.8347205707491082.\u001b[0m\n",
      "\u001b[32m[I 2023-04-28 11:42:39,327]\u001b[0m Trial 223 finished with value: 0.8347205707491082 and parameters: {'n_estimators': 100, 'min_samples_leaf': 5, 'max_depth': 23}. Best is trial 113 with value: 0.8347205707491082.\u001b[0m\n",
      "\u001b[32m[I 2023-04-28 11:42:39,691]\u001b[0m Trial 224 finished with value: 0.8347205707491082 and parameters: {'n_estimators': 100, 'min_samples_leaf': 5, 'max_depth': 23}. Best is trial 113 with value: 0.8347205707491082.\u001b[0m\n",
      "\u001b[32m[I 2023-04-28 11:42:40,080]\u001b[0m Trial 225 finished with value: 0.8271752085816448 and parameters: {'n_estimators': 110, 'min_samples_leaf': 5, 'max_depth': 24}. Best is trial 113 with value: 0.8347205707491082.\u001b[0m\n",
      "\u001b[32m[I 2023-04-28 11:42:40,619]\u001b[0m Trial 226 finished with value: 0.8307692307692307 and parameters: {'n_estimators': 100, 'min_samples_leaf': 5, 'max_depth': 22}. Best is trial 113 with value: 0.8347205707491082.\u001b[0m\n",
      "\u001b[32m[I 2023-04-28 11:42:40,982]\u001b[0m Trial 227 finished with value: 0.8347205707491082 and parameters: {'n_estimators': 100, 'min_samples_leaf': 5, 'max_depth': 23}. Best is trial 113 with value: 0.8347205707491082.\u001b[0m\n",
      "\u001b[32m[I 2023-04-28 11:42:41,367]\u001b[0m Trial 228 finished with value: 0.8309523809523809 and parameters: {'n_estimators': 110, 'min_samples_leaf': 5, 'max_depth': 23}. Best is trial 113 with value: 0.8347205707491082.\u001b[0m\n",
      "\u001b[32m[I 2023-04-28 11:42:41,730]\u001b[0m Trial 229 finished with value: 0.8257756563245824 and parameters: {'n_estimators': 100, 'min_samples_leaf': 5, 'max_depth': 24}. Best is trial 113 with value: 0.8347205707491082.\u001b[0m\n",
      "\u001b[32m[I 2023-04-28 11:42:42,115]\u001b[0m Trial 230 finished with value: 0.8299643281807373 and parameters: {'n_estimators': 110, 'min_samples_leaf': 5, 'max_depth': 22}. Best is trial 113 with value: 0.8347205707491082.\u001b[0m\n",
      "\u001b[32m[I 2023-04-28 11:42:42,480]\u001b[0m Trial 231 finished with value: 0.8347205707491082 and parameters: {'n_estimators': 100, 'min_samples_leaf': 5, 'max_depth': 23}. Best is trial 113 with value: 0.8347205707491082.\u001b[0m\n",
      "\u001b[32m[I 2023-04-28 11:42:42,843]\u001b[0m Trial 232 finished with value: 0.8347205707491082 and parameters: {'n_estimators': 100, 'min_samples_leaf': 5, 'max_depth': 23}. Best is trial 113 with value: 0.8347205707491082.\u001b[0m\n",
      "\u001b[32m[I 2023-04-28 11:42:43,206]\u001b[0m Trial 233 finished with value: 0.8347205707491082 and parameters: {'n_estimators': 100, 'min_samples_leaf': 5, 'max_depth': 23}. Best is trial 113 with value: 0.8347205707491082.\u001b[0m\n",
      "\u001b[32m[I 2023-04-28 11:42:43,572]\u001b[0m Trial 234 finished with value: 0.8257756563245824 and parameters: {'n_estimators': 100, 'min_samples_leaf': 5, 'max_depth': 24}. Best is trial 113 with value: 0.8347205707491082.\u001b[0m\n",
      "\u001b[32m[I 2023-04-28 11:42:43,954]\u001b[0m Trial 235 finished with value: 0.8347205707491082 and parameters: {'n_estimators': 100, 'min_samples_leaf': 5, 'max_depth': 23}. Best is trial 113 with value: 0.8347205707491082.\u001b[0m\n",
      "\u001b[32m[I 2023-04-28 11:42:44,351]\u001b[0m Trial 236 finished with value: 0.8299643281807373 and parameters: {'n_estimators': 110, 'min_samples_leaf': 5, 'max_depth': 22}. Best is trial 113 with value: 0.8347205707491082.\u001b[0m\n",
      "\u001b[32m[I 2023-04-28 11:42:44,727]\u001b[0m Trial 237 finished with value: 0.8347205707491082 and parameters: {'n_estimators': 100, 'min_samples_leaf': 5, 'max_depth': 23}. Best is trial 113 with value: 0.8347205707491082.\u001b[0m\n",
      "\u001b[32m[I 2023-04-28 11:42:45,130]\u001b[0m Trial 238 finished with value: 0.8309523809523809 and parameters: {'n_estimators': 110, 'min_samples_leaf': 5, 'max_depth': 23}. Best is trial 113 with value: 0.8347205707491082.\u001b[0m\n",
      "\u001b[32m[I 2023-04-28 11:42:45,504]\u001b[0m Trial 239 finished with value: 0.8307692307692307 and parameters: {'n_estimators': 100, 'min_samples_leaf': 5, 'max_depth': 22}. Best is trial 113 with value: 0.8347205707491082.\u001b[0m\n",
      "\u001b[32m[I 2023-04-28 11:42:45,871]\u001b[0m Trial 240 finished with value: 0.8257756563245824 and parameters: {'n_estimators': 100, 'min_samples_leaf': 5, 'max_depth': 24}. Best is trial 113 with value: 0.8347205707491082.\u001b[0m\n",
      "\u001b[32m[I 2023-04-28 11:42:46,233]\u001b[0m Trial 241 finished with value: 0.8347205707491082 and parameters: {'n_estimators': 100, 'min_samples_leaf': 5, 'max_depth': 23}. Best is trial 113 with value: 0.8347205707491082.\u001b[0m\n",
      "\u001b[32m[I 2023-04-28 11:42:46,599]\u001b[0m Trial 242 finished with value: 0.8347205707491082 and parameters: {'n_estimators': 100, 'min_samples_leaf': 5, 'max_depth': 23}. Best is trial 113 with value: 0.8347205707491082.\u001b[0m\n",
      "\u001b[32m[I 2023-04-28 11:42:46,973]\u001b[0m Trial 243 finished with value: 0.8347205707491082 and parameters: {'n_estimators': 100, 'min_samples_leaf': 5, 'max_depth': 23}. Best is trial 113 with value: 0.8347205707491082.\u001b[0m\n",
      "\u001b[32m[I 2023-04-28 11:42:47,345]\u001b[0m Trial 244 finished with value: 0.8307692307692307 and parameters: {'n_estimators': 100, 'min_samples_leaf': 5, 'max_depth': 22}. Best is trial 113 with value: 0.8347205707491082.\u001b[0m\n",
      "\u001b[32m[I 2023-04-28 11:42:47,729]\u001b[0m Trial 245 finished with value: 0.8347205707491082 and parameters: {'n_estimators': 100, 'min_samples_leaf': 5, 'max_depth': 23}. Best is trial 113 with value: 0.8347205707491082.\u001b[0m\n",
      "\u001b[32m[I 2023-04-28 11:42:48,147]\u001b[0m Trial 246 finished with value: 0.8271752085816448 and parameters: {'n_estimators': 110, 'min_samples_leaf': 5, 'max_depth': 24}. Best is trial 113 with value: 0.8347205707491082.\u001b[0m\n",
      "\u001b[32m[I 2023-04-28 11:42:48,534]\u001b[0m Trial 247 finished with value: 0.8257756563245824 and parameters: {'n_estimators': 100, 'min_samples_leaf': 5, 'max_depth': 24}. Best is trial 113 with value: 0.8347205707491082.\u001b[0m\n",
      "\u001b[32m[I 2023-04-28 11:42:48,928]\u001b[0m Trial 248 finished with value: 0.8299643281807373 and parameters: {'n_estimators': 110, 'min_samples_leaf': 5, 'max_depth': 22}. Best is trial 113 with value: 0.8347205707491082.\u001b[0m\n",
      "\u001b[32m[I 2023-04-28 11:42:49,312]\u001b[0m Trial 249 finished with value: 0.8347205707491082 and parameters: {'n_estimators': 100, 'min_samples_leaf': 5, 'max_depth': 23}. Best is trial 113 with value: 0.8347205707491082.\u001b[0m\n",
      "\u001b[32m[I 2023-04-28 11:42:49,687]\u001b[0m Trial 250 finished with value: 0.8347205707491082 and parameters: {'n_estimators': 100, 'min_samples_leaf': 5, 'max_depth': 23}. Best is trial 113 with value: 0.8347205707491082.\u001b[0m\n",
      "\u001b[32m[I 2023-04-28 11:42:50,079]\u001b[0m Trial 251 finished with value: 0.8299643281807373 and parameters: {'n_estimators': 110, 'min_samples_leaf': 5, 'max_depth': 22}. Best is trial 113 with value: 0.8347205707491082.\u001b[0m\n",
      "\u001b[32m[I 2023-04-28 11:42:50,454]\u001b[0m Trial 252 finished with value: 0.8257756563245824 and parameters: {'n_estimators': 100, 'min_samples_leaf': 5, 'max_depth': 24}. Best is trial 113 with value: 0.8347205707491082.\u001b[0m\n",
      "\u001b[32m[I 2023-04-28 11:42:50,827]\u001b[0m Trial 253 finished with value: 0.8347205707491082 and parameters: {'n_estimators': 100, 'min_samples_leaf': 5, 'max_depth': 23}. Best is trial 113 with value: 0.8347205707491082.\u001b[0m\n",
      "\u001b[32m[I 2023-04-28 11:42:51,217]\u001b[0m Trial 254 finished with value: 0.8271752085816448 and parameters: {'n_estimators': 110, 'min_samples_leaf': 5, 'max_depth': 24}. Best is trial 113 with value: 0.8347205707491082.\u001b[0m\n",
      "\u001b[32m[I 2023-04-28 11:42:51,579]\u001b[0m Trial 255 finished with value: 0.8347205707491082 and parameters: {'n_estimators': 100, 'min_samples_leaf': 5, 'max_depth': 23}. Best is trial 113 with value: 0.8347205707491082.\u001b[0m\n",
      "\u001b[32m[I 2023-04-28 11:42:51,945]\u001b[0m Trial 256 finished with value: 0.8307692307692307 and parameters: {'n_estimators': 100, 'min_samples_leaf': 5, 'max_depth': 25}. Best is trial 113 with value: 0.8347205707491082.\u001b[0m\n",
      "\u001b[32m[I 2023-04-28 11:42:52,343]\u001b[0m Trial 257 finished with value: 0.8309523809523809 and parameters: {'n_estimators': 110, 'min_samples_leaf': 5, 'max_depth': 23}. Best is trial 113 with value: 0.8347205707491082.\u001b[0m\n",
      "\u001b[32m[I 2023-04-28 11:42:52,708]\u001b[0m Trial 258 finished with value: 0.8264462809917356 and parameters: {'n_estimators': 100, 'min_samples_leaf': 5, 'max_depth': 21}. Best is trial 113 with value: 0.8347205707491082.\u001b[0m\n",
      "\u001b[32m[I 2023-04-28 11:42:53,076]\u001b[0m Trial 259 finished with value: 0.8307692307692307 and parameters: {'n_estimators': 100, 'min_samples_leaf': 5, 'max_depth': 22}. Best is trial 113 with value: 0.8347205707491082.\u001b[0m\n",
      "\u001b[32m[I 2023-04-28 11:42:53,463]\u001b[0m Trial 260 finished with value: 0.8309523809523809 and parameters: {'n_estimators': 110, 'min_samples_leaf': 5, 'max_depth': 23}. Best is trial 113 with value: 0.8347205707491082.\u001b[0m\n",
      "\u001b[32m[I 2023-04-28 11:42:53,831]\u001b[0m Trial 261 finished with value: 0.8257756563245824 and parameters: {'n_estimators': 100, 'min_samples_leaf': 5, 'max_depth': 24}. Best is trial 113 with value: 0.8347205707491082.\u001b[0m\n",
      "\u001b[32m[I 2023-04-28 11:42:54,219]\u001b[0m Trial 262 finished with value: 0.8299643281807373 and parameters: {'n_estimators': 110, 'min_samples_leaf': 5, 'max_depth': 22}. Best is trial 113 with value: 0.8347205707491082.\u001b[0m\n",
      "\u001b[32m[I 2023-04-28 11:42:54,586]\u001b[0m Trial 263 finished with value: 0.8257756563245824 and parameters: {'n_estimators': 100, 'min_samples_leaf': 5, 'max_depth': 24}. Best is trial 113 with value: 0.8347205707491082.\u001b[0m\n",
      "\u001b[32m[I 2023-04-28 11:42:54,954]\u001b[0m Trial 264 finished with value: 0.8347205707491082 and parameters: {'n_estimators': 100, 'min_samples_leaf': 5, 'max_depth': 23}. Best is trial 113 with value: 0.8347205707491082.\u001b[0m\n",
      "\u001b[32m[I 2023-04-28 11:42:55,321]\u001b[0m Trial 265 finished with value: 0.8307692307692307 and parameters: {'n_estimators': 100, 'min_samples_leaf': 5, 'max_depth': 22}. Best is trial 113 with value: 0.8347205707491082.\u001b[0m\n",
      "\u001b[32m[I 2023-04-28 11:42:55,708]\u001b[0m Trial 266 finished with value: 0.8309523809523809 and parameters: {'n_estimators': 110, 'min_samples_leaf': 5, 'max_depth': 23}. Best is trial 113 with value: 0.8347205707491082.\u001b[0m\n",
      "\u001b[32m[I 2023-04-28 11:42:56,073]\u001b[0m Trial 267 finished with value: 0.8257756563245824 and parameters: {'n_estimators': 100, 'min_samples_leaf': 5, 'max_depth': 24}. Best is trial 113 with value: 0.8347205707491082.\u001b[0m\n",
      "\u001b[32m[I 2023-04-28 11:42:56,441]\u001b[0m Trial 268 finished with value: 0.8307692307692307 and parameters: {'n_estimators': 100, 'min_samples_leaf': 5, 'max_depth': 22}. Best is trial 113 with value: 0.8347205707491082.\u001b[0m\n",
      "\u001b[32m[I 2023-04-28 11:42:56,834]\u001b[0m Trial 269 finished with value: 0.8323424494649226 and parameters: {'n_estimators': 110, 'min_samples_leaf': 5, 'max_depth': 25}. Best is trial 113 with value: 0.8347205707491082.\u001b[0m\n",
      "\u001b[32m[I 2023-04-28 11:42:57,202]\u001b[0m Trial 270 finished with value: 0.8264462809917356 and parameters: {'n_estimators': 100, 'min_samples_leaf': 5, 'max_depth': 21}. Best is trial 113 with value: 0.8347205707491082.\u001b[0m\n",
      "\u001b[32m[I 2023-04-28 11:42:57,927]\u001b[0m Trial 271 finished with value: 0.8266033254156769 and parameters: {'n_estimators': 260, 'min_samples_leaf': 5, 'max_depth': 23}. Best is trial 113 with value: 0.8347205707491082.\u001b[0m\n",
      "\u001b[32m[I 2023-04-28 11:42:58,554]\u001b[0m Trial 272 finished with value: 0.8279952550415184 and parameters: {'n_estimators': 210, 'min_samples_leaf': 5, 'max_depth': 23}. Best is trial 113 with value: 0.8347205707491082.\u001b[0m\n",
      "\u001b[32m[I 2023-04-28 11:42:58,927]\u001b[0m Trial 273 finished with value: 0.8307692307692307 and parameters: {'n_estimators': 100, 'min_samples_leaf': 5, 'max_depth': 22}. Best is trial 113 with value: 0.8347205707491082.\u001b[0m\n",
      "\u001b[32m[I 2023-04-28 11:42:59,316]\u001b[0m Trial 274 finished with value: 0.8271752085816448 and parameters: {'n_estimators': 110, 'min_samples_leaf': 5, 'max_depth': 24}. Best is trial 113 with value: 0.8347205707491082.\u001b[0m\n",
      "\u001b[32m[I 2023-04-28 11:42:59,684]\u001b[0m Trial 275 finished with value: 0.8347205707491082 and parameters: {'n_estimators': 100, 'min_samples_leaf': 5, 'max_depth': 23}. Best is trial 113 with value: 0.8347205707491082.\u001b[0m\n",
      "\u001b[32m[I 2023-04-28 11:43:00,072]\u001b[0m Trial 276 finished with value: 0.8309523809523809 and parameters: {'n_estimators': 110, 'min_samples_leaf': 5, 'max_depth': 23}. Best is trial 113 with value: 0.8347205707491082.\u001b[0m\n",
      "\u001b[32m[I 2023-04-28 11:43:00,446]\u001b[0m Trial 277 finished with value: 0.8257756563245824 and parameters: {'n_estimators': 100, 'min_samples_leaf': 5, 'max_depth': 24}. Best is trial 113 with value: 0.8347205707491082.\u001b[0m\n",
      "\u001b[32m[I 2023-04-28 11:43:00,812]\u001b[0m Trial 278 finished with value: 0.8307692307692307 and parameters: {'n_estimators': 100, 'min_samples_leaf': 5, 'max_depth': 22}. Best is trial 113 with value: 0.8347205707491082.\u001b[0m\n",
      "\u001b[32m[I 2023-04-28 11:43:01,202]\u001b[0m Trial 279 finished with value: 0.8309523809523809 and parameters: {'n_estimators': 110, 'min_samples_leaf': 5, 'max_depth': 23}. Best is trial 113 with value: 0.8347205707491082.\u001b[0m\n",
      "\u001b[32m[I 2023-04-28 11:43:01,570]\u001b[0m Trial 280 finished with value: 0.8307692307692307 and parameters: {'n_estimators': 100, 'min_samples_leaf': 5, 'max_depth': 22}. Best is trial 113 with value: 0.8347205707491082.\u001b[0m\n",
      "\u001b[32m[I 2023-04-28 11:43:01,958]\u001b[0m Trial 281 finished with value: 0.8271752085816448 and parameters: {'n_estimators': 110, 'min_samples_leaf': 5, 'max_depth': 24}. Best is trial 113 with value: 0.8347205707491082.\u001b[0m\n",
      "\u001b[32m[I 2023-04-28 11:43:02,323]\u001b[0m Trial 282 finished with value: 0.8347205707491082 and parameters: {'n_estimators': 100, 'min_samples_leaf': 5, 'max_depth': 23}. Best is trial 113 with value: 0.8347205707491082.\u001b[0m\n",
      "\u001b[32m[I 2023-04-28 11:43:02,870]\u001b[0m Trial 283 finished with value: 0.8278301886792453 and parameters: {'n_estimators': 100, 'min_samples_leaf': 5, 'max_depth': 18}. Best is trial 113 with value: 0.8347205707491082.\u001b[0m\n",
      "\u001b[32m[I 2023-04-28 11:43:03,242]\u001b[0m Trial 284 finished with value: 0.8347205707491082 and parameters: {'n_estimators': 100, 'min_samples_leaf': 5, 'max_depth': 23}. Best is trial 113 with value: 0.8347205707491082.\u001b[0m\n",
      "\u001b[32m[I 2023-04-28 11:43:03,632]\u001b[0m Trial 285 finished with value: 0.8271752085816448 and parameters: {'n_estimators': 110, 'min_samples_leaf': 5, 'max_depth': 24}. Best is trial 113 with value: 0.8347205707491082.\u001b[0m\n",
      "\u001b[32m[I 2023-04-28 11:43:04,007]\u001b[0m Trial 286 finished with value: 0.8264462809917356 and parameters: {'n_estimators': 100, 'min_samples_leaf': 5, 'max_depth': 21}. Best is trial 113 with value: 0.8347205707491082.\u001b[0m\n",
      "\u001b[32m[I 2023-04-28 11:43:04,380]\u001b[0m Trial 287 finished with value: 0.8261904761904761 and parameters: {'n_estimators': 100, 'min_samples_leaf': 5, 'max_depth': 29}. Best is trial 113 with value: 0.8347205707491082.\u001b[0m\n",
      "\u001b[32m[I 2023-04-28 11:43:04,771]\u001b[0m Trial 288 finished with value: 0.8309523809523809 and parameters: {'n_estimators': 110, 'min_samples_leaf': 5, 'max_depth': 23}. Best is trial 113 with value: 0.8347205707491082.\u001b[0m\n",
      "\u001b[32m[I 2023-04-28 11:43:05,143]\u001b[0m Trial 289 finished with value: 0.8307692307692307 and parameters: {'n_estimators': 100, 'min_samples_leaf': 5, 'max_depth': 25}. Best is trial 113 with value: 0.8347205707491082.\u001b[0m\n",
      "\u001b[32m[I 2023-04-28 11:43:05,508]\u001b[0m Trial 290 finished with value: 0.8307692307692307 and parameters: {'n_estimators': 100, 'min_samples_leaf': 5, 'max_depth': 22}. Best is trial 113 with value: 0.8347205707491082.\u001b[0m\n",
      "\u001b[32m[I 2023-04-28 11:43:06,036]\u001b[0m Trial 291 finished with value: 0.8266033254156769 and parameters: {'n_estimators': 170, 'min_samples_leaf': 5, 'max_depth': 23}. Best is trial 113 with value: 0.8347205707491082.\u001b[0m\n",
      "\u001b[32m[I 2023-04-28 11:43:06,427]\u001b[0m Trial 292 finished with value: 0.8271752085816448 and parameters: {'n_estimators': 110, 'min_samples_leaf': 5, 'max_depth': 24}. Best is trial 113 with value: 0.8347205707491082.\u001b[0m\n",
      "\u001b[32m[I 2023-04-28 11:43:06,796]\u001b[0m Trial 293 finished with value: 0.8307692307692307 and parameters: {'n_estimators': 100, 'min_samples_leaf': 5, 'max_depth': 22}. Best is trial 113 with value: 0.8347205707491082.\u001b[0m\n",
      "\u001b[32m[I 2023-04-28 11:43:07,186]\u001b[0m Trial 294 finished with value: 0.8309523809523809 and parameters: {'n_estimators': 110, 'min_samples_leaf': 5, 'max_depth': 23}. Best is trial 113 with value: 0.8347205707491082.\u001b[0m\n",
      "\u001b[32m[I 2023-04-28 11:43:07,557]\u001b[0m Trial 295 finished with value: 0.8257756563245824 and parameters: {'n_estimators': 100, 'min_samples_leaf': 5, 'max_depth': 24}. Best is trial 113 with value: 0.8347205707491082.\u001b[0m\n",
      "\u001b[32m[I 2023-04-28 11:43:07,929]\u001b[0m Trial 296 finished with value: 0.8347205707491082 and parameters: {'n_estimators': 100, 'min_samples_leaf': 5, 'max_depth': 23}. Best is trial 113 with value: 0.8347205707491082.\u001b[0m\n",
      "\u001b[32m[I 2023-04-28 11:43:08,298]\u001b[0m Trial 297 finished with value: 0.831353919239905 and parameters: {'n_estimators': 100, 'min_samples_leaf': 5, 'max_depth': 17}. Best is trial 113 with value: 0.8347205707491082.\u001b[0m\n",
      "\u001b[32m[I 2023-04-28 11:43:08,690]\u001b[0m Trial 298 finished with value: 0.8236686390532544 and parameters: {'n_estimators': 110, 'min_samples_leaf': 7, 'max_depth': 22}. Best is trial 113 with value: 0.8347205707491082.\u001b[0m\n",
      "\u001b[32m[I 2023-04-28 11:43:09,208]\u001b[0m Trial 299 finished with value: 0.8275862068965516 and parameters: {'n_estimators': 160, 'min_samples_leaf': 5, 'max_depth': 23}. Best is trial 113 with value: 0.8347205707491082.\u001b[0m\n",
      "\u001b[32m[I 2023-04-28 11:43:09,576]\u001b[0m Trial 300 finished with value: 0.8307692307692307 and parameters: {'n_estimators': 100, 'min_samples_leaf': 5, 'max_depth': 22}. Best is trial 113 with value: 0.8347205707491082.\u001b[0m\n",
      "\u001b[32m[I 2023-04-28 11:43:10,379]\u001b[0m Trial 301 finished with value: 0.8297872340425532 and parameters: {'n_estimators': 290, 'min_samples_leaf': 5, 'max_depth': 24}. Best is trial 113 with value: 0.8347205707491082.\u001b[0m\n",
      "\u001b[32m[I 2023-04-28 11:43:10,776]\u001b[0m Trial 302 finished with value: 0.8293838862559241 and parameters: {'n_estimators': 110, 'min_samples_leaf': 5, 'max_depth': 21}. Best is trial 113 with value: 0.8347205707491082.\u001b[0m\n",
      "\u001b[32m[I 2023-04-28 11:43:11,157]\u001b[0m Trial 303 finished with value: 0.8347205707491082 and parameters: {'n_estimators': 100, 'min_samples_leaf': 5, 'max_depth': 23}. Best is trial 113 with value: 0.8347205707491082.\u001b[0m\n",
      "\u001b[32m[I 2023-04-28 11:43:11,528]\u001b[0m Trial 304 finished with value: 0.8307692307692307 and parameters: {'n_estimators': 100, 'min_samples_leaf': 5, 'max_depth': 22}. Best is trial 113 with value: 0.8347205707491082.\u001b[0m\n",
      "\u001b[32m[I 2023-04-28 11:43:11,897]\u001b[0m Trial 305 finished with value: 0.8257756563245824 and parameters: {'n_estimators': 100, 'min_samples_leaf': 5, 'max_depth': 24}. Best is trial 113 with value: 0.8347205707491082.\u001b[0m\n",
      "\u001b[32m[I 2023-04-28 11:43:12,291]\u001b[0m Trial 306 finished with value: 0.8309523809523809 and parameters: {'n_estimators': 110, 'min_samples_leaf': 5, 'max_depth': 23}. Best is trial 113 with value: 0.8347205707491082.\u001b[0m\n",
      "\u001b[32m[I 2023-04-28 11:43:12,662]\u001b[0m Trial 307 finished with value: 0.8257756563245824 and parameters: {'n_estimators': 100, 'min_samples_leaf': 5, 'max_depth': 24}. Best is trial 113 with value: 0.8347205707491082.\u001b[0m\n",
      "\u001b[32m[I 2023-04-28 11:43:13,034]\u001b[0m Trial 308 finished with value: 0.8347205707491082 and parameters: {'n_estimators': 100, 'min_samples_leaf': 5, 'max_depth': 23}. Best is trial 113 with value: 0.8347205707491082.\u001b[0m\n",
      "\u001b[32m[I 2023-04-28 11:43:13,430]\u001b[0m Trial 309 finished with value: 0.8323424494649226 and parameters: {'n_estimators': 110, 'min_samples_leaf': 5, 'max_depth': 25}. Best is trial 113 with value: 0.8347205707491082.\u001b[0m\n",
      "\u001b[32m[I 2023-04-28 11:43:13,802]\u001b[0m Trial 310 finished with value: 0.8347205707491082 and parameters: {'n_estimators': 100, 'min_samples_leaf': 5, 'max_depth': 23}. Best is trial 113 with value: 0.8347205707491082.\u001b[0m\n",
      "\u001b[32m[I 2023-04-28 11:43:14,177]\u001b[0m Trial 311 finished with value: 0.8307692307692307 and parameters: {'n_estimators': 100, 'min_samples_leaf': 5, 'max_depth': 22}. Best is trial 113 with value: 0.8347205707491082.\u001b[0m\n",
      "\u001b[32m[I 2023-04-28 11:43:14,574]\u001b[0m Trial 312 finished with value: 0.8309523809523809 and parameters: {'n_estimators': 110, 'min_samples_leaf': 5, 'max_depth': 23}. Best is trial 113 with value: 0.8347205707491082.\u001b[0m\n",
      "\u001b[32m[I 2023-04-28 11:43:14,950]\u001b[0m Trial 313 finished with value: 0.8257756563245824 and parameters: {'n_estimators': 100, 'min_samples_leaf': 5, 'max_depth': 24}. Best is trial 113 with value: 0.8347205707491082.\u001b[0m\n",
      "\u001b[32m[I 2023-04-28 11:43:15,542]\u001b[0m Trial 314 finished with value: 0.8252080856123662 and parameters: {'n_estimators': 200, 'min_samples_leaf': 5, 'max_depth': 22}. Best is trial 113 with value: 0.8347205707491082.\u001b[0m\n",
      "\u001b[32m[I 2023-04-28 11:43:15,912]\u001b[0m Trial 315 finished with value: 0.8347205707491082 and parameters: {'n_estimators': 100, 'min_samples_leaf': 5, 'max_depth': 23}. Best is trial 113 with value: 0.8347205707491082.\u001b[0m\n",
      "\u001b[32m[I 2023-04-28 11:43:16,307]\u001b[0m Trial 316 finished with value: 0.8309523809523809 and parameters: {'n_estimators': 110, 'min_samples_leaf': 5, 'max_depth': 23}. Best is trial 113 with value: 0.8347205707491082.\u001b[0m\n",
      "\u001b[32m[I 2023-04-28 11:43:16,673]\u001b[0m Trial 317 finished with value: 0.8307692307692307 and parameters: {'n_estimators': 100, 'min_samples_leaf': 5, 'max_depth': 22}. Best is trial 113 with value: 0.8347205707491082.\u001b[0m\n",
      "\u001b[32m[I 2023-04-28 11:43:17,066]\u001b[0m Trial 318 finished with value: 0.8271752085816448 and parameters: {'n_estimators': 110, 'min_samples_leaf': 5, 'max_depth': 24}. Best is trial 113 with value: 0.8347205707491082.\u001b[0m\n",
      "\u001b[32m[I 2023-04-28 11:43:17,434]\u001b[0m Trial 319 finished with value: 0.8347205707491082 and parameters: {'n_estimators': 100, 'min_samples_leaf': 5, 'max_depth': 23}. Best is trial 113 with value: 0.8347205707491082.\u001b[0m\n",
      "\u001b[32m[I 2023-04-28 11:43:18,068]\u001b[0m Trial 320 finished with value: 0.8261904761904761 and parameters: {'n_estimators': 220, 'min_samples_leaf': 5, 'max_depth': 22}. Best is trial 113 with value: 0.8347205707491082.\u001b[0m\n",
      "\u001b[32m[I 2023-04-28 11:43:18,441]\u001b[0m Trial 321 finished with value: 0.8257756563245824 and parameters: {'n_estimators': 100, 'min_samples_leaf': 5, 'max_depth': 24}. Best is trial 113 with value: 0.8347205707491082.\u001b[0m\n",
      "\u001b[32m[I 2023-04-28 11:43:18,831]\u001b[0m Trial 322 finished with value: 0.8309523809523809 and parameters: {'n_estimators': 110, 'min_samples_leaf': 5, 'max_depth': 23}. Best is trial 113 with value: 0.8347205707491082.\u001b[0m\n",
      "\u001b[32m[I 2023-04-28 11:43:19,207]\u001b[0m Trial 323 finished with value: 0.8257756563245824 and parameters: {'n_estimators': 100, 'min_samples_leaf': 5, 'max_depth': 24}. Best is trial 113 with value: 0.8347205707491082.\u001b[0m\n",
      "\u001b[32m[I 2023-04-28 11:43:19,586]\u001b[0m Trial 324 finished with value: 0.8347205707491082 and parameters: {'n_estimators': 100, 'min_samples_leaf': 5, 'max_depth': 23}. Best is trial 113 with value: 0.8347205707491082.\u001b[0m\n",
      "\u001b[32m[I 2023-04-28 11:43:20,135]\u001b[0m Trial 325 finished with value: 0.8261904761904761 and parameters: {'n_estimators': 180, 'min_samples_leaf': 5, 'max_depth': 19}. Best is trial 113 with value: 0.8347205707491082.\u001b[0m\n",
      "\u001b[32m[I 2023-04-28 11:43:20,525]\u001b[0m Trial 326 finished with value: 0.8293838862559241 and parameters: {'n_estimators': 110, 'min_samples_leaf': 5, 'max_depth': 21}. Best is trial 113 with value: 0.8347205707491082.\u001b[0m\n",
      "\u001b[32m[I 2023-04-28 11:43:20,904]\u001b[0m Trial 327 finished with value: 0.8307692307692307 and parameters: {'n_estimators': 100, 'min_samples_leaf': 5, 'max_depth': 22}. Best is trial 113 with value: 0.8347205707491082.\u001b[0m\n",
      "\u001b[32m[I 2023-04-28 11:43:21,289]\u001b[0m Trial 328 finished with value: 0.8347205707491082 and parameters: {'n_estimators': 100, 'min_samples_leaf': 5, 'max_depth': 23}. Best is trial 113 with value: 0.8347205707491082.\u001b[0m\n",
      "\u001b[32m[I 2023-04-28 11:43:21,688]\u001b[0m Trial 329 finished with value: 0.8271752085816448 and parameters: {'n_estimators': 110, 'min_samples_leaf': 5, 'max_depth': 24}. Best is trial 113 with value: 0.8347205707491082.\u001b[0m\n",
      "\u001b[32m[I 2023-04-28 11:43:22,076]\u001b[0m Trial 330 finished with value: 0.8347205707491082 and parameters: {'n_estimators': 100, 'min_samples_leaf': 5, 'max_depth': 23}. Best is trial 113 with value: 0.8347205707491082.\u001b[0m\n",
      "\u001b[32m[I 2023-04-28 11:43:22,463]\u001b[0m Trial 331 finished with value: 0.8307692307692307 and parameters: {'n_estimators': 100, 'min_samples_leaf': 5, 'max_depth': 22}. Best is trial 113 with value: 0.8347205707491082.\u001b[0m\n",
      "\u001b[32m[I 2023-04-28 11:43:22,863]\u001b[0m Trial 332 finished with value: 0.8309523809523809 and parameters: {'n_estimators': 110, 'min_samples_leaf': 5, 'max_depth': 23}. Best is trial 113 with value: 0.8347205707491082.\u001b[0m\n",
      "\u001b[32m[I 2023-04-28 11:43:23,238]\u001b[0m Trial 333 finished with value: 0.8307692307692307 and parameters: {'n_estimators': 100, 'min_samples_leaf': 5, 'max_depth': 25}. Best is trial 113 with value: 0.8347205707491082.\u001b[0m\n",
      "\u001b[32m[I 2023-04-28 11:43:23,607]\u001b[0m Trial 334 finished with value: 0.8257756563245824 and parameters: {'n_estimators': 100, 'min_samples_leaf': 5, 'max_depth': 24}. Best is trial 113 with value: 0.8347205707491082.\u001b[0m\n",
      "\u001b[32m[I 2023-04-28 11:43:24,007]\u001b[0m Trial 335 finished with value: 0.8233890214797136 and parameters: {'n_estimators': 110, 'min_samples_leaf': 3, 'max_depth': 23}. Best is trial 113 with value: 0.8347205707491082.\u001b[0m\n",
      "\u001b[32m[I 2023-04-28 11:43:24,377]\u001b[0m Trial 336 finished with value: 0.8307692307692307 and parameters: {'n_estimators': 100, 'min_samples_leaf': 5, 'max_depth': 22}. Best is trial 113 with value: 0.8347205707491082.\u001b[0m\n",
      "\u001b[32m[I 2023-04-28 11:43:24,770]\u001b[0m Trial 337 finished with value: 0.8285714285714285 and parameters: {'n_estimators': 110, 'min_samples_leaf': 5, 'max_depth': 15}. Best is trial 113 with value: 0.8347205707491082.\u001b[0m\n",
      "\u001b[32m[I 2023-04-28 11:43:25,324]\u001b[0m Trial 338 finished with value: 0.8347205707491082 and parameters: {'n_estimators': 100, 'min_samples_leaf': 5, 'max_depth': 23}. Best is trial 113 with value: 0.8347205707491082.\u001b[0m\n",
      "\u001b[32m[I 2023-04-28 11:43:25,696]\u001b[0m Trial 339 finished with value: 0.8261904761904761 and parameters: {'n_estimators': 100, 'min_samples_leaf': 5, 'max_depth': 27}. Best is trial 113 with value: 0.8347205707491082.\u001b[0m\n",
      "\u001b[32m[I 2023-04-28 11:43:26,063]\u001b[0m Trial 340 finished with value: 0.8257756563245824 and parameters: {'n_estimators': 100, 'min_samples_leaf': 5, 'max_depth': 24}. Best is trial 113 with value: 0.8347205707491082.\u001b[0m\n",
      "\u001b[32m[I 2023-04-28 11:43:26,457]\u001b[0m Trial 341 finished with value: 0.8299643281807373 and parameters: {'n_estimators': 110, 'min_samples_leaf': 5, 'max_depth': 22}. Best is trial 113 with value: 0.8347205707491082.\u001b[0m\n",
      "\u001b[32m[I 2023-04-28 11:43:26,826]\u001b[0m Trial 342 finished with value: 0.8347205707491082 and parameters: {'n_estimators': 100, 'min_samples_leaf': 5, 'max_depth': 23}. Best is trial 113 with value: 0.8347205707491082.\u001b[0m\n",
      "\u001b[32m[I 2023-04-28 11:43:27,206]\u001b[0m Trial 343 finished with value: 0.8257756563245824 and parameters: {'n_estimators': 100, 'min_samples_leaf': 5, 'max_depth': 24}. Best is trial 113 with value: 0.8347205707491082.\u001b[0m\n",
      "\u001b[32m[I 2023-04-28 11:43:27,577]\u001b[0m Trial 344 finished with value: 0.8307692307692307 and parameters: {'n_estimators': 100, 'min_samples_leaf': 5, 'max_depth': 25}. Best is trial 113 with value: 0.8347205707491082.\u001b[0m\n",
      "\u001b[32m[I 2023-04-28 11:43:27,967]\u001b[0m Trial 345 finished with value: 0.8309523809523809 and parameters: {'n_estimators': 110, 'min_samples_leaf': 5, 'max_depth': 23}. Best is trial 113 with value: 0.8347205707491082.\u001b[0m\n",
      "\u001b[32m[I 2023-04-28 11:43:28,359]\u001b[0m Trial 346 finished with value: 0.8309523809523809 and parameters: {'n_estimators': 110, 'min_samples_leaf': 5, 'max_depth': 23}. Best is trial 113 with value: 0.8347205707491082.\u001b[0m\n",
      "\u001b[32m[I 2023-04-28 11:43:28,731]\u001b[0m Trial 347 finished with value: 0.8307692307692307 and parameters: {'n_estimators': 100, 'min_samples_leaf': 5, 'max_depth': 22}. Best is trial 113 with value: 0.8347205707491082.\u001b[0m\n",
      "\u001b[32m[I 2023-04-28 11:43:29,119]\u001b[0m Trial 348 finished with value: 0.8257756563245824 and parameters: {'n_estimators': 100, 'min_samples_leaf': 5, 'max_depth': 24}. Best is trial 113 with value: 0.8347205707491082.\u001b[0m\n",
      "\u001b[32m[I 2023-04-28 11:43:29,514]\u001b[0m Trial 349 finished with value: 0.8299643281807373 and parameters: {'n_estimators': 110, 'min_samples_leaf': 5, 'max_depth': 22}. Best is trial 113 with value: 0.8347205707491082.\u001b[0m\n",
      "\u001b[32m[I 2023-04-28 11:43:29,887]\u001b[0m Trial 350 finished with value: 0.8347205707491082 and parameters: {'n_estimators': 100, 'min_samples_leaf': 5, 'max_depth': 23}. Best is trial 113 with value: 0.8347205707491082.\u001b[0m\n",
      "\u001b[32m[I 2023-04-28 11:43:30,310]\u001b[0m Trial 351 finished with value: 0.8222748815165877 and parameters: {'n_estimators': 120, 'min_samples_leaf': 5, 'max_depth': 21}. Best is trial 113 with value: 0.8347205707491082.\u001b[0m\n",
      "\u001b[32m[I 2023-04-28 11:43:31,005]\u001b[0m Trial 352 finished with value: 0.8266033254156769 and parameters: {'n_estimators': 240, 'min_samples_leaf': 5, 'max_depth': 23}. Best is trial 113 with value: 0.8347205707491082.\u001b[0m\n",
      "\u001b[32m[I 2023-04-28 11:43:31,372]\u001b[0m Trial 353 finished with value: 0.8257756563245824 and parameters: {'n_estimators': 100, 'min_samples_leaf': 5, 'max_depth': 24}. Best is trial 113 with value: 0.8347205707491082.\u001b[0m\n",
      "\u001b[32m[I 2023-04-28 11:43:31,777]\u001b[0m Trial 354 finished with value: 0.8299643281807373 and parameters: {'n_estimators': 110, 'min_samples_leaf': 5, 'max_depth': 22}. Best is trial 113 with value: 0.8347205707491082.\u001b[0m\n",
      "\u001b[32m[I 2023-04-28 11:43:32,151]\u001b[0m Trial 355 finished with value: 0.8347205707491082 and parameters: {'n_estimators': 100, 'min_samples_leaf': 5, 'max_depth': 23}. Best is trial 113 with value: 0.8347205707491082.\u001b[0m\n",
      "\u001b[32m[I 2023-04-28 11:43:32,522]\u001b[0m Trial 356 finished with value: 0.8257756563245824 and parameters: {'n_estimators': 100, 'min_samples_leaf': 5, 'max_depth': 24}. Best is trial 113 with value: 0.8347205707491082.\u001b[0m\n",
      "\u001b[32m[I 2023-04-28 11:43:32,890]\u001b[0m Trial 357 finished with value: 0.8307692307692307 and parameters: {'n_estimators': 100, 'min_samples_leaf': 5, 'max_depth': 22}. Best is trial 113 with value: 0.8347205707491082.\u001b[0m\n",
      "\u001b[32m[I 2023-04-28 11:43:33,280]\u001b[0m Trial 358 finished with value: 0.8309523809523809 and parameters: {'n_estimators': 110, 'min_samples_leaf': 5, 'max_depth': 23}. Best is trial 113 with value: 0.8347205707491082.\u001b[0m\n",
      "\u001b[32m[I 2023-04-28 11:43:33,648]\u001b[0m Trial 359 finished with value: 0.8257756563245824 and parameters: {'n_estimators': 100, 'min_samples_leaf': 5, 'max_depth': 24}. Best is trial 113 with value: 0.8347205707491082.\u001b[0m\n",
      "\u001b[32m[I 2023-04-28 11:43:34,312]\u001b[0m Trial 360 finished with value: 0.8236686390532544 and parameters: {'n_estimators': 230, 'min_samples_leaf': 5, 'max_depth': 21}. Best is trial 113 with value: 0.8347205707491082.\u001b[0m\n",
      "\u001b[32m[I 2023-04-28 11:43:34,711]\u001b[0m Trial 361 finished with value: 0.8253588516746412 and parameters: {'n_estimators': 110, 'min_samples_leaf': 4, 'max_depth': 23}. Best is trial 113 with value: 0.8347205707491082.\u001b[0m\n",
      "\u001b[32m[I 2023-04-28 11:43:35,089]\u001b[0m Trial 362 finished with value: 0.8307692307692307 and parameters: {'n_estimators': 100, 'min_samples_leaf': 5, 'max_depth': 22}. Best is trial 113 with value: 0.8347205707491082.\u001b[0m\n",
      "\u001b[32m[I 2023-04-28 11:43:35,459]\u001b[0m Trial 363 finished with value: 0.8347205707491082 and parameters: {'n_estimators': 100, 'min_samples_leaf': 5, 'max_depth': 23}. Best is trial 113 with value: 0.8347205707491082.\u001b[0m\n",
      "\u001b[32m[I 2023-04-28 11:43:35,856]\u001b[0m Trial 364 finished with value: 0.8309523809523809 and parameters: {'n_estimators': 110, 'min_samples_leaf': 5, 'max_depth': 23}. Best is trial 113 with value: 0.8347205707491082.\u001b[0m\n",
      "\u001b[32m[I 2023-04-28 11:43:36,688]\u001b[0m Trial 365 finished with value: 0.824228028503563 and parameters: {'n_estimators': 310, 'min_samples_leaf': 5, 'max_depth': 20}. Best is trial 113 with value: 0.8347205707491082.\u001b[0m\n",
      "\u001b[32m[I 2023-04-28 11:43:37,059]\u001b[0m Trial 366 finished with value: 0.8257756563245824 and parameters: {'n_estimators': 100, 'min_samples_leaf': 5, 'max_depth': 24}. Best is trial 113 with value: 0.8347205707491082.\u001b[0m\n",
      "\u001b[32m[I 2023-04-28 11:43:37,454]\u001b[0m Trial 367 finished with value: 0.8299643281807373 and parameters: {'n_estimators': 110, 'min_samples_leaf': 5, 'max_depth': 22}. Best is trial 113 with value: 0.8347205707491082.\u001b[0m\n",
      "\u001b[32m[I 2023-04-28 11:43:37,827]\u001b[0m Trial 368 finished with value: 0.8347205707491082 and parameters: {'n_estimators': 100, 'min_samples_leaf': 5, 'max_depth': 23}. Best is trial 113 with value: 0.8347205707491082.\u001b[0m\n",
      "\u001b[32m[I 2023-04-28 11:43:38,198]\u001b[0m Trial 369 finished with value: 0.8307692307692307 and parameters: {'n_estimators': 100, 'min_samples_leaf': 5, 'max_depth': 25}. Best is trial 113 with value: 0.8347205707491082.\u001b[0m\n",
      "\u001b[32m[I 2023-04-28 11:43:38,573]\u001b[0m Trial 370 finished with value: 0.8347205707491082 and parameters: {'n_estimators': 100, 'min_samples_leaf': 5, 'max_depth': 23}. Best is trial 113 with value: 0.8347205707491082.\u001b[0m\n",
      "\u001b[32m[I 2023-04-28 11:43:38,969]\u001b[0m Trial 371 finished with value: 0.8271752085816448 and parameters: {'n_estimators': 110, 'min_samples_leaf': 5, 'max_depth': 24}. Best is trial 113 with value: 0.8347205707491082.\u001b[0m\n",
      "\u001b[32m[I 2023-04-28 11:43:39,341]\u001b[0m Trial 372 finished with value: 0.8307692307692307 and parameters: {'n_estimators': 100, 'min_samples_leaf': 5, 'max_depth': 22}. Best is trial 113 with value: 0.8347205707491082.\u001b[0m\n",
      "\u001b[32m[I 2023-04-28 11:43:39,735]\u001b[0m Trial 373 finished with value: 0.8271752085816448 and parameters: {'n_estimators': 110, 'min_samples_leaf': 5, 'max_depth': 24}. Best is trial 113 with value: 0.8347205707491082.\u001b[0m\n",
      "\u001b[32m[I 2023-04-28 11:43:40,109]\u001b[0m Trial 374 finished with value: 0.8347205707491082 and parameters: {'n_estimators': 100, 'min_samples_leaf': 5, 'max_depth': 23}. Best is trial 113 with value: 0.8347205707491082.\u001b[0m\n",
      "\u001b[32m[I 2023-04-28 11:43:40,480]\u001b[0m Trial 375 finished with value: 0.8261904761904761 and parameters: {'n_estimators': 100, 'min_samples_leaf': 5, 'max_depth': 31}. Best is trial 113 with value: 0.8347205707491082.\u001b[0m\n",
      "\u001b[32m[I 2023-04-28 11:43:40,873]\u001b[0m Trial 376 finished with value: 0.8299643281807373 and parameters: {'n_estimators': 110, 'min_samples_leaf': 5, 'max_depth': 22}. Best is trial 113 with value: 0.8347205707491082.\u001b[0m\n",
      "\u001b[32m[I 2023-04-28 11:43:41,285]\u001b[0m Trial 377 finished with value: 0.8293838862559241 and parameters: {'n_estimators': 120, 'min_samples_leaf': 5, 'max_depth': 23}. Best is trial 113 with value: 0.8347205707491082.\u001b[0m\n",
      "\u001b[32m[I 2023-04-28 11:43:41,652]\u001b[0m Trial 378 finished with value: 0.8307692307692307 and parameters: {'n_estimators': 100, 'min_samples_leaf': 5, 'max_depth': 25}. Best is trial 113 with value: 0.8347205707491082.\u001b[0m\n",
      "\u001b[32m[I 2023-04-28 11:43:42,024]\u001b[0m Trial 379 finished with value: 0.8257756563245824 and parameters: {'n_estimators': 100, 'min_samples_leaf': 5, 'max_depth': 24}. Best is trial 113 with value: 0.8347205707491082.\u001b[0m\n",
      "\u001b[32m[I 2023-04-28 11:43:42,393]\u001b[0m Trial 380 finished with value: 0.8119047619047619 and parameters: {'n_estimators': 100, 'min_samples_leaf': 6, 'max_depth': 23}. Best is trial 113 with value: 0.8347205707491082.\u001b[0m\n",
      "\u001b[32m[I 2023-04-28 11:43:42,787]\u001b[0m Trial 381 finished with value: 0.8299643281807373 and parameters: {'n_estimators': 110, 'min_samples_leaf': 5, 'max_depth': 22}. Best is trial 113 with value: 0.8347205707491082.\u001b[0m\n",
      "\u001b[32m[I 2023-04-28 11:43:43,159]\u001b[0m Trial 382 finished with value: 0.8347205707491082 and parameters: {'n_estimators': 100, 'min_samples_leaf': 5, 'max_depth': 23}. Best is trial 113 with value: 0.8347205707491082.\u001b[0m\n",
      "\u001b[32m[I 2023-04-28 11:43:43,556]\u001b[0m Trial 383 finished with value: 0.8309523809523809 and parameters: {'n_estimators': 110, 'min_samples_leaf': 5, 'max_depth': 23}. Best is trial 113 with value: 0.8347205707491082.\u001b[0m\n",
      "\u001b[32m[I 2023-04-28 11:43:44,054]\u001b[0m Trial 384 finished with value: 0.824228028503563 and parameters: {'n_estimators': 150, 'min_samples_leaf': 5, 'max_depth': 24}. Best is trial 113 with value: 0.8347205707491082.\u001b[0m\n",
      "\u001b[32m[I 2023-04-28 11:43:44,447]\u001b[0m Trial 385 finished with value: 0.8264462809917356 and parameters: {'n_estimators': 100, 'min_samples_leaf': 5, 'max_depth': 21}. Best is trial 113 with value: 0.8347205707491082.\u001b[0m\n",
      "\u001b[32m[I 2023-04-28 11:43:44,821]\u001b[0m Trial 386 finished with value: 0.8307692307692307 and parameters: {'n_estimators': 100, 'min_samples_leaf': 5, 'max_depth': 22}. Best is trial 113 with value: 0.8347205707491082.\u001b[0m\n",
      "\u001b[32m[I 2023-04-28 11:43:45,193]\u001b[0m Trial 387 finished with value: 0.8347205707491082 and parameters: {'n_estimators': 100, 'min_samples_leaf': 5, 'max_depth': 23}. Best is trial 113 with value: 0.8347205707491082.\u001b[0m\n",
      "\u001b[32m[I 2023-04-28 11:43:45,585]\u001b[0m Trial 388 finished with value: 0.8250591016548463 and parameters: {'n_estimators': 110, 'min_samples_leaf': 7, 'max_depth': 24}. Best is trial 113 with value: 0.8347205707491082.\u001b[0m\n",
      "\u001b[32m[I 2023-04-28 11:43:45,990]\u001b[0m Trial 389 finished with value: 0.8299643281807373 and parameters: {'n_estimators': 110, 'min_samples_leaf': 5, 'max_depth': 22}. Best is trial 113 with value: 0.8347205707491082.\u001b[0m\n",
      "\u001b[32m[I 2023-04-28 11:43:46,373]\u001b[0m Trial 390 finished with value: 0.8347205707491082 and parameters: {'n_estimators': 100, 'min_samples_leaf': 5, 'max_depth': 23}. Best is trial 113 with value: 0.8347205707491082.\u001b[0m\n",
      "\u001b[32m[I 2023-04-28 11:43:46,764]\u001b[0m Trial 391 finished with value: 0.8257756563245824 and parameters: {'n_estimators': 100, 'min_samples_leaf': 5, 'max_depth': 24}. Best is trial 113 with value: 0.8347205707491082.\u001b[0m\n",
      "\u001b[32m[I 2023-04-28 11:43:47,153]\u001b[0m Trial 392 finished with value: 0.8299643281807373 and parameters: {'n_estimators': 100, 'min_samples_leaf': 5, 'max_depth': 26}. Best is trial 113 with value: 0.8347205707491082.\u001b[0m\n",
      "\u001b[32m[I 2023-04-28 11:43:47,561]\u001b[0m Trial 393 finished with value: 0.8299643281807373 and parameters: {'n_estimators': 110, 'min_samples_leaf': 5, 'max_depth': 22}. Best is trial 113 with value: 0.8347205707491082.\u001b[0m\n",
      "\u001b[32m[I 2023-04-28 11:43:47,937]\u001b[0m Trial 394 finished with value: 0.8347205707491082 and parameters: {'n_estimators': 100, 'min_samples_leaf': 5, 'max_depth': 23}. Best is trial 113 with value: 0.8347205707491082.\u001b[0m\n",
      "\u001b[32m[I 2023-04-28 11:43:48,309]\u001b[0m Trial 395 finished with value: 0.8347205707491082 and parameters: {'n_estimators': 100, 'min_samples_leaf': 5, 'max_depth': 23}. Best is trial 113 with value: 0.8347205707491082.\u001b[0m\n",
      "\u001b[32m[I 2023-04-28 11:43:49,019]\u001b[0m Trial 396 finished with value: 0.8252080856123662 and parameters: {'n_estimators': 170, 'min_samples_leaf': 5, 'max_depth': 24}. Best is trial 113 with value: 0.8347205707491082.\u001b[0m\n",
      "\u001b[32m[I 2023-04-28 11:43:49,417]\u001b[0m Trial 397 finished with value: 0.8299643281807373 and parameters: {'n_estimators': 110, 'min_samples_leaf': 5, 'max_depth': 22}. Best is trial 113 with value: 0.8347205707491082.\u001b[0m\n",
      "\u001b[32m[I 2023-04-28 11:43:49,798]\u001b[0m Trial 398 finished with value: 0.8347205707491082 and parameters: {'n_estimators': 100, 'min_samples_leaf': 5, 'max_depth': 23}. Best is trial 113 with value: 0.8347205707491082.\u001b[0m\n",
      "\u001b[32m[I 2023-04-28 11:43:50,171]\u001b[0m Trial 399 finished with value: 0.8347205707491082 and parameters: {'n_estimators': 100, 'min_samples_leaf': 5, 'max_depth': 23}. Best is trial 113 with value: 0.8347205707491082.\u001b[0m\n",
      "\u001b[32m[I 2023-04-28 11:43:50,571]\u001b[0m Trial 400 finished with value: 0.8299643281807373 and parameters: {'n_estimators': 110, 'min_samples_leaf': 5, 'max_depth': 22}. Best is trial 113 with value: 0.8347205707491082.\u001b[0m\n",
      "\u001b[32m[I 2023-04-28 11:43:51,333]\u001b[0m Trial 401 finished with value: 0.8266033254156769 and parameters: {'n_estimators': 260, 'min_samples_leaf': 5, 'max_depth': 24}. Best is trial 113 with value: 0.8347205707491082.\u001b[0m\n",
      "\u001b[32m[I 2023-04-28 11:43:51,757]\u001b[0m Trial 402 finished with value: 0.8285714285714285 and parameters: {'n_estimators': 120, 'min_samples_leaf': 5, 'max_depth': 24}. Best is trial 113 with value: 0.8347205707491082.\u001b[0m\n",
      "\u001b[32m[I 2023-04-28 11:43:52,155]\u001b[0m Trial 403 finished with value: 0.8347205707491082 and parameters: {'n_estimators': 100, 'min_samples_leaf': 5, 'max_depth': 23}. Best is trial 113 with value: 0.8347205707491082.\u001b[0m\n",
      "\u001b[32m[I 2023-04-28 11:43:52,533]\u001b[0m Trial 404 finished with value: 0.8307692307692307 and parameters: {'n_estimators': 100, 'min_samples_leaf': 5, 'max_depth': 25}. Best is trial 113 with value: 0.8347205707491082.\u001b[0m\n",
      "\u001b[32m[I 2023-04-28 11:43:52,935]\u001b[0m Trial 405 finished with value: 0.8309523809523809 and parameters: {'n_estimators': 110, 'min_samples_leaf': 5, 'max_depth': 23}. Best is trial 113 with value: 0.8347205707491082.\u001b[0m\n",
      "\u001b[32m[I 2023-04-28 11:43:53,311]\u001b[0m Trial 406 finished with value: 0.8264462809917356 and parameters: {'n_estimators': 100, 'min_samples_leaf': 5, 'max_depth': 21}. Best is trial 113 with value: 0.8347205707491082.\u001b[0m\n",
      "\u001b[32m[I 2023-04-28 11:43:53,682]\u001b[0m Trial 407 finished with value: 0.8307692307692307 and parameters: {'n_estimators': 100, 'min_samples_leaf': 5, 'max_depth': 22}. Best is trial 113 with value: 0.8347205707491082.\u001b[0m\n",
      "\u001b[32m[I 2023-04-28 11:43:54,080]\u001b[0m Trial 408 finished with value: 0.8309523809523809 and parameters: {'n_estimators': 110, 'min_samples_leaf': 5, 'max_depth': 23}. Best is trial 113 with value: 0.8347205707491082.\u001b[0m\n",
      "\u001b[32m[I 2023-04-28 11:43:54,681]\u001b[0m Trial 409 finished with value: 0.8266033254156769 and parameters: {'n_estimators': 190, 'min_samples_leaf': 5, 'max_depth': 23}. Best is trial 113 with value: 0.8347205707491082.\u001b[0m\n",
      "\u001b[32m[I 2023-04-28 11:43:55,065]\u001b[0m Trial 410 finished with value: 0.8257756563245824 and parameters: {'n_estimators': 100, 'min_samples_leaf': 5, 'max_depth': 24}. Best is trial 113 with value: 0.8347205707491082.\u001b[0m\n",
      "\u001b[32m[I 2023-04-28 11:43:55,467]\u001b[0m Trial 411 finished with value: 0.8299643281807373 and parameters: {'n_estimators': 110, 'min_samples_leaf': 5, 'max_depth': 22}. Best is trial 113 with value: 0.8347205707491082.\u001b[0m\n",
      "\u001b[32m[I 2023-04-28 11:43:55,849]\u001b[0m Trial 412 finished with value: 0.8347205707491082 and parameters: {'n_estimators': 100, 'min_samples_leaf': 5, 'max_depth': 23}. Best is trial 113 with value: 0.8347205707491082.\u001b[0m\n",
      "\u001b[32m[I 2023-04-28 11:43:56,221]\u001b[0m Trial 413 finished with value: 0.8261904761904761 and parameters: {'n_estimators': 100, 'min_samples_leaf': 5, 'max_depth': 29}. Best is trial 113 with value: 0.8347205707491082.\u001b[0m\n",
      "\u001b[32m[I 2023-04-28 11:43:56,625]\u001b[0m Trial 414 finished with value: 0.8257756563245824 and parameters: {'n_estimators': 100, 'min_samples_leaf': 5, 'max_depth': 24}. Best is trial 113 with value: 0.8347205707491082.\u001b[0m\n",
      "\u001b[32m[I 2023-04-28 11:43:57,027]\u001b[0m Trial 415 finished with value: 0.8299643281807373 and parameters: {'n_estimators': 110, 'min_samples_leaf': 5, 'max_depth': 22}. Best is trial 113 with value: 0.8347205707491082.\u001b[0m\n",
      "\u001b[32m[I 2023-04-28 11:43:57,404]\u001b[0m Trial 416 finished with value: 0.8347205707491082 and parameters: {'n_estimators': 100, 'min_samples_leaf': 5, 'max_depth': 23}. Best is trial 113 with value: 0.8347205707491082.\u001b[0m\n",
      "\u001b[32m[I 2023-04-28 11:43:58,119]\u001b[0m Trial 417 finished with value: 0.8250591016548463 and parameters: {'n_estimators': 250, 'min_samples_leaf': 5, 'max_depth': 25}. Best is trial 113 with value: 0.8347205707491082.\u001b[0m\n",
      "\u001b[32m[I 2023-04-28 11:43:58,535]\u001b[0m Trial 418 finished with value: 0.8285714285714285 and parameters: {'n_estimators': 120, 'min_samples_leaf': 5, 'max_depth': 24}. Best is trial 113 with value: 0.8347205707491082.\u001b[0m\n",
      "\u001b[32m[I 2023-04-28 11:43:58,910]\u001b[0m Trial 419 finished with value: 0.8347205707491082 and parameters: {'n_estimators': 100, 'min_samples_leaf': 5, 'max_depth': 23}. Best is trial 113 with value: 0.8347205707491082.\u001b[0m\n",
      "\u001b[32m[I 2023-04-28 11:43:59,333]\u001b[0m Trial 420 finished with value: 0.8299643281807373 and parameters: {'n_estimators': 110, 'min_samples_leaf': 5, 'max_depth': 22}. Best is trial 113 with value: 0.8347205707491082.\u001b[0m\n",
      "\u001b[32m[I 2023-04-28 11:43:59,717]\u001b[0m Trial 421 finished with value: 0.8347205707491082 and parameters: {'n_estimators': 100, 'min_samples_leaf': 5, 'max_depth': 23}. Best is trial 113 with value: 0.8347205707491082.\u001b[0m\n",
      "\u001b[32m[I 2023-04-28 11:44:00,106]\u001b[0m Trial 422 finished with value: 0.8307692307692307 and parameters: {'n_estimators': 100, 'min_samples_leaf': 5, 'max_depth': 22}. Best is trial 113 with value: 0.8347205707491082.\u001b[0m\n",
      "\u001b[32m[I 2023-04-28 11:44:00,511]\u001b[0m Trial 423 finished with value: 0.8222748815165877 and parameters: {'n_estimators': 110, 'min_samples_leaf': 3, 'max_depth': 21}. Best is trial 113 with value: 0.8347205707491082.\u001b[0m\n",
      "\u001b[32m[I 2023-04-28 11:44:01,391]\u001b[0m Trial 424 finished with value: 0.8260355029585799 and parameters: {'n_estimators': 300, 'min_samples_leaf': 5, 'max_depth': 24}. Best is trial 113 with value: 0.8347205707491082.\u001b[0m\n",
      "\u001b[32m[I 2023-04-28 11:44:01,777]\u001b[0m Trial 425 finished with value: 0.8347205707491082 and parameters: {'n_estimators': 100, 'min_samples_leaf': 5, 'max_depth': 23}. Best is trial 113 with value: 0.8347205707491082.\u001b[0m\n",
      "\u001b[32m[I 2023-04-28 11:44:02,172]\u001b[0m Trial 426 finished with value: 0.8261904761904761 and parameters: {'n_estimators': 100, 'min_samples_leaf': 5, 'max_depth': 32}. Best is trial 113 with value: 0.8347205707491082.\u001b[0m\n",
      "\u001b[32m[I 2023-04-28 11:44:02,815]\u001b[0m Trial 427 finished with value: 0.8279952550415184 and parameters: {'n_estimators': 210, 'min_samples_leaf': 5, 'max_depth': 23}. Best is trial 113 with value: 0.8347205707491082.\u001b[0m\n",
      "\u001b[32m[I 2023-04-28 11:44:03,208]\u001b[0m Trial 428 finished with value: 0.8257756563245824 and parameters: {'n_estimators': 100, 'min_samples_leaf': 5, 'max_depth': 24}. Best is trial 113 with value: 0.8347205707491082.\u001b[0m\n",
      "\u001b[32m[I 2023-04-28 11:44:03,617]\u001b[0m Trial 429 finished with value: 0.8299643281807373 and parameters: {'n_estimators': 110, 'min_samples_leaf': 5, 'max_depth': 22}. Best is trial 113 with value: 0.8347205707491082.\u001b[0m\n",
      "\u001b[32m[I 2023-04-28 11:44:04,004]\u001b[0m Trial 430 finished with value: 0.8347205707491082 and parameters: {'n_estimators': 100, 'min_samples_leaf': 5, 'max_depth': 23}. Best is trial 113 with value: 0.8347205707491082.\u001b[0m\n",
      "\u001b[32m[I 2023-04-28 11:44:04,413]\u001b[0m Trial 431 finished with value: 0.8271752085816448 and parameters: {'n_estimators': 110, 'min_samples_leaf': 5, 'max_depth': 24}. Best is trial 113 with value: 0.8347205707491082.\u001b[0m\n",
      "\u001b[32m[I 2023-04-28 11:44:04,807]\u001b[0m Trial 432 finished with value: 0.8347205707491082 and parameters: {'n_estimators': 100, 'min_samples_leaf': 5, 'max_depth': 23}. Best is trial 113 with value: 0.8347205707491082.\u001b[0m\n",
      "\u001b[32m[I 2023-04-28 11:44:05,192]\u001b[0m Trial 433 finished with value: 0.8264462809917356 and parameters: {'n_estimators': 100, 'min_samples_leaf': 5, 'max_depth': 21}. Best is trial 113 with value: 0.8347205707491082.\u001b[0m\n",
      "\u001b[32m[I 2023-04-28 11:44:05,599]\u001b[0m Trial 434 finished with value: 0.8309523809523809 and parameters: {'n_estimators': 110, 'min_samples_leaf': 5, 'max_depth': 23}. Best is trial 113 with value: 0.8347205707491082.\u001b[0m\n",
      "\u001b[32m[I 2023-04-28 11:44:05,981]\u001b[0m Trial 435 finished with value: 0.8307692307692307 and parameters: {'n_estimators': 100, 'min_samples_leaf': 5, 'max_depth': 22}. Best is trial 113 with value: 0.8347205707491082.\u001b[0m\n",
      "\u001b[32m[I 2023-04-28 11:44:06,486]\u001b[0m Trial 436 finished with value: 0.8247914183551848 and parameters: {'n_estimators': 160, 'min_samples_leaf': 5, 'max_depth': 24}. Best is trial 113 with value: 0.8347205707491082.\u001b[0m\n",
      "\u001b[32m[I 2023-04-28 11:44:06,887]\u001b[0m Trial 437 finished with value: 0.8299643281807373 and parameters: {'n_estimators': 110, 'min_samples_leaf': 5, 'max_depth': 22}. Best is trial 113 with value: 0.8347205707491082.\u001b[0m\n",
      "\u001b[32m[I 2023-04-28 11:44:07,268]\u001b[0m Trial 438 finished with value: 0.8307692307692307 and parameters: {'n_estimators': 100, 'min_samples_leaf': 5, 'max_depth': 25}. Best is trial 113 with value: 0.8347205707491082.\u001b[0m\n",
      "\u001b[32m[I 2023-04-28 11:44:07,691]\u001b[0m Trial 439 finished with value: 0.8293838862559241 and parameters: {'n_estimators': 120, 'min_samples_leaf': 5, 'max_depth': 23}. Best is trial 113 with value: 0.8347205707491082.\u001b[0m\n",
      "\u001b[32m[I 2023-04-28 11:44:08,076]\u001b[0m Trial 440 finished with value: 0.8347205707491082 and parameters: {'n_estimators': 100, 'min_samples_leaf': 5, 'max_depth': 23}. Best is trial 113 with value: 0.8347205707491082.\u001b[0m\n",
      "\u001b[32m[I 2023-04-28 11:44:08,454]\u001b[0m Trial 441 finished with value: 0.8257756563245824 and parameters: {'n_estimators': 100, 'min_samples_leaf': 5, 'max_depth': 24}. Best is trial 113 with value: 0.8347205707491082.\u001b[0m\n",
      "\u001b[32m[I 2023-04-28 11:44:08,859]\u001b[0m Trial 442 finished with value: 0.8299643281807373 and parameters: {'n_estimators': 110, 'min_samples_leaf': 5, 'max_depth': 22}. Best is trial 113 with value: 0.8347205707491082.\u001b[0m\n",
      "\u001b[32m[I 2023-04-28 11:44:09,245]\u001b[0m Trial 443 finished with value: 0.8347205707491082 and parameters: {'n_estimators': 100, 'min_samples_leaf': 5, 'max_depth': 23}. Best is trial 113 with value: 0.8347205707491082.\u001b[0m\n",
      "\u001b[32m[I 2023-04-28 11:44:09,641]\u001b[0m Trial 444 finished with value: 0.8307692307692307 and parameters: {'n_estimators': 100, 'min_samples_leaf': 5, 'max_depth': 22}. Best is trial 113 with value: 0.8347205707491082.\u001b[0m\n",
      "\u001b[32m[I 2023-04-28 11:44:10,046]\u001b[0m Trial 445 finished with value: 0.819047619047619 and parameters: {'n_estimators': 110, 'min_samples_leaf': 5, 'max_depth': 16}. Best is trial 113 with value: 0.8347205707491082.\u001b[0m\n",
      "\u001b[32m[I 2023-04-28 11:44:10,422]\u001b[0m Trial 446 finished with value: 0.8256227758007116 and parameters: {'n_estimators': 100, 'min_samples_leaf': 5, 'max_depth': 19}. Best is trial 113 with value: 0.8347205707491082.\u001b[0m\n",
      "\u001b[32m[I 2023-04-28 11:44:11,007]\u001b[0m Trial 447 finished with value: 0.8257756563245824 and parameters: {'n_estimators': 100, 'min_samples_leaf': 5, 'max_depth': 24}. Best is trial 113 with value: 0.8347205707491082.\u001b[0m\n",
      "\u001b[32m[I 2023-04-28 11:44:11,424]\u001b[0m Trial 448 finished with value: 0.8285714285714285 and parameters: {'n_estimators': 110, 'min_samples_leaf': 5, 'max_depth': 26}. Best is trial 113 with value: 0.8347205707491082.\u001b[0m\n",
      "\u001b[32m[I 2023-04-28 11:44:11,805]\u001b[0m Trial 449 finished with value: 0.8347205707491082 and parameters: {'n_estimators': 100, 'min_samples_leaf': 5, 'max_depth': 23}. Best is trial 113 with value: 0.8347205707491082.\u001b[0m\n",
      "\u001b[32m[I 2023-04-28 11:44:12,187]\u001b[0m Trial 450 finished with value: 0.8347205707491082 and parameters: {'n_estimators': 100, 'min_samples_leaf': 5, 'max_depth': 23}. Best is trial 113 with value: 0.8347205707491082.\u001b[0m\n",
      "\u001b[32m[I 2023-04-28 11:44:12,590]\u001b[0m Trial 451 finished with value: 0.8271752085816448 and parameters: {'n_estimators': 110, 'min_samples_leaf': 5, 'max_depth': 24}. Best is trial 113 with value: 0.8347205707491082.\u001b[0m\n",
      "\u001b[32m[I 2023-04-28 11:44:12,973]\u001b[0m Trial 452 finished with value: 0.8347205707491082 and parameters: {'n_estimators': 100, 'min_samples_leaf': 5, 'max_depth': 23}. Best is trial 113 with value: 0.8347205707491082.\u001b[0m\n",
      "\u001b[32m[I 2023-04-28 11:44:13,377]\u001b[0m Trial 453 finished with value: 0.8177458033573141 and parameters: {'n_estimators': 110, 'min_samples_leaf': 4, 'max_depth': 22}. Best is trial 113 with value: 0.8347205707491082.\u001b[0m\n",
      "\u001b[32m[I 2023-04-28 11:44:13,759]\u001b[0m Trial 454 finished with value: 0.8347205707491082 and parameters: {'n_estimators': 100, 'min_samples_leaf': 5, 'max_depth': 23}. Best is trial 113 with value: 0.8347205707491082.\u001b[0m\n",
      "\u001b[32m[I 2023-04-28 11:44:14,142]\u001b[0m Trial 455 finished with value: 0.8259303721488594 and parameters: {'n_estimators': 100, 'min_samples_leaf': 5, 'max_depth': 20}. Best is trial 113 with value: 0.8347205707491082.\u001b[0m\n",
      "\u001b[32m[I 2023-04-28 11:44:14,541]\u001b[0m Trial 456 finished with value: 0.8271752085816448 and parameters: {'n_estimators': 110, 'min_samples_leaf': 5, 'max_depth': 24}. Best is trial 113 with value: 0.8347205707491082.\u001b[0m\n",
      "\u001b[32m[I 2023-04-28 11:44:14,927]\u001b[0m Trial 457 finished with value: 0.8307692307692307 and parameters: {'n_estimators': 100, 'min_samples_leaf': 5, 'max_depth': 22}. Best is trial 113 with value: 0.8347205707491082.\u001b[0m\n",
      "\u001b[32m[I 2023-04-28 11:44:15,305]\u001b[0m Trial 458 finished with value: 0.8347205707491082 and parameters: {'n_estimators': 100, 'min_samples_leaf': 5, 'max_depth': 23}. Best is trial 113 with value: 0.8347205707491082.\u001b[0m\n",
      "\u001b[32m[I 2023-04-28 11:44:16,066]\u001b[0m Trial 459 finished with value: 0.8270142180094787 and parameters: {'n_estimators': 270, 'min_samples_leaf': 5, 'max_depth': 22}. Best is trial 113 with value: 0.8347205707491082.\u001b[0m\n",
      "\u001b[32m[I 2023-04-28 11:44:16,469]\u001b[0m Trial 460 finished with value: 0.8271752085816448 and parameters: {'n_estimators': 110, 'min_samples_leaf': 5, 'max_depth': 24}. Best is trial 113 with value: 0.8347205707491082.\u001b[0m\n",
      "\u001b[32m[I 2023-04-28 11:44:17,248]\u001b[0m Trial 461 finished with value: 0.8260355029585799 and parameters: {'n_estimators': 280, 'min_samples_leaf': 5, 'max_depth': 23}. Best is trial 113 with value: 0.8347205707491082.\u001b[0m\n",
      "\u001b[32m[I 2023-04-28 11:44:17,631]\u001b[0m Trial 462 finished with value: 0.8347205707491082 and parameters: {'n_estimators': 100, 'min_samples_leaf': 5, 'max_depth': 23}. Best is trial 113 with value: 0.8347205707491082.\u001b[0m\n",
      "\u001b[32m[I 2023-04-28 11:44:18,009]\u001b[0m Trial 463 finished with value: 0.8261904761904761 and parameters: {'n_estimators': 100, 'min_samples_leaf': 5, 'max_depth': 28}. Best is trial 113 with value: 0.8347205707491082.\u001b[0m\n",
      "\u001b[32m[I 2023-04-28 11:44:18,420]\u001b[0m Trial 464 finished with value: 0.8264462809917356 and parameters: {'n_estimators': 100, 'min_samples_leaf': 5, 'max_depth': 21}. Best is trial 113 with value: 0.8347205707491082.\u001b[0m\n",
      "\u001b[32m[I 2023-04-28 11:44:18,834]\u001b[0m Trial 465 finished with value: 0.8271752085816448 and parameters: {'n_estimators': 110, 'min_samples_leaf': 5, 'max_depth': 24}. Best is trial 113 with value: 0.8347205707491082.\u001b[0m\n",
      "\u001b[32m[I 2023-04-28 11:44:19,220]\u001b[0m Trial 466 finished with value: 0.8307692307692307 and parameters: {'n_estimators': 100, 'min_samples_leaf': 5, 'max_depth': 22}. Best is trial 113 with value: 0.8347205707491082.\u001b[0m\n",
      "\u001b[32m[I 2023-04-28 11:44:19,808]\u001b[0m Trial 467 finished with value: 0.8266033254156769 and parameters: {'n_estimators': 190, 'min_samples_leaf': 5, 'max_depth': 23}. Best is trial 113 with value: 0.8347205707491082.\u001b[0m\n",
      "\u001b[32m[I 2023-04-28 11:44:20,223]\u001b[0m Trial 468 finished with value: 0.8309523809523809 and parameters: {'n_estimators': 110, 'min_samples_leaf': 5, 'max_depth': 23}. Best is trial 113 with value: 0.8347205707491082.\u001b[0m\n",
      "\u001b[32m[I 2023-04-28 11:44:20,601]\u001b[0m Trial 469 finished with value: 0.8307692307692307 and parameters: {'n_estimators': 100, 'min_samples_leaf': 5, 'max_depth': 25}. Best is trial 113 with value: 0.8347205707491082.\u001b[0m\n",
      "\u001b[32m[I 2023-04-28 11:44:21,254]\u001b[0m Trial 470 finished with value: 0.8261904761904761 and parameters: {'n_estimators': 220, 'min_samples_leaf': 5, 'max_depth': 22}. Best is trial 113 with value: 0.8347205707491082.\u001b[0m\n",
      "\u001b[32m[I 2023-04-28 11:44:21,654]\u001b[0m Trial 471 finished with value: 0.8271752085816448 and parameters: {'n_estimators': 110, 'min_samples_leaf': 5, 'max_depth': 24}. Best is trial 113 with value: 0.8347205707491082.\u001b[0m\n",
      "\u001b[32m[I 2023-04-28 11:44:22,040]\u001b[0m Trial 472 finished with value: 0.8347205707491082 and parameters: {'n_estimators': 100, 'min_samples_leaf': 5, 'max_depth': 23}. Best is trial 113 with value: 0.8347205707491082.\u001b[0m\n",
      "\u001b[32m[I 2023-04-28 11:44:22,418]\u001b[0m Trial 473 finished with value: 0.8347205707491082 and parameters: {'n_estimators': 100, 'min_samples_leaf': 5, 'max_depth': 23}. Best is trial 113 with value: 0.8347205707491082.\u001b[0m\n",
      "\u001b[32m[I 2023-04-28 11:44:22,807]\u001b[0m Trial 474 finished with value: 0.8307692307692307 and parameters: {'n_estimators': 100, 'min_samples_leaf': 5, 'max_depth': 22}. Best is trial 113 with value: 0.8347205707491082.\u001b[0m\n",
      "\u001b[32m[I 2023-04-28 11:44:23,230]\u001b[0m Trial 475 finished with value: 0.8285714285714285 and parameters: {'n_estimators': 120, 'min_samples_leaf': 5, 'max_depth': 24}. Best is trial 113 with value: 0.8347205707491082.\u001b[0m\n",
      "\u001b[32m[I 2023-04-28 11:44:23,635]\u001b[0m Trial 476 finished with value: 0.8323424494649226 and parameters: {'n_estimators': 110, 'min_samples_leaf': 5, 'max_depth': 25}. Best is trial 113 with value: 0.8347205707491082.\u001b[0m\n",
      "\u001b[32m[I 2023-04-28 11:44:24,020]\u001b[0m Trial 477 finished with value: 0.8347205707491082 and parameters: {'n_estimators': 100, 'min_samples_leaf': 5, 'max_depth': 23}. Best is trial 113 with value: 0.8347205707491082.\u001b[0m\n",
      "\u001b[32m[I 2023-04-28 11:44:24,410]\u001b[0m Trial 478 finished with value: 0.8307692307692307 and parameters: {'n_estimators': 100, 'min_samples_leaf': 5, 'max_depth': 22}. Best is trial 113 with value: 0.8347205707491082.\u001b[0m\n",
      "\u001b[32m[I 2023-04-28 11:44:24,892]\u001b[0m Trial 479 finished with value: 0.8162291169451072 and parameters: {'n_estimators': 140, 'min_samples_leaf': 6, 'max_depth': 21}. Best is trial 113 with value: 0.8347205707491082.\u001b[0m\n",
      "\u001b[32m[I 2023-04-28 11:44:25,300]\u001b[0m Trial 480 finished with value: 0.8271752085816448 and parameters: {'n_estimators': 110, 'min_samples_leaf': 5, 'max_depth': 24}. Best is trial 113 with value: 0.8347205707491082.\u001b[0m\n",
      "\u001b[32m[I 2023-04-28 11:44:25,703]\u001b[0m Trial 481 finished with value: 0.8347205707491082 and parameters: {'n_estimators': 100, 'min_samples_leaf': 5, 'max_depth': 23}. Best is trial 113 with value: 0.8347205707491082.\u001b[0m\n",
      "\u001b[32m[I 2023-04-28 11:44:26,093]\u001b[0m Trial 482 finished with value: 0.8257756563245824 and parameters: {'n_estimators': 100, 'min_samples_leaf': 5, 'max_depth': 24}. Best is trial 113 with value: 0.8347205707491082.\u001b[0m\n",
      "\u001b[32m[I 2023-04-28 11:44:26,539]\u001b[0m Trial 483 finished with value: 0.8309523809523809 and parameters: {'n_estimators': 110, 'min_samples_leaf': 5, 'max_depth': 23}. Best is trial 113 with value: 0.8347205707491082.\u001b[0m\n",
      "\u001b[32m[I 2023-04-28 11:44:26,937]\u001b[0m Trial 484 finished with value: 0.8307692307692307 and parameters: {'n_estimators': 100, 'min_samples_leaf': 5, 'max_depth': 22}. Best is trial 113 with value: 0.8347205707491082.\u001b[0m\n",
      "\u001b[32m[I 2023-04-28 11:44:27,343]\u001b[0m Trial 485 finished with value: 0.8347205707491082 and parameters: {'n_estimators': 100, 'min_samples_leaf': 5, 'max_depth': 23}. Best is trial 113 with value: 0.8347205707491082.\u001b[0m\n",
      "\u001b[32m[I 2023-04-28 11:44:27,755]\u001b[0m Trial 486 finished with value: 0.8271752085816448 and parameters: {'n_estimators': 110, 'min_samples_leaf': 5, 'max_depth': 24}. Best is trial 113 with value: 0.8347205707491082.\u001b[0m\n",
      "\u001b[32m[I 2023-04-28 11:44:28,160]\u001b[0m Trial 487 finished with value: 0.8347205707491082 and parameters: {'n_estimators': 100, 'min_samples_leaf': 5, 'max_depth': 23}. Best is trial 113 with value: 0.8347205707491082.\u001b[0m\n",
      "\u001b[32m[I 2023-04-28 11:44:28,594]\u001b[0m Trial 488 finished with value: 0.8303677342823249 and parameters: {'n_estimators': 120, 'min_samples_leaf': 5, 'max_depth': 22}. Best is trial 113 with value: 0.8347205707491082.\u001b[0m\n",
      "\u001b[32m[I 2023-04-28 11:44:28,974]\u001b[0m Trial 489 finished with value: 0.8307692307692307 and parameters: {'n_estimators': 100, 'min_samples_leaf': 5, 'max_depth': 22}. Best is trial 113 with value: 0.8347205707491082.\u001b[0m\n",
      "\u001b[32m[I 2023-04-28 11:44:29,384]\u001b[0m Trial 490 finished with value: 0.8309523809523809 and parameters: {'n_estimators': 110, 'min_samples_leaf': 5, 'max_depth': 23}. Best is trial 113 with value: 0.8347205707491082.\u001b[0m\n",
      "\u001b[32m[I 2023-04-28 11:44:29,764]\u001b[0m Trial 491 finished with value: 0.8257756563245824 and parameters: {'n_estimators': 100, 'min_samples_leaf': 5, 'max_depth': 24}. Best is trial 113 with value: 0.8347205707491082.\u001b[0m\n",
      "\u001b[32m[I 2023-04-28 11:44:30,173]\u001b[0m Trial 492 finished with value: 0.8295589988081049 and parameters: {'n_estimators': 110, 'min_samples_leaf': 5, 'max_depth': 27}. Best is trial 113 with value: 0.8347205707491082.\u001b[0m\n",
      "\u001b[32m[I 2023-04-28 11:44:30,556]\u001b[0m Trial 493 finished with value: 0.8233890214797136 and parameters: {'n_estimators': 100, 'min_samples_leaf': 4, 'max_depth': 23}. Best is trial 113 with value: 0.8347205707491082.\u001b[0m\n",
      "\u001b[32m[I 2023-04-28 11:44:30,943]\u001b[0m Trial 494 finished with value: 0.8347205707491082 and parameters: {'n_estimators': 100, 'min_samples_leaf': 5, 'max_depth': 23}. Best is trial 113 with value: 0.8347205707491082.\u001b[0m\n",
      "\u001b[32m[I 2023-04-28 11:44:31,330]\u001b[0m Trial 495 finished with value: 0.8307692307692307 and parameters: {'n_estimators': 100, 'min_samples_leaf': 5, 'max_depth': 25}. Best is trial 113 with value: 0.8347205707491082.\u001b[0m\n",
      "\u001b[32m[I 2023-04-28 11:44:31,731]\u001b[0m Trial 496 finished with value: 0.8299643281807373 and parameters: {'n_estimators': 110, 'min_samples_leaf': 5, 'max_depth': 22}. Best is trial 113 with value: 0.8347205707491082.\u001b[0m\n",
      "\u001b[32m[I 2023-04-28 11:44:32,143]\u001b[0m Trial 497 finished with value: 0.8257756563245824 and parameters: {'n_estimators': 100, 'min_samples_leaf': 5, 'max_depth': 24}. Best is trial 113 with value: 0.8347205707491082.\u001b[0m\n",
      "\u001b[32m[I 2023-04-28 11:44:32,553]\u001b[0m Trial 498 finished with value: 0.8299643281807373 and parameters: {'n_estimators': 110, 'min_samples_leaf': 5, 'max_depth': 22}. Best is trial 113 with value: 0.8347205707491082.\u001b[0m\n",
      "\u001b[32m[I 2023-04-28 11:44:32,960]\u001b[0m Trial 499 finished with value: 0.8347205707491082 and parameters: {'n_estimators': 100, 'min_samples_leaf': 5, 'max_depth': 23}. Best is trial 113 with value: 0.8347205707491082.\u001b[0m\n",
      "\u001b[32m[I 2023-04-28 11:44:33,363]\u001b[0m Trial 500 finished with value: 0.8347205707491082 and parameters: {'n_estimators': 100, 'min_samples_leaf': 5, 'max_depth': 23}. Best is trial 113 with value: 0.8347205707491082.\u001b[0m\n",
      "\u001b[32m[I 2023-04-28 11:44:33,775]\u001b[0m Trial 501 finished with value: 0.8271752085816448 and parameters: {'n_estimators': 110, 'min_samples_leaf': 5, 'max_depth': 24}. Best is trial 113 with value: 0.8347205707491082.\u001b[0m\n",
      "\u001b[32m[I 2023-04-28 11:44:34,401]\u001b[0m Trial 502 finished with value: 0.831353919239905 and parameters: {'n_estimators': 100, 'min_samples_leaf': 5, 'max_depth': 17}. Best is trial 113 with value: 0.8347205707491082.\u001b[0m\n",
      "\u001b[32m[I 2023-04-28 11:44:34,998]\u001b[0m Trial 503 finished with value: 0.8261904761904761 and parameters: {'n_estimators': 180, 'min_samples_leaf': 5, 'max_depth': 23}. Best is trial 113 with value: 0.8347205707491082.\u001b[0m\n",
      "\u001b[32m[I 2023-04-28 11:44:35,398]\u001b[0m Trial 504 finished with value: 0.8257756563245824 and parameters: {'n_estimators': 100, 'min_samples_leaf': 5, 'max_depth': 24}. Best is trial 113 with value: 0.8347205707491082.\u001b[0m\n",
      "\u001b[32m[I 2023-04-28 11:44:35,811]\u001b[0m Trial 505 finished with value: 0.8293838862559241 and parameters: {'n_estimators': 110, 'min_samples_leaf': 5, 'max_depth': 21}. Best is trial 113 with value: 0.8347205707491082.\u001b[0m\n",
      "\u001b[32m[I 2023-04-28 11:44:36,221]\u001b[0m Trial 506 finished with value: 0.8347205707491082 and parameters: {'n_estimators': 100, 'min_samples_leaf': 5, 'max_depth': 23}. Best is trial 113 with value: 0.8347205707491082.\u001b[0m\n",
      "\u001b[32m[I 2023-04-28 11:44:36,613]\u001b[0m Trial 507 finished with value: 0.8307692307692307 and parameters: {'n_estimators': 100, 'min_samples_leaf': 5, 'max_depth': 22}. Best is trial 113 with value: 0.8347205707491082.\u001b[0m\n",
      "\u001b[32m[I 2023-04-28 11:44:37,037]\u001b[0m Trial 508 finished with value: 0.8309523809523809 and parameters: {'n_estimators': 110, 'min_samples_leaf': 5, 'max_depth': 23}. Best is trial 113 with value: 0.8347205707491082.\u001b[0m\n",
      "\u001b[32m[I 2023-04-28 11:44:37,430]\u001b[0m Trial 509 finished with value: 0.8257756563245824 and parameters: {'n_estimators': 100, 'min_samples_leaf': 5, 'max_depth': 24}. Best is trial 113 with value: 0.8347205707491082.\u001b[0m\n",
      "\u001b[32m[I 2023-04-28 11:44:37,823]\u001b[0m Trial 510 finished with value: 0.8307692307692307 and parameters: {'n_estimators': 100, 'min_samples_leaf': 5, 'max_depth': 22}. Best is trial 113 with value: 0.8347205707491082.\u001b[0m\n",
      "\u001b[32m[I 2023-04-28 11:44:38,236]\u001b[0m Trial 511 finished with value: 0.8309523809523809 and parameters: {'n_estimators': 110, 'min_samples_leaf': 5, 'max_depth': 23}. Best is trial 113 with value: 0.8347205707491082.\u001b[0m\n",
      "\u001b[32m[I 2023-04-28 11:44:38,629]\u001b[0m Trial 512 finished with value: 0.8257756563245824 and parameters: {'n_estimators': 100, 'min_samples_leaf': 5, 'max_depth': 24}. Best is trial 113 with value: 0.8347205707491082.\u001b[0m\n",
      "\u001b[32m[I 2023-04-28 11:44:39,020]\u001b[0m Trial 513 finished with value: 0.8264462809917356 and parameters: {'n_estimators': 100, 'min_samples_leaf': 5, 'max_depth': 21}. Best is trial 113 with value: 0.8347205707491082.\u001b[0m\n",
      "\u001b[32m[I 2023-04-28 11:44:39,439]\u001b[0m Trial 514 finished with value: 0.8299643281807373 and parameters: {'n_estimators': 110, 'min_samples_leaf': 5, 'max_depth': 22}. Best is trial 113 with value: 0.8347205707491082.\u001b[0m\n",
      "\u001b[32m[I 2023-04-28 11:44:39,834]\u001b[0m Trial 515 finished with value: 0.8347205707491082 and parameters: {'n_estimators': 100, 'min_samples_leaf': 5, 'max_depth': 23}. Best is trial 113 with value: 0.8347205707491082.\u001b[0m\n",
      "\u001b[32m[I 2023-04-28 11:44:40,282]\u001b[0m Trial 516 finished with value: 0.8293838862559241 and parameters: {'n_estimators': 120, 'min_samples_leaf': 5, 'max_depth': 23}. Best is trial 113 with value: 0.8347205707491082.\u001b[0m\n",
      "\u001b[32m[I 2023-04-28 11:44:40,689]\u001b[0m Trial 517 finished with value: 0.8257756563245824 and parameters: {'n_estimators': 100, 'min_samples_leaf': 5, 'max_depth': 24}. Best is trial 113 with value: 0.8347205707491082.\u001b[0m\n",
      "\u001b[32m[I 2023-04-28 11:44:41,112]\u001b[0m Trial 518 finished with value: 0.8323424494649226 and parameters: {'n_estimators': 110, 'min_samples_leaf': 5, 'max_depth': 25}. Best is trial 113 with value: 0.8347205707491082.\u001b[0m\n",
      "\u001b[32m[I 2023-04-28 11:44:41,500]\u001b[0m Trial 519 finished with value: 0.8307692307692307 and parameters: {'n_estimators': 100, 'min_samples_leaf': 5, 'max_depth': 22}. Best is trial 113 with value: 0.8347205707491082.\u001b[0m\n",
      "\u001b[32m[I 2023-04-28 11:44:41,886]\u001b[0m Trial 520 finished with value: 0.8347205707491082 and parameters: {'n_estimators': 100, 'min_samples_leaf': 5, 'max_depth': 23}. Best is trial 113 with value: 0.8347205707491082.\u001b[0m\n",
      "\u001b[32m[I 2023-04-28 11:44:42,296]\u001b[0m Trial 521 finished with value: 0.8271752085816448 and parameters: {'n_estimators': 110, 'min_samples_leaf': 5, 'max_depth': 24}. Best is trial 113 with value: 0.8347205707491082.\u001b[0m\n",
      "\u001b[32m[I 2023-04-28 11:44:42,681]\u001b[0m Trial 522 finished with value: 0.8347205707491082 and parameters: {'n_estimators': 100, 'min_samples_leaf': 5, 'max_depth': 23}. Best is trial 113 with value: 0.8347205707491082.\u001b[0m\n",
      "\u001b[32m[I 2023-04-28 11:44:43,063]\u001b[0m Trial 523 finished with value: 0.8307692307692307 and parameters: {'n_estimators': 100, 'min_samples_leaf': 5, 'max_depth': 22}. Best is trial 113 with value: 0.8347205707491082.\u001b[0m\n",
      "\u001b[32m[I 2023-04-28 11:44:43,464]\u001b[0m Trial 524 finished with value: 0.8271752085816448 and parameters: {'n_estimators': 110, 'min_samples_leaf': 5, 'max_depth': 24}. Best is trial 113 with value: 0.8347205707491082.\u001b[0m\n",
      "\u001b[32m[I 2023-04-28 11:44:43,845]\u001b[0m Trial 525 finished with value: 0.8347205707491082 and parameters: {'n_estimators': 100, 'min_samples_leaf': 5, 'max_depth': 23}. Best is trial 113 with value: 0.8347205707491082.\u001b[0m\n",
      "\u001b[32m[I 2023-04-28 11:44:44,252]\u001b[0m Trial 526 finished with value: 0.8299643281807373 and parameters: {'n_estimators': 110, 'min_samples_leaf': 5, 'max_depth': 22}. Best is trial 113 with value: 0.8347205707491082.\u001b[0m\n",
      "\u001b[32m[I 2023-04-28 11:44:44,636]\u001b[0m Trial 527 finished with value: 0.8347205707491082 and parameters: {'n_estimators': 100, 'min_samples_leaf': 5, 'max_depth': 23}. Best is trial 113 with value: 0.8347205707491082.\u001b[0m\n",
      "\u001b[32m[I 2023-04-28 11:44:45,019]\u001b[0m Trial 528 finished with value: 0.8347205707491082 and parameters: {'n_estimators': 100, 'min_samples_leaf': 5, 'max_depth': 23}. Best is trial 113 with value: 0.8347205707491082.\u001b[0m\n",
      "\u001b[32m[I 2023-04-28 11:44:45,401]\u001b[0m Trial 529 finished with value: 0.8257756563245824 and parameters: {'n_estimators': 100, 'min_samples_leaf': 5, 'max_depth': 24}. Best is trial 113 with value: 0.8347205707491082.\u001b[0m\n",
      "\u001b[32m[I 2023-04-28 11:44:45,817]\u001b[0m Trial 530 finished with value: 0.8323424494649226 and parameters: {'n_estimators': 110, 'min_samples_leaf': 5, 'max_depth': 25}. Best is trial 113 with value: 0.8347205707491082.\u001b[0m\n",
      "\u001b[32m[I 2023-04-28 11:44:46,250]\u001b[0m Trial 531 finished with value: 0.8293838862559241 and parameters: {'n_estimators': 120, 'min_samples_leaf': 5, 'max_depth': 23}. Best is trial 113 with value: 0.8347205707491082.\u001b[0m\n",
      "\u001b[32m[I 2023-04-28 11:44:46,638]\u001b[0m Trial 532 finished with value: 0.8307692307692307 and parameters: {'n_estimators': 100, 'min_samples_leaf': 5, 'max_depth': 22}. Best is trial 113 with value: 0.8347205707491082.\u001b[0m\n",
      "\u001b[32m[I 2023-04-28 11:44:47,024]\u001b[0m Trial 533 finished with value: 0.8257756563245824 and parameters: {'n_estimators': 100, 'min_samples_leaf': 5, 'max_depth': 24}. Best is trial 113 with value: 0.8347205707491082.\u001b[0m\n",
      "\u001b[32m[I 2023-04-28 11:44:47,432]\u001b[0m Trial 534 finished with value: 0.8309523809523809 and parameters: {'n_estimators': 110, 'min_samples_leaf': 5, 'max_depth': 23}. Best is trial 113 with value: 0.8347205707491082.\u001b[0m\n",
      "\u001b[32m[I 2023-04-28 11:44:47,811]\u001b[0m Trial 535 finished with value: 0.8250591016548463 and parameters: {'n_estimators': 100, 'min_samples_leaf': 7, 'max_depth': 21}. Best is trial 113 with value: 0.8347205707491082.\u001b[0m\n",
      "\u001b[32m[I 2023-04-28 11:44:48,309]\u001b[0m Trial 536 finished with value: 0.824228028503563 and parameters: {'n_estimators': 150, 'min_samples_leaf': 5, 'max_depth': 24}. Best is trial 113 with value: 0.8347205707491082.\u001b[0m\n",
      "\u001b[32m[I 2023-04-28 11:44:48,716]\u001b[0m Trial 537 finished with value: 0.8309523809523809 and parameters: {'n_estimators': 110, 'min_samples_leaf': 5, 'max_depth': 23}. Best is trial 113 with value: 0.8347205707491082.\u001b[0m\n",
      "\u001b[32m[I 2023-04-28 11:44:49,097]\u001b[0m Trial 538 finished with value: 0.8278301886792453 and parameters: {'n_estimators': 100, 'min_samples_leaf': 5, 'max_depth': 18}. Best is trial 113 with value: 0.8347205707491082.\u001b[0m\n",
      "\u001b[32m[I 2023-04-28 11:44:49,514]\u001b[0m Trial 539 finished with value: 0.8307692307692307 and parameters: {'n_estimators': 100, 'min_samples_leaf': 5, 'max_depth': 22}. Best is trial 113 with value: 0.8347205707491082.\u001b[0m\n",
      "\u001b[32m[I 2023-04-28 11:44:49,910]\u001b[0m Trial 540 finished with value: 0.8307692307692307 and parameters: {'n_estimators': 100, 'min_samples_leaf': 5, 'max_depth': 22}. Best is trial 113 with value: 0.8347205707491082.\u001b[0m\n",
      "\u001b[32m[I 2023-04-28 11:44:50,319]\u001b[0m Trial 541 finished with value: 0.8309523809523809 and parameters: {'n_estimators': 110, 'min_samples_leaf': 5, 'max_depth': 23}. Best is trial 113 with value: 0.8347205707491082.\u001b[0m\n",
      "\u001b[32m[I 2023-04-28 11:44:50,708]\u001b[0m Trial 542 finished with value: 0.8347205707491082 and parameters: {'n_estimators': 100, 'min_samples_leaf': 5, 'max_depth': 23}. Best is trial 113 with value: 0.8347205707491082.\u001b[0m\n",
      "\u001b[32m[I 2023-04-28 11:44:51,111]\u001b[0m Trial 543 finished with value: 0.8299643281807373 and parameters: {'n_estimators': 110, 'min_samples_leaf': 5, 'max_depth': 22}. Best is trial 113 with value: 0.8347205707491082.\u001b[0m\n",
      "\u001b[32m[I 2023-04-28 11:44:51,499]\u001b[0m Trial 544 finished with value: 0.8257756563245824 and parameters: {'n_estimators': 100, 'min_samples_leaf': 5, 'max_depth': 24}. Best is trial 113 with value: 0.8347205707491082.\u001b[0m\n",
      "\u001b[32m[I 2023-04-28 11:44:51,879]\u001b[0m Trial 545 finished with value: 0.8347205707491082 and parameters: {'n_estimators': 100, 'min_samples_leaf': 5, 'max_depth': 23}. Best is trial 113 with value: 0.8347205707491082.\u001b[0m\n",
      "\u001b[32m[I 2023-04-28 11:44:52,271]\u001b[0m Trial 546 finished with value: 0.8261904761904761 and parameters: {'n_estimators': 100, 'min_samples_leaf': 5, 'max_depth': 33}. Best is trial 113 with value: 0.8347205707491082.\u001b[0m\n",
      "\u001b[32m[I 2023-04-28 11:44:52,682]\u001b[0m Trial 547 finished with value: 0.8299643281807373 and parameters: {'n_estimators': 110, 'min_samples_leaf': 5, 'max_depth': 22}. Best is trial 113 with value: 0.8347205707491082.\u001b[0m\n",
      "\u001b[32m[I 2023-04-28 11:44:53,076]\u001b[0m Trial 548 finished with value: 0.8232502965599051 and parameters: {'n_estimators': 100, 'min_samples_leaf': 3, 'max_depth': 24}. Best is trial 113 with value: 0.8347205707491082.\u001b[0m\n",
      "\u001b[32m[I 2023-04-28 11:44:53,464]\u001b[0m Trial 549 finished with value: 0.8307692307692307 and parameters: {'n_estimators': 100, 'min_samples_leaf': 5, 'max_depth': 25}. Best is trial 113 with value: 0.8347205707491082.\u001b[0m\n",
      "\u001b[32m[I 2023-04-28 11:44:53,875]\u001b[0m Trial 550 finished with value: 0.8309523809523809 and parameters: {'n_estimators': 110, 'min_samples_leaf': 5, 'max_depth': 23}. Best is trial 113 with value: 0.8347205707491082.\u001b[0m\n",
      "\u001b[32m[I 2023-04-28 11:44:54,256]\u001b[0m Trial 551 finished with value: 0.8347205707491082 and parameters: {'n_estimators': 100, 'min_samples_leaf': 5, 'max_depth': 23}. Best is trial 113 with value: 0.8347205707491082.\u001b[0m\n",
      "\u001b[32m[I 2023-04-28 11:44:54,660]\u001b[0m Trial 552 finished with value: 0.8299643281807373 and parameters: {'n_estimators': 110, 'min_samples_leaf': 5, 'max_depth': 22}. Best is trial 113 with value: 0.8347205707491082.\u001b[0m\n",
      "\u001b[32m[I 2023-04-28 11:44:55,049]\u001b[0m Trial 553 finished with value: 0.8261904761904761 and parameters: {'n_estimators': 100, 'min_samples_leaf': 5, 'max_depth': 30}. Best is trial 113 with value: 0.8347205707491082.\u001b[0m\n",
      "\u001b[32m[I 2023-04-28 11:44:55,449]\u001b[0m Trial 554 finished with value: 0.8257756563245824 and parameters: {'n_estimators': 100, 'min_samples_leaf': 5, 'max_depth': 24}. Best is trial 113 with value: 0.8347205707491082.\u001b[0m\n",
      "\u001b[32m[I 2023-04-28 11:44:55,865]\u001b[0m Trial 555 finished with value: 0.8309523809523809 and parameters: {'n_estimators': 110, 'min_samples_leaf': 5, 'max_depth': 23}. Best is trial 113 with value: 0.8347205707491082.\u001b[0m\n",
      "\u001b[32m[I 2023-04-28 11:44:56,265]\u001b[0m Trial 556 finished with value: 0.8257756563245824 and parameters: {'n_estimators': 100, 'min_samples_leaf': 5, 'max_depth': 24}. Best is trial 113 with value: 0.8347205707491082.\u001b[0m\n",
      "\u001b[32m[I 2023-04-28 11:44:56,661]\u001b[0m Trial 557 finished with value: 0.8264462809917356 and parameters: {'n_estimators': 100, 'min_samples_leaf': 5, 'max_depth': 21}. Best is trial 113 with value: 0.8347205707491082.\u001b[0m\n",
      "\u001b[32m[I 2023-04-28 11:44:57,099]\u001b[0m Trial 558 finished with value: 0.8299643281807373 and parameters: {'n_estimators': 110, 'min_samples_leaf': 5, 'max_depth': 22}. Best is trial 113 with value: 0.8347205707491082.\u001b[0m\n",
      "\u001b[32m[I 2023-04-28 11:44:57,521]\u001b[0m Trial 559 finished with value: 0.8347205707491082 and parameters: {'n_estimators': 100, 'min_samples_leaf': 5, 'max_depth': 23}. Best is trial 113 with value: 0.8347205707491082.\u001b[0m\n",
      "\u001b[32m[I 2023-04-28 11:44:57,927]\u001b[0m Trial 560 finished with value: 0.8347205707491082 and parameters: {'n_estimators': 100, 'min_samples_leaf': 5, 'max_depth': 23}. Best is trial 113 with value: 0.8347205707491082.\u001b[0m\n",
      "\u001b[32m[I 2023-04-28 11:44:58,390]\u001b[0m Trial 561 finished with value: 0.8285714285714285 and parameters: {'n_estimators': 120, 'min_samples_leaf': 5, 'max_depth': 24}. Best is trial 113 with value: 0.8347205707491082.\u001b[0m\n",
      "\u001b[32m[I 2023-04-28 11:44:59,008]\u001b[0m Trial 562 finished with value: 0.8309523809523809 and parameters: {'n_estimators': 110, 'min_samples_leaf': 5, 'max_depth': 23}. Best is trial 113 with value: 0.8347205707491082.\u001b[0m\n",
      "\u001b[32m[I 2023-04-28 11:44:59,407]\u001b[0m Trial 563 finished with value: 0.8307692307692307 and parameters: {'n_estimators': 100, 'min_samples_leaf': 5, 'max_depth': 22}. Best is trial 113 with value: 0.8347205707491082.\u001b[0m\n",
      "\u001b[32m[I 2023-04-28 11:44:59,801]\u001b[0m Trial 564 finished with value: 0.8299643281807373 and parameters: {'n_estimators': 100, 'min_samples_leaf': 5, 'max_depth': 26}. Best is trial 113 with value: 0.8347205707491082.\u001b[0m\n",
      "\u001b[32m[I 2023-04-28 11:45:00,212]\u001b[0m Trial 565 finished with value: 0.8271752085816448 and parameters: {'n_estimators': 110, 'min_samples_leaf': 5, 'max_depth': 24}. Best is trial 113 with value: 0.8347205707491082.\u001b[0m\n",
      "\u001b[32m[I 2023-04-28 11:45:00,604]\u001b[0m Trial 566 finished with value: 0.8307692307692307 and parameters: {'n_estimators': 100, 'min_samples_leaf': 5, 'max_depth': 22}. Best is trial 113 with value: 0.8347205707491082.\u001b[0m\n",
      "\u001b[32m[I 2023-04-28 11:45:01,000]\u001b[0m Trial 567 finished with value: 0.8347205707491082 and parameters: {'n_estimators': 100, 'min_samples_leaf': 5, 'max_depth': 23}. Best is trial 113 with value: 0.8347205707491082.\u001b[0m\n",
      "\u001b[32m[I 2023-04-28 11:45:01,394]\u001b[0m Trial 568 finished with value: 0.8347205707491082 and parameters: {'n_estimators': 100, 'min_samples_leaf': 5, 'max_depth': 23}. Best is trial 113 with value: 0.8347205707491082.\u001b[0m\n",
      "\u001b[32m[I 2023-04-28 11:45:01,799]\u001b[0m Trial 569 finished with value: 0.8239520958083831 and parameters: {'n_estimators': 110, 'min_samples_leaf': 5, 'max_depth': 20}. Best is trial 113 with value: 0.8347205707491082.\u001b[0m\n",
      "\u001b[32m[I 2023-04-28 11:45:02,181]\u001b[0m Trial 570 finished with value: 0.8119047619047619 and parameters: {'n_estimators': 100, 'min_samples_leaf': 6, 'max_depth': 23}. Best is trial 113 with value: 0.8347205707491082.\u001b[0m\n",
      "\u001b[32m[I 2023-04-28 11:45:02,612]\u001b[0m Trial 571 finished with value: 0.8285714285714285 and parameters: {'n_estimators': 120, 'min_samples_leaf': 5, 'max_depth': 24}. Best is trial 113 with value: 0.8347205707491082.\u001b[0m\n",
      "\u001b[32m[I 2023-04-28 11:45:03,032]\u001b[0m Trial 572 finished with value: 0.8309523809523809 and parameters: {'n_estimators': 110, 'min_samples_leaf': 5, 'max_depth': 23}. Best is trial 113 with value: 0.8347205707491082.\u001b[0m\n",
      "\u001b[32m[I 2023-04-28 11:45:03,441]\u001b[0m Trial 573 finished with value: 0.8257756563245824 and parameters: {'n_estimators': 100, 'min_samples_leaf': 5, 'max_depth': 24}. Best is trial 113 with value: 0.8347205707491082.\u001b[0m\n",
      "\u001b[32m[I 2023-04-28 11:45:03,846]\u001b[0m Trial 574 finished with value: 0.8307692307692307 and parameters: {'n_estimators': 100, 'min_samples_leaf': 5, 'max_depth': 22}. Best is trial 113 with value: 0.8347205707491082.\u001b[0m\n",
      "\u001b[32m[I 2023-04-28 11:45:04,514]\u001b[0m Trial 575 finished with value: 0.8279952550415184 and parameters: {'n_estimators': 200, 'min_samples_leaf': 5, 'max_depth': 23}. Best is trial 113 with value: 0.8347205707491082.\u001b[0m\n",
      "\u001b[32m[I 2023-04-28 11:45:04,952]\u001b[0m Trial 576 finished with value: 0.8299643281807373 and parameters: {'n_estimators': 110, 'min_samples_leaf': 5, 'max_depth': 22}. Best is trial 113 with value: 0.8347205707491082.\u001b[0m\n",
      "\u001b[32m[I 2023-04-28 11:45:05,359]\u001b[0m Trial 577 finished with value: 0.8307692307692307 and parameters: {'n_estimators': 100, 'min_samples_leaf': 5, 'max_depth': 25}. Best is trial 113 with value: 0.8347205707491082.\u001b[0m\n",
      "\u001b[32m[I 2023-04-28 11:45:05,775]\u001b[0m Trial 578 finished with value: 0.8347205707491082 and parameters: {'n_estimators': 100, 'min_samples_leaf': 5, 'max_depth': 23}. Best is trial 113 with value: 0.8347205707491082.\u001b[0m\n",
      "\u001b[32m[I 2023-04-28 11:45:06,487]\u001b[0m Trial 579 finished with value: 0.8232502965599051 and parameters: {'n_estimators': 240, 'min_samples_leaf': 5, 'max_depth': 22}. Best is trial 113 with value: 0.8347205707491082.\u001b[0m\n",
      "\u001b[32m[I 2023-04-28 11:45:06,903]\u001b[0m Trial 580 finished with value: 0.8271752085816448 and parameters: {'n_estimators': 110, 'min_samples_leaf': 5, 'max_depth': 24}. Best is trial 113 with value: 0.8347205707491082.\u001b[0m\n",
      "\u001b[32m[I 2023-04-28 11:45:07,299]\u001b[0m Trial 581 finished with value: 0.8347205707491082 and parameters: {'n_estimators': 100, 'min_samples_leaf': 5, 'max_depth': 23}. Best is trial 113 with value: 0.8347205707491082.\u001b[0m\n",
      "\u001b[32m[I 2023-04-28 11:45:07,719]\u001b[0m Trial 582 finished with value: 0.8293838862559241 and parameters: {'n_estimators': 110, 'min_samples_leaf': 5, 'max_depth': 21}. Best is trial 113 with value: 0.8347205707491082.\u001b[0m\n",
      "\u001b[32m[I 2023-04-28 11:45:08,111]\u001b[0m Trial 583 finished with value: 0.8257756563245824 and parameters: {'n_estimators': 100, 'min_samples_leaf': 5, 'max_depth': 24}. Best is trial 113 with value: 0.8347205707491082.\u001b[0m\n",
      "\u001b[32m[I 2023-04-28 11:45:08,498]\u001b[0m Trial 584 finished with value: 0.8347205707491082 and parameters: {'n_estimators': 100, 'min_samples_leaf': 5, 'max_depth': 23}. Best is trial 113 with value: 0.8347205707491082.\u001b[0m\n",
      "\u001b[32m[I 2023-04-28 11:45:08,875]\u001b[0m Trial 585 finished with value: 0.8307692307692307 and parameters: {'n_estimators': 100, 'min_samples_leaf': 5, 'max_depth': 22}. Best is trial 113 with value: 0.8347205707491082.\u001b[0m\n",
      "\u001b[32m[I 2023-04-28 11:45:09,279]\u001b[0m Trial 586 finished with value: 0.8309523809523809 and parameters: {'n_estimators': 110, 'min_samples_leaf': 5, 'max_depth': 23}. Best is trial 113 with value: 0.8347205707491082.\u001b[0m\n",
      "\u001b[32m[I 2023-04-28 11:45:09,661]\u001b[0m Trial 587 finished with value: 0.8257756563245824 and parameters: {'n_estimators': 100, 'min_samples_leaf': 5, 'max_depth': 24}. Best is trial 113 with value: 0.8347205707491082.\u001b[0m\n",
      "\u001b[32m[I 2023-04-28 11:45:10,342]\u001b[0m Trial 588 finished with value: 0.8275862068965516 and parameters: {'n_estimators': 230, 'min_samples_leaf': 5, 'max_depth': 23}. Best is trial 113 with value: 0.8347205707491082.\u001b[0m\n",
      "\u001b[32m[I 2023-04-28 11:45:10,751]\u001b[0m Trial 589 finished with value: 0.8299643281807373 and parameters: {'n_estimators': 110, 'min_samples_leaf': 5, 'max_depth': 22}. Best is trial 113 with value: 0.8347205707491082.\u001b[0m\n",
      "\u001b[32m[I 2023-04-28 11:45:11,136]\u001b[0m Trial 590 finished with value: 0.8347205707491082 and parameters: {'n_estimators': 100, 'min_samples_leaf': 5, 'max_depth': 23}. Best is trial 113 with value: 0.8347205707491082.\u001b[0m\n",
      "\u001b[32m[I 2023-04-28 11:45:11,514]\u001b[0m Trial 591 finished with value: 0.8307692307692307 and parameters: {'n_estimators': 100, 'min_samples_leaf': 5, 'max_depth': 25}. Best is trial 113 with value: 0.8347205707491082.\u001b[0m\n",
      "\u001b[32m[I 2023-04-28 11:45:11,896]\u001b[0m Trial 592 finished with value: 0.8347205707491082 and parameters: {'n_estimators': 100, 'min_samples_leaf': 5, 'max_depth': 23}. Best is trial 113 with value: 0.8347205707491082.\u001b[0m\n",
      "\u001b[32m[I 2023-04-28 11:45:12,303]\u001b[0m Trial 593 finished with value: 0.8299643281807373 and parameters: {'n_estimators': 110, 'min_samples_leaf': 5, 'max_depth': 22}. Best is trial 113 with value: 0.8347205707491082.\u001b[0m\n",
      "\u001b[32m[I 2023-04-28 11:45:12,683]\u001b[0m Trial 594 finished with value: 0.8257756563245824 and parameters: {'n_estimators': 100, 'min_samples_leaf': 5, 'max_depth': 24}. Best is trial 113 with value: 0.8347205707491082.\u001b[0m\n",
      "\u001b[32m[I 2023-04-28 11:45:13,099]\u001b[0m Trial 595 finished with value: 0.8271752085816448 and parameters: {'n_estimators': 110, 'min_samples_leaf': 5, 'max_depth': 24}. Best is trial 113 with value: 0.8347205707491082.\u001b[0m\n",
      "\u001b[32m[I 2023-04-28 11:45:13,503]\u001b[0m Trial 596 finished with value: 0.8347205707491082 and parameters: {'n_estimators': 100, 'min_samples_leaf': 5, 'max_depth': 23}. Best is trial 113 with value: 0.8347205707491082.\u001b[0m\n",
      "\u001b[32m[I 2023-04-28 11:45:13,890]\u001b[0m Trial 597 finished with value: 0.8307692307692307 and parameters: {'n_estimators': 100, 'min_samples_leaf': 5, 'max_depth': 22}. Best is trial 113 with value: 0.8347205707491082.\u001b[0m\n",
      "\u001b[32m[I 2023-04-28 11:45:14,608]\u001b[0m Trial 598 finished with value: 0.8284023668639052 and parameters: {'n_estimators': 250, 'min_samples_leaf': 5, 'max_depth': 23}. Best is trial 113 with value: 0.8347205707491082.\u001b[0m\n",
      "\u001b[32m[I 2023-04-28 11:45:14,988]\u001b[0m Trial 599 finished with value: 0.8264462809917356 and parameters: {'n_estimators': 100, 'min_samples_leaf': 5, 'max_depth': 21}. Best is trial 113 with value: 0.8347205707491082.\u001b[0m\n",
      "\u001b[32m[I 2023-04-28 11:45:15,395]\u001b[0m Trial 600 finished with value: 0.8271752085816448 and parameters: {'n_estimators': 110, 'min_samples_leaf': 5, 'max_depth': 24}. Best is trial 113 with value: 0.8347205707491082.\u001b[0m\n",
      "\u001b[32m[I 2023-04-28 11:45:15,780]\u001b[0m Trial 601 finished with value: 0.8307692307692307 and parameters: {'n_estimators': 100, 'min_samples_leaf': 5, 'max_depth': 22}. Best is trial 113 with value: 0.8347205707491082.\u001b[0m\n",
      "\u001b[32m[I 2023-04-28 11:45:16,229]\u001b[0m Trial 602 finished with value: 0.828978622327791 and parameters: {'n_estimators': 130, 'min_samples_leaf': 5, 'max_depth': 23}. Best is trial 113 with value: 0.8347205707491082.\u001b[0m\n",
      "\u001b[32m[I 2023-04-28 11:45:16,634]\u001b[0m Trial 603 finished with value: 0.8257756563245824 and parameters: {'n_estimators': 100, 'min_samples_leaf': 5, 'max_depth': 24}. Best is trial 113 with value: 0.8347205707491082.\u001b[0m\n",
      "\u001b[32m[I 2023-04-28 11:45:17,173]\u001b[0m Trial 604 finished with value: 0.8232502965599051 and parameters: {'n_estimators': 170, 'min_samples_leaf': 5, 'max_depth': 22}. Best is trial 113 with value: 0.8347205707491082.\u001b[0m\n",
      "\u001b[32m[I 2023-04-28 11:45:17,601]\u001b[0m Trial 605 finished with value: 0.8293838862559241 and parameters: {'n_estimators': 120, 'min_samples_leaf': 5, 'max_depth': 23}. Best is trial 113 with value: 0.8347205707491082.\u001b[0m\n",
      "\u001b[32m[I 2023-04-28 11:45:18,009]\u001b[0m Trial 606 finished with value: 0.8309523809523809 and parameters: {'n_estimators': 110, 'min_samples_leaf': 5, 'max_depth': 23}. Best is trial 113 with value: 0.8347205707491082.\u001b[0m\n",
      "\u001b[32m[I 2023-04-28 11:45:18,403]\u001b[0m Trial 607 finished with value: 0.8261904761904761 and parameters: {'n_estimators': 100, 'min_samples_leaf': 5, 'max_depth': 29}. Best is trial 113 with value: 0.8347205707491082.\u001b[0m\n",
      "\u001b[32m[I 2023-04-28 11:45:18,806]\u001b[0m Trial 608 finished with value: 0.8347205707491082 and parameters: {'n_estimators': 100, 'min_samples_leaf': 5, 'max_depth': 23}. Best is trial 113 with value: 0.8347205707491082.\u001b[0m\n",
      "\u001b[32m[I 2023-04-28 11:45:19,228]\u001b[0m Trial 609 finished with value: 0.8293838862559241 and parameters: {'n_estimators': 110, 'min_samples_leaf': 5, 'max_depth': 21}. Best is trial 113 with value: 0.8347205707491082.\u001b[0m\n",
      "\u001b[32m[I 2023-04-28 11:45:19,613]\u001b[0m Trial 610 finished with value: 0.8257756563245824 and parameters: {'n_estimators': 100, 'min_samples_leaf': 5, 'max_depth': 24}. Best is trial 113 with value: 0.8347205707491082.\u001b[0m\n",
      "\u001b[32m[I 2023-04-28 11:45:20,029]\u001b[0m Trial 611 finished with value: 0.8299643281807373 and parameters: {'n_estimators': 110, 'min_samples_leaf': 5, 'max_depth': 22}. Best is trial 113 with value: 0.8347205707491082.\u001b[0m\n",
      "\u001b[32m[I 2023-04-28 11:45:20,437]\u001b[0m Trial 612 finished with value: 0.8347205707491082 and parameters: {'n_estimators': 100, 'min_samples_leaf': 5, 'max_depth': 23}. Best is trial 113 with value: 0.8347205707491082.\u001b[0m\n",
      "\u001b[32m[I 2023-04-28 11:45:20,851]\u001b[0m Trial 613 finished with value: 0.8271752085816448 and parameters: {'n_estimators': 110, 'min_samples_leaf': 5, 'max_depth': 24}. Best is trial 113 with value: 0.8347205707491082.\u001b[0m\n",
      "\u001b[32m[I 2023-04-28 11:45:21,251]\u001b[0m Trial 614 finished with value: 0.8307692307692307 and parameters: {'n_estimators': 100, 'min_samples_leaf': 5, 'max_depth': 22}. Best is trial 113 with value: 0.8347205707491082.\u001b[0m\n",
      "\u001b[32m[I 2023-04-28 11:45:21,640]\u001b[0m Trial 615 finished with value: 0.8347205707491082 and parameters: {'n_estimators': 100, 'min_samples_leaf': 5, 'max_depth': 23}. Best is trial 113 with value: 0.8347205707491082.\u001b[0m\n",
      "\u001b[32m[I 2023-04-28 11:45:22,033]\u001b[0m Trial 616 finished with value: 0.8257756563245824 and parameters: {'n_estimators': 100, 'min_samples_leaf': 5, 'max_depth': 24}. Best is trial 113 with value: 0.8347205707491082.\u001b[0m\n",
      "\u001b[32m[I 2023-04-28 11:45:22,447]\u001b[0m Trial 617 finished with value: 0.8309523809523809 and parameters: {'n_estimators': 110, 'min_samples_leaf': 5, 'max_depth': 23}. Best is trial 113 with value: 0.8347205707491082.\u001b[0m\n",
      "\u001b[32m[I 2023-04-28 11:45:22,861]\u001b[0m Trial 618 finished with value: 0.8307692307692307 and parameters: {'n_estimators': 100, 'min_samples_leaf': 5, 'max_depth': 22}. Best is trial 113 with value: 0.8347205707491082.\u001b[0m\n",
      "\u001b[32m[I 2023-04-28 11:45:23,456]\u001b[0m Trial 619 finished with value: 0.8307692307692307 and parameters: {'n_estimators': 100, 'min_samples_leaf': 5, 'max_depth': 25}. Best is trial 113 with value: 0.8347205707491082.\u001b[0m\n",
      "\u001b[32m[I 2023-04-28 11:45:23,842]\u001b[0m Trial 620 finished with value: 0.8347205707491082 and parameters: {'n_estimators': 100, 'min_samples_leaf': 5, 'max_depth': 23}. Best is trial 113 with value: 0.8347205707491082.\u001b[0m\n",
      "\u001b[32m[I 2023-04-28 11:45:24,256]\u001b[0m Trial 621 finished with value: 0.8271752085816448 and parameters: {'n_estimators': 110, 'min_samples_leaf': 5, 'max_depth': 24}. Best is trial 113 with value: 0.8347205707491082.\u001b[0m\n",
      "\u001b[32m[I 2023-04-28 11:45:24,678]\u001b[0m Trial 622 finished with value: 0.8347205707491082 and parameters: {'n_estimators': 100, 'min_samples_leaf': 5, 'max_depth': 23}. Best is trial 113 with value: 0.8347205707491082.\u001b[0m\n",
      "\u001b[32m[I 2023-04-28 11:45:25,125]\u001b[0m Trial 623 finished with value: 0.8299643281807373 and parameters: {'n_estimators': 110, 'min_samples_leaf': 5, 'max_depth': 22}. Best is trial 113 with value: 0.8347205707491082.\u001b[0m\n",
      "\u001b[32m[I 2023-04-28 11:45:25,513]\u001b[0m Trial 624 finished with value: 0.8347205707491082 and parameters: {'n_estimators': 100, 'min_samples_leaf': 5, 'max_depth': 23}. Best is trial 113 with value: 0.8347205707491082.\u001b[0m\n",
      "\u001b[32m[I 2023-04-28 11:45:25,956]\u001b[0m Trial 625 finished with value: 0.8285714285714285 and parameters: {'n_estimators': 120, 'min_samples_leaf': 5, 'max_depth': 24}. Best is trial 113 with value: 0.8347205707491082.\u001b[0m\n",
      "\u001b[32m[I 2023-04-28 11:45:26,347]\u001b[0m Trial 626 finished with value: 0.8210023866348448 and parameters: {'n_estimators': 100, 'min_samples_leaf': 4, 'max_depth': 22}. Best is trial 113 with value: 0.8347205707491082.\u001b[0m\n",
      "\u001b[32m[I 2023-04-28 11:45:27,210]\u001b[0m Trial 627 finished with value: 0.8260355029585799 and parameters: {'n_estimators': 300, 'min_samples_leaf': 5, 'max_depth': 23}. Best is trial 113 with value: 0.8347205707491082.\u001b[0m\n",
      "\u001b[32m[I 2023-04-28 11:45:27,625]\u001b[0m Trial 628 finished with value: 0.8299643281807373 and parameters: {'n_estimators': 110, 'min_samples_leaf': 5, 'max_depth': 22}. Best is trial 113 with value: 0.8347205707491082.\u001b[0m\n",
      "\u001b[32m[I 2023-04-28 11:45:28,011]\u001b[0m Trial 629 finished with value: 0.8347205707491082 and parameters: {'n_estimators': 100, 'min_samples_leaf': 5, 'max_depth': 23}. Best is trial 113 with value: 0.8347205707491082.\u001b[0m\n",
      "\u001b[32m[I 2023-04-28 11:45:28,397]\u001b[0m Trial 630 finished with value: 0.8307692307692307 and parameters: {'n_estimators': 100, 'min_samples_leaf': 5, 'max_depth': 25}. Best is trial 113 with value: 0.8347205707491082.\u001b[0m\n",
      "\u001b[32m[I 2023-04-28 11:45:28,804]\u001b[0m Trial 631 finished with value: 0.8293838862559241 and parameters: {'n_estimators': 110, 'min_samples_leaf': 5, 'max_depth': 21}. Best is trial 113 with value: 0.8347205707491082.\u001b[0m\n",
      "\u001b[32m[I 2023-04-28 11:45:29,188]\u001b[0m Trial 632 finished with value: 0.8257756563245824 and parameters: {'n_estimators': 100, 'min_samples_leaf': 5, 'max_depth': 24}. Best is trial 113 with value: 0.8347205707491082.\u001b[0m\n",
      "\u001b[32m[I 2023-04-28 11:45:29,706]\u001b[0m Trial 633 finished with value: 0.8247914183551848 and parameters: {'n_estimators': 160, 'min_samples_leaf': 5, 'max_depth': 24}. Best is trial 113 with value: 0.8347205707491082.\u001b[0m\n",
      "\u001b[32m[I 2023-04-28 11:45:30,099]\u001b[0m Trial 634 finished with value: 0.8347205707491082 and parameters: {'n_estimators': 100, 'min_samples_leaf': 5, 'max_depth': 23}. Best is trial 113 with value: 0.8347205707491082.\u001b[0m\n",
      "\u001b[32m[I 2023-04-28 11:45:30,506]\u001b[0m Trial 635 finished with value: 0.8309523809523809 and parameters: {'n_estimators': 110, 'min_samples_leaf': 5, 'max_depth': 23}. Best is trial 113 with value: 0.8347205707491082.\u001b[0m\n",
      "\u001b[32m[I 2023-04-28 11:45:30,899]\u001b[0m Trial 636 finished with value: 0.8347205707491082 and parameters: {'n_estimators': 100, 'min_samples_leaf': 5, 'max_depth': 23}. Best is trial 113 with value: 0.8347205707491082.\u001b[0m\n",
      "\u001b[32m[I 2023-04-28 11:45:31,284]\u001b[0m Trial 637 finished with value: 0.8217237308146399 and parameters: {'n_estimators': 100, 'min_samples_leaf': 7, 'max_depth': 22}. Best is trial 113 with value: 0.8347205707491082.\u001b[0m\n",
      "\u001b[32m[I 2023-04-28 11:45:31,693]\u001b[0m Trial 638 finished with value: 0.8271752085816448 and parameters: {'n_estimators': 110, 'min_samples_leaf': 5, 'max_depth': 24}. Best is trial 113 with value: 0.8347205707491082.\u001b[0m\n",
      "\u001b[32m[I 2023-04-28 11:45:32,176]\u001b[0m Trial 639 finished with value: 0.8284023668639052 and parameters: {'n_estimators': 140, 'min_samples_leaf': 5, 'max_depth': 22}. Best is trial 113 with value: 0.8347205707491082.\u001b[0m\n",
      "\u001b[32m[I 2023-04-28 11:45:32,560]\u001b[0m Trial 640 finished with value: 0.8347205707491082 and parameters: {'n_estimators': 100, 'min_samples_leaf': 5, 'max_depth': 23}. Best is trial 113 with value: 0.8347205707491082.\u001b[0m\n",
      "\u001b[32m[I 2023-04-28 11:45:32,962]\u001b[0m Trial 641 finished with value: 0.8307692307692307 and parameters: {'n_estimators': 100, 'min_samples_leaf': 5, 'max_depth': 22}. Best is trial 113 with value: 0.8347205707491082.\u001b[0m\n",
      "\u001b[32m[I 2023-04-28 11:45:33,374]\u001b[0m Trial 642 finished with value: 0.8309523809523809 and parameters: {'n_estimators': 110, 'min_samples_leaf': 5, 'max_depth': 23}. Best is trial 113 with value: 0.8347205707491082.\u001b[0m\n",
      "\u001b[32m[I 2023-04-28 11:45:33,810]\u001b[0m Trial 643 finished with value: 0.8285714285714285 and parameters: {'n_estimators': 120, 'min_samples_leaf': 5, 'max_depth': 24}. Best is trial 113 with value: 0.8347205707491082.\u001b[0m\n",
      "\u001b[32m[I 2023-04-28 11:45:34,206]\u001b[0m Trial 644 finished with value: 0.8347205707491082 and parameters: {'n_estimators': 100, 'min_samples_leaf': 5, 'max_depth': 23}. Best is trial 113 with value: 0.8347205707491082.\u001b[0m\n",
      "\u001b[32m[I 2023-04-28 11:45:34,592]\u001b[0m Trial 645 finished with value: 0.8257756563245824 and parameters: {'n_estimators': 100, 'min_samples_leaf': 5, 'max_depth': 24}. Best is trial 113 with value: 0.8347205707491082.\u001b[0m\n",
      "\u001b[32m[I 2023-04-28 11:45:35,008]\u001b[0m Trial 646 finished with value: 0.8293838862559241 and parameters: {'n_estimators': 110, 'min_samples_leaf': 5, 'max_depth': 21}. Best is trial 113 with value: 0.8347205707491082.\u001b[0m\n",
      "\u001b[32m[I 2023-04-28 11:45:35,404]\u001b[0m Trial 647 finished with value: 0.8347205707491082 and parameters: {'n_estimators': 100, 'min_samples_leaf': 5, 'max_depth': 23}. Best is trial 113 with value: 0.8347205707491082.\u001b[0m\n",
      "\u001b[32m[I 2023-04-28 11:45:35,798]\u001b[0m Trial 648 finished with value: 0.8307692307692307 and parameters: {'n_estimators': 100, 'min_samples_leaf': 5, 'max_depth': 22}. Best is trial 113 with value: 0.8347205707491082.\u001b[0m\n",
      "\u001b[32m[I 2023-04-28 11:45:36,202]\u001b[0m Trial 649 finished with value: 0.8271752085816448 and parameters: {'n_estimators': 110, 'min_samples_leaf': 5, 'max_depth': 24}. Best is trial 113 with value: 0.8347205707491082.\u001b[0m\n",
      "\u001b[32m[I 2023-04-28 11:45:36,588]\u001b[0m Trial 650 finished with value: 0.8347205707491082 and parameters: {'n_estimators': 100, 'min_samples_leaf': 5, 'max_depth': 23}. Best is trial 113 with value: 0.8347205707491082.\u001b[0m\n",
      "\u001b[32m[I 2023-04-28 11:45:36,972]\u001b[0m Trial 651 finished with value: 0.8233890214797136 and parameters: {'n_estimators': 100, 'min_samples_leaf': 5, 'max_depth': 15}. Best is trial 113 with value: 0.8347205707491082.\u001b[0m\n",
      "\u001b[32m[I 2023-04-28 11:45:37,378]\u001b[0m Trial 652 finished with value: 0.8299643281807373 and parameters: {'n_estimators': 110, 'min_samples_leaf': 5, 'max_depth': 22}. Best is trial 113 with value: 0.8347205707491082.\u001b[0m\n",
      "\u001b[32m[I 2023-04-28 11:45:37,772]\u001b[0m Trial 653 finished with value: 0.8307692307692307 and parameters: {'n_estimators': 100, 'min_samples_leaf': 5, 'max_depth': 25}. Best is trial 113 with value: 0.8347205707491082.\u001b[0m\n",
      "\u001b[32m[I 2023-04-28 11:45:38,180]\u001b[0m Trial 654 finished with value: 0.8309523809523809 and parameters: {'n_estimators': 110, 'min_samples_leaf': 5, 'max_depth': 23}. Best is trial 113 with value: 0.8347205707491082.\u001b[0m\n",
      "\u001b[32m[I 2023-04-28 11:45:38,569]\u001b[0m Trial 655 finished with value: 0.8257756563245824 and parameters: {'n_estimators': 100, 'min_samples_leaf': 5, 'max_depth': 24}. Best is trial 113 with value: 0.8347205707491082.\u001b[0m\n",
      "\u001b[32m[I 2023-04-28 11:45:38,961]\u001b[0m Trial 656 finished with value: 0.8307692307692307 and parameters: {'n_estimators': 100, 'min_samples_leaf': 5, 'max_depth': 22}. Best is trial 113 with value: 0.8347205707491082.\u001b[0m\n",
      "\u001b[32m[I 2023-04-28 11:45:39,748]\u001b[0m Trial 657 finished with value: 0.8274231678486997 and parameters: {'n_estimators': 280, 'min_samples_leaf': 5, 'max_depth': 28}. Best is trial 113 with value: 0.8347205707491082.\u001b[0m\n",
      "\u001b[32m[I 2023-04-28 11:45:40,158]\u001b[0m Trial 658 finished with value: 0.8309523809523809 and parameters: {'n_estimators': 110, 'min_samples_leaf': 5, 'max_depth': 23}. Best is trial 113 with value: 0.8347205707491082.\u001b[0m\n",
      "\u001b[32m[I 2023-04-28 11:45:40,557]\u001b[0m Trial 659 finished with value: 0.8261904761904761 and parameters: {'n_estimators': 100, 'min_samples_leaf': 5, 'max_depth': 31}. Best is trial 113 with value: 0.8347205707491082.\u001b[0m\n",
      "\u001b[32m[I 2023-04-28 11:45:40,953]\u001b[0m Trial 660 finished with value: 0.8347205707491082 and parameters: {'n_estimators': 100, 'min_samples_leaf': 5, 'max_depth': 23}. Best is trial 113 with value: 0.8347205707491082.\u001b[0m\n",
      "\u001b[32m[I 2023-04-28 11:45:41,342]\u001b[0m Trial 661 finished with value: 0.8257756563245824 and parameters: {'n_estimators': 100, 'min_samples_leaf': 5, 'max_depth': 24}. Best is trial 113 with value: 0.8347205707491082.\u001b[0m\n",
      "\u001b[32m[I 2023-04-28 11:45:41,746]\u001b[0m Trial 662 finished with value: 0.8309523809523809 and parameters: {'n_estimators': 110, 'min_samples_leaf': 5, 'max_depth': 23}. Best is trial 113 with value: 0.8347205707491082.\u001b[0m\n",
      "\u001b[32m[I 2023-04-28 11:45:42,136]\u001b[0m Trial 663 finished with value: 0.8307692307692307 and parameters: {'n_estimators': 100, 'min_samples_leaf': 5, 'max_depth': 22}. Best is trial 113 with value: 0.8347205707491082.\u001b[0m\n",
      "\u001b[32m[I 2023-04-28 11:45:42,546]\u001b[0m Trial 664 finished with value: 0.8323424494649226 and parameters: {'n_estimators': 110, 'min_samples_leaf': 5, 'max_depth': 25}. Best is trial 113 with value: 0.8347205707491082.\u001b[0m\n",
      "\u001b[32m[I 2023-04-28 11:45:42,933]\u001b[0m Trial 665 finished with value: 0.8347205707491082 and parameters: {'n_estimators': 100, 'min_samples_leaf': 5, 'max_depth': 23}. Best is trial 113 with value: 0.8347205707491082.\u001b[0m\n",
      "\u001b[32m[I 2023-04-28 11:45:43,338]\u001b[0m Trial 666 finished with value: 0.8271752085816448 and parameters: {'n_estimators': 110, 'min_samples_leaf': 5, 'max_depth': 24}. Best is trial 113 with value: 0.8347205707491082.\u001b[0m\n",
      "\u001b[32m[I 2023-04-28 11:45:43,725]\u001b[0m Trial 667 finished with value: 0.8307692307692307 and parameters: {'n_estimators': 100, 'min_samples_leaf': 5, 'max_depth': 22}. Best is trial 113 with value: 0.8347205707491082.\u001b[0m\n",
      "\u001b[32m[I 2023-04-28 11:45:44,110]\u001b[0m Trial 668 finished with value: 0.8347205707491082 and parameters: {'n_estimators': 100, 'min_samples_leaf': 5, 'max_depth': 23}. Best is trial 113 with value: 0.8347205707491082.\u001b[0m\n",
      "\u001b[32m[I 2023-04-28 11:45:44,538]\u001b[0m Trial 669 finished with value: 0.8222748815165877 and parameters: {'n_estimators': 120, 'min_samples_leaf': 5, 'max_depth': 21}. Best is trial 113 with value: 0.8347205707491082.\u001b[0m\n",
      "\u001b[32m[I 2023-04-28 11:45:44,921]\u001b[0m Trial 670 finished with value: 0.8119047619047619 and parameters: {'n_estimators': 100, 'min_samples_leaf': 6, 'max_depth': 23}. Best is trial 113 with value: 0.8347205707491082.\u001b[0m\n",
      "\u001b[32m[I 2023-04-28 11:45:45,306]\u001b[0m Trial 671 finished with value: 0.8278301886792453 and parameters: {'n_estimators': 100, 'min_samples_leaf': 5, 'max_depth': 18}. Best is trial 113 with value: 0.8347205707491082.\u001b[0m\n",
      "\u001b[32m[I 2023-04-28 11:45:45,895]\u001b[0m Trial 672 finished with value: 0.8299643281807373 and parameters: {'n_estimators': 110, 'min_samples_leaf': 5, 'max_depth': 22}. Best is trial 113 with value: 0.8347205707491082.\u001b[0m\n",
      "\u001b[32m[I 2023-04-28 11:45:46,277]\u001b[0m Trial 673 finished with value: 0.8257756563245824 and parameters: {'n_estimators': 100, 'min_samples_leaf': 5, 'max_depth': 24}. Best is trial 113 with value: 0.8347205707491082.\u001b[0m\n",
      "\u001b[32m[I 2023-04-28 11:45:46,663]\u001b[0m Trial 674 finished with value: 0.8347205707491082 and parameters: {'n_estimators': 100, 'min_samples_leaf': 5, 'max_depth': 23}. Best is trial 113 with value: 0.8347205707491082.\u001b[0m\n",
      "\u001b[32m[I 2023-04-28 11:45:47,070]\u001b[0m Trial 675 finished with value: 0.8299643281807373 and parameters: {'n_estimators': 110, 'min_samples_leaf': 5, 'max_depth': 22}. Best is trial 113 with value: 0.8347205707491082.\u001b[0m\n",
      "\u001b[32m[I 2023-04-28 11:45:47,456]\u001b[0m Trial 676 finished with value: 0.8257756563245824 and parameters: {'n_estimators': 100, 'min_samples_leaf': 5, 'max_depth': 24}. Best is trial 113 with value: 0.8347205707491082.\u001b[0m\n",
      "\u001b[32m[I 2023-04-28 11:45:47,864]\u001b[0m Trial 677 finished with value: 0.8247914183551848 and parameters: {'n_estimators': 100, 'min_samples_leaf': 3, 'max_depth': 23}. Best is trial 113 with value: 0.8347205707491082.\u001b[0m\n",
      "\u001b[32m[I 2023-04-28 11:45:48,500]\u001b[0m Trial 678 finished with value: 0.8279952550415184 and parameters: {'n_estimators': 210, 'min_samples_leaf': 5, 'max_depth': 23}. Best is trial 113 with value: 0.8347205707491082.\u001b[0m\n",
      "\u001b[32m[I 2023-04-28 11:45:48,912]\u001b[0m Trial 679 finished with value: 0.8271752085816448 and parameters: {'n_estimators': 110, 'min_samples_leaf': 5, 'max_depth': 24}. Best is trial 113 with value: 0.8347205707491082.\u001b[0m\n",
      "\u001b[32m[I 2023-04-28 11:45:49,300]\u001b[0m Trial 680 finished with value: 0.8233890214797136 and parameters: {'n_estimators': 100, 'min_samples_leaf': 4, 'max_depth': 23}. Best is trial 113 with value: 0.8347205707491082.\u001b[0m\n",
      "\u001b[32m[I 2023-04-28 11:45:49,703]\u001b[0m Trial 681 finished with value: 0.8299643281807373 and parameters: {'n_estimators': 110, 'min_samples_leaf': 5, 'max_depth': 22}. Best is trial 113 with value: 0.8347205707491082.\u001b[0m\n",
      "\u001b[32m[I 2023-04-28 11:45:50,096]\u001b[0m Trial 682 finished with value: 0.8257756563245824 and parameters: {'n_estimators': 100, 'min_samples_leaf': 5, 'max_depth': 24}. Best is trial 113 with value: 0.8347205707491082.\u001b[0m\n",
      "\u001b[32m[I 2023-04-28 11:45:50,486]\u001b[0m Trial 683 finished with value: 0.8264462809917356 and parameters: {'n_estimators': 100, 'min_samples_leaf': 5, 'max_depth': 21}. Best is trial 113 with value: 0.8347205707491082.\u001b[0m\n",
      "\u001b[32m[I 2023-04-28 11:45:50,897]\u001b[0m Trial 684 finished with value: 0.8239520958083831 and parameters: {'n_estimators': 110, 'min_samples_leaf': 5, 'max_depth': 20}. Best is trial 113 with value: 0.8347205707491082.\u001b[0m\n",
      "\u001b[32m[I 2023-04-28 11:45:51,283]\u001b[0m Trial 685 finished with value: 0.8307692307692307 and parameters: {'n_estimators': 100, 'min_samples_leaf': 5, 'max_depth': 22}. Best is trial 113 with value: 0.8347205707491082.\u001b[0m\n",
      "\u001b[32m[I 2023-04-28 11:45:51,667]\u001b[0m Trial 686 finished with value: 0.8347205707491082 and parameters: {'n_estimators': 100, 'min_samples_leaf': 5, 'max_depth': 23}. Best is trial 113 with value: 0.8347205707491082.\u001b[0m\n",
      "\u001b[32m[I 2023-04-28 11:45:52,075]\u001b[0m Trial 687 finished with value: 0.8309523809523809 and parameters: {'n_estimators': 110, 'min_samples_leaf': 5, 'max_depth': 23}. Best is trial 113 with value: 0.8347205707491082.\u001b[0m\n",
      "\u001b[32m[I 2023-04-28 11:45:52,463]\u001b[0m Trial 688 finished with value: 0.8307692307692307 and parameters: {'n_estimators': 100, 'min_samples_leaf': 5, 'max_depth': 22}. Best is trial 113 with value: 0.8347205707491082.\u001b[0m\n",
      "\u001b[32m[I 2023-04-28 11:45:52,865]\u001b[0m Trial 689 finished with value: 0.8271752085816448 and parameters: {'n_estimators': 110, 'min_samples_leaf': 5, 'max_depth': 24}. Best is trial 113 with value: 0.8347205707491082.\u001b[0m\n",
      "\u001b[32m[I 2023-04-28 11:45:53,268]\u001b[0m Trial 690 finished with value: 0.8299643281807373 and parameters: {'n_estimators': 100, 'min_samples_leaf': 5, 'max_depth': 26}. Best is trial 113 with value: 0.8347205707491082.\u001b[0m\n",
      "\u001b[32m[I 2023-04-28 11:45:54,088]\u001b[0m Trial 691 finished with value: 0.8268551236749115 and parameters: {'n_estimators': 290, 'min_samples_leaf': 5, 'max_depth': 25}. Best is trial 113 with value: 0.8347205707491082.\u001b[0m\n",
      "\u001b[32m[I 2023-04-28 11:45:54,479]\u001b[0m Trial 692 finished with value: 0.8256227758007116 and parameters: {'n_estimators': 100, 'min_samples_leaf': 5, 'max_depth': 19}. Best is trial 113 with value: 0.8347205707491082.\u001b[0m\n",
      "\u001b[32m[I 2023-04-28 11:45:54,861]\u001b[0m Trial 693 finished with value: 0.8347205707491082 and parameters: {'n_estimators': 100, 'min_samples_leaf': 5, 'max_depth': 23}. Best is trial 113 with value: 0.8347205707491082.\u001b[0m\n",
      "\u001b[32m[I 2023-04-28 11:45:55,269]\u001b[0m Trial 694 finished with value: 0.8271752085816448 and parameters: {'n_estimators': 110, 'min_samples_leaf': 5, 'max_depth': 24}. Best is trial 113 with value: 0.8347205707491082.\u001b[0m\n",
      "\u001b[32m[I 2023-04-28 11:45:55,657]\u001b[0m Trial 695 finished with value: 0.8307692307692307 and parameters: {'n_estimators': 100, 'min_samples_leaf': 5, 'max_depth': 22}. Best is trial 113 with value: 0.8347205707491082.\u001b[0m\n",
      "\u001b[32m[I 2023-04-28 11:45:56,046]\u001b[0m Trial 696 finished with value: 0.8261904761904761 and parameters: {'n_estimators': 100, 'min_samples_leaf': 5, 'max_depth': 32}. Best is trial 113 with value: 0.8347205707491082.\u001b[0m\n",
      "\u001b[32m[I 2023-04-28 11:45:56,449]\u001b[0m Trial 697 finished with value: 0.8309523809523809 and parameters: {'n_estimators': 110, 'min_samples_leaf': 5, 'max_depth': 23}. Best is trial 113 with value: 0.8347205707491082.\u001b[0m\n",
      "\u001b[32m[I 2023-04-28 11:45:56,838]\u001b[0m Trial 698 finished with value: 0.8347205707491082 and parameters: {'n_estimators': 100, 'min_samples_leaf': 5, 'max_depth': 23}. Best is trial 113 with value: 0.8347205707491082.\u001b[0m\n",
      "\u001b[32m[I 2023-04-28 11:45:57,247]\u001b[0m Trial 699 finished with value: 0.8271752085816448 and parameters: {'n_estimators': 110, 'min_samples_leaf': 5, 'max_depth': 24}. Best is trial 113 with value: 0.8347205707491082.\u001b[0m\n",
      "\u001b[32m[I 2023-04-28 11:45:57,676]\u001b[0m Trial 700 finished with value: 0.8293838862559241 and parameters: {'n_estimators': 120, 'min_samples_leaf': 5, 'max_depth': 23}. Best is trial 113 with value: 0.8347205707491082.\u001b[0m\n",
      "\u001b[32m[I 2023-04-28 11:45:58,064]\u001b[0m Trial 701 finished with value: 0.8307692307692307 and parameters: {'n_estimators': 100, 'min_samples_leaf': 5, 'max_depth': 22}. Best is trial 113 with value: 0.8347205707491082.\u001b[0m\n",
      "\u001b[32m[I 2023-04-28 11:45:58,451]\u001b[0m Trial 702 finished with value: 0.8347205707491082 and parameters: {'n_estimators': 100, 'min_samples_leaf': 5, 'max_depth': 23}. Best is trial 113 with value: 0.8347205707491082.\u001b[0m\n",
      "\u001b[32m[I 2023-04-28 11:45:58,857]\u001b[0m Trial 703 finished with value: 0.8271752085816448 and parameters: {'n_estimators': 110, 'min_samples_leaf': 5, 'max_depth': 24}. Best is trial 113 with value: 0.8347205707491082.\u001b[0m\n",
      "\u001b[32m[I 2023-04-28 11:45:59,250]\u001b[0m Trial 704 finished with value: 0.8347205707491082 and parameters: {'n_estimators': 100, 'min_samples_leaf': 5, 'max_depth': 23}. Best is trial 113 with value: 0.8347205707491082.\u001b[0m\n",
      "\u001b[32m[I 2023-04-28 11:45:59,815]\u001b[0m Trial 705 finished with value: 0.824228028503563 and parameters: {'n_estimators': 180, 'min_samples_leaf': 5, 'max_depth': 22}. Best is trial 113 with value: 0.8347205707491082.\u001b[0m\n",
      "\u001b[32m[I 2023-04-28 11:46:00,201]\u001b[0m Trial 706 finished with value: 0.8261904761904761 and parameters: {'n_estimators': 100, 'min_samples_leaf': 5, 'max_depth': 34}. Best is trial 113 with value: 0.8347205707491082.\u001b[0m\n",
      "\u001b[32m[I 2023-04-28 11:46:00,589]\u001b[0m Trial 707 finished with value: 0.8257756563245824 and parameters: {'n_estimators': 100, 'min_samples_leaf': 5, 'max_depth': 24}. Best is trial 113 with value: 0.8347205707491082.\u001b[0m\n",
      "\u001b[32m[I 2023-04-28 11:46:01,013]\u001b[0m Trial 708 finished with value: 0.8309523809523809 and parameters: {'n_estimators': 110, 'min_samples_leaf': 5, 'max_depth': 23}. Best is trial 113 with value: 0.8347205707491082.\u001b[0m\n",
      "\u001b[32m[I 2023-04-28 11:46:01,412]\u001b[0m Trial 709 finished with value: 0.8307692307692307 and parameters: {'n_estimators': 100, 'min_samples_leaf': 5, 'max_depth': 22}. Best is trial 113 with value: 0.8347205707491082.\u001b[0m\n",
      "\u001b[32m[I 2023-04-28 11:46:01,831]\u001b[0m Trial 710 finished with value: 0.8309523809523809 and parameters: {'n_estimators': 110, 'min_samples_leaf': 5, 'max_depth': 23}. Best is trial 113 with value: 0.8347205707491082.\u001b[0m\n",
      "\u001b[32m[I 2023-04-28 11:46:02,231]\u001b[0m Trial 711 finished with value: 0.8307692307692307 and parameters: {'n_estimators': 100, 'min_samples_leaf': 5, 'max_depth': 22}. Best is trial 113 with value: 0.8347205707491082.\u001b[0m\n",
      "\u001b[32m[I 2023-04-28 11:46:02,621]\u001b[0m Trial 712 finished with value: 0.8307692307692307 and parameters: {'n_estimators': 100, 'min_samples_leaf': 5, 'max_depth': 25}. Best is trial 113 with value: 0.8347205707491082.\u001b[0m\n",
      "\u001b[32m[I 2023-04-28 11:46:03,028]\u001b[0m Trial 713 finished with value: 0.8271752085816448 and parameters: {'n_estimators': 110, 'min_samples_leaf': 5, 'max_depth': 24}. Best is trial 113 with value: 0.8347205707491082.\u001b[0m\n",
      "\u001b[32m[I 2023-04-28 11:46:03,416]\u001b[0m Trial 714 finished with value: 0.8119047619047619 and parameters: {'n_estimators': 100, 'min_samples_leaf': 6, 'max_depth': 23}. Best is trial 113 with value: 0.8347205707491082.\u001b[0m\n",
      "\u001b[32m[I 2023-04-28 11:46:03,803]\u001b[0m Trial 715 finished with value: 0.8257756563245824 and parameters: {'n_estimators': 100, 'min_samples_leaf': 5, 'max_depth': 24}. Best is trial 113 with value: 0.8347205707491082.\u001b[0m\n",
      "\u001b[32m[I 2023-04-28 11:46:04,213]\u001b[0m Trial 716 finished with value: 0.8293838862559241 and parameters: {'n_estimators': 110, 'min_samples_leaf': 5, 'max_depth': 21}. Best is trial 113 with value: 0.8347205707491082.\u001b[0m\n",
      "\u001b[32m[I 2023-04-28 11:46:04,607]\u001b[0m Trial 717 finished with value: 0.8347205707491082 and parameters: {'n_estimators': 100, 'min_samples_leaf': 5, 'max_depth': 23}. Best is trial 113 with value: 0.8347205707491082.\u001b[0m\n",
      "\u001b[32m[I 2023-04-28 11:46:04,994]\u001b[0m Trial 718 finished with value: 0.8347205707491082 and parameters: {'n_estimators': 100, 'min_samples_leaf': 5, 'max_depth': 23}. Best is trial 113 with value: 0.8347205707491082.\u001b[0m\n",
      "\u001b[32m[I 2023-04-28 11:46:05,389]\u001b[0m Trial 719 finished with value: 0.8347205707491082 and parameters: {'n_estimators': 100, 'min_samples_leaf': 5, 'max_depth': 23}. Best is trial 113 with value: 0.8347205707491082.\u001b[0m\n",
      "\u001b[32m[I 2023-04-28 11:46:05,798]\u001b[0m Trial 720 finished with value: 0.8299643281807373 and parameters: {'n_estimators': 110, 'min_samples_leaf': 5, 'max_depth': 22}. Best is trial 113 with value: 0.8347205707491082.\u001b[0m\n",
      "\u001b[32m[I 2023-04-28 11:46:06,238]\u001b[0m Trial 721 finished with value: 0.8285714285714285 and parameters: {'n_estimators': 120, 'min_samples_leaf': 5, 'max_depth': 24}. Best is trial 113 with value: 0.8347205707491082.\u001b[0m\n",
      "\u001b[32m[I 2023-04-28 11:46:06,629]\u001b[0m Trial 722 finished with value: 0.8307692307692307 and parameters: {'n_estimators': 100, 'min_samples_leaf': 5, 'max_depth': 22}. Best is trial 113 with value: 0.8347205707491082.\u001b[0m\n",
      "\u001b[32m[I 2023-04-28 11:46:07,042]\u001b[0m Trial 723 finished with value: 0.8309523809523809 and parameters: {'n_estimators': 110, 'min_samples_leaf': 5, 'max_depth': 23}. Best is trial 113 with value: 0.8347205707491082.\u001b[0m\n",
      "\u001b[32m[I 2023-04-28 11:46:07,438]\u001b[0m Trial 724 finished with value: 0.8307692307692307 and parameters: {'n_estimators': 100, 'min_samples_leaf': 5, 'max_depth': 25}. Best is trial 113 with value: 0.8347205707491082.\u001b[0m\n",
      "\u001b[32m[I 2023-04-28 11:46:07,824]\u001b[0m Trial 725 finished with value: 0.8257756563245824 and parameters: {'n_estimators': 100, 'min_samples_leaf': 5, 'max_depth': 24}. Best is trial 113 with value: 0.8347205707491082.\u001b[0m\n",
      "\u001b[32m[I 2023-04-28 11:46:08,247]\u001b[0m Trial 726 finished with value: 0.8293838862559241 and parameters: {'n_estimators': 110, 'min_samples_leaf': 5, 'max_depth': 21}. Best is trial 113 with value: 0.8347205707491082.\u001b[0m\n",
      "\u001b[32m[I 2023-04-28 11:46:08,636]\u001b[0m Trial 727 finished with value: 0.8347205707491082 and parameters: {'n_estimators': 100, 'min_samples_leaf': 5, 'max_depth': 23}. Best is trial 113 with value: 0.8347205707491082.\u001b[0m\n",
      "\u001b[32m[I 2023-04-28 11:46:09,317]\u001b[0m Trial 728 finished with value: 0.8232502965599051 and parameters: {'n_estimators': 150, 'min_samples_leaf': 5, 'max_depth': 22}. Best is trial 113 with value: 0.8347205707491082.\u001b[0m\n",
      "\u001b[32m[I 2023-04-28 11:46:09,710]\u001b[0m Trial 729 finished with value: 0.8347205707491082 and parameters: {'n_estimators': 100, 'min_samples_leaf': 5, 'max_depth': 23}. Best is trial 113 with value: 0.8347205707491082.\u001b[0m\n",
      "\u001b[32m[I 2023-04-28 11:46:10,122]\u001b[0m Trial 730 finished with value: 0.8271752085816448 and parameters: {'n_estimators': 110, 'min_samples_leaf': 5, 'max_depth': 24}. Best is trial 113 with value: 0.8347205707491082.\u001b[0m\n",
      "\u001b[32m[I 2023-04-28 11:46:10,516]\u001b[0m Trial 731 finished with value: 0.8347205707491082 and parameters: {'n_estimators': 100, 'min_samples_leaf': 5, 'max_depth': 23}. Best is trial 113 with value: 0.8347205707491082.\u001b[0m\n",
      "\u001b[32m[I 2023-04-28 11:46:11,275]\u001b[0m Trial 732 finished with value: 0.8270142180094787 and parameters: {'n_estimators': 260, 'min_samples_leaf': 5, 'max_depth': 22}. Best is trial 113 with value: 0.8347205707491082.\u001b[0m\n",
      "\u001b[32m[I 2023-04-28 11:46:11,669]\u001b[0m Trial 733 finished with value: 0.8257756563245824 and parameters: {'n_estimators': 100, 'min_samples_leaf': 5, 'max_depth': 24}. Best is trial 113 with value: 0.8347205707491082.\u001b[0m\n",
      "\u001b[32m[I 2023-04-28 11:46:12,079]\u001b[0m Trial 734 finished with value: 0.8309523809523809 and parameters: {'n_estimators': 110, 'min_samples_leaf': 5, 'max_depth': 23}. Best is trial 113 with value: 0.8347205707491082.\u001b[0m\n",
      "\u001b[32m[I 2023-04-28 11:46:12,474]\u001b[0m Trial 735 finished with value: 0.8347205707491082 and parameters: {'n_estimators': 100, 'min_samples_leaf': 5, 'max_depth': 23}. Best is trial 113 with value: 0.8347205707491082.\u001b[0m\n",
      "\u001b[32m[I 2023-04-28 11:46:12,951]\u001b[0m Trial 736 finished with value: 0.8284023668639052 and parameters: {'n_estimators': 140, 'min_samples_leaf': 5, 'max_depth': 22}. Best is trial 113 with value: 0.8347205707491082.\u001b[0m\n",
      "\u001b[32m[I 2023-04-28 11:46:13,348]\u001b[0m Trial 737 finished with value: 0.8347205707491082 and parameters: {'n_estimators': 100, 'min_samples_leaf': 5, 'max_depth': 23}. Best is trial 113 with value: 0.8347205707491082.\u001b[0m\n",
      "\u001b[32m[I 2023-04-28 11:46:13,769]\u001b[0m Trial 738 finished with value: 0.8271752085816448 and parameters: {'n_estimators': 110, 'min_samples_leaf': 5, 'max_depth': 24}. Best is trial 113 with value: 0.8347205707491082.\u001b[0m\n",
      "\u001b[32m[I 2023-04-28 11:46:14,163]\u001b[0m Trial 739 finished with value: 0.8307692307692307 and parameters: {'n_estimators': 100, 'min_samples_leaf': 5, 'max_depth': 22}. Best is trial 113 with value: 0.8347205707491082.\u001b[0m\n",
      "\u001b[32m[I 2023-04-28 11:46:14,560]\u001b[0m Trial 740 finished with value: 0.8257756563245824 and parameters: {'n_estimators': 100, 'min_samples_leaf': 5, 'max_depth': 24}. Best is trial 113 with value: 0.8347205707491082.\u001b[0m\n",
      "\u001b[32m[I 2023-04-28 11:46:15,243]\u001b[0m Trial 741 finished with value: 0.8275862068965516 and parameters: {'n_estimators': 230, 'min_samples_leaf': 5, 'max_depth': 23}. Best is trial 113 with value: 0.8347205707491082.\u001b[0m\n",
      "\u001b[32m[I 2023-04-28 11:46:15,654]\u001b[0m Trial 742 finished with value: 0.8299643281807373 and parameters: {'n_estimators': 110, 'min_samples_leaf': 5, 'max_depth': 22}. Best is trial 113 with value: 0.8347205707491082.\u001b[0m\n",
      "\u001b[32m[I 2023-04-28 11:46:16,049]\u001b[0m Trial 743 finished with value: 0.8347205707491082 and parameters: {'n_estimators': 100, 'min_samples_leaf': 5, 'max_depth': 23}. Best is trial 113 with value: 0.8347205707491082.\u001b[0m\n",
      "\u001b[32m[I 2023-04-28 11:46:16,482]\u001b[0m Trial 744 finished with value: 0.8299643281807373 and parameters: {'n_estimators': 110, 'min_samples_leaf': 5, 'max_depth': 22}. Best is trial 113 with value: 0.8347205707491082.\u001b[0m\n",
      "\u001b[32m[I 2023-04-28 11:46:16,878]\u001b[0m Trial 745 finished with value: 0.8257756563245824 and parameters: {'n_estimators': 100, 'min_samples_leaf': 5, 'max_depth': 24}. Best is trial 113 with value: 0.8347205707491082.\u001b[0m\n",
      "\u001b[32m[I 2023-04-28 11:46:17,266]\u001b[0m Trial 746 finished with value: 0.8347205707491082 and parameters: {'n_estimators': 100, 'min_samples_leaf': 5, 'max_depth': 23}. Best is trial 113 with value: 0.8347205707491082.\u001b[0m\n",
      "\u001b[32m[I 2023-04-28 11:46:17,679]\u001b[0m Trial 747 finished with value: 0.8293838862559241 and parameters: {'n_estimators': 110, 'min_samples_leaf': 5, 'max_depth': 21}. Best is trial 113 with value: 0.8347205707491082.\u001b[0m\n",
      "\u001b[32m[I 2023-04-28 11:46:18,110]\u001b[0m Trial 748 finished with value: 0.8279952550415184 and parameters: {'n_estimators': 120, 'min_samples_leaf': 5, 'max_depth': 25}. Best is trial 113 with value: 0.8347205707491082.\u001b[0m\n",
      "\u001b[32m[I 2023-04-28 11:46:18,513]\u001b[0m Trial 749 finished with value: 0.8347205707491082 and parameters: {'n_estimators': 100, 'min_samples_leaf': 5, 'max_depth': 23}. Best is trial 113 with value: 0.8347205707491082.\u001b[0m\n",
      "\u001b[32m[I 2023-04-28 11:46:18,908]\u001b[0m Trial 750 finished with value: 0.8257756563245824 and parameters: {'n_estimators': 100, 'min_samples_leaf': 5, 'max_depth': 24}. Best is trial 113 with value: 0.8347205707491082.\u001b[0m\n",
      "\u001b[32m[I 2023-04-28 11:46:19,301]\u001b[0m Trial 751 finished with value: 0.8347205707491082 and parameters: {'n_estimators': 100, 'min_samples_leaf': 5, 'max_depth': 23}. Best is trial 113 with value: 0.8347205707491082.\u001b[0m\n",
      "\u001b[32m[I 2023-04-28 11:46:19,712]\u001b[0m Trial 752 finished with value: 0.8309523809523809 and parameters: {'n_estimators': 110, 'min_samples_leaf': 5, 'max_depth': 23}. Best is trial 113 with value: 0.8347205707491082.\u001b[0m\n",
      "\u001b[32m[I 2023-04-28 11:46:20,104]\u001b[0m Trial 753 finished with value: 0.8261904761904761 and parameters: {'n_estimators': 100, 'min_samples_leaf': 5, 'max_depth': 27}. Best is trial 113 with value: 0.8347205707491082.\u001b[0m\n",
      "\u001b[32m[I 2023-04-28 11:46:20,500]\u001b[0m Trial 754 finished with value: 0.8307692307692307 and parameters: {'n_estimators': 100, 'min_samples_leaf': 5, 'max_depth': 22}. Best is trial 113 with value: 0.8347205707491082.\u001b[0m\n",
      "\u001b[32m[I 2023-04-28 11:46:20,926]\u001b[0m Trial 755 finished with value: 0.8271752085816448 and parameters: {'n_estimators': 110, 'min_samples_leaf': 5, 'max_depth': 24}. Best is trial 113 with value: 0.8347205707491082.\u001b[0m\n",
      "\u001b[32m[I 2023-04-28 11:46:21,322]\u001b[0m Trial 756 finished with value: 0.8307692307692307 and parameters: {'n_estimators': 100, 'min_samples_leaf': 5, 'max_depth': 22}. Best is trial 113 with value: 0.8347205707491082.\u001b[0m\n",
      "\u001b[32m[I 2023-04-28 11:46:21,721]\u001b[0m Trial 757 finished with value: 0.8233890214797136 and parameters: {'n_estimators': 100, 'min_samples_leaf': 4, 'max_depth': 23}. Best is trial 113 with value: 0.8347205707491082.\u001b[0m\n",
      "\u001b[32m[I 2023-04-28 11:46:22,136]\u001b[0m Trial 758 finished with value: 0.8309523809523809 and parameters: {'n_estimators': 110, 'min_samples_leaf': 5, 'max_depth': 23}. Best is trial 113 with value: 0.8347205707491082.\u001b[0m\n",
      "\u001b[32m[I 2023-04-28 11:46:22,590]\u001b[0m Trial 759 finished with value: 0.820754716981132 and parameters: {'n_estimators': 130, 'min_samples_leaf': 7, 'max_depth': 22}. Best is trial 113 with value: 0.8347205707491082.\u001b[0m\n",
      "\u001b[32m[I 2023-04-28 11:46:22,979]\u001b[0m Trial 760 finished with value: 0.8257756563245824 and parameters: {'n_estimators': 100, 'min_samples_leaf': 5, 'max_depth': 24}. Best is trial 113 with value: 0.8347205707491082.\u001b[0m\n",
      "\u001b[32m[I 2023-04-28 11:46:23,399]\u001b[0m Trial 761 finished with value: 0.8309523809523809 and parameters: {'n_estimators': 110, 'min_samples_leaf': 5, 'max_depth': 23}. Best is trial 113 with value: 0.8347205707491082.\u001b[0m\n",
      "\u001b[32m[I 2023-04-28 11:46:23,796]\u001b[0m Trial 762 finished with value: 0.8257756563245824 and parameters: {'n_estimators': 100, 'min_samples_leaf': 5, 'max_depth': 24}. Best is trial 113 with value: 0.8347205707491082.\u001b[0m\n",
      "\u001b[32m[I 2023-04-28 11:46:24,189]\u001b[0m Trial 763 finished with value: 0.8138424821002386 and parameters: {'n_estimators': 100, 'min_samples_leaf': 6, 'max_depth': 22}. Best is trial 113 with value: 0.8347205707491082.\u001b[0m\n",
      "\u001b[32m[I 2023-04-28 11:46:24,590]\u001b[0m Trial 764 finished with value: 0.8264462809917356 and parameters: {'n_estimators': 100, 'min_samples_leaf': 5, 'max_depth': 21}. Best is trial 113 with value: 0.8347205707491082.\u001b[0m\n",
      "\u001b[32m[I 2023-04-28 11:46:25,001]\u001b[0m Trial 765 finished with value: 0.8309523809523809 and parameters: {'n_estimators': 110, 'min_samples_leaf': 5, 'max_depth': 23}. Best is trial 113 with value: 0.8347205707491082.\u001b[0m\n",
      "\u001b[32m[I 2023-04-28 11:46:25,395]\u001b[0m Trial 766 finished with value: 0.8261904761904761 and parameters: {'n_estimators': 100, 'min_samples_leaf': 5, 'max_depth': 30}. Best is trial 113 with value: 0.8347205707491082.\u001b[0m\n",
      "\u001b[32m[I 2023-04-28 11:46:25,803]\u001b[0m Trial 767 finished with value: 0.8309523809523809 and parameters: {'n_estimators': 110, 'min_samples_leaf': 5, 'max_depth': 23}. Best is trial 113 with value: 0.8347205707491082.\u001b[0m\n",
      "\u001b[32m[I 2023-04-28 11:46:26,203]\u001b[0m Trial 768 finished with value: 0.8257756563245824 and parameters: {'n_estimators': 100, 'min_samples_leaf': 5, 'max_depth': 24}. Best is trial 113 with value: 0.8347205707491082.\u001b[0m\n",
      "\u001b[32m[I 2023-04-28 11:46:26,600]\u001b[0m Trial 769 finished with value: 0.8347205707491082 and parameters: {'n_estimators': 100, 'min_samples_leaf': 5, 'max_depth': 23}. Best is trial 113 with value: 0.8347205707491082.\u001b[0m\n",
      "\u001b[32m[I 2023-04-28 11:46:27,019]\u001b[0m Trial 770 finished with value: 0.8323424494649226 and parameters: {'n_estimators': 110, 'min_samples_leaf': 5, 'max_depth': 25}. Best is trial 113 with value: 0.8347205707491082.\u001b[0m\n",
      "\u001b[32m[I 2023-04-28 11:46:27,429]\u001b[0m Trial 771 finished with value: 0.8307692307692307 and parameters: {'n_estimators': 100, 'min_samples_leaf': 5, 'max_depth': 22}. Best is trial 113 with value: 0.8347205707491082.\u001b[0m\n",
      "\u001b[32m[I 2023-04-28 11:46:28,028]\u001b[0m Trial 772 finished with value: 0.8266033254156769 and parameters: {'n_estimators': 190, 'min_samples_leaf': 5, 'max_depth': 23}. Best is trial 113 with value: 0.8347205707491082.\u001b[0m\n",
      "\u001b[32m[I 2023-04-28 11:46:28,418]\u001b[0m Trial 773 finished with value: 0.8257756563245824 and parameters: {'n_estimators': 100, 'min_samples_leaf': 5, 'max_depth': 24}. Best is trial 113 with value: 0.8347205707491082.\u001b[0m\n",
      "\u001b[32m[I 2023-04-28 11:46:28,830]\u001b[0m Trial 774 finished with value: 0.8299643281807373 and parameters: {'n_estimators': 110, 'min_samples_leaf': 5, 'max_depth': 22}. Best is trial 113 with value: 0.8347205707491082.\u001b[0m\n",
      "\u001b[32m[I 2023-04-28 11:46:29,224]\u001b[0m Trial 775 finished with value: 0.8347205707491082 and parameters: {'n_estimators': 100, 'min_samples_leaf': 5, 'max_depth': 23}. Best is trial 113 with value: 0.8347205707491082.\u001b[0m\n",
      "\u001b[32m[I 2023-04-28 11:46:29,666]\u001b[0m Trial 776 finished with value: 0.8285714285714285 and parameters: {'n_estimators': 120, 'min_samples_leaf': 5, 'max_depth': 24}. Best is trial 113 with value: 0.8347205707491082.\u001b[0m\n",
      "\u001b[32m[I 2023-04-28 11:46:30,059]\u001b[0m Trial 777 finished with value: 0.8347205707491082 and parameters: {'n_estimators': 100, 'min_samples_leaf': 5, 'max_depth': 23}. Best is trial 113 with value: 0.8347205707491082.\u001b[0m\n",
      "\u001b[32m[I 2023-04-28 11:46:30,655]\u001b[0m Trial 778 finished with value: 0.8299643281807373 and parameters: {'n_estimators': 110, 'min_samples_leaf': 5, 'max_depth': 22}. Best is trial 113 with value: 0.8347205707491082.\u001b[0m\n",
      "\u001b[32m[I 2023-04-28 11:46:31,050]\u001b[0m Trial 779 finished with value: 0.8347205707491082 and parameters: {'n_estimators': 100, 'min_samples_leaf': 5, 'max_depth': 23}. Best is trial 113 with value: 0.8347205707491082.\u001b[0m\n",
      "\u001b[32m[I 2023-04-28 11:46:31,830]\u001b[0m Trial 780 finished with value: 0.8270142180094787 and parameters: {'n_estimators': 270, 'min_samples_leaf': 5, 'max_depth': 22}. Best is trial 113 with value: 0.8347205707491082.\u001b[0m\n",
      "\u001b[32m[I 2023-04-28 11:46:32,227]\u001b[0m Trial 781 finished with value: 0.8257756563245824 and parameters: {'n_estimators': 100, 'min_samples_leaf': 5, 'max_depth': 24}. Best is trial 113 with value: 0.8347205707491082.\u001b[0m\n",
      "\u001b[32m[I 2023-04-28 11:46:32,642]\u001b[0m Trial 782 finished with value: 0.8323424494649226 and parameters: {'n_estimators': 110, 'min_samples_leaf': 5, 'max_depth': 25}. Best is trial 113 with value: 0.8347205707491082.\u001b[0m\n",
      "\u001b[32m[I 2023-04-28 11:46:33,035]\u001b[0m Trial 783 finished with value: 0.8347205707491082 and parameters: {'n_estimators': 100, 'min_samples_leaf': 5, 'max_depth': 23}. Best is trial 113 with value: 0.8347205707491082.\u001b[0m\n",
      "\u001b[32m[I 2023-04-28 11:46:33,430]\u001b[0m Trial 784 finished with value: 0.8257756563245824 and parameters: {'n_estimators': 100, 'min_samples_leaf': 5, 'max_depth': 24}. Best is trial 113 with value: 0.8347205707491082.\u001b[0m\n",
      "\u001b[32m[I 2023-04-28 11:46:33,845]\u001b[0m Trial 785 finished with value: 0.8293838862559241 and parameters: {'n_estimators': 110, 'min_samples_leaf': 5, 'max_depth': 21}. Best is trial 113 with value: 0.8347205707491082.\u001b[0m\n",
      "\u001b[32m[I 2023-04-28 11:46:34,240]\u001b[0m Trial 786 finished with value: 0.8307692307692307 and parameters: {'n_estimators': 100, 'min_samples_leaf': 5, 'max_depth': 22}. Best is trial 113 with value: 0.8347205707491082.\u001b[0m\n",
      "\u001b[32m[I 2023-04-28 11:46:34,635]\u001b[0m Trial 787 finished with value: 0.8347205707491082 and parameters: {'n_estimators': 100, 'min_samples_leaf': 5, 'max_depth': 23}. Best is trial 113 with value: 0.8347205707491082.\u001b[0m\n",
      "\u001b[32m[I 2023-04-28 11:46:35,387]\u001b[0m Trial 788 finished with value: 0.8270142180094787 and parameters: {'n_estimators': 250, 'min_samples_leaf': 5, 'max_depth': 40}. Best is trial 113 with value: 0.8347205707491082.\u001b[0m\n",
      "\u001b[32m[I 2023-04-28 11:46:35,824]\u001b[0m Trial 789 finished with value: 0.8293838862559241 and parameters: {'n_estimators': 120, 'min_samples_leaf': 5, 'max_depth': 23}. Best is trial 113 with value: 0.8347205707491082.\u001b[0m\n",
      "\u001b[32m[I 2023-04-28 11:46:36,245]\u001b[0m Trial 790 finished with value: 0.8271752085816448 and parameters: {'n_estimators': 110, 'min_samples_leaf': 5, 'max_depth': 24}. Best is trial 113 with value: 0.8347205707491082.\u001b[0m\n",
      "\u001b[32m[I 2023-04-28 11:46:36,659]\u001b[0m Trial 791 finished with value: 0.8307692307692307 and parameters: {'n_estimators': 100, 'min_samples_leaf': 5, 'max_depth': 22}. Best is trial 113 with value: 0.8347205707491082.\u001b[0m\n",
      "\u001b[32m[I 2023-04-28 11:46:37,064]\u001b[0m Trial 792 finished with value: 0.8347205707491082 and parameters: {'n_estimators': 100, 'min_samples_leaf': 5, 'max_depth': 23}. Best is trial 113 with value: 0.8347205707491082.\u001b[0m\n",
      "\u001b[32m[I 2023-04-28 11:46:37,485]\u001b[0m Trial 793 finished with value: 0.8309523809523809 and parameters: {'n_estimators': 110, 'min_samples_leaf': 5, 'max_depth': 23}. Best is trial 113 with value: 0.8347205707491082.\u001b[0m\n",
      "\u001b[32m[I 2023-04-28 11:46:37,891]\u001b[0m Trial 794 finished with value: 0.8257756563245824 and parameters: {'n_estimators': 100, 'min_samples_leaf': 5, 'max_depth': 24}. Best is trial 113 with value: 0.8347205707491082.\u001b[0m\n",
      "\u001b[32m[I 2023-04-28 11:46:38,291]\u001b[0m Trial 795 finished with value: 0.8307692307692307 and parameters: {'n_estimators': 100, 'min_samples_leaf': 5, 'max_depth': 22}. Best is trial 113 with value: 0.8347205707491082.\u001b[0m\n",
      "\u001b[32m[I 2023-04-28 11:46:38,713]\u001b[0m Trial 796 finished with value: 0.8309523809523809 and parameters: {'n_estimators': 110, 'min_samples_leaf': 5, 'max_depth': 23}. Best is trial 113 with value: 0.8347205707491082.\u001b[0m\n",
      "\u001b[32m[I 2023-04-28 11:46:39,108]\u001b[0m Trial 797 finished with value: 0.8257756563245824 and parameters: {'n_estimators': 100, 'min_samples_leaf': 5, 'max_depth': 24}. Best is trial 113 with value: 0.8347205707491082.\u001b[0m\n",
      "\u001b[32m[I 2023-04-28 11:46:39,657]\u001b[0m Trial 798 finished with value: 0.8266033254156769 and parameters: {'n_estimators': 170, 'min_samples_leaf': 5, 'max_depth': 23}. Best is trial 113 with value: 0.8347205707491082.\u001b[0m\n",
      "\u001b[32m[I 2023-04-28 11:46:40,070]\u001b[0m Trial 799 finished with value: 0.8299643281807373 and parameters: {'n_estimators': 110, 'min_samples_leaf': 5, 'max_depth': 22}. Best is trial 113 with value: 0.8347205707491082.\u001b[0m\n",
      "\u001b[32m[I 2023-04-28 11:46:40,465]\u001b[0m Trial 800 finished with value: 0.8347205707491082 and parameters: {'n_estimators': 100, 'min_samples_leaf': 5, 'max_depth': 23}. Best is trial 113 with value: 0.8347205707491082.\u001b[0m\n",
      "\u001b[32m[I 2023-04-28 11:46:40,863]\u001b[0m Trial 801 finished with value: 0.8257756563245824 and parameters: {'n_estimators': 100, 'min_samples_leaf': 5, 'max_depth': 24}. Best is trial 113 with value: 0.8347205707491082.\u001b[0m\n",
      "\u001b[32m[I 2023-04-28 11:46:41,278]\u001b[0m Trial 802 finished with value: 0.8299643281807373 and parameters: {'n_estimators': 110, 'min_samples_leaf': 5, 'max_depth': 22}. Best is trial 113 with value: 0.8347205707491082.\u001b[0m\n",
      "\u001b[32m[I 2023-04-28 11:46:41,670]\u001b[0m Trial 803 finished with value: 0.8347205707491082 and parameters: {'n_estimators': 100, 'min_samples_leaf': 5, 'max_depth': 23}. Best is trial 113 with value: 0.8347205707491082.\u001b[0m\n",
      "\u001b[32m[I 2023-04-28 11:46:42,066]\u001b[0m Trial 804 finished with value: 0.8257756563245824 and parameters: {'n_estimators': 100, 'min_samples_leaf': 5, 'max_depth': 24}. Best is trial 113 with value: 0.8347205707491082.\u001b[0m\n",
      "\u001b[32m[I 2023-04-28 11:46:42,486]\u001b[0m Trial 805 finished with value: 0.8309523809523809 and parameters: {'n_estimators': 110, 'min_samples_leaf': 5, 'max_depth': 23}. Best is trial 113 with value: 0.8347205707491082.\u001b[0m\n",
      "\u001b[32m[I 2023-04-28 11:46:42,884]\u001b[0m Trial 806 finished with value: 0.8307692307692307 and parameters: {'n_estimators': 100, 'min_samples_leaf': 5, 'max_depth': 25}. Best is trial 113 with value: 0.8347205707491082.\u001b[0m\n",
      "\u001b[32m[I 2023-04-28 11:46:43,277]\u001b[0m Trial 807 finished with value: 0.831353919239905 and parameters: {'n_estimators': 100, 'min_samples_leaf': 5, 'max_depth': 17}. Best is trial 113 with value: 0.8347205707491082.\u001b[0m\n",
      "\u001b[32m[I 2023-04-28 11:46:43,669]\u001b[0m Trial 808 finished with value: 0.8264462809917356 and parameters: {'n_estimators': 100, 'min_samples_leaf': 5, 'max_depth': 21}. Best is trial 113 with value: 0.8347205707491082.\u001b[0m\n",
      "\u001b[32m[I 2023-04-28 11:46:44,104]\u001b[0m Trial 809 finished with value: 0.8238095238095238 and parameters: {'n_estimators': 110, 'min_samples_leaf': 3, 'max_depth': 24}. Best is trial 113 with value: 0.8347205707491082.\u001b[0m\n",
      "\u001b[32m[I 2023-04-28 11:46:44,504]\u001b[0m Trial 810 finished with value: 0.8307692307692307 and parameters: {'n_estimators': 100, 'min_samples_leaf': 5, 'max_depth': 22}. Best is trial 113 with value: 0.8347205707491082.\u001b[0m\n",
      "\u001b[32m[I 2023-04-28 11:46:44,915]\u001b[0m Trial 811 finished with value: 0.8347205707491082 and parameters: {'n_estimators': 100, 'min_samples_leaf': 5, 'max_depth': 23}. Best is trial 113 with value: 0.8347205707491082.\u001b[0m\n",
      "\u001b[32m[I 2023-04-28 11:46:45,555]\u001b[0m Trial 812 finished with value: 0.8279952550415184 and parameters: {'n_estimators': 200, 'min_samples_leaf': 5, 'max_depth': 23}. Best is trial 113 with value: 0.8347205707491082.\u001b[0m\n",
      "\u001b[32m[I 2023-04-28 11:46:45,985]\u001b[0m Trial 813 finished with value: 0.8299643281807373 and parameters: {'n_estimators': 110, 'min_samples_leaf': 5, 'max_depth': 22}. Best is trial 113 with value: 0.8347205707491082.\u001b[0m\n",
      "\u001b[32m[I 2023-04-28 11:46:46,855]\u001b[0m Trial 814 finished with value: 0.8274231678486997 and parameters: {'n_estimators': 310, 'min_samples_leaf': 5, 'max_depth': 24}. Best is trial 113 with value: 0.8347205707491082.\u001b[0m\n",
      "\u001b[32m[I 2023-04-28 11:46:47,261]\u001b[0m Trial 815 finished with value: 0.8347205707491082 and parameters: {'n_estimators': 100, 'min_samples_leaf': 5, 'max_depth': 23}. Best is trial 113 with value: 0.8347205707491082.\u001b[0m\n",
      "\u001b[32m[I 2023-04-28 11:46:47,680]\u001b[0m Trial 816 finished with value: 0.8309523809523809 and parameters: {'n_estimators': 110, 'min_samples_leaf': 5, 'max_depth': 23}. Best is trial 113 with value: 0.8347205707491082.\u001b[0m\n",
      "\u001b[32m[I 2023-04-28 11:46:48,089]\u001b[0m Trial 817 finished with value: 0.8307692307692307 and parameters: {'n_estimators': 100, 'min_samples_leaf': 5, 'max_depth': 22}. Best is trial 113 with value: 0.8347205707491082.\u001b[0m\n",
      "\u001b[32m[I 2023-04-28 11:46:48,527]\u001b[0m Trial 818 finished with value: 0.8293838862559241 and parameters: {'n_estimators': 120, 'min_samples_leaf': 5, 'max_depth': 23}. Best is trial 113 with value: 0.8347205707491082.\u001b[0m\n",
      "\u001b[32m[I 2023-04-28 11:46:48,926]\u001b[0m Trial 819 finished with value: 0.8257756563245824 and parameters: {'n_estimators': 100, 'min_samples_leaf': 5, 'max_depth': 24}. Best is trial 113 with value: 0.8347205707491082.\u001b[0m\n",
      "\u001b[32m[I 2023-04-28 11:46:49,341]\u001b[0m Trial 820 finished with value: 0.8323424494649226 and parameters: {'n_estimators': 110, 'min_samples_leaf': 5, 'max_depth': 25}. Best is trial 113 with value: 0.8347205707491082.\u001b[0m\n",
      "\u001b[32m[I 2023-04-28 11:46:49,738]\u001b[0m Trial 821 finished with value: 0.8307692307692307 and parameters: {'n_estimators': 100, 'min_samples_leaf': 5, 'max_depth': 22}. Best is trial 113 with value: 0.8347205707491082.\u001b[0m\n",
      "\u001b[32m[I 2023-04-28 11:46:50,138]\u001b[0m Trial 822 finished with value: 0.8259303721488594 and parameters: {'n_estimators': 100, 'min_samples_leaf': 5, 'max_depth': 20}. Best is trial 113 with value: 0.8347205707491082.\u001b[0m\n",
      "\u001b[32m[I 2023-04-28 11:46:50,560]\u001b[0m Trial 823 finished with value: 0.8309523809523809 and parameters: {'n_estimators': 110, 'min_samples_leaf': 5, 'max_depth': 23}. Best is trial 113 with value: 0.8347205707491082.\u001b[0m\n",
      "\u001b[32m[I 2023-04-28 11:46:51,226]\u001b[0m Trial 824 finished with value: 0.8261904761904761 and parameters: {'n_estimators': 220, 'min_samples_leaf': 5, 'max_depth': 24}. Best is trial 113 with value: 0.8347205707491082.\u001b[0m\n",
      "\u001b[32m[I 2023-04-28 11:46:51,627]\u001b[0m Trial 825 finished with value: 0.8307692307692307 and parameters: {'n_estimators': 100, 'min_samples_leaf': 5, 'max_depth': 22}. Best is trial 113 with value: 0.8347205707491082.\u001b[0m\n",
      "\u001b[32m[I 2023-04-28 11:46:52,021]\u001b[0m Trial 826 finished with value: 0.8347205707491082 and parameters: {'n_estimators': 100, 'min_samples_leaf': 5, 'max_depth': 23}. Best is trial 113 with value: 0.8347205707491082.\u001b[0m\n",
      "\u001b[32m[I 2023-04-28 11:46:52,608]\u001b[0m Trial 827 finished with value: 0.8257756563245824 and parameters: {'n_estimators': 100, 'min_samples_leaf': 5, 'max_depth': 24}. Best is trial 113 with value: 0.8347205707491082.\u001b[0m\n",
      "\u001b[32m[I 2023-04-28 11:46:53,035]\u001b[0m Trial 828 finished with value: 0.8309523809523809 and parameters: {'n_estimators': 110, 'min_samples_leaf': 5, 'max_depth': 23}. Best is trial 113 with value: 0.8347205707491082.\u001b[0m\n",
      "\u001b[32m[I 2023-04-28 11:46:53,432]\u001b[0m Trial 829 finished with value: 0.8264462809917356 and parameters: {'n_estimators': 100, 'min_samples_leaf': 5, 'max_depth': 21}. Best is trial 113 with value: 0.8347205707491082.\u001b[0m\n",
      "\u001b[32m[I 2023-04-28 11:46:53,862]\u001b[0m Trial 830 finished with value: 0.8309523809523809 and parameters: {'n_estimators': 110, 'min_samples_leaf': 5, 'max_depth': 23}. Best is trial 113 with value: 0.8347205707491082.\u001b[0m\n",
      "\u001b[32m[I 2023-04-28 11:46:54,262]\u001b[0m Trial 831 finished with value: 0.8307692307692307 and parameters: {'n_estimators': 100, 'min_samples_leaf': 5, 'max_depth': 22}. Best is trial 113 with value: 0.8347205707491082.\u001b[0m\n",
      "\u001b[32m[I 2023-04-28 11:46:54,660]\u001b[0m Trial 832 finished with value: 0.8257756563245824 and parameters: {'n_estimators': 100, 'min_samples_leaf': 5, 'max_depth': 24}. Best is trial 113 with value: 0.8347205707491082.\u001b[0m\n",
      "\u001b[32m[I 2023-04-28 11:46:55,077]\u001b[0m Trial 833 finished with value: 0.8309523809523809 and parameters: {'n_estimators': 110, 'min_samples_leaf': 5, 'max_depth': 23}. Best is trial 113 with value: 0.8347205707491082.\u001b[0m\n",
      "\u001b[32m[I 2023-04-28 11:46:55,478]\u001b[0m Trial 834 finished with value: 0.8347205707491082 and parameters: {'n_estimators': 100, 'min_samples_leaf': 5, 'max_depth': 23}. Best is trial 113 with value: 0.8347205707491082.\u001b[0m\n",
      "\u001b[32m[I 2023-04-28 11:46:55,878]\u001b[0m Trial 835 finished with value: 0.8261904761904761 and parameters: {'n_estimators': 100, 'min_samples_leaf': 5, 'max_depth': 39}. Best is trial 113 with value: 0.8347205707491082.\u001b[0m\n",
      "\u001b[32m[I 2023-04-28 11:46:56,298]\u001b[0m Trial 836 finished with value: 0.8299643281807373 and parameters: {'n_estimators': 110, 'min_samples_leaf': 5, 'max_depth': 22}. Best is trial 113 with value: 0.8347205707491082.\u001b[0m\n",
      "\u001b[32m[I 2023-04-28 11:46:56,710]\u001b[0m Trial 837 finished with value: 0.8347205707491082 and parameters: {'n_estimators': 100, 'min_samples_leaf': 5, 'max_depth': 23}. Best is trial 113 with value: 0.8347205707491082.\u001b[0m\n",
      "\u001b[32m[I 2023-04-28 11:46:57,113]\u001b[0m Trial 838 finished with value: 0.8257756563245824 and parameters: {'n_estimators': 100, 'min_samples_leaf': 5, 'max_depth': 24}. Best is trial 113 with value: 0.8347205707491082.\u001b[0m\n",
      "\u001b[32m[I 2023-04-28 11:46:57,533]\u001b[0m Trial 839 finished with value: 0.8271752085816448 and parameters: {'n_estimators': 110, 'min_samples_leaf': 5, 'max_depth': 24}. Best is trial 113 with value: 0.8347205707491082.\u001b[0m\n",
      "\u001b[32m[I 2023-04-28 11:46:57,933]\u001b[0m Trial 840 finished with value: 0.8307692307692307 and parameters: {'n_estimators': 100, 'min_samples_leaf': 5, 'max_depth': 25}. Best is trial 113 with value: 0.8347205707491082.\u001b[0m\n",
      "\u001b[32m[I 2023-04-28 11:46:58,374]\u001b[0m Trial 841 finished with value: 0.8303677342823249 and parameters: {'n_estimators': 120, 'min_samples_leaf': 5, 'max_depth': 22}. Best is trial 113 with value: 0.8347205707491082.\u001b[0m\n",
      "\u001b[32m[I 2023-04-28 11:46:58,798]\u001b[0m Trial 842 finished with value: 0.8309523809523809 and parameters: {'n_estimators': 110, 'min_samples_leaf': 5, 'max_depth': 23}. Best is trial 113 with value: 0.8347205707491082.\u001b[0m\n",
      "\u001b[32m[I 2023-04-28 11:46:59,198]\u001b[0m Trial 843 finished with value: 0.8307692307692307 and parameters: {'n_estimators': 100, 'min_samples_leaf': 5, 'max_depth': 22}. Best is trial 113 with value: 0.8347205707491082.\u001b[0m\n",
      "\u001b[32m[I 2023-04-28 11:46:59,742]\u001b[0m Trial 844 finished with value: 0.8275862068965516 and parameters: {'n_estimators': 160, 'min_samples_leaf': 5, 'max_depth': 23}. Best is trial 113 with value: 0.8347205707491082.\u001b[0m\n",
      "\u001b[32m[I 2023-04-28 11:47:00,142]\u001b[0m Trial 845 finished with value: 0.8264462809917356 and parameters: {'n_estimators': 100, 'min_samples_leaf': 5, 'max_depth': 21}. Best is trial 113 with value: 0.8347205707491082.\u001b[0m\n",
      "\u001b[32m[I 2023-04-28 11:47:00,539]\u001b[0m Trial 846 finished with value: 0.8257756563245824 and parameters: {'n_estimators': 100, 'min_samples_leaf': 5, 'max_depth': 24}. Best is trial 113 with value: 0.8347205707491082.\u001b[0m\n",
      "\u001b[32m[I 2023-04-28 11:47:00,944]\u001b[0m Trial 847 finished with value: 0.8347205707491082 and parameters: {'n_estimators': 100, 'min_samples_leaf': 5, 'max_depth': 23}. Best is trial 113 with value: 0.8347205707491082.\u001b[0m\n",
      "\u001b[32m[I 2023-04-28 11:47:01,368]\u001b[0m Trial 848 finished with value: 0.8299643281807373 and parameters: {'n_estimators': 110, 'min_samples_leaf': 5, 'max_depth': 22}. Best is trial 113 with value: 0.8347205707491082.\u001b[0m\n",
      "\u001b[32m[I 2023-04-28 11:47:01,771]\u001b[0m Trial 849 finished with value: 0.8261904761904761 and parameters: {'n_estimators': 100, 'min_samples_leaf': 5, 'max_depth': 29}. Best is trial 113 with value: 0.8347205707491082.\u001b[0m\n",
      "\u001b[32m[I 2023-04-28 11:47:02,192]\u001b[0m Trial 850 finished with value: 0.8309523809523809 and parameters: {'n_estimators': 110, 'min_samples_leaf': 5, 'max_depth': 23}. Best is trial 113 with value: 0.8347205707491082.\u001b[0m\n",
      "\u001b[32m[I 2023-04-28 11:47:02,594]\u001b[0m Trial 851 finished with value: 0.8347205707491082 and parameters: {'n_estimators': 100, 'min_samples_leaf': 5, 'max_depth': 23}. Best is trial 113 with value: 0.8347205707491082.\u001b[0m\n",
      "\u001b[32m[I 2023-04-28 11:47:02,993]\u001b[0m Trial 852 finished with value: 0.81145584725537 and parameters: {'n_estimators': 100, 'min_samples_leaf': 6, 'max_depth': 26}. Best is trial 113 with value: 0.8347205707491082.\u001b[0m\n",
      "\u001b[32m[I 2023-04-28 11:47:03,413]\u001b[0m Trial 853 finished with value: 0.8271752085816448 and parameters: {'n_estimators': 110, 'min_samples_leaf': 5, 'max_depth': 24}. Best is trial 113 with value: 0.8347205707491082.\u001b[0m\n",
      "\u001b[32m[I 2023-04-28 11:47:03,818]\u001b[0m Trial 854 finished with value: 0.8347205707491082 and parameters: {'n_estimators': 100, 'min_samples_leaf': 5, 'max_depth': 23}. Best is trial 113 with value: 0.8347205707491082.\u001b[0m\n",
      "\u001b[32m[I 2023-04-28 11:47:04,220]\u001b[0m Trial 855 finished with value: 0.8307692307692307 and parameters: {'n_estimators': 100, 'min_samples_leaf': 5, 'max_depth': 22}. Best is trial 113 with value: 0.8347205707491082.\u001b[0m\n",
      "\u001b[32m[I 2023-04-28 11:47:04,618]\u001b[0m Trial 856 finished with value: 0.8257756563245824 and parameters: {'n_estimators': 100, 'min_samples_leaf': 5, 'max_depth': 24}. Best is trial 113 with value: 0.8347205707491082.\u001b[0m\n",
      "\u001b[32m[I 2023-04-28 11:47:05,038]\u001b[0m Trial 857 finished with value: 0.8309523809523809 and parameters: {'n_estimators': 110, 'min_samples_leaf': 5, 'max_depth': 23}. Best is trial 113 with value: 0.8347205707491082.\u001b[0m\n",
      "\u001b[32m[I 2023-04-28 11:47:05,485]\u001b[0m Trial 858 finished with value: 0.8303677342823249 and parameters: {'n_estimators': 120, 'min_samples_leaf': 5, 'max_depth': 22}. Best is trial 113 with value: 0.8347205707491082.\u001b[0m\n",
      "\u001b[32m[I 2023-04-28 11:47:05,894]\u001b[0m Trial 859 finished with value: 0.819047619047619 and parameters: {'n_estimators': 100, 'min_samples_leaf': 5, 'max_depth': 16}. Best is trial 113 with value: 0.8347205707491082.\u001b[0m\n",
      "\u001b[32m[I 2023-04-28 11:47:06,310]\u001b[0m Trial 860 finished with value: 0.8271752085816448 and parameters: {'n_estimators': 110, 'min_samples_leaf': 5, 'max_depth': 24}. Best is trial 113 with value: 0.8347205707491082.\u001b[0m\n",
      "\u001b[32m[I 2023-04-28 11:47:06,725]\u001b[0m Trial 861 finished with value: 0.8210023866348448 and parameters: {'n_estimators': 100, 'min_samples_leaf': 4, 'max_depth': 22}. Best is trial 113 with value: 0.8347205707491082.\u001b[0m\n",
      "\u001b[32m[I 2023-04-28 11:47:07,159]\u001b[0m Trial 862 finished with value: 0.8323424494649226 and parameters: {'n_estimators': 110, 'min_samples_leaf': 5, 'max_depth': 25}. Best is trial 113 with value: 0.8347205707491082.\u001b[0m\n",
      "\u001b[32m[I 2023-04-28 11:47:07,566]\u001b[0m Trial 863 finished with value: 0.8264462809917356 and parameters: {'n_estimators': 100, 'min_samples_leaf': 5, 'max_depth': 21}. Best is trial 113 with value: 0.8347205707491082.\u001b[0m\n",
      "\u001b[32m[I 2023-04-28 11:47:07,973]\u001b[0m Trial 864 finished with value: 0.8347205707491082 and parameters: {'n_estimators': 100, 'min_samples_leaf': 5, 'max_depth': 23}. Best is trial 113 with value: 0.8347205707491082.\u001b[0m\n",
      "\u001b[32m[I 2023-04-28 11:47:08,399]\u001b[0m Trial 865 finished with value: 0.8347205707491082 and parameters: {'n_estimators': 100, 'min_samples_leaf': 5, 'max_depth': 23}. Best is trial 113 with value: 0.8347205707491082.\u001b[0m\n",
      "\u001b[32m[I 2023-04-28 11:47:08,834]\u001b[0m Trial 866 finished with value: 0.8271752085816448 and parameters: {'n_estimators': 110, 'min_samples_leaf': 5, 'max_depth': 24}. Best is trial 113 with value: 0.8347205707491082.\u001b[0m\n",
      "\u001b[32m[I 2023-04-28 11:47:09,246]\u001b[0m Trial 867 finished with value: 0.8347205707491082 and parameters: {'n_estimators': 100, 'min_samples_leaf': 5, 'max_depth': 23}. Best is trial 113 with value: 0.8347205707491082.\u001b[0m\n",
      "\u001b[32m[I 2023-04-28 11:47:09,645]\u001b[0m Trial 868 finished with value: 0.8307692307692307 and parameters: {'n_estimators': 100, 'min_samples_leaf': 5, 'max_depth': 22}. Best is trial 113 with value: 0.8347205707491082.\u001b[0m\n",
      "\u001b[32m[I 2023-04-28 11:47:10,090]\u001b[0m Trial 869 finished with value: 0.8271752085816448 and parameters: {'n_estimators': 110, 'min_samples_leaf': 5, 'max_depth': 24}. Best is trial 113 with value: 0.8347205707491082.\u001b[0m\n",
      "\u001b[32m[I 2023-04-28 11:47:10,493]\u001b[0m Trial 870 finished with value: 0.8347205707491082 and parameters: {'n_estimators': 100, 'min_samples_leaf': 5, 'max_depth': 23}. Best is trial 113 with value: 0.8347205707491082.\u001b[0m\n",
      "\u001b[32m[I 2023-04-28 11:47:10,915]\u001b[0m Trial 871 finished with value: 0.8299643281807373 and parameters: {'n_estimators': 110, 'min_samples_leaf': 5, 'max_depth': 22}. Best is trial 113 with value: 0.8347205707491082.\u001b[0m\n",
      "\u001b[32m[I 2023-04-28 11:47:11,318]\u001b[0m Trial 872 finished with value: 0.8347205707491082 and parameters: {'n_estimators': 100, 'min_samples_leaf': 5, 'max_depth': 23}. Best is trial 113 with value: 0.8347205707491082.\u001b[0m\n",
      "\u001b[32m[I 2023-04-28 11:47:11,752]\u001b[0m Trial 873 finished with value: 0.8347205707491082 and parameters: {'n_estimators': 100, 'min_samples_leaf': 5, 'max_depth': 23}. Best is trial 113 with value: 0.8347205707491082.\u001b[0m\n",
      "\u001b[32m[I 2023-04-28 11:47:12,315]\u001b[0m Trial 874 finished with value: 0.824228028503563 and parameters: {'n_estimators': 150, 'min_samples_leaf': 5, 'max_depth': 24}. Best is trial 113 with value: 0.8347205707491082.\u001b[0m\n",
      "\u001b[32m[I 2023-04-28 11:47:12,965]\u001b[0m Trial 875 finished with value: 0.8297872340425532 and parameters: {'n_estimators': 120, 'min_samples_leaf': 5, 'max_depth': 32}. Best is trial 113 with value: 0.8347205707491082.\u001b[0m\n",
      "\u001b[32m[I 2023-04-28 11:47:13,398]\u001b[0m Trial 876 finished with value: 0.8299643281807373 and parameters: {'n_estimators': 110, 'min_samples_leaf': 5, 'max_depth': 22}. Best is trial 113 with value: 0.8347205707491082.\u001b[0m\n",
      "\u001b[32m[I 2023-04-28 11:47:13,818]\u001b[0m Trial 877 finished with value: 0.8347205707491082 and parameters: {'n_estimators': 100, 'min_samples_leaf': 5, 'max_depth': 23}. Best is trial 113 with value: 0.8347205707491082.\u001b[0m\n",
      "\u001b[32m[I 2023-04-28 11:47:14,253]\u001b[0m Trial 878 finished with value: 0.8271752085816448 and parameters: {'n_estimators': 110, 'min_samples_leaf': 5, 'max_depth': 24}. Best is trial 113 with value: 0.8347205707491082.\u001b[0m\n",
      "\u001b[32m[I 2023-04-28 11:47:14,660]\u001b[0m Trial 879 finished with value: 0.8307692307692307 and parameters: {'n_estimators': 100, 'min_samples_leaf': 5, 'max_depth': 22}. Best is trial 113 with value: 0.8347205707491082.\u001b[0m\n",
      "\u001b[32m[I 2023-04-28 11:47:15,067]\u001b[0m Trial 880 finished with value: 0.8347205707491082 and parameters: {'n_estimators': 100, 'min_samples_leaf': 5, 'max_depth': 23}. Best is trial 113 with value: 0.8347205707491082.\u001b[0m\n",
      "\u001b[32m[I 2023-04-28 11:47:15,475]\u001b[0m Trial 881 finished with value: 0.8264462809917356 and parameters: {'n_estimators': 100, 'min_samples_leaf': 5, 'max_depth': 21}. Best is trial 113 with value: 0.8347205707491082.\u001b[0m\n",
      "\u001b[32m[I 2023-04-28 11:47:15,885]\u001b[0m Trial 882 finished with value: 0.8347205707491082 and parameters: {'n_estimators': 100, 'min_samples_leaf': 5, 'max_depth': 23}. Best is trial 113 with value: 0.8347205707491082.\u001b[0m\n",
      "\u001b[32m[I 2023-04-28 11:47:16,317]\u001b[0m Trial 883 finished with value: 0.8271752085816448 and parameters: {'n_estimators': 110, 'min_samples_leaf': 5, 'max_depth': 24}. Best is trial 113 with value: 0.8347205707491082.\u001b[0m\n",
      "\u001b[32m[I 2023-04-28 11:47:16,726]\u001b[0m Trial 884 finished with value: 0.8347205707491082 and parameters: {'n_estimators': 100, 'min_samples_leaf': 5, 'max_depth': 23}. Best is trial 113 with value: 0.8347205707491082.\u001b[0m\n",
      "\u001b[32m[I 2023-04-28 11:47:17,166]\u001b[0m Trial 885 finished with value: 0.8271752085816448 and parameters: {'n_estimators': 110, 'min_samples_leaf': 5, 'max_depth': 24}. Best is trial 113 with value: 0.8347205707491082.\u001b[0m\n",
      "\u001b[32m[I 2023-04-28 11:47:17,571]\u001b[0m Trial 886 finished with value: 0.8307692307692307 and parameters: {'n_estimators': 100, 'min_samples_leaf': 5, 'max_depth': 22}. Best is trial 113 with value: 0.8347205707491082.\u001b[0m\n",
      "\u001b[32m[I 2023-04-28 11:47:17,988]\u001b[0m Trial 887 finished with value: 0.8309523809523809 and parameters: {'n_estimators': 110, 'min_samples_leaf': 5, 'max_depth': 23}. Best is trial 113 with value: 0.8347205707491082.\u001b[0m\n",
      "\u001b[32m[I 2023-04-28 11:47:18,392]\u001b[0m Trial 888 finished with value: 0.8347205707491082 and parameters: {'n_estimators': 100, 'min_samples_leaf': 5, 'max_depth': 23}. Best is trial 113 with value: 0.8347205707491082.\u001b[0m\n",
      "\u001b[32m[I 2023-04-28 11:47:18,806]\u001b[0m Trial 889 finished with value: 0.8307692307692307 and parameters: {'n_estimators': 100, 'min_samples_leaf': 5, 'max_depth': 25}. Best is trial 113 with value: 0.8347205707491082.\u001b[0m\n",
      "\u001b[32m[I 2023-04-28 11:47:19,235]\u001b[0m Trial 890 finished with value: 0.8299643281807373 and parameters: {'n_estimators': 110, 'min_samples_leaf': 5, 'max_depth': 22}. Best is trial 113 with value: 0.8347205707491082.\u001b[0m\n",
      "\u001b[32m[I 2023-04-28 11:47:19,635]\u001b[0m Trial 891 finished with value: 0.8257756563245824 and parameters: {'n_estimators': 100, 'min_samples_leaf': 5, 'max_depth': 24}. Best is trial 113 with value: 0.8347205707491082.\u001b[0m\n",
      "\u001b[32m[I 2023-04-28 11:47:20,035]\u001b[0m Trial 892 finished with value: 0.8347205707491082 and parameters: {'n_estimators': 100, 'min_samples_leaf': 5, 'max_depth': 23}. Best is trial 113 with value: 0.8347205707491082.\u001b[0m\n",
      "\u001b[32m[I 2023-04-28 11:47:20,432]\u001b[0m Trial 893 finished with value: 0.8264462809917356 and parameters: {'n_estimators': 100, 'min_samples_leaf': 5, 'max_depth': 21}. Best is trial 113 with value: 0.8347205707491082.\u001b[0m\n",
      "\u001b[32m[I 2023-04-28 11:47:20,827]\u001b[0m Trial 894 finished with value: 0.8257756563245824 and parameters: {'n_estimators': 100, 'min_samples_leaf': 5, 'max_depth': 24}. Best is trial 113 with value: 0.8347205707491082.\u001b[0m\n",
      "\u001b[32m[I 2023-04-28 11:47:21,248]\u001b[0m Trial 895 finished with value: 0.8285714285714285 and parameters: {'n_estimators': 110, 'min_samples_leaf': 5, 'max_depth': 30}. Best is trial 113 with value: 0.8347205707491082.\u001b[0m\n",
      "\u001b[32m[I 2023-04-28 11:47:21,672]\u001b[0m Trial 896 finished with value: 0.8299643281807373 and parameters: {'n_estimators': 110, 'min_samples_leaf': 5, 'max_depth': 22}. Best is trial 113 with value: 0.8347205707491082.\u001b[0m\n",
      "\u001b[32m[I 2023-04-28 11:47:22,077]\u001b[0m Trial 897 finished with value: 0.8347205707491082 and parameters: {'n_estimators': 100, 'min_samples_leaf': 5, 'max_depth': 23}. Best is trial 113 with value: 0.8347205707491082.\u001b[0m\n",
      "\u001b[32m[I 2023-04-28 11:47:22,476]\u001b[0m Trial 898 finished with value: 0.8307692307692307 and parameters: {'n_estimators': 100, 'min_samples_leaf': 5, 'max_depth': 22}. Best is trial 113 with value: 0.8347205707491082.\u001b[0m\n",
      "\u001b[32m[I 2023-04-28 11:47:22,879]\u001b[0m Trial 899 finished with value: 0.8257756563245824 and parameters: {'n_estimators': 100, 'min_samples_leaf': 5, 'max_depth': 24}. Best is trial 113 with value: 0.8347205707491082.\u001b[0m\n",
      "\u001b[32m[I 2023-04-28 11:47:23,296]\u001b[0m Trial 900 finished with value: 0.8309523809523809 and parameters: {'n_estimators': 110, 'min_samples_leaf': 5, 'max_depth': 23}. Best is trial 113 with value: 0.8347205707491082.\u001b[0m\n",
      "\u001b[32m[I 2023-04-28 11:47:23,695]\u001b[0m Trial 901 finished with value: 0.8307692307692307 and parameters: {'n_estimators': 100, 'min_samples_leaf': 5, 'max_depth': 22}. Best is trial 113 with value: 0.8347205707491082.\u001b[0m\n",
      "\u001b[32m[I 2023-04-28 11:47:24,089]\u001b[0m Trial 902 finished with value: 0.8347205707491082 and parameters: {'n_estimators': 100, 'min_samples_leaf': 5, 'max_depth': 23}. Best is trial 113 with value: 0.8347205707491082.\u001b[0m\n",
      "\u001b[32m[I 2023-04-28 11:47:24,508]\u001b[0m Trial 903 finished with value: 0.8323424494649226 and parameters: {'n_estimators': 110, 'min_samples_leaf': 5, 'max_depth': 25}. Best is trial 113 with value: 0.8347205707491082.\u001b[0m\n",
      "\u001b[32m[I 2023-04-28 11:47:24,963]\u001b[0m Trial 904 finished with value: 0.8228299643281807 and parameters: {'n_estimators': 120, 'min_samples_leaf': 5, 'max_depth': 19}. Best is trial 113 with value: 0.8347205707491082.\u001b[0m\n",
      "\u001b[32m[I 2023-04-28 11:47:25,381]\u001b[0m Trial 905 finished with value: 0.8347205707491082 and parameters: {'n_estimators': 100, 'min_samples_leaf': 5, 'max_depth': 23}. Best is trial 113 with value: 0.8347205707491082.\u001b[0m\n",
      "\u001b[32m[I 2023-04-28 11:47:25,794]\u001b[0m Trial 906 finished with value: 0.8307692307692307 and parameters: {'n_estimators': 100, 'min_samples_leaf': 5, 'max_depth': 22}. Best is trial 113 with value: 0.8347205707491082.\u001b[0m\n",
      "\u001b[32m[I 2023-04-28 11:47:26,219]\u001b[0m Trial 907 finished with value: 0.8229665071770336 and parameters: {'n_estimators': 110, 'min_samples_leaf': 4, 'max_depth': 24}. Best is trial 113 with value: 0.8347205707491082.\u001b[0m\n",
      "\u001b[32m[I 2023-04-28 11:47:26,629]\u001b[0m Trial 908 finished with value: 0.8347205707491082 and parameters: {'n_estimators': 100, 'min_samples_leaf': 5, 'max_depth': 23}. Best is trial 113 with value: 0.8347205707491082.\u001b[0m\n",
      "\u001b[32m[I 2023-04-28 11:47:27,039]\u001b[0m Trial 909 finished with value: 0.8257756563245824 and parameters: {'n_estimators': 100, 'min_samples_leaf': 5, 'max_depth': 24}. Best is trial 113 with value: 0.8347205707491082.\u001b[0m\n",
      "\u001b[32m[I 2023-04-28 11:47:27,461]\u001b[0m Trial 910 finished with value: 0.8309523809523809 and parameters: {'n_estimators': 110, 'min_samples_leaf': 5, 'max_depth': 23}. Best is trial 113 with value: 0.8347205707491082.\u001b[0m\n",
      "\u001b[32m[I 2023-04-28 11:47:27,860]\u001b[0m Trial 911 finished with value: 0.8347205707491082 and parameters: {'n_estimators': 100, 'min_samples_leaf': 5, 'max_depth': 23}. Best is trial 113 with value: 0.8347205707491082.\u001b[0m\n",
      "\u001b[32m[I 2023-04-28 11:47:28,282]\u001b[0m Trial 912 finished with value: 0.8299643281807373 and parameters: {'n_estimators': 110, 'min_samples_leaf': 5, 'max_depth': 22}. Best is trial 113 with value: 0.8347205707491082.\u001b[0m\n",
      "\u001b[32m[I 2023-04-28 11:47:28,680]\u001b[0m Trial 913 finished with value: 0.8257756563245824 and parameters: {'n_estimators': 100, 'min_samples_leaf': 5, 'max_depth': 24}. Best is trial 113 with value: 0.8347205707491082.\u001b[0m\n",
      "\u001b[32m[I 2023-04-28 11:47:29,082]\u001b[0m Trial 914 finished with value: 0.8217237308146399 and parameters: {'n_estimators': 100, 'min_samples_leaf': 7, 'max_depth': 22}. Best is trial 113 with value: 0.8347205707491082.\u001b[0m\n",
      "\u001b[32m[I 2023-04-28 11:47:29,731]\u001b[0m Trial 915 finished with value: 0.8279952550415184 and parameters: {'n_estimators': 210, 'min_samples_leaf': 5, 'max_depth': 23}. Best is trial 113 with value: 0.8347205707491082.\u001b[0m\n",
      "\u001b[32m[I 2023-04-28 11:47:30,134]\u001b[0m Trial 916 finished with value: 0.8347205707491082 and parameters: {'n_estimators': 100, 'min_samples_leaf': 5, 'max_depth': 23}. Best is trial 113 with value: 0.8347205707491082.\u001b[0m\n",
      "\u001b[32m[I 2023-04-28 11:47:30,560]\u001b[0m Trial 917 finished with value: 0.8285714285714285 and parameters: {'n_estimators': 110, 'min_samples_leaf': 5, 'max_depth': 26}. Best is trial 113 with value: 0.8347205707491082.\u001b[0m\n",
      "\u001b[32m[I 2023-04-28 11:47:31,120]\u001b[0m Trial 918 finished with value: 0.8252080856123662 and parameters: {'n_estimators': 170, 'min_samples_leaf': 5, 'max_depth': 24}. Best is trial 113 with value: 0.8347205707491082.\u001b[0m\n",
      "\u001b[32m[I 2023-04-28 11:47:31,518]\u001b[0m Trial 919 finished with value: 0.8307692307692307 and parameters: {'n_estimators': 100, 'min_samples_leaf': 5, 'max_depth': 22}. Best is trial 113 with value: 0.8347205707491082.\u001b[0m\n",
      "\u001b[32m[I 2023-04-28 11:47:31,943]\u001b[0m Trial 920 finished with value: 0.8309523809523809 and parameters: {'n_estimators': 110, 'min_samples_leaf': 5, 'max_depth': 23}. Best is trial 113 with value: 0.8347205707491082.\u001b[0m\n",
      "\u001b[32m[I 2023-04-28 11:47:32,410]\u001b[0m Trial 921 finished with value: 0.8247914183551848 and parameters: {'n_estimators': 130, 'min_samples_leaf': 5, 'max_depth': 24}. Best is trial 113 with value: 0.8347205707491082.\u001b[0m\n",
      "\u001b[32m[I 2023-04-28 11:47:32,998]\u001b[0m Trial 922 finished with value: 0.8307692307692307 and parameters: {'n_estimators': 100, 'min_samples_leaf': 5, 'max_depth': 25}. Best is trial 113 with value: 0.8347205707491082.\u001b[0m\n",
      "\u001b[32m[I 2023-04-28 11:47:33,395]\u001b[0m Trial 923 finished with value: 0.8347205707491082 and parameters: {'n_estimators': 100, 'min_samples_leaf': 5, 'max_depth': 23}. Best is trial 113 with value: 0.8347205707491082.\u001b[0m\n",
      "\u001b[32m[I 2023-04-28 11:47:33,812]\u001b[0m Trial 924 finished with value: 0.8293838862559241 and parameters: {'n_estimators': 110, 'min_samples_leaf': 5, 'max_depth': 21}. Best is trial 113 with value: 0.8347205707491082.\u001b[0m\n",
      "\u001b[32m[I 2023-04-28 11:47:34,211]\u001b[0m Trial 925 finished with value: 0.8307692307692307 and parameters: {'n_estimators': 100, 'min_samples_leaf': 5, 'max_depth': 22}. Best is trial 113 with value: 0.8347205707491082.\u001b[0m\n",
      "\u001b[32m[I 2023-04-28 11:47:34,622]\u001b[0m Trial 926 finished with value: 0.8347205707491082 and parameters: {'n_estimators': 100, 'min_samples_leaf': 5, 'max_depth': 23}. Best is trial 113 with value: 0.8347205707491082.\u001b[0m\n",
      "\u001b[32m[I 2023-04-28 11:47:35,067]\u001b[0m Trial 927 finished with value: 0.8309523809523809 and parameters: {'n_estimators': 110, 'min_samples_leaf': 5, 'max_depth': 23}. Best is trial 113 with value: 0.8347205707491082.\u001b[0m\n",
      "\u001b[32m[I 2023-04-28 11:47:35,665]\u001b[0m Trial 928 finished with value: 0.824228028503563 and parameters: {'n_estimators': 180, 'min_samples_leaf': 5, 'max_depth': 22}. Best is trial 113 with value: 0.8347205707491082.\u001b[0m\n",
      "\u001b[32m[I 2023-04-28 11:47:36,076]\u001b[0m Trial 929 finished with value: 0.8219832735961767 and parameters: {'n_estimators': 100, 'min_samples_leaf': 3, 'max_depth': 38}. Best is trial 113 with value: 0.8347205707491082.\u001b[0m\n",
      "\u001b[32m[I 2023-04-28 11:47:36,484]\u001b[0m Trial 930 finished with value: 0.8257756563245824 and parameters: {'n_estimators': 100, 'min_samples_leaf': 5, 'max_depth': 24}. Best is trial 113 with value: 0.8347205707491082.\u001b[0m\n",
      "\u001b[32m[I 2023-04-28 11:47:36,953]\u001b[0m Trial 931 finished with value: 0.8285714285714285 and parameters: {'n_estimators': 120, 'min_samples_leaf': 5, 'max_depth': 24}. Best is trial 113 with value: 0.8347205707491082.\u001b[0m\n",
      "\u001b[32m[I 2023-04-28 11:47:37,404]\u001b[0m Trial 932 finished with value: 0.8309523809523809 and parameters: {'n_estimators': 110, 'min_samples_leaf': 5, 'max_depth': 23}. Best is trial 113 with value: 0.8347205707491082.\u001b[0m\n",
      "\u001b[32m[I 2023-04-28 11:47:37,839]\u001b[0m Trial 933 finished with value: 0.8347205707491082 and parameters: {'n_estimators': 100, 'min_samples_leaf': 5, 'max_depth': 23}. Best is trial 113 with value: 0.8347205707491082.\u001b[0m\n",
      "\u001b[32m[I 2023-04-28 11:47:38,258]\u001b[0m Trial 934 finished with value: 0.8307692307692307 and parameters: {'n_estimators': 100, 'min_samples_leaf': 5, 'max_depth': 22}. Best is trial 113 with value: 0.8347205707491082.\u001b[0m\n",
      "\u001b[32m[I 2023-04-28 11:47:38,701]\u001b[0m Trial 935 finished with value: 0.8285714285714285 and parameters: {'n_estimators': 110, 'min_samples_leaf': 5, 'max_depth': 36}. Best is trial 113 with value: 0.8347205707491082.\u001b[0m\n",
      "\u001b[32m[I 2023-04-28 11:47:39,111]\u001b[0m Trial 936 finished with value: 0.8259303721488594 and parameters: {'n_estimators': 100, 'min_samples_leaf': 5, 'max_depth': 20}. Best is trial 113 with value: 0.8347205707491082.\u001b[0m\n",
      "\u001b[32m[I 2023-04-28 11:47:39,530]\u001b[0m Trial 937 finished with value: 0.8257756563245824 and parameters: {'n_estimators': 100, 'min_samples_leaf': 5, 'max_depth': 24}. Best is trial 113 with value: 0.8347205707491082.\u001b[0m\n",
      "\u001b[32m[I 2023-04-28 11:47:39,972]\u001b[0m Trial 938 finished with value: 0.8309523809523809 and parameters: {'n_estimators': 110, 'min_samples_leaf': 5, 'max_depth': 23}. Best is trial 113 with value: 0.8347205707491082.\u001b[0m\n",
      "\u001b[32m[I 2023-04-28 11:47:40,754]\u001b[0m Trial 939 finished with value: 0.8260355029585799 and parameters: {'n_estimators': 260, 'min_samples_leaf': 5, 'max_depth': 21}. Best is trial 113 with value: 0.8347205707491082.\u001b[0m\n",
      "\u001b[32m[I 2023-04-28 11:47:41,609]\u001b[0m Trial 940 finished with value: 0.8264462809917356 and parameters: {'n_estimators': 300, 'min_samples_leaf': 5, 'max_depth': 28}. Best is trial 113 with value: 0.8347205707491082.\u001b[0m\n",
      "\u001b[32m[I 2023-04-28 11:47:42,020]\u001b[0m Trial 941 finished with value: 0.8347205707491082 and parameters: {'n_estimators': 100, 'min_samples_leaf': 5, 'max_depth': 23}. Best is trial 113 with value: 0.8347205707491082.\u001b[0m\n",
      "\u001b[32m[I 2023-04-28 11:47:42,457]\u001b[0m Trial 942 finished with value: 0.8299643281807373 and parameters: {'n_estimators': 110, 'min_samples_leaf': 5, 'max_depth': 22}. Best is trial 113 with value: 0.8347205707491082.\u001b[0m\n",
      "\u001b[32m[I 2023-04-28 11:47:42,878]\u001b[0m Trial 943 finished with value: 0.8347205707491082 and parameters: {'n_estimators': 100, 'min_samples_leaf': 5, 'max_depth': 23}. Best is trial 113 with value: 0.8347205707491082.\u001b[0m\n",
      "\u001b[32m[I 2023-04-28 11:47:43,287]\u001b[0m Trial 944 finished with value: 0.8261904761904761 and parameters: {'n_estimators': 100, 'min_samples_leaf': 5, 'max_depth': 33}. Best is trial 113 with value: 0.8347205707491082.\u001b[0m\n",
      "\u001b[32m[I 2023-04-28 11:47:43,703]\u001b[0m Trial 945 finished with value: 0.8257756563245824 and parameters: {'n_estimators': 100, 'min_samples_leaf': 5, 'max_depth': 24}. Best is trial 113 with value: 0.8347205707491082.\u001b[0m\n",
      "\u001b[32m[I 2023-04-28 11:47:44,152]\u001b[0m Trial 946 finished with value: 0.8299643281807373 and parameters: {'n_estimators': 110, 'min_samples_leaf': 5, 'max_depth': 22}. Best is trial 113 with value: 0.8347205707491082.\u001b[0m\n",
      "\u001b[32m[I 2023-04-28 11:47:44,580]\u001b[0m Trial 947 finished with value: 0.8347205707491082 and parameters: {'n_estimators': 100, 'min_samples_leaf': 5, 'max_depth': 23}. Best is trial 113 with value: 0.8347205707491082.\u001b[0m\n",
      "\u001b[32m[I 2023-04-28 11:47:44,988]\u001b[0m Trial 948 finished with value: 0.8257756563245824 and parameters: {'n_estimators': 100, 'min_samples_leaf': 5, 'max_depth': 24}. Best is trial 113 with value: 0.8347205707491082.\u001b[0m\n",
      "\u001b[32m[I 2023-04-28 11:47:45,402]\u001b[0m Trial 949 finished with value: 0.8307692307692307 and parameters: {'n_estimators': 100, 'min_samples_leaf': 5, 'max_depth': 22}. Best is trial 113 with value: 0.8347205707491082.\u001b[0m\n",
      "\u001b[32m[I 2023-04-28 11:47:45,856]\u001b[0m Trial 950 finished with value: 0.8323424494649226 and parameters: {'n_estimators': 110, 'min_samples_leaf': 5, 'max_depth': 25}. Best is trial 113 with value: 0.8347205707491082.\u001b[0m\n",
      "\u001b[32m[I 2023-04-28 11:47:46,275]\u001b[0m Trial 951 finished with value: 0.8347205707491082 and parameters: {'n_estimators': 100, 'min_samples_leaf': 5, 'max_depth': 23}. Best is trial 113 with value: 0.8347205707491082.\u001b[0m\n",
      "\u001b[32m[I 2023-04-28 11:47:46,705]\u001b[0m Trial 952 finished with value: 0.8309523809523809 and parameters: {'n_estimators': 110, 'min_samples_leaf': 5, 'max_depth': 23}. Best is trial 113 with value: 0.8347205707491082.\u001b[0m\n",
      "\u001b[32m[I 2023-04-28 11:47:47,117]\u001b[0m Trial 953 finished with value: 0.8257756563245824 and parameters: {'n_estimators': 100, 'min_samples_leaf': 5, 'max_depth': 24}. Best is trial 113 with value: 0.8347205707491082.\u001b[0m\n",
      "\u001b[32m[I 2023-04-28 11:47:47,527]\u001b[0m Trial 954 finished with value: 0.8347205707491082 and parameters: {'n_estimators': 100, 'min_samples_leaf': 5, 'max_depth': 23}. Best is trial 113 with value: 0.8347205707491082.\u001b[0m\n",
      "\u001b[32m[I 2023-04-28 11:47:47,969]\u001b[0m Trial 955 finished with value: 0.8299643281807373 and parameters: {'n_estimators': 110, 'min_samples_leaf': 5, 'max_depth': 22}. Best is trial 113 with value: 0.8347205707491082.\u001b[0m\n",
      "\u001b[32m[I 2023-04-28 11:47:48,378]\u001b[0m Trial 956 finished with value: 0.8307692307692307 and parameters: {'n_estimators': 100, 'min_samples_leaf': 5, 'max_depth': 22}. Best is trial 113 with value: 0.8347205707491082.\u001b[0m\n",
      "\u001b[32m[I 2023-04-28 11:47:48,789]\u001b[0m Trial 957 finished with value: 0.8261904761904761 and parameters: {'n_estimators': 100, 'min_samples_leaf': 5, 'max_depth': 27}. Best is trial 113 with value: 0.8347205707491082.\u001b[0m\n",
      "\u001b[32m[I 2023-04-28 11:47:49,235]\u001b[0m Trial 958 finished with value: 0.8271752085816448 and parameters: {'n_estimators': 110, 'min_samples_leaf': 5, 'max_depth': 24}. Best is trial 113 with value: 0.8347205707491082.\u001b[0m\n",
      "\u001b[32m[I 2023-04-28 11:47:49,637]\u001b[0m Trial 959 finished with value: 0.8347205707491082 and parameters: {'n_estimators': 100, 'min_samples_leaf': 5, 'max_depth': 23}. Best is trial 113 with value: 0.8347205707491082.\u001b[0m\n",
      "\u001b[32m[I 2023-04-28 11:47:50,060]\u001b[0m Trial 960 finished with value: 0.8257756563245824 and parameters: {'n_estimators': 100, 'min_samples_leaf': 5, 'max_depth': 24}. Best is trial 113 with value: 0.8347205707491082.\u001b[0m\n",
      "\u001b[32m[I 2023-04-28 11:47:50,808]\u001b[0m Trial 961 finished with value: 0.8266033254156769 and parameters: {'n_estimators': 240, 'min_samples_leaf': 5, 'max_depth': 23}. Best is trial 113 with value: 0.8347205707491082.\u001b[0m\n",
      "\u001b[32m[I 2023-04-28 11:47:51,278]\u001b[0m Trial 962 finished with value: 0.8293838862559241 and parameters: {'n_estimators': 110, 'min_samples_leaf': 5, 'max_depth': 21}. Best is trial 113 with value: 0.8347205707491082.\u001b[0m\n",
      "\u001b[32m[I 2023-04-28 11:47:51,712]\u001b[0m Trial 963 finished with value: 0.8347205707491082 and parameters: {'n_estimators': 100, 'min_samples_leaf': 5, 'max_depth': 23}. Best is trial 113 with value: 0.8347205707491082.\u001b[0m\n",
      "\u001b[32m[I 2023-04-28 11:47:52,144]\u001b[0m Trial 964 finished with value: 0.8299643281807373 and parameters: {'n_estimators': 110, 'min_samples_leaf': 5, 'max_depth': 22}. Best is trial 113 with value: 0.8347205707491082.\u001b[0m\n",
      "\u001b[32m[I 2023-04-28 11:47:52,605]\u001b[0m Trial 965 finished with value: 0.8279952550415184 and parameters: {'n_estimators': 120, 'min_samples_leaf': 5, 'max_depth': 25}. Best is trial 113 with value: 0.8347205707491082.\u001b[0m\n",
      "\u001b[32m[I 2023-04-28 11:47:53,005]\u001b[0m Trial 966 finished with value: 0.8257756563245824 and parameters: {'n_estimators': 100, 'min_samples_leaf': 5, 'max_depth': 24}. Best is trial 113 with value: 0.8347205707491082.\u001b[0m\n",
      "\u001b[32m[I 2023-04-28 11:47:53,408]\u001b[0m Trial 967 finished with value: 0.8347205707491082 and parameters: {'n_estimators': 100, 'min_samples_leaf': 5, 'max_depth': 23}. Best is trial 113 with value: 0.8347205707491082.\u001b[0m\n",
      "\u001b[32m[I 2023-04-28 11:47:53,945]\u001b[0m Trial 968 finished with value: 0.8247914183551848 and parameters: {'n_estimators': 160, 'min_samples_leaf': 5, 'max_depth': 24}. Best is trial 113 with value: 0.8347205707491082.\u001b[0m\n",
      "\u001b[32m[I 2023-04-28 11:47:54,350]\u001b[0m Trial 969 finished with value: 0.8347205707491082 and parameters: {'n_estimators': 100, 'min_samples_leaf': 5, 'max_depth': 23}. Best is trial 113 with value: 0.8347205707491082.\u001b[0m\n",
      "\u001b[32m[I 2023-04-28 11:47:54,959]\u001b[0m Trial 970 finished with value: 0.8299643281807373 and parameters: {'n_estimators': 110, 'min_samples_leaf': 5, 'max_depth': 22}. Best is trial 113 with value: 0.8347205707491082.\u001b[0m\n",
      "\u001b[32m[I 2023-04-28 11:47:55,364]\u001b[0m Trial 971 finished with value: 0.8347205707491082 and parameters: {'n_estimators': 100, 'min_samples_leaf': 5, 'max_depth': 23}. Best is trial 113 with value: 0.8347205707491082.\u001b[0m\n",
      "\u001b[32m[I 2023-04-28 11:47:55,793]\u001b[0m Trial 972 finished with value: 0.8299643281807373 and parameters: {'n_estimators': 110, 'min_samples_leaf': 5, 'max_depth': 22}. Best is trial 113 with value: 0.8347205707491082.\u001b[0m\n",
      "\u001b[32m[I 2023-04-28 11:47:56,188]\u001b[0m Trial 973 finished with value: 0.8119047619047619 and parameters: {'n_estimators': 100, 'min_samples_leaf': 6, 'max_depth': 23}. Best is trial 113 with value: 0.8347205707491082.\u001b[0m\n",
      "\u001b[32m[I 2023-04-28 11:47:56,586]\u001b[0m Trial 974 finished with value: 0.8257756563245824 and parameters: {'n_estimators': 100, 'min_samples_leaf': 5, 'max_depth': 24}. Best is trial 113 with value: 0.8347205707491082.\u001b[0m\n",
      "\u001b[32m[I 2023-04-28 11:47:57,015]\u001b[0m Trial 975 finished with value: 0.8271752085816448 and parameters: {'n_estimators': 110, 'min_samples_leaf': 5, 'max_depth': 24}. Best is trial 113 with value: 0.8347205707491082.\u001b[0m\n",
      "\u001b[32m[I 2023-04-28 11:47:57,415]\u001b[0m Trial 976 finished with value: 0.8307692307692307 and parameters: {'n_estimators': 100, 'min_samples_leaf': 5, 'max_depth': 22}. Best is trial 113 with value: 0.8347205707491082.\u001b[0m\n",
      "\u001b[32m[I 2023-04-28 11:47:57,812]\u001b[0m Trial 977 finished with value: 0.8347205707491082 and parameters: {'n_estimators': 100, 'min_samples_leaf': 5, 'max_depth': 23}. Best is trial 113 with value: 0.8347205707491082.\u001b[0m\n",
      "\u001b[32m[I 2023-04-28 11:47:58,236]\u001b[0m Trial 978 finished with value: 0.8309523809523809 and parameters: {'n_estimators': 110, 'min_samples_leaf': 5, 'max_depth': 23}. Best is trial 113 with value: 0.8347205707491082.\u001b[0m\n",
      "\u001b[32m[I 2023-04-28 11:47:58,636]\u001b[0m Trial 979 finished with value: 0.8264462809917356 and parameters: {'n_estimators': 100, 'min_samples_leaf': 5, 'max_depth': 21}. Best is trial 113 with value: 0.8347205707491082.\u001b[0m\n",
      "\u001b[32m[I 2023-04-28 11:47:59,032]\u001b[0m Trial 980 finished with value: 0.8347205707491082 and parameters: {'n_estimators': 100, 'min_samples_leaf': 5, 'max_depth': 23}. Best is trial 113 with value: 0.8347205707491082.\u001b[0m\n",
      "\u001b[32m[I 2023-04-28 11:47:59,457]\u001b[0m Trial 981 finished with value: 0.8323424494649226 and parameters: {'n_estimators': 110, 'min_samples_leaf': 5, 'max_depth': 25}. Best is trial 113 with value: 0.8347205707491082.\u001b[0m\n",
      "\u001b[32m[I 2023-04-28 11:47:59,901]\u001b[0m Trial 982 finished with value: 0.8303677342823249 and parameters: {'n_estimators': 120, 'min_samples_leaf': 5, 'max_depth': 22}. Best is trial 113 with value: 0.8347205707491082.\u001b[0m\n",
      "\u001b[32m[I 2023-04-28 11:48:00,302]\u001b[0m Trial 983 finished with value: 0.8257756563245824 and parameters: {'n_estimators': 100, 'min_samples_leaf': 5, 'max_depth': 24}. Best is trial 113 with value: 0.8347205707491082.\u001b[0m\n",
      "\u001b[32m[I 2023-04-28 11:48:00,703]\u001b[0m Trial 984 finished with value: 0.8261904761904761 and parameters: {'n_estimators': 100, 'min_samples_leaf': 5, 'max_depth': 35}. Best is trial 113 with value: 0.8347205707491082.\u001b[0m\n",
      "\u001b[32m[I 2023-04-28 11:48:01,123]\u001b[0m Trial 985 finished with value: 0.8299643281807373 and parameters: {'n_estimators': 110, 'min_samples_leaf': 5, 'max_depth': 22}. Best is trial 113 with value: 0.8347205707491082.\u001b[0m\n",
      "\u001b[32m[I 2023-04-28 11:48:01,520]\u001b[0m Trial 986 finished with value: 0.8347205707491082 and parameters: {'n_estimators': 100, 'min_samples_leaf': 5, 'max_depth': 23}. Best is trial 113 with value: 0.8347205707491082.\u001b[0m\n",
      "\u001b[32m[I 2023-04-28 11:48:01,920]\u001b[0m Trial 987 finished with value: 0.8347205707491082 and parameters: {'n_estimators': 100, 'min_samples_leaf': 5, 'max_depth': 23}. Best is trial 113 with value: 0.8347205707491082.\u001b[0m\n",
      "\u001b[32m[I 2023-04-28 11:48:02,417]\u001b[0m Trial 988 finished with value: 0.8256227758007116 and parameters: {'n_estimators': 140, 'min_samples_leaf': 5, 'max_depth': 24}. Best is trial 113 with value: 0.8347205707491082.\u001b[0m\n",
      "\u001b[32m[I 2023-04-28 11:48:02,839]\u001b[0m Trial 989 finished with value: 0.8299643281807373 and parameters: {'n_estimators': 110, 'min_samples_leaf': 5, 'max_depth': 22}. Best is trial 113 with value: 0.8347205707491082.\u001b[0m\n",
      "\u001b[32m[I 2023-04-28 11:48:03,233]\u001b[0m Trial 990 finished with value: 0.8347205707491082 and parameters: {'n_estimators': 100, 'min_samples_leaf': 5, 'max_depth': 23}. Best is trial 113 with value: 0.8347205707491082.\u001b[0m\n",
      "\u001b[32m[I 2023-04-28 11:48:03,631]\u001b[0m Trial 991 finished with value: 0.8347205707491082 and parameters: {'n_estimators': 100, 'min_samples_leaf': 5, 'max_depth': 23}. Best is trial 113 with value: 0.8347205707491082.\u001b[0m\n",
      "\u001b[32m[I 2023-04-28 11:48:04,050]\u001b[0m Trial 992 finished with value: 0.8271752085816448 and parameters: {'n_estimators': 110, 'min_samples_leaf': 5, 'max_depth': 24}. Best is trial 113 with value: 0.8347205707491082.\u001b[0m\n",
      "\u001b[32m[I 2023-04-28 11:48:04,445]\u001b[0m Trial 993 finished with value: 0.8307692307692307 and parameters: {'n_estimators': 100, 'min_samples_leaf': 5, 'max_depth': 22}. Best is trial 113 with value: 0.8347205707491082.\u001b[0m\n",
      "\u001b[32m[I 2023-04-28 11:48:04,842]\u001b[0m Trial 994 finished with value: 0.8347205707491082 and parameters: {'n_estimators': 100, 'min_samples_leaf': 5, 'max_depth': 23}. Best is trial 113 with value: 0.8347205707491082.\u001b[0m\n",
      "\u001b[32m[I 2023-04-28 11:48:05,286]\u001b[0m Trial 995 finished with value: 0.8271752085816448 and parameters: {'n_estimators': 110, 'min_samples_leaf': 5, 'max_depth': 24}. Best is trial 113 with value: 0.8347205707491082.\u001b[0m\n",
      "\u001b[32m[I 2023-04-28 11:48:05,685]\u001b[0m Trial 996 finished with value: 0.8347205707491082 and parameters: {'n_estimators': 100, 'min_samples_leaf': 5, 'max_depth': 23}. Best is trial 113 with value: 0.8347205707491082.\u001b[0m\n",
      "\u001b[32m[I 2023-04-28 11:48:06,083]\u001b[0m Trial 997 finished with value: 0.8307692307692307 and parameters: {'n_estimators': 100, 'min_samples_leaf': 5, 'max_depth': 25}. Best is trial 113 with value: 0.8347205707491082.\u001b[0m\n",
      "\u001b[32m[I 2023-04-28 11:48:06,780]\u001b[0m Trial 998 finished with value: 0.8270142180094787 and parameters: {'n_estimators': 230, 'min_samples_leaf': 5, 'max_depth': 22}. Best is trial 113 with value: 0.8347205707491082.\u001b[0m\n",
      "\u001b[32m[I 2023-04-28 11:48:07,181]\u001b[0m Trial 999 finished with value: 0.8347205707491082 and parameters: {'n_estimators': 100, 'min_samples_leaf': 5, 'max_depth': 23}. Best is trial 113 with value: 0.8347205707491082.\u001b[0m\n"
     ]
    },
    {
     "name": "stdout",
     "output_type": "stream",
     "text": [
      "Наилучшие значения гиперпараметров {'n_estimators': 100, 'min_samples_leaf': 5, 'max_depth': 23}\n",
      "f1_score на обучающем наборе: 0.83\n"
     ]
    }
   ],
   "source": [
    "%time\n",
    "\n",
    "scoreCalc = \"standard\"\n",
    "modelType = \"ranFor\"\n",
    "# cоздаем объект исследования\n",
    "# можем напрямую указать, что нам необходимо максимизировать метрику direction=\"maximize\"\n",
    "study_ranFor = optuna.create_study(study_name=\"RandomForestClassifier Optuna Optimization\",\n",
    "                                   direction=\"maximize\",\n",
    "                                  #  storage='sqlite:///ex.db',\n",
    "                                   load_if_exists=False,\n",
    "                                   )\n",
    "# ищем лучшую комбинацию гиперпараметров n_trials раз\n",
    "study_ranFor.optimize(optuna_optimize, n_trials=1000)\n",
    "\n",
    "# выводим результаты на обучающей выборке\n",
    "print(\"Наилучшие значения гиперпараметров {}\".format(study_ranFor.best_params))\n",
    "print(\"f1_score на обучающем наборе: {:.2f}\".format(study_ranFor.best_value))"
   ]
  },
  {
   "cell_type": "code",
   "execution_count": 33,
   "metadata": {},
   "outputs": [
    {
     "name": "stdout",
     "output_type": "stream",
     "text": [
      "\u001b[94mf1_score на тренировочном наборе: \u001b[92m0.943\u001b[39m\n",
      "\u001b[94mf1_score на тестовом наборе: \u001b[92m0.835\u001b[39m\n"
     ]
    }
   ],
   "source": [
    "# рассчитаем точность для тестовой выборки\n",
    "model = ensemble.RandomForestClassifier(**study_ranFor.best_params,random_state=RANDOM_STATE, )\n",
    "model.fit(X_train, y_train)\n",
    "\n",
    "printAndSaveModelResults(model,'RandomForestClassifier Optuna Optimization')"
   ]
  },
  {
   "attachments": {},
   "cell_type": "markdown",
   "metadata": {},
   "source": [
    "##### Кросс-валидация"
   ]
  },
  {
   "cell_type": "code",
   "execution_count": 37,
   "metadata": {},
   "outputs": [
    {
     "name": "stderr",
     "output_type": "stream",
     "text": [
      "\u001b[32m[I 2023-04-28 12:59:35,503]\u001b[0m A new study created in memory with name: RandomForestClassifier Optuna Optimization with Cross Validation\u001b[0m\n"
     ]
    },
    {
     "name": "stdout",
     "output_type": "stream",
     "text": [
      "CPU times: total: 0 ns\n",
      "Wall time: 0 ns\n"
     ]
    },
    {
     "name": "stderr",
     "output_type": "stream",
     "text": [
      "\u001b[32m[I 2023-04-28 12:59:50,145]\u001b[0m Trial 6 finished with value: 0.7991909791462259 and parameters: {'n_estimators': 190, 'min_samples_leaf': 7, 'max_depth': 27}. Best is trial 6 with value: 0.7991909791462259.\u001b[0m\n",
      "\u001b[32m[I 2023-04-28 12:59:51,506]\u001b[0m Trial 7 finished with value: 0.7991485335851993 and parameters: {'n_estimators': 120, 'min_samples_leaf': 6, 'max_depth': 33}. Best is trial 6 with value: 0.7991909791462259.\u001b[0m\n",
      "\u001b[32m[I 2023-04-28 12:59:56,881]\u001b[0m Trial 8 finished with value: 0.8053125585369955 and parameters: {'n_estimators': 140, 'min_samples_leaf': 4, 'max_depth': 37}. Best is trial 8 with value: 0.8053125585369955.\u001b[0m\n",
      "\u001b[32m[I 2023-04-28 12:59:57,668]\u001b[0m Trial 41 finished with value: 0.7972448111967132 and parameters: {'n_estimators': 100, 'min_samples_leaf': 7, 'max_depth': 39}. Best is trial 8 with value: 0.8053125585369955.\u001b[0m\n",
      "\u001b[32m[I 2023-04-28 12:59:58,372]\u001b[0m Trial 1 finished with value: 0.8022259041556117 and parameters: {'n_estimators': 100, 'min_samples_leaf': 4, 'max_depth': 19}. Best is trial 8 with value: 0.8053125585369955.\u001b[0m\n",
      "\u001b[32m[I 2023-04-28 12:59:58,864]\u001b[0m Trial 22 finished with value: 0.798907819122194 and parameters: {'n_estimators': 120, 'min_samples_leaf': 6, 'max_depth': 24}. Best is trial 8 with value: 0.8053125585369955.\u001b[0m\n",
      "\u001b[32m[I 2023-04-28 12:59:58,874]\u001b[0m Trial 5 finished with value: 0.8013827201524949 and parameters: {'n_estimators': 210, 'min_samples_leaf': 5, 'max_depth': 23}. Best is trial 8 with value: 0.8053125585369955.\u001b[0m\n",
      "\u001b[32m[I 2023-04-28 12:59:58,895]\u001b[0m Trial 28 finished with value: 0.8001900224462137 and parameters: {'n_estimators': 150, 'min_samples_leaf': 6, 'max_depth': 27}. Best is trial 8 with value: 0.8053125585369955.\u001b[0m\n",
      "\u001b[32m[I 2023-04-28 13:00:00,422]\u001b[0m Trial 17 finished with value: 0.7983648220355096 and parameters: {'n_estimators': 300, 'min_samples_leaf': 7, 'max_depth': 37}. Best is trial 8 with value: 0.8053125585369955.\u001b[0m\n",
      "\u001b[32m[I 2023-04-28 13:00:00,737]\u001b[0m Trial 10 finished with value: 0.8073733746059848 and parameters: {'n_estimators': 200, 'min_samples_leaf': 3, 'max_depth': 18}. Best is trial 10 with value: 0.8073733746059848.\u001b[0m\n",
      "\u001b[32m[I 2023-04-28 13:00:00,788]\u001b[0m Trial 13 finished with value: 0.8030950014710481 and parameters: {'n_estimators': 180, 'min_samples_leaf': 3, 'max_depth': 15}. Best is trial 10 with value: 0.8073733746059848.\u001b[0m\n",
      "\u001b[32m[I 2023-04-28 13:00:01,409]\u001b[0m Trial 24 finished with value: 0.8036165698896175 and parameters: {'n_estimators': 120, 'min_samples_leaf': 4, 'max_depth': 36}. Best is trial 10 with value: 0.8073733746059848.\u001b[0m\n",
      "\u001b[32m[I 2023-04-28 13:00:01,824]\u001b[0m Trial 19 finished with value: 0.8067270333344656 and parameters: {'n_estimators': 100, 'min_samples_leaf': 3, 'max_depth': 30}. Best is trial 10 with value: 0.8073733746059848.\u001b[0m\n",
      "\u001b[32m[I 2023-04-28 13:00:01,882]\u001b[0m Trial 18 finished with value: 0.7986156841749699 and parameters: {'n_estimators': 110, 'min_samples_leaf': 5, 'max_depth': 37}. Best is trial 10 with value: 0.8073733746059848.\u001b[0m\n",
      "\u001b[32m[I 2023-04-28 13:00:01,889]\u001b[0m Trial 16 finished with value: 0.8013824702435517 and parameters: {'n_estimators': 220, 'min_samples_leaf': 5, 'max_depth': 18}. Best is trial 10 with value: 0.8073733746059848.\u001b[0m\n",
      "\u001b[32m[I 2023-04-28 13:00:02,172]\u001b[0m Trial 31 finished with value: 0.8058003115582556 and parameters: {'n_estimators': 180, 'min_samples_leaf': 4, 'max_depth': 16}. Best is trial 10 with value: 0.8073733746059848.\u001b[0m\n",
      "\u001b[32m[I 2023-04-28 13:00:02,417]\u001b[0m Trial 45 finished with value: 0.8020541519066354 and parameters: {'n_estimators': 290, 'min_samples_leaf': 6, 'max_depth': 30}. Best is trial 10 with value: 0.8073733746059848.\u001b[0m\n",
      "\u001b[32m[I 2023-04-28 13:00:02,569]\u001b[0m Trial 47 finished with value: 0.7972719754385278 and parameters: {'n_estimators': 290, 'min_samples_leaf': 7, 'max_depth': 25}. Best is trial 10 with value: 0.8073733746059848.\u001b[0m\n",
      "\u001b[32m[I 2023-04-28 13:00:03,125]\u001b[0m Trial 26 finished with value: 0.8006739006971187 and parameters: {'n_estimators': 120, 'min_samples_leaf': 7, 'max_depth': 40}. Best is trial 10 with value: 0.8073733746059848.\u001b[0m\n",
      "\u001b[32m[I 2023-04-28 13:00:03,200]\u001b[0m Trial 34 finished with value: 0.800136914157527 and parameters: {'n_estimators': 160, 'min_samples_leaf': 6, 'max_depth': 25}. Best is trial 10 with value: 0.8073733746059848.\u001b[0m\n",
      "\u001b[32m[I 2023-04-28 13:00:03,276]\u001b[0m Trial 35 finished with value: 0.8070313465858556 and parameters: {'n_estimators': 170, 'min_samples_leaf': 4, 'max_depth': 25}. Best is trial 10 with value: 0.8073733746059848.\u001b[0m\n",
      "\u001b[32m[I 2023-04-28 13:00:03,470]\u001b[0m Trial 4 finished with value: 0.8086326059146185 and parameters: {'n_estimators': 170, 'min_samples_leaf': 4, 'max_depth': 30}. Best is trial 4 with value: 0.8086326059146185.\u001b[0m\n",
      "\u001b[32m[I 2023-04-28 13:00:03,555]\u001b[0m Trial 11 finished with value: 0.803481997463878 and parameters: {'n_estimators': 300, 'min_samples_leaf': 5, 'max_depth': 27}. Best is trial 4 with value: 0.8086326059146185.\u001b[0m\n",
      "\u001b[32m[I 2023-04-28 13:00:03,607]\u001b[0m Trial 33 finished with value: 0.8110040650120924 and parameters: {'n_estimators': 300, 'min_samples_leaf': 3, 'max_depth': 39}. Best is trial 33 with value: 0.8110040650120924.\u001b[0m\n",
      "\u001b[32m[I 2023-04-28 13:00:04,107]\u001b[0m Trial 42 finished with value: 0.8056664174779398 and parameters: {'n_estimators': 100, 'min_samples_leaf': 4, 'max_depth': 33}. Best is trial 33 with value: 0.8110040650120924.\u001b[0m\n",
      "\u001b[32m[I 2023-04-28 13:00:04,204]\u001b[0m Trial 21 finished with value: 0.7972448111967132 and parameters: {'n_estimators': 100, 'min_samples_leaf': 7, 'max_depth': 31}. Best is trial 33 with value: 0.8110040650120924.\u001b[0m\n",
      "\u001b[32m[I 2023-04-28 13:00:04,604]\u001b[0m Trial 43 finished with value: 0.8016773918443401 and parameters: {'n_estimators': 240, 'min_samples_leaf': 6, 'max_depth': 29}. Best is trial 33 with value: 0.8110040650120924.\u001b[0m\n",
      "\u001b[32m[I 2023-04-28 13:00:04,614]\u001b[0m Trial 44 finished with value: 0.7993420513256635 and parameters: {'n_estimators': 150, 'min_samples_leaf': 7, 'max_depth': 35}. Best is trial 33 with value: 0.8110040650120924.\u001b[0m\n",
      "\u001b[32m[I 2023-04-28 13:00:04,665]\u001b[0m Trial 40 finished with value: 0.8026051941035537 and parameters: {'n_estimators': 210, 'min_samples_leaf': 5, 'max_depth': 24}. Best is trial 33 with value: 0.8110040650120924.\u001b[0m\n",
      "\u001b[32m[I 2023-04-28 13:00:04,694]\u001b[0m Trial 23 finished with value: 0.8037571304792408 and parameters: {'n_estimators': 210, 'min_samples_leaf': 4, 'max_depth': 19}. Best is trial 33 with value: 0.8110040650120924.\u001b[0m\n",
      "\u001b[32m[I 2023-04-28 13:00:05,754]\u001b[0m Trial 20 finished with value: 0.7983648220355096 and parameters: {'n_estimators': 300, 'min_samples_leaf': 7, 'max_depth': 32}. Best is trial 33 with value: 0.8110040650120924.\u001b[0m\n",
      "\u001b[32m[I 2023-04-28 13:00:06,165]\u001b[0m Trial 46 finished with value: 0.8022518387939888 and parameters: {'n_estimators': 240, 'min_samples_leaf': 5, 'max_depth': 38}. Best is trial 33 with value: 0.8110040650120924.\u001b[0m\n",
      "\u001b[32m[I 2023-04-28 13:00:07,058]\u001b[0m Trial 0 finished with value: 0.8061097127584571 and parameters: {'n_estimators': 150, 'min_samples_leaf': 4, 'max_depth': 17}. Best is trial 33 with value: 0.8110040650120924.\u001b[0m\n",
      "\u001b[32m[I 2023-04-28 13:00:07,826]\u001b[0m Trial 36 finished with value: 0.7993420513256635 and parameters: {'n_estimators': 150, 'min_samples_leaf': 7, 'max_depth': 35}. Best is trial 33 with value: 0.8110040650120924.\u001b[0m\n",
      "\u001b[32m[I 2023-04-28 13:00:07,883]\u001b[0m Trial 37 finished with value: 0.7983781007724404 and parameters: {'n_estimators': 150, 'min_samples_leaf': 7, 'max_depth': 15}. Best is trial 33 with value: 0.8110040650120924.\u001b[0m\n",
      "\u001b[32m[I 2023-04-28 13:00:07,960]\u001b[0m Trial 25 finished with value: 0.8003569356682269 and parameters: {'n_estimators': 230, 'min_samples_leaf': 5, 'max_depth': 19}. Best is trial 33 with value: 0.8110040650120924.\u001b[0m\n",
      "\u001b[32m[I 2023-04-28 13:00:08,022]\u001b[0m Trial 9 finished with value: 0.803481997463878 and parameters: {'n_estimators': 300, 'min_samples_leaf': 5, 'max_depth': 35}. Best is trial 33 with value: 0.8110040650120924.\u001b[0m\n",
      "\u001b[32m[I 2023-04-28 13:00:08,324]\u001b[0m Trial 27 finished with value: 0.8037571304792408 and parameters: {'n_estimators': 210, 'min_samples_leaf': 4, 'max_depth': 19}. Best is trial 33 with value: 0.8110040650120924.\u001b[0m\n",
      "\u001b[32m[I 2023-04-28 13:00:08,963]\u001b[0m Trial 29 finished with value: 0.8015297556738685 and parameters: {'n_estimators': 140, 'min_samples_leaf': 7, 'max_depth': 26}. Best is trial 33 with value: 0.8110040650120924.\u001b[0m\n",
      "\u001b[32m[I 2023-04-28 13:00:09,020]\u001b[0m Trial 39 finished with value: 0.803718381493917 and parameters: {'n_estimators': 210, 'min_samples_leaf': 5, 'max_depth': 22}. Best is trial 33 with value: 0.8110040650120924.\u001b[0m\n",
      "\u001b[32m[I 2023-04-28 13:00:09,508]\u001b[0m Trial 30 finished with value: 0.8006172355175677 and parameters: {'n_estimators': 210, 'min_samples_leaf': 6, 'max_depth': 34}. Best is trial 33 with value: 0.8110040650120924.\u001b[0m\n",
      "\u001b[32m[I 2023-04-28 13:00:10,267]\u001b[0m Trial 14 finished with value: 0.8011684957012468 and parameters: {'n_estimators': 140, 'min_samples_leaf': 7, 'max_depth': 22}. Best is trial 33 with value: 0.8110040650120924.\u001b[0m\n",
      "\u001b[32m[I 2023-04-28 13:00:10,346]\u001b[0m Trial 2 finished with value: 0.8131586911412683 and parameters: {'n_estimators': 300, 'min_samples_leaf': 3, 'max_depth': 19}. Best is trial 2 with value: 0.8131586911412683.\u001b[0m\n",
      "\u001b[32m[I 2023-04-28 13:00:10,355]\u001b[0m Trial 3 finished with value: 0.8084784108999756 and parameters: {'n_estimators': 280, 'min_samples_leaf': 4, 'max_depth': 36}. Best is trial 2 with value: 0.8131586911412683.\u001b[0m\n",
      "\u001b[32m[I 2023-04-28 13:00:10,366]\u001b[0m Trial 38 finished with value: 0.8005365415582807 and parameters: {'n_estimators': 160, 'min_samples_leaf': 5, 'max_depth': 18}. Best is trial 2 with value: 0.8131586911412683.\u001b[0m\n",
      "\u001b[32m[I 2023-04-28 13:00:10,414]\u001b[0m Trial 32 finished with value: 0.8073684667056893 and parameters: {'n_estimators': 290, 'min_samples_leaf': 4, 'max_depth': 28}. Best is trial 2 with value: 0.8131586911412683.\u001b[0m\n",
      "\u001b[32m[I 2023-04-28 13:00:10,436]\u001b[0m Trial 12 finished with value: 0.7992055865268386 and parameters: {'n_estimators': 230, 'min_samples_leaf': 7, 'max_depth': 25}. Best is trial 2 with value: 0.8131586911412683.\u001b[0m\n",
      "\u001b[32m[I 2023-04-28 13:00:11,391]\u001b[0m Trial 48 finished with value: 0.8051747373947167 and parameters: {'n_estimators': 220, 'min_samples_leaf': 4, 'max_depth': 39}. Best is trial 2 with value: 0.8131586911412683.\u001b[0m\n",
      "\u001b[32m[I 2023-04-28 13:00:11,420]\u001b[0m Trial 15 finished with value: 0.8043443174454653 and parameters: {'n_estimators': 290, 'min_samples_leaf': 5, 'max_depth': 35}. Best is trial 2 with value: 0.8131586911412683.\u001b[0m\n",
      "\u001b[32m[I 2023-04-28 13:00:12,317]\u001b[0m Trial 50 finished with value: 0.800707205540151 and parameters: {'n_estimators': 140, 'min_samples_leaf': 6, 'max_depth': 40}. Best is trial 2 with value: 0.8131586911412683.\u001b[0m\n",
      "\u001b[32m[I 2023-04-28 13:00:12,493]\u001b[0m Trial 49 finished with value: 0.8001710570821938 and parameters: {'n_estimators': 200, 'min_samples_leaf': 7, 'max_depth': 34}. Best is trial 2 with value: 0.8131586911412683.\u001b[0m\n",
      "\u001b[32m[I 2023-04-28 13:00:12,636]\u001b[0m Trial 52 finished with value: 0.8048153465408797 and parameters: {'n_estimators': 190, 'min_samples_leaf': 4, 'max_depth': 16}. Best is trial 2 with value: 0.8131586911412683.\u001b[0m\n",
      "\u001b[32m[I 2023-04-28 13:00:14,656]\u001b[0m Trial 51 finished with value: 0.79848423459968 and parameters: {'n_estimators': 100, 'min_samples_leaf': 5, 'max_depth': 25}. Best is trial 2 with value: 0.8131586911412683.\u001b[0m\n",
      "\u001b[32m[I 2023-04-28 13:00:15,400]\u001b[0m Trial 54 finished with value: 0.8005132284290231 and parameters: {'n_estimators': 190, 'min_samples_leaf': 6, 'max_depth': 23}. Best is trial 2 with value: 0.8131586911412683.\u001b[0m\n",
      "\u001b[32m[I 2023-04-28 13:00:15,669]\u001b[0m Trial 53 finished with value: 0.7996990644368784 and parameters: {'n_estimators': 110, 'min_samples_leaf': 5, 'max_depth': 23}. Best is trial 2 with value: 0.8131586911412683.\u001b[0m\n",
      "\u001b[32m[I 2023-04-28 13:00:18,034]\u001b[0m Trial 55 finished with value: 0.8078858758991843 and parameters: {'n_estimators': 210, 'min_samples_leaf': 3, 'max_depth': 35}. Best is trial 2 with value: 0.8131586911412683.\u001b[0m\n",
      "\u001b[32m[I 2023-04-28 13:00:20,412]\u001b[0m Trial 58 finished with value: 0.8106581170145223 and parameters: {'n_estimators': 240, 'min_samples_leaf': 3, 'max_depth': 33}. Best is trial 2 with value: 0.8131586911412683.\u001b[0m\n",
      "\u001b[32m[I 2023-04-28 13:00:20,426]\u001b[0m Trial 56 finished with value: 0.7977537613267202 and parameters: {'n_estimators': 230, 'min_samples_leaf': 7, 'max_depth': 22}. Best is trial 2 with value: 0.8131586911412683.\u001b[0m\n",
      "\u001b[32m[I 2023-04-28 13:00:20,438]\u001b[0m Trial 59 finished with value: 0.8109061235223622 and parameters: {'n_estimators': 240, 'min_samples_leaf': 3, 'max_depth': 32}. Best is trial 2 with value: 0.8131586911412683.\u001b[0m\n",
      "\u001b[32m[I 2023-04-28 13:00:20,606]\u001b[0m Trial 57 finished with value: 0.8066717016153264 and parameters: {'n_estimators': 260, 'min_samples_leaf': 3, 'max_depth': 16}. Best is trial 2 with value: 0.8131586911412683.\u001b[0m\n",
      "\u001b[32m[I 2023-04-28 13:00:22,936]\u001b[0m Trial 60 finished with value: 0.8125783710159163 and parameters: {'n_estimators': 250, 'min_samples_leaf': 3, 'max_depth': 32}. Best is trial 2 with value: 0.8131586911412683.\u001b[0m\n",
      "\u001b[32m[I 2023-04-28 13:00:22,979]\u001b[0m Trial 65 finished with value: 0.8104145926550617 and parameters: {'n_estimators': 240, 'min_samples_leaf': 3, 'max_depth': 31}. Best is trial 2 with value: 0.8131586911412683.\u001b[0m\n",
      "\u001b[32m[I 2023-04-28 13:00:22,986]\u001b[0m Trial 61 finished with value: 0.8133322561192585 and parameters: {'n_estimators': 270, 'min_samples_leaf': 3, 'max_depth': 31}. Best is trial 61 with value: 0.8133322561192585.\u001b[0m\n",
      "\u001b[32m[I 2023-04-28 13:00:23,034]\u001b[0m Trial 62 finished with value: 0.8122125173573798 and parameters: {'n_estimators': 250, 'min_samples_leaf': 3, 'max_depth': 31}. Best is trial 61 with value: 0.8133322561192585.\u001b[0m\n",
      "\u001b[32m[I 2023-04-28 13:00:24,868]\u001b[0m Trial 63 finished with value: 0.8122180251357648 and parameters: {'n_estimators': 260, 'min_samples_leaf': 3, 'max_depth': 32}. Best is trial 61 with value: 0.8133322561192585.\u001b[0m\n",
      "\u001b[32m[I 2023-04-28 13:00:25,293]\u001b[0m Trial 64 finished with value: 0.8122125173573798 and parameters: {'n_estimators': 250, 'min_samples_leaf': 3, 'max_depth': 31}. Best is trial 61 with value: 0.8133322561192585.\u001b[0m\n",
      "\u001b[32m[I 2023-04-28 13:00:25,852]\u001b[0m Trial 66 finished with value: 0.8122125173573798 and parameters: {'n_estimators': 250, 'min_samples_leaf': 3, 'max_depth': 31}. Best is trial 61 with value: 0.8133322561192585.\u001b[0m\n",
      "\u001b[32m[I 2023-04-28 13:00:26,280]\u001b[0m Trial 69 finished with value: 0.8086165333525962 and parameters: {'n_estimators': 240, 'min_samples_leaf': 3, 'max_depth': 21}. Best is trial 61 with value: 0.8133322561192585.\u001b[0m\n",
      "\u001b[32m[I 2023-04-28 13:00:27,558]\u001b[0m Trial 72 finished with value: 0.8075306536585153 and parameters: {'n_estimators': 240, 'min_samples_leaf': 3, 'max_depth': 20}. Best is trial 61 with value: 0.8133322561192585.\u001b[0m\n",
      "\u001b[32m[I 2023-04-28 13:00:28,594]\u001b[0m Trial 68 finished with value: 0.8086165333525962 and parameters: {'n_estimators': 240, 'min_samples_leaf': 3, 'max_depth': 21}. Best is trial 61 with value: 0.8133322561192585.\u001b[0m\n",
      "\u001b[32m[I 2023-04-28 13:00:28,767]\u001b[0m Trial 67 finished with value: 0.8104145926550617 and parameters: {'n_estimators': 240, 'min_samples_leaf': 3, 'max_depth': 31}. Best is trial 61 with value: 0.8133322561192585.\u001b[0m\n",
      "\u001b[32m[I 2023-04-28 13:00:31,442]\u001b[0m Trial 71 finished with value: 0.8083219122853521 and parameters: {'n_estimators': 230, 'min_samples_leaf': 3, 'max_depth': 34}. Best is trial 61 with value: 0.8133322561192585.\u001b[0m\n",
      "\u001b[32m[I 2023-04-28 13:00:31,650]\u001b[0m Trial 70 finished with value: 0.8095489660517377 and parameters: {'n_estimators': 230, 'min_samples_leaf': 3, 'max_depth': 21}. Best is trial 61 with value: 0.8133322561192585.\u001b[0m\n",
      "\u001b[32m[I 2023-04-28 13:00:31,916]\u001b[0m Trial 77 finished with value: 0.8135390514343965 and parameters: {'n_estimators': 260, 'min_samples_leaf': 3, 'max_depth': 19}. Best is trial 77 with value: 0.8135390514343965.\u001b[0m\n",
      "\u001b[32m[I 2023-04-28 13:00:33,117]\u001b[0m Trial 73 finished with value: 0.8090328136610067 and parameters: {'n_estimators': 250, 'min_samples_leaf': 3, 'max_depth': 22}. Best is trial 77 with value: 0.8135390514343965.\u001b[0m\n",
      "\u001b[32m[I 2023-04-28 13:00:34,326]\u001b[0m Trial 74 finished with value: 0.8105441110092084 and parameters: {'n_estimators': 260, 'min_samples_leaf': 3, 'max_depth': 21}. Best is trial 77 with value: 0.8135390514343965.\u001b[0m\n",
      "\u001b[32m[I 2023-04-28 13:00:35,068]\u001b[0m Trial 76 finished with value: 0.8085885941060388 and parameters: {'n_estimators': 250, 'min_samples_leaf': 3, 'max_depth': 21}. Best is trial 77 with value: 0.8135390514343965.\u001b[0m\n",
      "\u001b[32m[I 2023-04-28 13:00:35,129]\u001b[0m Trial 79 finished with value: 0.8085885941060388 and parameters: {'n_estimators': 250, 'min_samples_leaf': 3, 'max_depth': 21}. Best is trial 77 with value: 0.8135390514343965.\u001b[0m\n",
      "\u001b[32m[I 2023-04-28 13:00:35,619]\u001b[0m Trial 78 finished with value: 0.8105441110092084 and parameters: {'n_estimators': 260, 'min_samples_leaf': 3, 'max_depth': 21}. Best is trial 77 with value: 0.8135390514343965.\u001b[0m\n",
      "\u001b[32m[I 2023-04-28 13:00:37,545]\u001b[0m Trial 75 finished with value: 0.8085885941060388 and parameters: {'n_estimators': 250, 'min_samples_leaf': 3, 'max_depth': 21}. Best is trial 77 with value: 0.8135390514343965.\u001b[0m\n",
      "\u001b[32m[I 2023-04-28 13:00:38,422]\u001b[0m Trial 80 finished with value: 0.8086165333525962 and parameters: {'n_estimators': 240, 'min_samples_leaf': 3, 'max_depth': 21}. Best is trial 77 with value: 0.8135390514343965.\u001b[0m\n",
      "\u001b[32m[I 2023-04-28 13:00:39,126]\u001b[0m Trial 81 finished with value: 0.8105441110092084 and parameters: {'n_estimators': 260, 'min_samples_leaf': 3, 'max_depth': 21}. Best is trial 77 with value: 0.8135390514343965.\u001b[0m\n",
      "\u001b[32m[I 2023-04-28 13:00:39,169]\u001b[0m Trial 84 finished with value: 0.8081596694255022 and parameters: {'n_estimators': 260, 'min_samples_leaf': 3, 'max_depth': 20}. Best is trial 77 with value: 0.8135390514343965.\u001b[0m\n",
      "\u001b[32m[I 2023-04-28 13:00:40,202]\u001b[0m Trial 82 finished with value: 0.8064321780794362 and parameters: {'n_estimators': 190, 'min_samples_leaf': 3, 'max_depth': 21}. Best is trial 77 with value: 0.8135390514343965.\u001b[0m\n",
      "\u001b[32m[I 2023-04-28 13:00:40,565]\u001b[0m Trial 86 finished with value: 0.8064321780794362 and parameters: {'n_estimators': 190, 'min_samples_leaf': 3, 'max_depth': 21}. Best is trial 77 with value: 0.8135390514343965.\u001b[0m\n",
      "\u001b[32m[I 2023-04-28 13:00:40,588]\u001b[0m Trial 87 finished with value: 0.8062309677578501 and parameters: {'n_estimators': 190, 'min_samples_leaf': 3, 'max_depth': 23}. Best is trial 77 with value: 0.8135390514343965.\u001b[0m\n",
      "\u001b[32m[I 2023-04-28 13:00:40,595]\u001b[0m Trial 83 finished with value: 0.8124324619846245 and parameters: {'n_estimators': 270, 'min_samples_leaf': 3, 'max_depth': 22}. Best is trial 77 with value: 0.8135390514343965.\u001b[0m\n",
      "\u001b[32m[I 2023-04-28 13:00:41,076]\u001b[0m Trial 85 finished with value: 0.8064321780794362 and parameters: {'n_estimators': 190, 'min_samples_leaf': 3, 'max_depth': 21}. Best is trial 77 with value: 0.8135390514343965.\u001b[0m\n",
      "\u001b[32m[I 2023-04-28 13:00:42,218]\u001b[0m Trial 88 finished with value: 0.8064028570137672 and parameters: {'n_estimators': 190, 'min_samples_leaf': 3, 'max_depth': 30}. Best is trial 77 with value: 0.8135390514343965.\u001b[0m\n",
      "\u001b[32m[I 2023-04-28 13:00:42,353]\u001b[0m Trial 89 finished with value: 0.8064321780794362 and parameters: {'n_estimators': 190, 'min_samples_leaf': 3, 'max_depth': 21}. Best is trial 77 with value: 0.8135390514343965.\u001b[0m\n",
      "\u001b[32m[I 2023-04-28 13:00:44,067]\u001b[0m Trial 90 finished with value: 0.8124324619846245 and parameters: {'n_estimators': 270, 'min_samples_leaf': 3, 'max_depth': 22}. Best is trial 77 with value: 0.8135390514343965.\u001b[0m\n",
      "\u001b[32m[I 2023-04-28 13:00:45,364]\u001b[0m Trial 93 finished with value: 0.8096788196163922 and parameters: {'n_estimators': 270, 'min_samples_leaf': 3, 'max_depth': 21}. Best is trial 77 with value: 0.8135390514343965.\u001b[0m\n",
      "\u001b[32m[I 2023-04-28 13:00:46,722]\u001b[0m Trial 91 finished with value: 0.8096788196163922 and parameters: {'n_estimators': 270, 'min_samples_leaf': 3, 'max_depth': 21}. Best is trial 77 with value: 0.8135390514343965.\u001b[0m\n",
      "\u001b[32m[I 2023-04-28 13:00:47,599]\u001b[0m Trial 92 finished with value: 0.8096788196163922 and parameters: {'n_estimators': 270, 'min_samples_leaf': 3, 'max_depth': 21}. Best is trial 77 with value: 0.8135390514343965.\u001b[0m\n",
      "\u001b[32m[I 2023-04-28 13:00:47,669]\u001b[0m Trial 94 finished with value: 0.8096788196163922 and parameters: {'n_estimators': 270, 'min_samples_leaf': 3, 'max_depth': 21}. Best is trial 77 with value: 0.8135390514343965.\u001b[0m\n",
      "\u001b[32m[I 2023-04-28 13:00:48,702]\u001b[0m Trial 95 finished with value: 0.8130889099709284 and parameters: {'n_estimators': 270, 'min_samples_leaf': 3, 'max_depth': 40}. Best is trial 77 with value: 0.8135390514343965.\u001b[0m\n",
      "\u001b[32m[I 2023-04-28 13:00:50,552]\u001b[0m Trial 97 finished with value: 0.8105441110092084 and parameters: {'n_estimators': 260, 'min_samples_leaf': 3, 'max_depth': 21}. Best is trial 77 with value: 0.8135390514343965.\u001b[0m\n",
      "\u001b[32m[I 2023-04-28 13:00:50,603]\u001b[0m Trial 99 finished with value: 0.8096788196163922 and parameters: {'n_estimators': 270, 'min_samples_leaf': 3, 'max_depth': 21}. Best is trial 77 with value: 0.8135390514343965.\u001b[0m\n",
      "\u001b[32m[I 2023-04-28 13:00:50,694]\u001b[0m Trial 96 finished with value: 0.8124324619846245 and parameters: {'n_estimators': 270, 'min_samples_leaf': 3, 'max_depth': 22}. Best is trial 77 with value: 0.8135390514343965.\u001b[0m\n",
      "\u001b[32m[I 2023-04-28 13:00:50,871]\u001b[0m Trial 98 finished with value: 0.8127393841572133 and parameters: {'n_estimators': 270, 'min_samples_leaf': 3, 'max_depth': 28}. Best is trial 77 with value: 0.8135390514343965.\u001b[0m\n",
      "\u001b[32m[I 2023-04-28 13:00:53,014]\u001b[0m Trial 100 finished with value: 0.8096788196163922 and parameters: {'n_estimators': 270, 'min_samples_leaf': 3, 'max_depth': 21}. Best is trial 77 with value: 0.8135390514343965.\u001b[0m\n",
      "\u001b[32m[I 2023-04-28 13:00:54,020]\u001b[0m Trial 101 finished with value: 0.8127393841572133 and parameters: {'n_estimators': 270, 'min_samples_leaf': 3, 'max_depth': 28}. Best is trial 77 with value: 0.8135390514343965.\u001b[0m\n",
      "\u001b[32m[I 2023-04-28 13:00:54,713]\u001b[0m Trial 102 finished with value: 0.8096788196163922 and parameters: {'n_estimators': 270, 'min_samples_leaf': 3, 'max_depth': 21}. Best is trial 77 with value: 0.8135390514343965.\u001b[0m\n",
      "\u001b[32m[I 2023-04-28 13:00:56,403]\u001b[0m Trial 105 finished with value: 0.8130889099709284 and parameters: {'n_estimators': 270, 'min_samples_leaf': 3, 'max_depth': 33}. Best is trial 77 with value: 0.8135390514343965.\u001b[0m\n",
      "\u001b[32m[I 2023-04-28 13:00:57,255]\u001b[0m Trial 103 finished with value: 0.8105441110092084 and parameters: {'n_estimators': 260, 'min_samples_leaf': 3, 'max_depth': 21}. Best is trial 77 with value: 0.8135390514343965.\u001b[0m\n",
      "\u001b[32m[I 2023-04-28 13:00:57,450]\u001b[0m Trial 106 finished with value: 0.8133322561192585 and parameters: {'n_estimators': 270, 'min_samples_leaf': 3, 'max_depth': 32}. Best is trial 77 with value: 0.8135390514343965.\u001b[0m\n",
      "\u001b[32m[I 2023-04-28 13:00:57,568]\u001b[0m Trial 108 finished with value: 0.8133322561192585 and parameters: {'n_estimators': 270, 'min_samples_leaf': 3, 'max_depth': 32}. Best is trial 77 with value: 0.8135390514343965.\u001b[0m\n",
      "\u001b[32m[I 2023-04-28 13:00:57,613]\u001b[0m Trial 104 finished with value: 0.8133322561192585 and parameters: {'n_estimators': 270, 'min_samples_leaf': 3, 'max_depth': 31}. Best is trial 77 with value: 0.8135390514343965.\u001b[0m\n",
      "\u001b[32m[I 2023-04-28 13:00:57,623]\u001b[0m Trial 110 finished with value: 0.8122180251357648 and parameters: {'n_estimators': 260, 'min_samples_leaf': 3, 'max_depth': 32}. Best is trial 77 with value: 0.8135390514343965.\u001b[0m\n",
      "\u001b[32m[I 2023-04-28 13:00:58,522]\u001b[0m Trial 107 finished with value: 0.8133322561192585 and parameters: {'n_estimators': 270, 'min_samples_leaf': 3, 'max_depth': 32}. Best is trial 77 with value: 0.8135390514343965.\u001b[0m\n",
      "\u001b[32m[I 2023-04-28 13:00:58,734]\u001b[0m Trial 111 finished with value: 0.8098981465417652 and parameters: {'n_estimators': 310, 'min_samples_leaf': 3, 'max_depth': 32}. Best is trial 77 with value: 0.8135390514343965.\u001b[0m\n",
      "\u001b[32m[I 2023-04-28 13:01:02,039]\u001b[0m Trial 109 finished with value: 0.8133322561192585 and parameters: {'n_estimators': 270, 'min_samples_leaf': 3, 'max_depth': 31}. Best is trial 77 with value: 0.8135390514343965.\u001b[0m\n",
      "\u001b[32m[I 2023-04-28 13:01:05,754]\u001b[0m Trial 114 finished with value: 0.8129720758490333 and parameters: {'n_estimators': 270, 'min_samples_leaf': 3, 'max_depth': 29}. Best is trial 77 with value: 0.8135390514343965.\u001b[0m\n",
      "\u001b[32m[I 2023-04-28 13:01:05,995]\u001b[0m Trial 112 finished with value: 0.8133322561192585 and parameters: {'n_estimators': 270, 'min_samples_leaf': 3, 'max_depth': 31}. Best is trial 77 with value: 0.8135390514343965.\u001b[0m\n",
      "\u001b[32m[I 2023-04-28 13:01:06,107]\u001b[0m Trial 113 finished with value: 0.8129720758490333 and parameters: {'n_estimators': 270, 'min_samples_leaf': 3, 'max_depth': 29}. Best is trial 77 with value: 0.8135390514343965.\u001b[0m\n",
      "\u001b[32m[I 2023-04-28 13:01:06,922]\u001b[0m Trial 120 finished with value: 0.8127393841572133 and parameters: {'n_estimators': 270, 'min_samples_leaf': 3, 'max_depth': 28}. Best is trial 77 with value: 0.8135390514343965.\u001b[0m\n",
      "\u001b[32m[I 2023-04-28 13:01:07,966]\u001b[0m Trial 118 finished with value: 0.8127393841572133 and parameters: {'n_estimators': 270, 'min_samples_leaf': 3, 'max_depth': 28}. Best is trial 77 with value: 0.8135390514343965.\u001b[0m\n",
      "\u001b[32m[I 2023-04-28 13:01:07,992]\u001b[0m Trial 119 finished with value: 0.8127393841572133 and parameters: {'n_estimators': 270, 'min_samples_leaf': 3, 'max_depth': 28}. Best is trial 77 with value: 0.8135390514343965.\u001b[0m\n",
      "\u001b[32m[I 2023-04-28 13:01:08,005]\u001b[0m Trial 115 finished with value: 0.8129720758490333 and parameters: {'n_estimators': 270, 'min_samples_leaf': 3, 'max_depth': 29}. Best is trial 77 with value: 0.8135390514343965.\u001b[0m\n",
      "\u001b[32m[I 2023-04-28 13:01:08,167]\u001b[0m Trial 117 finished with value: 0.8129720758490333 and parameters: {'n_estimators': 270, 'min_samples_leaf': 3, 'max_depth': 29}. Best is trial 77 with value: 0.8135390514343965.\u001b[0m\n",
      "\u001b[32m[I 2023-04-28 13:01:08,236]\u001b[0m Trial 116 finished with value: 0.8122223823472996 and parameters: {'n_estimators': 260, 'min_samples_leaf': 3, 'max_depth': 29}. Best is trial 77 with value: 0.8135390514343965.\u001b[0m\n",
      "\u001b[32m[I 2023-04-28 13:01:12,214]\u001b[0m Trial 122 finished with value: 0.8129720758490333 and parameters: {'n_estimators': 270, 'min_samples_leaf': 3, 'max_depth': 29}. Best is trial 77 with value: 0.8135390514343965.\u001b[0m\n",
      "\u001b[32m[I 2023-04-28 13:01:12,586]\u001b[0m Trial 121 finished with value: 0.8122180251357648 and parameters: {'n_estimators': 260, 'min_samples_leaf': 3, 'max_depth': 30}. Best is trial 77 with value: 0.8135390514343965.\u001b[0m\n",
      "\u001b[32m[I 2023-04-28 13:01:13,787]\u001b[0m Trial 123 finished with value: 0.8129720758490333 and parameters: {'n_estimators': 270, 'min_samples_leaf': 3, 'max_depth': 29}. Best is trial 77 with value: 0.8135390514343965.\u001b[0m\n",
      "\u001b[32m[I 2023-04-28 13:01:13,836]\u001b[0m Trial 124 finished with value: 0.8129720758490333 and parameters: {'n_estimators': 270, 'min_samples_leaf': 3, 'max_depth': 29}. Best is trial 77 with value: 0.8135390514343965.\u001b[0m\n",
      "\u001b[32m[I 2023-04-28 13:01:14,191]\u001b[0m Trial 125 finished with value: 0.8129720758490333 and parameters: {'n_estimators': 270, 'min_samples_leaf': 3, 'max_depth': 29}. Best is trial 77 with value: 0.8135390514343965.\u001b[0m\n",
      "\u001b[32m[I 2023-04-28 13:01:15,220]\u001b[0m Trial 127 finished with value: 0.8129720758490333 and parameters: {'n_estimators': 270, 'min_samples_leaf': 3, 'max_depth': 29}. Best is trial 77 with value: 0.8135390514343965.\u001b[0m\n",
      "\u001b[32m[I 2023-04-28 13:01:16,039]\u001b[0m Trial 126 finished with value: 0.8100212165798049 and parameters: {'n_estimators': 310, 'min_samples_leaf': 3, 'max_depth': 28}. Best is trial 77 with value: 0.8135390514343965.\u001b[0m\n",
      "\u001b[32m[I 2023-04-28 13:01:17,768]\u001b[0m Trial 128 finished with value: 0.809903855499671 and parameters: {'n_estimators': 310, 'min_samples_leaf': 3, 'max_depth': 29}. Best is trial 77 with value: 0.8135390514343965.\u001b[0m\n",
      "\u001b[32m[I 2023-04-28 13:01:19,895]\u001b[0m Trial 129 finished with value: 0.809903855499671 and parameters: {'n_estimators': 310, 'min_samples_leaf': 3, 'max_depth': 29}. Best is trial 77 with value: 0.8135390514343965.\u001b[0m\n",
      "\u001b[32m[I 2023-04-28 13:01:20,429]\u001b[0m Trial 130 finished with value: 0.8128306244847238 and parameters: {'n_estimators': 280, 'min_samples_leaf': 3, 'max_depth': 29}. Best is trial 77 with value: 0.8135390514343965.\u001b[0m\n",
      "\u001b[32m[I 2023-04-28 13:01:23,426]\u001b[0m Trial 131 finished with value: 0.809903855499671 and parameters: {'n_estimators': 310, 'min_samples_leaf': 3, 'max_depth': 29}. Best is trial 77 with value: 0.8135390514343965.\u001b[0m\n",
      "\u001b[32m[I 2023-04-28 13:01:23,427]\u001b[0m Trial 133 finished with value: 0.8129720758490333 and parameters: {'n_estimators': 270, 'min_samples_leaf': 3, 'max_depth': 29}. Best is trial 77 with value: 0.8135390514343965.\u001b[0m\n",
      "\u001b[32m[I 2023-04-28 13:01:23,428]\u001b[0m Trial 132 finished with value: 0.8100255991391295 and parameters: {'n_estimators': 310, 'min_samples_leaf': 3, 'max_depth': 30}. Best is trial 77 with value: 0.8135390514343965.\u001b[0m\n",
      "\u001b[32m[I 2023-04-28 13:01:23,431]\u001b[0m Trial 134 finished with value: 0.8133322561192585 and parameters: {'n_estimators': 270, 'min_samples_leaf': 3, 'max_depth': 32}. Best is trial 77 with value: 0.8135390514343965.\u001b[0m\n",
      "\u001b[32m[I 2023-04-28 13:01:23,433]\u001b[0m Trial 136 finished with value: 0.8081020703179016 and parameters: {'n_estimators': 270, 'min_samples_leaf': 4, 'max_depth': 29}. Best is trial 77 with value: 0.8135390514343965.\u001b[0m\n",
      "\u001b[32m[I 2023-04-28 13:01:23,434]\u001b[0m Trial 135 finished with value: 0.8129720758490333 and parameters: {'n_estimators': 270, 'min_samples_leaf': 3, 'max_depth': 29}. Best is trial 77 with value: 0.8135390514343965.\u001b[0m\n",
      "\u001b[32m[I 2023-04-28 13:01:26,819]\u001b[0m Trial 141 finished with value: 0.8081080510006231 and parameters: {'n_estimators': 280, 'min_samples_leaf': 4, 'max_depth': 29}. Best is trial 77 with value: 0.8135390514343965.\u001b[0m\n",
      "\u001b[32m[I 2023-04-28 13:01:26,823]\u001b[0m Trial 137 finished with value: 0.8081080510006231 and parameters: {'n_estimators': 280, 'min_samples_leaf': 4, 'max_depth': 29}. Best is trial 77 with value: 0.8135390514343965.\u001b[0m\n",
      "\u001b[32m[I 2023-04-28 13:01:27,185]\u001b[0m Trial 138 finished with value: 0.8128306244847238 and parameters: {'n_estimators': 280, 'min_samples_leaf': 3, 'max_depth': 28}. Best is trial 77 with value: 0.8135390514343965.\u001b[0m\n",
      "\u001b[32m[I 2023-04-28 13:01:27,372]\u001b[0m Trial 140 finished with value: 0.8081080510006231 and parameters: {'n_estimators': 280, 'min_samples_leaf': 4, 'max_depth': 29}. Best is trial 77 with value: 0.8135390514343965.\u001b[0m\n",
      "\u001b[32m[I 2023-04-28 13:01:29,364]\u001b[0m Trial 139 finished with value: 0.809903855499671 and parameters: {'n_estimators': 310, 'min_samples_leaf': 3, 'max_depth': 29}. Best is trial 77 with value: 0.8135390514343965.\u001b[0m\n",
      "\u001b[32m[I 2023-04-28 13:01:29,869]\u001b[0m Trial 144 finished with value: 0.8076225216112751 and parameters: {'n_estimators': 280, 'min_samples_leaf': 4, 'max_depth': 28}. Best is trial 77 with value: 0.8135390514343965.\u001b[0m\n",
      "\u001b[32m[I 2023-04-28 13:01:29,900]\u001b[0m Trial 142 finished with value: 0.8081080510006231 and parameters: {'n_estimators': 280, 'min_samples_leaf': 4, 'max_depth': 29}. Best is trial 77 with value: 0.8135390514343965.\u001b[0m\n",
      "\u001b[32m[I 2023-04-28 13:01:29,917]\u001b[0m Trial 143 finished with value: 0.8076225216112751 and parameters: {'n_estimators': 280, 'min_samples_leaf': 4, 'max_depth': 28}. Best is trial 77 with value: 0.8135390514343965.\u001b[0m\n",
      "\u001b[32m[I 2023-04-28 13:01:31,540]\u001b[0m Trial 145 finished with value: 0.8091372973738095 and parameters: {'n_estimators': 310, 'min_samples_leaf': 4, 'max_depth': 17}. Best is trial 77 with value: 0.8135390514343965.\u001b[0m\n",
      "\u001b[32m[I 2023-04-28 13:01:34,637]\u001b[0m Trial 146 finished with value: 0.8076225216112751 and parameters: {'n_estimators': 280, 'min_samples_leaf': 4, 'max_depth': 28}. Best is trial 77 with value: 0.8135390514343965.\u001b[0m\n",
      "\u001b[32m[I 2023-04-28 13:01:35,720]\u001b[0m Trial 150 finished with value: 0.8076225216112751 and parameters: {'n_estimators': 280, 'min_samples_leaf': 4, 'max_depth': 28}. Best is trial 77 with value: 0.8135390514343965.\u001b[0m\n",
      "\u001b[32m[I 2023-04-28 13:01:36,277]\u001b[0m Trial 149 finished with value: 0.8079789792410773 and parameters: {'n_estimators': 310, 'min_samples_leaf': 4, 'max_depth': 29}. Best is trial 77 with value: 0.8135390514343965.\u001b[0m\n",
      "\u001b[32m[I 2023-04-28 13:01:36,460]\u001b[0m Trial 147 finished with value: 0.8073117574366521 and parameters: {'n_estimators': 280, 'min_samples_leaf': 4, 'max_depth': 17}. Best is trial 77 with value: 0.8135390514343965.\u001b[0m\n",
      "\u001b[32m[I 2023-04-28 13:01:36,470]\u001b[0m Trial 148 finished with value: 0.8079789792410773 and parameters: {'n_estimators': 310, 'min_samples_leaf': 4, 'max_depth': 29}. Best is trial 77 with value: 0.8135390514343965.\u001b[0m\n",
      "\u001b[32m[I 2023-04-28 13:01:36,886]\u001b[0m Trial 151 finished with value: 0.8085860792536629 and parameters: {'n_estimators': 280, 'min_samples_leaf': 4, 'max_depth': 26}. Best is trial 77 with value: 0.8135390514343965.\u001b[0m\n",
      "\u001b[32m[I 2023-04-28 13:01:38,213]\u001b[0m Trial 152 finished with value: 0.8079789792410773 and parameters: {'n_estimators': 310, 'min_samples_leaf': 4, 'max_depth': 29}. Best is trial 77 with value: 0.8135390514343965.\u001b[0m\n",
      "\u001b[32m[I 2023-04-28 13:01:38,808]\u001b[0m Trial 154 finished with value: 0.8076225216112751 and parameters: {'n_estimators': 280, 'min_samples_leaf': 4, 'max_depth': 28}. Best is trial 77 with value: 0.8135390514343965.\u001b[0m\n",
      "\u001b[32m[I 2023-04-28 13:01:40,119]\u001b[0m Trial 153 finished with value: 0.8081080510006231 and parameters: {'n_estimators': 280, 'min_samples_leaf': 4, 'max_depth': 29}. Best is trial 77 with value: 0.8135390514343965.\u001b[0m\n",
      "\u001b[32m[I 2023-04-28 13:01:41,447]\u001b[0m Trial 155 finished with value: 0.8077350940939663 and parameters: {'n_estimators': 310, 'min_samples_leaf': 4, 'max_depth': 28}. Best is trial 77 with value: 0.8135390514343965.\u001b[0m\n",
      "\u001b[32m[I 2023-04-28 13:01:43,536]\u001b[0m Trial 159 finished with value: 0.8081080510006231 and parameters: {'n_estimators': 280, 'min_samples_leaf': 4, 'max_depth': 29}. Best is trial 77 with value: 0.8135390514343965.\u001b[0m\n",
      "\u001b[32m[I 2023-04-28 13:01:44,429]\u001b[0m Trial 156 finished with value: 0.8079789792410773 and parameters: {'n_estimators': 310, 'min_samples_leaf': 4, 'max_depth': 29}. Best is trial 77 with value: 0.8135390514343965.\u001b[0m\n",
      "\u001b[32m[I 2023-04-28 13:01:45,339]\u001b[0m Trial 158 finished with value: 0.8081080510006231 and parameters: {'n_estimators': 280, 'min_samples_leaf': 4, 'max_depth': 29}. Best is trial 77 with value: 0.8135390514343965.\u001b[0m\n",
      "\u001b[32m[I 2023-04-28 13:01:45,600]\u001b[0m Trial 157 finished with value: 0.8076225216112751 and parameters: {'n_estimators': 280, 'min_samples_leaf': 4, 'max_depth': 28}. Best is trial 77 with value: 0.8135390514343965.\u001b[0m\n",
      "\u001b[32m[I 2023-04-28 13:01:45,746]\u001b[0m Trial 162 finished with value: 0.8081080510006231 and parameters: {'n_estimators': 280, 'min_samples_leaf': 4, 'max_depth': 29}. Best is trial 77 with value: 0.8135390514343965.\u001b[0m\n",
      "\u001b[32m[I 2023-04-28 13:01:45,937]\u001b[0m Trial 160 finished with value: 0.8081080510006231 and parameters: {'n_estimators': 280, 'min_samples_leaf': 4, 'max_depth': 29}. Best is trial 77 with value: 0.8135390514343965.\u001b[0m\n",
      "\u001b[32m[I 2023-04-28 13:01:47,138]\u001b[0m Trial 163 finished with value: 0.8081080510006231 and parameters: {'n_estimators': 280, 'min_samples_leaf': 4, 'max_depth': 29}. Best is trial 77 with value: 0.8135390514343965.\u001b[0m\n",
      "\u001b[32m[I 2023-04-28 13:01:47,196]\u001b[0m Trial 161 finished with value: 0.8081080510006231 and parameters: {'n_estimators': 280, 'min_samples_leaf': 4, 'max_depth': 29}. Best is trial 77 with value: 0.8135390514343965.\u001b[0m\n",
      "\u001b[32m[I 2023-04-28 13:01:49,073]\u001b[0m Trial 164 finished with value: 0.8084784108999756 and parameters: {'n_estimators': 280, 'min_samples_leaf': 4, 'max_depth': 33}. Best is trial 77 with value: 0.8135390514343965.\u001b[0m\n",
      "\u001b[32m[I 2023-04-28 13:01:49,611]\u001b[0m Trial 167 finished with value: 0.8084784108999756 and parameters: {'n_estimators': 280, 'min_samples_leaf': 4, 'max_depth': 33}. Best is trial 77 with value: 0.8135390514343965.\u001b[0m\n",
      "\u001b[32m[I 2023-04-28 13:01:49,625]\u001b[0m Trial 165 finished with value: 0.8084784108999756 and parameters: {'n_estimators': 280, 'min_samples_leaf': 4, 'max_depth': 33}. Best is trial 77 with value: 0.8135390514343965.\u001b[0m\n",
      "\u001b[32m[I 2023-04-28 13:01:53,504]\u001b[0m Trial 169 finished with value: 0.8085965728669471 and parameters: {'n_estimators': 280, 'min_samples_leaf': 4, 'max_depth': 30}. Best is trial 77 with value: 0.8135390514343965.\u001b[0m\n",
      "\u001b[32m[I 2023-04-28 13:01:53,558]\u001b[0m Trial 168 finished with value: 0.8085965728669471 and parameters: {'n_estimators': 280, 'min_samples_leaf': 4, 'max_depth': 30}. Best is trial 77 with value: 0.8135390514343965.\u001b[0m\n",
      "\u001b[32m[I 2023-04-28 13:01:54,046]\u001b[0m Trial 166 finished with value: 0.8084784108999756 and parameters: {'n_estimators': 280, 'min_samples_leaf': 4, 'max_depth': 33}. Best is trial 77 with value: 0.8135390514343965.\u001b[0m\n",
      "\u001b[32m[I 2023-04-28 13:01:54,062]\u001b[0m Trial 170 finished with value: 0.8084784108999756 and parameters: {'n_estimators': 280, 'min_samples_leaf': 4, 'max_depth': 33}. Best is trial 77 with value: 0.8135390514343965.\u001b[0m\n",
      "\u001b[32m[I 2023-04-28 13:01:54,438]\u001b[0m Trial 171 finished with value: 0.8133089031934124 and parameters: {'n_estimators': 280, 'min_samples_leaf': 3, 'max_depth': 33}. Best is trial 77 with value: 0.8135390514343965.\u001b[0m\n",
      "\u001b[32m[I 2023-04-28 13:01:55,140]\u001b[0m Trial 172 finished with value: 0.8084784108999756 and parameters: {'n_estimators': 280, 'min_samples_leaf': 4, 'max_depth': 33}. Best is trial 77 with value: 0.8135390514343965.\u001b[0m\n",
      "\u001b[32m[I 2023-04-28 13:01:56,302]\u001b[0m Trial 174 finished with value: 0.8084784108999756 and parameters: {'n_estimators': 280, 'min_samples_leaf': 4, 'max_depth': 33}. Best is trial 77 with value: 0.8135390514343965.\u001b[0m\n",
      "\u001b[32m[I 2023-04-28 13:01:57,137]\u001b[0m Trial 173 finished with value: 0.8084784108999756 and parameters: {'n_estimators': 280, 'min_samples_leaf': 4, 'max_depth': 33}. Best is trial 77 with value: 0.8135390514343965.\u001b[0m\n",
      "\u001b[32m[I 2023-04-28 13:01:59,164]\u001b[0m Trial 175 finished with value: 0.8084784108999756 and parameters: {'n_estimators': 280, 'min_samples_leaf': 4, 'max_depth': 33}. Best is trial 77 with value: 0.8135390514343965.\u001b[0m\n",
      "\u001b[32m[I 2023-04-28 13:02:00,690]\u001b[0m Trial 177 finished with value: 0.8084784108999756 and parameters: {'n_estimators': 280, 'min_samples_leaf': 4, 'max_depth': 31}. Best is trial 77 with value: 0.8135390514343965.\u001b[0m\n",
      "\u001b[32m[I 2023-04-28 13:02:00,823]\u001b[0m Trial 176 finished with value: 0.8084784108999756 and parameters: {'n_estimators': 280, 'min_samples_leaf': 4, 'max_depth': 33}. Best is trial 77 with value: 0.8135390514343965.\u001b[0m\n",
      "\u001b[32m[I 2023-04-28 13:02:01,024]\u001b[0m Trial 178 finished with value: 0.8085965728669471 and parameters: {'n_estimators': 280, 'min_samples_leaf': 4, 'max_depth': 30}. Best is trial 77 with value: 0.8135390514343965.\u001b[0m\n",
      "\u001b[32m[I 2023-04-28 13:02:01,662]\u001b[0m Trial 180 finished with value: 0.8084784108999756 and parameters: {'n_estimators': 280, 'min_samples_leaf': 4, 'max_depth': 33}. Best is trial 77 with value: 0.8135390514343965.\u001b[0m\n",
      "\u001b[32m[I 2023-04-28 13:02:01,763]\u001b[0m Trial 179 finished with value: 0.8133089031934124 and parameters: {'n_estimators': 280, 'min_samples_leaf': 3, 'max_depth': 33}. Best is trial 77 with value: 0.8135390514343965.\u001b[0m\n",
      "\u001b[32m[I 2023-04-28 13:02:01,845]\u001b[0m Trial 183 finished with value: 0.8084784108999756 and parameters: {'n_estimators': 280, 'min_samples_leaf': 4, 'max_depth': 33}. Best is trial 77 with value: 0.8135390514343965.\u001b[0m\n",
      "\u001b[32m[I 2023-04-28 13:02:02,915]\u001b[0m Trial 182 finished with value: 0.8084784108999756 and parameters: {'n_estimators': 280, 'min_samples_leaf': 4, 'max_depth': 33}. Best is trial 77 with value: 0.8135390514343965.\u001b[0m\n",
      "\u001b[32m[I 2023-04-28 13:02:03,492]\u001b[0m Trial 181 finished with value: 0.8133089031934124 and parameters: {'n_estimators': 280, 'min_samples_leaf': 3, 'max_depth': 33}. Best is trial 77 with value: 0.8135390514343965.\u001b[0m\n",
      "\u001b[32m[I 2023-04-28 13:02:08,687]\u001b[0m Trial 186 finished with value: 0.8133089031934124 and parameters: {'n_estimators': 280, 'min_samples_leaf': 3, 'max_depth': 33}. Best is trial 77 with value: 0.8135390514343965.\u001b[0m\n",
      "\u001b[32m[I 2023-04-28 13:02:09,238]\u001b[0m Trial 188 finished with value: 0.8119935906656067 and parameters: {'n_estimators': 290, 'min_samples_leaf': 3, 'max_depth': 33}. Best is trial 77 with value: 0.8135390514343965.\u001b[0m\n",
      "\u001b[32m[I 2023-04-28 13:02:09,396]\u001b[0m Trial 187 finished with value: 0.8119935906656067 and parameters: {'n_estimators': 290, 'min_samples_leaf': 3, 'max_depth': 33}. Best is trial 77 with value: 0.8135390514343965.\u001b[0m\n",
      "\u001b[32m[I 2023-04-28 13:02:10,121]\u001b[0m Trial 189 finished with value: 0.8117489423475639 and parameters: {'n_estimators': 290, 'min_samples_leaf': 3, 'max_depth': 31}. Best is trial 77 with value: 0.8135390514343965.\u001b[0m\n",
      "\u001b[32m[I 2023-04-28 13:02:11,688]\u001b[0m Trial 184 finished with value: 0.8084784108999756 and parameters: {'n_estimators': 280, 'min_samples_leaf': 4, 'max_depth': 33}. Best is trial 77 with value: 0.8135390514343965.\u001b[0m\n",
      "\u001b[32m[I 2023-04-28 13:02:11,908]\u001b[0m Trial 185 finished with value: 0.8133089031934124 and parameters: {'n_estimators': 280, 'min_samples_leaf': 3, 'max_depth': 33}. Best is trial 77 with value: 0.8135390514343965.\u001b[0m\n",
      "\u001b[32m[I 2023-04-28 13:02:16,076]\u001b[0m Trial 190 finished with value: 0.8117489423475639 and parameters: {'n_estimators': 290, 'min_samples_leaf': 3, 'max_depth': 31}. Best is trial 77 with value: 0.8135390514343965.\u001b[0m\n",
      "\u001b[32m[I 2023-04-28 13:02:16,658]\u001b[0m Trial 192 finished with value: 0.8133089031934124 and parameters: {'n_estimators': 280, 'min_samples_leaf': 3, 'max_depth': 33}. Best is trial 77 with value: 0.8135390514343965.\u001b[0m\n",
      "\u001b[32m[I 2023-04-28 13:02:16,698]\u001b[0m Trial 191 finished with value: 0.8119935906656067 and parameters: {'n_estimators': 290, 'min_samples_leaf': 3, 'max_depth': 33}. Best is trial 77 with value: 0.8135390514343965.\u001b[0m\n",
      "\u001b[32m[I 2023-04-28 13:02:18,367]\u001b[0m Trial 195 finished with value: 0.8117489423475639 and parameters: {'n_estimators': 290, 'min_samples_leaf': 3, 'max_depth': 31}. Best is trial 77 with value: 0.8135390514343965.\u001b[0m\n",
      "\u001b[32m[I 2023-04-28 13:02:19,657]\u001b[0m Trial 193 finished with value: 0.8119935906656067 and parameters: {'n_estimators': 290, 'min_samples_leaf': 3, 'max_depth': 33}. Best is trial 77 with value: 0.8135390514343965.\u001b[0m\n",
      "\u001b[32m[I 2023-04-28 13:02:19,677]\u001b[0m Trial 199 finished with value: 0.8119935906656067 and parameters: {'n_estimators': 290, 'min_samples_leaf': 3, 'max_depth': 33}. Best is trial 77 with value: 0.8135390514343965.\u001b[0m\n",
      "\u001b[32m[I 2023-04-28 13:02:19,680]\u001b[0m Trial 198 finished with value: 0.8117489423475639 and parameters: {'n_estimators': 290, 'min_samples_leaf': 3, 'max_depth': 31}. Best is trial 77 with value: 0.8135390514343965.\u001b[0m\n",
      "\u001b[32m[I 2023-04-28 13:02:19,682]\u001b[0m Trial 194 finished with value: 0.8119935906656067 and parameters: {'n_estimators': 290, 'min_samples_leaf': 3, 'max_depth': 33}. Best is trial 77 with value: 0.8135390514343965.\u001b[0m\n",
      "\u001b[32m[I 2023-04-28 13:02:20,152]\u001b[0m Trial 197 finished with value: 0.8119935906656067 and parameters: {'n_estimators': 290, 'min_samples_leaf': 3, 'max_depth': 33}. Best is trial 77 with value: 0.8135390514343965.\u001b[0m\n",
      "\u001b[32m[I 2023-04-28 13:02:23,586]\u001b[0m Trial 196 finished with value: 0.8119935906656067 and parameters: {'n_estimators': 290, 'min_samples_leaf': 3, 'max_depth': 33}. Best is trial 77 with value: 0.8135390514343965.\u001b[0m\n",
      "\u001b[32m[I 2023-04-28 13:02:24,411]\u001b[0m Trial 200 finished with value: 0.8119935906656067 and parameters: {'n_estimators': 290, 'min_samples_leaf': 3, 'max_depth': 33}. Best is trial 77 with value: 0.8135390514343965.\u001b[0m\n",
      "\u001b[32m[I 2023-04-28 13:02:27,064]\u001b[0m Trial 201 finished with value: 0.8117489423475639 and parameters: {'n_estimators': 290, 'min_samples_leaf': 3, 'max_depth': 31}. Best is trial 77 with value: 0.8135390514343965.\u001b[0m\n",
      "\u001b[32m[I 2023-04-28 13:02:27,468]\u001b[0m Trial 202 finished with value: 0.8119935906656067 and parameters: {'n_estimators': 290, 'min_samples_leaf': 3, 'max_depth': 33}. Best is trial 77 with value: 0.8135390514343965.\u001b[0m\n",
      "\u001b[32m[I 2023-04-28 13:02:28,552]\u001b[0m Trial 206 finished with value: 0.8119935906656067 and parameters: {'n_estimators': 290, 'min_samples_leaf': 3, 'max_depth': 33}. Best is trial 77 with value: 0.8135390514343965.\u001b[0m\n",
      "\u001b[32m[I 2023-04-28 13:02:28,751]\u001b[0m Trial 205 finished with value: 0.8119935906656067 and parameters: {'n_estimators': 290, 'min_samples_leaf': 3, 'max_depth': 33}. Best is trial 77 with value: 0.8135390514343965.\u001b[0m\n",
      "\u001b[32m[I 2023-04-28 13:02:29,510]\u001b[0m Trial 203 finished with value: 0.8119935906656067 and parameters: {'n_estimators': 290, 'min_samples_leaf': 3, 'max_depth': 33}. Best is trial 77 with value: 0.8135390514343965.\u001b[0m\n",
      "\u001b[32m[I 2023-04-28 13:02:30,058]\u001b[0m Trial 209 finished with value: 0.8119935906656067 and parameters: {'n_estimators': 290, 'min_samples_leaf': 3, 'max_depth': 33}. Best is trial 77 with value: 0.8135390514343965.\u001b[0m\n",
      "\u001b[32m[I 2023-04-28 13:02:31,091]\u001b[0m Trial 208 finished with value: 0.8117489423475639 and parameters: {'n_estimators': 290, 'min_samples_leaf': 3, 'max_depth': 31}. Best is trial 77 with value: 0.8135390514343965.\u001b[0m\n",
      "\u001b[32m[I 2023-04-28 13:02:31,601]\u001b[0m Trial 204 finished with value: 0.8119935906656067 and parameters: {'n_estimators': 290, 'min_samples_leaf': 3, 'max_depth': 33}. Best is trial 77 with value: 0.8135390514343965.\u001b[0m\n",
      "\u001b[32m[I 2023-04-28 13:02:31,602]\u001b[0m Trial 207 finished with value: 0.8119935906656067 and parameters: {'n_estimators': 290, 'min_samples_leaf': 3, 'max_depth': 33}. Best is trial 77 with value: 0.8135390514343965.\u001b[0m\n",
      "\u001b[32m[I 2023-04-28 13:02:36,755]\u001b[0m Trial 211 finished with value: 0.8119935906656067 and parameters: {'n_estimators': 290, 'min_samples_leaf': 3, 'max_depth': 33}. Best is trial 77 with value: 0.8135390514343965.\u001b[0m\n",
      "\u001b[32m[I 2023-04-28 13:02:37,216]\u001b[0m Trial 210 finished with value: 0.8119935906656067 and parameters: {'n_estimators': 290, 'min_samples_leaf': 3, 'max_depth': 33}. Best is trial 77 with value: 0.8135390514343965.\u001b[0m\n",
      "\u001b[32m[I 2023-04-28 13:02:38,506]\u001b[0m Trial 212 finished with value: 0.8117489423475639 and parameters: {'n_estimators': 290, 'min_samples_leaf': 3, 'max_depth': 31}. Best is trial 77 with value: 0.8135390514343965.\u001b[0m\n",
      "\u001b[32m[I 2023-04-28 13:02:38,655]\u001b[0m Trial 214 finished with value: 0.8117489423475639 and parameters: {'n_estimators': 290, 'min_samples_leaf': 3, 'max_depth': 31}. Best is trial 77 with value: 0.8135390514343965.\u001b[0m\n",
      "\u001b[32m[I 2023-04-28 13:02:38,659]\u001b[0m Trial 216 finished with value: 0.8117489423475639 and parameters: {'n_estimators': 290, 'min_samples_leaf': 3, 'max_depth': 31}. Best is trial 77 with value: 0.8135390514343965.\u001b[0m\n",
      "\u001b[32m[I 2023-04-28 13:02:38,669]\u001b[0m Trial 213 finished with value: 0.8117489423475639 and parameters: {'n_estimators': 290, 'min_samples_leaf': 3, 'max_depth': 31}. Best is trial 77 with value: 0.8135390514343965.\u001b[0m\n",
      "\u001b[32m[I 2023-04-28 13:02:39,144]\u001b[0m Trial 217 finished with value: 0.8117489423475639 and parameters: {'n_estimators': 290, 'min_samples_leaf': 3, 'max_depth': 31}. Best is trial 77 with value: 0.8135390514343965.\u001b[0m\n",
      "\u001b[32m[I 2023-04-28 13:02:39,202]\u001b[0m Trial 215 finished with value: 0.8117489423475639 and parameters: {'n_estimators': 290, 'min_samples_leaf': 3, 'max_depth': 31}. Best is trial 77 with value: 0.8135390514343965.\u001b[0m\n",
      "\u001b[32m[I 2023-04-28 13:02:40,018]\u001b[0m Trial 218 finished with value: 0.8117489423475639 and parameters: {'n_estimators': 290, 'min_samples_leaf': 3, 'max_depth': 31}. Best is trial 77 with value: 0.8135390514343965.\u001b[0m\n",
      "\u001b[32m[I 2023-04-28 13:02:40,163]\u001b[0m Trial 219 finished with value: 0.8117489423475639 and parameters: {'n_estimators': 290, 'min_samples_leaf': 3, 'max_depth': 31}. Best is trial 77 with value: 0.8135390514343965.\u001b[0m\n",
      "\u001b[32m[I 2023-04-28 13:02:40,243]\u001b[0m Trial 220 finished with value: 0.8117489423475639 and parameters: {'n_estimators': 290, 'min_samples_leaf': 3, 'max_depth': 31}. Best is trial 77 with value: 0.8135390514343965.\u001b[0m\n",
      "\u001b[32m[I 2023-04-28 13:02:43,748]\u001b[0m Trial 221 finished with value: 0.8117489423475639 and parameters: {'n_estimators': 290, 'min_samples_leaf': 3, 'max_depth': 31}. Best is trial 77 with value: 0.8135390514343965.\u001b[0m\n",
      "\u001b[32m[I 2023-04-28 13:02:47,905]\u001b[0m Trial 222 finished with value: 0.8117489423475639 and parameters: {'n_estimators': 290, 'min_samples_leaf': 3, 'max_depth': 31}. Best is trial 77 with value: 0.8135390514343965.\u001b[0m\n",
      "\u001b[32m[I 2023-04-28 13:02:48,061]\u001b[0m Trial 224 finished with value: 0.8121147960061006 and parameters: {'n_estimators': 290, 'min_samples_leaf': 3, 'max_depth': 32}. Best is trial 77 with value: 0.8135390514343965.\u001b[0m\n",
      "\u001b[32m[I 2023-04-28 13:02:48,612]\u001b[0m Trial 226 finished with value: 0.8117489423475639 and parameters: {'n_estimators': 290, 'min_samples_leaf': 3, 'max_depth': 31}. Best is trial 77 with value: 0.8135390514343965.\u001b[0m\n",
      "\u001b[32m[I 2023-04-28 13:02:49,480]\u001b[0m Trial 228 finished with value: 0.8121147960061006 and parameters: {'n_estimators': 290, 'min_samples_leaf': 3, 'max_depth': 32}. Best is trial 77 with value: 0.8135390514343965.\u001b[0m\n",
      "\u001b[32m[I 2023-04-28 13:02:49,526]\u001b[0m Trial 225 finished with value: 0.8122180251357648 and parameters: {'n_estimators': 260, 'min_samples_leaf': 3, 'max_depth': 32}. Best is trial 77 with value: 0.8135390514343965.\u001b[0m\n",
      "\u001b[32m[I 2023-04-28 13:02:49,528]\u001b[0m Trial 223 finished with value: 0.8117489423475639 and parameters: {'n_estimators': 290, 'min_samples_leaf': 3, 'max_depth': 31}. Best is trial 77 with value: 0.8135390514343965.\u001b[0m\n",
      "\u001b[32m[I 2023-04-28 13:02:49,545]\u001b[0m Trial 227 finished with value: 0.8117489423475639 and parameters: {'n_estimators': 290, 'min_samples_leaf': 3, 'max_depth': 31}. Best is trial 77 with value: 0.8135390514343965.\u001b[0m\n",
      "\u001b[32m[I 2023-04-28 13:02:49,721]\u001b[0m Trial 229 finished with value: 0.8121147960061006 and parameters: {'n_estimators': 290, 'min_samples_leaf': 3, 'max_depth': 32}. Best is trial 77 with value: 0.8135390514343965.\u001b[0m\n",
      "\u001b[32m[I 2023-04-28 13:02:53,091]\u001b[0m Trial 231 finished with value: 0.8119935906656067 and parameters: {'n_estimators': 290, 'min_samples_leaf': 3, 'max_depth': 34}. Best is trial 77 with value: 0.8135390514343965.\u001b[0m\n",
      "\u001b[32m[I 2023-04-28 13:02:53,519]\u001b[0m Trial 230 finished with value: 0.8121147960061006 and parameters: {'n_estimators': 290, 'min_samples_leaf': 3, 'max_depth': 32}. Best is trial 77 with value: 0.8135390514343965.\u001b[0m\n",
      "\u001b[32m[I 2023-04-28 13:02:55,059]\u001b[0m Trial 232 finished with value: 0.8119935906656067 and parameters: {'n_estimators': 290, 'min_samples_leaf': 3, 'max_depth': 34}. Best is trial 77 with value: 0.8135390514343965.\u001b[0m\n",
      "\u001b[32m[I 2023-04-28 13:02:56,069]\u001b[0m Trial 237 finished with value: 0.8107607188637622 and parameters: {'n_estimators': 300, 'min_samples_leaf': 3, 'max_depth': 32}. Best is trial 77 with value: 0.8135390514343965.\u001b[0m\n",
      "\u001b[32m[I 2023-04-28 13:02:56,766]\u001b[0m Trial 236 finished with value: 0.8122180251357648 and parameters: {'n_estimators': 260, 'min_samples_leaf': 3, 'max_depth': 32}. Best is trial 77 with value: 0.8135390514343965.\u001b[0m\n",
      "\u001b[32m[I 2023-04-28 13:02:56,820]\u001b[0m Trial 234 finished with value: 0.8119935906656067 and parameters: {'n_estimators': 290, 'min_samples_leaf': 3, 'max_depth': 34}. Best is trial 77 with value: 0.8135390514343965.\u001b[0m\n",
      "\u001b[32m[I 2023-04-28 13:02:57,092]\u001b[0m Trial 233 finished with value: 0.8121147960061006 and parameters: {'n_estimators': 290, 'min_samples_leaf': 3, 'max_depth': 32}. Best is trial 77 with value: 0.8135390514343965.\u001b[0m\n",
      "\u001b[32m[I 2023-04-28 13:02:57,182]\u001b[0m Trial 235 finished with value: 0.8107607188637622 and parameters: {'n_estimators': 300, 'min_samples_leaf': 3, 'max_depth': 32}. Best is trial 77 with value: 0.8135390514343965.\u001b[0m\n",
      "\u001b[32m[I 2023-04-28 13:02:57,879]\u001b[0m Trial 238 finished with value: 0.812583506993523 and parameters: {'n_estimators': 260, 'min_samples_leaf': 3, 'max_depth': 34}. Best is trial 77 with value: 0.8135390514343965.\u001b[0m\n",
      "\u001b[32m[I 2023-04-28 13:02:59,744]\u001b[0m Trial 240 finished with value: 0.8110040650120924 and parameters: {'n_estimators': 300, 'min_samples_leaf': 3, 'max_depth': 34}. Best is trial 77 with value: 0.8135390514343965.\u001b[0m\n",
      "\u001b[32m[I 2023-04-28 13:03:02,714]\u001b[0m Trial 241 finished with value: 0.8110040650120924 and parameters: {'n_estimators': 300, 'min_samples_leaf': 3, 'max_depth': 34}. Best is trial 77 with value: 0.8135390514343965.\u001b[0m\n",
      "\u001b[32m[I 2023-04-28 13:03:02,732]\u001b[0m Trial 239 finished with value: 0.8110040650120924 and parameters: {'n_estimators': 300, 'min_samples_leaf': 3, 'max_depth': 34}. Best is trial 77 with value: 0.8135390514343965.\u001b[0m\n",
      "\u001b[32m[I 2023-04-28 13:03:04,184]\u001b[0m Trial 246 finished with value: 0.8122180251357648 and parameters: {'n_estimators': 260, 'min_samples_leaf': 3, 'max_depth': 32}. Best is trial 77 with value: 0.8135390514343965.\u001b[0m\n",
      "\u001b[32m[I 2023-04-28 13:03:04,695]\u001b[0m Trial 243 finished with value: 0.812583506993523 and parameters: {'n_estimators': 260, 'min_samples_leaf': 3, 'max_depth': 34}. Best is trial 77 with value: 0.8135390514343965.\u001b[0m\n",
      "\u001b[32m[I 2023-04-28 13:03:07,805]\u001b[0m Trial 242 finished with value: 0.812583506993523 and parameters: {'n_estimators': 260, 'min_samples_leaf': 3, 'max_depth': 34}. Best is trial 77 with value: 0.8135390514343965.\u001b[0m\n",
      "\u001b[32m[I 2023-04-28 13:03:08,339]\u001b[0m Trial 244 finished with value: 0.8110040650120924 and parameters: {'n_estimators': 300, 'min_samples_leaf': 3, 'max_depth': 34}. Best is trial 77 with value: 0.8135390514343965.\u001b[0m\n",
      "\u001b[32m[I 2023-04-28 13:03:08,621]\u001b[0m Trial 248 finished with value: 0.8107607188637622 and parameters: {'n_estimators': 300, 'min_samples_leaf': 3, 'max_depth': 32}. Best is trial 77 with value: 0.8135390514343965.\u001b[0m\n",
      "\u001b[32m[I 2023-04-28 13:03:08,622]\u001b[0m Trial 247 finished with value: 0.8110040650120924 and parameters: {'n_estimators': 300, 'min_samples_leaf': 3, 'max_depth': 34}. Best is trial 77 with value: 0.8135390514343965.\u001b[0m\n",
      "\u001b[32m[I 2023-04-28 13:03:08,941]\u001b[0m Trial 245 finished with value: 0.8107607188637622 and parameters: {'n_estimators': 300, 'min_samples_leaf': 3, 'max_depth': 32}. Best is trial 77 with value: 0.8135390514343965.\u001b[0m\n",
      "\u001b[32m[I 2023-04-28 13:03:09,543]\u001b[0m Trial 249 finished with value: 0.812583506993523 and parameters: {'n_estimators': 260, 'min_samples_leaf': 3, 'max_depth': 34}. Best is trial 77 with value: 0.8135390514343965.\u001b[0m\n",
      "\u001b[32m[I 2023-04-28 13:03:10,587]\u001b[0m Trial 250 finished with value: 0.812583506993523 and parameters: {'n_estimators': 260, 'min_samples_leaf': 3, 'max_depth': 34}. Best is trial 77 with value: 0.8135390514343965.\u001b[0m\n",
      "\u001b[32m[I 2023-04-28 13:03:11,237]\u001b[0m Trial 252 finished with value: 0.812583506993523 and parameters: {'n_estimators': 260, 'min_samples_leaf': 3, 'max_depth': 34}. Best is trial 77 with value: 0.8135390514343965.\u001b[0m\n",
      "\u001b[32m[I 2023-04-28 13:03:11,255]\u001b[0m Trial 253 finished with value: 0.812583506993523 and parameters: {'n_estimators': 260, 'min_samples_leaf': 3, 'max_depth': 34}. Best is trial 77 with value: 0.8135390514343965.\u001b[0m\n",
      "\u001b[32m[I 2023-04-28 13:03:11,279]\u001b[0m Trial 251 finished with value: 0.812583506993523 and parameters: {'n_estimators': 260, 'min_samples_leaf': 3, 'max_depth': 34}. Best is trial 77 with value: 0.8135390514343965.\u001b[0m\n",
      "\u001b[32m[I 2023-04-28 13:03:12,239]\u001b[0m Trial 254 finished with value: 0.812583506993523 and parameters: {'n_estimators': 260, 'min_samples_leaf': 3, 'max_depth': 34}. Best is trial 77 with value: 0.8135390514343965.\u001b[0m\n",
      "\u001b[32m[I 2023-04-28 13:03:15,801]\u001b[0m Trial 255 finished with value: 0.812583506993523 and parameters: {'n_estimators': 260, 'min_samples_leaf': 3, 'max_depth': 34}. Best is trial 77 with value: 0.8135390514343965.\u001b[0m\n",
      "\u001b[32m[I 2023-04-28 13:03:17,255]\u001b[0m Trial 258 finished with value: 0.8122180251357648 and parameters: {'n_estimators': 260, 'min_samples_leaf': 3, 'max_depth': 32}. Best is trial 77 with value: 0.8135390514343965.\u001b[0m\n",
      "\u001b[32m[I 2023-04-28 13:03:17,279]\u001b[0m Trial 256 finished with value: 0.812583506993523 and parameters: {'n_estimators': 260, 'min_samples_leaf': 3, 'max_depth': 34}. Best is trial 77 with value: 0.8135390514343965.\u001b[0m\n",
      "\u001b[32m[I 2023-04-28 13:03:17,772]\u001b[0m Trial 257 finished with value: 0.8122180251357648 and parameters: {'n_estimators': 260, 'min_samples_leaf': 3, 'max_depth': 32}. Best is trial 77 with value: 0.8135390514343965.\u001b[0m\n",
      "\u001b[32m[I 2023-04-28 13:03:18,088]\u001b[0m Trial 259 finished with value: 0.8122180251357648 and parameters: {'n_estimators': 260, 'min_samples_leaf': 3, 'max_depth': 32}. Best is trial 77 with value: 0.8135390514343965.\u001b[0m\n",
      "\u001b[32m[I 2023-04-28 13:03:18,355]\u001b[0m Trial 260 finished with value: 0.8122180251357648 and parameters: {'n_estimators': 260, 'min_samples_leaf': 3, 'max_depth': 32}. Best is trial 77 with value: 0.8135390514343965.\u001b[0m\n",
      "\u001b[32m[I 2023-04-28 13:03:18,740]\u001b[0m Trial 261 finished with value: 0.8122180251357648 and parameters: {'n_estimators': 260, 'min_samples_leaf': 3, 'max_depth': 32}. Best is trial 77 with value: 0.8135390514343965.\u001b[0m\n",
      "\u001b[32m[I 2023-04-28 13:03:18,788]\u001b[0m Trial 262 finished with value: 0.8122180251357648 and parameters: {'n_estimators': 260, 'min_samples_leaf': 3, 'max_depth': 32}. Best is trial 77 with value: 0.8135390514343965.\u001b[0m\n",
      "\u001b[32m[I 2023-04-28 13:03:19,667]\u001b[0m Trial 264 finished with value: 0.812583506993523 and parameters: {'n_estimators': 260, 'min_samples_leaf': 3, 'max_depth': 34}. Best is trial 77 with value: 0.8135390514343965.\u001b[0m\n",
      "\u001b[32m[I 2023-04-28 13:03:19,671]\u001b[0m Trial 263 finished with value: 0.8122180251357648 and parameters: {'n_estimators': 260, 'min_samples_leaf': 3, 'max_depth': 32}. Best is trial 77 with value: 0.8135390514343965.\u001b[0m\n",
      "\u001b[32m[I 2023-04-28 13:03:19,717]\u001b[0m Trial 265 finished with value: 0.812583506993523 and parameters: {'n_estimators': 260, 'min_samples_leaf': 3, 'max_depth': 34}. Best is trial 77 with value: 0.8135390514343965.\u001b[0m\n",
      "\u001b[32m[I 2023-04-28 13:03:26,110]\u001b[0m Trial 266 finished with value: 0.8122180251357648 and parameters: {'n_estimators': 260, 'min_samples_leaf': 3, 'max_depth': 32}. Best is trial 77 with value: 0.8135390514343965.\u001b[0m\n",
      "\u001b[32m[I 2023-04-28 13:03:27,264]\u001b[0m Trial 268 finished with value: 0.8122180251357648 and parameters: {'n_estimators': 260, 'min_samples_leaf': 3, 'max_depth': 32}. Best is trial 77 with value: 0.8135390514343965.\u001b[0m\n",
      "\u001b[32m[I 2023-04-28 13:03:27,268]\u001b[0m Trial 270 finished with value: 0.812583506993523 and parameters: {'n_estimators': 260, 'min_samples_leaf': 3, 'max_depth': 34}. Best is trial 77 with value: 0.8135390514343965.\u001b[0m\n",
      "\u001b[32m[I 2023-04-28 13:03:28,050]\u001b[0m Trial 271 finished with value: 0.8122180251357648 and parameters: {'n_estimators': 260, 'min_samples_leaf': 3, 'max_depth': 32}. Best is trial 77 with value: 0.8135390514343965.\u001b[0m\n",
      "\u001b[32m[I 2023-04-28 13:03:29,564]\u001b[0m Trial 269 finished with value: 0.812583506993523 and parameters: {'n_estimators': 260, 'min_samples_leaf': 3, 'max_depth': 34}. Best is trial 77 with value: 0.8135390514343965.\u001b[0m\n",
      "\u001b[32m[I 2023-04-28 13:03:29,741]\u001b[0m Trial 267 finished with value: 0.8122180251357648 and parameters: {'n_estimators': 260, 'min_samples_leaf': 3, 'max_depth': 32}. Best is trial 77 with value: 0.8135390514343965.\u001b[0m\n",
      "\u001b[32m[I 2023-04-28 13:03:30,021]\u001b[0m Trial 273 finished with value: 0.812583506993523 and parameters: {'n_estimators': 260, 'min_samples_leaf': 3, 'max_depth': 34}. Best is trial 77 with value: 0.8135390514343965.\u001b[0m\n",
      "\u001b[32m[I 2023-04-28 13:03:30,097]\u001b[0m Trial 272 finished with value: 0.812583506993523 and parameters: {'n_estimators': 260, 'min_samples_leaf': 3, 'max_depth': 34}. Best is trial 77 with value: 0.8135390514343965.\u001b[0m\n",
      "\u001b[32m[I 2023-04-28 13:03:30,895]\u001b[0m Trial 275 finished with value: 0.812583506993523 and parameters: {'n_estimators': 260, 'min_samples_leaf': 3, 'max_depth': 34}. Best is trial 77 with value: 0.8135390514343965.\u001b[0m\n",
      "\u001b[32m[I 2023-04-28 13:03:30,938]\u001b[0m Trial 274 finished with value: 0.812583506993523 and parameters: {'n_estimators': 260, 'min_samples_leaf': 3, 'max_depth': 34}. Best is trial 77 with value: 0.8135390514343965.\u001b[0m\n",
      "\u001b[32m[I 2023-04-28 13:03:32,656]\u001b[0m Trial 276 finished with value: 0.812583506993523 and parameters: {'n_estimators': 260, 'min_samples_leaf': 3, 'max_depth': 34}. Best is trial 77 with value: 0.8135390514343965.\u001b[0m\n",
      "\u001b[32m[I 2023-04-28 13:03:34,703]\u001b[0m Trial 277 finished with value: 0.812583506993523 and parameters: {'n_estimators': 260, 'min_samples_leaf': 3, 'max_depth': 34}. Best is trial 77 with value: 0.8135390514343965.\u001b[0m\n",
      "\u001b[32m[I 2023-04-28 13:03:37,162]\u001b[0m Trial 280 finished with value: 0.812583506993523 and parameters: {'n_estimators': 260, 'min_samples_leaf': 3, 'max_depth': 34}. Best is trial 77 with value: 0.8135390514343965.\u001b[0m\n",
      "\u001b[32m[I 2023-04-28 13:03:37,226]\u001b[0m Trial 278 finished with value: 0.812583506993523 and parameters: {'n_estimators': 260, 'min_samples_leaf': 3, 'max_depth': 34}. Best is trial 77 with value: 0.8135390514343965.\u001b[0m\n",
      "\u001b[32m[I 2023-04-28 13:03:37,278]\u001b[0m Trial 282 finished with value: 0.8130889099709284 and parameters: {'n_estimators': 270, 'min_samples_leaf': 3, 'max_depth': 36}. Best is trial 77 with value: 0.8135390514343965.\u001b[0m\n",
      "\u001b[32m[I 2023-04-28 13:03:37,367]\u001b[0m Trial 281 finished with value: 0.8129491975597135 and parameters: {'n_estimators': 260, 'min_samples_leaf': 3, 'max_depth': 27}. Best is trial 77 with value: 0.8135390514343965.\u001b[0m\n",
      "\u001b[32m[I 2023-04-28 13:03:38,083]\u001b[0m Trial 279 finished with value: 0.812583506993523 and parameters: {'n_estimators': 260, 'min_samples_leaf': 3, 'max_depth': 36}. Best is trial 77 with value: 0.8135390514343965.\u001b[0m\n",
      "\u001b[32m[I 2023-04-28 13:03:38,854]\u001b[0m Trial 286 finished with value: 0.8129170356528276 and parameters: {'n_estimators': 270, 'min_samples_leaf': 3, 'max_depth': 19}. Best is trial 77 with value: 0.8135390514343965.\u001b[0m\n",
      "\u001b[32m[I 2023-04-28 13:03:39,279]\u001b[0m Trial 284 finished with value: 0.8130889099709284 and parameters: {'n_estimators': 270, 'min_samples_leaf': 3, 'max_depth': 38}. Best is trial 77 with value: 0.8135390514343965.\u001b[0m\n",
      "\u001b[32m[I 2023-04-28 13:03:39,309]\u001b[0m Trial 283 finished with value: 0.8117478121115681 and parameters: {'n_estimators': 270, 'min_samples_leaf': 3, 'max_depth': 27}. Best is trial 77 with value: 0.8135390514343965.\u001b[0m\n",
      "\u001b[32m[I 2023-04-28 13:03:40,134]\u001b[0m Trial 285 finished with value: 0.8130889099709284 and parameters: {'n_estimators': 270, 'min_samples_leaf': 3, 'max_depth': 38}. Best is trial 77 with value: 0.8135390514343965.\u001b[0m\n",
      "\u001b[32m[I 2023-04-28 13:03:40,758]\u001b[0m Trial 288 finished with value: 0.8129170356528276 and parameters: {'n_estimators': 270, 'min_samples_leaf': 3, 'max_depth': 19}. Best is trial 77 with value: 0.8135390514343965.\u001b[0m\n",
      "\u001b[32m[I 2023-04-28 13:03:41,400]\u001b[0m Trial 287 finished with value: 0.8130889099709284 and parameters: {'n_estimators': 270, 'min_samples_leaf': 3, 'max_depth': 37}. Best is trial 77 with value: 0.8135390514343965.\u001b[0m\n",
      "\u001b[32m[I 2023-04-28 13:03:44,801]\u001b[0m Trial 289 finished with value: 0.8130889099709284 and parameters: {'n_estimators': 270, 'min_samples_leaf': 3, 'max_depth': 36}. Best is trial 77 with value: 0.8135390514343965.\u001b[0m\n",
      "\u001b[32m[I 2023-04-28 13:03:46,633]\u001b[0m Trial 290 finished with value: 0.8117478121115681 and parameters: {'n_estimators': 270, 'min_samples_leaf': 3, 'max_depth': 27}. Best is trial 77 with value: 0.8135390514343965.\u001b[0m\n",
      "\u001b[32m[I 2023-04-28 13:03:46,658]\u001b[0m Trial 291 finished with value: 0.8129170356528276 and parameters: {'n_estimators': 270, 'min_samples_leaf': 3, 'max_depth': 19}. Best is trial 77 with value: 0.8135390514343965.\u001b[0m\n",
      "\u001b[32m[I 2023-04-28 13:03:46,873]\u001b[0m Trial 292 finished with value: 0.8129170356528276 and parameters: {'n_estimators': 270, 'min_samples_leaf': 3, 'max_depth': 19}. Best is trial 77 with value: 0.8135390514343965.\u001b[0m\n",
      "\u001b[32m[I 2023-04-28 13:03:48,878]\u001b[0m Trial 294 finished with value: 0.8117478121115681 and parameters: {'n_estimators': 270, 'min_samples_leaf': 3, 'max_depth': 27}. Best is trial 77 with value: 0.8135390514343965.\u001b[0m\n",
      "\u001b[32m[I 2023-04-28 13:03:49,659]\u001b[0m Trial 293 finished with value: 0.8133293303013038 and parameters: {'n_estimators': 270, 'min_samples_leaf': 3, 'max_depth': 30}. Best is trial 77 with value: 0.8135390514343965.\u001b[0m\n",
      "\u001b[32m[I 2023-04-28 13:03:50,619]\u001b[0m Trial 295 finished with value: 0.8117478121115681 and parameters: {'n_estimators': 270, 'min_samples_leaf': 3, 'max_depth': 27}. Best is trial 77 with value: 0.8135390514343965.\u001b[0m\n",
      "\u001b[32m[I 2023-04-28 13:03:50,694]\u001b[0m Trial 298 finished with value: 0.8117478121115681 and parameters: {'n_estimators': 270, 'min_samples_leaf': 3, 'max_depth': 27}. Best is trial 77 with value: 0.8135390514343965.\u001b[0m\n",
      "\u001b[32m[I 2023-04-28 13:03:52,516]\u001b[0m Trial 301 finished with value: 0.8117478121115681 and parameters: {'n_estimators': 270, 'min_samples_leaf': 3, 'max_depth': 27}. Best is trial 77 with value: 0.8135390514343965.\u001b[0m\n",
      "\u001b[32m[I 2023-04-28 13:03:52,519]\u001b[0m Trial 300 finished with value: 0.8130889099709284 and parameters: {'n_estimators': 270, 'min_samples_leaf': 3, 'max_depth': 36}. Best is trial 77 with value: 0.8135390514343965.\u001b[0m\n",
      "\u001b[32m[I 2023-04-28 13:03:52,563]\u001b[0m Trial 296 finished with value: 0.8117478121115681 and parameters: {'n_estimators': 270, 'min_samples_leaf': 3, 'max_depth': 27}. Best is trial 77 with value: 0.8135390514343965.\u001b[0m\n",
      "\u001b[32m[I 2023-04-28 13:03:53,359]\u001b[0m Trial 297 finished with value: 0.8129170356528276 and parameters: {'n_estimators': 270, 'min_samples_leaf': 3, 'max_depth': 19}. Best is trial 77 with value: 0.8135390514343965.\u001b[0m\n",
      "\u001b[32m[I 2023-04-28 13:03:57,145]\u001b[0m Trial 302 finished with value: 0.8130889099709284 and parameters: {'n_estimators': 270, 'min_samples_leaf': 3, 'max_depth': 36}. Best is trial 77 with value: 0.8135390514343965.\u001b[0m\n",
      "\u001b[32m[I 2023-04-28 13:03:57,515]\u001b[0m Trial 305 finished with value: 0.8117478121115681 and parameters: {'n_estimators': 270, 'min_samples_leaf': 3, 'max_depth': 27}. Best is trial 77 with value: 0.8135390514343965.\u001b[0m\n",
      "\u001b[32m[I 2023-04-28 13:03:58,926]\u001b[0m Trial 299 finished with value: 0.8129170356528276 and parameters: {'n_estimators': 270, 'min_samples_leaf': 3, 'max_depth': 19}. Best is trial 77 with value: 0.8135390514343965.\u001b[0m\n",
      "\u001b[32m[I 2023-04-28 13:03:59,215]\u001b[0m Trial 303 finished with value: 0.8117478121115681 and parameters: {'n_estimators': 270, 'min_samples_leaf': 3, 'max_depth': 27}. Best is trial 77 with value: 0.8135390514343965.\u001b[0m\n",
      "\u001b[32m[I 2023-04-28 13:03:59,512]\u001b[0m Trial 309 finished with value: 0.8117478121115681 and parameters: {'n_estimators': 270, 'min_samples_leaf': 3, 'max_depth': 27}. Best is trial 77 with value: 0.8135390514343965.\u001b[0m\n",
      "\u001b[32m[I 2023-04-28 13:04:01,017]\u001b[0m Trial 310 finished with value: 0.8129170356528276 and parameters: {'n_estimators': 270, 'min_samples_leaf': 3, 'max_depth': 19}. Best is trial 77 with value: 0.8135390514343965.\u001b[0m\n",
      "\u001b[32m[I 2023-04-28 13:04:01,389]\u001b[0m Trial 306 finished with value: 0.8117478121115681 and parameters: {'n_estimators': 270, 'min_samples_leaf': 3, 'max_depth': 27}. Best is trial 77 with value: 0.8135390514343965.\u001b[0m\n",
      "\u001b[32m[I 2023-04-28 13:04:01,722]\u001b[0m Trial 304 finished with value: 0.8129170356528276 and parameters: {'n_estimators': 270, 'min_samples_leaf': 3, 'max_depth': 19}. Best is trial 77 with value: 0.8135390514343965.\u001b[0m\n",
      "\u001b[32m[I 2023-04-28 13:04:02,449]\u001b[0m Trial 308 finished with value: 0.8117478121115681 and parameters: {'n_estimators': 270, 'min_samples_leaf': 3, 'max_depth': 27}. Best is trial 77 with value: 0.8135390514343965.\u001b[0m\n",
      "\u001b[32m[I 2023-04-28 13:04:03,089]\u001b[0m Trial 307 finished with value: 0.8130889099709284 and parameters: {'n_estimators': 270, 'min_samples_leaf': 3, 'max_depth': 36}. Best is trial 77 with value: 0.8135390514343965.\u001b[0m\n",
      "\u001b[32m[I 2023-04-28 13:04:03,704]\u001b[0m Trial 312 finished with value: 0.8117478121115681 and parameters: {'n_estimators': 270, 'min_samples_leaf': 3, 'max_depth': 27}. Best is trial 77 with value: 0.8135390514343965.\u001b[0m\n",
      "\u001b[32m[I 2023-04-28 13:04:04,902]\u001b[0m Trial 313 finished with value: 0.8117478121115681 and parameters: {'n_estimators': 270, 'min_samples_leaf': 3, 'max_depth': 27}. Best is trial 77 with value: 0.8135390514343965.\u001b[0m\n",
      "\u001b[32m[I 2023-04-28 13:04:04,929]\u001b[0m Trial 311 finished with value: 0.8133293303013038 and parameters: {'n_estimators': 270, 'min_samples_leaf': 3, 'max_depth': 30}. Best is trial 77 with value: 0.8135390514343965.\u001b[0m\n",
      "\u001b[32m[I 2023-04-28 13:04:07,197]\u001b[0m Trial 314 finished with value: 0.8129170356528276 and parameters: {'n_estimators': 270, 'min_samples_leaf': 3, 'max_depth': 19}. Best is trial 77 with value: 0.8135390514343965.\u001b[0m\n",
      "\u001b[32m[I 2023-04-28 13:04:10,742]\u001b[0m Trial 318 finished with value: 0.8129170356528276 and parameters: {'n_estimators': 270, 'min_samples_leaf': 3, 'max_depth': 19}. Best is trial 77 with value: 0.8135390514343965.\u001b[0m\n",
      "\u001b[32m[I 2023-04-28 13:04:11,337]\u001b[0m Trial 316 finished with value: 0.8129170356528276 and parameters: {'n_estimators': 270, 'min_samples_leaf': 3, 'max_depth': 19}. Best is trial 77 with value: 0.8135390514343965.\u001b[0m\n",
      "\u001b[32m[I 2023-04-28 13:04:11,368]\u001b[0m Trial 317 finished with value: 0.8130889099709284 and parameters: {'n_estimators': 270, 'min_samples_leaf': 3, 'max_depth': 36}. Best is trial 77 with value: 0.8135390514343965.\u001b[0m\n",
      "\u001b[32m[I 2023-04-28 13:04:11,446]\u001b[0m Trial 315 finished with value: 0.8130889099709284 and parameters: {'n_estimators': 270, 'min_samples_leaf': 3, 'max_depth': 36}. Best is trial 77 with value: 0.8135390514343965.\u001b[0m\n",
      "\u001b[32m[I 2023-04-28 13:04:11,450]\u001b[0m Trial 319 finished with value: 0.8129170356528276 and parameters: {'n_estimators': 270, 'min_samples_leaf': 3, 'max_depth': 19}. Best is trial 77 with value: 0.8135390514343965.\u001b[0m\n",
      "\u001b[32m[I 2023-04-28 13:04:11,491]\u001b[0m Trial 320 finished with value: 0.8117478121115681 and parameters: {'n_estimators': 270, 'min_samples_leaf': 3, 'max_depth': 27}. Best is trial 77 with value: 0.8135390514343965.\u001b[0m\n",
      "\u001b[32m[I 2023-04-28 13:04:13,130]\u001b[0m Trial 323 finished with value: 0.8117478121115681 and parameters: {'n_estimators': 270, 'min_samples_leaf': 3, 'max_depth': 27}. Best is trial 77 with value: 0.8135390514343965.\u001b[0m\n",
      "\u001b[32m[I 2023-04-28 13:04:14,177]\u001b[0m Trial 321 finished with value: 0.8117478121115681 and parameters: {'n_estimators': 270, 'min_samples_leaf': 3, 'max_depth': 27}. Best is trial 77 with value: 0.8135390514343965.\u001b[0m\n",
      "\u001b[32m[I 2023-04-28 13:04:14,769]\u001b[0m Trial 322 finished with value: 0.8133293303013038 and parameters: {'n_estimators': 270, 'min_samples_leaf': 3, 'max_depth': 30}. Best is trial 77 with value: 0.8135390514343965.\u001b[0m\n",
      "\u001b[32m[I 2023-04-28 13:04:15,206]\u001b[0m Trial 324 finished with value: 0.8129170356528276 and parameters: {'n_estimators': 270, 'min_samples_leaf': 3, 'max_depth': 19}. Best is trial 77 with value: 0.8135390514343965.\u001b[0m\n",
      "\u001b[32m[I 2023-04-28 13:04:18,596]\u001b[0m Trial 327 finished with value: 0.8130889099709284 and parameters: {'n_estimators': 270, 'min_samples_leaf': 3, 'max_depth': 36}. Best is trial 77 with value: 0.8135390514343965.\u001b[0m\n",
      "\u001b[32m[I 2023-04-28 13:04:19,577]\u001b[0m Trial 325 finished with value: 0.8117478121115681 and parameters: {'n_estimators': 270, 'min_samples_leaf': 3, 'max_depth': 27}. Best is trial 77 with value: 0.8135390514343965.\u001b[0m\n",
      "\u001b[32m[I 2023-04-28 13:04:19,999]\u001b[0m Trial 328 finished with value: 0.8130889099709284 and parameters: {'n_estimators': 270, 'min_samples_leaf': 3, 'max_depth': 38}. Best is trial 77 with value: 0.8135390514343965.\u001b[0m\n",
      "\u001b[32m[I 2023-04-28 13:04:20,915]\u001b[0m Trial 329 finished with value: 0.8130889099709284 and parameters: {'n_estimators': 270, 'min_samples_leaf': 3, 'max_depth': 37}. Best is trial 77 with value: 0.8135390514343965.\u001b[0m\n",
      "\u001b[32m[I 2023-04-28 13:04:20,920]\u001b[0m Trial 326 finished with value: 0.8130889099709284 and parameters: {'n_estimators': 270, 'min_samples_leaf': 3, 'max_depth': 39}. Best is trial 77 with value: 0.8135390514343965.\u001b[0m\n",
      "\u001b[32m[I 2023-04-28 13:04:20,976]\u001b[0m Trial 330 finished with value: 0.8130889099709284 and parameters: {'n_estimators': 270, 'min_samples_leaf': 3, 'max_depth': 38}. Best is trial 77 with value: 0.8135390514343965.\u001b[0m\n",
      "\u001b[32m[I 2023-04-28 13:04:21,017]\u001b[0m Trial 335 finished with value: 0.8130889099709284 and parameters: {'n_estimators': 270, 'min_samples_leaf': 3, 'max_depth': 38}. Best is trial 77 with value: 0.8135390514343965.\u001b[0m\n",
      "\u001b[32m[I 2023-04-28 13:04:22,097]\u001b[0m Trial 331 finished with value: 0.8130889099709284 and parameters: {'n_estimators': 270, 'min_samples_leaf': 3, 'max_depth': 39}. Best is trial 77 with value: 0.8135390514343965.\u001b[0m\n",
      "\u001b[32m[I 2023-04-28 13:04:22,128]\u001b[0m Trial 334 finished with value: 0.8130889099709284 and parameters: {'n_estimators': 270, 'min_samples_leaf': 3, 'max_depth': 37}. Best is trial 77 with value: 0.8135390514343965.\u001b[0m\n",
      "\u001b[32m[I 2023-04-28 13:04:22,534]\u001b[0m Trial 332 finished with value: 0.8130889099709284 and parameters: {'n_estimators': 270, 'min_samples_leaf': 3, 'max_depth': 37}. Best is trial 77 with value: 0.8135390514343965.\u001b[0m\n",
      "\u001b[32m[I 2023-04-28 13:04:22,936]\u001b[0m Trial 333 finished with value: 0.8074863537512608 and parameters: {'n_estimators': 270, 'min_samples_leaf': 3, 'max_depth': 18}. Best is trial 77 with value: 0.8135390514343965.\u001b[0m\n",
      "\u001b[32m[I 2023-04-28 13:04:26,555]\u001b[0m Trial 338 finished with value: 0.8039894387147957 and parameters: {'n_estimators': 270, 'min_samples_leaf': 6, 'max_depth': 38}. Best is trial 77 with value: 0.8135390514343965.\u001b[0m\n",
      "\u001b[32m[I 2023-04-28 13:04:27,031]\u001b[0m Trial 336 finished with value: 0.8130889099709284 and parameters: {'n_estimators': 270, 'min_samples_leaf': 3, 'max_depth': 37}. Best is trial 77 with value: 0.8135390514343965.\u001b[0m\n",
      "\u001b[32m[I 2023-04-28 13:04:28,516]\u001b[0m Trial 339 finished with value: 0.8039894387147957 and parameters: {'n_estimators': 270, 'min_samples_leaf': 6, 'max_depth': 38}. Best is trial 77 with value: 0.8135390514343965.\u001b[0m\n",
      "\u001b[32m[I 2023-04-28 13:04:30,449]\u001b[0m Trial 341 finished with value: 0.8034780407443375 and parameters: {'n_estimators': 270, 'min_samples_leaf': 5, 'max_depth': 38}. Best is trial 77 with value: 0.8135390514343965.\u001b[0m\n",
      "\u001b[32m[I 2023-04-28 13:04:30,458]\u001b[0m Trial 342 finished with value: 0.8039894387147957 and parameters: {'n_estimators': 270, 'min_samples_leaf': 6, 'max_depth': 38}. Best is trial 77 with value: 0.8135390514343965.\u001b[0m\n",
      "\u001b[32m[I 2023-04-28 13:04:30,536]\u001b[0m Trial 347 finished with value: 0.8130889099709284 and parameters: {'n_estimators': 270, 'min_samples_leaf': 3, 'max_depth': 38}. Best is trial 77 with value: 0.8135390514343965.\u001b[0m\n",
      "\u001b[32m[I 2023-04-28 13:04:30,896]\u001b[0m Trial 340 finished with value: 0.8130889099709284 and parameters: {'n_estimators': 270, 'min_samples_leaf': 3, 'max_depth': 38}. Best is trial 77 with value: 0.8135390514343965.\u001b[0m\n",
      "\u001b[32m[I 2023-04-28 13:04:30,902]\u001b[0m Trial 337 finished with value: 0.8130889099709284 and parameters: {'n_estimators': 270, 'min_samples_leaf': 3, 'max_depth': 38}. Best is trial 77 with value: 0.8135390514343965.\u001b[0m\n",
      "\u001b[32m[I 2023-04-28 13:04:31,404]\u001b[0m Trial 344 finished with value: 0.8039894387147957 and parameters: {'n_estimators': 270, 'min_samples_leaf': 6, 'max_depth': 38}. Best is trial 77 with value: 0.8135390514343965.\u001b[0m\n",
      "\u001b[32m[I 2023-04-28 13:04:31,449]\u001b[0m Trial 343 finished with value: 0.8130889099709284 and parameters: {'n_estimators': 270, 'min_samples_leaf': 3, 'max_depth': 37}. Best is trial 77 with value: 0.8135390514343965.\u001b[0m\n",
      "\u001b[32m[I 2023-04-28 13:04:33,505]\u001b[0m Trial 345 finished with value: 0.8039894387147957 and parameters: {'n_estimators': 270, 'min_samples_leaf': 6, 'max_depth': 39}. Best is trial 77 with value: 0.8135390514343965.\u001b[0m\n",
      "\u001b[32m[I 2023-04-28 13:04:35,052]\u001b[0m Trial 346 finished with value: 0.8039894387147957 and parameters: {'n_estimators': 270, 'min_samples_leaf': 6, 'max_depth': 38}. Best is trial 77 with value: 0.8135390514343965.\u001b[0m\n",
      "\u001b[32m[I 2023-04-28 13:04:35,458]\u001b[0m Trial 350 finished with value: 0.8039894387147957 and parameters: {'n_estimators': 270, 'min_samples_leaf': 6, 'max_depth': 40}. Best is trial 77 with value: 0.8135390514343965.\u001b[0m\n",
      "\u001b[32m[I 2023-04-28 13:04:35,485]\u001b[0m Trial 349 finished with value: 0.8039894387147957 and parameters: {'n_estimators': 270, 'min_samples_leaf': 6, 'max_depth': 38}. Best is trial 77 with value: 0.8135390514343965.\u001b[0m\n",
      "\u001b[32m[I 2023-04-28 13:04:36,068]\u001b[0m Trial 351 finished with value: 0.8039894387147957 and parameters: {'n_estimators': 270, 'min_samples_leaf': 6, 'max_depth': 38}. Best is trial 77 with value: 0.8135390514343965.\u001b[0m\n",
      "\u001b[32m[I 2023-04-28 13:04:36,118]\u001b[0m Trial 352 finished with value: 0.797863344398196 and parameters: {'n_estimators': 130, 'min_samples_leaf': 5, 'max_depth': 38}. Best is trial 77 with value: 0.8135390514343965.\u001b[0m\n",
      "\u001b[32m[I 2023-04-28 13:04:37,595]\u001b[0m Trial 355 finished with value: 0.8002095106535245 and parameters: {'n_estimators': 130, 'min_samples_leaf': 6, 'max_depth': 39}. Best is trial 77 with value: 0.8135390514343965.\u001b[0m\n",
      "\u001b[32m[I 2023-04-28 13:04:38,549]\u001b[0m Trial 353 finished with value: 0.8039894387147957 and parameters: {'n_estimators': 270, 'min_samples_leaf': 6, 'max_depth': 38}. Best is trial 77 with value: 0.8135390514343965.\u001b[0m\n",
      "\u001b[32m[I 2023-04-28 13:04:38,567]\u001b[0m Trial 348 finished with value: 0.8039894387147957 and parameters: {'n_estimators': 270, 'min_samples_leaf': 6, 'max_depth': 38}. Best is trial 77 with value: 0.8135390514343965.\u001b[0m\n",
      "\u001b[32m[I 2023-04-28 13:04:38,876]\u001b[0m Trial 354 finished with value: 0.8034780407443375 and parameters: {'n_estimators': 270, 'min_samples_leaf': 5, 'max_depth': 38}. Best is trial 77 with value: 0.8135390514343965.\u001b[0m\n",
      "\u001b[32m[I 2023-04-28 13:04:41,881]\u001b[0m Trial 358 finished with value: 0.8002095106535245 and parameters: {'n_estimators': 130, 'min_samples_leaf': 6, 'max_depth': 38}. Best is trial 77 with value: 0.8135390514343965.\u001b[0m\n",
      "\u001b[32m[I 2023-04-28 13:04:42,544]\u001b[0m Trial 356 finished with value: 0.8034780407443375 and parameters: {'n_estimators': 270, 'min_samples_leaf': 5, 'max_depth': 38}. Best is trial 77 with value: 0.8135390514343965.\u001b[0m\n",
      "\u001b[32m[I 2023-04-28 13:04:42,561]\u001b[0m Trial 359 finished with value: 0.8029011028330558 and parameters: {'n_estimators': 280, 'min_samples_leaf': 6, 'max_depth': 38}. Best is trial 77 with value: 0.8135390514343965.\u001b[0m\n",
      "\u001b[32m[I 2023-04-28 13:04:43,043]\u001b[0m Trial 357 finished with value: 0.8046905036934835 and parameters: {'n_estimators': 280, 'min_samples_leaf': 5, 'max_depth': 38}. Best is trial 77 with value: 0.8135390514343965.\u001b[0m\n",
      "\u001b[32m[I 2023-04-28 13:04:45,658]\u001b[0m Trial 360 finished with value: 0.8133089031934124 and parameters: {'n_estimators': 280, 'min_samples_leaf': 3, 'max_depth': 38}. Best is trial 77 with value: 0.8135390514343965.\u001b[0m\n",
      "\u001b[32m[I 2023-04-28 13:04:46,089]\u001b[0m Trial 361 finished with value: 0.8133089031934124 and parameters: {'n_estimators': 280, 'min_samples_leaf': 3, 'max_depth': 37}. Best is trial 77 with value: 0.8135390514343965.\u001b[0m\n",
      "\u001b[32m[I 2023-04-28 13:04:47,101]\u001b[0m Trial 365 finished with value: 0.8029011028330558 and parameters: {'n_estimators': 280, 'min_samples_leaf': 6, 'max_depth': 40}. Best is trial 77 with value: 0.8135390514343965.\u001b[0m\n",
      "\u001b[32m[I 2023-04-28 13:04:47,112]\u001b[0m Trial 366 finished with value: 0.8133089031934124 and parameters: {'n_estimators': 280, 'min_samples_leaf': 3, 'max_depth': 38}. Best is trial 77 with value: 0.8135390514343965.\u001b[0m\n",
      "\u001b[32m[I 2023-04-28 13:04:47,126]\u001b[0m Trial 364 finished with value: 0.8028350305365077 and parameters: {'n_estimators': 220, 'min_samples_leaf': 5, 'max_depth': 37}. Best is trial 77 with value: 0.8135390514343965.\u001b[0m\n",
      "\u001b[32m[I 2023-04-28 13:04:47,170]\u001b[0m Trial 362 finished with value: 0.8046905036934835 and parameters: {'n_estimators': 280, 'min_samples_leaf': 5, 'max_depth': 37}. Best is trial 77 with value: 0.8135390514343965.\u001b[0m\n",
      "\u001b[32m[I 2023-04-28 13:04:49,794]\u001b[0m Trial 363 finished with value: 0.8119686149183554 and parameters: {'n_estimators': 250, 'min_samples_leaf': 3, 'max_depth': 38}. Best is trial 77 with value: 0.8135390514343965.\u001b[0m\n",
      "\u001b[32m[I 2023-04-28 13:04:51,486]\u001b[0m Trial 367 finished with value: 0.8133089031934124 and parameters: {'n_estimators': 280, 'min_samples_leaf': 3, 'max_depth': 38}. Best is trial 77 with value: 0.8135390514343965.\u001b[0m\n",
      "\u001b[32m[I 2023-04-28 13:04:52,461]\u001b[0m Trial 368 finished with value: 0.8020560213941856 and parameters: {'n_estimators': 250, 'min_samples_leaf': 6, 'max_depth': 38}. Best is trial 77 with value: 0.8135390514343965.\u001b[0m\n",
      "\u001b[32m[I 2023-04-28 13:04:53,624]\u001b[0m Trial 370 finished with value: 0.8133089031934124 and parameters: {'n_estimators': 280, 'min_samples_leaf': 3, 'max_depth': 38}. Best is trial 77 with value: 0.8135390514343965.\u001b[0m\n",
      "\u001b[32m[I 2023-04-28 13:04:54,291]\u001b[0m Trial 371 finished with value: 0.8119686149183554 and parameters: {'n_estimators': 250, 'min_samples_leaf': 3, 'max_depth': 38}. Best is trial 77 with value: 0.8135390514343965.\u001b[0m\n",
      "\u001b[32m[I 2023-04-28 13:04:54,325]\u001b[0m Trial 373 finished with value: 0.8133089031934124 and parameters: {'n_estimators': 280, 'min_samples_leaf': 3, 'max_depth': 37}. Best is trial 77 with value: 0.8135390514343965.\u001b[0m\n",
      "\u001b[32m[I 2023-04-28 13:04:54,326]\u001b[0m Trial 369 finished with value: 0.8029011028330558 and parameters: {'n_estimators': 280, 'min_samples_leaf': 6, 'max_depth': 30}. Best is trial 77 with value: 0.8135390514343965.\u001b[0m\n",
      "\u001b[32m[I 2023-04-28 13:04:54,327]\u001b[0m Trial 378 finished with value: 0.801646802402405 and parameters: {'n_estimators': 220, 'min_samples_leaf': 6, 'max_depth': 40}. Best is trial 77 with value: 0.8135390514343965.\u001b[0m\n",
      "\u001b[32m[I 2023-04-28 13:04:54,376]\u001b[0m Trial 372 finished with value: 0.8133089031934124 and parameters: {'n_estimators': 280, 'min_samples_leaf': 3, 'max_depth': 39}. Best is trial 77 with value: 0.8135390514343965.\u001b[0m\n",
      "\u001b[32m[I 2023-04-28 13:04:54,407]\u001b[0m Trial 375 finished with value: 0.8029011028330558 and parameters: {'n_estimators': 280, 'min_samples_leaf': 6, 'max_depth': 39}. Best is trial 77 with value: 0.8135390514343965.\u001b[0m\n",
      "\u001b[32m[I 2023-04-28 13:04:54,409]\u001b[0m Trial 374 finished with value: 0.8029011028330558 and parameters: {'n_estimators': 280, 'min_samples_leaf': 6, 'max_depth': 38}. Best is trial 77 with value: 0.8135390514343965.\u001b[0m\n",
      "\u001b[32m[I 2023-04-28 13:04:57,232]\u001b[0m Trial 379 finished with value: 0.8133089031934124 and parameters: {'n_estimators': 280, 'min_samples_leaf': 3, 'max_depth': 40}. Best is trial 77 with value: 0.8135390514343965.\u001b[0m\n",
      "\u001b[32m[I 2023-04-28 13:05:00,675]\u001b[0m Trial 376 finished with value: 0.8133089031934124 and parameters: {'n_estimators': 280, 'min_samples_leaf': 3, 'max_depth': 37}. Best is trial 77 with value: 0.8135390514343965.\u001b[0m\n",
      "\u001b[32m[I 2023-04-28 13:05:01,283]\u001b[0m Trial 377 finished with value: 0.8133089031934124 and parameters: {'n_estimators': 280, 'min_samples_leaf': 3, 'max_depth': 40}. Best is trial 77 with value: 0.8135390514343965.\u001b[0m\n",
      "\u001b[32m[I 2023-04-28 13:05:01,955]\u001b[0m Trial 380 finished with value: 0.8133089031934124 and parameters: {'n_estimators': 280, 'min_samples_leaf': 3, 'max_depth': 40}. Best is trial 77 with value: 0.8135390514343965.\u001b[0m\n",
      "\u001b[32m[I 2023-04-28 13:05:02,132]\u001b[0m Trial 381 finished with value: 0.801646802402405 and parameters: {'n_estimators': 220, 'min_samples_leaf': 6, 'max_depth': 30}. Best is trial 77 with value: 0.8135390514343965.\u001b[0m\n",
      "\u001b[32m[I 2023-04-28 13:05:03,151]\u001b[0m Trial 382 finished with value: 0.8028350305365077 and parameters: {'n_estimators': 220, 'min_samples_leaf': 5, 'max_depth': 30}. Best is trial 77 with value: 0.8135390514343965.\u001b[0m\n",
      "\u001b[32m[I 2023-04-28 13:05:03,225]\u001b[0m Trial 383 finished with value: 0.8133089031934124 and parameters: {'n_estimators': 280, 'min_samples_leaf': 3, 'max_depth': 40}. Best is trial 77 with value: 0.8135390514343965.\u001b[0m\n",
      "\u001b[32m[I 2023-04-28 13:05:03,672]\u001b[0m Trial 384 finished with value: 0.8092652543060641 and parameters: {'n_estimators': 220, 'min_samples_leaf': 3, 'max_depth': 40}. Best is trial 77 with value: 0.8135390514343965.\u001b[0m\n",
      "\u001b[32m[I 2023-04-28 13:05:03,725]\u001b[0m Trial 385 finished with value: 0.8133089031934124 and parameters: {'n_estimators': 280, 'min_samples_leaf': 3, 'max_depth': 40}. Best is trial 77 with value: 0.8135390514343965.\u001b[0m\n",
      "\u001b[32m[I 2023-04-28 13:05:04,314]\u001b[0m Trial 386 finished with value: 0.8123342829585974 and parameters: {'n_estimators': 250, 'min_samples_leaf': 3, 'max_depth': 30}. Best is trial 77 with value: 0.8135390514343965.\u001b[0m\n",
      "\u001b[32m[I 2023-04-28 13:05:07,116]\u001b[0m Trial 388 finished with value: 0.8133089031934124 and parameters: {'n_estimators': 280, 'min_samples_leaf': 3, 'max_depth': 35}. Best is trial 77 with value: 0.8135390514343965.\u001b[0m\n",
      "\u001b[32m[I 2023-04-28 13:05:08,843]\u001b[0m Trial 387 finished with value: 0.8133089031934124 and parameters: {'n_estimators': 280, 'min_samples_leaf': 3, 'max_depth': 40}. Best is trial 77 with value: 0.8135390514343965.\u001b[0m\n",
      "\u001b[32m[I 2023-04-28 13:05:10,751]\u001b[0m Trial 389 finished with value: 0.8092652543060641 and parameters: {'n_estimators': 220, 'min_samples_leaf': 3, 'max_depth': 40}. Best is trial 77 with value: 0.8135390514343965.\u001b[0m\n",
      "\u001b[32m[I 2023-04-28 13:05:11,214]\u001b[0m Trial 390 finished with value: 0.8119686149183554 and parameters: {'n_estimators': 250, 'min_samples_leaf': 3, 'max_depth': 40}. Best is trial 77 with value: 0.8135390514343965.\u001b[0m\n",
      "\u001b[32m[I 2023-04-28 13:05:11,604]\u001b[0m Trial 393 finished with value: 0.813068482863037 and parameters: {'n_estimators': 280, 'min_samples_leaf': 3, 'max_depth': 30}. Best is trial 77 with value: 0.8135390514343965.\u001b[0m\n",
      "\u001b[32m[I 2023-04-28 13:05:14,190]\u001b[0m Trial 391 finished with value: 0.813068482863037 and parameters: {'n_estimators': 280, 'min_samples_leaf': 3, 'max_depth': 30}. Best is trial 77 with value: 0.8135390514343965.\u001b[0m\n",
      "\u001b[32m[I 2023-04-28 13:05:14,471]\u001b[0m Trial 392 finished with value: 0.813068482863037 and parameters: {'n_estimators': 280, 'min_samples_leaf': 3, 'max_depth': 30}. Best is trial 77 with value: 0.8135390514343965.\u001b[0m\n",
      "\u001b[32m[I 2023-04-28 13:05:14,712]\u001b[0m Trial 399 finished with value: 0.8123342829585974 and parameters: {'n_estimators': 250, 'min_samples_leaf': 3, 'max_depth': 30}. Best is trial 77 with value: 0.8135390514343965.\u001b[0m\n",
      "\u001b[32m[I 2023-04-28 13:05:14,733]\u001b[0m Trial 394 finished with value: 0.813068482863037 and parameters: {'n_estimators': 280, 'min_samples_leaf': 3, 'max_depth': 30}. Best is trial 77 with value: 0.8135390514343965.\u001b[0m\n",
      "\u001b[32m[I 2023-04-28 13:05:14,819]\u001b[0m Trial 396 finished with value: 0.813068482863037 and parameters: {'n_estimators': 280, 'min_samples_leaf': 3, 'max_depth': 30}. Best is trial 77 with value: 0.8135390514343965.\u001b[0m\n",
      "\u001b[32m[I 2023-04-28 13:05:14,821]\u001b[0m Trial 395 finished with value: 0.813068482863037 and parameters: {'n_estimators': 280, 'min_samples_leaf': 3, 'max_depth': 30}. Best is trial 77 with value: 0.8135390514343965.\u001b[0m\n",
      "\u001b[32m[I 2023-04-28 13:05:16,388]\u001b[0m Trial 397 finished with value: 0.8133089031934124 and parameters: {'n_estimators': 280, 'min_samples_leaf': 3, 'max_depth': 40}. Best is trial 77 with value: 0.8135390514343965.\u001b[0m\n",
      "\u001b[32m[I 2023-04-28 13:05:16,667]\u001b[0m Trial 398 finished with value: 0.809636358882394 and parameters: {'n_estimators': 220, 'min_samples_leaf': 3, 'max_depth': 30}. Best is trial 77 with value: 0.8135390514343965.\u001b[0m\n",
      "\u001b[32m[I 2023-04-28 13:05:20,299]\u001b[0m Trial 400 finished with value: 0.8123342829585974 and parameters: {'n_estimators': 250, 'min_samples_leaf': 3, 'max_depth': 30}. Best is trial 77 with value: 0.8135390514343965.\u001b[0m\n",
      "\u001b[32m[I 2023-04-28 13:05:20,305]\u001b[0m Trial 401 finished with value: 0.809636358882394 and parameters: {'n_estimators': 220, 'min_samples_leaf': 3, 'max_depth': 30}. Best is trial 77 with value: 0.8135390514343965.\u001b[0m\n",
      "\u001b[32m[I 2023-04-28 13:05:20,354]\u001b[0m Trial 402 finished with value: 0.8123342829585974 and parameters: {'n_estimators': 250, 'min_samples_leaf': 3, 'max_depth': 30}. Best is trial 77 with value: 0.8135390514343965.\u001b[0m\n",
      "\u001b[32m[I 2023-04-28 13:05:21,849]\u001b[0m Trial 403 finished with value: 0.8123342829585974 and parameters: {'n_estimators': 250, 'min_samples_leaf': 3, 'max_depth': 30}. Best is trial 77 with value: 0.8135390514343965.\u001b[0m\n",
      "\u001b[32m[I 2023-04-28 13:05:21,979]\u001b[0m Trial 404 finished with value: 0.8119686149183554 and parameters: {'n_estimators': 250, 'min_samples_leaf': 3, 'max_depth': 35}. Best is trial 77 with value: 0.8135390514343965.\u001b[0m\n",
      "\u001b[32m[I 2023-04-28 13:05:21,991]\u001b[0m Trial 407 finished with value: 0.8075416714930034 and parameters: {'n_estimators': 200, 'min_samples_leaf': 3, 'max_depth': 30}. Best is trial 77 with value: 0.8135390514343965.\u001b[0m\n",
      "\u001b[32m[I 2023-04-28 13:05:22,009]\u001b[0m Trial 406 finished with value: 0.809636358882394 and parameters: {'n_estimators': 220, 'min_samples_leaf': 3, 'max_depth': 30}. Best is trial 77 with value: 0.8135390514343965.\u001b[0m\n",
      "\u001b[32m[I 2023-04-28 13:05:22,034]\u001b[0m Trial 405 finished with value: 0.8123342829585974 and parameters: {'n_estimators': 250, 'min_samples_leaf': 3, 'max_depth': 30}. Best is trial 77 with value: 0.8135390514343965.\u001b[0m\n",
      "\u001b[32m[I 2023-04-28 13:05:24,878]\u001b[0m Trial 409 finished with value: 0.813068482863037 and parameters: {'n_estimators': 280, 'min_samples_leaf': 3, 'max_depth': 30}. Best is trial 77 with value: 0.8135390514343965.\u001b[0m\n",
      "\u001b[32m[I 2023-04-28 13:05:28,407]\u001b[0m Trial 411 finished with value: 0.813068482863037 and parameters: {'n_estimators': 280, 'min_samples_leaf': 3, 'max_depth': 30}. Best is trial 77 with value: 0.8135390514343965.\u001b[0m\n",
      "\u001b[32m[I 2023-04-28 13:05:28,537]\u001b[0m Trial 408 finished with value: 0.8119686149183554 and parameters: {'n_estimators': 250, 'min_samples_leaf': 3, 'max_depth': 35}. Best is trial 77 with value: 0.8135390514343965.\u001b[0m\n",
      "\u001b[32m[I 2023-04-28 13:05:28,564]\u001b[0m Trial 413 finished with value: 0.8136745712336545 and parameters: {'n_estimators': 280, 'min_samples_leaf': 3, 'max_depth': 31}. Best is trial 413 with value: 0.8136745712336545.\u001b[0m\n",
      "\u001b[32m[I 2023-04-28 13:05:28,752]\u001b[0m Trial 412 finished with value: 0.8133089031934124 and parameters: {'n_estimators': 280, 'min_samples_leaf': 3, 'max_depth': 35}. Best is trial 413 with value: 0.8136745712336545.\u001b[0m\n",
      "\u001b[32m[I 2023-04-28 13:05:29,307]\u001b[0m Trial 410 finished with value: 0.813068482863037 and parameters: {'n_estimators': 280, 'min_samples_leaf': 3, 'max_depth': 30}. Best is trial 413 with value: 0.8136745712336545.\u001b[0m\n",
      "\u001b[32m[I 2023-04-28 13:05:31,297]\u001b[0m Trial 415 finished with value: 0.813068482863037 and parameters: {'n_estimators': 280, 'min_samples_leaf': 3, 'max_depth': 30}. Best is trial 413 with value: 0.8136745712336545.\u001b[0m\n",
      "\u001b[32m[I 2023-04-28 13:05:31,305]\u001b[0m Trial 414 finished with value: 0.813068482863037 and parameters: {'n_estimators': 280, 'min_samples_leaf': 3, 'max_depth': 30}. Best is trial 413 with value: 0.8136745712336545.\u001b[0m\n",
      "\u001b[32m[I 2023-04-28 13:05:31,949]\u001b[0m Trial 417 finished with value: 0.813068482863037 and parameters: {'n_estimators': 280, 'min_samples_leaf': 3, 'max_depth': 30}. Best is trial 413 with value: 0.8136745712336545.\u001b[0m\n",
      "\u001b[32m[I 2023-04-28 13:05:34,696]\u001b[0m Trial 418 finished with value: 0.813068482863037 and parameters: {'n_estimators': 280, 'min_samples_leaf': 3, 'max_depth': 30}. Best is trial 413 with value: 0.8136745712336545.\u001b[0m\n",
      "\u001b[32m[I 2023-04-28 13:05:34,703]\u001b[0m Trial 416 finished with value: 0.813068482863037 and parameters: {'n_estimators': 280, 'min_samples_leaf': 3, 'max_depth': 30}. Best is trial 413 with value: 0.8136745712336545.\u001b[0m\n",
      "\u001b[32m[I 2023-04-28 13:05:37,779]\u001b[0m Trial 420 finished with value: 0.813068482863037 and parameters: {'n_estimators': 280, 'min_samples_leaf': 3, 'max_depth': 30}. Best is trial 413 with value: 0.8136745712336545.\u001b[0m\n",
      "\u001b[32m[I 2023-04-28 13:05:37,784]\u001b[0m Trial 423 finished with value: 0.813068482863037 and parameters: {'n_estimators': 280, 'min_samples_leaf': 3, 'max_depth': 30}. Best is trial 413 with value: 0.8136745712336545.\u001b[0m\n",
      "\u001b[32m[I 2023-04-28 13:05:37,788]\u001b[0m Trial 422 finished with value: 0.8136745712336545 and parameters: {'n_estimators': 280, 'min_samples_leaf': 3, 'max_depth': 31}. Best is trial 413 with value: 0.8136745712336545.\u001b[0m\n",
      "\u001b[32m[I 2023-04-28 13:05:38,651]\u001b[0m Trial 421 finished with value: 0.813068482863037 and parameters: {'n_estimators': 280, 'min_samples_leaf': 3, 'max_depth': 30}. Best is trial 413 with value: 0.8136745712336545.\u001b[0m\n",
      "\u001b[32m[I 2023-04-28 13:05:38,690]\u001b[0m Trial 419 finished with value: 0.813068482863037 and parameters: {'n_estimators': 280, 'min_samples_leaf': 3, 'max_depth': 30}. Best is trial 413 with value: 0.8136745712336545.\u001b[0m\n",
      "\u001b[32m[I 2023-04-28 13:05:39,697]\u001b[0m Trial 425 finished with value: 0.8133089031934124 and parameters: {'n_estimators': 280, 'min_samples_leaf': 3, 'max_depth': 35}. Best is trial 413 with value: 0.8136745712336545.\u001b[0m\n",
      "\u001b[32m[I 2023-04-28 13:05:41,706]\u001b[0m Trial 426 finished with value: 0.813068482863037 and parameters: {'n_estimators': 280, 'min_samples_leaf': 3, 'max_depth': 30}. Best is trial 413 with value: 0.8136745712336545.\u001b[0m\n",
      "\u001b[32m[I 2023-04-28 13:05:41,709]\u001b[0m Trial 427 finished with value: 0.813068482863037 and parameters: {'n_estimators': 280, 'min_samples_leaf': 3, 'max_depth': 30}. Best is trial 413 with value: 0.8136745712336545.\u001b[0m\n",
      "\u001b[32m[I 2023-04-28 13:05:41,751]\u001b[0m Trial 429 finished with value: 0.8133168853159661 and parameters: {'n_estimators': 280, 'min_samples_leaf': 3, 'max_depth': 24}. Best is trial 413 with value: 0.8136745712336545.\u001b[0m\n",
      "\u001b[32m[I 2023-04-28 13:05:41,753]\u001b[0m Trial 428 finished with value: 0.813068482863037 and parameters: {'n_estimators': 280, 'min_samples_leaf': 3, 'max_depth': 30}. Best is trial 413 with value: 0.8136745712336545.\u001b[0m\n",
      "\u001b[32m[I 2023-04-28 13:05:41,758]\u001b[0m Trial 424 finished with value: 0.813068482863037 and parameters: {'n_estimators': 280, 'min_samples_leaf': 3, 'max_depth': 30}. Best is trial 413 with value: 0.8136745712336545.\u001b[0m\n",
      "\u001b[32m[I 2023-04-28 13:05:41,889]\u001b[0m Trial 430 finished with value: 0.813068482863037 and parameters: {'n_estimators': 280, 'min_samples_leaf': 3, 'max_depth': 30}. Best is trial 413 with value: 0.8136745712336545.\u001b[0m\n",
      "\u001b[32m[I 2023-04-28 13:05:48,760]\u001b[0m Trial 434 finished with value: 0.8070298213598249 and parameters: {'n_estimators': 170, 'min_samples_leaf': 3, 'max_depth': 30}. Best is trial 413 with value: 0.8136745712336545.\u001b[0m\n",
      "\u001b[32m[I 2023-04-28 13:05:49,431]\u001b[0m Trial 432 finished with value: 0.813068482863037 and parameters: {'n_estimators': 280, 'min_samples_leaf': 3, 'max_depth': 30}. Best is trial 413 with value: 0.8136745712336545.\u001b[0m\n",
      "\u001b[32m[I 2023-04-28 13:05:49,476]\u001b[0m Trial 433 finished with value: 0.813068482863037 and parameters: {'n_estimators': 280, 'min_samples_leaf': 3, 'max_depth': 30}. Best is trial 413 with value: 0.8136745712336545.\u001b[0m\n",
      "\u001b[32m[I 2023-04-28 13:05:49,695]\u001b[0m Trial 431 finished with value: 0.813068482863037 and parameters: {'n_estimators': 280, 'min_samples_leaf': 3, 'max_depth': 30}. Best is trial 413 with value: 0.8136745712336545.\u001b[0m\n",
      "\u001b[32m[I 2023-04-28 13:05:51,514]\u001b[0m Trial 435 finished with value: 0.813068482863037 and parameters: {'n_estimators': 280, 'min_samples_leaf': 3, 'max_depth': 30}. Best is trial 413 with value: 0.8136745712336545.\u001b[0m\n",
      "\u001b[32m[I 2023-04-28 13:05:51,581]\u001b[0m Trial 436 finished with value: 0.8070298213598249 and parameters: {'n_estimators': 170, 'min_samples_leaf': 3, 'max_depth': 31}. Best is trial 413 with value: 0.8136745712336545.\u001b[0m\n",
      "\u001b[32m[I 2023-04-28 13:05:51,596]\u001b[0m Trial 439 finished with value: 0.813068482863037 and parameters: {'n_estimators': 280, 'min_samples_leaf': 3, 'max_depth': 30}. Best is trial 413 with value: 0.8136745712336545.\u001b[0m\n",
      "\u001b[32m[I 2023-04-28 13:05:51,612]\u001b[0m Trial 438 finished with value: 0.813068482863037 and parameters: {'n_estimators': 280, 'min_samples_leaf': 3, 'max_depth': 30}. Best is trial 413 with value: 0.8136745712336545.\u001b[0m\n",
      "\u001b[32m[I 2023-04-28 13:05:51,647]\u001b[0m Trial 437 finished with value: 0.8054746546486932 and parameters: {'n_estimators': 280, 'min_samples_leaf': 3, 'max_depth': 15}. Best is trial 413 with value: 0.8136745712336545.\u001b[0m\n",
      "\u001b[32m[I 2023-04-28 13:05:53,786]\u001b[0m Trial 440 finished with value: 0.8133089031934124 and parameters: {'n_estimators': 280, 'min_samples_leaf': 3, 'max_depth': 39}. Best is trial 413 with value: 0.8136745712336545.\u001b[0m\n",
      "\u001b[32m[I 2023-04-28 13:05:54,501]\u001b[0m Trial 441 finished with value: 0.8136745712336545 and parameters: {'n_estimators': 280, 'min_samples_leaf': 3, 'max_depth': 31}. Best is trial 413 with value: 0.8136745712336545.\u001b[0m\n",
      "\u001b[32m[I 2023-04-28 13:05:56,628]\u001b[0m Trial 447 finished with value: 0.8065425557747208 and parameters: {'n_estimators': 180, 'min_samples_leaf': 3, 'max_depth': 35}. Best is trial 413 with value: 0.8136745712336545.\u001b[0m\n",
      "\u001b[32m[I 2023-04-28 13:05:58,287]\u001b[0m Trial 445 finished with value: 0.8082827457692833 and parameters: {'n_estimators': 200, 'min_samples_leaf': 3, 'max_depth': 31}. Best is trial 413 with value: 0.8136745712336545.\u001b[0m\n",
      "\u001b[32m[I 2023-04-28 13:05:59,038]\u001b[0m Trial 443 finished with value: 0.8136745712336545 and parameters: {'n_estimators': 280, 'min_samples_leaf': 3, 'max_depth': 31}. Best is trial 413 with value: 0.8136745712336545.\u001b[0m\n",
      "\u001b[32m[I 2023-04-28 13:05:59,078]\u001b[0m Trial 444 finished with value: 0.8136745712336545 and parameters: {'n_estimators': 280, 'min_samples_leaf': 3, 'max_depth': 31}. Best is trial 413 with value: 0.8136745712336545.\u001b[0m\n",
      "\u001b[32m[I 2023-04-28 13:05:59,448]\u001b[0m Trial 442 finished with value: 0.8136745712336545 and parameters: {'n_estimators': 280, 'min_samples_leaf': 3, 'max_depth': 31}. Best is trial 413 with value: 0.8136745712336545.\u001b[0m\n",
      "\u001b[32m[I 2023-04-28 13:06:01,197]\u001b[0m Trial 450 finished with value: 0.8133089031934124 and parameters: {'n_estimators': 280, 'min_samples_leaf': 3, 'max_depth': 39}. Best is trial 413 with value: 0.8136745712336545.\u001b[0m\n",
      "\u001b[32m[I 2023-04-28 13:06:01,427]\u001b[0m Trial 446 finished with value: 0.8133089031934124 and parameters: {'n_estimators': 280, 'min_samples_leaf': 3, 'max_depth': 39}. Best is trial 413 with value: 0.8136745712336545.\u001b[0m\n",
      "\u001b[32m[I 2023-04-28 13:06:02,016]\u001b[0m Trial 448 finished with value: 0.8133168853159661 and parameters: {'n_estimators': 280, 'min_samples_leaf': 3, 'max_depth': 24}. Best is trial 413 with value: 0.8136745712336545.\u001b[0m\n",
      "\u001b[32m[I 2023-04-28 13:06:02,764]\u001b[0m Trial 449 finished with value: 0.8136745712336545 and parameters: {'n_estimators': 280, 'min_samples_leaf': 3, 'max_depth': 31}. Best is trial 413 with value: 0.8136745712336545.\u001b[0m\n",
      "\u001b[32m[I 2023-04-28 13:06:06,012]\u001b[0m Trial 454 finished with value: 0.8133089031934124 and parameters: {'n_estimators': 280, 'min_samples_leaf': 3, 'max_depth': 39}. Best is trial 413 with value: 0.8136745712336545.\u001b[0m\n",
      "\u001b[32m[I 2023-04-28 13:06:06,663]\u001b[0m Trial 452 finished with value: 0.8133168853159661 and parameters: {'n_estimators': 280, 'min_samples_leaf': 3, 'max_depth': 24}. Best is trial 413 with value: 0.8136745712336545.\u001b[0m\n",
      "\u001b[32m[I 2023-04-28 13:06:09,558]\u001b[0m Trial 453 finished with value: 0.8133089031934124 and parameters: {'n_estimators': 280, 'min_samples_leaf': 3, 'max_depth': 39}. Best is trial 413 with value: 0.8136745712336545.\u001b[0m\n",
      "\u001b[32m[I 2023-04-28 13:06:09,560]\u001b[0m Trial 451 finished with value: 0.8048436884247996 and parameters: {'n_estimators': 180, 'min_samples_leaf': 3, 'max_depth': 24}. Best is trial 413 with value: 0.8136745712336545.\u001b[0m\n",
      "\u001b[32m[I 2023-04-28 13:06:09,614]\u001b[0m Trial 455 finished with value: 0.8136745712336545 and parameters: {'n_estimators': 280, 'min_samples_leaf': 3, 'max_depth': 31}. Best is trial 413 with value: 0.8136745712336545.\u001b[0m\n",
      "\u001b[32m[I 2023-04-28 13:06:10,945]\u001b[0m Trial 458 finished with value: 0.8136745712336545 and parameters: {'n_estimators': 280, 'min_samples_leaf': 3, 'max_depth': 31}. Best is trial 413 with value: 0.8136745712336545.\u001b[0m\n",
      "\u001b[32m[I 2023-04-28 13:06:11,658]\u001b[0m Trial 457 finished with value: 0.8136745712336545 and parameters: {'n_estimators': 280, 'min_samples_leaf': 3, 'max_depth': 31}. Best is trial 413 with value: 0.8136745712336545.\u001b[0m\n",
      "\u001b[32m[I 2023-04-28 13:06:11,816]\u001b[0m Trial 456 finished with value: 0.8133089031934124 and parameters: {'n_estimators': 280, 'min_samples_leaf': 3, 'max_depth': 39}. Best is trial 413 with value: 0.8136745712336545.\u001b[0m\n",
      "\u001b[32m[I 2023-04-28 13:06:12,286]\u001b[0m Trial 459 finished with value: 0.8136745712336545 and parameters: {'n_estimators': 280, 'min_samples_leaf': 3, 'max_depth': 31}. Best is trial 413 with value: 0.8136745712336545.\u001b[0m\n",
      "\u001b[32m[I 2023-04-28 13:06:12,381]\u001b[0m Trial 464 finished with value: 0.8136745712336545 and parameters: {'n_estimators': 280, 'min_samples_leaf': 3, 'max_depth': 31}. Best is trial 413 with value: 0.8136745712336545.\u001b[0m\n",
      "\u001b[32m[I 2023-04-28 13:06:12,462]\u001b[0m Trial 461 finished with value: 0.8136745712336545 and parameters: {'n_estimators': 280, 'min_samples_leaf': 3, 'max_depth': 31}. Best is trial 413 with value: 0.8136745712336545.\u001b[0m\n",
      "\u001b[32m[I 2023-04-28 13:06:13,002]\u001b[0m Trial 460 finished with value: 0.8136745712336545 and parameters: {'n_estimators': 280, 'min_samples_leaf': 3, 'max_depth': 31}. Best is trial 413 with value: 0.8136745712336545.\u001b[0m\n",
      "\u001b[32m[I 2023-04-28 13:06:13,114]\u001b[0m Trial 463 finished with value: 0.8136745712336545 and parameters: {'n_estimators': 280, 'min_samples_leaf': 3, 'max_depth': 31}. Best is trial 413 with value: 0.8136745712336545.\u001b[0m\n",
      "\u001b[32m[I 2023-04-28 13:06:14,057]\u001b[0m Trial 462 finished with value: 0.8073958276649851 and parameters: {'n_estimators': 180, 'min_samples_leaf': 3, 'max_depth': 31}. Best is trial 413 with value: 0.8136745712336545.\u001b[0m\n",
      "\u001b[32m[I 2023-04-28 13:06:19,443]\u001b[0m Trial 466 finished with value: 0.8070298213598249 and parameters: {'n_estimators': 170, 'min_samples_leaf': 3, 'max_depth': 31}. Best is trial 413 with value: 0.8136745712336545.\u001b[0m\n",
      "\u001b[32m[I 2023-04-28 13:06:20,293]\u001b[0m Trial 467 finished with value: 0.8136745712336545 and parameters: {'n_estimators': 280, 'min_samples_leaf': 3, 'max_depth': 31}. Best is trial 413 with value: 0.8136745712336545.\u001b[0m\n",
      "\u001b[32m[I 2023-04-28 13:06:20,613]\u001b[0m Trial 465 finished with value: 0.8136745712336545 and parameters: {'n_estimators': 280, 'min_samples_leaf': 3, 'max_depth': 31}. Best is trial 413 with value: 0.8136745712336545.\u001b[0m\n",
      "\u001b[32m[I 2023-04-28 13:06:20,640]\u001b[0m Trial 469 finished with value: 0.8136745712336545 and parameters: {'n_estimators': 280, 'min_samples_leaf': 3, 'max_depth': 31}. Best is trial 413 with value: 0.8136745712336545.\u001b[0m\n",
      "\u001b[32m[I 2023-04-28 13:06:20,791]\u001b[0m Trial 470 finished with value: 0.8136745712336545 and parameters: {'n_estimators': 280, 'min_samples_leaf': 3, 'max_depth': 31}. Best is trial 413 with value: 0.8136745712336545.\u001b[0m\n",
      "\u001b[32m[I 2023-04-28 13:06:20,835]\u001b[0m Trial 468 finished with value: 0.8136745712336545 and parameters: {'n_estimators': 280, 'min_samples_leaf': 3, 'max_depth': 31}. Best is trial 413 with value: 0.8136745712336545.\u001b[0m\n",
      "\u001b[32m[I 2023-04-28 13:06:21,065]\u001b[0m Trial 472 finished with value: 0.8136745712336545 and parameters: {'n_estimators': 280, 'min_samples_leaf': 3, 'max_depth': 31}. Best is trial 413 with value: 0.8136745712336545.\u001b[0m\n",
      "\u001b[32m[I 2023-04-28 13:06:21,133]\u001b[0m Trial 475 finished with value: 0.8058084765955069 and parameters: {'n_estimators': 280, 'min_samples_leaf': 3, 'max_depth': 16}. Best is trial 413 with value: 0.8136745712336545.\u001b[0m\n",
      "\u001b[32m[I 2023-04-28 13:06:21,168]\u001b[0m Trial 471 finished with value: 0.8136745712336545 and parameters: {'n_estimators': 280, 'min_samples_leaf': 3, 'max_depth': 31}. Best is trial 413 with value: 0.8136745712336545.\u001b[0m\n",
      "\u001b[32m[I 2023-04-28 13:06:23,294]\u001b[0m Trial 476 finished with value: 0.8136745712336545 and parameters: {'n_estimators': 280, 'min_samples_leaf': 3, 'max_depth': 31}. Best is trial 413 with value: 0.8136745712336545.\u001b[0m\n",
      "\u001b[32m[I 2023-04-28 13:06:25,176]\u001b[0m Trial 473 finished with value: 0.8136745712336545 and parameters: {'n_estimators': 280, 'min_samples_leaf': 3, 'max_depth': 31}. Best is trial 413 with value: 0.8136745712336545.\u001b[0m\n",
      "\u001b[32m[I 2023-04-28 13:06:26,831]\u001b[0m Trial 478 finished with value: 0.8073958276649851 and parameters: {'n_estimators': 180, 'min_samples_leaf': 3, 'max_depth': 31}. Best is trial 413 with value: 0.8136745712336545.\u001b[0m\n",
      "\u001b[32m[I 2023-04-28 13:06:28,278]\u001b[0m Trial 474 finished with value: 0.8054746546486932 and parameters: {'n_estimators': 280, 'min_samples_leaf': 3, 'max_depth': 15}. Best is trial 413 with value: 0.8136745712336545.\u001b[0m\n",
      "\u001b[32m[I 2023-04-28 13:06:29,253]\u001b[0m Trial 477 finished with value: 0.8136745712336545 and parameters: {'n_estimators': 280, 'min_samples_leaf': 3, 'max_depth': 31}. Best is trial 413 with value: 0.8136745712336545.\u001b[0m\n",
      "\u001b[32m[I 2023-04-28 13:06:29,626]\u001b[0m Trial 480 finished with value: 0.8136745712336545 and parameters: {'n_estimators': 280, 'min_samples_leaf': 3, 'max_depth': 31}. Best is trial 413 with value: 0.8136745712336545.\u001b[0m\n",
      "\u001b[32m[I 2023-04-28 13:06:31,035]\u001b[0m Trial 482 finished with value: 0.8117489423475639 and parameters: {'n_estimators': 290, 'min_samples_leaf': 3, 'max_depth': 31}. Best is trial 413 with value: 0.8136745712336545.\u001b[0m\n",
      "\u001b[32m[I 2023-04-28 13:06:31,066]\u001b[0m Trial 479 finished with value: 0.8136745712336545 and parameters: {'n_estimators': 280, 'min_samples_leaf': 3, 'max_depth': 31}. Best is trial 413 with value: 0.8136745712336545.\u001b[0m\n",
      "\u001b[32m[I 2023-04-28 13:06:31,104]\u001b[0m Trial 481 finished with value: 0.8117489423475639 and parameters: {'n_estimators': 290, 'min_samples_leaf': 3, 'max_depth': 31}. Best is trial 413 with value: 0.8136745712336545.\u001b[0m\n",
      "\u001b[32m[I 2023-04-28 13:06:31,357]\u001b[0m Trial 487 finished with value: 0.8073958276649851 and parameters: {'n_estimators': 180, 'min_samples_leaf': 3, 'max_depth': 31}. Best is trial 413 with value: 0.8136745712336545.\u001b[0m\n",
      "\u001b[32m[I 2023-04-28 13:06:32,763]\u001b[0m Trial 483 finished with value: 0.7978734791979264 and parameters: {'n_estimators': 290, 'min_samples_leaf': 7, 'max_depth': 31}. Best is trial 413 with value: 0.8136745712336545.\u001b[0m\n",
      "\u001b[32m[I 2023-04-28 13:06:33,894]\u001b[0m Trial 485 finished with value: 0.8128335355150245 and parameters: {'n_estimators': 290, 'min_samples_leaf': 3, 'max_depth': 24}. Best is trial 413 with value: 0.8136745712336545.\u001b[0m\n",
      "\u001b[32m[I 2023-04-28 13:06:36,757]\u001b[0m Trial 484 finished with value: 0.8128335355150245 and parameters: {'n_estimators': 290, 'min_samples_leaf': 3, 'max_depth': 24}. Best is trial 413 with value: 0.8136745712336545.\u001b[0m\n",
      "\u001b[32m[I 2023-04-28 13:06:37,894]\u001b[0m Trial 488 finished with value: 0.8134312250853244 and parameters: {'n_estimators': 280, 'min_samples_leaf': 3, 'max_depth': 32}. Best is trial 413 with value: 0.8136745712336545.\u001b[0m\n",
      "\u001b[32m[I 2023-04-28 13:06:38,150]\u001b[0m Trial 486 finished with value: 0.7984850853913426 and parameters: {'n_estimators': 290, 'min_samples_leaf': 7, 'max_depth': 23}. Best is trial 413 with value: 0.8136745712336545.\u001b[0m\n",
      "\u001b[32m[I 2023-04-28 13:06:38,413]\u001b[0m Trial 490 finished with value: 0.8059530968972265 and parameters: {'n_estimators': 290, 'min_samples_leaf': 3, 'max_depth': 16}. Best is trial 413 with value: 0.8136745712336545.\u001b[0m\n",
      "\u001b[32m[I 2023-04-28 13:06:38,499]\u001b[0m Trial 493 finished with value: 0.8117489423475639 and parameters: {'n_estimators': 290, 'min_samples_leaf': 3, 'max_depth': 31}. Best is trial 413 with value: 0.8136745712336545.\u001b[0m\n",
      "\u001b[32m[I 2023-04-28 13:06:38,567]\u001b[0m Trial 489 finished with value: 0.8128335355150245 and parameters: {'n_estimators': 290, 'min_samples_leaf': 3, 'max_depth': 24}. Best is trial 413 with value: 0.8136745712336545.\u001b[0m\n",
      "\u001b[32m[I 2023-04-28 13:06:38,630]\u001b[0m Trial 492 finished with value: 0.8117489423475639 and parameters: {'n_estimators': 290, 'min_samples_leaf': 3, 'max_depth': 31}. Best is trial 413 with value: 0.8136745712336545.\u001b[0m\n",
      "\u001b[32m[I 2023-04-28 13:06:39,759]\u001b[0m Trial 491 finished with value: 0.8121147960061006 and parameters: {'n_estimators': 290, 'min_samples_leaf': 3, 'max_depth': 32}. Best is trial 413 with value: 0.8136745712336545.\u001b[0m\n",
      "\u001b[32m[I 2023-04-28 13:06:45,755]\u001b[0m Trial 498 finished with value: 0.8086233277773255 and parameters: {'n_estimators': 160, 'min_samples_leaf': 3, 'max_depth': 31}. Best is trial 413 with value: 0.8136745712336545.\u001b[0m\n",
      "\u001b[32m[I 2023-04-28 13:06:46,454]\u001b[0m Trial 494 finished with value: 0.8117489423475639 and parameters: {'n_estimators': 290, 'min_samples_leaf': 3, 'max_depth': 31}. Best is trial 413 with value: 0.8136745712336545.\u001b[0m\n",
      "\u001b[32m[I 2023-04-28 13:06:46,949]\u001b[0m Trial 497 finished with value: 0.8117489423475639 and parameters: {'n_estimators': 290, 'min_samples_leaf': 3, 'max_depth': 31}. Best is trial 413 with value: 0.8136745712336545.\u001b[0m\n",
      "\u001b[32m[I 2023-04-28 13:06:46,951]\u001b[0m Trial 499 finished with value: 0.8128335355150245 and parameters: {'n_estimators': 290, 'min_samples_leaf': 3, 'max_depth': 24}. Best is trial 413 with value: 0.8136745712336545.\u001b[0m\n",
      "\u001b[32m[I 2023-04-28 13:06:49,109]\u001b[0m Trial 496 finished with value: 0.8117489423475639 and parameters: {'n_estimators': 290, 'min_samples_leaf': 3, 'max_depth': 31}. Best is trial 413 with value: 0.8136745712336545.\u001b[0m\n",
      "\u001b[32m[I 2023-04-28 13:06:49,359]\u001b[0m Trial 495 finished with value: 0.8128335355150245 and parameters: {'n_estimators': 290, 'min_samples_leaf': 3, 'max_depth': 24}. Best is trial 413 with value: 0.8136745712336545.\u001b[0m\n",
      "\u001b[32m[I 2023-04-28 13:06:50,355]\u001b[0m Trial 503 finished with value: 0.8128335355150245 and parameters: {'n_estimators': 290, 'min_samples_leaf': 3, 'max_depth': 24}. Best is trial 413 with value: 0.8136745712336545.\u001b[0m\n",
      "\u001b[32m[I 2023-04-28 13:06:50,428]\u001b[0m Trial 501 finished with value: 0.7978734791979264 and parameters: {'n_estimators': 290, 'min_samples_leaf': 7, 'max_depth': 31}. Best is trial 413 with value: 0.8136745712336545.\u001b[0m\n",
      "\u001b[32m[I 2023-04-28 13:06:50,433]\u001b[0m Trial 500 finished with value: 0.8135487557047641 and parameters: {'n_estimators': 290, 'min_samples_leaf': 3, 'max_depth': 25}. Best is trial 413 with value: 0.8136745712336545.\u001b[0m\n",
      "\u001b[32m[I 2023-04-28 13:06:54,027]\u001b[0m Trial 504 finished with value: 0.8101382663298955 and parameters: {'n_estimators': 290, 'min_samples_leaf': 3, 'max_depth': 23}. Best is trial 413 with value: 0.8136745712336545.\u001b[0m\n",
      "\u001b[32m[I 2023-04-28 13:06:55,173]\u001b[0m Trial 506 finished with value: 0.8117489423475639 and parameters: {'n_estimators': 290, 'min_samples_leaf': 3, 'max_depth': 31}. Best is trial 413 with value: 0.8136745712336545.\u001b[0m\n",
      "\u001b[32m[I 2023-04-28 13:06:56,709]\u001b[0m Trial 507 finished with value: 0.7978734791979264 and parameters: {'n_estimators': 290, 'min_samples_leaf': 7, 'max_depth': 31}. Best is trial 413 with value: 0.8136745712336545.\u001b[0m\n",
      "\u001b[32m[I 2023-04-28 13:06:56,711]\u001b[0m Trial 505 finished with value: 0.7978734791979264 and parameters: {'n_estimators': 290, 'min_samples_leaf': 7, 'max_depth': 31}. Best is trial 413 with value: 0.8136745712336545.\u001b[0m\n",
      "\u001b[32m[I 2023-04-28 13:06:58,958]\u001b[0m Trial 508 finished with value: 0.8117489423475639 and parameters: {'n_estimators': 290, 'min_samples_leaf': 3, 'max_depth': 31}. Best is trial 413 with value: 0.8136745712336545.\u001b[0m\n",
      "\u001b[32m[I 2023-04-28 13:06:59,762]\u001b[0m Trial 516 finished with value: 0.8117489423475639 and parameters: {'n_estimators': 290, 'min_samples_leaf': 3, 'max_depth': 31}. Best is trial 413 with value: 0.8136745712336545.\u001b[0m\n",
      "\u001b[32m[I 2023-04-28 13:07:01,638]\u001b[0m Trial 502 finished with value: 0.8117489423475639 and parameters: {'n_estimators': 290, 'min_samples_leaf': 3, 'max_depth': 31}. Best is trial 413 with value: 0.8136745712336545.\u001b[0m\n",
      "\u001b[32m[I 2023-04-28 13:07:02,171]\u001b[0m Trial 513 finished with value: 0.8117489423475639 and parameters: {'n_estimators': 290, 'min_samples_leaf': 3, 'max_depth': 31}. Best is trial 413 with value: 0.8136745712336545.\u001b[0m\n",
      "\u001b[32m[I 2023-04-28 13:07:02,374]\u001b[0m Trial 509 finished with value: 0.8117489423475639 and parameters: {'n_estimators': 290, 'min_samples_leaf': 3, 'max_depth': 31}. Best is trial 413 with value: 0.8136745712336545.\u001b[0m\n",
      "\u001b[32m[I 2023-04-28 13:07:02,392]\u001b[0m Trial 517 finished with value: 0.7978734791979264 and parameters: {'n_estimators': 290, 'min_samples_leaf': 7, 'max_depth': 31}. Best is trial 413 with value: 0.8136745712336545.\u001b[0m\n",
      "\u001b[32m[I 2023-04-28 13:07:02,874]\u001b[0m Trial 511 finished with value: 0.8117489423475639 and parameters: {'n_estimators': 290, 'min_samples_leaf': 3, 'max_depth': 31}. Best is trial 413 with value: 0.8136745712336545.\u001b[0m\n",
      "\u001b[32m[I 2023-04-28 13:07:03,654]\u001b[0m Trial 512 finished with value: 0.8117489423475639 and parameters: {'n_estimators': 290, 'min_samples_leaf': 3, 'max_depth': 31}. Best is trial 413 with value: 0.8136745712336545.\u001b[0m\n",
      "\u001b[32m[I 2023-04-28 13:07:03,684]\u001b[0m Trial 510 finished with value: 0.8117489423475639 and parameters: {'n_estimators': 290, 'min_samples_leaf': 3, 'max_depth': 31}. Best is trial 413 with value: 0.8136745712336545.\u001b[0m\n",
      "\u001b[32m[I 2023-04-28 13:07:04,289]\u001b[0m Trial 514 finished with value: 0.8117489423475639 and parameters: {'n_estimators': 290, 'min_samples_leaf': 3, 'max_depth': 31}. Best is trial 413 with value: 0.8136745712336545.\u001b[0m\n",
      "\u001b[32m[I 2023-04-28 13:07:06,133]\u001b[0m Trial 515 finished with value: 0.8117489423475639 and parameters: {'n_estimators': 290, 'min_samples_leaf': 3, 'max_depth': 31}. Best is trial 413 with value: 0.8136745712336545.\u001b[0m\n",
      "\u001b[32m[I 2023-04-28 13:07:10,427]\u001b[0m Trial 519 finished with value: 0.8117489423475639 and parameters: {'n_estimators': 290, 'min_samples_leaf': 3, 'max_depth': 31}. Best is trial 413 with value: 0.8136745712336545.\u001b[0m\n",
      "\u001b[32m[I 2023-04-28 13:07:10,686]\u001b[0m Trial 520 finished with value: 0.8117489423475639 and parameters: {'n_estimators': 290, 'min_samples_leaf': 3, 'max_depth': 31}. Best is trial 413 with value: 0.8136745712336545.\u001b[0m\n",
      "\u001b[32m[I 2023-04-28 13:07:10,720]\u001b[0m Trial 521 finished with value: 0.8117489423475639 and parameters: {'n_estimators': 290, 'min_samples_leaf': 3, 'max_depth': 31}. Best is trial 413 with value: 0.8136745712336545.\u001b[0m\n",
      "\u001b[32m[I 2023-04-28 13:07:11,321]\u001b[0m Trial 518 finished with value: 0.8117489423475639 and parameters: {'n_estimators': 290, 'min_samples_leaf': 3, 'max_depth': 31}. Best is trial 413 with value: 0.8136745712336545.\u001b[0m\n",
      "\u001b[32m[I 2023-04-28 13:07:11,334]\u001b[0m Trial 523 finished with value: 0.8117489423475639 and parameters: {'n_estimators': 290, 'min_samples_leaf': 3, 'max_depth': 31}. Best is trial 413 with value: 0.8136745712336545.\u001b[0m\n",
      "\u001b[32m[I 2023-04-28 13:07:11,739]\u001b[0m Trial 524 finished with value: 0.8136745712336545 and parameters: {'n_estimators': 280, 'min_samples_leaf': 3, 'max_depth': 31}. Best is trial 413 with value: 0.8136745712336545.\u001b[0m\n",
      "\u001b[32m[I 2023-04-28 13:07:12,201]\u001b[0m Trial 522 finished with value: 0.8117489423475639 and parameters: {'n_estimators': 290, 'min_samples_leaf': 3, 'max_depth': 31}. Best is trial 413 with value: 0.8136745712336545.\u001b[0m\n",
      "\u001b[32m[I 2023-04-28 13:07:14,317]\u001b[0m Trial 527 finished with value: 0.8117489423475639 and parameters: {'n_estimators': 290, 'min_samples_leaf': 3, 'max_depth': 31}. Best is trial 413 with value: 0.8136745712336545.\u001b[0m\n",
      "\u001b[32m[I 2023-04-28 13:07:14,415]\u001b[0m Trial 525 finished with value: 0.8117489423475639 and parameters: {'n_estimators': 290, 'min_samples_leaf': 3, 'max_depth': 31}. Best is trial 413 with value: 0.8136745712336545.\u001b[0m\n",
      "\u001b[32m[I 2023-04-28 13:07:14,730]\u001b[0m Trial 526 finished with value: 0.8117489423475639 and parameters: {'n_estimators': 290, 'min_samples_leaf': 3, 'max_depth': 31}. Best is trial 413 with value: 0.8136745712336545.\u001b[0m\n",
      "\u001b[32m[I 2023-04-28 13:07:18,374]\u001b[0m Trial 529 finished with value: 0.8117489423475639 and parameters: {'n_estimators': 290, 'min_samples_leaf': 3, 'max_depth': 31}. Best is trial 413 with value: 0.8136745712336545.\u001b[0m\n",
      "\u001b[32m[I 2023-04-28 13:07:21,788]\u001b[0m Trial 528 finished with value: 0.8117489423475639 and parameters: {'n_estimators': 290, 'min_samples_leaf': 3, 'max_depth': 31}. Best is trial 413 with value: 0.8136745712336545.\u001b[0m\n",
      "\u001b[32m[I 2023-04-28 13:07:22,530]\u001b[0m Trial 530 finished with value: 0.8117489423475639 and parameters: {'n_estimators': 290, 'min_samples_leaf': 3, 'max_depth': 31}. Best is trial 413 with value: 0.8136745712336545.\u001b[0m\n",
      "\u001b[32m[I 2023-04-28 13:07:23,961]\u001b[0m Trial 531 finished with value: 0.8117489423475639 and parameters: {'n_estimators': 290, 'min_samples_leaf': 3, 'max_depth': 31}. Best is trial 413 with value: 0.8136745712336545.\u001b[0m\n",
      "\u001b[32m[I 2023-04-28 13:07:23,986]\u001b[0m Trial 532 finished with value: 0.8117489423475639 and parameters: {'n_estimators': 290, 'min_samples_leaf': 3, 'max_depth': 31}. Best is trial 413 with value: 0.8136745712336545.\u001b[0m\n",
      "\u001b[32m[I 2023-04-28 13:07:24,196]\u001b[0m Trial 533 finished with value: 0.8117489423475639 and parameters: {'n_estimators': 290, 'min_samples_leaf': 3, 'max_depth': 31}. Best is trial 413 with value: 0.8136745712336545.\u001b[0m\n",
      "\u001b[32m[I 2023-04-28 13:07:24,198]\u001b[0m Trial 534 finished with value: 0.8117489423475639 and parameters: {'n_estimators': 290, 'min_samples_leaf': 3, 'max_depth': 31}. Best is trial 413 with value: 0.8136745712336545.\u001b[0m\n",
      "\u001b[32m[I 2023-04-28 13:07:24,799]\u001b[0m Trial 536 finished with value: 0.8117489423475639 and parameters: {'n_estimators': 290, 'min_samples_leaf': 3, 'max_depth': 31}. Best is trial 413 with value: 0.8136745712336545.\u001b[0m\n",
      "\u001b[32m[I 2023-04-28 13:07:24,837]\u001b[0m Trial 537 finished with value: 0.8117489423475639 and parameters: {'n_estimators': 290, 'min_samples_leaf': 3, 'max_depth': 31}. Best is trial 413 with value: 0.8136745712336545.\u001b[0m\n",
      "\u001b[32m[I 2023-04-28 13:07:25,422]\u001b[0m Trial 535 finished with value: 0.8117489423475639 and parameters: {'n_estimators': 290, 'min_samples_leaf': 3, 'max_depth': 31}. Best is trial 413 with value: 0.8136745712336545.\u001b[0m\n",
      "\u001b[32m[I 2023-04-28 13:07:26,250]\u001b[0m Trial 538 finished with value: 0.8117489423475639 and parameters: {'n_estimators': 290, 'min_samples_leaf': 3, 'max_depth': 31}. Best is trial 413 with value: 0.8136745712336545.\u001b[0m\n",
      "\u001b[32m[I 2023-04-28 13:07:26,257]\u001b[0m Trial 539 finished with value: 0.8117489423475639 and parameters: {'n_estimators': 290, 'min_samples_leaf': 3, 'max_depth': 31}. Best is trial 413 with value: 0.8136745712336545.\u001b[0m\n",
      "\u001b[32m[I 2023-04-28 13:07:26,325]\u001b[0m Trial 540 finished with value: 0.8117489423475639 and parameters: {'n_estimators': 290, 'min_samples_leaf': 3, 'max_depth': 31}. Best is trial 413 with value: 0.8136745712336545.\u001b[0m\n",
      "\u001b[32m[I 2023-04-28 13:07:31,570]\u001b[0m Trial 541 finished with value: 0.8117489423475639 and parameters: {'n_estimators': 290, 'min_samples_leaf': 3, 'max_depth': 31}. Best is trial 413 with value: 0.8136745712336545.\u001b[0m\n",
      "\u001b[32m[I 2023-04-28 13:07:32,762]\u001b[0m Trial 543 finished with value: 0.8121147960061006 and parameters: {'n_estimators': 290, 'min_samples_leaf': 3, 'max_depth': 32}. Best is trial 413 with value: 0.8136745712336545.\u001b[0m\n",
      "\u001b[32m[I 2023-04-28 13:07:33,349]\u001b[0m Trial 542 finished with value: 0.8117489423475639 and parameters: {'n_estimators': 290, 'min_samples_leaf': 3, 'max_depth': 31}. Best is trial 413 with value: 0.8136745712336545.\u001b[0m\n",
      "\u001b[32m[I 2023-04-28 13:07:33,985]\u001b[0m Trial 544 finished with value: 0.8107607188637622 and parameters: {'n_estimators': 300, 'min_samples_leaf': 3, 'max_depth': 32}. Best is trial 413 with value: 0.8136745712336545.\u001b[0m\n",
      "\u001b[32m[I 2023-04-28 13:07:34,525]\u001b[0m Trial 550 finished with value: 0.8121147960061006 and parameters: {'n_estimators': 290, 'min_samples_leaf': 3, 'max_depth': 32}. Best is trial 413 with value: 0.8136745712336545.\u001b[0m\n",
      "\u001b[32m[I 2023-04-28 13:07:36,058]\u001b[0m Trial 545 finished with value: 0.8107607188637622 and parameters: {'n_estimators': 300, 'min_samples_leaf': 3, 'max_depth': 32}. Best is trial 413 with value: 0.8136745712336545.\u001b[0m\n",
      "\u001b[32m[I 2023-04-28 13:07:36,062]\u001b[0m Trial 546 finished with value: 0.8121147960061006 and parameters: {'n_estimators': 290, 'min_samples_leaf': 3, 'max_depth': 32}. Best is trial 413 with value: 0.8136745712336545.\u001b[0m\n",
      "\u001b[32m[I 2023-04-28 13:07:36,096]\u001b[0m Trial 548 finished with value: 0.8059679596231282 and parameters: {'n_estimators': 110, 'min_samples_leaf': 3, 'max_depth': 32}. Best is trial 413 with value: 0.8136745712336545.\u001b[0m\n",
      "\u001b[32m[I 2023-04-28 13:07:36,811]\u001b[0m Trial 547 finished with value: 0.8121147960061006 and parameters: {'n_estimators': 290, 'min_samples_leaf': 3, 'max_depth': 32}. Best is trial 413 with value: 0.8136745712336545.\u001b[0m\n",
      "\u001b[32m[I 2023-04-28 13:07:36,971]\u001b[0m Trial 549 finished with value: 0.8107607188637622 and parameters: {'n_estimators': 300, 'min_samples_leaf': 3, 'max_depth': 32}. Best is trial 413 with value: 0.8136745712336545.\u001b[0m\n",
      "\u001b[32m[I 2023-04-28 13:07:43,814]\u001b[0m Trial 552 finished with value: 0.8134312250853244 and parameters: {'n_estimators': 280, 'min_samples_leaf': 3, 'max_depth': 32}. Best is trial 413 with value: 0.8136745712336545.\u001b[0m\n",
      "\u001b[32m[I 2023-04-28 13:07:43,842]\u001b[0m Trial 553 finished with value: 0.8107607188637622 and parameters: {'n_estimators': 300, 'min_samples_leaf': 3, 'max_depth': 32}. Best is trial 413 with value: 0.8136745712336545.\u001b[0m\n",
      "\u001b[32m[I 2023-04-28 13:07:44,302]\u001b[0m Trial 551 finished with value: 0.8107607188637622 and parameters: {'n_estimators': 300, 'min_samples_leaf': 3, 'max_depth': 32}. Best is trial 413 with value: 0.8136745712336545.\u001b[0m\n",
      "\u001b[32m[I 2023-04-28 13:07:44,733]\u001b[0m Trial 554 finished with value: 0.8107607188637622 and parameters: {'n_estimators': 300, 'min_samples_leaf': 3, 'max_depth': 32}. Best is trial 413 with value: 0.8136745712336545.\u001b[0m\n",
      "\u001b[32m[I 2023-04-28 13:07:45,066]\u001b[0m Trial 556 finished with value: 0.8134312250853244 and parameters: {'n_estimators': 280, 'min_samples_leaf': 3, 'max_depth': 32}. Best is trial 413 with value: 0.8136745712336545.\u001b[0m\n",
      "\u001b[32m[I 2023-04-28 13:07:45,624]\u001b[0m Trial 559 finished with value: 0.8059679596231282 and parameters: {'n_estimators': 110, 'min_samples_leaf': 3, 'max_depth': 32}. Best is trial 413 with value: 0.8136745712336545.\u001b[0m\n",
      "\u001b[32m[I 2023-04-28 13:07:46,021]\u001b[0m Trial 555 finished with value: 0.8107607188637622 and parameters: {'n_estimators': 300, 'min_samples_leaf': 3, 'max_depth': 32}. Best is trial 413 with value: 0.8136745712336545.\u001b[0m\n",
      "\u001b[32m[I 2023-04-28 13:07:46,537]\u001b[0m Trial 557 finished with value: 0.8107607188637622 and parameters: {'n_estimators': 300, 'min_samples_leaf': 3, 'max_depth': 32}. Best is trial 413 with value: 0.8136745712336545.\u001b[0m\n",
      "\u001b[32m[I 2023-04-28 13:07:46,631]\u001b[0m Trial 560 finished with value: 0.8107607188637622 and parameters: {'n_estimators': 300, 'min_samples_leaf': 3, 'max_depth': 32}. Best is trial 413 with value: 0.8136745712336545.\u001b[0m\n",
      "\u001b[32m[I 2023-04-28 13:07:46,729]\u001b[0m Trial 558 finished with value: 0.8107607188637622 and parameters: {'n_estimators': 300, 'min_samples_leaf': 3, 'max_depth': 32}. Best is trial 413 with value: 0.8136745712336545.\u001b[0m\n",
      "\u001b[32m[I 2023-04-28 13:07:46,953]\u001b[0m Trial 562 finished with value: 0.8134312250853244 and parameters: {'n_estimators': 280, 'min_samples_leaf': 3, 'max_depth': 32}. Best is trial 413 with value: 0.8136745712336545.\u001b[0m\n",
      "\u001b[32m[I 2023-04-28 13:07:49,804]\u001b[0m Trial 561 finished with value: 0.8134312250853244 and parameters: {'n_estimators': 280, 'min_samples_leaf': 3, 'max_depth': 32}. Best is trial 413 with value: 0.8136745712336545.\u001b[0m\n",
      "\u001b[32m[I 2023-04-28 13:07:50,724]\u001b[0m Trial 563 finished with value: 0.8107607188637622 and parameters: {'n_estimators': 300, 'min_samples_leaf': 3, 'max_depth': 32}. Best is trial 413 with value: 0.8136745712336545.\u001b[0m\n",
      "\u001b[32m[I 2023-04-28 13:07:54,792]\u001b[0m Trial 565 finished with value: 0.8134312250853244 and parameters: {'n_estimators': 280, 'min_samples_leaf': 3, 'max_depth': 32}. Best is trial 413 with value: 0.8136745712336545.\u001b[0m\n",
      "\u001b[32m[I 2023-04-28 13:07:55,106]\u001b[0m Trial 564 finished with value: 0.8134312250853244 and parameters: {'n_estimators': 280, 'min_samples_leaf': 3, 'max_depth': 32}. Best is trial 413 with value: 0.8136745712336545.\u001b[0m\n",
      "\u001b[32m[I 2023-04-28 13:07:55,123]\u001b[0m Trial 568 finished with value: 0.8107607188637622 and parameters: {'n_estimators': 300, 'min_samples_leaf': 3, 'max_depth': 32}. Best is trial 413 with value: 0.8136745712336545.\u001b[0m\n",
      "\u001b[32m[I 2023-04-28 13:07:55,676]\u001b[0m Trial 567 finished with value: 0.8134312250853244 and parameters: {'n_estimators': 280, 'min_samples_leaf': 3, 'max_depth': 32}. Best is trial 413 with value: 0.8136745712336545.\u001b[0m\n",
      "\u001b[32m[I 2023-04-28 13:07:55,908]\u001b[0m Trial 566 finished with value: 0.8134312250853244 and parameters: {'n_estimators': 280, 'min_samples_leaf': 3, 'max_depth': 32}. Best is trial 413 with value: 0.8136745712336545.\u001b[0m\n",
      "\u001b[32m[I 2023-04-28 13:07:56,249]\u001b[0m Trial 572 finished with value: 0.8107607188637622 and parameters: {'n_estimators': 300, 'min_samples_leaf': 3, 'max_depth': 32}. Best is trial 413 with value: 0.8136745712336545.\u001b[0m\n",
      "\u001b[32m[I 2023-04-28 13:07:57,981]\u001b[0m Trial 570 finished with value: 0.8107607188637622 and parameters: {'n_estimators': 300, 'min_samples_leaf': 3, 'max_depth': 32}. Best is trial 413 with value: 0.8136745712336545.\u001b[0m\n",
      "\u001b[32m[I 2023-04-28 13:07:57,988]\u001b[0m Trial 571 finished with value: 0.8134312250853244 and parameters: {'n_estimators': 280, 'min_samples_leaf': 3, 'max_depth': 32}. Best is trial 413 with value: 0.8136745712336545.\u001b[0m\n",
      "\u001b[32m[I 2023-04-28 13:07:59,008]\u001b[0m Trial 573 finished with value: 0.8107607188637622 and parameters: {'n_estimators': 300, 'min_samples_leaf': 3, 'max_depth': 32}. Best is trial 413 with value: 0.8136745712336545.\u001b[0m\n",
      "\u001b[32m[I 2023-04-28 13:07:59,018]\u001b[0m Trial 574 finished with value: 0.8079517472142783 and parameters: {'n_estimators': 230, 'min_samples_leaf': 3, 'max_depth': 32}. Best is trial 413 with value: 0.8136745712336545.\u001b[0m\n",
      "\u001b[32m[I 2023-04-28 13:07:59,035]\u001b[0m Trial 569 finished with value: 0.8107607188637622 and parameters: {'n_estimators': 300, 'min_samples_leaf': 3, 'max_depth': 32}. Best is trial 413 with value: 0.8136745712336545.\u001b[0m\n",
      "\u001b[32m[I 2023-04-28 13:08:01,546]\u001b[0m Trial 575 finished with value: 0.8134312250853244 and parameters: {'n_estimators': 280, 'min_samples_leaf': 3, 'max_depth': 32}. Best is trial 413 with value: 0.8136745712336545.\u001b[0m\n",
      "\u001b[32m[I 2023-04-28 13:08:03,279]\u001b[0m Trial 583 finished with value: 0.8059679596231282 and parameters: {'n_estimators': 110, 'min_samples_leaf': 3, 'max_depth': 32}. Best is trial 413 with value: 0.8136745712336545.\u001b[0m\n",
      "\u001b[32m[I 2023-04-28 13:08:03,963]\u001b[0m Trial 576 finished with value: 0.8134312250853244 and parameters: {'n_estimators': 280, 'min_samples_leaf': 3, 'max_depth': 32}. Best is trial 413 with value: 0.8136745712336545.\u001b[0m\n",
      "\u001b[32m[I 2023-04-28 13:08:04,205]\u001b[0m Trial 578 finished with value: 0.8134312250853244 and parameters: {'n_estimators': 280, 'min_samples_leaf': 3, 'max_depth': 32}. Best is trial 413 with value: 0.8136745712336545.\u001b[0m\n",
      "\u001b[32m[I 2023-04-28 13:08:04,697]\u001b[0m Trial 580 finished with value: 0.8134312250853244 and parameters: {'n_estimators': 280, 'min_samples_leaf': 3, 'max_depth': 32}. Best is trial 413 with value: 0.8136745712336545.\u001b[0m\n",
      "\u001b[32m[I 2023-04-28 13:08:05,802]\u001b[0m Trial 577 finished with value: 0.8134312250853244 and parameters: {'n_estimators': 280, 'min_samples_leaf': 3, 'max_depth': 32}. Best is trial 413 with value: 0.8136745712336545.\u001b[0m\n",
      "\u001b[32m[I 2023-04-28 13:08:06,196]\u001b[0m Trial 579 finished with value: 0.8134312250853244 and parameters: {'n_estimators': 280, 'min_samples_leaf': 3, 'max_depth': 32}. Best is trial 413 with value: 0.8136745712336545.\u001b[0m\n",
      "\u001b[32m[I 2023-04-28 13:08:07,065]\u001b[0m Trial 585 finished with value: 0.8134312250853244 and parameters: {'n_estimators': 280, 'min_samples_leaf': 3, 'max_depth': 32}. Best is trial 413 with value: 0.8136745712336545.\u001b[0m\n",
      "\u001b[32m[I 2023-04-28 13:08:08,145]\u001b[0m Trial 581 finished with value: 0.8079517472142783 and parameters: {'n_estimators': 230, 'min_samples_leaf': 3, 'max_depth': 32}. Best is trial 413 with value: 0.8136745712336545.\u001b[0m\n",
      "\u001b[32m[I 2023-04-28 13:08:08,536]\u001b[0m Trial 582 finished with value: 0.8134312250853244 and parameters: {'n_estimators': 280, 'min_samples_leaf': 3, 'max_depth': 32}. Best is trial 413 with value: 0.8136745712336545.\u001b[0m\n",
      "\u001b[32m[I 2023-04-28 13:08:13,435]\u001b[0m Trial 586 finished with value: 0.8107607188637622 and parameters: {'n_estimators': 300, 'min_samples_leaf': 3, 'max_depth': 32}. Best is trial 413 with value: 0.8136745712336545.\u001b[0m\n",
      "\u001b[32m[I 2023-04-28 13:08:13,798]\u001b[0m Trial 591 finished with value: 0.8134312250853244 and parameters: {'n_estimators': 280, 'min_samples_leaf': 3, 'max_depth': 32}. Best is trial 413 with value: 0.8136745712336545.\u001b[0m\n",
      "\u001b[32m[I 2023-04-28 13:08:15,382]\u001b[0m Trial 584 finished with value: 0.8134312250853244 and parameters: {'n_estimators': 280, 'min_samples_leaf': 3, 'max_depth': 32}. Best is trial 413 with value: 0.8136745712336545.\u001b[0m\n",
      "\u001b[32m[I 2023-04-28 13:08:15,579]\u001b[0m Trial 587 finished with value: 0.8134312250853244 and parameters: {'n_estimators': 280, 'min_samples_leaf': 3, 'max_depth': 32}. Best is trial 413 with value: 0.8136745712336545.\u001b[0m\n",
      "\u001b[32m[I 2023-04-28 13:08:15,720]\u001b[0m Trial 589 finished with value: 0.8107607188637622 and parameters: {'n_estimators': 300, 'min_samples_leaf': 3, 'max_depth': 32}. Best is trial 413 with value: 0.8136745712336545.\u001b[0m\n",
      "\u001b[32m[I 2023-04-28 13:08:16,847]\u001b[0m Trial 588 finished with value: 0.8134312250853244 and parameters: {'n_estimators': 280, 'min_samples_leaf': 3, 'max_depth': 32}. Best is trial 413 with value: 0.8136745712336545.\u001b[0m\n",
      "\u001b[32m[I 2023-04-28 13:08:17,669]\u001b[0m Trial 590 finished with value: 0.8134312250853244 and parameters: {'n_estimators': 280, 'min_samples_leaf': 3, 'max_depth': 32}. Best is trial 413 with value: 0.8136745712336545.\u001b[0m\n",
      "\u001b[32m[I 2023-04-28 13:08:17,857]\u001b[0m Trial 592 finished with value: 0.8134312250853244 and parameters: {'n_estimators': 280, 'min_samples_leaf': 3, 'max_depth': 32}. Best is trial 413 with value: 0.8136745712336545.\u001b[0m\n",
      "\u001b[32m[I 2023-04-28 13:08:18,694]\u001b[0m Trial 593 finished with value: 0.8134312250853244 and parameters: {'n_estimators': 280, 'min_samples_leaf': 3, 'max_depth': 32}. Best is trial 413 with value: 0.8136745712336545.\u001b[0m\n",
      "\u001b[32m[I 2023-04-28 13:08:19,248]\u001b[0m Trial 596 finished with value: 0.8134312250853244 and parameters: {'n_estimators': 280, 'min_samples_leaf': 3, 'max_depth': 32}. Best is trial 413 with value: 0.8136745712336545.\u001b[0m\n",
      "\u001b[32m[I 2023-04-28 13:08:19,684]\u001b[0m Trial 594 finished with value: 0.8134312250853244 and parameters: {'n_estimators': 280, 'min_samples_leaf': 3, 'max_depth': 32}. Best is trial 413 with value: 0.8136745712336545.\u001b[0m\n",
      "\u001b[32m[I 2023-04-28 13:08:20,809]\u001b[0m Trial 595 finished with value: 0.8134312250853244 and parameters: {'n_estimators': 280, 'min_samples_leaf': 3, 'max_depth': 32}. Best is trial 413 with value: 0.8136745712336545.\u001b[0m\n",
      "\u001b[32m[I 2023-04-28 13:08:22,478]\u001b[0m Trial 598 finished with value: 0.8134312250853244 and parameters: {'n_estimators': 280, 'min_samples_leaf': 3, 'max_depth': 32}. Best is trial 413 with value: 0.8136745712336545.\u001b[0m\n",
      "\u001b[32m[I 2023-04-28 13:08:24,433]\u001b[0m Trial 597 finished with value: 0.8134312250853244 and parameters: {'n_estimators': 280, 'min_samples_leaf': 3, 'max_depth': 32}. Best is trial 413 with value: 0.8136745712336545.\u001b[0m\n",
      "\u001b[32m[I 2023-04-28 13:08:25,007]\u001b[0m Trial 600 finished with value: 0.8134312250853244 and parameters: {'n_estimators': 280, 'min_samples_leaf': 3, 'max_depth': 32}. Best is trial 413 with value: 0.8136745712336545.\u001b[0m\n",
      "\u001b[32m[I 2023-04-28 13:08:25,500]\u001b[0m Trial 599 finished with value: 0.8134312250853244 and parameters: {'n_estimators': 280, 'min_samples_leaf': 3, 'max_depth': 32}. Best is trial 413 with value: 0.8136745712336545.\u001b[0m\n",
      "\u001b[32m[I 2023-04-28 13:08:27,305]\u001b[0m Trial 605 finished with value: 0.8134312250853244 and parameters: {'n_estimators': 280, 'min_samples_leaf': 3, 'max_depth': 32}. Best is trial 413 with value: 0.8136745712336545.\u001b[0m\n",
      "\u001b[32m[I 2023-04-28 13:08:28,701]\u001b[0m Trial 601 finished with value: 0.8134312250853244 and parameters: {'n_estimators': 280, 'min_samples_leaf': 3, 'max_depth': 32}. Best is trial 413 with value: 0.8136745712336545.\u001b[0m\n",
      "\u001b[32m[I 2023-04-28 13:08:28,721]\u001b[0m Trial 603 finished with value: 0.8134312250853244 and parameters: {'n_estimators': 280, 'min_samples_leaf': 3, 'max_depth': 32}. Best is trial 413 with value: 0.8136745712336545.\u001b[0m\n",
      "\u001b[32m[I 2023-04-28 13:08:28,723]\u001b[0m Trial 602 finished with value: 0.8134312250853244 and parameters: {'n_estimators': 280, 'min_samples_leaf': 3, 'max_depth': 32}. Best is trial 413 with value: 0.8136745712336545.\u001b[0m\n",
      "\u001b[32m[I 2023-04-28 13:08:28,801]\u001b[0m Trial 604 finished with value: 0.8134312250853244 and parameters: {'n_estimators': 280, 'min_samples_leaf': 3, 'max_depth': 32}. Best is trial 413 with value: 0.8136745712336545.\u001b[0m\n",
      "\u001b[32m[I 2023-04-28 13:08:32,265]\u001b[0m Trial 606 finished with value: 0.8134312250853244 and parameters: {'n_estimators': 280, 'min_samples_leaf': 3, 'max_depth': 32}. Best is trial 413 with value: 0.8136745712336545.\u001b[0m\n",
      "\u001b[32m[I 2023-04-28 13:08:32,978]\u001b[0m Trial 609 finished with value: 0.8134312250853244 and parameters: {'n_estimators': 280, 'min_samples_leaf': 3, 'max_depth': 32}. Best is trial 413 with value: 0.8136745712336545.\u001b[0m\n",
      "\u001b[32m[I 2023-04-28 13:08:34,207]\u001b[0m Trial 608 finished with value: 0.8134312250853244 and parameters: {'n_estimators': 280, 'min_samples_leaf': 3, 'max_depth': 32}. Best is trial 413 with value: 0.8136745712336545.\u001b[0m\n",
      "\u001b[32m[I 2023-04-28 13:08:34,345]\u001b[0m Trial 607 finished with value: 0.8134312250853244 and parameters: {'n_estimators': 280, 'min_samples_leaf': 3, 'max_depth': 32}. Best is trial 413 with value: 0.8136745712336545.\u001b[0m\n",
      "\u001b[32m[I 2023-04-28 13:08:35,279]\u001b[0m Trial 611 finished with value: 0.8134312250853244 and parameters: {'n_estimators': 280, 'min_samples_leaf': 3, 'max_depth': 32}. Best is trial 413 with value: 0.8136745712336545.\u001b[0m\n",
      "\u001b[32m[I 2023-04-28 13:08:35,310]\u001b[0m Trial 610 finished with value: 0.8134312250853244 and parameters: {'n_estimators': 280, 'min_samples_leaf': 3, 'max_depth': 32}. Best is trial 413 with value: 0.8136745712336545.\u001b[0m\n",
      "\u001b[32m[I 2023-04-28 13:08:35,311]\u001b[0m Trial 613 finished with value: 0.813068482863037 and parameters: {'n_estimators': 280, 'min_samples_leaf': 3, 'max_depth': 30}. Best is trial 413 with value: 0.8136745712336545.\u001b[0m\n",
      "\u001b[32m[I 2023-04-28 13:08:37,457]\u001b[0m Trial 615 finished with value: 0.813068482863037 and parameters: {'n_estimators': 280, 'min_samples_leaf': 3, 'max_depth': 30}. Best is trial 413 with value: 0.8136745712336545.\u001b[0m\n",
      "\u001b[32m[I 2023-04-28 13:08:37,490]\u001b[0m Trial 612 finished with value: 0.813068482863037 and parameters: {'n_estimators': 280, 'min_samples_leaf': 3, 'max_depth': 30}. Best is trial 413 with value: 0.8136745712336545.\u001b[0m\n",
      "\u001b[32m[I 2023-04-28 13:08:38,357]\u001b[0m Trial 614 finished with value: 0.813068482863037 and parameters: {'n_estimators': 280, 'min_samples_leaf': 3, 'max_depth': 30}. Best is trial 413 with value: 0.8136745712336545.\u001b[0m\n",
      "\u001b[32m[I 2023-04-28 13:08:38,497]\u001b[0m Trial 617 finished with value: 0.813068482863037 and parameters: {'n_estimators': 280, 'min_samples_leaf': 3, 'max_depth': 30}. Best is trial 413 with value: 0.8136745712336545.\u001b[0m\n",
      "\u001b[32m[I 2023-04-28 13:08:40,136]\u001b[0m Trial 616 finished with value: 0.813068482863037 and parameters: {'n_estimators': 280, 'min_samples_leaf': 3, 'max_depth': 30}. Best is trial 413 with value: 0.8136745712336545.\u001b[0m\n",
      "\u001b[32m[I 2023-04-28 13:08:40,855]\u001b[0m Trial 619 finished with value: 0.8079517472142783 and parameters: {'n_estimators': 230, 'min_samples_leaf': 3, 'max_depth': 30}. Best is trial 413 with value: 0.8136745712336545.\u001b[0m\n",
      "\u001b[32m[I 2023-04-28 13:08:43,356]\u001b[0m Trial 622 finished with value: 0.813068482863037 and parameters: {'n_estimators': 280, 'min_samples_leaf': 3, 'max_depth': 30}. Best is trial 413 with value: 0.8136745712336545.\u001b[0m\n",
      "\u001b[32m[I 2023-04-28 13:08:44,841]\u001b[0m Trial 620 finished with value: 0.813068482863037 and parameters: {'n_estimators': 280, 'min_samples_leaf': 3, 'max_depth': 30}. Best is trial 413 with value: 0.8136745712336545.\u001b[0m\n",
      "\u001b[32m[I 2023-04-28 13:08:45,150]\u001b[0m Trial 618 finished with value: 0.813068482863037 and parameters: {'n_estimators': 280, 'min_samples_leaf': 3, 'max_depth': 30}. Best is trial 413 with value: 0.8136745712336545.\u001b[0m\n",
      "\u001b[32m[I 2023-04-28 13:08:45,318]\u001b[0m Trial 621 finished with value: 0.813068482863037 and parameters: {'n_estimators': 280, 'min_samples_leaf': 3, 'max_depth': 30}. Best is trial 413 with value: 0.8136745712336545.\u001b[0m\n",
      "\u001b[32m[I 2023-04-28 13:08:47,076]\u001b[0m Trial 623 finished with value: 0.813068482863037 and parameters: {'n_estimators': 280, 'min_samples_leaf': 3, 'max_depth': 30}. Best is trial 413 with value: 0.8136745712336545.\u001b[0m\n",
      "\u001b[32m[I 2023-04-28 13:08:48,358]\u001b[0m Trial 624 finished with value: 0.813068482863037 and parameters: {'n_estimators': 280, 'min_samples_leaf': 3, 'max_depth': 30}. Best is trial 413 with value: 0.8136745712336545.\u001b[0m\n",
      "\u001b[32m[I 2023-04-28 13:08:48,469]\u001b[0m Trial 626 finished with value: 0.813068482863037 and parameters: {'n_estimators': 280, 'min_samples_leaf': 3, 'max_depth': 30}. Best is trial 413 with value: 0.8136745712336545.\u001b[0m\n",
      "\u001b[32m[I 2023-04-28 13:08:48,728]\u001b[0m Trial 625 finished with value: 0.813068482863037 and parameters: {'n_estimators': 280, 'min_samples_leaf': 3, 'max_depth': 30}. Best is trial 413 with value: 0.8136745712336545.\u001b[0m\n",
      "\u001b[32m[I 2023-04-28 13:08:49,535]\u001b[0m Trial 627 finished with value: 0.813068482863037 and parameters: {'n_estimators': 280, 'min_samples_leaf': 3, 'max_depth': 30}. Best is trial 413 with value: 0.8136745712336545.\u001b[0m\n",
      "\u001b[32m[I 2023-04-28 13:08:52,074]\u001b[0m Trial 628 finished with value: 0.813068482863037 and parameters: {'n_estimators': 280, 'min_samples_leaf': 3, 'max_depth': 30}. Best is trial 413 with value: 0.8136745712336545.\u001b[0m\n",
      "\u001b[32m[I 2023-04-28 13:08:53,335]\u001b[0m Trial 629 finished with value: 0.813068482863037 and parameters: {'n_estimators': 280, 'min_samples_leaf': 3, 'max_depth': 30}. Best is trial 413 with value: 0.8136745712336545.\u001b[0m\n",
      "\u001b[32m[I 2023-04-28 13:08:53,368]\u001b[0m Trial 631 finished with value: 0.813068482863037 and parameters: {'n_estimators': 280, 'min_samples_leaf': 3, 'max_depth': 30}. Best is trial 413 with value: 0.8136745712336545.\u001b[0m\n",
      "\u001b[32m[I 2023-04-28 13:08:55,580]\u001b[0m Trial 630 finished with value: 0.813068482863037 and parameters: {'n_estimators': 280, 'min_samples_leaf': 3, 'max_depth': 30}. Best is trial 413 with value: 0.8136745712336545.\u001b[0m\n",
      "\u001b[32m[I 2023-04-28 13:08:55,593]\u001b[0m Trial 632 finished with value: 0.813068482863037 and parameters: {'n_estimators': 280, 'min_samples_leaf': 3, 'max_depth': 30}. Best is trial 413 with value: 0.8136745712336545.\u001b[0m\n",
      "\u001b[32m[I 2023-04-28 13:08:57,574]\u001b[0m Trial 634 finished with value: 0.813068482863037 and parameters: {'n_estimators': 280, 'min_samples_leaf': 3, 'max_depth': 30}. Best is trial 413 with value: 0.8136745712336545.\u001b[0m\n",
      "\u001b[32m[I 2023-04-28 13:08:57,931]\u001b[0m Trial 633 finished with value: 0.813068482863037 and parameters: {'n_estimators': 280, 'min_samples_leaf': 3, 'max_depth': 30}. Best is trial 413 with value: 0.8136745712336545.\u001b[0m\n",
      "\u001b[32m[I 2023-04-28 13:08:58,155]\u001b[0m Trial 640 finished with value: 0.813068482863037 and parameters: {'n_estimators': 280, 'min_samples_leaf': 3, 'max_depth': 30}. Best is trial 413 with value: 0.8136745712336545.\u001b[0m\n",
      "\u001b[32m[I 2023-04-28 13:08:58,197]\u001b[0m Trial 636 finished with value: 0.813068482863037 and parameters: {'n_estimators': 280, 'min_samples_leaf': 3, 'max_depth': 30}. Best is trial 413 with value: 0.8136745712336545.\u001b[0m\n",
      "\u001b[32m[I 2023-04-28 13:08:58,660]\u001b[0m Trial 635 finished with value: 0.813068482863037 and parameters: {'n_estimators': 280, 'min_samples_leaf': 3, 'max_depth': 30}. Best is trial 413 with value: 0.8136745712336545.\u001b[0m\n",
      "\u001b[32m[I 2023-04-28 13:08:58,718]\u001b[0m Trial 637 finished with value: 0.813068482863037 and parameters: {'n_estimators': 280, 'min_samples_leaf': 3, 'max_depth': 30}. Best is trial 413 with value: 0.8136745712336545.\u001b[0m\n",
      "\u001b[32m[I 2023-04-28 13:09:03,175]\u001b[0m Trial 641 finished with value: 0.813068482863037 and parameters: {'n_estimators': 280, 'min_samples_leaf': 3, 'max_depth': 30}. Best is trial 413 with value: 0.8136745712336545.\u001b[0m\n",
      "\u001b[32m[I 2023-04-28 13:09:04,124]\u001b[0m Trial 638 finished with value: 0.813068482863037 and parameters: {'n_estimators': 280, 'min_samples_leaf': 3, 'max_depth': 30}. Best is trial 413 with value: 0.8136745712336545.\u001b[0m\n",
      "\u001b[32m[I 2023-04-28 13:09:04,156]\u001b[0m Trial 639 finished with value: 0.813068482863037 and parameters: {'n_estimators': 280, 'min_samples_leaf': 3, 'max_depth': 30}. Best is trial 413 with value: 0.8136745712336545.\u001b[0m\n",
      "\u001b[32m[I 2023-04-28 13:09:05,335]\u001b[0m Trial 643 finished with value: 0.813068482863037 and parameters: {'n_estimators': 280, 'min_samples_leaf': 3, 'max_depth': 30}. Best is trial 413 with value: 0.8136745712336545.\u001b[0m\n",
      "\u001b[32m[I 2023-04-28 13:09:07,022]\u001b[0m Trial 642 finished with value: 0.813068482863037 and parameters: {'n_estimators': 280, 'min_samples_leaf': 3, 'max_depth': 30}. Best is trial 413 with value: 0.8136745712336545.\u001b[0m\n",
      "\u001b[32m[I 2023-04-28 13:09:09,007]\u001b[0m Trial 650 finished with value: 0.8133293303013038 and parameters: {'n_estimators': 270, 'min_samples_leaf': 3, 'max_depth': 30}. Best is trial 413 with value: 0.8136745712336545.\u001b[0m\n",
      "\u001b[32m[I 2023-04-28 13:09:09,457]\u001b[0m Trial 645 finished with value: 0.813068482863037 and parameters: {'n_estimators': 280, 'min_samples_leaf': 3, 'max_depth': 30}. Best is trial 413 with value: 0.8136745712336545.\u001b[0m\n",
      "\u001b[32m[I 2023-04-28 13:09:09,458]\u001b[0m Trial 646 finished with value: 0.813068482863037 and parameters: {'n_estimators': 280, 'min_samples_leaf': 3, 'max_depth': 30}. Best is trial 413 with value: 0.8136745712336545.\u001b[0m\n",
      "\u001b[32m[I 2023-04-28 13:09:10,931]\u001b[0m Trial 647 finished with value: 0.813068482863037 and parameters: {'n_estimators': 280, 'min_samples_leaf': 3, 'max_depth': 30}. Best is trial 413 with value: 0.8136745712336545.\u001b[0m\n",
      "\u001b[32m[I 2023-04-28 13:09:10,959]\u001b[0m Trial 644 finished with value: 0.813068482863037 and parameters: {'n_estimators': 280, 'min_samples_leaf': 3, 'max_depth': 30}. Best is trial 413 with value: 0.8136745712336545.\u001b[0m\n",
      "\u001b[32m[I 2023-04-28 13:09:10,960]\u001b[0m Trial 648 finished with value: 0.8133293303013038 and parameters: {'n_estimators': 270, 'min_samples_leaf': 3, 'max_depth': 30}. Best is trial 413 with value: 0.8136745712336545.\u001b[0m\n",
      "\u001b[32m[I 2023-04-28 13:09:12,235]\u001b[0m Trial 649 finished with value: 0.8133293303013038 and parameters: {'n_estimators': 270, 'min_samples_leaf': 3, 'max_depth': 30}. Best is trial 413 with value: 0.8136745712336545.\u001b[0m\n",
      "\u001b[32m[I 2023-04-28 13:09:13,941]\u001b[0m Trial 651 finished with value: 0.8133293303013038 and parameters: {'n_estimators': 270, 'min_samples_leaf': 3, 'max_depth': 30}. Best is trial 413 with value: 0.8136745712336545.\u001b[0m\n",
      "\u001b[32m[I 2023-04-28 13:09:15,816]\u001b[0m Trial 653 finished with value: 0.8133293303013038 and parameters: {'n_estimators': 270, 'min_samples_leaf': 3, 'max_depth': 30}. Best is trial 413 with value: 0.8136745712336545.\u001b[0m\n",
      "\u001b[32m[I 2023-04-28 13:09:17,421]\u001b[0m Trial 652 finished with value: 0.8133293303013038 and parameters: {'n_estimators': 270, 'min_samples_leaf': 3, 'max_depth': 30}. Best is trial 413 with value: 0.8136745712336545.\u001b[0m\n",
      "\u001b[32m[I 2023-04-28 13:09:17,429]\u001b[0m Trial 655 finished with value: 0.8133293303013038 and parameters: {'n_estimators': 270, 'min_samples_leaf': 3, 'max_depth': 30}. Best is trial 413 with value: 0.8136745712336545.\u001b[0m\n",
      "\u001b[32m[I 2023-04-28 13:09:17,693]\u001b[0m Trial 654 finished with value: 0.8133293303013038 and parameters: {'n_estimators': 270, 'min_samples_leaf': 3, 'max_depth': 30}. Best is trial 413 with value: 0.8136745712336545.\u001b[0m\n",
      "\u001b[32m[I 2023-04-28 13:09:17,729]\u001b[0m Trial 658 finished with value: 0.8133293303013038 and parameters: {'n_estimators': 270, 'min_samples_leaf': 3, 'max_depth': 30}. Best is trial 413 with value: 0.8136745712336545.\u001b[0m\n",
      "\u001b[32m[I 2023-04-28 13:09:17,931]\u001b[0m Trial 657 finished with value: 0.8133293303013038 and parameters: {'n_estimators': 270, 'min_samples_leaf': 3, 'max_depth': 30}. Best is trial 413 with value: 0.8136745712336545.\u001b[0m\n",
      "\u001b[32m[I 2023-04-28 13:09:18,574]\u001b[0m Trial 660 finished with value: 0.8133293303013038 and parameters: {'n_estimators': 270, 'min_samples_leaf': 3, 'max_depth': 30}. Best is trial 413 with value: 0.8136745712336545.\u001b[0m\n",
      "\u001b[32m[I 2023-04-28 13:09:18,841]\u001b[0m Trial 656 finished with value: 0.8133293303013038 and parameters: {'n_estimators': 270, 'min_samples_leaf': 3, 'max_depth': 30}. Best is trial 413 with value: 0.8136745712336545.\u001b[0m\n",
      "\u001b[32m[I 2023-04-28 13:09:18,899]\u001b[0m Trial 659 finished with value: 0.8133293303013038 and parameters: {'n_estimators': 270, 'min_samples_leaf': 3, 'max_depth': 30}. Best is trial 413 with value: 0.8136745712336545.\u001b[0m\n",
      "\u001b[32m[I 2023-04-28 13:09:20,068]\u001b[0m Trial 662 finished with value: 0.8133322561192585 and parameters: {'n_estimators': 270, 'min_samples_leaf': 3, 'max_depth': 31}. Best is trial 413 with value: 0.8136745712336545.\u001b[0m\n",
      "\u001b[32m[I 2023-04-28 13:09:20,203]\u001b[0m Trial 661 finished with value: 0.8133322561192585 and parameters: {'n_estimators': 270, 'min_samples_leaf': 3, 'max_depth': 31}. Best is trial 413 with value: 0.8136745712336545.\u001b[0m\n",
      "\u001b[32m[I 2023-04-28 13:09:23,974]\u001b[0m Trial 663 finished with value: 0.8133322561192585 and parameters: {'n_estimators': 270, 'min_samples_leaf': 3, 'max_depth': 31}. Best is trial 413 with value: 0.8136745712336545.\u001b[0m\n",
      "\u001b[32m[I 2023-04-28 13:09:27,957]\u001b[0m Trial 665 finished with value: 0.8133322561192585 and parameters: {'n_estimators': 270, 'min_samples_leaf': 3, 'max_depth': 31}. Best is trial 413 with value: 0.8136745712336545.\u001b[0m\n",
      "\u001b[32m[I 2023-04-28 13:09:27,961]\u001b[0m Trial 666 finished with value: 0.8133322561192585 and parameters: {'n_estimators': 270, 'min_samples_leaf': 3, 'max_depth': 31}. Best is trial 413 with value: 0.8136745712336545.\u001b[0m\n",
      "\u001b[32m[I 2023-04-28 13:09:28,917]\u001b[0m Trial 664 finished with value: 0.8133322561192585 and parameters: {'n_estimators': 270, 'min_samples_leaf': 3, 'max_depth': 31}. Best is trial 413 with value: 0.8136745712336545.\u001b[0m\n",
      "\u001b[32m[I 2023-04-28 13:09:28,923]\u001b[0m Trial 674 finished with value: 0.8133322561192585 and parameters: {'n_estimators': 270, 'min_samples_leaf': 3, 'max_depth': 31}. Best is trial 413 with value: 0.8136745712336545.\u001b[0m\n",
      "\u001b[32m[I 2023-04-28 13:09:28,925]\u001b[0m Trial 667 finished with value: 0.8133322561192585 and parameters: {'n_estimators': 270, 'min_samples_leaf': 3, 'max_depth': 31}. Best is trial 413 with value: 0.8136745712336545.\u001b[0m\n",
      "\u001b[32m[I 2023-04-28 13:09:29,058]\u001b[0m Trial 673 finished with value: 0.8133322561192585 and parameters: {'n_estimators': 270, 'min_samples_leaf': 3, 'max_depth': 31}. Best is trial 413 with value: 0.8136745712336545.\u001b[0m\n",
      "\u001b[32m[I 2023-04-28 13:09:29,312]\u001b[0m Trial 668 finished with value: 0.8133322561192585 and parameters: {'n_estimators': 270, 'min_samples_leaf': 3, 'max_depth': 31}. Best is trial 413 with value: 0.8136745712336545.\u001b[0m\n",
      "\u001b[32m[I 2023-04-28 13:09:29,621]\u001b[0m Trial 671 finished with value: 0.8133322561192585 and parameters: {'n_estimators': 270, 'min_samples_leaf': 3, 'max_depth': 31}. Best is trial 413 with value: 0.8136745712336545.\u001b[0m\n",
      "\u001b[32m[I 2023-04-28 13:09:30,596]\u001b[0m Trial 672 finished with value: 0.8133322561192585 and parameters: {'n_estimators': 270, 'min_samples_leaf': 3, 'max_depth': 31}. Best is trial 413 with value: 0.8136745712336545.\u001b[0m\n",
      "\u001b[32m[I 2023-04-28 13:09:30,610]\u001b[0m Trial 669 finished with value: 0.8133322561192585 and parameters: {'n_estimators': 270, 'min_samples_leaf': 3, 'max_depth': 31}. Best is trial 413 with value: 0.8136745712336545.\u001b[0m\n",
      "\u001b[32m[I 2023-04-28 13:09:31,415]\u001b[0m Trial 670 finished with value: 0.8133322561192585 and parameters: {'n_estimators': 270, 'min_samples_leaf': 3, 'max_depth': 31}. Best is trial 413 with value: 0.8136745712336545.\u001b[0m\n",
      "\u001b[32m[I 2023-04-28 13:09:33,865]\u001b[0m Trial 675 finished with value: 0.8082569804755142 and parameters: {'n_estimators': 210, 'min_samples_leaf': 3, 'max_depth': 31}. Best is trial 413 with value: 0.8136745712336545.\u001b[0m\n",
      "\u001b[32m[I 2023-04-28 13:09:37,262]\u001b[0m Trial 680 finished with value: 0.8133322561192585 and parameters: {'n_estimators': 270, 'min_samples_leaf': 3, 'max_depth': 31}. Best is trial 413 with value: 0.8136745712336545.\u001b[0m\n",
      "\u001b[32m[I 2023-04-28 13:09:37,266]\u001b[0m Trial 678 finished with value: 0.8133322561192585 and parameters: {'n_estimators': 270, 'min_samples_leaf': 3, 'max_depth': 31}. Best is trial 413 with value: 0.8136745712336545.\u001b[0m\n",
      "\u001b[32m[I 2023-04-28 13:09:37,997]\u001b[0m Trial 677 finished with value: 0.8133322561192585 and parameters: {'n_estimators': 270, 'min_samples_leaf': 3, 'max_depth': 31}. Best is trial 413 with value: 0.8136745712336545.\u001b[0m\n",
      "\u001b[32m[I 2023-04-28 13:09:37,999]\u001b[0m Trial 676 finished with value: 0.8133322561192585 and parameters: {'n_estimators': 270, 'min_samples_leaf': 3, 'max_depth': 31}. Best is trial 413 with value: 0.8136745712336545.\u001b[0m\n",
      "\u001b[32m[I 2023-04-28 13:09:39,018]\u001b[0m Trial 683 finished with value: 0.8082569804755142 and parameters: {'n_estimators': 210, 'min_samples_leaf': 3, 'max_depth': 31}. Best is trial 413 with value: 0.8136745712336545.\u001b[0m\n",
      "\u001b[32m[I 2023-04-28 13:09:39,121]\u001b[0m Trial 682 finished with value: 0.8133322561192585 and parameters: {'n_estimators': 270, 'min_samples_leaf': 3, 'max_depth': 31}. Best is trial 413 with value: 0.8136745712336545.\u001b[0m\n",
      "\u001b[32m[I 2023-04-28 13:09:39,124]\u001b[0m Trial 681 finished with value: 0.8133322561192585 and parameters: {'n_estimators': 270, 'min_samples_leaf': 3, 'max_depth': 31}. Best is trial 413 with value: 0.8136745712336545.\u001b[0m\n",
      "\u001b[32m[I 2023-04-28 13:09:39,154]\u001b[0m Trial 679 finished with value: 0.8133322561192585 and parameters: {'n_estimators': 270, 'min_samples_leaf': 3, 'max_depth': 31}. Best is trial 413 with value: 0.8136745712336545.\u001b[0m\n",
      "\u001b[32m[I 2023-04-28 13:09:40,289]\u001b[0m Trial 685 finished with value: 0.8133322561192585 and parameters: {'n_estimators': 270, 'min_samples_leaf': 3, 'max_depth': 31}. Best is trial 413 with value: 0.8136745712336545.\u001b[0m\n",
      "\u001b[32m[I 2023-04-28 13:09:40,997]\u001b[0m Trial 686 finished with value: 0.8133322561192585 and parameters: {'n_estimators': 270, 'min_samples_leaf': 3, 'max_depth': 31}. Best is trial 413 with value: 0.8136745712336545.\u001b[0m\n",
      "\u001b[32m[I 2023-04-28 13:09:41,389]\u001b[0m Trial 687 finished with value: 0.8133322561192585 and parameters: {'n_estimators': 270, 'min_samples_leaf': 3, 'max_depth': 31}. Best is trial 413 with value: 0.8136745712336545.\u001b[0m\n",
      "\u001b[32m[I 2023-04-28 13:09:47,958]\u001b[0m Trial 688 finished with value: 0.8133322561192585 and parameters: {'n_estimators': 270, 'min_samples_leaf': 3, 'max_depth': 31}. Best is trial 413 with value: 0.8136745712336545.\u001b[0m\n",
      "\u001b[32m[I 2023-04-28 13:09:48,272]\u001b[0m Trial 689 finished with value: 0.8133322561192585 and parameters: {'n_estimators': 270, 'min_samples_leaf': 3, 'max_depth': 31}. Best is trial 413 with value: 0.8136745712336545.\u001b[0m\n",
      "\u001b[32m[I 2023-04-28 13:09:48,316]\u001b[0m Trial 684 finished with value: 0.8133322561192585 and parameters: {'n_estimators': 270, 'min_samples_leaf': 3, 'max_depth': 31}. Best is trial 413 with value: 0.8136745712336545.\u001b[0m\n",
      "\u001b[32m[I 2023-04-28 13:09:48,872]\u001b[0m Trial 695 finished with value: 0.8133322561192585 and parameters: {'n_estimators': 270, 'min_samples_leaf': 3, 'max_depth': 31}. Best is trial 413 with value: 0.8136745712336545.\u001b[0m\n",
      "\u001b[32m[I 2023-04-28 13:09:49,191]\u001b[0m Trial 690 finished with value: 0.8133322561192585 and parameters: {'n_estimators': 270, 'min_samples_leaf': 3, 'max_depth': 31}. Best is trial 413 with value: 0.8136745712336545.\u001b[0m\n",
      "\u001b[32m[I 2023-04-28 13:09:49,566]\u001b[0m Trial 691 finished with value: 0.8133322561192585 and parameters: {'n_estimators': 270, 'min_samples_leaf': 3, 'max_depth': 31}. Best is trial 413 with value: 0.8136745712336545.\u001b[0m\n",
      "\u001b[32m[I 2023-04-28 13:09:50,823]\u001b[0m Trial 692 finished with value: 0.8133322561192585 and parameters: {'n_estimators': 270, 'min_samples_leaf': 3, 'max_depth': 31}. Best is trial 413 with value: 0.8136745712336545.\u001b[0m\n",
      "\u001b[32m[I 2023-04-28 13:09:50,983]\u001b[0m Trial 694 finished with value: 0.8133322561192585 and parameters: {'n_estimators': 270, 'min_samples_leaf': 3, 'max_depth': 31}. Best is trial 413 with value: 0.8136745712336545.\u001b[0m\n",
      "\u001b[32m[I 2023-04-28 13:09:50,990]\u001b[0m Trial 693 finished with value: 0.8133322561192585 and parameters: {'n_estimators': 270, 'min_samples_leaf': 3, 'max_depth': 31}. Best is trial 413 with value: 0.8136745712336545.\u001b[0m\n",
      "\u001b[32m[I 2023-04-28 13:09:52,583]\u001b[0m Trial 697 finished with value: 0.8133322561192585 and parameters: {'n_estimators': 270, 'min_samples_leaf': 3, 'max_depth': 31}. Best is trial 413 with value: 0.8136745712336545.\u001b[0m\n",
      "\u001b[32m[I 2023-04-28 13:09:54,237]\u001b[0m Trial 698 finished with value: 0.8086233277773255 and parameters: {'n_estimators': 160, 'min_samples_leaf': 3, 'max_depth': 31}. Best is trial 413 with value: 0.8136745712336545.\u001b[0m\n",
      "\u001b[32m[I 2023-04-28 13:09:55,251]\u001b[0m Trial 696 finished with value: 0.8133322561192585 and parameters: {'n_estimators': 270, 'min_samples_leaf': 3, 'max_depth': 31}. Best is trial 413 with value: 0.8136745712336545.\u001b[0m\n",
      "\u001b[32m[I 2023-04-28 13:09:56,990]\u001b[0m Trial 699 finished with value: 0.8133322561192585 and parameters: {'n_estimators': 270, 'min_samples_leaf': 3, 'max_depth': 31}. Best is trial 413 with value: 0.8136745712336545.\u001b[0m\n",
      "\u001b[32m[I 2023-04-28 13:09:57,521]\u001b[0m Trial 702 finished with value: 0.8133322561192585 and parameters: {'n_estimators': 270, 'min_samples_leaf': 3, 'max_depth': 31}. Best is trial 413 with value: 0.8136745712336545.\u001b[0m\n",
      "\u001b[32m[I 2023-04-28 13:09:57,819]\u001b[0m Trial 700 finished with value: 0.8133322561192585 and parameters: {'n_estimators': 270, 'min_samples_leaf': 3, 'max_depth': 31}. Best is trial 413 with value: 0.8136745712336545.\u001b[0m\n",
      "\u001b[32m[I 2023-04-28 13:09:58,316]\u001b[0m Trial 704 finished with value: 0.8133322561192585 and parameters: {'n_estimators': 270, 'min_samples_leaf': 3, 'max_depth': 31}. Best is trial 413 with value: 0.8136745712336545.\u001b[0m\n",
      "\u001b[32m[I 2023-04-28 13:09:58,501]\u001b[0m Trial 701 finished with value: 0.8133322561192585 and parameters: {'n_estimators': 270, 'min_samples_leaf': 3, 'max_depth': 31}. Best is trial 413 with value: 0.8136745712336545.\u001b[0m\n",
      "\u001b[32m[I 2023-04-28 13:09:59,031]\u001b[0m Trial 706 finished with value: 0.8133322561192585 and parameters: {'n_estimators': 270, 'min_samples_leaf': 3, 'max_depth': 31}. Best is trial 413 with value: 0.8136745712336545.\u001b[0m\n",
      "\u001b[32m[I 2023-04-28 13:09:59,289]\u001b[0m Trial 703 finished with value: 0.8133322561192585 and parameters: {'n_estimators': 270, 'min_samples_leaf': 3, 'max_depth': 31}. Best is trial 413 with value: 0.8136745712336545.\u001b[0m\n",
      "\u001b[32m[I 2023-04-28 13:10:00,053]\u001b[0m Trial 705 finished with value: 0.8133322561192585 and parameters: {'n_estimators': 270, 'min_samples_leaf': 3, 'max_depth': 31}. Best is trial 413 with value: 0.8136745712336545.\u001b[0m\n",
      "\u001b[32m[I 2023-04-28 13:10:01,525]\u001b[0m Trial 708 finished with value: 0.8133322561192585 and parameters: {'n_estimators': 270, 'min_samples_leaf': 3, 'max_depth': 31}. Best is trial 413 with value: 0.8136745712336545.\u001b[0m\n",
      "\u001b[32m[I 2023-04-28 13:10:05,352]\u001b[0m Trial 711 finished with value: 0.8059509561702353 and parameters: {'n_estimators': 140, 'min_samples_leaf': 3, 'max_depth': 31}. Best is trial 413 with value: 0.8136745712336545.\u001b[0m\n",
      "\u001b[32m[I 2023-04-28 13:10:06,126]\u001b[0m Trial 710 finished with value: 0.8133322561192585 and parameters: {'n_estimators': 270, 'min_samples_leaf': 3, 'max_depth': 31}. Best is trial 413 with value: 0.8136745712336545.\u001b[0m\n",
      "\u001b[32m[I 2023-04-28 13:10:07,038]\u001b[0m Trial 709 finished with value: 0.8133322561192585 and parameters: {'n_estimators': 270, 'min_samples_leaf': 3, 'max_depth': 31}. Best is trial 413 with value: 0.8136745712336545.\u001b[0m\n",
      "\u001b[32m[I 2023-04-28 13:10:07,046]\u001b[0m Trial 707 finished with value: 0.8133322561192585 and parameters: {'n_estimators': 270, 'min_samples_leaf': 3, 'max_depth': 31}. Best is trial 413 with value: 0.8136745712336545.\u001b[0m\n",
      "\u001b[32m[I 2023-04-28 13:10:07,068]\u001b[0m Trial 713 finished with value: 0.8133322561192585 and parameters: {'n_estimators': 270, 'min_samples_leaf': 3, 'max_depth': 31}. Best is trial 413 with value: 0.8136745712336545.\u001b[0m\n",
      "\u001b[32m[I 2023-04-28 13:10:08,327]\u001b[0m Trial 712 finished with value: 0.8133322561192585 and parameters: {'n_estimators': 270, 'min_samples_leaf': 3, 'max_depth': 31}. Best is trial 413 with value: 0.8136745712336545.\u001b[0m\n",
      "\u001b[32m[I 2023-04-28 13:10:08,740]\u001b[0m Trial 715 finished with value: 0.8088695379027732 and parameters: {'n_estimators': 210, 'min_samples_leaf': 3, 'max_depth': 29}. Best is trial 413 with value: 0.8136745712336545.\u001b[0m\n",
      "\u001b[32m[I 2023-04-28 13:10:08,791]\u001b[0m Trial 714 finished with value: 0.8117489423475639 and parameters: {'n_estimators': 290, 'min_samples_leaf': 3, 'max_depth': 31}. Best is trial 413 with value: 0.8136745712336545.\u001b[0m\n",
      "\u001b[32m[I 2023-04-28 13:10:08,910]\u001b[0m Trial 719 finished with value: 0.8111437763893814 and parameters: {'n_estimators': 290, 'min_samples_leaf': 3, 'max_depth': 29}. Best is trial 413 with value: 0.8136745712336545.\u001b[0m\n",
      "\u001b[32m[I 2023-04-28 13:10:09,135]\u001b[0m Trial 717 finished with value: 0.8081405094919651 and parameters: {'n_estimators': 160, 'min_samples_leaf': 3, 'max_depth': 29}. Best is trial 413 with value: 0.8136745712336545.\u001b[0m\n",
      "\u001b[32m[I 2023-04-28 13:10:10,997]\u001b[0m Trial 718 finished with value: 0.8111437763893814 and parameters: {'n_estimators': 290, 'min_samples_leaf': 3, 'max_depth': 29}. Best is trial 413 with value: 0.8136745712336545.\u001b[0m\n",
      "\u001b[32m[I 2023-04-28 13:10:13,904]\u001b[0m Trial 716 finished with value: 0.8111437763893814 and parameters: {'n_estimators': 290, 'min_samples_leaf': 3, 'max_depth': 29}. Best is trial 413 with value: 0.8136745712336545.\u001b[0m\n",
      "\u001b[32m[I 2023-04-28 13:10:15,079]\u001b[0m Trial 720 finished with value: 0.8111437763893814 and parameters: {'n_estimators': 290, 'min_samples_leaf': 3, 'max_depth': 29}. Best is trial 413 with value: 0.8136745712336545.\u001b[0m\n",
      "\u001b[32m[I 2023-04-28 13:10:16,674]\u001b[0m Trial 723 finished with value: 0.8111437763893814 and parameters: {'n_estimators': 290, 'min_samples_leaf': 3, 'max_depth': 29}. Best is trial 413 with value: 0.8136745712336545.\u001b[0m\n",
      "\u001b[32m[I 2023-04-28 13:10:17,023]\u001b[0m Trial 722 finished with value: 0.8117489423475639 and parameters: {'n_estimators': 290, 'min_samples_leaf': 3, 'max_depth': 31}. Best is trial 413 with value: 0.8136745712336545.\u001b[0m\n",
      "\u001b[32m[I 2023-04-28 13:10:19,041]\u001b[0m Trial 728 finished with value: 0.8111437763893814 and parameters: {'n_estimators': 290, 'min_samples_leaf': 3, 'max_depth': 29}. Best is trial 413 with value: 0.8136745712336545.\u001b[0m\n",
      "\u001b[32m[I 2023-04-28 13:10:19,044]\u001b[0m Trial 725 finished with value: 0.8111437763893814 and parameters: {'n_estimators': 290, 'min_samples_leaf': 3, 'max_depth': 29}. Best is trial 413 with value: 0.8136745712336545.\u001b[0m\n",
      "\u001b[32m[I 2023-04-28 13:10:19,046]\u001b[0m Trial 724 finished with value: 0.8117489423475639 and parameters: {'n_estimators': 290, 'min_samples_leaf': 3, 'max_depth': 31}. Best is trial 413 with value: 0.8136745712336545.\u001b[0m\n",
      "\u001b[32m[I 2023-04-28 13:10:19,052]\u001b[0m Trial 727 finished with value: 0.8117489423475639 and parameters: {'n_estimators': 290, 'min_samples_leaf': 3, 'max_depth': 31}. Best is trial 413 with value: 0.8136745712336545.\u001b[0m\n",
      "\u001b[32m[I 2023-04-28 13:10:19,054]\u001b[0m Trial 726 finished with value: 0.8117489423475639 and parameters: {'n_estimators': 290, 'min_samples_leaf': 3, 'max_depth': 31}. Best is trial 413 with value: 0.8136745712336545.\u001b[0m\n",
      "\u001b[32m[I 2023-04-28 13:10:19,090]\u001b[0m Trial 721 finished with value: 0.8111437763893814 and parameters: {'n_estimators': 290, 'min_samples_leaf': 3, 'max_depth': 29}. Best is trial 413 with value: 0.8136745712336545.\u001b[0m\n",
      "\u001b[32m[I 2023-04-28 13:10:22,124]\u001b[0m Trial 731 finished with value: 0.8111437763893814 and parameters: {'n_estimators': 290, 'min_samples_leaf': 3, 'max_depth': 29}. Best is trial 413 with value: 0.8136745712336545.\u001b[0m\n",
      "\u001b[32m[I 2023-04-28 13:10:23,075]\u001b[0m Trial 730 finished with value: 0.8111437763893814 and parameters: {'n_estimators': 290, 'min_samples_leaf': 3, 'max_depth': 29}. Best is trial 413 with value: 0.8136745712336545.\u001b[0m\n",
      "\u001b[32m[I 2023-04-28 13:10:24,881]\u001b[0m Trial 729 finished with value: 0.8059626972626315 and parameters: {'n_estimators': 140, 'min_samples_leaf': 3, 'max_depth': 29}. Best is trial 413 with value: 0.8136745712336545.\u001b[0m\n",
      "\u001b[32m[I 2023-04-28 13:10:26,327]\u001b[0m Trial 732 finished with value: 0.8111437763893814 and parameters: {'n_estimators': 290, 'min_samples_leaf': 3, 'max_depth': 29}. Best is trial 413 with value: 0.8136745712336545.\u001b[0m\n",
      "\u001b[32m[I 2023-04-28 13:10:26,329]\u001b[0m Trial 733 finished with value: 0.8111437763893814 and parameters: {'n_estimators': 290, 'min_samples_leaf': 3, 'max_depth': 29}. Best is trial 413 with value: 0.8136745712336545.\u001b[0m\n",
      "\u001b[32m[I 2023-04-28 13:10:26,432]\u001b[0m Trial 739 finished with value: 0.8111437763893814 and parameters: {'n_estimators': 290, 'min_samples_leaf': 3, 'max_depth': 29}. Best is trial 413 with value: 0.8136745712336545.\u001b[0m\n",
      "\u001b[32m[I 2023-04-28 13:10:27,332]\u001b[0m Trial 736 finished with value: 0.7993964743834714 and parameters: {'n_estimators': 150, 'min_samples_leaf': 5, 'max_depth': 29}. Best is trial 413 with value: 0.8136745712336545.\u001b[0m\n",
      "\u001b[32m[I 2023-04-28 13:10:27,333]\u001b[0m Trial 735 finished with value: 0.8018808977450818 and parameters: {'n_estimators': 240, 'min_samples_leaf': 5, 'max_depth': 29}. Best is trial 413 with value: 0.8136745712336545.\u001b[0m\n",
      "\u001b[32m[I 2023-04-28 13:10:27,589]\u001b[0m Trial 737 finished with value: 0.8111437763893814 and parameters: {'n_estimators': 290, 'min_samples_leaf': 3, 'max_depth': 29}. Best is trial 413 with value: 0.8136745712336545.\u001b[0m\n",
      "\u001b[32m[I 2023-04-28 13:10:27,662]\u001b[0m Trial 734 finished with value: 0.8043443174454653 and parameters: {'n_estimators': 290, 'min_samples_leaf': 5, 'max_depth': 29}. Best is trial 413 with value: 0.8136745712336545.\u001b[0m\n",
      "\u001b[32m[I 2023-04-28 13:10:28,748]\u001b[0m Trial 738 finished with value: 0.8111437763893814 and parameters: {'n_estimators': 290, 'min_samples_leaf': 3, 'max_depth': 29}. Best is trial 413 with value: 0.8136745712336545.\u001b[0m\n",
      "\u001b[32m[I 2023-04-28 13:10:29,335]\u001b[0m Trial 743 finished with value: 0.8081405094919651 and parameters: {'n_estimators': 160, 'min_samples_leaf': 3, 'max_depth': 29}. Best is trial 413 with value: 0.8136745712336545.\u001b[0m\n",
      "\u001b[32m[I 2023-04-28 13:10:29,365]\u001b[0m Trial 740 finished with value: 0.8111437763893814 and parameters: {'n_estimators': 290, 'min_samples_leaf': 3, 'max_depth': 29}. Best is trial 413 with value: 0.8136745712336545.\u001b[0m\n",
      "\u001b[32m[I 2023-04-28 13:10:35,210]\u001b[0m Trial 742 finished with value: 0.8111437763893814 and parameters: {'n_estimators': 290, 'min_samples_leaf': 3, 'max_depth': 29}. Best is trial 413 with value: 0.8136745712336545.\u001b[0m\n",
      "\u001b[32m[I 2023-04-28 13:10:35,852]\u001b[0m Trial 744 finished with value: 0.8111437763893814 and parameters: {'n_estimators': 290, 'min_samples_leaf': 3, 'max_depth': 29}. Best is trial 413 with value: 0.8136745712336545.\u001b[0m\n",
      "\u001b[32m[I 2023-04-28 13:10:35,961]\u001b[0m Trial 741 finished with value: 0.8111437763893814 and parameters: {'n_estimators': 290, 'min_samples_leaf': 3, 'max_depth': 29}. Best is trial 413 with value: 0.8136745712336545.\u001b[0m\n",
      "\u001b[32m[I 2023-04-28 13:10:38,504]\u001b[0m Trial 746 finished with value: 0.8111437763893814 and parameters: {'n_estimators': 290, 'min_samples_leaf': 3, 'max_depth': 29}. Best is trial 413 with value: 0.8136745712336545.\u001b[0m\n",
      "\u001b[32m[I 2023-04-28 13:10:39,403]\u001b[0m Trial 745 finished with value: 0.8111437763893814 and parameters: {'n_estimators': 290, 'min_samples_leaf': 3, 'max_depth': 29}. Best is trial 413 with value: 0.8136745712336545.\u001b[0m\n",
      "\u001b[32m[I 2023-04-28 13:10:40,236]\u001b[0m Trial 747 finished with value: 0.8111437763893814 and parameters: {'n_estimators': 290, 'min_samples_leaf': 3, 'max_depth': 29}. Best is trial 413 with value: 0.8136745712336545.\u001b[0m\n",
      "\u001b[32m[I 2023-04-28 13:10:40,565]\u001b[0m Trial 750 finished with value: 0.8111437763893814 and parameters: {'n_estimators': 290, 'min_samples_leaf': 3, 'max_depth': 29}. Best is trial 413 with value: 0.8136745712336545.\u001b[0m\n",
      "\u001b[32m[I 2023-04-28 13:10:40,585]\u001b[0m Trial 749 finished with value: 0.8082361613541587 and parameters: {'n_estimators': 150, 'min_samples_leaf': 3, 'max_depth': 33}. Best is trial 413 with value: 0.8136745712336545.\u001b[0m\n",
      "\u001b[32m[I 2023-04-28 13:10:42,068]\u001b[0m Trial 748 finished with value: 0.8111437763893814 and parameters: {'n_estimators': 290, 'min_samples_leaf': 3, 'max_depth': 29}. Best is trial 413 with value: 0.8136745712336545.\u001b[0m\n",
      "\u001b[32m[I 2023-04-28 13:10:42,205]\u001b[0m Trial 753 finished with value: 0.8043443174454653 and parameters: {'n_estimators': 290, 'min_samples_leaf': 5, 'max_depth': 33}. Best is trial 413 with value: 0.8136745712336545.\u001b[0m\n",
      "\u001b[32m[I 2023-04-28 13:10:42,313]\u001b[0m Trial 751 finished with value: 0.8111437763893814 and parameters: {'n_estimators': 290, 'min_samples_leaf': 3, 'max_depth': 29}. Best is trial 413 with value: 0.8136745712336545.\u001b[0m\n",
      "\u001b[32m[I 2023-04-28 13:10:42,334]\u001b[0m Trial 752 finished with value: 0.8111437763893814 and parameters: {'n_estimators': 290, 'min_samples_leaf': 3, 'max_depth': 29}. Best is trial 413 with value: 0.8136745712336545.\u001b[0m\n",
      "\u001b[32m[I 2023-04-28 13:10:43,690]\u001b[0m Trial 754 finished with value: 0.8119935906656067 and parameters: {'n_estimators': 290, 'min_samples_leaf': 3, 'max_depth': 33}. Best is trial 413 with value: 0.8136745712336545.\u001b[0m\n",
      "\u001b[32m[I 2023-04-28 13:10:45,672]\u001b[0m Trial 756 finished with value: 0.8043443174454653 and parameters: {'n_estimators': 290, 'min_samples_leaf': 5, 'max_depth': 29}. Best is trial 413 with value: 0.8136745712336545.\u001b[0m\n",
      "\u001b[32m[I 2023-04-28 13:10:46,230]\u001b[0m Trial 755 finished with value: 0.8043443174454653 and parameters: {'n_estimators': 290, 'min_samples_leaf': 5, 'max_depth': 29}. Best is trial 413 with value: 0.8136745712336545.\u001b[0m\n",
      "\u001b[32m[I 2023-04-28 13:10:47,824]\u001b[0m Trial 763 finished with value: 0.7993964743834714 and parameters: {'n_estimators': 150, 'min_samples_leaf': 5, 'max_depth': 29}. Best is trial 413 with value: 0.8136745712336545.\u001b[0m\n",
      "\u001b[32m[I 2023-04-28 13:10:47,999]\u001b[0m Trial 757 finished with value: 0.8111437763893814 and parameters: {'n_estimators': 290, 'min_samples_leaf': 3, 'max_depth': 29}. Best is trial 413 with value: 0.8136745712336545.\u001b[0m\n",
      "\u001b[32m[I 2023-04-28 13:10:50,575]\u001b[0m Trial 761 finished with value: 0.8111437763893814 and parameters: {'n_estimators': 290, 'min_samples_leaf': 3, 'max_depth': 29}. Best is trial 413 with value: 0.8136745712336545.\u001b[0m\n",
      "\u001b[32m[I 2023-04-28 13:10:51,147]\u001b[0m Trial 762 finished with value: 0.8119935906656067 and parameters: {'n_estimators': 290, 'min_samples_leaf': 3, 'max_depth': 33}. Best is trial 413 with value: 0.8136745712336545.\u001b[0m\n",
      "\u001b[32m[I 2023-04-28 13:10:51,298]\u001b[0m Trial 759 finished with value: 0.8043443174454653 and parameters: {'n_estimators': 290, 'min_samples_leaf': 5, 'max_depth': 29}. Best is trial 413 with value: 0.8136745712336545.\u001b[0m\n",
      "\u001b[32m[I 2023-04-28 13:10:53,234]\u001b[0m Trial 760 finished with value: 0.8043443174454653 and parameters: {'n_estimators': 290, 'min_samples_leaf': 5, 'max_depth': 29}. Best is trial 413 with value: 0.8136745712336545.\u001b[0m\n",
      "\u001b[32m[I 2023-04-28 13:10:54,565]\u001b[0m Trial 764 finished with value: 0.8128306244847238 and parameters: {'n_estimators': 280, 'min_samples_leaf': 3, 'max_depth': 29}. Best is trial 413 with value: 0.8136745712336545.\u001b[0m\n",
      "\u001b[32m[I 2023-04-28 13:10:54,609]\u001b[0m Trial 758 finished with value: 0.8043443174454653 and parameters: {'n_estimators': 290, 'min_samples_leaf': 5, 'max_depth': 29}. Best is trial 413 with value: 0.8136745712336545.\u001b[0m\n",
      "\u001b[32m[I 2023-04-28 13:10:55,178]\u001b[0m Trial 767 finished with value: 0.8046905036934835 and parameters: {'n_estimators': 280, 'min_samples_leaf': 5, 'max_depth': 33}. Best is trial 413 with value: 0.8136745712336545.\u001b[0m\n",
      "\u001b[32m[I 2023-04-28 13:10:55,228]\u001b[0m Trial 766 finished with value: 0.8128306244847238 and parameters: {'n_estimators': 280, 'min_samples_leaf': 3, 'max_depth': 29}. Best is trial 413 with value: 0.8136745712336545.\u001b[0m\n",
      "\u001b[32m[I 2023-04-28 13:10:55,572]\u001b[0m Trial 765 finished with value: 0.8128306244847238 and parameters: {'n_estimators': 280, 'min_samples_leaf': 3, 'max_depth': 29}. Best is trial 413 with value: 0.8136745712336545.\u001b[0m\n",
      "\u001b[32m[I 2023-04-28 13:10:55,581]\u001b[0m Trial 768 finished with value: 0.8133089031934124 and parameters: {'n_estimators': 280, 'min_samples_leaf': 3, 'max_depth': 33}. Best is trial 413 with value: 0.8136745712336545.\u001b[0m\n",
      "\u001b[32m[I 2023-04-28 13:10:56,791]\u001b[0m Trial 769 finished with value: 0.8133089031934124 and parameters: {'n_estimators': 280, 'min_samples_leaf': 3, 'max_depth': 33}. Best is trial 413 with value: 0.8136745712336545.\u001b[0m\n",
      "\u001b[32m[I 2023-04-28 13:11:00,202]\u001b[0m Trial 771 finished with value: 0.8046905036934835 and parameters: {'n_estimators': 280, 'min_samples_leaf': 5, 'max_depth': 33}. Best is trial 413 with value: 0.8136745712336545.\u001b[0m\n",
      "\u001b[32m[I 2023-04-28 13:11:00,241]\u001b[0m Trial 772 finished with value: 0.8133089031934124 and parameters: {'n_estimators': 280, 'min_samples_leaf': 3, 'max_depth': 33}. Best is trial 413 with value: 0.8136745712336545.\u001b[0m\n",
      "\u001b[32m[I 2023-04-28 13:11:00,283]\u001b[0m Trial 770 finished with value: 0.8133089031934124 and parameters: {'n_estimators': 280, 'min_samples_leaf': 3, 'max_depth': 33}. Best is trial 413 with value: 0.8136745712336545.\u001b[0m\n",
      "\u001b[32m[I 2023-04-28 13:11:00,345]\u001b[0m Trial 773 finished with value: 0.8046905036934835 and parameters: {'n_estimators': 280, 'min_samples_leaf': 5, 'max_depth': 33}. Best is trial 413 with value: 0.8136745712336545.\u001b[0m\n",
      "\u001b[32m[I 2023-04-28 13:11:00,429]\u001b[0m Trial 774 finished with value: 0.8133089031934124 and parameters: {'n_estimators': 280, 'min_samples_leaf': 3, 'max_depth': 33}. Best is trial 413 with value: 0.8136745712336545.\u001b[0m\n",
      "\u001b[32m[I 2023-04-28 13:11:00,472]\u001b[0m Trial 775 finished with value: 0.8123398159312616 and parameters: {'n_estimators': 280, 'min_samples_leaf': 3, 'max_depth': 26}. Best is trial 413 with value: 0.8136745712336545.\u001b[0m\n",
      "\u001b[32m[I 2023-04-28 13:11:02,226]\u001b[0m Trial 776 finished with value: 0.7991418248961109 and parameters: {'n_estimators': 150, 'min_samples_leaf': 5, 'max_depth': 26}. Best is trial 413 with value: 0.8136745712336545.\u001b[0m\n",
      "\u001b[32m[I 2023-04-28 13:11:07,042]\u001b[0m Trial 778 finished with value: 0.8133089031934124 and parameters: {'n_estimators': 280, 'min_samples_leaf': 3, 'max_depth': 33}. Best is trial 413 with value: 0.8136745712336545.\u001b[0m\n",
      "\u001b[32m[I 2023-04-28 13:11:10,337]\u001b[0m Trial 780 finished with value: 0.8046905036934835 and parameters: {'n_estimators': 280, 'min_samples_leaf': 5, 'max_depth': 33}. Best is trial 413 with value: 0.8136745712336545.\u001b[0m\n",
      "\u001b[32m[I 2023-04-28 13:11:10,338]\u001b[0m Trial 777 finished with value: 0.8046905036934835 and parameters: {'n_estimators': 280, 'min_samples_leaf': 5, 'max_depth': 33}. Best is trial 413 with value: 0.8136745712336545.\u001b[0m\n",
      "\u001b[32m[I 2023-04-28 13:11:10,362]\u001b[0m Trial 783 finished with value: 0.8136745712336545 and parameters: {'n_estimators': 280, 'min_samples_leaf': 3, 'max_depth': 31}. Best is trial 413 with value: 0.8136745712336545.\u001b[0m\n",
      "\u001b[32m[I 2023-04-28 13:11:10,364]\u001b[0m Trial 779 finished with value: 0.8133089031934124 and parameters: {'n_estimators': 280, 'min_samples_leaf': 3, 'max_depth': 33}. Best is trial 413 with value: 0.8136745712336545.\u001b[0m\n",
      "\u001b[32m[I 2023-04-28 13:11:10,379]\u001b[0m Trial 781 finished with value: 0.8136745712336545 and parameters: {'n_estimators': 280, 'min_samples_leaf': 3, 'max_depth': 31}. Best is trial 413 with value: 0.8136745712336545.\u001b[0m\n",
      "\u001b[32m[I 2023-04-28 13:11:10,414]\u001b[0m Trial 782 finished with value: 0.8136745712336545 and parameters: {'n_estimators': 280, 'min_samples_leaf': 3, 'max_depth': 31}. Best is trial 413 with value: 0.8136745712336545.\u001b[0m\n",
      "\u001b[32m[I 2023-04-28 13:11:10,429]\u001b[0m Trial 786 finished with value: 0.8136745712336545 and parameters: {'n_estimators': 280, 'min_samples_leaf': 3, 'max_depth': 31}. Best is trial 413 with value: 0.8136745712336545.\u001b[0m\n",
      "\u001b[32m[I 2023-04-28 13:11:10,434]\u001b[0m Trial 784 finished with value: 0.8133089031934124 and parameters: {'n_estimators': 280, 'min_samples_leaf': 3, 'max_depth': 33}. Best is trial 413 with value: 0.8136745712336545.\u001b[0m\n",
      "\u001b[32m[I 2023-04-28 13:11:16,018]\u001b[0m Trial 785 finished with value: 0.8123398159312616 and parameters: {'n_estimators': 280, 'min_samples_leaf': 3, 'max_depth': 26}. Best is trial 413 with value: 0.8136745712336545.\u001b[0m\n",
      "\u001b[32m[I 2023-04-28 13:11:16,311]\u001b[0m Trial 788 finished with value: 0.8136745712336545 and parameters: {'n_estimators': 280, 'min_samples_leaf': 3, 'max_depth': 31}. Best is trial 413 with value: 0.8136745712336545.\u001b[0m\n",
      "\u001b[32m[I 2023-04-28 13:11:16,352]\u001b[0m Trial 790 finished with value: 0.8123398159312616 and parameters: {'n_estimators': 280, 'min_samples_leaf': 3, 'max_depth': 26}. Best is trial 413 with value: 0.8136745712336545.\u001b[0m\n",
      "\u001b[32m[I 2023-04-28 13:11:16,356]\u001b[0m Trial 787 finished with value: 0.8133089031934124 and parameters: {'n_estimators': 280, 'min_samples_leaf': 3, 'max_depth': 33}. Best is trial 413 with value: 0.8136745712336545.\u001b[0m\n",
      "\u001b[32m[I 2023-04-28 13:11:16,959]\u001b[0m Trial 789 finished with value: 0.8133089031934124 and parameters: {'n_estimators': 280, 'min_samples_leaf': 3, 'max_depth': 33}. Best is trial 413 with value: 0.8136745712336545.\u001b[0m\n",
      "\u001b[32m[I 2023-04-28 13:11:19,791]\u001b[0m Trial 798 finished with value: 0.8133089031934124 and parameters: {'n_estimators': 280, 'min_samples_leaf': 3, 'max_depth': 33}. Best is trial 413 with value: 0.8136745712336545.\u001b[0m\n",
      "\u001b[32m[I 2023-04-28 13:11:21,156]\u001b[0m Trial 792 finished with value: 0.8133089031934124 and parameters: {'n_estimators': 280, 'min_samples_leaf': 3, 'max_depth': 33}. Best is trial 413 with value: 0.8136745712336545.\u001b[0m\n",
      "\u001b[32m[I 2023-04-28 13:11:21,188]\u001b[0m Trial 793 finished with value: 0.8136745712336545 and parameters: {'n_estimators': 280, 'min_samples_leaf': 3, 'max_depth': 31}. Best is trial 413 with value: 0.8136745712336545.\u001b[0m\n",
      "\u001b[32m[I 2023-04-28 13:11:21,239]\u001b[0m Trial 791 finished with value: 0.8133089031934124 and parameters: {'n_estimators': 280, 'min_samples_leaf': 3, 'max_depth': 33}. Best is trial 413 with value: 0.8136745712336545.\u001b[0m\n",
      "\u001b[32m[I 2023-04-28 13:11:21,244]\u001b[0m Trial 794 finished with value: 0.8133089031934124 and parameters: {'n_estimators': 280, 'min_samples_leaf': 3, 'max_depth': 33}. Best is trial 413 with value: 0.8136745712336545.\u001b[0m\n",
      "\u001b[32m[I 2023-04-28 13:11:21,248]\u001b[0m Trial 796 finished with value: 0.8133089031934124 and parameters: {'n_estimators': 280, 'min_samples_leaf': 3, 'max_depth': 33}. Best is trial 413 with value: 0.8136745712336545.\u001b[0m\n",
      "\u001b[32m[I 2023-04-28 13:11:21,256]\u001b[0m Trial 795 finished with value: 0.8133089031934124 and parameters: {'n_estimators': 280, 'min_samples_leaf': 3, 'max_depth': 33}. Best is trial 413 with value: 0.8136745712336545.\u001b[0m\n",
      "\u001b[32m[I 2023-04-28 13:11:23,210]\u001b[0m Trial 799 finished with value: 0.8133089031934124 and parameters: {'n_estimators': 280, 'min_samples_leaf': 3, 'max_depth': 33}. Best is trial 413 with value: 0.8136745712336545.\u001b[0m\n",
      "\u001b[32m[I 2023-04-28 13:11:27,923]\u001b[0m Trial 797 finished with value: 0.8133089031934124 and parameters: {'n_estimators': 280, 'min_samples_leaf': 3, 'max_depth': 33}. Best is trial 413 with value: 0.8136745712336545.\u001b[0m\n",
      "\u001b[32m[I 2023-04-28 13:11:28,819]\u001b[0m Trial 800 finished with value: 0.8136745712336545 and parameters: {'n_estimators': 280, 'min_samples_leaf': 3, 'max_depth': 31}. Best is trial 413 with value: 0.8136745712336545.\u001b[0m\n",
      "\u001b[32m[I 2023-04-28 13:11:29,198]\u001b[0m Trial 802 finished with value: 0.8136745712336545 and parameters: {'n_estimators': 280, 'min_samples_leaf': 3, 'max_depth': 31}. Best is trial 413 with value: 0.8136745712336545.\u001b[0m\n",
      "\u001b[32m[I 2023-04-28 13:11:29,201]\u001b[0m Trial 801 finished with value: 0.8133089031934124 and parameters: {'n_estimators': 280, 'min_samples_leaf': 3, 'max_depth': 33}. Best is trial 413 with value: 0.8136745712336545.\u001b[0m\n",
      "\u001b[32m[I 2023-04-28 13:11:30,235]\u001b[0m Trial 803 finished with value: 0.8136745712336545 and parameters: {'n_estimators': 280, 'min_samples_leaf': 3, 'max_depth': 31}. Best is trial 413 with value: 0.8136745712336545.\u001b[0m\n",
      "\u001b[32m[I 2023-04-28 13:11:30,282]\u001b[0m Trial 804 finished with value: 0.8136745712336545 and parameters: {'n_estimators': 280, 'min_samples_leaf': 3, 'max_depth': 31}. Best is trial 413 with value: 0.8136745712336545.\u001b[0m\n",
      "\u001b[32m[I 2023-04-28 13:11:31,508]\u001b[0m Trial 807 finished with value: 0.8136745712336545 and parameters: {'n_estimators': 280, 'min_samples_leaf': 3, 'max_depth': 31}. Best is trial 413 with value: 0.8136745712336545.\u001b[0m\n",
      "\u001b[32m[I 2023-04-28 13:11:31,540]\u001b[0m Trial 805 finished with value: 0.8136745712336545 and parameters: {'n_estimators': 280, 'min_samples_leaf': 3, 'max_depth': 31}. Best is trial 413 with value: 0.8136745712336545.\u001b[0m\n",
      "\u001b[32m[I 2023-04-28 13:11:31,547]\u001b[0m Trial 806 finished with value: 0.8136745712336545 and parameters: {'n_estimators': 280, 'min_samples_leaf': 3, 'max_depth': 31}. Best is trial 413 with value: 0.8136745712336545.\u001b[0m\n",
      "\u001b[32m[I 2023-04-28 13:11:35,620]\u001b[0m Trial 808 finished with value: 0.8136745712336545 and parameters: {'n_estimators': 280, 'min_samples_leaf': 3, 'max_depth': 31}. Best is trial 413 with value: 0.8136745712336545.\u001b[0m\n",
      "\u001b[32m[I 2023-04-28 13:11:35,950]\u001b[0m Trial 809 finished with value: 0.8136745712336545 and parameters: {'n_estimators': 280, 'min_samples_leaf': 3, 'max_depth': 31}. Best is trial 413 with value: 0.8136745712336545.\u001b[0m\n",
      "\u001b[32m[I 2023-04-28 13:11:37,011]\u001b[0m Trial 811 finished with value: 0.8136745712336545 and parameters: {'n_estimators': 280, 'min_samples_leaf': 3, 'max_depth': 31}. Best is trial 413 with value: 0.8136745712336545.\u001b[0m\n",
      "\u001b[32m[I 2023-04-28 13:11:37,047]\u001b[0m Trial 810 finished with value: 0.8136745712336545 and parameters: {'n_estimators': 280, 'min_samples_leaf': 3, 'max_depth': 31}. Best is trial 413 with value: 0.8136745712336545.\u001b[0m\n",
      "\u001b[32m[I 2023-04-28 13:11:38,552]\u001b[0m Trial 812 finished with value: 0.8136745712336545 and parameters: {'n_estimators': 280, 'min_samples_leaf': 3, 'max_depth': 31}. Best is trial 413 with value: 0.8136745712336545.\u001b[0m\n",
      "\u001b[32m[I 2023-04-28 13:11:38,658]\u001b[0m Trial 817 finished with value: 0.8136745712336545 and parameters: {'n_estimators': 280, 'min_samples_leaf': 3, 'max_depth': 31}. Best is trial 413 with value: 0.8136745712336545.\u001b[0m\n",
      "\u001b[32m[I 2023-04-28 13:11:39,140]\u001b[0m Trial 816 finished with value: 0.8136745712336545 and parameters: {'n_estimators': 280, 'min_samples_leaf': 3, 'max_depth': 31}. Best is trial 413 with value: 0.8136745712336545.\u001b[0m\n",
      "\u001b[32m[I 2023-04-28 13:11:39,462]\u001b[0m Trial 813 finished with value: 0.8136745712336545 and parameters: {'n_estimators': 280, 'min_samples_leaf': 3, 'max_depth': 31}. Best is trial 413 with value: 0.8136745712336545.\u001b[0m\n",
      "\u001b[32m[I 2023-04-28 13:11:40,207]\u001b[0m Trial 819 finished with value: 0.8136745712336545 and parameters: {'n_estimators': 280, 'min_samples_leaf': 3, 'max_depth': 31}. Best is trial 413 with value: 0.8136745712336545.\u001b[0m\n",
      "\u001b[32m[I 2023-04-28 13:11:40,211]\u001b[0m Trial 815 finished with value: 0.8136745712336545 and parameters: {'n_estimators': 280, 'min_samples_leaf': 3, 'max_depth': 31}. Best is trial 413 with value: 0.8136745712336545.\u001b[0m\n",
      "\u001b[32m[I 2023-04-28 13:11:41,893]\u001b[0m Trial 814 finished with value: 0.8136745712336545 and parameters: {'n_estimators': 280, 'min_samples_leaf': 3, 'max_depth': 31}. Best is trial 413 with value: 0.8136745712336545.\u001b[0m\n",
      "\u001b[32m[I 2023-04-28 13:11:43,021]\u001b[0m Trial 818 finished with value: 0.8136745712336545 and parameters: {'n_estimators': 280, 'min_samples_leaf': 3, 'max_depth': 31}. Best is trial 413 with value: 0.8136745712336545.\u001b[0m\n",
      "\u001b[32m[I 2023-04-28 13:11:46,406]\u001b[0m Trial 825 finished with value: 0.8136745712336545 and parameters: {'n_estimators': 280, 'min_samples_leaf': 3, 'max_depth': 31}. Best is trial 413 with value: 0.8136745712336545.\u001b[0m\n",
      "\u001b[32m[I 2023-04-28 13:11:48,006]\u001b[0m Trial 822 finished with value: 0.8136745712336545 and parameters: {'n_estimators': 280, 'min_samples_leaf': 3, 'max_depth': 31}. Best is trial 413 with value: 0.8136745712336545.\u001b[0m\n",
      "\u001b[32m[I 2023-04-28 13:11:48,823]\u001b[0m Trial 823 finished with value: 0.8136745712336545 and parameters: {'n_estimators': 280, 'min_samples_leaf': 3, 'max_depth': 31}. Best is trial 413 with value: 0.8136745712336545.\u001b[0m\n",
      "\u001b[32m[I 2023-04-28 13:11:48,849]\u001b[0m Trial 820 finished with value: 0.8136745712336545 and parameters: {'n_estimators': 280, 'min_samples_leaf': 3, 'max_depth': 31}. Best is trial 413 with value: 0.8136745712336545.\u001b[0m\n",
      "\u001b[32m[I 2023-04-28 13:11:48,884]\u001b[0m Trial 824 finished with value: 0.8136745712336545 and parameters: {'n_estimators': 280, 'min_samples_leaf': 3, 'max_depth': 31}. Best is trial 413 with value: 0.8136745712336545.\u001b[0m\n",
      "\u001b[32m[I 2023-04-28 13:11:49,008]\u001b[0m Trial 821 finished with value: 0.8136745712336545 and parameters: {'n_estimators': 280, 'min_samples_leaf': 3, 'max_depth': 31}. Best is trial 413 with value: 0.8136745712336545.\u001b[0m\n",
      "\u001b[32m[I 2023-04-28 13:11:51,674]\u001b[0m Trial 827 finished with value: 0.8136745712336545 and parameters: {'n_estimators': 280, 'min_samples_leaf': 3, 'max_depth': 31}. Best is trial 413 with value: 0.8136745712336545.\u001b[0m\n",
      "\u001b[32m[I 2023-04-28 13:11:51,687]\u001b[0m Trial 833 finished with value: 0.8136745712336545 and parameters: {'n_estimators': 280, 'min_samples_leaf': 3, 'max_depth': 31}. Best is trial 413 with value: 0.8136745712336545.\u001b[0m\n",
      "\u001b[32m[I 2023-04-28 13:11:51,981]\u001b[0m Trial 828 finished with value: 0.8136745712336545 and parameters: {'n_estimators': 280, 'min_samples_leaf': 3, 'max_depth': 31}. Best is trial 413 with value: 0.8136745712336545.\u001b[0m\n",
      "\u001b[32m[I 2023-04-28 13:11:52,956]\u001b[0m Trial 830 finished with value: 0.8136745712336545 and parameters: {'n_estimators': 280, 'min_samples_leaf': 3, 'max_depth': 31}. Best is trial 413 with value: 0.8136745712336545.\u001b[0m\n",
      "\u001b[32m[I 2023-04-28 13:11:54,303]\u001b[0m Trial 831 finished with value: 0.8136745712336545 and parameters: {'n_estimators': 280, 'min_samples_leaf': 3, 'max_depth': 31}. Best is trial 413 with value: 0.8136745712336545.\u001b[0m\n",
      "\u001b[32m[I 2023-04-28 13:11:54,323]\u001b[0m Trial 829 finished with value: 0.8136745712336545 and parameters: {'n_estimators': 280, 'min_samples_leaf': 3, 'max_depth': 31}. Best is trial 413 with value: 0.8136745712336545.\u001b[0m\n",
      "\u001b[32m[I 2023-04-28 13:11:54,855]\u001b[0m Trial 826 finished with value: 0.8136745712336545 and parameters: {'n_estimators': 280, 'min_samples_leaf': 3, 'max_depth': 31}. Best is trial 413 with value: 0.8136745712336545.\u001b[0m\n",
      "\u001b[32m[I 2023-04-28 13:11:55,045]\u001b[0m Trial 832 finished with value: 0.8136745712336545 and parameters: {'n_estimators': 280, 'min_samples_leaf': 3, 'max_depth': 31}. Best is trial 413 with value: 0.8136745712336545.\u001b[0m\n",
      "\u001b[32m[I 2023-04-28 13:11:55,263]\u001b[0m Trial 835 finished with value: 0.8136745712336545 and parameters: {'n_estimators': 280, 'min_samples_leaf': 3, 'max_depth': 31}. Best is trial 413 with value: 0.8136745712336545.\u001b[0m\n",
      "\u001b[32m[I 2023-04-28 13:12:00,031]\u001b[0m Trial 836 finished with value: 0.8136745712336545 and parameters: {'n_estimators': 280, 'min_samples_leaf': 3, 'max_depth': 31}. Best is trial 413 with value: 0.8136745712336545.\u001b[0m\n",
      "\u001b[32m[I 2023-04-28 13:12:02,055]\u001b[0m Trial 837 finished with value: 0.8136745712336545 and parameters: {'n_estimators': 280, 'min_samples_leaf': 3, 'max_depth': 31}. Best is trial 413 with value: 0.8136745712336545.\u001b[0m\n",
      "\u001b[32m[I 2023-04-28 13:12:02,086]\u001b[0m Trial 834 finished with value: 0.8136745712336545 and parameters: {'n_estimators': 280, 'min_samples_leaf': 3, 'max_depth': 31}. Best is trial 413 with value: 0.8136745712336545.\u001b[0m\n",
      "\u001b[32m[I 2023-04-28 13:12:02,176]\u001b[0m Trial 842 finished with value: 0.8136745712336545 and parameters: {'n_estimators': 280, 'min_samples_leaf': 3, 'max_depth': 31}. Best is trial 413 with value: 0.8136745712336545.\u001b[0m\n",
      "\u001b[32m[I 2023-04-28 13:12:02,420]\u001b[0m Trial 838 finished with value: 0.8136745712336545 and parameters: {'n_estimators': 280, 'min_samples_leaf': 3, 'max_depth': 31}. Best is trial 413 with value: 0.8136745712336545.\u001b[0m\n",
      "\u001b[32m[I 2023-04-28 13:12:02,772]\u001b[0m Trial 839 finished with value: 0.8136745712336545 and parameters: {'n_estimators': 280, 'min_samples_leaf': 3, 'max_depth': 31}. Best is trial 413 with value: 0.8136745712336545.\u001b[0m\n",
      "\u001b[32m[I 2023-04-28 13:12:04,520]\u001b[0m Trial 840 finished with value: 0.8062734035325942 and parameters: {'n_estimators': 190, 'min_samples_leaf': 3, 'max_depth': 31}. Best is trial 413 with value: 0.8136745712336545.\u001b[0m\n",
      "\u001b[32m[I 2023-04-28 13:12:04,571]\u001b[0m Trial 845 finished with value: 0.8136745712336545 and parameters: {'n_estimators': 280, 'min_samples_leaf': 3, 'max_depth': 31}. Best is trial 413 with value: 0.8136745712336545.\u001b[0m\n",
      "\u001b[32m[I 2023-04-28 13:12:04,760]\u001b[0m Trial 843 finished with value: 0.8136745712336545 and parameters: {'n_estimators': 280, 'min_samples_leaf': 3, 'max_depth': 31}. Best is trial 413 with value: 0.8136745712336545.\u001b[0m\n",
      "\u001b[32m[I 2023-04-28 13:12:10,205]\u001b[0m Trial 844 finished with value: 0.8136745712336545 and parameters: {'n_estimators': 280, 'min_samples_leaf': 3, 'max_depth': 31}. Best is trial 413 with value: 0.8136745712336545.\u001b[0m\n",
      "\u001b[32m[I 2023-04-28 13:12:10,360]\u001b[0m Trial 848 finished with value: 0.8134312250853244 and parameters: {'n_estimators': 280, 'min_samples_leaf': 3, 'max_depth': 32}. Best is trial 413 with value: 0.8136745712336545.\u001b[0m\n",
      "\u001b[32m[I 2023-04-28 13:12:11,141]\u001b[0m Trial 846 finished with value: 0.8134312250853244 and parameters: {'n_estimators': 280, 'min_samples_leaf': 3, 'max_depth': 32}. Best is trial 413 with value: 0.8136745712336545.\u001b[0m\n",
      "\u001b[32m[I 2023-04-28 13:12:11,178]\u001b[0m Trial 851 finished with value: 0.8134312250853244 and parameters: {'n_estimators': 280, 'min_samples_leaf': 3, 'max_depth': 32}. Best is trial 413 with value: 0.8136745712336545.\u001b[0m\n",
      "\u001b[32m[I 2023-04-28 13:12:11,233]\u001b[0m Trial 847 finished with value: 0.8134312250853244 and parameters: {'n_estimators': 280, 'min_samples_leaf': 3, 'max_depth': 32}. Best is trial 413 with value: 0.8136745712336545.\u001b[0m\n",
      "\u001b[32m[I 2023-04-28 13:12:11,268]\u001b[0m Trial 850 finished with value: 0.8054193932544067 and parameters: {'n_estimators': 190, 'min_samples_leaf': 3, 'max_depth': 32}. Best is trial 413 with value: 0.8136745712336545.\u001b[0m\n",
      "\u001b[32m[I 2023-04-28 13:12:11,563]\u001b[0m Trial 841 finished with value: 0.8136745712336545 and parameters: {'n_estimators': 280, 'min_samples_leaf': 3, 'max_depth': 31}. Best is trial 413 with value: 0.8136745712336545.\u001b[0m\n",
      "\u001b[32m[I 2023-04-28 13:12:13,014]\u001b[0m Trial 849 finished with value: 0.8134312250853244 and parameters: {'n_estimators': 280, 'min_samples_leaf': 3, 'max_depth': 32}. Best is trial 413 with value: 0.8136745712336545.\u001b[0m\n",
      "\u001b[32m[I 2023-04-28 13:12:15,002]\u001b[0m Trial 855 finished with value: 0.8134312250853244 and parameters: {'n_estimators': 280, 'min_samples_leaf': 3, 'max_depth': 32}. Best is trial 413 with value: 0.8136745712336545.\u001b[0m\n",
      "\u001b[32m[I 2023-04-28 13:12:15,228]\u001b[0m Trial 853 finished with value: 0.8134312250853244 and parameters: {'n_estimators': 280, 'min_samples_leaf': 3, 'max_depth': 32}. Best is trial 413 with value: 0.8136745712336545.\u001b[0m\n",
      "\u001b[32m[I 2023-04-28 13:12:17,641]\u001b[0m Trial 860 finished with value: 0.8054193932544067 and parameters: {'n_estimators': 190, 'min_samples_leaf': 3, 'max_depth': 32}. Best is trial 413 with value: 0.8136745712336545.\u001b[0m\n",
      "\u001b[32m[I 2023-04-28 13:12:17,648]\u001b[0m Trial 857 finished with value: 0.8134312250853244 and parameters: {'n_estimators': 280, 'min_samples_leaf': 3, 'max_depth': 32}. Best is trial 413 with value: 0.8136745712336545.\u001b[0m\n",
      "\u001b[32m[I 2023-04-28 13:12:17,743]\u001b[0m Trial 858 finished with value: 0.8079127760693334 and parameters: {'n_estimators': 200, 'min_samples_leaf': 3, 'max_depth': 32}. Best is trial 413 with value: 0.8136745712336545.\u001b[0m\n",
      "\u001b[32m[I 2023-04-28 13:12:18,186]\u001b[0m Trial 852 finished with value: 0.8079127760693334 and parameters: {'n_estimators': 200, 'min_samples_leaf': 3, 'max_depth': 32}. Best is trial 413 with value: 0.8136745712336545.\u001b[0m\n",
      "\u001b[32m[I 2023-04-28 13:12:18,217]\u001b[0m Trial 856 finished with value: 0.8134312250853244 and parameters: {'n_estimators': 280, 'min_samples_leaf': 3, 'max_depth': 32}. Best is trial 413 with value: 0.8136745712336545.\u001b[0m\n",
      "\u001b[32m[I 2023-04-28 13:12:18,264]\u001b[0m Trial 854 finished with value: 0.8134312250853244 and parameters: {'n_estimators': 280, 'min_samples_leaf': 3, 'max_depth': 32}. Best is trial 413 with value: 0.8136745712336545.\u001b[0m\n",
      "\u001b[32m[I 2023-04-28 13:12:21,776]\u001b[0m Trial 861 finished with value: 0.8134312250853244 and parameters: {'n_estimators': 280, 'min_samples_leaf': 3, 'max_depth': 32}. Best is trial 413 with value: 0.8136745712336545.\u001b[0m\n",
      "\u001b[32m[I 2023-04-28 13:12:22,638]\u001b[0m Trial 859 finished with value: 0.8134312250853244 and parameters: {'n_estimators': 280, 'min_samples_leaf': 3, 'max_depth': 32}. Best is trial 413 with value: 0.8136745712336545.\u001b[0m\n",
      "\u001b[32m[I 2023-04-28 13:12:25,275]\u001b[0m Trial 866 finished with value: 0.8134312250853244 and parameters: {'n_estimators': 280, 'min_samples_leaf': 3, 'max_depth': 32}. Best is trial 413 with value: 0.8136745712336545.\u001b[0m\n",
      "\u001b[32m[I 2023-04-28 13:12:25,902]\u001b[0m Trial 862 finished with value: 0.8134312250853244 and parameters: {'n_estimators': 280, 'min_samples_leaf': 3, 'max_depth': 32}. Best is trial 413 with value: 0.8136745712336545.\u001b[0m\n",
      "\u001b[32m[I 2023-04-28 13:12:25,945]\u001b[0m Trial 865 finished with value: 0.8134312250853244 and parameters: {'n_estimators': 280, 'min_samples_leaf': 3, 'max_depth': 32}. Best is trial 413 with value: 0.8136745712336545.\u001b[0m\n",
      "\u001b[32m[I 2023-04-28 13:12:26,405]\u001b[0m Trial 867 finished with value: 0.8134312250853244 and parameters: {'n_estimators': 280, 'min_samples_leaf': 3, 'max_depth': 32}. Best is trial 413 with value: 0.8136745712336545.\u001b[0m\n",
      "\u001b[32m[I 2023-04-28 13:12:26,538]\u001b[0m Trial 864 finished with value: 0.8134312250853244 and parameters: {'n_estimators': 280, 'min_samples_leaf': 3, 'max_depth': 32}. Best is trial 413 with value: 0.8136745712336545.\u001b[0m\n",
      "\u001b[32m[I 2023-04-28 13:12:26,927]\u001b[0m Trial 869 finished with value: 0.8134312250853244 and parameters: {'n_estimators': 280, 'min_samples_leaf': 3, 'max_depth': 32}. Best is trial 413 with value: 0.8136745712336545.\u001b[0m\n",
      "\u001b[32m[I 2023-04-28 13:12:27,035]\u001b[0m Trial 863 finished with value: 0.8134312250853244 and parameters: {'n_estimators': 280, 'min_samples_leaf': 3, 'max_depth': 32}. Best is trial 413 with value: 0.8136745712336545.\u001b[0m\n",
      "\u001b[32m[I 2023-04-28 13:12:27,896]\u001b[0m Trial 873 finished with value: 0.8067270333344656 and parameters: {'n_estimators': 100, 'min_samples_leaf': 3, 'max_depth': 32}. Best is trial 413 with value: 0.8136745712336545.\u001b[0m\n",
      "\u001b[32m[I 2023-04-28 13:12:28,283]\u001b[0m Trial 868 finished with value: 0.8134312250853244 and parameters: {'n_estimators': 280, 'min_samples_leaf': 3, 'max_depth': 32}. Best is trial 413 with value: 0.8136745712336545.\u001b[0m\n",
      "\u001b[32m[I 2023-04-28 13:12:29,273]\u001b[0m Trial 870 finished with value: 0.8054193932544067 and parameters: {'n_estimators': 190, 'min_samples_leaf': 3, 'max_depth': 32}. Best is trial 413 with value: 0.8136745712336545.\u001b[0m\n",
      "\u001b[32m[I 2023-04-28 13:12:32,894]\u001b[0m Trial 874 finished with value: 0.8079127760693334 and parameters: {'n_estimators': 200, 'min_samples_leaf': 3, 'max_depth': 32}. Best is trial 413 with value: 0.8136745712336545.\u001b[0m\n",
      "\u001b[32m[I 2023-04-28 13:12:33,163]\u001b[0m Trial 871 finished with value: 0.8134312250853244 and parameters: {'n_estimators': 280, 'min_samples_leaf': 3, 'max_depth': 32}. Best is trial 413 with value: 0.8136745712336545.\u001b[0m\n",
      "\u001b[32m[I 2023-04-28 13:12:33,221]\u001b[0m Trial 876 finished with value: 0.8134312250853244 and parameters: {'n_estimators': 280, 'min_samples_leaf': 3, 'max_depth': 32}. Best is trial 413 with value: 0.8136745712336545.\u001b[0m\n",
      "\u001b[32m[I 2023-04-28 13:12:33,678]\u001b[0m Trial 872 finished with value: 0.8134312250853244 and parameters: {'n_estimators': 280, 'min_samples_leaf': 3, 'max_depth': 32}. Best is trial 413 with value: 0.8136745712336545.\u001b[0m\n",
      "\u001b[32m[I 2023-04-28 13:12:33,912]\u001b[0m Trial 877 finished with value: 0.8134312250853244 and parameters: {'n_estimators': 280, 'min_samples_leaf': 3, 'max_depth': 32}. Best is trial 413 with value: 0.8136745712336545.\u001b[0m\n",
      "\u001b[32m[I 2023-04-28 13:12:35,134]\u001b[0m Trial 882 finished with value: 0.806436507402515 and parameters: {'n_estimators': 120, 'min_samples_leaf': 3, 'max_depth': 32}. Best is trial 413 with value: 0.8136745712336545.\u001b[0m\n",
      "\u001b[32m[I 2023-04-28 13:12:35,165]\u001b[0m Trial 880 finished with value: 0.8133322561192585 and parameters: {'n_estimators': 270, 'min_samples_leaf': 3, 'max_depth': 32}. Best is trial 413 with value: 0.8136745712336545.\u001b[0m\n",
      "\u001b[32m[I 2023-04-28 13:12:35,190]\u001b[0m Trial 875 finished with value: 0.8134312250853244 and parameters: {'n_estimators': 280, 'min_samples_leaf': 3, 'max_depth': 32}. Best is trial 413 with value: 0.8136745712336545.\u001b[0m\n",
      "\u001b[32m[I 2023-04-28 13:12:36,244]\u001b[0m Trial 878 finished with value: 0.806436507402515 and parameters: {'n_estimators': 120, 'min_samples_leaf': 3, 'max_depth': 32}. Best is trial 413 with value: 0.8136745712336545.\u001b[0m\n",
      "\u001b[32m[I 2023-04-28 13:12:36,497]\u001b[0m Trial 879 finished with value: 0.8134312250853244 and parameters: {'n_estimators': 280, 'min_samples_leaf': 3, 'max_depth': 32}. Best is trial 413 with value: 0.8136745712336545.\u001b[0m\n",
      "\u001b[32m[I 2023-04-28 13:12:40,284]\u001b[0m Trial 886 finished with value: 0.8133322561192585 and parameters: {'n_estimators': 270, 'min_samples_leaf': 3, 'max_depth': 32}. Best is trial 413 with value: 0.8136745712336545.\u001b[0m\n",
      "\u001b[32m[I 2023-04-28 13:12:40,290]\u001b[0m Trial 881 finished with value: 0.8133322561192585 and parameters: {'n_estimators': 270, 'min_samples_leaf': 3, 'max_depth': 32}. Best is trial 413 with value: 0.8136745712336545.\u001b[0m\n",
      "\u001b[32m[I 2023-04-28 13:12:40,706]\u001b[0m Trial 884 finished with value: 0.8133322561192585 and parameters: {'n_estimators': 270, 'min_samples_leaf': 3, 'max_depth': 32}. Best is trial 413 with value: 0.8136745712336545.\u001b[0m\n",
      "\u001b[32m[I 2023-04-28 13:12:41,659]\u001b[0m Trial 885 finished with value: 0.8133322561192585 and parameters: {'n_estimators': 270, 'min_samples_leaf': 3, 'max_depth': 32}. Best is trial 413 with value: 0.8136745712336545.\u001b[0m\n",
      "\u001b[32m[I 2023-04-28 13:12:41,738]\u001b[0m Trial 883 finished with value: 0.8133322561192585 and parameters: {'n_estimators': 270, 'min_samples_leaf': 3, 'max_depth': 32}. Best is trial 413 with value: 0.8136745712336545.\u001b[0m\n",
      "\u001b[32m[I 2023-04-28 13:12:44,159]\u001b[0m Trial 888 finished with value: 0.8133322561192585 and parameters: {'n_estimators': 270, 'min_samples_leaf': 3, 'max_depth': 32}. Best is trial 413 with value: 0.8136745712336545.\u001b[0m\n",
      "\u001b[32m[I 2023-04-28 13:12:44,160]\u001b[0m Trial 889 finished with value: 0.8133322561192585 and parameters: {'n_estimators': 270, 'min_samples_leaf': 3, 'max_depth': 32}. Best is trial 413 with value: 0.8136745712336545.\u001b[0m\n",
      "\u001b[32m[I 2023-04-28 13:12:44,162]\u001b[0m Trial 887 finished with value: 0.8133322561192585 and parameters: {'n_estimators': 270, 'min_samples_leaf': 3, 'max_depth': 32}. Best is trial 413 with value: 0.8136745712336545.\u001b[0m\n",
      "\u001b[32m[I 2023-04-28 13:12:44,171]\u001b[0m Trial 890 finished with value: 0.8133322561192585 and parameters: {'n_estimators': 270, 'min_samples_leaf': 3, 'max_depth': 32}. Best is trial 413 with value: 0.8136745712336545.\u001b[0m\n",
      "\u001b[32m[I 2023-04-28 13:12:47,169]\u001b[0m Trial 891 finished with value: 0.8133322561192585 and parameters: {'n_estimators': 270, 'min_samples_leaf': 3, 'max_depth': 32}. Best is trial 413 with value: 0.8136745712336545.\u001b[0m\n",
      "\u001b[32m[I 2023-04-28 13:12:47,215]\u001b[0m Trial 896 finished with value: 0.806436507402515 and parameters: {'n_estimators': 120, 'min_samples_leaf': 3, 'max_depth': 32}. Best is trial 413 with value: 0.8136745712336545.\u001b[0m\n",
      "\u001b[32m[I 2023-04-28 13:12:49,086]\u001b[0m Trial 892 finished with value: 0.8133322561192585 and parameters: {'n_estimators': 270, 'min_samples_leaf': 3, 'max_depth': 32}. Best is trial 413 with value: 0.8136745712336545.\u001b[0m\n",
      "\u001b[32m[I 2023-04-28 13:12:49,351]\u001b[0m Trial 895 finished with value: 0.8133322561192585 and parameters: {'n_estimators': 270, 'min_samples_leaf': 3, 'max_depth': 32}. Best is trial 413 with value: 0.8136745712336545.\u001b[0m\n",
      "\u001b[32m[I 2023-04-28 13:12:51,160]\u001b[0m Trial 894 finished with value: 0.8133322561192585 and parameters: {'n_estimators': 270, 'min_samples_leaf': 3, 'max_depth': 32}. Best is trial 413 with value: 0.8136745712336545.\u001b[0m\n",
      "\u001b[32m[I 2023-04-28 13:12:52,267]\u001b[0m Trial 897 finished with value: 0.8079127760693334 and parameters: {'n_estimators': 200, 'min_samples_leaf': 3, 'max_depth': 32}. Best is trial 413 with value: 0.8136745712336545.\u001b[0m\n",
      "\u001b[32m[I 2023-04-28 13:12:52,304]\u001b[0m Trial 900 finished with value: 0.8133293303013038 and parameters: {'n_estimators': 270, 'min_samples_leaf': 3, 'max_depth': 30}. Best is trial 413 with value: 0.8136745712336545.\u001b[0m\n",
      "\u001b[32m[I 2023-04-28 13:12:52,573]\u001b[0m Trial 898 finished with value: 0.8133322561192585 and parameters: {'n_estimators': 270, 'min_samples_leaf': 3, 'max_depth': 32}. Best is trial 413 with value: 0.8136745712336545.\u001b[0m\n",
      "\u001b[32m[I 2023-04-28 13:12:53,522]\u001b[0m Trial 893 finished with value: 0.8133322561192585 and parameters: {'n_estimators': 270, 'min_samples_leaf': 3, 'max_depth': 32}. Best is trial 413 with value: 0.8136745712336545.\u001b[0m\n",
      "\u001b[32m[I 2023-04-28 13:12:53,678]\u001b[0m Trial 899 finished with value: 0.8133293303013038 and parameters: {'n_estimators': 270, 'min_samples_leaf': 3, 'max_depth': 30}. Best is trial 413 with value: 0.8136745712336545.\u001b[0m\n",
      "\u001b[32m[I 2023-04-28 13:12:54,500]\u001b[0m Trial 901 finished with value: 0.8133293303013038 and parameters: {'n_estimators': 270, 'min_samples_leaf': 3, 'max_depth': 30}. Best is trial 413 with value: 0.8136745712336545.\u001b[0m\n",
      "\u001b[32m[I 2023-04-28 13:12:55,202]\u001b[0m Trial 903 finished with value: 0.8133293303013038 and parameters: {'n_estimators': 270, 'min_samples_leaf': 3, 'max_depth': 30}. Best is trial 413 with value: 0.8136745712336545.\u001b[0m\n",
      "\u001b[32m[I 2023-04-28 13:12:55,277]\u001b[0m Trial 902 finished with value: 0.8133293303013038 and parameters: {'n_estimators': 270, 'min_samples_leaf': 3, 'max_depth': 30}. Best is trial 413 with value: 0.8136745712336545.\u001b[0m\n",
      "\u001b[32m[I 2023-04-28 13:12:58,674]\u001b[0m Trial 906 finished with value: 0.8133293303013038 and parameters: {'n_estimators': 270, 'min_samples_leaf': 3, 'max_depth': 30}. Best is trial 413 with value: 0.8136745712336545.\u001b[0m\n",
      "\u001b[32m[I 2023-04-28 13:12:58,686]\u001b[0m Trial 904 finished with value: 0.8133293303013038 and parameters: {'n_estimators': 270, 'min_samples_leaf': 3, 'max_depth': 30}. Best is trial 413 with value: 0.8136745712336545.\u001b[0m\n",
      "\u001b[32m[I 2023-04-28 13:12:59,123]\u001b[0m Trial 907 finished with value: 0.8133293303013038 and parameters: {'n_estimators': 270, 'min_samples_leaf': 3, 'max_depth': 30}. Best is trial 413 with value: 0.8136745712336545.\u001b[0m\n",
      "\u001b[32m[I 2023-04-28 13:13:00,562]\u001b[0m Trial 905 finished with value: 0.8133293303013038 and parameters: {'n_estimators': 270, 'min_samples_leaf': 3, 'max_depth': 30}. Best is trial 413 with value: 0.8136745712336545.\u001b[0m\n",
      "\u001b[32m[I 2023-04-28 13:13:02,685]\u001b[0m Trial 909 finished with value: 0.8133293303013038 and parameters: {'n_estimators': 270, 'min_samples_leaf': 3, 'max_depth': 30}. Best is trial 413 with value: 0.8136745712336545.\u001b[0m\n",
      "\u001b[32m[I 2023-04-28 13:13:03,614]\u001b[0m Trial 908 finished with value: 0.8133293303013038 and parameters: {'n_estimators': 270, 'min_samples_leaf': 3, 'max_depth': 30}. Best is trial 413 with value: 0.8136745712336545.\u001b[0m\n",
      "\u001b[32m[I 2023-04-28 13:13:04,116]\u001b[0m Trial 910 finished with value: 0.8133293303013038 and parameters: {'n_estimators': 270, 'min_samples_leaf': 3, 'max_depth': 30}. Best is trial 413 with value: 0.8136745712336545.\u001b[0m\n",
      "\u001b[32m[I 2023-04-28 13:13:04,360]\u001b[0m Trial 914 finished with value: 0.8133293303013038 and parameters: {'n_estimators': 270, 'min_samples_leaf': 3, 'max_depth': 30}. Best is trial 413 with value: 0.8136745712336545.\u001b[0m\n",
      "\u001b[32m[I 2023-04-28 13:13:04,364]\u001b[0m Trial 911 finished with value: 0.8133293303013038 and parameters: {'n_estimators': 270, 'min_samples_leaf': 3, 'max_depth': 30}. Best is trial 413 with value: 0.8136745712336545.\u001b[0m\n",
      "\u001b[32m[I 2023-04-28 13:13:05,738]\u001b[0m Trial 913 finished with value: 0.8133293303013038 and parameters: {'n_estimators': 270, 'min_samples_leaf': 3, 'max_depth': 30}. Best is trial 413 with value: 0.8136745712336545.\u001b[0m\n",
      "\u001b[32m[I 2023-04-28 13:13:07,313]\u001b[0m Trial 912 finished with value: 0.8133293303013038 and parameters: {'n_estimators': 270, 'min_samples_leaf': 3, 'max_depth': 30}. Best is trial 413 with value: 0.8136745712336545.\u001b[0m\n",
      "\u001b[32m[I 2023-04-28 13:13:08,235]\u001b[0m Trial 916 finished with value: 0.8133293303013038 and parameters: {'n_estimators': 270, 'min_samples_leaf': 3, 'max_depth': 30}. Best is trial 413 with value: 0.8136745712336545.\u001b[0m\n",
      "\u001b[32m[I 2023-04-28 13:13:08,741]\u001b[0m Trial 918 finished with value: 0.8133293303013038 and parameters: {'n_estimators': 270, 'min_samples_leaf': 3, 'max_depth': 30}. Best is trial 413 with value: 0.8136745712336545.\u001b[0m\n",
      "\u001b[32m[I 2023-04-28 13:13:08,973]\u001b[0m Trial 917 finished with value: 0.8133293303013038 and parameters: {'n_estimators': 270, 'min_samples_leaf': 3, 'max_depth': 30}. Best is trial 413 with value: 0.8136745712336545.\u001b[0m\n",
      "\u001b[32m[I 2023-04-28 13:13:09,334]\u001b[0m Trial 915 finished with value: 0.8133293303013038 and parameters: {'n_estimators': 270, 'min_samples_leaf': 3, 'max_depth': 30}. Best is trial 413 with value: 0.8136745712336545.\u001b[0m\n",
      "\u001b[32m[I 2023-04-28 13:13:09,991]\u001b[0m Trial 919 finished with value: 0.8133293303013038 and parameters: {'n_estimators': 270, 'min_samples_leaf': 3, 'max_depth': 30}. Best is trial 413 with value: 0.8136745712336545.\u001b[0m\n",
      "\u001b[32m[I 2023-04-28 13:13:12,903]\u001b[0m Trial 922 finished with value: 0.8133293303013038 and parameters: {'n_estimators': 270, 'min_samples_leaf': 3, 'max_depth': 30}. Best is trial 413 with value: 0.8136745712336545.\u001b[0m\n",
      "\u001b[32m[I 2023-04-28 13:13:13,441]\u001b[0m Trial 924 finished with value: 0.8133293303013038 and parameters: {'n_estimators': 270, 'min_samples_leaf': 3, 'max_depth': 30}. Best is trial 413 with value: 0.8136745712336545.\u001b[0m\n",
      "\u001b[32m[I 2023-04-28 13:13:13,446]\u001b[0m Trial 920 finished with value: 0.8133293303013038 and parameters: {'n_estimators': 270, 'min_samples_leaf': 3, 'max_depth': 30}. Best is trial 413 with value: 0.8136745712336545.\u001b[0m\n",
      "\u001b[32m[I 2023-04-28 13:13:13,451]\u001b[0m Trial 923 finished with value: 0.8133293303013038 and parameters: {'n_estimators': 270, 'min_samples_leaf': 3, 'max_depth': 30}. Best is trial 413 with value: 0.8136745712336545.\u001b[0m\n",
      "\u001b[32m[I 2023-04-28 13:13:15,999]\u001b[0m Trial 921 finished with value: 0.8133293303013038 and parameters: {'n_estimators': 270, 'min_samples_leaf': 3, 'max_depth': 30}. Best is trial 413 with value: 0.8136745712336545.\u001b[0m\n",
      "\u001b[32m[I 2023-04-28 13:13:16,461]\u001b[0m Trial 929 finished with value: 0.8133293303013038 and parameters: {'n_estimators': 270, 'min_samples_leaf': 3, 'max_depth': 30}. Best is trial 413 with value: 0.8136745712336545.\u001b[0m\n",
      "\u001b[32m[I 2023-04-28 13:13:16,478]\u001b[0m Trial 928 finished with value: 0.8133293303013038 and parameters: {'n_estimators': 270, 'min_samples_leaf': 3, 'max_depth': 30}. Best is trial 413 with value: 0.8136745712336545.\u001b[0m\n",
      "\u001b[32m[I 2023-04-28 13:13:17,041]\u001b[0m Trial 925 finished with value: 0.8133293303013038 and parameters: {'n_estimators': 270, 'min_samples_leaf': 3, 'max_depth': 30}. Best is trial 413 with value: 0.8136745712336545.\u001b[0m\n",
      "\u001b[32m[I 2023-04-28 13:13:20,278]\u001b[0m Trial 927 finished with value: 0.8133293303013038 and parameters: {'n_estimators': 270, 'min_samples_leaf': 3, 'max_depth': 30}. Best is trial 413 with value: 0.8136745712336545.\u001b[0m\n",
      "\u001b[32m[I 2023-04-28 13:13:20,327]\u001b[0m Trial 930 finished with value: 0.8111424499908001 and parameters: {'n_estimators': 290, 'min_samples_leaf': 3, 'max_depth': 30}. Best is trial 413 with value: 0.8136745712336545.\u001b[0m\n",
      "\u001b[32m[I 2023-04-28 13:13:20,732]\u001b[0m Trial 926 finished with value: 0.8081083325960794 and parameters: {'n_estimators': 270, 'min_samples_leaf': 4, 'max_depth': 30}. Best is trial 413 with value: 0.8136745712336545.\u001b[0m\n",
      "\u001b[32m[I 2023-04-28 13:13:20,905]\u001b[0m Trial 931 finished with value: 0.8111424499908001 and parameters: {'n_estimators': 290, 'min_samples_leaf': 3, 'max_depth': 30}. Best is trial 413 with value: 0.8136745712336545.\u001b[0m\n",
      "\u001b[32m[I 2023-04-28 13:13:21,088]\u001b[0m Trial 932 finished with value: 0.8111424499908001 and parameters: {'n_estimators': 290, 'min_samples_leaf': 3, 'max_depth': 30}. Best is trial 413 with value: 0.8136745712336545.\u001b[0m\n",
      "\u001b[32m[I 2023-04-28 13:13:21,849]\u001b[0m Trial 934 finished with value: 0.8072457760181857 and parameters: {'n_estimators': 290, 'min_samples_leaf': 4, 'max_depth': 30}. Best is trial 413 with value: 0.8136745712336545.\u001b[0m\n",
      "\u001b[32m[I 2023-04-28 13:13:22,110]\u001b[0m Trial 933 finished with value: 0.8072457760181857 and parameters: {'n_estimators': 290, 'min_samples_leaf': 4, 'max_depth': 30}. Best is trial 413 with value: 0.8136745712336545.\u001b[0m\n",
      "\u001b[32m[I 2023-04-28 13:13:24,757]\u001b[0m Trial 935 finished with value: 0.8072457760181857 and parameters: {'n_estimators': 290, 'min_samples_leaf': 4, 'max_depth': 30}. Best is trial 413 with value: 0.8136745712336545.\u001b[0m\n",
      "\u001b[32m[I 2023-04-28 13:13:26,400]\u001b[0m Trial 937 finished with value: 0.8111424499908001 and parameters: {'n_estimators': 290, 'min_samples_leaf': 3, 'max_depth': 30}. Best is trial 413 with value: 0.8136745712336545.\u001b[0m\n",
      "\u001b[32m[I 2023-04-28 13:13:26,830]\u001b[0m Trial 936 finished with value: 0.7978734791979264 and parameters: {'n_estimators': 290, 'min_samples_leaf': 7, 'max_depth': 30}. Best is trial 413 with value: 0.8136745712336545.\u001b[0m\n",
      "\u001b[32m[I 2023-04-28 13:13:29,385]\u001b[0m Trial 942 finished with value: 0.8111424499908001 and parameters: {'n_estimators': 290, 'min_samples_leaf': 3, 'max_depth': 30}. Best is trial 413 with value: 0.8136745712336545.\u001b[0m\n",
      "\u001b[32m[I 2023-04-28 13:13:29,782]\u001b[0m Trial 939 finished with value: 0.8111424499908001 and parameters: {'n_estimators': 290, 'min_samples_leaf': 3, 'max_depth': 30}. Best is trial 413 with value: 0.8136745712336545.\u001b[0m\n",
      "\u001b[32m[I 2023-04-28 13:13:29,808]\u001b[0m Trial 938 finished with value: 0.8111424499908001 and parameters: {'n_estimators': 290, 'min_samples_leaf': 3, 'max_depth': 30}. Best is trial 413 with value: 0.8136745712336545.\u001b[0m\n",
      "\u001b[32m[I 2023-04-28 13:13:30,118]\u001b[0m Trial 940 finished with value: 0.8072457760181857 and parameters: {'n_estimators': 290, 'min_samples_leaf': 4, 'max_depth': 30}. Best is trial 413 with value: 0.8136745712336545.\u001b[0m\n",
      "\u001b[32m[I 2023-04-28 13:13:32,777]\u001b[0m Trial 947 finished with value: 0.8072457760181857 and parameters: {'n_estimators': 290, 'min_samples_leaf': 4, 'max_depth': 30}. Best is trial 413 with value: 0.8136745712336545.\u001b[0m\n",
      "\u001b[32m[I 2023-04-28 13:13:33,428]\u001b[0m Trial 945 finished with value: 0.8072457760181857 and parameters: {'n_estimators': 290, 'min_samples_leaf': 4, 'max_depth': 30}. Best is trial 413 with value: 0.8136745712336545.\u001b[0m\n",
      "\u001b[32m[I 2023-04-28 13:13:33,820]\u001b[0m Trial 941 finished with value: 0.8111424499908001 and parameters: {'n_estimators': 290, 'min_samples_leaf': 3, 'max_depth': 30}. Best is trial 413 with value: 0.8136745712336545.\u001b[0m\n",
      "\u001b[32m[I 2023-04-28 13:13:33,827]\u001b[0m Trial 944 finished with value: 0.8111424499908001 and parameters: {'n_estimators': 290, 'min_samples_leaf': 3, 'max_depth': 30}. Best is trial 413 with value: 0.8136745712336545.\u001b[0m\n",
      "\u001b[32m[I 2023-04-28 13:13:34,539]\u001b[0m Trial 943 finished with value: 0.8072457760181857 and parameters: {'n_estimators': 290, 'min_samples_leaf': 4, 'max_depth': 30}. Best is trial 413 with value: 0.8136745712336545.\u001b[0m\n",
      "\u001b[32m[I 2023-04-28 13:13:36,017]\u001b[0m Trial 948 finished with value: 0.8111424499908001 and parameters: {'n_estimators': 290, 'min_samples_leaf': 3, 'max_depth': 30}. Best is trial 413 with value: 0.8136745712336545.\u001b[0m\n",
      "\u001b[32m[I 2023-04-28 13:13:37,642]\u001b[0m Trial 946 finished with value: 0.8111424499908001 and parameters: {'n_estimators': 290, 'min_samples_leaf': 3, 'max_depth': 30}. Best is trial 413 with value: 0.8136745712336545.\u001b[0m\n",
      "\u001b[32m[I 2023-04-28 13:13:39,666]\u001b[0m Trial 949 finished with value: 0.8111424499908001 and parameters: {'n_estimators': 290, 'min_samples_leaf': 3, 'max_depth': 30}. Best is trial 413 with value: 0.8136745712336545.\u001b[0m\n",
      "\u001b[32m[I 2023-04-28 13:13:40,655]\u001b[0m Trial 950 finished with value: 0.8072457760181857 and parameters: {'n_estimators': 290, 'min_samples_leaf': 4, 'max_depth': 30}. Best is trial 413 with value: 0.8136745712336545.\u001b[0m\n",
      "\u001b[32m[I 2023-04-28 13:13:40,669]\u001b[0m Trial 951 finished with value: 0.8111424499908001 and parameters: {'n_estimators': 290, 'min_samples_leaf': 3, 'max_depth': 30}. Best is trial 413 with value: 0.8136745712336545.\u001b[0m\n",
      "\u001b[32m[I 2023-04-28 13:13:41,194]\u001b[0m Trial 955 finished with value: 0.8111424499908001 and parameters: {'n_estimators': 290, 'min_samples_leaf': 3, 'max_depth': 30}. Best is trial 413 with value: 0.8136745712336545.\u001b[0m\n",
      "\u001b[32m[I 2023-04-28 13:13:41,279]\u001b[0m Trial 952 finished with value: 0.8072457760181857 and parameters: {'n_estimators': 290, 'min_samples_leaf': 4, 'max_depth': 30}. Best is trial 413 with value: 0.8136745712336545.\u001b[0m\n",
      "\u001b[32m[I 2023-04-28 13:13:41,338]\u001b[0m Trial 954 finished with value: 0.8111424499908001 and parameters: {'n_estimators': 290, 'min_samples_leaf': 3, 'max_depth': 30}. Best is trial 413 with value: 0.8136745712336545.\u001b[0m\n",
      "\u001b[32m[I 2023-04-28 13:13:41,525]\u001b[0m Trial 953 finished with value: 0.8111424499908001 and parameters: {'n_estimators': 290, 'min_samples_leaf': 3, 'max_depth': 30}. Best is trial 413 with value: 0.8136745712336545.\u001b[0m\n",
      "\u001b[32m[I 2023-04-28 13:13:48,440]\u001b[0m Trial 956 finished with value: 0.8111424499908001 and parameters: {'n_estimators': 290, 'min_samples_leaf': 3, 'max_depth': 30}. Best is trial 413 with value: 0.8136745712336545.\u001b[0m\n",
      "\u001b[32m[I 2023-04-28 13:13:49,265]\u001b[0m Trial 960 finished with value: 0.8111424499908001 and parameters: {'n_estimators': 290, 'min_samples_leaf': 3, 'max_depth': 30}. Best is trial 413 with value: 0.8136745712336545.\u001b[0m\n",
      "\u001b[32m[I 2023-04-28 13:13:49,271]\u001b[0m Trial 961 finished with value: 0.8111424499908001 and parameters: {'n_estimators': 290, 'min_samples_leaf': 3, 'max_depth': 30}. Best is trial 413 with value: 0.8136745712336545.\u001b[0m\n",
      "\u001b[32m[I 2023-04-28 13:13:49,484]\u001b[0m Trial 958 finished with value: 0.8111424499908001 and parameters: {'n_estimators': 290, 'min_samples_leaf': 3, 'max_depth': 30}. Best is trial 413 with value: 0.8136745712336545.\u001b[0m\n",
      "\u001b[32m[I 2023-04-28 13:13:51,345]\u001b[0m Trial 959 finished with value: 0.8111424499908001 and parameters: {'n_estimators': 290, 'min_samples_leaf': 3, 'max_depth': 30}. Best is trial 413 with value: 0.8136745712336545.\u001b[0m\n",
      "\u001b[32m[I 2023-04-28 13:13:51,391]\u001b[0m Trial 965 finished with value: 0.8072457760181857 and parameters: {'n_estimators': 290, 'min_samples_leaf': 4, 'max_depth': 30}. Best is trial 413 with value: 0.8136745712336545.\u001b[0m\n",
      "\u001b[32m[I 2023-04-28 13:13:51,677]\u001b[0m Trial 957 finished with value: 0.8111424499908001 and parameters: {'n_estimators': 290, 'min_samples_leaf': 3, 'max_depth': 30}. Best is trial 413 with value: 0.8136745712336545.\u001b[0m\n",
      "\u001b[32m[I 2023-04-28 13:13:51,712]\u001b[0m Trial 962 finished with value: 0.8072457760181857 and parameters: {'n_estimators': 290, 'min_samples_leaf': 4, 'max_depth': 30}. Best is trial 413 with value: 0.8136745712336545.\u001b[0m\n",
      "\u001b[32m[I 2023-04-28 13:13:53,510]\u001b[0m Trial 967 finished with value: 0.8111424499908001 and parameters: {'n_estimators': 290, 'min_samples_leaf': 3, 'max_depth': 30}. Best is trial 413 with value: 0.8136745712336545.\u001b[0m\n",
      "\u001b[32m[I 2023-04-28 13:13:54,981]\u001b[0m Trial 964 finished with value: 0.8111424499908001 and parameters: {'n_estimators': 290, 'min_samples_leaf': 3, 'max_depth': 30}. Best is trial 413 with value: 0.8136745712336545.\u001b[0m\n",
      "\u001b[32m[I 2023-04-28 13:13:57,421]\u001b[0m Trial 963 finished with value: 0.8111424499908001 and parameters: {'n_estimators': 290, 'min_samples_leaf': 3, 'max_depth': 30}. Best is trial 413 with value: 0.8136745712336545.\u001b[0m\n",
      "\u001b[32m[I 2023-04-28 13:13:58,836]\u001b[0m Trial 968 finished with value: 0.8117489423475639 and parameters: {'n_estimators': 290, 'min_samples_leaf': 3, 'max_depth': 31}. Best is trial 413 with value: 0.8136745712336545.\u001b[0m\n",
      "\u001b[32m[I 2023-04-28 13:13:58,978]\u001b[0m Trial 971 finished with value: 0.8072457760181857 and parameters: {'n_estimators': 290, 'min_samples_leaf': 4, 'max_depth': 31}. Best is trial 413 with value: 0.8136745712336545.\u001b[0m\n",
      "\u001b[32m[I 2023-04-28 13:13:59,308]\u001b[0m Trial 969 finished with value: 0.8101225442267085 and parameters: {'n_estimators': 290, 'min_samples_leaf': 3, 'max_depth': 20}. Best is trial 413 with value: 0.8136745712336545.\u001b[0m\n",
      "\u001b[32m[I 2023-04-28 13:13:59,398]\u001b[0m Trial 970 finished with value: 0.8117489423475639 and parameters: {'n_estimators': 290, 'min_samples_leaf': 3, 'max_depth': 31}. Best is trial 413 with value: 0.8136745712336545.\u001b[0m\n",
      "\u001b[32m[I 2023-04-28 13:14:00,521]\u001b[0m Trial 966 finished with value: 0.8072457760181857 and parameters: {'n_estimators': 290, 'min_samples_leaf': 4, 'max_depth': 30}. Best is trial 413 with value: 0.8136745712336545.\u001b[0m\n",
      "\u001b[32m[I 2023-04-28 13:14:02,361]\u001b[0m Trial 972 finished with value: 0.7978734791979264 and parameters: {'n_estimators': 290, 'min_samples_leaf': 7, 'max_depth': 31}. Best is trial 413 with value: 0.8136745712336545.\u001b[0m\n",
      "\u001b[32m[I 2023-04-28 13:14:02,401]\u001b[0m Trial 975 finished with value: 0.8072457760181857 and parameters: {'n_estimators': 290, 'min_samples_leaf': 4, 'max_depth': 31}. Best is trial 413 with value: 0.8136745712336545.\u001b[0m\n",
      "\u001b[32m[I 2023-04-28 13:14:02,403]\u001b[0m Trial 974 finished with value: 0.8100990051860283 and parameters: {'n_estimators': 290, 'min_samples_leaf': 4, 'max_depth': 20}. Best is trial 413 with value: 0.8136745712336545.\u001b[0m\n",
      "\u001b[32m[I 2023-04-28 13:14:02,405]\u001b[0m Trial 973 finished with value: 0.8072457760181857 and parameters: {'n_estimators': 290, 'min_samples_leaf': 4, 'max_depth': 31}. Best is trial 413 with value: 0.8136745712336545.\u001b[0m\n",
      "\u001b[32m[I 2023-04-28 13:14:02,466]\u001b[0m Trial 977 finished with value: 0.8117489423475639 and parameters: {'n_estimators': 290, 'min_samples_leaf': 3, 'max_depth': 31}. Best is trial 413 with value: 0.8136745712336545.\u001b[0m\n",
      "\u001b[32m[I 2023-04-28 13:14:03,018]\u001b[0m Trial 976 finished with value: 0.8117489423475639 and parameters: {'n_estimators': 290, 'min_samples_leaf': 3, 'max_depth': 31}. Best is trial 413 with value: 0.8136745712336545.\u001b[0m\n",
      "\u001b[32m[I 2023-04-28 13:14:06,901]\u001b[0m Trial 980 finished with value: 0.8117489423475639 and parameters: {'n_estimators': 290, 'min_samples_leaf': 3, 'max_depth': 31}. Best is trial 413 with value: 0.8136745712336545.\u001b[0m\n",
      "\u001b[32m[I 2023-04-28 13:14:07,720]\u001b[0m Trial 979 finished with value: 0.7978734791979264 and parameters: {'n_estimators': 290, 'min_samples_leaf': 7, 'max_depth': 31}. Best is trial 413 with value: 0.8136745712336545.\u001b[0m\n",
      "\u001b[32m[I 2023-04-28 13:14:08,016]\u001b[0m Trial 983 finished with value: 0.8117489423475639 and parameters: {'n_estimators': 290, 'min_samples_leaf': 3, 'max_depth': 31}. Best is trial 413 with value: 0.8136745712336545.\u001b[0m\n",
      "\u001b[32m[I 2023-04-28 13:14:08,037]\u001b[0m Trial 981 finished with value: 0.8117489423475639 and parameters: {'n_estimators': 290, 'min_samples_leaf': 3, 'max_depth': 31}. Best is trial 413 with value: 0.8136745712336545.\u001b[0m\n",
      "\u001b[32m[I 2023-04-28 13:14:08,135]\u001b[0m Trial 978 finished with value: 0.7978734791979264 and parameters: {'n_estimators': 290, 'min_samples_leaf': 7, 'max_depth': 31}. Best is trial 413 with value: 0.8136745712336545.\u001b[0m\n",
      "\u001b[32m[I 2023-04-28 13:14:08,786]\u001b[0m Trial 982 finished with value: 0.8117489423475639 and parameters: {'n_estimators': 290, 'min_samples_leaf': 3, 'max_depth': 31}. Best is trial 413 with value: 0.8136745712336545.\u001b[0m\n",
      "\u001b[32m[I 2023-04-28 13:14:11,292]\u001b[0m Trial 985 finished with value: 0.8117489423475639 and parameters: {'n_estimators': 290, 'min_samples_leaf': 3, 'max_depth': 31}. Best is trial 413 with value: 0.8136745712336545.\u001b[0m\n",
      "\u001b[32m[I 2023-04-28 13:14:14,234]\u001b[0m Trial 984 finished with value: 0.8117489423475639 and parameters: {'n_estimators': 290, 'min_samples_leaf': 3, 'max_depth': 31}. Best is trial 413 with value: 0.8136745712336545.\u001b[0m\n",
      "\u001b[32m[I 2023-04-28 13:14:14,986]\u001b[0m Trial 987 finished with value: 0.8117489423475639 and parameters: {'n_estimators': 290, 'min_samples_leaf': 3, 'max_depth': 31}. Best is trial 413 with value: 0.8136745712336545.\u001b[0m\n",
      "\u001b[32m[I 2023-04-28 13:14:15,981]\u001b[0m Trial 988 finished with value: 0.8117489423475639 and parameters: {'n_estimators': 290, 'min_samples_leaf': 3, 'max_depth': 31}. Best is trial 413 with value: 0.8136745712336545.\u001b[0m\n",
      "\u001b[32m[I 2023-04-28 13:14:16,518]\u001b[0m Trial 986 finished with value: 0.8117489423475639 and parameters: {'n_estimators': 290, 'min_samples_leaf': 3, 'max_depth': 31}. Best is trial 413 with value: 0.8136745712336545.\u001b[0m\n",
      "\u001b[32m[I 2023-04-28 13:14:16,820]\u001b[0m Trial 989 finished with value: 0.8117489423475639 and parameters: {'n_estimators': 290, 'min_samples_leaf': 3, 'max_depth': 31}. Best is trial 413 with value: 0.8136745712336545.\u001b[0m\n",
      "\u001b[32m[I 2023-04-28 13:14:16,962]\u001b[0m Trial 993 finished with value: 0.8104145926550617 and parameters: {'n_estimators': 240, 'min_samples_leaf': 3, 'max_depth': 31}. Best is trial 413 with value: 0.8136745712336545.\u001b[0m\n",
      "\u001b[32m[I 2023-04-28 13:14:17,059]\u001b[0m Trial 990 finished with value: 0.8117489423475639 and parameters: {'n_estimators': 290, 'min_samples_leaf': 3, 'max_depth': 31}. Best is trial 413 with value: 0.8136745712336545.\u001b[0m\n",
      "\u001b[32m[I 2023-04-28 13:14:18,033]\u001b[0m Trial 992 finished with value: 0.812461185101611 and parameters: {'n_estimators': 260, 'min_samples_leaf': 3, 'max_depth': 31}. Best is trial 413 with value: 0.8136745712336545.\u001b[0m\n",
      "\u001b[32m[I 2023-04-28 13:14:18,225]\u001b[0m Trial 991 finished with value: 0.8117489423475639 and parameters: {'n_estimators': 290, 'min_samples_leaf': 3, 'max_depth': 31}. Best is trial 413 with value: 0.8136745712336545.\u001b[0m\n",
      "\u001b[32m[I 2023-04-28 13:14:20,146]\u001b[0m Trial 994 finished with value: 0.8107607188637622 and parameters: {'n_estimators': 300, 'min_samples_leaf': 3, 'max_depth': 31}. Best is trial 413 with value: 0.8136745712336545.\u001b[0m\n",
      "\u001b[32m[I 2023-04-28 13:14:20,197]\u001b[0m Trial 996 finished with value: 0.812461185101611 and parameters: {'n_estimators': 260, 'min_samples_leaf': 3, 'max_depth': 31}. Best is trial 413 with value: 0.8136745712336545.\u001b[0m\n",
      "\u001b[32m[I 2023-04-28 13:14:21,079]\u001b[0m Trial 998 finished with value: 0.8107607188637622 and parameters: {'n_estimators': 300, 'min_samples_leaf': 3, 'max_depth': 31}. Best is trial 413 with value: 0.8136745712336545.\u001b[0m\n",
      "\u001b[32m[I 2023-04-28 13:14:21,082]\u001b[0m Trial 999 finished with value: 0.812461185101611 and parameters: {'n_estimators': 260, 'min_samples_leaf': 3, 'max_depth': 31}. Best is trial 413 with value: 0.8136745712336545.\u001b[0m\n",
      "\u001b[32m[I 2023-04-28 13:14:21,097]\u001b[0m Trial 997 finished with value: 0.8136745712336545 and parameters: {'n_estimators': 280, 'min_samples_leaf': 3, 'max_depth': 31}. Best is trial 413 with value: 0.8136745712336545.\u001b[0m\n",
      "\u001b[32m[I 2023-04-28 13:14:21,113]\u001b[0m Trial 995 finished with value: 0.8136745712336545 and parameters: {'n_estimators': 280, 'min_samples_leaf': 3, 'max_depth': 31}. Best is trial 413 with value: 0.8136745712336545.\u001b[0m\n"
     ]
    },
    {
     "name": "stdout",
     "output_type": "stream",
     "text": [
      "Наилучшие значения гиперпараметров {'n_estimators': 280, 'min_samples_leaf': 3, 'max_depth': 31}\n",
      "f1_score на обучающем наборе: 0.81\n"
     ]
    }
   ],
   "source": [
    "%time\n",
    "\n",
    "scoreCalc = \"cross\"\n",
    "\n",
    "# cоздаем объект исследования\n",
    "# можем напрямую указать, что нам необходимо максимизировать метрику direction=\"maximize\"\n",
    "study_ranFor_cross = optuna.create_study(study_name=\"RandomForestClassifier Optuna Optimization with Cross Validation\",\n",
    "                                   direction=\"maximize\",\n",
    "                              #      storage='sqlite:///ex.db',\n",
    "                              #      load_if_exists=True,\n",
    "                                         )\n",
    "# ищем лучшую комбинацию гиперпараметров n_trials раз\n",
    "study_ranFor_cross.optimize(optuna_optimize, n_trials=1000, n_jobs=-1)\n",
    "\n",
    "# выводим результаты на обучающей выборке\n",
    "print(\"Наилучшие значения гиперпараметров {}\".format(study_ranFor_cross.best_params))\n",
    "print(\"f1_score на обучающем наборе: {:.2f}\".format(study_ranFor_cross.best_value))"
   ]
  },
  {
   "cell_type": "code",
   "execution_count": 39,
   "metadata": {},
   "outputs": [
    {
     "name": "stdout",
     "output_type": "stream",
     "text": [
      "\u001b[94mf1_score на тренировочном наборе: \u001b[92m0.978\u001b[39m\n",
      "\u001b[94mf1_score на тестовом наборе: \u001b[92m0.823\u001b[39m\n"
     ]
    }
   ],
   "source": [
    "# рассчитаем точность для тестовой выборки\n",
    "model = ensemble.RandomForestClassifier(**study_ranFor_cross.best_params,random_state=RANDOM_STATE, )\n",
    "model.fit(X_train, y_train)\n",
    "\n",
    "printAndSaveModelResults(model,'RandomForestClassifier Optuna Optimization with Cross Validation')"
   ]
  },
  {
   "cell_type": "code",
   "execution_count": 24,
   "metadata": {},
   "outputs": [
    {
     "data": {
      "text/plain": [
       "True"
      ]
     },
     "execution_count": 24,
     "metadata": {},
     "output_type": "execute_result"
    }
   ],
   "source": [
    "optuna.visualization.is_available()"
   ]
  },
  {
   "attachments": {},
   "cell_type": "markdown",
   "metadata": {},
   "source": [
    "Немного графиков для одной из выборок Optuna. "
   ]
  },
  {
   "cell_type": "code",
   "execution_count": 25,
   "metadata": {},
   "outputs": [
    {
     "data": {
      "application/vnd.plotly.v1+json": {
       "config": {
        "plotlyServerURL": "https://plot.ly"
       },
       "data": [
        {
         "mode": "markers",
         "name": "f1_score",
         "type": "scatter",
         "x": [
          0,
          1,
          2,
          3,
          4,
          5,
          6,
          7,
          8,
          9,
          10,
          11,
          12,
          13,
          14,
          15,
          16,
          17,
          18,
          19
         ],
         "y": [
          0.9588037839487336,
          0.9448002439768223,
          0.9563625267012512,
          0.9782808198225759,
          0.9263672471738467,
          0.9466300701433363,
          0.9358582773365914,
          0.9441903019213176,
          0.9355331500152765,
          0.9248625534514356,
          0.9277218664226898,
          0.9410326917201345,
          0.9584097859327219,
          0.9586776859504132,
          0.9352869352869354,
          0.9716203844980166,
          0.9773700305810398,
          0.9776690119302539,
          0.9351285189718482,
          0.9342306515754053
         ]
        },
        {
         "name": "Best Value",
         "type": "scatter",
         "x": [
          0,
          1,
          2,
          3,
          4,
          5,
          6,
          7,
          8,
          9,
          10,
          11,
          12,
          13,
          14,
          15,
          16,
          17,
          18,
          19
         ],
         "y": [
          0.9588037839487336,
          0.9588037839487336,
          0.9588037839487336,
          0.9782808198225759,
          0.9782808198225759,
          0.9782808198225759,
          0.9782808198225759,
          0.9782808198225759,
          0.9782808198225759,
          0.9782808198225759,
          0.9782808198225759,
          0.9782808198225759,
          0.9782808198225759,
          0.9782808198225759,
          0.9782808198225759,
          0.9782808198225759,
          0.9782808198225759,
          0.9782808198225759,
          0.9782808198225759,
          0.9782808198225759
         ]
        }
       ],
       "layout": {
        "template": {
         "data": {
          "bar": [
           {
            "error_x": {
             "color": "#2a3f5f"
            },
            "error_y": {
             "color": "#2a3f5f"
            },
            "marker": {
             "line": {
              "color": "#E5ECF6",
              "width": 0.5
             },
             "pattern": {
              "fillmode": "overlay",
              "size": 10,
              "solidity": 0.2
             }
            },
            "type": "bar"
           }
          ],
          "barpolar": [
           {
            "marker": {
             "line": {
              "color": "#E5ECF6",
              "width": 0.5
             },
             "pattern": {
              "fillmode": "overlay",
              "size": 10,
              "solidity": 0.2
             }
            },
            "type": "barpolar"
           }
          ],
          "carpet": [
           {
            "aaxis": {
             "endlinecolor": "#2a3f5f",
             "gridcolor": "white",
             "linecolor": "white",
             "minorgridcolor": "white",
             "startlinecolor": "#2a3f5f"
            },
            "baxis": {
             "endlinecolor": "#2a3f5f",
             "gridcolor": "white",
             "linecolor": "white",
             "minorgridcolor": "white",
             "startlinecolor": "#2a3f5f"
            },
            "type": "carpet"
           }
          ],
          "choropleth": [
           {
            "colorbar": {
             "outlinewidth": 0,
             "ticks": ""
            },
            "type": "choropleth"
           }
          ],
          "contour": [
           {
            "colorbar": {
             "outlinewidth": 0,
             "ticks": ""
            },
            "colorscale": [
             [
              0,
              "#0d0887"
             ],
             [
              0.1111111111111111,
              "#46039f"
             ],
             [
              0.2222222222222222,
              "#7201a8"
             ],
             [
              0.3333333333333333,
              "#9c179e"
             ],
             [
              0.4444444444444444,
              "#bd3786"
             ],
             [
              0.5555555555555556,
              "#d8576b"
             ],
             [
              0.6666666666666666,
              "#ed7953"
             ],
             [
              0.7777777777777778,
              "#fb9f3a"
             ],
             [
              0.8888888888888888,
              "#fdca26"
             ],
             [
              1,
              "#f0f921"
             ]
            ],
            "type": "contour"
           }
          ],
          "contourcarpet": [
           {
            "colorbar": {
             "outlinewidth": 0,
             "ticks": ""
            },
            "type": "contourcarpet"
           }
          ],
          "heatmap": [
           {
            "colorbar": {
             "outlinewidth": 0,
             "ticks": ""
            },
            "colorscale": [
             [
              0,
              "#0d0887"
             ],
             [
              0.1111111111111111,
              "#46039f"
             ],
             [
              0.2222222222222222,
              "#7201a8"
             ],
             [
              0.3333333333333333,
              "#9c179e"
             ],
             [
              0.4444444444444444,
              "#bd3786"
             ],
             [
              0.5555555555555556,
              "#d8576b"
             ],
             [
              0.6666666666666666,
              "#ed7953"
             ],
             [
              0.7777777777777778,
              "#fb9f3a"
             ],
             [
              0.8888888888888888,
              "#fdca26"
             ],
             [
              1,
              "#f0f921"
             ]
            ],
            "type": "heatmap"
           }
          ],
          "heatmapgl": [
           {
            "colorbar": {
             "outlinewidth": 0,
             "ticks": ""
            },
            "colorscale": [
             [
              0,
              "#0d0887"
             ],
             [
              0.1111111111111111,
              "#46039f"
             ],
             [
              0.2222222222222222,
              "#7201a8"
             ],
             [
              0.3333333333333333,
              "#9c179e"
             ],
             [
              0.4444444444444444,
              "#bd3786"
             ],
             [
              0.5555555555555556,
              "#d8576b"
             ],
             [
              0.6666666666666666,
              "#ed7953"
             ],
             [
              0.7777777777777778,
              "#fb9f3a"
             ],
             [
              0.8888888888888888,
              "#fdca26"
             ],
             [
              1,
              "#f0f921"
             ]
            ],
            "type": "heatmapgl"
           }
          ],
          "histogram": [
           {
            "marker": {
             "pattern": {
              "fillmode": "overlay",
              "size": 10,
              "solidity": 0.2
             }
            },
            "type": "histogram"
           }
          ],
          "histogram2d": [
           {
            "colorbar": {
             "outlinewidth": 0,
             "ticks": ""
            },
            "colorscale": [
             [
              0,
              "#0d0887"
             ],
             [
              0.1111111111111111,
              "#46039f"
             ],
             [
              0.2222222222222222,
              "#7201a8"
             ],
             [
              0.3333333333333333,
              "#9c179e"
             ],
             [
              0.4444444444444444,
              "#bd3786"
             ],
             [
              0.5555555555555556,
              "#d8576b"
             ],
             [
              0.6666666666666666,
              "#ed7953"
             ],
             [
              0.7777777777777778,
              "#fb9f3a"
             ],
             [
              0.8888888888888888,
              "#fdca26"
             ],
             [
              1,
              "#f0f921"
             ]
            ],
            "type": "histogram2d"
           }
          ],
          "histogram2dcontour": [
           {
            "colorbar": {
             "outlinewidth": 0,
             "ticks": ""
            },
            "colorscale": [
             [
              0,
              "#0d0887"
             ],
             [
              0.1111111111111111,
              "#46039f"
             ],
             [
              0.2222222222222222,
              "#7201a8"
             ],
             [
              0.3333333333333333,
              "#9c179e"
             ],
             [
              0.4444444444444444,
              "#bd3786"
             ],
             [
              0.5555555555555556,
              "#d8576b"
             ],
             [
              0.6666666666666666,
              "#ed7953"
             ],
             [
              0.7777777777777778,
              "#fb9f3a"
             ],
             [
              0.8888888888888888,
              "#fdca26"
             ],
             [
              1,
              "#f0f921"
             ]
            ],
            "type": "histogram2dcontour"
           }
          ],
          "mesh3d": [
           {
            "colorbar": {
             "outlinewidth": 0,
             "ticks": ""
            },
            "type": "mesh3d"
           }
          ],
          "parcoords": [
           {
            "line": {
             "colorbar": {
              "outlinewidth": 0,
              "ticks": ""
             }
            },
            "type": "parcoords"
           }
          ],
          "pie": [
           {
            "automargin": true,
            "type": "pie"
           }
          ],
          "scatter": [
           {
            "fillpattern": {
             "fillmode": "overlay",
             "size": 10,
             "solidity": 0.2
            },
            "type": "scatter"
           }
          ],
          "scatter3d": [
           {
            "line": {
             "colorbar": {
              "outlinewidth": 0,
              "ticks": ""
             }
            },
            "marker": {
             "colorbar": {
              "outlinewidth": 0,
              "ticks": ""
             }
            },
            "type": "scatter3d"
           }
          ],
          "scattercarpet": [
           {
            "marker": {
             "colorbar": {
              "outlinewidth": 0,
              "ticks": ""
             }
            },
            "type": "scattercarpet"
           }
          ],
          "scattergeo": [
           {
            "marker": {
             "colorbar": {
              "outlinewidth": 0,
              "ticks": ""
             }
            },
            "type": "scattergeo"
           }
          ],
          "scattergl": [
           {
            "marker": {
             "colorbar": {
              "outlinewidth": 0,
              "ticks": ""
             }
            },
            "type": "scattergl"
           }
          ],
          "scattermapbox": [
           {
            "marker": {
             "colorbar": {
              "outlinewidth": 0,
              "ticks": ""
             }
            },
            "type": "scattermapbox"
           }
          ],
          "scatterpolar": [
           {
            "marker": {
             "colorbar": {
              "outlinewidth": 0,
              "ticks": ""
             }
            },
            "type": "scatterpolar"
           }
          ],
          "scatterpolargl": [
           {
            "marker": {
             "colorbar": {
              "outlinewidth": 0,
              "ticks": ""
             }
            },
            "type": "scatterpolargl"
           }
          ],
          "scatterternary": [
           {
            "marker": {
             "colorbar": {
              "outlinewidth": 0,
              "ticks": ""
             }
            },
            "type": "scatterternary"
           }
          ],
          "surface": [
           {
            "colorbar": {
             "outlinewidth": 0,
             "ticks": ""
            },
            "colorscale": [
             [
              0,
              "#0d0887"
             ],
             [
              0.1111111111111111,
              "#46039f"
             ],
             [
              0.2222222222222222,
              "#7201a8"
             ],
             [
              0.3333333333333333,
              "#9c179e"
             ],
             [
              0.4444444444444444,
              "#bd3786"
             ],
             [
              0.5555555555555556,
              "#d8576b"
             ],
             [
              0.6666666666666666,
              "#ed7953"
             ],
             [
              0.7777777777777778,
              "#fb9f3a"
             ],
             [
              0.8888888888888888,
              "#fdca26"
             ],
             [
              1,
              "#f0f921"
             ]
            ],
            "type": "surface"
           }
          ],
          "table": [
           {
            "cells": {
             "fill": {
              "color": "#EBF0F8"
             },
             "line": {
              "color": "white"
             }
            },
            "header": {
             "fill": {
              "color": "#C8D4E3"
             },
             "line": {
              "color": "white"
             }
            },
            "type": "table"
           }
          ]
         },
         "layout": {
          "annotationdefaults": {
           "arrowcolor": "#2a3f5f",
           "arrowhead": 0,
           "arrowwidth": 1
          },
          "autotypenumbers": "strict",
          "coloraxis": {
           "colorbar": {
            "outlinewidth": 0,
            "ticks": ""
           }
          },
          "colorscale": {
           "diverging": [
            [
             0,
             "#8e0152"
            ],
            [
             0.1,
             "#c51b7d"
            ],
            [
             0.2,
             "#de77ae"
            ],
            [
             0.3,
             "#f1b6da"
            ],
            [
             0.4,
             "#fde0ef"
            ],
            [
             0.5,
             "#f7f7f7"
            ],
            [
             0.6,
             "#e6f5d0"
            ],
            [
             0.7,
             "#b8e186"
            ],
            [
             0.8,
             "#7fbc41"
            ],
            [
             0.9,
             "#4d9221"
            ],
            [
             1,
             "#276419"
            ]
           ],
           "sequential": [
            [
             0,
             "#0d0887"
            ],
            [
             0.1111111111111111,
             "#46039f"
            ],
            [
             0.2222222222222222,
             "#7201a8"
            ],
            [
             0.3333333333333333,
             "#9c179e"
            ],
            [
             0.4444444444444444,
             "#bd3786"
            ],
            [
             0.5555555555555556,
             "#d8576b"
            ],
            [
             0.6666666666666666,
             "#ed7953"
            ],
            [
             0.7777777777777778,
             "#fb9f3a"
            ],
            [
             0.8888888888888888,
             "#fdca26"
            ],
            [
             1,
             "#f0f921"
            ]
           ],
           "sequentialminus": [
            [
             0,
             "#0d0887"
            ],
            [
             0.1111111111111111,
             "#46039f"
            ],
            [
             0.2222222222222222,
             "#7201a8"
            ],
            [
             0.3333333333333333,
             "#9c179e"
            ],
            [
             0.4444444444444444,
             "#bd3786"
            ],
            [
             0.5555555555555556,
             "#d8576b"
            ],
            [
             0.6666666666666666,
             "#ed7953"
            ],
            [
             0.7777777777777778,
             "#fb9f3a"
            ],
            [
             0.8888888888888888,
             "#fdca26"
            ],
            [
             1,
             "#f0f921"
            ]
           ]
          },
          "colorway": [
           "#636efa",
           "#EF553B",
           "#00cc96",
           "#ab63fa",
           "#FFA15A",
           "#19d3f3",
           "#FF6692",
           "#B6E880",
           "#FF97FF",
           "#FECB52"
          ],
          "font": {
           "color": "#2a3f5f"
          },
          "geo": {
           "bgcolor": "white",
           "lakecolor": "white",
           "landcolor": "#E5ECF6",
           "showlakes": true,
           "showland": true,
           "subunitcolor": "white"
          },
          "hoverlabel": {
           "align": "left"
          },
          "hovermode": "closest",
          "mapbox": {
           "style": "light"
          },
          "paper_bgcolor": "white",
          "plot_bgcolor": "#E5ECF6",
          "polar": {
           "angularaxis": {
            "gridcolor": "white",
            "linecolor": "white",
            "ticks": ""
           },
           "bgcolor": "#E5ECF6",
           "radialaxis": {
            "gridcolor": "white",
            "linecolor": "white",
            "ticks": ""
           }
          },
          "scene": {
           "xaxis": {
            "backgroundcolor": "#E5ECF6",
            "gridcolor": "white",
            "gridwidth": 2,
            "linecolor": "white",
            "showbackground": true,
            "ticks": "",
            "zerolinecolor": "white"
           },
           "yaxis": {
            "backgroundcolor": "#E5ECF6",
            "gridcolor": "white",
            "gridwidth": 2,
            "linecolor": "white",
            "showbackground": true,
            "ticks": "",
            "zerolinecolor": "white"
           },
           "zaxis": {
            "backgroundcolor": "#E5ECF6",
            "gridcolor": "white",
            "gridwidth": 2,
            "linecolor": "white",
            "showbackground": true,
            "ticks": "",
            "zerolinecolor": "white"
           }
          },
          "shapedefaults": {
           "line": {
            "color": "#2a3f5f"
           }
          },
          "ternary": {
           "aaxis": {
            "gridcolor": "white",
            "linecolor": "white",
            "ticks": ""
           },
           "baxis": {
            "gridcolor": "white",
            "linecolor": "white",
            "ticks": ""
           },
           "bgcolor": "#E5ECF6",
           "caxis": {
            "gridcolor": "white",
            "linecolor": "white",
            "ticks": ""
           }
          },
          "title": {
           "x": 0.05
          },
          "xaxis": {
           "automargin": true,
           "gridcolor": "white",
           "linecolor": "white",
           "ticks": "",
           "title": {
            "standoff": 15
           },
           "zerolinecolor": "white",
           "zerolinewidth": 2
          },
          "yaxis": {
           "automargin": true,
           "gridcolor": "white",
           "linecolor": "white",
           "ticks": "",
           "title": {
            "standoff": 15
           },
           "zerolinecolor": "white",
           "zerolinewidth": 2
          }
         }
        },
        "title": {
         "text": "Optimization History Plot"
        },
        "xaxis": {
         "title": {
          "text": "Trial"
         }
        },
        "yaxis": {
         "title": {
          "text": "f1_score"
         }
        }
       }
      }
     },
     "metadata": {},
     "output_type": "display_data"
    }
   ],
   "source": [
    "optuna.visualization.plot_optimization_history(study_ranFor, target_name=\"f1_score\")"
   ]
  },
  {
   "cell_type": "code",
   "execution_count": 26,
   "metadata": {},
   "outputs": [
    {
     "data": {
      "application/vnd.plotly.v1+json": {
       "config": {
        "plotlyServerURL": "https://plot.ly"
       },
       "data": [
        {
         "cliponaxis": false,
         "hovertemplate": [
          "max_depth (IntDistribution): 0.0066106859727224476<extra></extra>",
          "n_estimators (IntDistribution): 0.007634100108037223<extra></extra>",
          "min_samples_leaf (IntDistribution): 0.9857552139192404<extra></extra>"
         ],
         "marker": {
          "color": "rgb(66,146,198)"
         },
         "orientation": "h",
         "text": [
          "<0.01",
          "<0.01",
          "0.99"
         ],
         "textposition": "outside",
         "type": "bar",
         "x": [
          0.0066106859727224476,
          0.007634100108037223,
          0.9857552139192404
         ],
         "y": [
          "max_depth",
          "n_estimators",
          "min_samples_leaf"
         ]
        }
       ],
       "layout": {
        "showlegend": false,
        "template": {
         "data": {
          "bar": [
           {
            "error_x": {
             "color": "#2a3f5f"
            },
            "error_y": {
             "color": "#2a3f5f"
            },
            "marker": {
             "line": {
              "color": "#E5ECF6",
              "width": 0.5
             },
             "pattern": {
              "fillmode": "overlay",
              "size": 10,
              "solidity": 0.2
             }
            },
            "type": "bar"
           }
          ],
          "barpolar": [
           {
            "marker": {
             "line": {
              "color": "#E5ECF6",
              "width": 0.5
             },
             "pattern": {
              "fillmode": "overlay",
              "size": 10,
              "solidity": 0.2
             }
            },
            "type": "barpolar"
           }
          ],
          "carpet": [
           {
            "aaxis": {
             "endlinecolor": "#2a3f5f",
             "gridcolor": "white",
             "linecolor": "white",
             "minorgridcolor": "white",
             "startlinecolor": "#2a3f5f"
            },
            "baxis": {
             "endlinecolor": "#2a3f5f",
             "gridcolor": "white",
             "linecolor": "white",
             "minorgridcolor": "white",
             "startlinecolor": "#2a3f5f"
            },
            "type": "carpet"
           }
          ],
          "choropleth": [
           {
            "colorbar": {
             "outlinewidth": 0,
             "ticks": ""
            },
            "type": "choropleth"
           }
          ],
          "contour": [
           {
            "colorbar": {
             "outlinewidth": 0,
             "ticks": ""
            },
            "colorscale": [
             [
              0,
              "#0d0887"
             ],
             [
              0.1111111111111111,
              "#46039f"
             ],
             [
              0.2222222222222222,
              "#7201a8"
             ],
             [
              0.3333333333333333,
              "#9c179e"
             ],
             [
              0.4444444444444444,
              "#bd3786"
             ],
             [
              0.5555555555555556,
              "#d8576b"
             ],
             [
              0.6666666666666666,
              "#ed7953"
             ],
             [
              0.7777777777777778,
              "#fb9f3a"
             ],
             [
              0.8888888888888888,
              "#fdca26"
             ],
             [
              1,
              "#f0f921"
             ]
            ],
            "type": "contour"
           }
          ],
          "contourcarpet": [
           {
            "colorbar": {
             "outlinewidth": 0,
             "ticks": ""
            },
            "type": "contourcarpet"
           }
          ],
          "heatmap": [
           {
            "colorbar": {
             "outlinewidth": 0,
             "ticks": ""
            },
            "colorscale": [
             [
              0,
              "#0d0887"
             ],
             [
              0.1111111111111111,
              "#46039f"
             ],
             [
              0.2222222222222222,
              "#7201a8"
             ],
             [
              0.3333333333333333,
              "#9c179e"
             ],
             [
              0.4444444444444444,
              "#bd3786"
             ],
             [
              0.5555555555555556,
              "#d8576b"
             ],
             [
              0.6666666666666666,
              "#ed7953"
             ],
             [
              0.7777777777777778,
              "#fb9f3a"
             ],
             [
              0.8888888888888888,
              "#fdca26"
             ],
             [
              1,
              "#f0f921"
             ]
            ],
            "type": "heatmap"
           }
          ],
          "heatmapgl": [
           {
            "colorbar": {
             "outlinewidth": 0,
             "ticks": ""
            },
            "colorscale": [
             [
              0,
              "#0d0887"
             ],
             [
              0.1111111111111111,
              "#46039f"
             ],
             [
              0.2222222222222222,
              "#7201a8"
             ],
             [
              0.3333333333333333,
              "#9c179e"
             ],
             [
              0.4444444444444444,
              "#bd3786"
             ],
             [
              0.5555555555555556,
              "#d8576b"
             ],
             [
              0.6666666666666666,
              "#ed7953"
             ],
             [
              0.7777777777777778,
              "#fb9f3a"
             ],
             [
              0.8888888888888888,
              "#fdca26"
             ],
             [
              1,
              "#f0f921"
             ]
            ],
            "type": "heatmapgl"
           }
          ],
          "histogram": [
           {
            "marker": {
             "pattern": {
              "fillmode": "overlay",
              "size": 10,
              "solidity": 0.2
             }
            },
            "type": "histogram"
           }
          ],
          "histogram2d": [
           {
            "colorbar": {
             "outlinewidth": 0,
             "ticks": ""
            },
            "colorscale": [
             [
              0,
              "#0d0887"
             ],
             [
              0.1111111111111111,
              "#46039f"
             ],
             [
              0.2222222222222222,
              "#7201a8"
             ],
             [
              0.3333333333333333,
              "#9c179e"
             ],
             [
              0.4444444444444444,
              "#bd3786"
             ],
             [
              0.5555555555555556,
              "#d8576b"
             ],
             [
              0.6666666666666666,
              "#ed7953"
             ],
             [
              0.7777777777777778,
              "#fb9f3a"
             ],
             [
              0.8888888888888888,
              "#fdca26"
             ],
             [
              1,
              "#f0f921"
             ]
            ],
            "type": "histogram2d"
           }
          ],
          "histogram2dcontour": [
           {
            "colorbar": {
             "outlinewidth": 0,
             "ticks": ""
            },
            "colorscale": [
             [
              0,
              "#0d0887"
             ],
             [
              0.1111111111111111,
              "#46039f"
             ],
             [
              0.2222222222222222,
              "#7201a8"
             ],
             [
              0.3333333333333333,
              "#9c179e"
             ],
             [
              0.4444444444444444,
              "#bd3786"
             ],
             [
              0.5555555555555556,
              "#d8576b"
             ],
             [
              0.6666666666666666,
              "#ed7953"
             ],
             [
              0.7777777777777778,
              "#fb9f3a"
             ],
             [
              0.8888888888888888,
              "#fdca26"
             ],
             [
              1,
              "#f0f921"
             ]
            ],
            "type": "histogram2dcontour"
           }
          ],
          "mesh3d": [
           {
            "colorbar": {
             "outlinewidth": 0,
             "ticks": ""
            },
            "type": "mesh3d"
           }
          ],
          "parcoords": [
           {
            "line": {
             "colorbar": {
              "outlinewidth": 0,
              "ticks": ""
             }
            },
            "type": "parcoords"
           }
          ],
          "pie": [
           {
            "automargin": true,
            "type": "pie"
           }
          ],
          "scatter": [
           {
            "fillpattern": {
             "fillmode": "overlay",
             "size": 10,
             "solidity": 0.2
            },
            "type": "scatter"
           }
          ],
          "scatter3d": [
           {
            "line": {
             "colorbar": {
              "outlinewidth": 0,
              "ticks": ""
             }
            },
            "marker": {
             "colorbar": {
              "outlinewidth": 0,
              "ticks": ""
             }
            },
            "type": "scatter3d"
           }
          ],
          "scattercarpet": [
           {
            "marker": {
             "colorbar": {
              "outlinewidth": 0,
              "ticks": ""
             }
            },
            "type": "scattercarpet"
           }
          ],
          "scattergeo": [
           {
            "marker": {
             "colorbar": {
              "outlinewidth": 0,
              "ticks": ""
             }
            },
            "type": "scattergeo"
           }
          ],
          "scattergl": [
           {
            "marker": {
             "colorbar": {
              "outlinewidth": 0,
              "ticks": ""
             }
            },
            "type": "scattergl"
           }
          ],
          "scattermapbox": [
           {
            "marker": {
             "colorbar": {
              "outlinewidth": 0,
              "ticks": ""
             }
            },
            "type": "scattermapbox"
           }
          ],
          "scatterpolar": [
           {
            "marker": {
             "colorbar": {
              "outlinewidth": 0,
              "ticks": ""
             }
            },
            "type": "scatterpolar"
           }
          ],
          "scatterpolargl": [
           {
            "marker": {
             "colorbar": {
              "outlinewidth": 0,
              "ticks": ""
             }
            },
            "type": "scatterpolargl"
           }
          ],
          "scatterternary": [
           {
            "marker": {
             "colorbar": {
              "outlinewidth": 0,
              "ticks": ""
             }
            },
            "type": "scatterternary"
           }
          ],
          "surface": [
           {
            "colorbar": {
             "outlinewidth": 0,
             "ticks": ""
            },
            "colorscale": [
             [
              0,
              "#0d0887"
             ],
             [
              0.1111111111111111,
              "#46039f"
             ],
             [
              0.2222222222222222,
              "#7201a8"
             ],
             [
              0.3333333333333333,
              "#9c179e"
             ],
             [
              0.4444444444444444,
              "#bd3786"
             ],
             [
              0.5555555555555556,
              "#d8576b"
             ],
             [
              0.6666666666666666,
              "#ed7953"
             ],
             [
              0.7777777777777778,
              "#fb9f3a"
             ],
             [
              0.8888888888888888,
              "#fdca26"
             ],
             [
              1,
              "#f0f921"
             ]
            ],
            "type": "surface"
           }
          ],
          "table": [
           {
            "cells": {
             "fill": {
              "color": "#EBF0F8"
             },
             "line": {
              "color": "white"
             }
            },
            "header": {
             "fill": {
              "color": "#C8D4E3"
             },
             "line": {
              "color": "white"
             }
            },
            "type": "table"
           }
          ]
         },
         "layout": {
          "annotationdefaults": {
           "arrowcolor": "#2a3f5f",
           "arrowhead": 0,
           "arrowwidth": 1
          },
          "autotypenumbers": "strict",
          "coloraxis": {
           "colorbar": {
            "outlinewidth": 0,
            "ticks": ""
           }
          },
          "colorscale": {
           "diverging": [
            [
             0,
             "#8e0152"
            ],
            [
             0.1,
             "#c51b7d"
            ],
            [
             0.2,
             "#de77ae"
            ],
            [
             0.3,
             "#f1b6da"
            ],
            [
             0.4,
             "#fde0ef"
            ],
            [
             0.5,
             "#f7f7f7"
            ],
            [
             0.6,
             "#e6f5d0"
            ],
            [
             0.7,
             "#b8e186"
            ],
            [
             0.8,
             "#7fbc41"
            ],
            [
             0.9,
             "#4d9221"
            ],
            [
             1,
             "#276419"
            ]
           ],
           "sequential": [
            [
             0,
             "#0d0887"
            ],
            [
             0.1111111111111111,
             "#46039f"
            ],
            [
             0.2222222222222222,
             "#7201a8"
            ],
            [
             0.3333333333333333,
             "#9c179e"
            ],
            [
             0.4444444444444444,
             "#bd3786"
            ],
            [
             0.5555555555555556,
             "#d8576b"
            ],
            [
             0.6666666666666666,
             "#ed7953"
            ],
            [
             0.7777777777777778,
             "#fb9f3a"
            ],
            [
             0.8888888888888888,
             "#fdca26"
            ],
            [
             1,
             "#f0f921"
            ]
           ],
           "sequentialminus": [
            [
             0,
             "#0d0887"
            ],
            [
             0.1111111111111111,
             "#46039f"
            ],
            [
             0.2222222222222222,
             "#7201a8"
            ],
            [
             0.3333333333333333,
             "#9c179e"
            ],
            [
             0.4444444444444444,
             "#bd3786"
            ],
            [
             0.5555555555555556,
             "#d8576b"
            ],
            [
             0.6666666666666666,
             "#ed7953"
            ],
            [
             0.7777777777777778,
             "#fb9f3a"
            ],
            [
             0.8888888888888888,
             "#fdca26"
            ],
            [
             1,
             "#f0f921"
            ]
           ]
          },
          "colorway": [
           "#636efa",
           "#EF553B",
           "#00cc96",
           "#ab63fa",
           "#FFA15A",
           "#19d3f3",
           "#FF6692",
           "#B6E880",
           "#FF97FF",
           "#FECB52"
          ],
          "font": {
           "color": "#2a3f5f"
          },
          "geo": {
           "bgcolor": "white",
           "lakecolor": "white",
           "landcolor": "#E5ECF6",
           "showlakes": true,
           "showland": true,
           "subunitcolor": "white"
          },
          "hoverlabel": {
           "align": "left"
          },
          "hovermode": "closest",
          "mapbox": {
           "style": "light"
          },
          "paper_bgcolor": "white",
          "plot_bgcolor": "#E5ECF6",
          "polar": {
           "angularaxis": {
            "gridcolor": "white",
            "linecolor": "white",
            "ticks": ""
           },
           "bgcolor": "#E5ECF6",
           "radialaxis": {
            "gridcolor": "white",
            "linecolor": "white",
            "ticks": ""
           }
          },
          "scene": {
           "xaxis": {
            "backgroundcolor": "#E5ECF6",
            "gridcolor": "white",
            "gridwidth": 2,
            "linecolor": "white",
            "showbackground": true,
            "ticks": "",
            "zerolinecolor": "white"
           },
           "yaxis": {
            "backgroundcolor": "#E5ECF6",
            "gridcolor": "white",
            "gridwidth": 2,
            "linecolor": "white",
            "showbackground": true,
            "ticks": "",
            "zerolinecolor": "white"
           },
           "zaxis": {
            "backgroundcolor": "#E5ECF6",
            "gridcolor": "white",
            "gridwidth": 2,
            "linecolor": "white",
            "showbackground": true,
            "ticks": "",
            "zerolinecolor": "white"
           }
          },
          "shapedefaults": {
           "line": {
            "color": "#2a3f5f"
           }
          },
          "ternary": {
           "aaxis": {
            "gridcolor": "white",
            "linecolor": "white",
            "ticks": ""
           },
           "baxis": {
            "gridcolor": "white",
            "linecolor": "white",
            "ticks": ""
           },
           "bgcolor": "#E5ECF6",
           "caxis": {
            "gridcolor": "white",
            "linecolor": "white",
            "ticks": ""
           }
          },
          "title": {
           "x": 0.05
          },
          "xaxis": {
           "automargin": true,
           "gridcolor": "white",
           "linecolor": "white",
           "ticks": "",
           "title": {
            "standoff": 15
           },
           "zerolinecolor": "white",
           "zerolinewidth": 2
          },
          "yaxis": {
           "automargin": true,
           "gridcolor": "white",
           "linecolor": "white",
           "ticks": "",
           "title": {
            "standoff": 15
           },
           "zerolinecolor": "white",
           "zerolinewidth": 2
          }
         }
        },
        "title": {
         "text": "Hyperparameter Importances"
        },
        "xaxis": {
         "title": {
          "text": "Importance for f1_score"
         }
        },
        "yaxis": {
         "title": {
          "text": "Hyperparameter"
         }
        }
       }
      }
     },
     "metadata": {},
     "output_type": "display_data"
    }
   ],
   "source": [
    "optuna.visualization.plot_param_importances(study_ranFor, target_name=\"f1_score\")"
   ]
  },
  {
   "cell_type": "code",
   "execution_count": 27,
   "metadata": {},
   "outputs": [
    {
     "data": {
      "application/vnd.plotly.v1+json": {
       "config": {
        "plotlyServerURL": "https://plot.ly"
       },
       "data": [
        {
         "colorbar": {
          "title": {
           "text": "f1_score"
          }
         },
         "colorscale": [
          [
           0,
           "rgb(247,251,255)"
          ],
          [
           0.125,
           "rgb(222,235,247)"
          ],
          [
           0.25,
           "rgb(198,219,239)"
          ],
          [
           0.375,
           "rgb(158,202,225)"
          ],
          [
           0.5,
           "rgb(107,174,214)"
          ],
          [
           0.625,
           "rgb(66,146,198)"
          ],
          [
           0.75,
           "rgb(33,113,181)"
          ],
          [
           0.875,
           "rgb(8,81,156)"
          ],
          [
           1,
           "rgb(8,48,107)"
          ]
         ],
         "connectgaps": true,
         "contours": {
          "coloring": "heatmap"
         },
         "hoverinfo": "none",
         "line": {
          "smoothing": 1.3
         },
         "reversescale": false,
         "type": "contour",
         "x": [
          13.75,
          15,
          17,
          18,
          21,
          23,
          24,
          26,
          29,
          30,
          33,
          36,
          37,
          39,
          40,
          41.25
         ],
         "y": [
          2.8,
          3,
          4,
          5,
          6,
          7,
          7.2
         ],
         "z": [
          [
           null,
           null,
           null,
           null,
           null,
           null,
           null,
           null,
           null,
           null,
           null,
           null,
           null,
           null,
           null,
           null
          ],
          [
           null,
           null,
           null,
           0.9716203844980166,
           null,
           null,
           null,
           null,
           null,
           0.9782808198225759,
           0.9776690119302539,
           null,
           null,
           null,
           0.9773700305810398,
           null
          ],
          [
           null,
           null,
           0.9563625267012512,
           null,
           null,
           null,
           null,
           null,
           null,
           0.9586776859504132,
           0.9584097859327219,
           null,
           0.9588037839487336,
           null,
           null,
           null
          ],
          [
           null,
           0.9410326917201345,
           null,
           null,
           null,
           null,
           null,
           null,
           null,
           null,
           0.9441903019213176,
           null,
           null,
           0.9466300701433363,
           null,
           null
          ],
          [
           null,
           null,
           null,
           null,
           null,
           0.9352869352869354,
           0.9355331500152765,
           0.9351285189718482,
           0.9358582773365914,
           null,
           null,
           null,
           null,
           0.9342306515754053,
           null,
           null
          ],
          [
           null,
           null,
           0.9248625534514356,
           null,
           0.9277218664226898,
           null,
           null,
           null,
           null,
           null,
           null,
           0.9263672471738467,
           null,
           null,
           null,
           null
          ],
          [
           null,
           null,
           null,
           null,
           null,
           null,
           null,
           null,
           null,
           null,
           null,
           null,
           null,
           null,
           null,
           null
          ]
         ]
        },
        {
         "marker": {
          "color": "black",
          "line": {
           "color": "Grey",
           "width": 2
          }
         },
         "mode": "markers",
         "showlegend": false,
         "type": "scatter",
         "x": [
          37,
          33,
          17,
          30,
          36,
          39,
          29,
          33,
          24,
          17,
          21,
          15,
          33,
          30,
          23,
          18,
          40,
          33,
          26,
          39
         ],
         "y": [
          4,
          5,
          4,
          3,
          7,
          5,
          6,
          5,
          6,
          7,
          7,
          5,
          4,
          4,
          6,
          3,
          3,
          3,
          6,
          6
         ]
        }
       ],
       "layout": {
        "template": {
         "data": {
          "bar": [
           {
            "error_x": {
             "color": "#2a3f5f"
            },
            "error_y": {
             "color": "#2a3f5f"
            },
            "marker": {
             "line": {
              "color": "#E5ECF6",
              "width": 0.5
             },
             "pattern": {
              "fillmode": "overlay",
              "size": 10,
              "solidity": 0.2
             }
            },
            "type": "bar"
           }
          ],
          "barpolar": [
           {
            "marker": {
             "line": {
              "color": "#E5ECF6",
              "width": 0.5
             },
             "pattern": {
              "fillmode": "overlay",
              "size": 10,
              "solidity": 0.2
             }
            },
            "type": "barpolar"
           }
          ],
          "carpet": [
           {
            "aaxis": {
             "endlinecolor": "#2a3f5f",
             "gridcolor": "white",
             "linecolor": "white",
             "minorgridcolor": "white",
             "startlinecolor": "#2a3f5f"
            },
            "baxis": {
             "endlinecolor": "#2a3f5f",
             "gridcolor": "white",
             "linecolor": "white",
             "minorgridcolor": "white",
             "startlinecolor": "#2a3f5f"
            },
            "type": "carpet"
           }
          ],
          "choropleth": [
           {
            "colorbar": {
             "outlinewidth": 0,
             "ticks": ""
            },
            "type": "choropleth"
           }
          ],
          "contour": [
           {
            "colorbar": {
             "outlinewidth": 0,
             "ticks": ""
            },
            "colorscale": [
             [
              0,
              "#0d0887"
             ],
             [
              0.1111111111111111,
              "#46039f"
             ],
             [
              0.2222222222222222,
              "#7201a8"
             ],
             [
              0.3333333333333333,
              "#9c179e"
             ],
             [
              0.4444444444444444,
              "#bd3786"
             ],
             [
              0.5555555555555556,
              "#d8576b"
             ],
             [
              0.6666666666666666,
              "#ed7953"
             ],
             [
              0.7777777777777778,
              "#fb9f3a"
             ],
             [
              0.8888888888888888,
              "#fdca26"
             ],
             [
              1,
              "#f0f921"
             ]
            ],
            "type": "contour"
           }
          ],
          "contourcarpet": [
           {
            "colorbar": {
             "outlinewidth": 0,
             "ticks": ""
            },
            "type": "contourcarpet"
           }
          ],
          "heatmap": [
           {
            "colorbar": {
             "outlinewidth": 0,
             "ticks": ""
            },
            "colorscale": [
             [
              0,
              "#0d0887"
             ],
             [
              0.1111111111111111,
              "#46039f"
             ],
             [
              0.2222222222222222,
              "#7201a8"
             ],
             [
              0.3333333333333333,
              "#9c179e"
             ],
             [
              0.4444444444444444,
              "#bd3786"
             ],
             [
              0.5555555555555556,
              "#d8576b"
             ],
             [
              0.6666666666666666,
              "#ed7953"
             ],
             [
              0.7777777777777778,
              "#fb9f3a"
             ],
             [
              0.8888888888888888,
              "#fdca26"
             ],
             [
              1,
              "#f0f921"
             ]
            ],
            "type": "heatmap"
           }
          ],
          "heatmapgl": [
           {
            "colorbar": {
             "outlinewidth": 0,
             "ticks": ""
            },
            "colorscale": [
             [
              0,
              "#0d0887"
             ],
             [
              0.1111111111111111,
              "#46039f"
             ],
             [
              0.2222222222222222,
              "#7201a8"
             ],
             [
              0.3333333333333333,
              "#9c179e"
             ],
             [
              0.4444444444444444,
              "#bd3786"
             ],
             [
              0.5555555555555556,
              "#d8576b"
             ],
             [
              0.6666666666666666,
              "#ed7953"
             ],
             [
              0.7777777777777778,
              "#fb9f3a"
             ],
             [
              0.8888888888888888,
              "#fdca26"
             ],
             [
              1,
              "#f0f921"
             ]
            ],
            "type": "heatmapgl"
           }
          ],
          "histogram": [
           {
            "marker": {
             "pattern": {
              "fillmode": "overlay",
              "size": 10,
              "solidity": 0.2
             }
            },
            "type": "histogram"
           }
          ],
          "histogram2d": [
           {
            "colorbar": {
             "outlinewidth": 0,
             "ticks": ""
            },
            "colorscale": [
             [
              0,
              "#0d0887"
             ],
             [
              0.1111111111111111,
              "#46039f"
             ],
             [
              0.2222222222222222,
              "#7201a8"
             ],
             [
              0.3333333333333333,
              "#9c179e"
             ],
             [
              0.4444444444444444,
              "#bd3786"
             ],
             [
              0.5555555555555556,
              "#d8576b"
             ],
             [
              0.6666666666666666,
              "#ed7953"
             ],
             [
              0.7777777777777778,
              "#fb9f3a"
             ],
             [
              0.8888888888888888,
              "#fdca26"
             ],
             [
              1,
              "#f0f921"
             ]
            ],
            "type": "histogram2d"
           }
          ],
          "histogram2dcontour": [
           {
            "colorbar": {
             "outlinewidth": 0,
             "ticks": ""
            },
            "colorscale": [
             [
              0,
              "#0d0887"
             ],
             [
              0.1111111111111111,
              "#46039f"
             ],
             [
              0.2222222222222222,
              "#7201a8"
             ],
             [
              0.3333333333333333,
              "#9c179e"
             ],
             [
              0.4444444444444444,
              "#bd3786"
             ],
             [
              0.5555555555555556,
              "#d8576b"
             ],
             [
              0.6666666666666666,
              "#ed7953"
             ],
             [
              0.7777777777777778,
              "#fb9f3a"
             ],
             [
              0.8888888888888888,
              "#fdca26"
             ],
             [
              1,
              "#f0f921"
             ]
            ],
            "type": "histogram2dcontour"
           }
          ],
          "mesh3d": [
           {
            "colorbar": {
             "outlinewidth": 0,
             "ticks": ""
            },
            "type": "mesh3d"
           }
          ],
          "parcoords": [
           {
            "line": {
             "colorbar": {
              "outlinewidth": 0,
              "ticks": ""
             }
            },
            "type": "parcoords"
           }
          ],
          "pie": [
           {
            "automargin": true,
            "type": "pie"
           }
          ],
          "scatter": [
           {
            "fillpattern": {
             "fillmode": "overlay",
             "size": 10,
             "solidity": 0.2
            },
            "type": "scatter"
           }
          ],
          "scatter3d": [
           {
            "line": {
             "colorbar": {
              "outlinewidth": 0,
              "ticks": ""
             }
            },
            "marker": {
             "colorbar": {
              "outlinewidth": 0,
              "ticks": ""
             }
            },
            "type": "scatter3d"
           }
          ],
          "scattercarpet": [
           {
            "marker": {
             "colorbar": {
              "outlinewidth": 0,
              "ticks": ""
             }
            },
            "type": "scattercarpet"
           }
          ],
          "scattergeo": [
           {
            "marker": {
             "colorbar": {
              "outlinewidth": 0,
              "ticks": ""
             }
            },
            "type": "scattergeo"
           }
          ],
          "scattergl": [
           {
            "marker": {
             "colorbar": {
              "outlinewidth": 0,
              "ticks": ""
             }
            },
            "type": "scattergl"
           }
          ],
          "scattermapbox": [
           {
            "marker": {
             "colorbar": {
              "outlinewidth": 0,
              "ticks": ""
             }
            },
            "type": "scattermapbox"
           }
          ],
          "scatterpolar": [
           {
            "marker": {
             "colorbar": {
              "outlinewidth": 0,
              "ticks": ""
             }
            },
            "type": "scatterpolar"
           }
          ],
          "scatterpolargl": [
           {
            "marker": {
             "colorbar": {
              "outlinewidth": 0,
              "ticks": ""
             }
            },
            "type": "scatterpolargl"
           }
          ],
          "scatterternary": [
           {
            "marker": {
             "colorbar": {
              "outlinewidth": 0,
              "ticks": ""
             }
            },
            "type": "scatterternary"
           }
          ],
          "surface": [
           {
            "colorbar": {
             "outlinewidth": 0,
             "ticks": ""
            },
            "colorscale": [
             [
              0,
              "#0d0887"
             ],
             [
              0.1111111111111111,
              "#46039f"
             ],
             [
              0.2222222222222222,
              "#7201a8"
             ],
             [
              0.3333333333333333,
              "#9c179e"
             ],
             [
              0.4444444444444444,
              "#bd3786"
             ],
             [
              0.5555555555555556,
              "#d8576b"
             ],
             [
              0.6666666666666666,
              "#ed7953"
             ],
             [
              0.7777777777777778,
              "#fb9f3a"
             ],
             [
              0.8888888888888888,
              "#fdca26"
             ],
             [
              1,
              "#f0f921"
             ]
            ],
            "type": "surface"
           }
          ],
          "table": [
           {
            "cells": {
             "fill": {
              "color": "#EBF0F8"
             },
             "line": {
              "color": "white"
             }
            },
            "header": {
             "fill": {
              "color": "#C8D4E3"
             },
             "line": {
              "color": "white"
             }
            },
            "type": "table"
           }
          ]
         },
         "layout": {
          "annotationdefaults": {
           "arrowcolor": "#2a3f5f",
           "arrowhead": 0,
           "arrowwidth": 1
          },
          "autotypenumbers": "strict",
          "coloraxis": {
           "colorbar": {
            "outlinewidth": 0,
            "ticks": ""
           }
          },
          "colorscale": {
           "diverging": [
            [
             0,
             "#8e0152"
            ],
            [
             0.1,
             "#c51b7d"
            ],
            [
             0.2,
             "#de77ae"
            ],
            [
             0.3,
             "#f1b6da"
            ],
            [
             0.4,
             "#fde0ef"
            ],
            [
             0.5,
             "#f7f7f7"
            ],
            [
             0.6,
             "#e6f5d0"
            ],
            [
             0.7,
             "#b8e186"
            ],
            [
             0.8,
             "#7fbc41"
            ],
            [
             0.9,
             "#4d9221"
            ],
            [
             1,
             "#276419"
            ]
           ],
           "sequential": [
            [
             0,
             "#0d0887"
            ],
            [
             0.1111111111111111,
             "#46039f"
            ],
            [
             0.2222222222222222,
             "#7201a8"
            ],
            [
             0.3333333333333333,
             "#9c179e"
            ],
            [
             0.4444444444444444,
             "#bd3786"
            ],
            [
             0.5555555555555556,
             "#d8576b"
            ],
            [
             0.6666666666666666,
             "#ed7953"
            ],
            [
             0.7777777777777778,
             "#fb9f3a"
            ],
            [
             0.8888888888888888,
             "#fdca26"
            ],
            [
             1,
             "#f0f921"
            ]
           ],
           "sequentialminus": [
            [
             0,
             "#0d0887"
            ],
            [
             0.1111111111111111,
             "#46039f"
            ],
            [
             0.2222222222222222,
             "#7201a8"
            ],
            [
             0.3333333333333333,
             "#9c179e"
            ],
            [
             0.4444444444444444,
             "#bd3786"
            ],
            [
             0.5555555555555556,
             "#d8576b"
            ],
            [
             0.6666666666666666,
             "#ed7953"
            ],
            [
             0.7777777777777778,
             "#fb9f3a"
            ],
            [
             0.8888888888888888,
             "#fdca26"
            ],
            [
             1,
             "#f0f921"
            ]
           ]
          },
          "colorway": [
           "#636efa",
           "#EF553B",
           "#00cc96",
           "#ab63fa",
           "#FFA15A",
           "#19d3f3",
           "#FF6692",
           "#B6E880",
           "#FF97FF",
           "#FECB52"
          ],
          "font": {
           "color": "#2a3f5f"
          },
          "geo": {
           "bgcolor": "white",
           "lakecolor": "white",
           "landcolor": "#E5ECF6",
           "showlakes": true,
           "showland": true,
           "subunitcolor": "white"
          },
          "hoverlabel": {
           "align": "left"
          },
          "hovermode": "closest",
          "mapbox": {
           "style": "light"
          },
          "paper_bgcolor": "white",
          "plot_bgcolor": "#E5ECF6",
          "polar": {
           "angularaxis": {
            "gridcolor": "white",
            "linecolor": "white",
            "ticks": ""
           },
           "bgcolor": "#E5ECF6",
           "radialaxis": {
            "gridcolor": "white",
            "linecolor": "white",
            "ticks": ""
           }
          },
          "scene": {
           "xaxis": {
            "backgroundcolor": "#E5ECF6",
            "gridcolor": "white",
            "gridwidth": 2,
            "linecolor": "white",
            "showbackground": true,
            "ticks": "",
            "zerolinecolor": "white"
           },
           "yaxis": {
            "backgroundcolor": "#E5ECF6",
            "gridcolor": "white",
            "gridwidth": 2,
            "linecolor": "white",
            "showbackground": true,
            "ticks": "",
            "zerolinecolor": "white"
           },
           "zaxis": {
            "backgroundcolor": "#E5ECF6",
            "gridcolor": "white",
            "gridwidth": 2,
            "linecolor": "white",
            "showbackground": true,
            "ticks": "",
            "zerolinecolor": "white"
           }
          },
          "shapedefaults": {
           "line": {
            "color": "#2a3f5f"
           }
          },
          "ternary": {
           "aaxis": {
            "gridcolor": "white",
            "linecolor": "white",
            "ticks": ""
           },
           "baxis": {
            "gridcolor": "white",
            "linecolor": "white",
            "ticks": ""
           },
           "bgcolor": "#E5ECF6",
           "caxis": {
            "gridcolor": "white",
            "linecolor": "white",
            "ticks": ""
           }
          },
          "title": {
           "x": 0.05
          },
          "xaxis": {
           "automargin": true,
           "gridcolor": "white",
           "linecolor": "white",
           "ticks": "",
           "title": {
            "standoff": 15
           },
           "zerolinecolor": "white",
           "zerolinewidth": 2
          },
          "yaxis": {
           "automargin": true,
           "gridcolor": "white",
           "linecolor": "white",
           "ticks": "",
           "title": {
            "standoff": 15
           },
           "zerolinecolor": "white",
           "zerolinewidth": 2
          }
         }
        },
        "title": {
         "text": "Contour Plot"
        },
        "xaxis": {
         "range": [
          13.75,
          41.25
         ],
         "title": {
          "text": "max_depth"
         }
        },
        "yaxis": {
         "range": [
          2.8,
          7.2
         ],
         "title": {
          "text": "min_samples_leaf"
         }
        }
       }
      }
     },
     "metadata": {},
     "output_type": "display_data"
    }
   ],
   "source": [
    "optuna.visualization.plot_contour(study_ranFor, params=[\"max_depth\", \"min_samples_leaf\"],\n",
    "                                  target_name=\"f1_score\")"
   ]
  },
  {
   "cell_type": "code",
   "execution_count": 28,
   "metadata": {},
   "outputs": [
    {
     "ename": "KeyError",
     "evalue": "'`Styler.apply` and `.applymap` are not compatible with non-unique index or columns.'",
     "output_type": "error",
     "traceback": [
      "\u001b[1;31m---------------------------------------------------------------------------\u001b[0m",
      "\u001b[1;31mKeyError\u001b[0m                                  Traceback (most recent call last)",
      "File \u001b[1;32m~\\AppData\\Roaming\\Python\\Python311\\site-packages\\IPython\\core\\formatters.py:344\u001b[0m, in \u001b[0;36mBaseFormatter.__call__\u001b[1;34m(self, obj)\u001b[0m\n\u001b[0;32m    342\u001b[0m     method \u001b[39m=\u001b[39m get_real_method(obj, \u001b[39mself\u001b[39m\u001b[39m.\u001b[39mprint_method)\n\u001b[0;32m    343\u001b[0m     \u001b[39mif\u001b[39;00m method \u001b[39mis\u001b[39;00m \u001b[39mnot\u001b[39;00m \u001b[39mNone\u001b[39;00m:\n\u001b[1;32m--> 344\u001b[0m         \u001b[39mreturn\u001b[39;00m method()\n\u001b[0;32m    345\u001b[0m     \u001b[39mreturn\u001b[39;00m \u001b[39mNone\u001b[39;00m\n\u001b[0;32m    346\u001b[0m \u001b[39melse\u001b[39;00m:\n",
      "File \u001b[1;32mc:\\Python311\\Lib\\site-packages\\pandas\\io\\formats\\style.py:383\u001b[0m, in \u001b[0;36mStyler._repr_html_\u001b[1;34m(self)\u001b[0m\n\u001b[0;32m    378\u001b[0m \u001b[39m\u001b[39m\u001b[39m\"\"\"\u001b[39;00m\n\u001b[0;32m    379\u001b[0m \u001b[39mHooks into Jupyter notebook rich display system, which calls _repr_html_ by\u001b[39;00m\n\u001b[0;32m    380\u001b[0m \u001b[39mdefault if an object is returned at the end of a cell.\u001b[39;00m\n\u001b[0;32m    381\u001b[0m \u001b[39m\"\"\"\u001b[39;00m\n\u001b[0;32m    382\u001b[0m \u001b[39mif\u001b[39;00m get_option(\u001b[39m\"\u001b[39m\u001b[39mstyler.render.repr\u001b[39m\u001b[39m\"\u001b[39m) \u001b[39m==\u001b[39m \u001b[39m\"\u001b[39m\u001b[39mhtml\u001b[39m\u001b[39m\"\u001b[39m:\n\u001b[1;32m--> 383\u001b[0m     \u001b[39mreturn\u001b[39;00m \u001b[39mself\u001b[39;49m\u001b[39m.\u001b[39;49mto_html()\n\u001b[0;32m    384\u001b[0m \u001b[39mreturn\u001b[39;00m \u001b[39mNone\u001b[39;00m\n",
      "File \u001b[1;32mc:\\Python311\\Lib\\site-packages\\pandas\\io\\formats\\style.py:1308\u001b[0m, in \u001b[0;36mStyler.to_html\u001b[1;34m(self, buf, table_uuid, table_attributes, sparse_index, sparse_columns, bold_headers, caption, max_rows, max_columns, encoding, doctype_html, exclude_styles, **kwargs)\u001b[0m\n\u001b[0;32m   1305\u001b[0m     obj\u001b[39m.\u001b[39mset_caption(caption)\n\u001b[0;32m   1307\u001b[0m \u001b[39m# Build HTML string..\u001b[39;00m\n\u001b[1;32m-> 1308\u001b[0m html \u001b[39m=\u001b[39m obj\u001b[39m.\u001b[39;49m_render_html(\n\u001b[0;32m   1309\u001b[0m     sparse_index\u001b[39m=\u001b[39;49msparse_index,\n\u001b[0;32m   1310\u001b[0m     sparse_columns\u001b[39m=\u001b[39;49msparse_columns,\n\u001b[0;32m   1311\u001b[0m     max_rows\u001b[39m=\u001b[39;49mmax_rows,\n\u001b[0;32m   1312\u001b[0m     max_cols\u001b[39m=\u001b[39;49mmax_columns,\n\u001b[0;32m   1313\u001b[0m     exclude_styles\u001b[39m=\u001b[39;49mexclude_styles,\n\u001b[0;32m   1314\u001b[0m     encoding\u001b[39m=\u001b[39;49mencoding \u001b[39mor\u001b[39;49;00m get_option(\u001b[39m\"\u001b[39;49m\u001b[39mstyler.render.encoding\u001b[39;49m\u001b[39m\"\u001b[39;49m),\n\u001b[0;32m   1315\u001b[0m     doctype_html\u001b[39m=\u001b[39;49mdoctype_html,\n\u001b[0;32m   1316\u001b[0m     \u001b[39m*\u001b[39;49m\u001b[39m*\u001b[39;49mkwargs,\n\u001b[0;32m   1317\u001b[0m )\n\u001b[0;32m   1319\u001b[0m \u001b[39mreturn\u001b[39;00m save_to_buffer(\n\u001b[0;32m   1320\u001b[0m     html, buf\u001b[39m=\u001b[39mbuf, encoding\u001b[39m=\u001b[39m(encoding \u001b[39mif\u001b[39;00m buf \u001b[39mis\u001b[39;00m \u001b[39mnot\u001b[39;00m \u001b[39mNone\u001b[39;00m \u001b[39melse\u001b[39;00m \u001b[39mNone\u001b[39;00m)\n\u001b[0;32m   1321\u001b[0m )\n",
      "File \u001b[1;32mc:\\Python311\\Lib\\site-packages\\pandas\\io\\formats\\style_render.py:205\u001b[0m, in \u001b[0;36mStylerRenderer._render_html\u001b[1;34m(self, sparse_index, sparse_columns, max_rows, max_cols, **kwargs)\u001b[0m\n\u001b[0;32m    193\u001b[0m \u001b[39mdef\u001b[39;00m \u001b[39m_render_html\u001b[39m(\n\u001b[0;32m    194\u001b[0m     \u001b[39mself\u001b[39m,\n\u001b[0;32m    195\u001b[0m     sparse_index: \u001b[39mbool\u001b[39m,\n\u001b[1;32m   (...)\u001b[0m\n\u001b[0;32m    199\u001b[0m     \u001b[39m*\u001b[39m\u001b[39m*\u001b[39mkwargs,\n\u001b[0;32m    200\u001b[0m ) \u001b[39m-\u001b[39m\u001b[39m>\u001b[39m \u001b[39mstr\u001b[39m:\n\u001b[0;32m    201\u001b[0m \u001b[39m    \u001b[39m\u001b[39m\"\"\"\u001b[39;00m\n\u001b[0;32m    202\u001b[0m \u001b[39m    Renders the ``Styler`` including all applied styles to HTML.\u001b[39;00m\n\u001b[0;32m    203\u001b[0m \u001b[39m    Generates a dict with necessary kwargs passed to jinja2 template.\u001b[39;00m\n\u001b[0;32m    204\u001b[0m \u001b[39m    \"\"\"\u001b[39;00m\n\u001b[1;32m--> 205\u001b[0m     d \u001b[39m=\u001b[39m \u001b[39mself\u001b[39;49m\u001b[39m.\u001b[39;49m_render(sparse_index, sparse_columns, max_rows, max_cols, \u001b[39m\"\u001b[39;49m\u001b[39m&nbsp;\u001b[39;49m\u001b[39m\"\u001b[39;49m)\n\u001b[0;32m    206\u001b[0m     d\u001b[39m.\u001b[39mupdate(kwargs)\n\u001b[0;32m    207\u001b[0m     \u001b[39mreturn\u001b[39;00m \u001b[39mself\u001b[39m\u001b[39m.\u001b[39mtemplate_html\u001b[39m.\u001b[39mrender(\n\u001b[0;32m    208\u001b[0m         \u001b[39m*\u001b[39m\u001b[39m*\u001b[39md,\n\u001b[0;32m    209\u001b[0m         html_table_tpl\u001b[39m=\u001b[39m\u001b[39mself\u001b[39m\u001b[39m.\u001b[39mtemplate_html_table,\n\u001b[0;32m    210\u001b[0m         html_style_tpl\u001b[39m=\u001b[39m\u001b[39mself\u001b[39m\u001b[39m.\u001b[39mtemplate_html_style,\n\u001b[0;32m    211\u001b[0m     )\n",
      "File \u001b[1;32mc:\\Python311\\Lib\\site-packages\\pandas\\io\\formats\\style_render.py:162\u001b[0m, in \u001b[0;36mStylerRenderer._render\u001b[1;34m(self, sparse_index, sparse_columns, max_rows, max_cols, blank)\u001b[0m\n\u001b[0;32m    148\u001b[0m \u001b[39mdef\u001b[39;00m \u001b[39m_render\u001b[39m(\n\u001b[0;32m    149\u001b[0m     \u001b[39mself\u001b[39m,\n\u001b[0;32m    150\u001b[0m     sparse_index: \u001b[39mbool\u001b[39m,\n\u001b[1;32m   (...)\u001b[0m\n\u001b[0;32m    154\u001b[0m     blank: \u001b[39mstr\u001b[39m \u001b[39m=\u001b[39m \u001b[39m\"\u001b[39m\u001b[39m\"\u001b[39m,\n\u001b[0;32m    155\u001b[0m ):\n\u001b[0;32m    156\u001b[0m \u001b[39m    \u001b[39m\u001b[39m\"\"\"\u001b[39;00m\n\u001b[0;32m    157\u001b[0m \u001b[39m    Computes and applies styles and then generates the general render dicts.\u001b[39;00m\n\u001b[0;32m    158\u001b[0m \n\u001b[0;32m    159\u001b[0m \u001b[39m    Also extends the `ctx` and `ctx_index` attributes with those of concatenated\u001b[39;00m\n\u001b[0;32m    160\u001b[0m \u001b[39m    stylers for use within `_translate_latex`\u001b[39;00m\n\u001b[0;32m    161\u001b[0m \u001b[39m    \"\"\"\u001b[39;00m\n\u001b[1;32m--> 162\u001b[0m     \u001b[39mself\u001b[39;49m\u001b[39m.\u001b[39;49m_compute()\n\u001b[0;32m    163\u001b[0m     dxs \u001b[39m=\u001b[39m []\n\u001b[0;32m    164\u001b[0m     ctx_len \u001b[39m=\u001b[39m \u001b[39mlen\u001b[39m(\u001b[39mself\u001b[39m\u001b[39m.\u001b[39mindex)\n",
      "File \u001b[1;32mc:\\Python311\\Lib\\site-packages\\pandas\\io\\formats\\style_render.py:257\u001b[0m, in \u001b[0;36mStylerRenderer._compute\u001b[1;34m(self)\u001b[0m\n\u001b[0;32m    255\u001b[0m r \u001b[39m=\u001b[39m \u001b[39mself\u001b[39m\n\u001b[0;32m    256\u001b[0m \u001b[39mfor\u001b[39;00m func, args, kwargs \u001b[39min\u001b[39;00m \u001b[39mself\u001b[39m\u001b[39m.\u001b[39m_todo:\n\u001b[1;32m--> 257\u001b[0m     r \u001b[39m=\u001b[39m func(\u001b[39mself\u001b[39;49m)(\u001b[39m*\u001b[39;49margs, \u001b[39m*\u001b[39;49m\u001b[39m*\u001b[39;49mkwargs)\n\u001b[0;32m    258\u001b[0m \u001b[39mreturn\u001b[39;00m r\n",
      "File \u001b[1;32mc:\\Python311\\Lib\\site-packages\\pandas\\io\\formats\\style.py:1693\u001b[0m, in \u001b[0;36mStyler._apply\u001b[1;34m(self, func, axis, subset, **kwargs)\u001b[0m\n\u001b[0;32m   1689\u001b[0m \u001b[39mif\u001b[39;00m \u001b[39mnot\u001b[39;00m \u001b[39mall\u001b[39m(result\u001b[39m.\u001b[39mcolumns\u001b[39m.\u001b[39misin(data\u001b[39m.\u001b[39mcolumns)):\n\u001b[0;32m   1690\u001b[0m     \u001b[39mraise\u001b[39;00m \u001b[39mValueError\u001b[39;00m(\n\u001b[0;32m   1691\u001b[0m         msg\u001b[39m.\u001b[39mformat(\u001b[39m\"\u001b[39m\u001b[39mcolumns\u001b[39m\u001b[39m\"\u001b[39m, result\u001b[39m.\u001b[39mcolumns\u001b[39m.\u001b[39mshape, data\u001b[39m.\u001b[39mcolumns\u001b[39m.\u001b[39mshape)\n\u001b[0;32m   1692\u001b[0m     )\n\u001b[1;32m-> 1693\u001b[0m \u001b[39mself\u001b[39;49m\u001b[39m.\u001b[39;49m_update_ctx(result)\n\u001b[0;32m   1694\u001b[0m \u001b[39mreturn\u001b[39;00m \u001b[39mself\u001b[39m\n",
      "File \u001b[1;32mc:\\Python311\\Lib\\site-packages\\pandas\\io\\formats\\style.py:1505\u001b[0m, in \u001b[0;36mStyler._update_ctx\u001b[1;34m(self, attrs)\u001b[0m\n\u001b[0;32m   1492\u001b[0m \u001b[39m\u001b[39m\u001b[39m\"\"\"\u001b[39;00m\n\u001b[0;32m   1493\u001b[0m \u001b[39mUpdate the state of the ``Styler`` for data cells.\u001b[39;00m\n\u001b[0;32m   1494\u001b[0m \n\u001b[1;32m   (...)\u001b[0m\n\u001b[0;32m   1502\u001b[0m \u001b[39m    matter.\u001b[39;00m\n\u001b[0;32m   1503\u001b[0m \u001b[39m\"\"\"\u001b[39;00m\n\u001b[0;32m   1504\u001b[0m \u001b[39mif\u001b[39;00m \u001b[39mnot\u001b[39;00m \u001b[39mself\u001b[39m\u001b[39m.\u001b[39mindex\u001b[39m.\u001b[39mis_unique \u001b[39mor\u001b[39;00m \u001b[39mnot\u001b[39;00m \u001b[39mself\u001b[39m\u001b[39m.\u001b[39mcolumns\u001b[39m.\u001b[39mis_unique:\n\u001b[1;32m-> 1505\u001b[0m     \u001b[39mraise\u001b[39;00m \u001b[39mKeyError\u001b[39;00m(\n\u001b[0;32m   1506\u001b[0m         \u001b[39m\"\u001b[39m\u001b[39m`Styler.apply` and `.applymap` are not compatible \u001b[39m\u001b[39m\"\u001b[39m\n\u001b[0;32m   1507\u001b[0m         \u001b[39m\"\u001b[39m\u001b[39mwith non-unique index or columns.\u001b[39m\u001b[39m\"\u001b[39m\n\u001b[0;32m   1508\u001b[0m     )\n\u001b[0;32m   1510\u001b[0m \u001b[39mfor\u001b[39;00m cn \u001b[39min\u001b[39;00m attrs\u001b[39m.\u001b[39mcolumns:\n\u001b[0;32m   1511\u001b[0m     j \u001b[39m=\u001b[39m \u001b[39mself\u001b[39m\u001b[39m.\u001b[39mcolumns\u001b[39m.\u001b[39mget_loc(cn)\n",
      "\u001b[1;31mKeyError\u001b[0m: '`Styler.apply` and `.applymap` are not compatible with non-unique index or columns.'"
     ]
    },
    {
     "data": {
      "text/plain": [
       "<pandas.io.formats.style.Styler at 0x1adb42d6050>"
      ]
     },
     "metadata": {},
     "output_type": "display_data"
    }
   ],
   "source": [
    "resultf1ScoreData = pd.DataFrame(f1_score_results).set_index('method').sort_values(by='result_test',ascending=False)\n",
    "\n",
    "display(resultf1ScoreData.\\\n",
    "        style.background_gradient(\\\n",
    "        axis=0, cmap='GnBu',\n",
    "        low = 0.8,\n",
    "        high=0.9,\n",
    "        vmin = 0.8,\n",
    "        vmax = 1))"
   ]
  },
  {
   "attachments": {},
   "cell_type": "markdown",
   "metadata": {},
   "source": [
    "## Немного выводов (хотя по заданию их вроде не надо)\n",
    "\n",
    "* Обе модели(Логистической регрессии и Случайный лес) показали не самые худшие результаты. Т.е значения обучения по умолчанию, можно сказать, подобраны достаточно оптимально\n",
    "* Также, важно отметить, что к подбору параметров также надо относится \"с головой\", так как видно из таблицы выше, мы также и испортили предсказательные особенности в некоторых случаях\n",
    "* В нашем случае LogisticRegression в большинстве случаев показала лучшие результаты"
   ]
  },
  {
   "attachments": {},
   "cell_type": "markdown",
   "metadata": {},
   "source": [
    "Попробуем немного поиграться на отсающем RandomForestClassifier\n",
    "\n",
    "Учитывая что f1_train всегда очень высокая, поменяю расчет f1_score на test.\n",
    "Также, увеличу диапазон минимального количества листьев, так как алгоритм считает это важным параметром."
   ]
  },
  {
   "cell_type": "code",
   "execution_count": null,
   "metadata": {},
   "outputs": [],
   "source": [
    "def optuna_optimize_improvement(trial):\n",
    "  \n",
    "  n_estimators = trial.suggest_int('n_estimators', 100, 310, 10)\n",
    "  min_samples_leaf = trial.suggest_int('min_samples_leaf', 1, 15, 1)\n",
    "  max_depth = trial.suggest_int('max_depth', 15, 40, 1)\n",
    "\n",
    "    # создаем модель\n",
    "  model = ensemble.RandomForestClassifier(n_estimators=n_estimators,\n",
    "                                          max_depth=max_depth,\n",
    "                                          min_samples_leaf=min_samples_leaf,\n",
    "                                          random_state=RANDOM_STATE)\n",
    "  model.fit(X_train, y_train)\n",
    "  score = metrics.f1_score(y_test, model.predict(X_test))\n",
    "  # score = cross_val_score(model, X_train, y_train, cv = 5, scoring=\"f1\", n_jobs = -1).mean()  \n",
    "  return score"
   ]
  },
  {
   "cell_type": "code",
   "execution_count": null,
   "metadata": {},
   "outputs": [
    {
     "name": "stderr",
     "output_type": "stream",
     "text": [
      "\u001b[32m[I 2023-04-20 20:15:51,904]\u001b[0m A new study created in memory with name: RandomForestClassifier Optuna Optimization Improved\u001b[0m\n"
     ]
    },
    {
     "name": "stdout",
     "output_type": "stream",
     "text": [
      "CPU times: total: 0 ns\n",
      "Wall time: 0 ns\n"
     ]
    },
    {
     "name": "stderr",
     "output_type": "stream",
     "text": [
      "\u001b[32m[I 2023-04-20 20:15:53,729]\u001b[0m Trial 0 finished with value: 0.6666666666666666 and parameters: {'n_estimators': 310, 'min_samples_leaf': 7, 'max_depth': 22}. Best is trial 0 with value: 0.6666666666666666.\u001b[0m\n",
      "\u001b[32m[I 2023-04-20 20:15:55,660]\u001b[0m Trial 1 finished with value: 0.8571428571428571 and parameters: {'n_estimators': 300, 'min_samples_leaf': 1, 'max_depth': 39}. Best is trial 1 with value: 0.8571428571428571.\u001b[0m\n",
      "\u001b[32m[I 2023-04-20 20:15:56,902]\u001b[0m Trial 2 finished with value: 0.8571428571428571 and parameters: {'n_estimators': 210, 'min_samples_leaf': 2, 'max_depth': 19}. Best is trial 1 with value: 0.8571428571428571.\u001b[0m\n",
      "\u001b[32m[I 2023-04-20 20:15:58,443]\u001b[0m Trial 3 finished with value: 0.0 and parameters: {'n_estimators': 280, 'min_samples_leaf': 14, 'max_depth': 27}. Best is trial 1 with value: 0.8571428571428571.\u001b[0m\n",
      "\u001b[32m[I 2023-04-20 20:15:59,437]\u001b[0m Trial 4 finished with value: 0.9333333333333333 and parameters: {'n_estimators': 160, 'min_samples_leaf': 1, 'max_depth': 21}. Best is trial 4 with value: 0.9333333333333333.\u001b[0m\n",
      "\u001b[32m[I 2023-04-20 20:16:00,304]\u001b[0m Trial 5 finished with value: 0.6666666666666666 and parameters: {'n_estimators': 140, 'min_samples_leaf': 7, 'max_depth': 17}. Best is trial 4 with value: 0.9333333333333333.\u001b[0m\n",
      "\u001b[32m[I 2023-04-20 20:16:01,053]\u001b[0m Trial 6 finished with value: 0.7692307692307693 and parameters: {'n_estimators': 110, 'min_samples_leaf': 4, 'max_depth': 29}. Best is trial 4 with value: 0.9333333333333333.\u001b[0m\n",
      "\u001b[32m[I 2023-04-20 20:16:02,326]\u001b[0m Trial 7 finished with value: 0.8571428571428571 and parameters: {'n_estimators': 210, 'min_samples_leaf': 2, 'max_depth': 36}. Best is trial 4 with value: 0.9333333333333333.\u001b[0m\n",
      "\u001b[32m[I 2023-04-20 20:16:03,984]\u001b[0m Trial 8 finished with value: 0.6666666666666666 and parameters: {'n_estimators': 300, 'min_samples_leaf': 6, 'max_depth': 17}. Best is trial 4 with value: 0.9333333333333333.\u001b[0m\n",
      "\u001b[32m[I 2023-04-20 20:16:05,452]\u001b[0m Trial 9 finished with value: 0.0 and parameters: {'n_estimators': 260, 'min_samples_leaf': 15, 'max_depth': 25}. Best is trial 4 with value: 0.9333333333333333.\u001b[0m\n",
      "\u001b[32m[I 2023-04-20 20:16:06,351]\u001b[0m Trial 10 finished with value: 0.2222222222222222 and parameters: {'n_estimators': 160, 'min_samples_leaf': 11, 'max_depth': 32}. Best is trial 4 with value: 0.9333333333333333.\u001b[0m\n",
      "\u001b[32m[I 2023-04-20 20:16:07,384]\u001b[0m Trial 11 finished with value: 0.9333333333333333 and parameters: {'n_estimators': 170, 'min_samples_leaf': 1, 'max_depth': 40}. Best is trial 4 with value: 0.9333333333333333.\u001b[0m\n",
      "\u001b[32m[I 2023-04-20 20:16:08,388]\u001b[0m Trial 12 finished with value: 0.7692307692307693 and parameters: {'n_estimators': 170, 'min_samples_leaf': 4, 'max_depth': 33}. Best is trial 4 with value: 0.9333333333333333.\u001b[0m\n",
      "\u001b[32m[I 2023-04-20 20:16:09,379]\u001b[0m Trial 13 finished with value: 0.5454545454545454 and parameters: {'n_estimators': 180, 'min_samples_leaf': 10, 'max_depth': 23}. Best is trial 4 with value: 0.9333333333333333.\u001b[0m\n",
      "\u001b[32m[I 2023-04-20 20:16:10,061]\u001b[0m Trial 14 finished with value: 0.7692307692307693 and parameters: {'n_estimators': 110, 'min_samples_leaf': 4, 'max_depth': 40}. Best is trial 4 with value: 0.9333333333333333.\u001b[0m\n",
      "\u001b[32m[I 2023-04-20 20:16:11,539]\u001b[0m Trial 15 finished with value: 0.8571428571428571 and parameters: {'n_estimators': 250, 'min_samples_leaf': 1, 'max_depth': 21}. Best is trial 4 with value: 0.9333333333333333.\u001b[0m\n",
      "\u001b[32m[I 2023-04-20 20:16:12,328]\u001b[0m Trial 16 finished with value: 0.5454545454545454 and parameters: {'n_estimators': 140, 'min_samples_leaf': 10, 'max_depth': 30}. Best is trial 4 with value: 0.9333333333333333.\u001b[0m\n",
      "\u001b[32m[I 2023-04-20 20:16:13,400]\u001b[0m Trial 17 finished with value: 0.6666666666666666 and parameters: {'n_estimators': 190, 'min_samples_leaf': 5, 'max_depth': 26}. Best is trial 4 with value: 0.9333333333333333.\u001b[0m\n",
      "\u001b[32m[I 2023-04-20 20:16:14,744]\u001b[0m Trial 18 finished with value: 0.7692307692307693 and parameters: {'n_estimators': 230, 'min_samples_leaf': 3, 'max_depth': 15}. Best is trial 4 with value: 0.9333333333333333.\u001b[0m\n",
      "\u001b[32m[I 2023-04-20 20:16:15,729]\u001b[0m Trial 19 finished with value: 0.9333333333333333 and parameters: {'n_estimators': 160, 'min_samples_leaf': 1, 'max_depth': 36}. Best is trial 4 with value: 0.9333333333333333.\u001b[0m\n",
      "\u001b[32m[I 2023-04-20 20:16:16,473]\u001b[0m Trial 20 finished with value: 0.5454545454545454 and parameters: {'n_estimators': 130, 'min_samples_leaf': 9, 'max_depth': 24}. Best is trial 4 with value: 0.9333333333333333.\u001b[0m\n",
      "\u001b[32m[I 2023-04-20 20:16:17,450]\u001b[0m Trial 21 finished with value: 0.9333333333333333 and parameters: {'n_estimators': 160, 'min_samples_leaf': 1, 'max_depth': 37}. Best is trial 4 with value: 0.9333333333333333.\u001b[0m\n",
      "\u001b[32m[I 2023-04-20 20:16:18,565]\u001b[0m Trial 22 finished with value: 0.7692307692307693 and parameters: {'n_estimators': 190, 'min_samples_leaf': 3, 'max_depth': 35}. Best is trial 4 with value: 0.9333333333333333.\u001b[0m\n",
      "\u001b[32m[I 2023-04-20 20:16:19,468]\u001b[0m Trial 23 finished with value: 0.8571428571428571 and parameters: {'n_estimators': 150, 'min_samples_leaf': 2, 'max_depth': 39}. Best is trial 4 with value: 0.9333333333333333.\u001b[0m\n",
      "\u001b[32m[I 2023-04-20 20:16:20,263]\u001b[0m Trial 24 finished with value: 0.7692307692307693 and parameters: {'n_estimators': 130, 'min_samples_leaf': 3, 'max_depth': 34}. Best is trial 4 with value: 0.9333333333333333.\u001b[0m\n",
      "\u001b[32m[I 2023-04-20 20:16:21,407]\u001b[0m Trial 25 finished with value: 0.8571428571428571 and parameters: {'n_estimators': 190, 'min_samples_leaf': 1, 'max_depth': 37}. Best is trial 4 with value: 0.9333333333333333.\u001b[0m\n",
      "\u001b[32m[I 2023-04-20 20:16:22,377]\u001b[0m Trial 26 finished with value: 0.7692307692307693 and parameters: {'n_estimators': 170, 'min_samples_leaf': 5, 'max_depth': 31}. Best is trial 4 with value: 0.9333333333333333.\u001b[0m\n",
      "\u001b[32m[I 2023-04-20 20:16:22,966]\u001b[0m Trial 27 finished with value: 0.0 and parameters: {'n_estimators': 100, 'min_samples_leaf': 12, 'max_depth': 38}. Best is trial 4 with value: 0.9333333333333333.\u001b[0m\n",
      "\u001b[32m[I 2023-04-20 20:16:24,263]\u001b[0m Trial 28 finished with value: 0.8571428571428571 and parameters: {'n_estimators': 220, 'min_samples_leaf': 2, 'max_depth': 28}. Best is trial 4 with value: 0.9333333333333333.\u001b[0m\n",
      "\u001b[32m[I 2023-04-20 20:16:24,974]\u001b[0m Trial 29 finished with value: 0.6666666666666666 and parameters: {'n_estimators': 120, 'min_samples_leaf': 7, 'max_depth': 21}. Best is trial 4 with value: 0.9333333333333333.\u001b[0m\n",
      "\u001b[32m[I 2023-04-20 20:16:25,853]\u001b[0m Trial 30 finished with value: 0.6666666666666666 and parameters: {'n_estimators': 150, 'min_samples_leaf': 5, 'max_depth': 35}. Best is trial 4 with value: 0.9333333333333333.\u001b[0m\n",
      "\u001b[32m[I 2023-04-20 20:16:26,834]\u001b[0m Trial 31 finished with value: 0.9333333333333333 and parameters: {'n_estimators': 160, 'min_samples_leaf': 1, 'max_depth': 37}. Best is trial 4 with value: 0.9333333333333333.\u001b[0m\n",
      "\u001b[32m[I 2023-04-20 20:16:27,867]\u001b[0m Trial 32 finished with value: 0.9333333333333333 and parameters: {'n_estimators': 170, 'min_samples_leaf': 1, 'max_depth': 40}. Best is trial 4 with value: 0.9333333333333333.\u001b[0m\n",
      "\u001b[32m[I 2023-04-20 20:16:29,028]\u001b[0m Trial 33 finished with value: 0.7692307692307693 and parameters: {'n_estimators': 200, 'min_samples_leaf': 3, 'max_depth': 38}. Best is trial 4 with value: 0.9333333333333333.\u001b[0m\n",
      "\u001b[32m[I 2023-04-20 20:16:29,959]\u001b[0m Trial 34 finished with value: 0.9333333333333333 and parameters: {'n_estimators': 150, 'min_samples_leaf': 1, 'max_depth': 33}. Best is trial 4 with value: 0.9333333333333333.\u001b[0m\n",
      "\u001b[32m[I 2023-04-20 20:16:31,033]\u001b[0m Trial 35 finished with value: 0.8571428571428571 and parameters: {'n_estimators': 180, 'min_samples_leaf': 2, 'max_depth': 40}. Best is trial 4 with value: 0.9333333333333333.\u001b[0m\n",
      "\u001b[32m[I 2023-04-20 20:16:31,822]\u001b[0m Trial 36 finished with value: 0.7692307692307693 and parameters: {'n_estimators': 130, 'min_samples_leaf': 3, 'max_depth': 36}. Best is trial 4 with value: 0.9333333333333333.\u001b[0m\n",
      "\u001b[32m[I 2023-04-20 20:16:32,780]\u001b[0m Trial 37 finished with value: 0.8571428571428571 and parameters: {'n_estimators': 160, 'min_samples_leaf': 2, 'max_depth': 19}. Best is trial 4 with value: 0.9333333333333333.\u001b[0m\n",
      "\u001b[32m[I 2023-04-20 20:16:33,602]\u001b[0m Trial 38 finished with value: 0.7692307692307693 and parameters: {'n_estimators': 140, 'min_samples_leaf': 4, 'max_depth': 38}. Best is trial 4 with value: 0.9333333333333333.\u001b[0m\n",
      "\u001b[32m[I 2023-04-20 20:16:34,709]\u001b[0m Trial 39 finished with value: 0.6666666666666666 and parameters: {'n_estimators': 200, 'min_samples_leaf': 6, 'max_depth': 28}. Best is trial 4 with value: 0.9333333333333333.\u001b[0m\n",
      "\u001b[32m[I 2023-04-20 20:16:35,702]\u001b[0m Trial 40 finished with value: 0.0 and parameters: {'n_estimators': 180, 'min_samples_leaf': 13, 'max_depth': 36}. Best is trial 4 with value: 0.9333333333333333.\u001b[0m\n",
      "\u001b[32m[I 2023-04-20 20:16:36,678]\u001b[0m Trial 41 finished with value: 0.9333333333333333 and parameters: {'n_estimators': 160, 'min_samples_leaf': 1, 'max_depth': 37}. Best is trial 4 with value: 0.9333333333333333.\u001b[0m\n",
      "\u001b[32m[I 2023-04-20 20:16:37,599]\u001b[0m Trial 42 finished with value: 0.9333333333333333 and parameters: {'n_estimators': 150, 'min_samples_leaf': 1, 'max_depth': 34}. Best is trial 4 with value: 0.9333333333333333.\u001b[0m\n",
      "\u001b[32m[I 2023-04-20 20:16:38,589]\u001b[0m Trial 43 finished with value: 0.8571428571428571 and parameters: {'n_estimators': 160, 'min_samples_leaf': 2, 'max_depth': 39}. Best is trial 4 with value: 0.9333333333333333.\u001b[0m\n",
      "\u001b[32m[I 2023-04-20 20:16:39,436]\u001b[0m Trial 44 finished with value: 0.8571428571428571 and parameters: {'n_estimators': 140, 'min_samples_leaf': 2, 'max_depth': 37}. Best is trial 4 with value: 0.9333333333333333.\u001b[0m\n",
      "\u001b[32m[I 2023-04-20 20:16:40,477]\u001b[0m Trial 45 finished with value: 0.9333333333333333 and parameters: {'n_estimators': 170, 'min_samples_leaf': 1, 'max_depth': 32}. Best is trial 4 with value: 0.9333333333333333.\u001b[0m\n",
      "\u001b[32m[I 2023-04-20 20:16:41,786]\u001b[0m Trial 46 finished with value: 0.8571428571428571 and parameters: {'n_estimators': 220, 'min_samples_leaf': 1, 'max_depth': 19}. Best is trial 4 with value: 0.9333333333333333.\u001b[0m\n",
      "\u001b[32m[I 2023-04-20 20:16:42,522]\u001b[0m Trial 47 finished with value: 0.7692307692307693 and parameters: {'n_estimators': 120, 'min_samples_leaf': 3, 'max_depth': 35}. Best is trial 4 with value: 0.9333333333333333.\u001b[0m\n",
      "\u001b[32m[I 2023-04-20 20:16:43,548]\u001b[0m Trial 48 finished with value: 0.7692307692307693 and parameters: {'n_estimators': 180, 'min_samples_leaf': 4, 'max_depth': 30}. Best is trial 4 with value: 0.9333333333333333.\u001b[0m\n",
      "\u001b[32m[I 2023-04-20 20:16:45,306]\u001b[0m Trial 49 finished with value: 0.8571428571428571 and parameters: {'n_estimators': 300, 'min_samples_leaf': 2, 'max_depth': 26}. Best is trial 4 with value: 0.9333333333333333.\u001b[0m\n"
     ]
    },
    {
     "name": "stdout",
     "output_type": "stream",
     "text": [
      "Наилучшие значения гиперпараметров {'n_estimators': 160, 'min_samples_leaf': 1, 'max_depth': 21}\n",
      "f1_score на обучающем наборе: 0.93\n"
     ]
    }
   ],
   "source": [
    "%time\n",
    "\n",
    "# cоздаем объект исследования\n",
    "# можем напрямую указать, что нам необходимо максимизировать метрику direction=\"maximize\"\n",
    "study_ranFor_opt = optuna.create_study(study_name=\"RandomForestClassifier Optuna Optimization Improved\", direction=\"maximize\")\n",
    "# ищем лучшую комбинацию гиперпараметров n_trials раз\n",
    "study_ranFor_opt.optimize(optuna_optimize_improvement, n_trials=50)\n",
    "\n",
    "# выводим результаты на обучающей выборке\n",
    "print(\"Наилучшие значения гиперпараметров {}\".format(study_ranFor_opt.best_params))\n",
    "print(\"f1_score на обучающем наборе: {:.2f}\".format(study_ranFor_opt.best_value))"
   ]
  },
  {
   "attachments": {},
   "cell_type": "markdown",
   "metadata": {},
   "source": [
    "Как мы видим один из лучших вариантов имеет минимальное кол-во листьев 1. До этого мы рассматривали только диапазон [3,5,7]"
   ]
  },
  {
   "cell_type": "code",
   "execution_count": null,
   "metadata": {},
   "outputs": [
    {
     "data": {
      "text/html": [
       "<style>#sk-container-id-3 {color: black;background-color: white;}#sk-container-id-3 pre{padding: 0;}#sk-container-id-3 div.sk-toggleable {background-color: white;}#sk-container-id-3 label.sk-toggleable__label {cursor: pointer;display: block;width: 100%;margin-bottom: 0;padding: 0.3em;box-sizing: border-box;text-align: center;}#sk-container-id-3 label.sk-toggleable__label-arrow:before {content: \"▸\";float: left;margin-right: 0.25em;color: #696969;}#sk-container-id-3 label.sk-toggleable__label-arrow:hover:before {color: black;}#sk-container-id-3 div.sk-estimator:hover label.sk-toggleable__label-arrow:before {color: black;}#sk-container-id-3 div.sk-toggleable__content {max-height: 0;max-width: 0;overflow: hidden;text-align: left;background-color: #f0f8ff;}#sk-container-id-3 div.sk-toggleable__content pre {margin: 0.2em;color: black;border-radius: 0.25em;background-color: #f0f8ff;}#sk-container-id-3 input.sk-toggleable__control:checked~div.sk-toggleable__content {max-height: 200px;max-width: 100%;overflow: auto;}#sk-container-id-3 input.sk-toggleable__control:checked~label.sk-toggleable__label-arrow:before {content: \"▾\";}#sk-container-id-3 div.sk-estimator input.sk-toggleable__control:checked~label.sk-toggleable__label {background-color: #d4ebff;}#sk-container-id-3 div.sk-label input.sk-toggleable__control:checked~label.sk-toggleable__label {background-color: #d4ebff;}#sk-container-id-3 input.sk-hidden--visually {border: 0;clip: rect(1px 1px 1px 1px);clip: rect(1px, 1px, 1px, 1px);height: 1px;margin: -1px;overflow: hidden;padding: 0;position: absolute;width: 1px;}#sk-container-id-3 div.sk-estimator {font-family: monospace;background-color: #f0f8ff;border: 1px dotted black;border-radius: 0.25em;box-sizing: border-box;margin-bottom: 0.5em;}#sk-container-id-3 div.sk-estimator:hover {background-color: #d4ebff;}#sk-container-id-3 div.sk-parallel-item::after {content: \"\";width: 100%;border-bottom: 1px solid gray;flex-grow: 1;}#sk-container-id-3 div.sk-label:hover label.sk-toggleable__label {background-color: #d4ebff;}#sk-container-id-3 div.sk-serial::before {content: \"\";position: absolute;border-left: 1px solid gray;box-sizing: border-box;top: 0;bottom: 0;left: 50%;z-index: 0;}#sk-container-id-3 div.sk-serial {display: flex;flex-direction: column;align-items: center;background-color: white;padding-right: 0.2em;padding-left: 0.2em;position: relative;}#sk-container-id-3 div.sk-item {position: relative;z-index: 1;}#sk-container-id-3 div.sk-parallel {display: flex;align-items: stretch;justify-content: center;background-color: white;position: relative;}#sk-container-id-3 div.sk-item::before, #sk-container-id-3 div.sk-parallel-item::before {content: \"\";position: absolute;border-left: 1px solid gray;box-sizing: border-box;top: 0;bottom: 0;left: 50%;z-index: -1;}#sk-container-id-3 div.sk-parallel-item {display: flex;flex-direction: column;z-index: 1;position: relative;background-color: white;}#sk-container-id-3 div.sk-parallel-item:first-child::after {align-self: flex-end;width: 50%;}#sk-container-id-3 div.sk-parallel-item:last-child::after {align-self: flex-start;width: 50%;}#sk-container-id-3 div.sk-parallel-item:only-child::after {width: 0;}#sk-container-id-3 div.sk-dashed-wrapped {border: 1px dashed gray;margin: 0 0.4em 0.5em 0.4em;box-sizing: border-box;padding-bottom: 0.4em;background-color: white;}#sk-container-id-3 div.sk-label label {font-family: monospace;font-weight: bold;display: inline-block;line-height: 1.2em;}#sk-container-id-3 div.sk-label-container {text-align: center;}#sk-container-id-3 div.sk-container {/* jupyter's `normalize.less` sets `[hidden] { display: none; }` but bootstrap.min.css set `[hidden] { display: none !important; }` so we also need the `!important` here to be able to override the default hidden behavior on the sphinx rendered scikit-learn.org. See: https://github.com/scikit-learn/scikit-learn/issues/21755 */display: inline-block !important;position: relative;}#sk-container-id-3 div.sk-text-repr-fallback {display: none;}</style><div id=\"sk-container-id-3\" class=\"sk-top-container\"><div class=\"sk-text-repr-fallback\"><pre>RandomForestClassifier(max_depth=21, n_estimators=160, random_state=42)</pre><b>In a Jupyter environment, please rerun this cell to show the HTML representation or trust the notebook. <br />On GitHub, the HTML representation is unable to render, please try loading this page with nbviewer.org.</b></div><div class=\"sk-container\" hidden><div class=\"sk-item\"><div class=\"sk-estimator sk-toggleable\"><input class=\"sk-toggleable__control sk-hidden--visually\" id=\"sk-estimator-id-3\" type=\"checkbox\" checked><label for=\"sk-estimator-id-3\" class=\"sk-toggleable__label sk-toggleable__label-arrow\">RandomForestClassifier</label><div class=\"sk-toggleable__content\"><pre>RandomForestClassifier(max_depth=21, n_estimators=160, random_state=42)</pre></div></div></div></div></div>"
      ],
      "text/plain": [
       "RandomForestClassifier(max_depth=21, n_estimators=160, random_state=42)"
      ]
     },
     "execution_count": 52,
     "metadata": {},
     "output_type": "execute_result"
    }
   ],
   "source": [
    "# рассчитаем точность для тестовой выборки\n",
    "model = ensemble.RandomForestClassifier(**study_ranFor_opt.best_params,random_state=RANDOM_STATE, )\n",
    "model.fit(X_train, y_train)"
   ]
  },
  {
   "cell_type": "code",
   "execution_count": null,
   "metadata": {},
   "outputs": [
    {
     "name": "stdout",
     "output_type": "stream",
     "text": [
      "\u001b[94mf1_score на тренировочном наборе: \u001b[92m1.000\u001b[39m\n",
      "\u001b[94mf1_score на тестовом наборе: \u001b[92m0.933\u001b[39m\n"
     ]
    }
   ],
   "source": [
    "y_train_pred = model.predict(X_train)\n",
    "metrics_train = metrics.f1_score(y_train, y_train_pred).round(6)\n",
    "print(f\"{Fore.LIGHTBLUE_EX}f1_score на тренировочном наборе: {Fore.LIGHTGREEN_EX}{metrics_train:.3f}{Fore.RESET}\")\n",
    "y_test_pred = model.predict(X_test)\n",
    "metrics_test = metrics.f1_score(y_test, y_test_pred).round(6)\n",
    "print(f\"{Fore.LIGHTBLUE_EX}f1_score на тестовом наборе: {Fore.LIGHTGREEN_EX}{metrics_test:.3f}{Fore.RESET}\")\n"
   ]
  },
  {
   "cell_type": "code",
   "execution_count": null,
   "metadata": {},
   "outputs": [],
   "source": [
    "f1_score_results.append({'result_train': metrics_train,\n",
    "                           'result_test': metrics_test,\n",
    "                          'method': 'RandomForestClassifier Optuna Optimization Improved'})"
   ]
  },
  {
   "attachments": {},
   "cell_type": "markdown",
   "metadata": {},
   "source": [
    "Посмотрим еще раз на результаты\n",
    "Как видно, путем \"разумной\" оптимизации гиперпараметров, мы получили ТОП 1 результат по f1_score метрике для RandomForestClassifier"
   ]
  },
  {
   "cell_type": "code",
   "execution_count": null,
   "metadata": {},
   "outputs": [
    {
     "data": {
      "text/html": [
       "<style type=\"text/css\">\n",
       "#T_aece7_row0_col0, #T_aece7_row1_col0, #T_aece7_row2_col0, #T_aece7_row3_col0, #T_aece7_row4_col0, #T_aece7_row5_col0, #T_aece7_row6_col0, #T_aece7_row7_col0, #T_aece7_row8_col0, #T_aece7_row9_col0 {\n",
       "  background-color: #42a6cc;\n",
       "  color: #f1f1f1;\n",
       "}\n",
       "#T_aece7_row0_col1, #T_aece7_row1_col1 {\n",
       "  background-color: #6bc3c9;\n",
       "  color: #000000;\n",
       "}\n",
       "#T_aece7_row2_col1, #T_aece7_row3_col1, #T_aece7_row4_col1 {\n",
       "  background-color: #92d5bc;\n",
       "  color: #000000;\n",
       "}\n",
       "#T_aece7_row5_col1, #T_aece7_row6_col1 {\n",
       "  background-color: #9fdab8;\n",
       "  color: #000000;\n",
       "}\n",
       "#T_aece7_row7_col1, #T_aece7_row8_col1, #T_aece7_row9_col1 {\n",
       "  background-color: #b2e1b9;\n",
       "  color: #000000;\n",
       "}\n",
       "#T_aece7_row10_col0, #T_aece7_row11_col0, #T_aece7_row12_col0, #T_aece7_row13_col0, #T_aece7_row14_col0 {\n",
       "  background-color: #4aafd1;\n",
       "  color: #f1f1f1;\n",
       "}\n",
       "#T_aece7_row10_col1, #T_aece7_row11_col1, #T_aece7_row12_col1, #T_aece7_row13_col1, #T_aece7_row14_col1 {\n",
       "  background-color: #ceecc7;\n",
       "  color: #000000;\n",
       "}\n",
       "</style>\n",
       "<table id=\"T_aece7\">\n",
       "  <thead>\n",
       "    <tr>\n",
       "      <th class=\"blank level0\" >&nbsp;</th>\n",
       "      <th id=\"T_aece7_level0_col0\" class=\"col_heading level0 col0\" >result_train</th>\n",
       "      <th id=\"T_aece7_level0_col1\" class=\"col_heading level0 col1\" >result_test</th>\n",
       "    </tr>\n",
       "    <tr>\n",
       "      <th class=\"index_name level0\" >method</th>\n",
       "      <th class=\"blank col0\" >&nbsp;</th>\n",
       "      <th class=\"blank col1\" >&nbsp;</th>\n",
       "    </tr>\n",
       "  </thead>\n",
       "  <tbody>\n",
       "    <tr>\n",
       "      <th id=\"T_aece7_level0_row0\" class=\"row_heading level0 row0\" >LogisticRegression Hyperopt Optimization</th>\n",
       "      <td id=\"T_aece7_row0_col0\" class=\"data row0 col0\" >1.000000</td>\n",
       "      <td id=\"T_aece7_row0_col1\" class=\"data row0 col1\" >0.933333</td>\n",
       "    </tr>\n",
       "    <tr>\n",
       "      <th id=\"T_aece7_level0_row1\" class=\"row_heading level0 row1\" >RandomForestClassifier Optuna Optimization Improved</th>\n",
       "      <td id=\"T_aece7_row1_col0\" class=\"data row1 col0\" >1.000000</td>\n",
       "      <td id=\"T_aece7_row1_col1\" class=\"data row1 col1\" >0.933333</td>\n",
       "    </tr>\n",
       "    <tr>\n",
       "      <th id=\"T_aece7_level0_row2\" class=\"row_heading level0 row2\" >LogisticRegression RandomSearch Optimization</th>\n",
       "      <td id=\"T_aece7_row2_col0\" class=\"data row2 col0\" >1.000000</td>\n",
       "      <td id=\"T_aece7_row2_col1\" class=\"data row2 col1\" >0.875000</td>\n",
       "    </tr>\n",
       "    <tr>\n",
       "      <th id=\"T_aece7_level0_row3\" class=\"row_heading level0 row3\" >LogisticRegression Hyperopt Optimization with Cross Validation</th>\n",
       "      <td id=\"T_aece7_row3_col0\" class=\"data row3 col0\" >1.000000</td>\n",
       "      <td id=\"T_aece7_row3_col1\" class=\"data row3 col1\" >0.875000</td>\n",
       "    </tr>\n",
       "    <tr>\n",
       "      <th id=\"T_aece7_level0_row4\" class=\"row_heading level0 row4\" >LogisticRegression Optuna Optimization with Cross Validation</th>\n",
       "      <td id=\"T_aece7_row4_col0\" class=\"data row4 col0\" >1.000000</td>\n",
       "      <td id=\"T_aece7_row4_col1\" class=\"data row4 col1\" >0.875000</td>\n",
       "    </tr>\n",
       "    <tr>\n",
       "      <th id=\"T_aece7_level0_row5\" class=\"row_heading level0 row5\" >RandomForestClassifier native</th>\n",
       "      <td id=\"T_aece7_row5_col0\" class=\"data row5 col0\" >1.000000</td>\n",
       "      <td id=\"T_aece7_row5_col1\" class=\"data row5 col1\" >0.857143</td>\n",
       "    </tr>\n",
       "    <tr>\n",
       "      <th id=\"T_aece7_level0_row6\" class=\"row_heading level0 row6\" >RandomForestClassifier Hyperopt Optimization</th>\n",
       "      <td id=\"T_aece7_row6_col0\" class=\"data row6 col0\" >1.000000</td>\n",
       "      <td id=\"T_aece7_row6_col1\" class=\"data row6 col1\" >0.857143</td>\n",
       "    </tr>\n",
       "    <tr>\n",
       "      <th id=\"T_aece7_level0_row7\" class=\"row_heading level0 row7\" >LogisticRegression native</th>\n",
       "      <td id=\"T_aece7_row7_col0\" class=\"data row7 col0\" >1.000000</td>\n",
       "      <td id=\"T_aece7_row7_col1\" class=\"data row7 col1\" >0.823529</td>\n",
       "    </tr>\n",
       "    <tr>\n",
       "      <th id=\"T_aece7_level0_row8\" class=\"row_heading level0 row8\" >LogisticRegression GridSearch Optimization</th>\n",
       "      <td id=\"T_aece7_row8_col0\" class=\"data row8 col0\" >1.000000</td>\n",
       "      <td id=\"T_aece7_row8_col1\" class=\"data row8 col1\" >0.823529</td>\n",
       "    </tr>\n",
       "    <tr>\n",
       "      <th id=\"T_aece7_level0_row9\" class=\"row_heading level0 row9\" >LogisticRegression Optuna Optimization</th>\n",
       "      <td id=\"T_aece7_row9_col0\" class=\"data row9 col0\" >1.000000</td>\n",
       "      <td id=\"T_aece7_row9_col1\" class=\"data row9 col1\" >0.823529</td>\n",
       "    </tr>\n",
       "    <tr>\n",
       "      <th id=\"T_aece7_level0_row10\" class=\"row_heading level0 row10\" >RandomForestClassifier GridSearch Optimization</th>\n",
       "      <td id=\"T_aece7_row10_col0\" class=\"data row10 col0\" >0.985075</td>\n",
       "      <td id=\"T_aece7_row10_col1\" class=\"data row10 col1\" >0.769231</td>\n",
       "    </tr>\n",
       "    <tr>\n",
       "      <th id=\"T_aece7_level0_row11\" class=\"row_heading level0 row11\" >RandomForestClassifier RandomSearch Optimization</th>\n",
       "      <td id=\"T_aece7_row11_col0\" class=\"data row11 col0\" >0.985075</td>\n",
       "      <td id=\"T_aece7_row11_col1\" class=\"data row11 col1\" >0.769231</td>\n",
       "    </tr>\n",
       "    <tr>\n",
       "      <th id=\"T_aece7_level0_row12\" class=\"row_heading level0 row12\" >RandomForestClassifier Hyperopt Optimization with Crossvalidation</th>\n",
       "      <td id=\"T_aece7_row12_col0\" class=\"data row12 col0\" >0.985075</td>\n",
       "      <td id=\"T_aece7_row12_col1\" class=\"data row12 col1\" >0.769231</td>\n",
       "    </tr>\n",
       "    <tr>\n",
       "      <th id=\"T_aece7_level0_row13\" class=\"row_heading level0 row13\" >RandomForestClassifier Optuna Optimization</th>\n",
       "      <td id=\"T_aece7_row13_col0\" class=\"data row13 col0\" >0.985075</td>\n",
       "      <td id=\"T_aece7_row13_col1\" class=\"data row13 col1\" >0.769231</td>\n",
       "    </tr>\n",
       "    <tr>\n",
       "      <th id=\"T_aece7_level0_row14\" class=\"row_heading level0 row14\" >RandomForestClassifier Optuna Optimization with Cross Validation</th>\n",
       "      <td id=\"T_aece7_row14_col0\" class=\"data row14 col0\" >0.985075</td>\n",
       "      <td id=\"T_aece7_row14_col1\" class=\"data row14 col1\" >0.769231</td>\n",
       "    </tr>\n",
       "  </tbody>\n",
       "</table>\n"
      ],
      "text/plain": [
       "<pandas.io.formats.style.Styler at 0x16a99275c10>"
      ]
     },
     "metadata": {},
     "output_type": "display_data"
    }
   ],
   "source": [
    "resultf1ScoreData = pd.DataFrame(f1_score_results).set_index('method').sort_values(by='result_test',ascending=False)\n",
    "\n",
    "display(resultf1ScoreData.\\\n",
    "        style.background_gradient(\\\n",
    "        axis=0, cmap='GnBu',\n",
    "        low = 0.8,\n",
    "        high=0.9,\n",
    "        vmin = 0.8,\n",
    "        vmax = 1))"
   ]
  },
  {
   "attachments": {},
   "cell_type": "markdown",
   "metadata": {},
   "source": [
    "И напоследок графики\n",
    "\n",
    "* Как видно, максимального f1_score мы уже добились примерно на 5-6 иттерации\n",
    "* Важность минимального кол-ва листьев выросла аж до 99%\n",
    "* Четко проглядывается, что f1_score улучшается при уменьшении листьев до 1-2 и увеличением глубины дерева. Ярко выраженные две области в правом нижнем углу на последнем графике\n",
    "\n",
    "Так что можно смело заявить, оптимизация гиперпараметров может достаточно сильно улучшить качество модели, при правильном использовании"
   ]
  },
  {
   "cell_type": "code",
   "execution_count": null,
   "metadata": {},
   "outputs": [
    {
     "data": {
      "application/vnd.plotly.v1+json": {
       "config": {
        "plotlyServerURL": "https://plot.ly"
       },
       "data": [
        {
         "mode": "markers",
         "name": "f1_score",
         "type": "scatter",
         "x": [
          0,
          1,
          2,
          3,
          4,
          5,
          6,
          7,
          8,
          9,
          10,
          11,
          12,
          13,
          14,
          15,
          16,
          17,
          18,
          19,
          20,
          21,
          22,
          23,
          24,
          25,
          26,
          27,
          28,
          29,
          30,
          31,
          32,
          33,
          34,
          35,
          36,
          37,
          38,
          39,
          40,
          41,
          42,
          43,
          44,
          45,
          46,
          47,
          48,
          49
         ],
         "y": [
          0.6666666666666666,
          0.8571428571428571,
          0.8571428571428571,
          0,
          0.9333333333333333,
          0.6666666666666666,
          0.7692307692307693,
          0.8571428571428571,
          0.6666666666666666,
          0,
          0.2222222222222222,
          0.9333333333333333,
          0.7692307692307693,
          0.5454545454545454,
          0.7692307692307693,
          0.8571428571428571,
          0.5454545454545454,
          0.6666666666666666,
          0.7692307692307693,
          0.9333333333333333,
          0.5454545454545454,
          0.9333333333333333,
          0.7692307692307693,
          0.8571428571428571,
          0.7692307692307693,
          0.8571428571428571,
          0.7692307692307693,
          0,
          0.8571428571428571,
          0.6666666666666666,
          0.6666666666666666,
          0.9333333333333333,
          0.9333333333333333,
          0.7692307692307693,
          0.9333333333333333,
          0.8571428571428571,
          0.7692307692307693,
          0.8571428571428571,
          0.7692307692307693,
          0.6666666666666666,
          0,
          0.9333333333333333,
          0.9333333333333333,
          0.8571428571428571,
          0.8571428571428571,
          0.9333333333333333,
          0.8571428571428571,
          0.7692307692307693,
          0.7692307692307693,
          0.8571428571428571
         ]
        },
        {
         "name": "Best Value",
         "type": "scatter",
         "x": [
          0,
          1,
          2,
          3,
          4,
          5,
          6,
          7,
          8,
          9,
          10,
          11,
          12,
          13,
          14,
          15,
          16,
          17,
          18,
          19,
          20,
          21,
          22,
          23,
          24,
          25,
          26,
          27,
          28,
          29,
          30,
          31,
          32,
          33,
          34,
          35,
          36,
          37,
          38,
          39,
          40,
          41,
          42,
          43,
          44,
          45,
          46,
          47,
          48,
          49
         ],
         "y": [
          0.6666666666666666,
          0.8571428571428571,
          0.8571428571428571,
          0.8571428571428571,
          0.9333333333333333,
          0.9333333333333333,
          0.9333333333333333,
          0.9333333333333333,
          0.9333333333333333,
          0.9333333333333333,
          0.9333333333333333,
          0.9333333333333333,
          0.9333333333333333,
          0.9333333333333333,
          0.9333333333333333,
          0.9333333333333333,
          0.9333333333333333,
          0.9333333333333333,
          0.9333333333333333,
          0.9333333333333333,
          0.9333333333333333,
          0.9333333333333333,
          0.9333333333333333,
          0.9333333333333333,
          0.9333333333333333,
          0.9333333333333333,
          0.9333333333333333,
          0.9333333333333333,
          0.9333333333333333,
          0.9333333333333333,
          0.9333333333333333,
          0.9333333333333333,
          0.9333333333333333,
          0.9333333333333333,
          0.9333333333333333,
          0.9333333333333333,
          0.9333333333333333,
          0.9333333333333333,
          0.9333333333333333,
          0.9333333333333333,
          0.9333333333333333,
          0.9333333333333333,
          0.9333333333333333,
          0.9333333333333333,
          0.9333333333333333,
          0.9333333333333333,
          0.9333333333333333,
          0.9333333333333333,
          0.9333333333333333,
          0.9333333333333333
         ]
        }
       ],
       "layout": {
        "template": {
         "data": {
          "bar": [
           {
            "error_x": {
             "color": "#2a3f5f"
            },
            "error_y": {
             "color": "#2a3f5f"
            },
            "marker": {
             "line": {
              "color": "#E5ECF6",
              "width": 0.5
             },
             "pattern": {
              "fillmode": "overlay",
              "size": 10,
              "solidity": 0.2
             }
            },
            "type": "bar"
           }
          ],
          "barpolar": [
           {
            "marker": {
             "line": {
              "color": "#E5ECF6",
              "width": 0.5
             },
             "pattern": {
              "fillmode": "overlay",
              "size": 10,
              "solidity": 0.2
             }
            },
            "type": "barpolar"
           }
          ],
          "carpet": [
           {
            "aaxis": {
             "endlinecolor": "#2a3f5f",
             "gridcolor": "white",
             "linecolor": "white",
             "minorgridcolor": "white",
             "startlinecolor": "#2a3f5f"
            },
            "baxis": {
             "endlinecolor": "#2a3f5f",
             "gridcolor": "white",
             "linecolor": "white",
             "minorgridcolor": "white",
             "startlinecolor": "#2a3f5f"
            },
            "type": "carpet"
           }
          ],
          "choropleth": [
           {
            "colorbar": {
             "outlinewidth": 0,
             "ticks": ""
            },
            "type": "choropleth"
           }
          ],
          "contour": [
           {
            "colorbar": {
             "outlinewidth": 0,
             "ticks": ""
            },
            "colorscale": [
             [
              0,
              "#0d0887"
             ],
             [
              0.1111111111111111,
              "#46039f"
             ],
             [
              0.2222222222222222,
              "#7201a8"
             ],
             [
              0.3333333333333333,
              "#9c179e"
             ],
             [
              0.4444444444444444,
              "#bd3786"
             ],
             [
              0.5555555555555556,
              "#d8576b"
             ],
             [
              0.6666666666666666,
              "#ed7953"
             ],
             [
              0.7777777777777778,
              "#fb9f3a"
             ],
             [
              0.8888888888888888,
              "#fdca26"
             ],
             [
              1,
              "#f0f921"
             ]
            ],
            "type": "contour"
           }
          ],
          "contourcarpet": [
           {
            "colorbar": {
             "outlinewidth": 0,
             "ticks": ""
            },
            "type": "contourcarpet"
           }
          ],
          "heatmap": [
           {
            "colorbar": {
             "outlinewidth": 0,
             "ticks": ""
            },
            "colorscale": [
             [
              0,
              "#0d0887"
             ],
             [
              0.1111111111111111,
              "#46039f"
             ],
             [
              0.2222222222222222,
              "#7201a8"
             ],
             [
              0.3333333333333333,
              "#9c179e"
             ],
             [
              0.4444444444444444,
              "#bd3786"
             ],
             [
              0.5555555555555556,
              "#d8576b"
             ],
             [
              0.6666666666666666,
              "#ed7953"
             ],
             [
              0.7777777777777778,
              "#fb9f3a"
             ],
             [
              0.8888888888888888,
              "#fdca26"
             ],
             [
              1,
              "#f0f921"
             ]
            ],
            "type": "heatmap"
           }
          ],
          "heatmapgl": [
           {
            "colorbar": {
             "outlinewidth": 0,
             "ticks": ""
            },
            "colorscale": [
             [
              0,
              "#0d0887"
             ],
             [
              0.1111111111111111,
              "#46039f"
             ],
             [
              0.2222222222222222,
              "#7201a8"
             ],
             [
              0.3333333333333333,
              "#9c179e"
             ],
             [
              0.4444444444444444,
              "#bd3786"
             ],
             [
              0.5555555555555556,
              "#d8576b"
             ],
             [
              0.6666666666666666,
              "#ed7953"
             ],
             [
              0.7777777777777778,
              "#fb9f3a"
             ],
             [
              0.8888888888888888,
              "#fdca26"
             ],
             [
              1,
              "#f0f921"
             ]
            ],
            "type": "heatmapgl"
           }
          ],
          "histogram": [
           {
            "marker": {
             "pattern": {
              "fillmode": "overlay",
              "size": 10,
              "solidity": 0.2
             }
            },
            "type": "histogram"
           }
          ],
          "histogram2d": [
           {
            "colorbar": {
             "outlinewidth": 0,
             "ticks": ""
            },
            "colorscale": [
             [
              0,
              "#0d0887"
             ],
             [
              0.1111111111111111,
              "#46039f"
             ],
             [
              0.2222222222222222,
              "#7201a8"
             ],
             [
              0.3333333333333333,
              "#9c179e"
             ],
             [
              0.4444444444444444,
              "#bd3786"
             ],
             [
              0.5555555555555556,
              "#d8576b"
             ],
             [
              0.6666666666666666,
              "#ed7953"
             ],
             [
              0.7777777777777778,
              "#fb9f3a"
             ],
             [
              0.8888888888888888,
              "#fdca26"
             ],
             [
              1,
              "#f0f921"
             ]
            ],
            "type": "histogram2d"
           }
          ],
          "histogram2dcontour": [
           {
            "colorbar": {
             "outlinewidth": 0,
             "ticks": ""
            },
            "colorscale": [
             [
              0,
              "#0d0887"
             ],
             [
              0.1111111111111111,
              "#46039f"
             ],
             [
              0.2222222222222222,
              "#7201a8"
             ],
             [
              0.3333333333333333,
              "#9c179e"
             ],
             [
              0.4444444444444444,
              "#bd3786"
             ],
             [
              0.5555555555555556,
              "#d8576b"
             ],
             [
              0.6666666666666666,
              "#ed7953"
             ],
             [
              0.7777777777777778,
              "#fb9f3a"
             ],
             [
              0.8888888888888888,
              "#fdca26"
             ],
             [
              1,
              "#f0f921"
             ]
            ],
            "type": "histogram2dcontour"
           }
          ],
          "mesh3d": [
           {
            "colorbar": {
             "outlinewidth": 0,
             "ticks": ""
            },
            "type": "mesh3d"
           }
          ],
          "parcoords": [
           {
            "line": {
             "colorbar": {
              "outlinewidth": 0,
              "ticks": ""
             }
            },
            "type": "parcoords"
           }
          ],
          "pie": [
           {
            "automargin": true,
            "type": "pie"
           }
          ],
          "scatter": [
           {
            "fillpattern": {
             "fillmode": "overlay",
             "size": 10,
             "solidity": 0.2
            },
            "type": "scatter"
           }
          ],
          "scatter3d": [
           {
            "line": {
             "colorbar": {
              "outlinewidth": 0,
              "ticks": ""
             }
            },
            "marker": {
             "colorbar": {
              "outlinewidth": 0,
              "ticks": ""
             }
            },
            "type": "scatter3d"
           }
          ],
          "scattercarpet": [
           {
            "marker": {
             "colorbar": {
              "outlinewidth": 0,
              "ticks": ""
             }
            },
            "type": "scattercarpet"
           }
          ],
          "scattergeo": [
           {
            "marker": {
             "colorbar": {
              "outlinewidth": 0,
              "ticks": ""
             }
            },
            "type": "scattergeo"
           }
          ],
          "scattergl": [
           {
            "marker": {
             "colorbar": {
              "outlinewidth": 0,
              "ticks": ""
             }
            },
            "type": "scattergl"
           }
          ],
          "scattermapbox": [
           {
            "marker": {
             "colorbar": {
              "outlinewidth": 0,
              "ticks": ""
             }
            },
            "type": "scattermapbox"
           }
          ],
          "scatterpolar": [
           {
            "marker": {
             "colorbar": {
              "outlinewidth": 0,
              "ticks": ""
             }
            },
            "type": "scatterpolar"
           }
          ],
          "scatterpolargl": [
           {
            "marker": {
             "colorbar": {
              "outlinewidth": 0,
              "ticks": ""
             }
            },
            "type": "scatterpolargl"
           }
          ],
          "scatterternary": [
           {
            "marker": {
             "colorbar": {
              "outlinewidth": 0,
              "ticks": ""
             }
            },
            "type": "scatterternary"
           }
          ],
          "surface": [
           {
            "colorbar": {
             "outlinewidth": 0,
             "ticks": ""
            },
            "colorscale": [
             [
              0,
              "#0d0887"
             ],
             [
              0.1111111111111111,
              "#46039f"
             ],
             [
              0.2222222222222222,
              "#7201a8"
             ],
             [
              0.3333333333333333,
              "#9c179e"
             ],
             [
              0.4444444444444444,
              "#bd3786"
             ],
             [
              0.5555555555555556,
              "#d8576b"
             ],
             [
              0.6666666666666666,
              "#ed7953"
             ],
             [
              0.7777777777777778,
              "#fb9f3a"
             ],
             [
              0.8888888888888888,
              "#fdca26"
             ],
             [
              1,
              "#f0f921"
             ]
            ],
            "type": "surface"
           }
          ],
          "table": [
           {
            "cells": {
             "fill": {
              "color": "#EBF0F8"
             },
             "line": {
              "color": "white"
             }
            },
            "header": {
             "fill": {
              "color": "#C8D4E3"
             },
             "line": {
              "color": "white"
             }
            },
            "type": "table"
           }
          ]
         },
         "layout": {
          "annotationdefaults": {
           "arrowcolor": "#2a3f5f",
           "arrowhead": 0,
           "arrowwidth": 1
          },
          "autotypenumbers": "strict",
          "coloraxis": {
           "colorbar": {
            "outlinewidth": 0,
            "ticks": ""
           }
          },
          "colorscale": {
           "diverging": [
            [
             0,
             "#8e0152"
            ],
            [
             0.1,
             "#c51b7d"
            ],
            [
             0.2,
             "#de77ae"
            ],
            [
             0.3,
             "#f1b6da"
            ],
            [
             0.4,
             "#fde0ef"
            ],
            [
             0.5,
             "#f7f7f7"
            ],
            [
             0.6,
             "#e6f5d0"
            ],
            [
             0.7,
             "#b8e186"
            ],
            [
             0.8,
             "#7fbc41"
            ],
            [
             0.9,
             "#4d9221"
            ],
            [
             1,
             "#276419"
            ]
           ],
           "sequential": [
            [
             0,
             "#0d0887"
            ],
            [
             0.1111111111111111,
             "#46039f"
            ],
            [
             0.2222222222222222,
             "#7201a8"
            ],
            [
             0.3333333333333333,
             "#9c179e"
            ],
            [
             0.4444444444444444,
             "#bd3786"
            ],
            [
             0.5555555555555556,
             "#d8576b"
            ],
            [
             0.6666666666666666,
             "#ed7953"
            ],
            [
             0.7777777777777778,
             "#fb9f3a"
            ],
            [
             0.8888888888888888,
             "#fdca26"
            ],
            [
             1,
             "#f0f921"
            ]
           ],
           "sequentialminus": [
            [
             0,
             "#0d0887"
            ],
            [
             0.1111111111111111,
             "#46039f"
            ],
            [
             0.2222222222222222,
             "#7201a8"
            ],
            [
             0.3333333333333333,
             "#9c179e"
            ],
            [
             0.4444444444444444,
             "#bd3786"
            ],
            [
             0.5555555555555556,
             "#d8576b"
            ],
            [
             0.6666666666666666,
             "#ed7953"
            ],
            [
             0.7777777777777778,
             "#fb9f3a"
            ],
            [
             0.8888888888888888,
             "#fdca26"
            ],
            [
             1,
             "#f0f921"
            ]
           ]
          },
          "colorway": [
           "#636efa",
           "#EF553B",
           "#00cc96",
           "#ab63fa",
           "#FFA15A",
           "#19d3f3",
           "#FF6692",
           "#B6E880",
           "#FF97FF",
           "#FECB52"
          ],
          "font": {
           "color": "#2a3f5f"
          },
          "geo": {
           "bgcolor": "white",
           "lakecolor": "white",
           "landcolor": "#E5ECF6",
           "showlakes": true,
           "showland": true,
           "subunitcolor": "white"
          },
          "hoverlabel": {
           "align": "left"
          },
          "hovermode": "closest",
          "mapbox": {
           "style": "light"
          },
          "paper_bgcolor": "white",
          "plot_bgcolor": "#E5ECF6",
          "polar": {
           "angularaxis": {
            "gridcolor": "white",
            "linecolor": "white",
            "ticks": ""
           },
           "bgcolor": "#E5ECF6",
           "radialaxis": {
            "gridcolor": "white",
            "linecolor": "white",
            "ticks": ""
           }
          },
          "scene": {
           "xaxis": {
            "backgroundcolor": "#E5ECF6",
            "gridcolor": "white",
            "gridwidth": 2,
            "linecolor": "white",
            "showbackground": true,
            "ticks": "",
            "zerolinecolor": "white"
           },
           "yaxis": {
            "backgroundcolor": "#E5ECF6",
            "gridcolor": "white",
            "gridwidth": 2,
            "linecolor": "white",
            "showbackground": true,
            "ticks": "",
            "zerolinecolor": "white"
           },
           "zaxis": {
            "backgroundcolor": "#E5ECF6",
            "gridcolor": "white",
            "gridwidth": 2,
            "linecolor": "white",
            "showbackground": true,
            "ticks": "",
            "zerolinecolor": "white"
           }
          },
          "shapedefaults": {
           "line": {
            "color": "#2a3f5f"
           }
          },
          "ternary": {
           "aaxis": {
            "gridcolor": "white",
            "linecolor": "white",
            "ticks": ""
           },
           "baxis": {
            "gridcolor": "white",
            "linecolor": "white",
            "ticks": ""
           },
           "bgcolor": "#E5ECF6",
           "caxis": {
            "gridcolor": "white",
            "linecolor": "white",
            "ticks": ""
           }
          },
          "title": {
           "x": 0.05
          },
          "xaxis": {
           "automargin": true,
           "gridcolor": "white",
           "linecolor": "white",
           "ticks": "",
           "title": {
            "standoff": 15
           },
           "zerolinecolor": "white",
           "zerolinewidth": 2
          },
          "yaxis": {
           "automargin": true,
           "gridcolor": "white",
           "linecolor": "white",
           "ticks": "",
           "title": {
            "standoff": 15
           },
           "zerolinecolor": "white",
           "zerolinewidth": 2
          }
         }
        },
        "title": {
         "text": "Optimization History Plot"
        },
        "xaxis": {
         "title": {
          "text": "Trial"
         }
        },
        "yaxis": {
         "title": {
          "text": "f1_score"
         }
        }
       }
      }
     },
     "metadata": {},
     "output_type": "display_data"
    }
   ],
   "source": [
    "optuna.visualization.plot_optimization_history(study_ranFor_opt, target_name=\"f1_score\")"
   ]
  },
  {
   "cell_type": "code",
   "execution_count": null,
   "metadata": {},
   "outputs": [
    {
     "data": {
      "application/vnd.plotly.v1+json": {
       "config": {
        "plotlyServerURL": "https://plot.ly"
       },
       "data": [
        {
         "cliponaxis": false,
         "hovertemplate": [
          "n_estimators (IntDistribution): 0.0013644083068830122<extra></extra>",
          "max_depth (IntDistribution): 0.010845594094825462<extra></extra>",
          "min_samples_leaf (IntDistribution): 0.9877899975982916<extra></extra>"
         ],
         "marker": {
          "color": "rgb(66,146,198)"
         },
         "orientation": "h",
         "text": [
          "<0.01",
          "0.01",
          "0.99"
         ],
         "textposition": "outside",
         "type": "bar",
         "x": [
          0.0013644083068830122,
          0.010845594094825462,
          0.9877899975982916
         ],
         "y": [
          "n_estimators",
          "max_depth",
          "min_samples_leaf"
         ]
        }
       ],
       "layout": {
        "showlegend": false,
        "template": {
         "data": {
          "bar": [
           {
            "error_x": {
             "color": "#2a3f5f"
            },
            "error_y": {
             "color": "#2a3f5f"
            },
            "marker": {
             "line": {
              "color": "#E5ECF6",
              "width": 0.5
             },
             "pattern": {
              "fillmode": "overlay",
              "size": 10,
              "solidity": 0.2
             }
            },
            "type": "bar"
           }
          ],
          "barpolar": [
           {
            "marker": {
             "line": {
              "color": "#E5ECF6",
              "width": 0.5
             },
             "pattern": {
              "fillmode": "overlay",
              "size": 10,
              "solidity": 0.2
             }
            },
            "type": "barpolar"
           }
          ],
          "carpet": [
           {
            "aaxis": {
             "endlinecolor": "#2a3f5f",
             "gridcolor": "white",
             "linecolor": "white",
             "minorgridcolor": "white",
             "startlinecolor": "#2a3f5f"
            },
            "baxis": {
             "endlinecolor": "#2a3f5f",
             "gridcolor": "white",
             "linecolor": "white",
             "minorgridcolor": "white",
             "startlinecolor": "#2a3f5f"
            },
            "type": "carpet"
           }
          ],
          "choropleth": [
           {
            "colorbar": {
             "outlinewidth": 0,
             "ticks": ""
            },
            "type": "choropleth"
           }
          ],
          "contour": [
           {
            "colorbar": {
             "outlinewidth": 0,
             "ticks": ""
            },
            "colorscale": [
             [
              0,
              "#0d0887"
             ],
             [
              0.1111111111111111,
              "#46039f"
             ],
             [
              0.2222222222222222,
              "#7201a8"
             ],
             [
              0.3333333333333333,
              "#9c179e"
             ],
             [
              0.4444444444444444,
              "#bd3786"
             ],
             [
              0.5555555555555556,
              "#d8576b"
             ],
             [
              0.6666666666666666,
              "#ed7953"
             ],
             [
              0.7777777777777778,
              "#fb9f3a"
             ],
             [
              0.8888888888888888,
              "#fdca26"
             ],
             [
              1,
              "#f0f921"
             ]
            ],
            "type": "contour"
           }
          ],
          "contourcarpet": [
           {
            "colorbar": {
             "outlinewidth": 0,
             "ticks": ""
            },
            "type": "contourcarpet"
           }
          ],
          "heatmap": [
           {
            "colorbar": {
             "outlinewidth": 0,
             "ticks": ""
            },
            "colorscale": [
             [
              0,
              "#0d0887"
             ],
             [
              0.1111111111111111,
              "#46039f"
             ],
             [
              0.2222222222222222,
              "#7201a8"
             ],
             [
              0.3333333333333333,
              "#9c179e"
             ],
             [
              0.4444444444444444,
              "#bd3786"
             ],
             [
              0.5555555555555556,
              "#d8576b"
             ],
             [
              0.6666666666666666,
              "#ed7953"
             ],
             [
              0.7777777777777778,
              "#fb9f3a"
             ],
             [
              0.8888888888888888,
              "#fdca26"
             ],
             [
              1,
              "#f0f921"
             ]
            ],
            "type": "heatmap"
           }
          ],
          "heatmapgl": [
           {
            "colorbar": {
             "outlinewidth": 0,
             "ticks": ""
            },
            "colorscale": [
             [
              0,
              "#0d0887"
             ],
             [
              0.1111111111111111,
              "#46039f"
             ],
             [
              0.2222222222222222,
              "#7201a8"
             ],
             [
              0.3333333333333333,
              "#9c179e"
             ],
             [
              0.4444444444444444,
              "#bd3786"
             ],
             [
              0.5555555555555556,
              "#d8576b"
             ],
             [
              0.6666666666666666,
              "#ed7953"
             ],
             [
              0.7777777777777778,
              "#fb9f3a"
             ],
             [
              0.8888888888888888,
              "#fdca26"
             ],
             [
              1,
              "#f0f921"
             ]
            ],
            "type": "heatmapgl"
           }
          ],
          "histogram": [
           {
            "marker": {
             "pattern": {
              "fillmode": "overlay",
              "size": 10,
              "solidity": 0.2
             }
            },
            "type": "histogram"
           }
          ],
          "histogram2d": [
           {
            "colorbar": {
             "outlinewidth": 0,
             "ticks": ""
            },
            "colorscale": [
             [
              0,
              "#0d0887"
             ],
             [
              0.1111111111111111,
              "#46039f"
             ],
             [
              0.2222222222222222,
              "#7201a8"
             ],
             [
              0.3333333333333333,
              "#9c179e"
             ],
             [
              0.4444444444444444,
              "#bd3786"
             ],
             [
              0.5555555555555556,
              "#d8576b"
             ],
             [
              0.6666666666666666,
              "#ed7953"
             ],
             [
              0.7777777777777778,
              "#fb9f3a"
             ],
             [
              0.8888888888888888,
              "#fdca26"
             ],
             [
              1,
              "#f0f921"
             ]
            ],
            "type": "histogram2d"
           }
          ],
          "histogram2dcontour": [
           {
            "colorbar": {
             "outlinewidth": 0,
             "ticks": ""
            },
            "colorscale": [
             [
              0,
              "#0d0887"
             ],
             [
              0.1111111111111111,
              "#46039f"
             ],
             [
              0.2222222222222222,
              "#7201a8"
             ],
             [
              0.3333333333333333,
              "#9c179e"
             ],
             [
              0.4444444444444444,
              "#bd3786"
             ],
             [
              0.5555555555555556,
              "#d8576b"
             ],
             [
              0.6666666666666666,
              "#ed7953"
             ],
             [
              0.7777777777777778,
              "#fb9f3a"
             ],
             [
              0.8888888888888888,
              "#fdca26"
             ],
             [
              1,
              "#f0f921"
             ]
            ],
            "type": "histogram2dcontour"
           }
          ],
          "mesh3d": [
           {
            "colorbar": {
             "outlinewidth": 0,
             "ticks": ""
            },
            "type": "mesh3d"
           }
          ],
          "parcoords": [
           {
            "line": {
             "colorbar": {
              "outlinewidth": 0,
              "ticks": ""
             }
            },
            "type": "parcoords"
           }
          ],
          "pie": [
           {
            "automargin": true,
            "type": "pie"
           }
          ],
          "scatter": [
           {
            "fillpattern": {
             "fillmode": "overlay",
             "size": 10,
             "solidity": 0.2
            },
            "type": "scatter"
           }
          ],
          "scatter3d": [
           {
            "line": {
             "colorbar": {
              "outlinewidth": 0,
              "ticks": ""
             }
            },
            "marker": {
             "colorbar": {
              "outlinewidth": 0,
              "ticks": ""
             }
            },
            "type": "scatter3d"
           }
          ],
          "scattercarpet": [
           {
            "marker": {
             "colorbar": {
              "outlinewidth": 0,
              "ticks": ""
             }
            },
            "type": "scattercarpet"
           }
          ],
          "scattergeo": [
           {
            "marker": {
             "colorbar": {
              "outlinewidth": 0,
              "ticks": ""
             }
            },
            "type": "scattergeo"
           }
          ],
          "scattergl": [
           {
            "marker": {
             "colorbar": {
              "outlinewidth": 0,
              "ticks": ""
             }
            },
            "type": "scattergl"
           }
          ],
          "scattermapbox": [
           {
            "marker": {
             "colorbar": {
              "outlinewidth": 0,
              "ticks": ""
             }
            },
            "type": "scattermapbox"
           }
          ],
          "scatterpolar": [
           {
            "marker": {
             "colorbar": {
              "outlinewidth": 0,
              "ticks": ""
             }
            },
            "type": "scatterpolar"
           }
          ],
          "scatterpolargl": [
           {
            "marker": {
             "colorbar": {
              "outlinewidth": 0,
              "ticks": ""
             }
            },
            "type": "scatterpolargl"
           }
          ],
          "scatterternary": [
           {
            "marker": {
             "colorbar": {
              "outlinewidth": 0,
              "ticks": ""
             }
            },
            "type": "scatterternary"
           }
          ],
          "surface": [
           {
            "colorbar": {
             "outlinewidth": 0,
             "ticks": ""
            },
            "colorscale": [
             [
              0,
              "#0d0887"
             ],
             [
              0.1111111111111111,
              "#46039f"
             ],
             [
              0.2222222222222222,
              "#7201a8"
             ],
             [
              0.3333333333333333,
              "#9c179e"
             ],
             [
              0.4444444444444444,
              "#bd3786"
             ],
             [
              0.5555555555555556,
              "#d8576b"
             ],
             [
              0.6666666666666666,
              "#ed7953"
             ],
             [
              0.7777777777777778,
              "#fb9f3a"
             ],
             [
              0.8888888888888888,
              "#fdca26"
             ],
             [
              1,
              "#f0f921"
             ]
            ],
            "type": "surface"
           }
          ],
          "table": [
           {
            "cells": {
             "fill": {
              "color": "#EBF0F8"
             },
             "line": {
              "color": "white"
             }
            },
            "header": {
             "fill": {
              "color": "#C8D4E3"
             },
             "line": {
              "color": "white"
             }
            },
            "type": "table"
           }
          ]
         },
         "layout": {
          "annotationdefaults": {
           "arrowcolor": "#2a3f5f",
           "arrowhead": 0,
           "arrowwidth": 1
          },
          "autotypenumbers": "strict",
          "coloraxis": {
           "colorbar": {
            "outlinewidth": 0,
            "ticks": ""
           }
          },
          "colorscale": {
           "diverging": [
            [
             0,
             "#8e0152"
            ],
            [
             0.1,
             "#c51b7d"
            ],
            [
             0.2,
             "#de77ae"
            ],
            [
             0.3,
             "#f1b6da"
            ],
            [
             0.4,
             "#fde0ef"
            ],
            [
             0.5,
             "#f7f7f7"
            ],
            [
             0.6,
             "#e6f5d0"
            ],
            [
             0.7,
             "#b8e186"
            ],
            [
             0.8,
             "#7fbc41"
            ],
            [
             0.9,
             "#4d9221"
            ],
            [
             1,
             "#276419"
            ]
           ],
           "sequential": [
            [
             0,
             "#0d0887"
            ],
            [
             0.1111111111111111,
             "#46039f"
            ],
            [
             0.2222222222222222,
             "#7201a8"
            ],
            [
             0.3333333333333333,
             "#9c179e"
            ],
            [
             0.4444444444444444,
             "#bd3786"
            ],
            [
             0.5555555555555556,
             "#d8576b"
            ],
            [
             0.6666666666666666,
             "#ed7953"
            ],
            [
             0.7777777777777778,
             "#fb9f3a"
            ],
            [
             0.8888888888888888,
             "#fdca26"
            ],
            [
             1,
             "#f0f921"
            ]
           ],
           "sequentialminus": [
            [
             0,
             "#0d0887"
            ],
            [
             0.1111111111111111,
             "#46039f"
            ],
            [
             0.2222222222222222,
             "#7201a8"
            ],
            [
             0.3333333333333333,
             "#9c179e"
            ],
            [
             0.4444444444444444,
             "#bd3786"
            ],
            [
             0.5555555555555556,
             "#d8576b"
            ],
            [
             0.6666666666666666,
             "#ed7953"
            ],
            [
             0.7777777777777778,
             "#fb9f3a"
            ],
            [
             0.8888888888888888,
             "#fdca26"
            ],
            [
             1,
             "#f0f921"
            ]
           ]
          },
          "colorway": [
           "#636efa",
           "#EF553B",
           "#00cc96",
           "#ab63fa",
           "#FFA15A",
           "#19d3f3",
           "#FF6692",
           "#B6E880",
           "#FF97FF",
           "#FECB52"
          ],
          "font": {
           "color": "#2a3f5f"
          },
          "geo": {
           "bgcolor": "white",
           "lakecolor": "white",
           "landcolor": "#E5ECF6",
           "showlakes": true,
           "showland": true,
           "subunitcolor": "white"
          },
          "hoverlabel": {
           "align": "left"
          },
          "hovermode": "closest",
          "mapbox": {
           "style": "light"
          },
          "paper_bgcolor": "white",
          "plot_bgcolor": "#E5ECF6",
          "polar": {
           "angularaxis": {
            "gridcolor": "white",
            "linecolor": "white",
            "ticks": ""
           },
           "bgcolor": "#E5ECF6",
           "radialaxis": {
            "gridcolor": "white",
            "linecolor": "white",
            "ticks": ""
           }
          },
          "scene": {
           "xaxis": {
            "backgroundcolor": "#E5ECF6",
            "gridcolor": "white",
            "gridwidth": 2,
            "linecolor": "white",
            "showbackground": true,
            "ticks": "",
            "zerolinecolor": "white"
           },
           "yaxis": {
            "backgroundcolor": "#E5ECF6",
            "gridcolor": "white",
            "gridwidth": 2,
            "linecolor": "white",
            "showbackground": true,
            "ticks": "",
            "zerolinecolor": "white"
           },
           "zaxis": {
            "backgroundcolor": "#E5ECF6",
            "gridcolor": "white",
            "gridwidth": 2,
            "linecolor": "white",
            "showbackground": true,
            "ticks": "",
            "zerolinecolor": "white"
           }
          },
          "shapedefaults": {
           "line": {
            "color": "#2a3f5f"
           }
          },
          "ternary": {
           "aaxis": {
            "gridcolor": "white",
            "linecolor": "white",
            "ticks": ""
           },
           "baxis": {
            "gridcolor": "white",
            "linecolor": "white",
            "ticks": ""
           },
           "bgcolor": "#E5ECF6",
           "caxis": {
            "gridcolor": "white",
            "linecolor": "white",
            "ticks": ""
           }
          },
          "title": {
           "x": 0.05
          },
          "xaxis": {
           "automargin": true,
           "gridcolor": "white",
           "linecolor": "white",
           "ticks": "",
           "title": {
            "standoff": 15
           },
           "zerolinecolor": "white",
           "zerolinewidth": 2
          },
          "yaxis": {
           "automargin": true,
           "gridcolor": "white",
           "linecolor": "white",
           "ticks": "",
           "title": {
            "standoff": 15
           },
           "zerolinecolor": "white",
           "zerolinewidth": 2
          }
         }
        },
        "title": {
         "text": "Hyperparameter Importances"
        },
        "xaxis": {
         "title": {
          "text": "Importance for f1_score"
         }
        },
        "yaxis": {
         "title": {
          "text": "Hyperparameter"
         }
        }
       }
      }
     },
     "metadata": {},
     "output_type": "display_data"
    }
   ],
   "source": [
    "optuna.visualization.plot_param_importances(study_ranFor_opt, target_name=\"f1_score\")"
   ]
  },
  {
   "cell_type": "code",
   "execution_count": null,
   "metadata": {},
   "outputs": [
    {
     "data": {
      "application/vnd.plotly.v1+json": {
       "config": {
        "plotlyServerURL": "https://plot.ly"
       },
       "data": [
        {
         "colorbar": {
          "title": {
           "text": "f1_score"
          }
         },
         "colorscale": [
          [
           0,
           "rgb(247,251,255)"
          ],
          [
           0.125,
           "rgb(222,235,247)"
          ],
          [
           0.25,
           "rgb(198,219,239)"
          ],
          [
           0.375,
           "rgb(158,202,225)"
          ],
          [
           0.5,
           "rgb(107,174,214)"
          ],
          [
           0.625,
           "rgb(66,146,198)"
          ],
          [
           0.75,
           "rgb(33,113,181)"
          ],
          [
           0.875,
           "rgb(8,81,156)"
          ],
          [
           1,
           "rgb(8,48,107)"
          ]
         ],
         "connectgaps": true,
         "contours": {
          "coloring": "heatmap"
         },
         "hoverinfo": "none",
         "line": {
          "smoothing": 1.3
         },
         "reversescale": false,
         "type": "contour",
         "x": [
          13.75,
          15,
          17,
          19,
          21,
          22,
          23,
          24,
          25,
          26,
          27,
          28,
          29,
          30,
          31,
          32,
          33,
          34,
          35,
          36,
          37,
          38,
          39,
          40,
          41.25
         ],
         "y": [
          0.29999999999999993,
          1,
          2,
          3,
          4,
          5,
          6,
          7,
          9,
          10,
          11,
          12,
          13,
          14,
          15,
          15.7
         ],
         "z": [
          [
           null,
           null,
           null,
           null,
           null,
           null,
           null,
           null,
           null,
           null,
           null,
           null,
           null,
           null,
           null,
           null,
           null,
           null,
           null,
           null,
           null,
           null,
           null,
           null,
           null
          ],
          [
           null,
           null,
           null,
           0.8571428571428571,
           0.8571428571428571,
           null,
           null,
           null,
           null,
           null,
           null,
           null,
           null,
           null,
           null,
           0.9333333333333333,
           0.9333333333333333,
           0.9333333333333333,
           null,
           0.9333333333333333,
           0.9333333333333333,
           null,
           0.8571428571428571,
           0.9333333333333333,
           null
          ],
          [
           null,
           null,
           null,
           0.8571428571428571,
           null,
           null,
           null,
           null,
           null,
           0.8571428571428571,
           null,
           0.8571428571428571,
           null,
           null,
           null,
           null,
           null,
           null,
           null,
           0.8571428571428571,
           0.8571428571428571,
           null,
           0.8571428571428571,
           0.8571428571428571,
           null
          ],
          [
           null,
           0.7692307692307693,
           null,
           null,
           null,
           null,
           null,
           null,
           null,
           null,
           null,
           null,
           null,
           null,
           null,
           null,
           null,
           0.7692307692307693,
           0.7692307692307693,
           0.7692307692307693,
           null,
           0.7692307692307693,
           null,
           null,
           null
          ],
          [
           null,
           null,
           null,
           null,
           null,
           null,
           null,
           null,
           null,
           null,
           null,
           null,
           0.7692307692307693,
           0.7692307692307693,
           null,
           null,
           0.7692307692307693,
           null,
           null,
           null,
           null,
           0.7692307692307693,
           null,
           0.7692307692307693,
           null
          ],
          [
           null,
           null,
           null,
           null,
           null,
           null,
           null,
           null,
           null,
           0.6666666666666666,
           null,
           null,
           null,
           null,
           0.7692307692307693,
           null,
           null,
           null,
           0.6666666666666666,
           null,
           null,
           null,
           null,
           null,
           null
          ],
          [
           null,
           null,
           0.6666666666666666,
           null,
           null,
           null,
           null,
           null,
           null,
           null,
           null,
           0.6666666666666666,
           null,
           null,
           null,
           null,
           null,
           null,
           null,
           null,
           null,
           null,
           null,
           null,
           null
          ],
          [
           null,
           null,
           0.6666666666666666,
           null,
           0.6666666666666666,
           0.6666666666666666,
           null,
           null,
           null,
           null,
           null,
           null,
           null,
           null,
           null,
           null,
           null,
           null,
           null,
           null,
           null,
           null,
           null,
           null,
           null
          ],
          [
           null,
           null,
           null,
           null,
           null,
           null,
           null,
           0.5454545454545454,
           null,
           null,
           null,
           null,
           null,
           null,
           null,
           null,
           null,
           null,
           null,
           null,
           null,
           null,
           null,
           null,
           null
          ],
          [
           null,
           null,
           null,
           null,
           null,
           null,
           0.5454545454545454,
           null,
           null,
           null,
           null,
           null,
           null,
           0.5454545454545454,
           null,
           null,
           null,
           null,
           null,
           null,
           null,
           null,
           null,
           null,
           null
          ],
          [
           null,
           null,
           null,
           null,
           null,
           null,
           null,
           null,
           null,
           null,
           null,
           null,
           null,
           null,
           null,
           0.2222222222222222,
           null,
           null,
           null,
           null,
           null,
           null,
           null,
           null,
           null
          ],
          [
           null,
           null,
           null,
           null,
           null,
           null,
           null,
           null,
           null,
           null,
           null,
           null,
           null,
           null,
           null,
           null,
           null,
           null,
           null,
           null,
           null,
           0,
           null,
           null,
           null
          ],
          [
           null,
           null,
           null,
           null,
           null,
           null,
           null,
           null,
           null,
           null,
           null,
           null,
           null,
           null,
           null,
           null,
           null,
           null,
           null,
           0,
           null,
           null,
           null,
           null,
           null
          ],
          [
           null,
           null,
           null,
           null,
           null,
           null,
           null,
           null,
           null,
           null,
           0,
           null,
           null,
           null,
           null,
           null,
           null,
           null,
           null,
           null,
           null,
           null,
           null,
           null,
           null
          ],
          [
           null,
           null,
           null,
           null,
           null,
           null,
           null,
           null,
           0,
           null,
           null,
           null,
           null,
           null,
           null,
           null,
           null,
           null,
           null,
           null,
           null,
           null,
           null,
           null,
           null
          ],
          [
           null,
           null,
           null,
           null,
           null,
           null,
           null,
           null,
           null,
           null,
           null,
           null,
           null,
           null,
           null,
           null,
           null,
           null,
           null,
           null,
           null,
           null,
           null,
           null,
           null
          ]
         ]
        },
        {
         "marker": {
          "color": "black",
          "line": {
           "color": "Grey",
           "width": 2
          }
         },
         "mode": "markers",
         "showlegend": false,
         "type": "scatter",
         "x": [
          22,
          39,
          19,
          27,
          21,
          17,
          29,
          36,
          17,
          25,
          32,
          40,
          33,
          23,
          40,
          21,
          30,
          26,
          15,
          36,
          24,
          37,
          35,
          39,
          34,
          37,
          31,
          38,
          28,
          21,
          35,
          37,
          40,
          38,
          33,
          40,
          36,
          19,
          38,
          28,
          36,
          37,
          34,
          39,
          37,
          32,
          19,
          35,
          30,
          26
         ],
         "y": [
          7,
          1,
          2,
          14,
          1,
          7,
          4,
          2,
          6,
          15,
          11,
          1,
          4,
          10,
          4,
          1,
          10,
          5,
          3,
          1,
          9,
          1,
          3,
          2,
          3,
          1,
          5,
          12,
          2,
          7,
          5,
          1,
          1,
          3,
          1,
          2,
          3,
          2,
          4,
          6,
          13,
          1,
          1,
          2,
          2,
          1,
          1,
          3,
          4,
          2
         ]
        }
       ],
       "layout": {
        "template": {
         "data": {
          "bar": [
           {
            "error_x": {
             "color": "#2a3f5f"
            },
            "error_y": {
             "color": "#2a3f5f"
            },
            "marker": {
             "line": {
              "color": "#E5ECF6",
              "width": 0.5
             },
             "pattern": {
              "fillmode": "overlay",
              "size": 10,
              "solidity": 0.2
             }
            },
            "type": "bar"
           }
          ],
          "barpolar": [
           {
            "marker": {
             "line": {
              "color": "#E5ECF6",
              "width": 0.5
             },
             "pattern": {
              "fillmode": "overlay",
              "size": 10,
              "solidity": 0.2
             }
            },
            "type": "barpolar"
           }
          ],
          "carpet": [
           {
            "aaxis": {
             "endlinecolor": "#2a3f5f",
             "gridcolor": "white",
             "linecolor": "white",
             "minorgridcolor": "white",
             "startlinecolor": "#2a3f5f"
            },
            "baxis": {
             "endlinecolor": "#2a3f5f",
             "gridcolor": "white",
             "linecolor": "white",
             "minorgridcolor": "white",
             "startlinecolor": "#2a3f5f"
            },
            "type": "carpet"
           }
          ],
          "choropleth": [
           {
            "colorbar": {
             "outlinewidth": 0,
             "ticks": ""
            },
            "type": "choropleth"
           }
          ],
          "contour": [
           {
            "colorbar": {
             "outlinewidth": 0,
             "ticks": ""
            },
            "colorscale": [
             [
              0,
              "#0d0887"
             ],
             [
              0.1111111111111111,
              "#46039f"
             ],
             [
              0.2222222222222222,
              "#7201a8"
             ],
             [
              0.3333333333333333,
              "#9c179e"
             ],
             [
              0.4444444444444444,
              "#bd3786"
             ],
             [
              0.5555555555555556,
              "#d8576b"
             ],
             [
              0.6666666666666666,
              "#ed7953"
             ],
             [
              0.7777777777777778,
              "#fb9f3a"
             ],
             [
              0.8888888888888888,
              "#fdca26"
             ],
             [
              1,
              "#f0f921"
             ]
            ],
            "type": "contour"
           }
          ],
          "contourcarpet": [
           {
            "colorbar": {
             "outlinewidth": 0,
             "ticks": ""
            },
            "type": "contourcarpet"
           }
          ],
          "heatmap": [
           {
            "colorbar": {
             "outlinewidth": 0,
             "ticks": ""
            },
            "colorscale": [
             [
              0,
              "#0d0887"
             ],
             [
              0.1111111111111111,
              "#46039f"
             ],
             [
              0.2222222222222222,
              "#7201a8"
             ],
             [
              0.3333333333333333,
              "#9c179e"
             ],
             [
              0.4444444444444444,
              "#bd3786"
             ],
             [
              0.5555555555555556,
              "#d8576b"
             ],
             [
              0.6666666666666666,
              "#ed7953"
             ],
             [
              0.7777777777777778,
              "#fb9f3a"
             ],
             [
              0.8888888888888888,
              "#fdca26"
             ],
             [
              1,
              "#f0f921"
             ]
            ],
            "type": "heatmap"
           }
          ],
          "heatmapgl": [
           {
            "colorbar": {
             "outlinewidth": 0,
             "ticks": ""
            },
            "colorscale": [
             [
              0,
              "#0d0887"
             ],
             [
              0.1111111111111111,
              "#46039f"
             ],
             [
              0.2222222222222222,
              "#7201a8"
             ],
             [
              0.3333333333333333,
              "#9c179e"
             ],
             [
              0.4444444444444444,
              "#bd3786"
             ],
             [
              0.5555555555555556,
              "#d8576b"
             ],
             [
              0.6666666666666666,
              "#ed7953"
             ],
             [
              0.7777777777777778,
              "#fb9f3a"
             ],
             [
              0.8888888888888888,
              "#fdca26"
             ],
             [
              1,
              "#f0f921"
             ]
            ],
            "type": "heatmapgl"
           }
          ],
          "histogram": [
           {
            "marker": {
             "pattern": {
              "fillmode": "overlay",
              "size": 10,
              "solidity": 0.2
             }
            },
            "type": "histogram"
           }
          ],
          "histogram2d": [
           {
            "colorbar": {
             "outlinewidth": 0,
             "ticks": ""
            },
            "colorscale": [
             [
              0,
              "#0d0887"
             ],
             [
              0.1111111111111111,
              "#46039f"
             ],
             [
              0.2222222222222222,
              "#7201a8"
             ],
             [
              0.3333333333333333,
              "#9c179e"
             ],
             [
              0.4444444444444444,
              "#bd3786"
             ],
             [
              0.5555555555555556,
              "#d8576b"
             ],
             [
              0.6666666666666666,
              "#ed7953"
             ],
             [
              0.7777777777777778,
              "#fb9f3a"
             ],
             [
              0.8888888888888888,
              "#fdca26"
             ],
             [
              1,
              "#f0f921"
             ]
            ],
            "type": "histogram2d"
           }
          ],
          "histogram2dcontour": [
           {
            "colorbar": {
             "outlinewidth": 0,
             "ticks": ""
            },
            "colorscale": [
             [
              0,
              "#0d0887"
             ],
             [
              0.1111111111111111,
              "#46039f"
             ],
             [
              0.2222222222222222,
              "#7201a8"
             ],
             [
              0.3333333333333333,
              "#9c179e"
             ],
             [
              0.4444444444444444,
              "#bd3786"
             ],
             [
              0.5555555555555556,
              "#d8576b"
             ],
             [
              0.6666666666666666,
              "#ed7953"
             ],
             [
              0.7777777777777778,
              "#fb9f3a"
             ],
             [
              0.8888888888888888,
              "#fdca26"
             ],
             [
              1,
              "#f0f921"
             ]
            ],
            "type": "histogram2dcontour"
           }
          ],
          "mesh3d": [
           {
            "colorbar": {
             "outlinewidth": 0,
             "ticks": ""
            },
            "type": "mesh3d"
           }
          ],
          "parcoords": [
           {
            "line": {
             "colorbar": {
              "outlinewidth": 0,
              "ticks": ""
             }
            },
            "type": "parcoords"
           }
          ],
          "pie": [
           {
            "automargin": true,
            "type": "pie"
           }
          ],
          "scatter": [
           {
            "fillpattern": {
             "fillmode": "overlay",
             "size": 10,
             "solidity": 0.2
            },
            "type": "scatter"
           }
          ],
          "scatter3d": [
           {
            "line": {
             "colorbar": {
              "outlinewidth": 0,
              "ticks": ""
             }
            },
            "marker": {
             "colorbar": {
              "outlinewidth": 0,
              "ticks": ""
             }
            },
            "type": "scatter3d"
           }
          ],
          "scattercarpet": [
           {
            "marker": {
             "colorbar": {
              "outlinewidth": 0,
              "ticks": ""
             }
            },
            "type": "scattercarpet"
           }
          ],
          "scattergeo": [
           {
            "marker": {
             "colorbar": {
              "outlinewidth": 0,
              "ticks": ""
             }
            },
            "type": "scattergeo"
           }
          ],
          "scattergl": [
           {
            "marker": {
             "colorbar": {
              "outlinewidth": 0,
              "ticks": ""
             }
            },
            "type": "scattergl"
           }
          ],
          "scattermapbox": [
           {
            "marker": {
             "colorbar": {
              "outlinewidth": 0,
              "ticks": ""
             }
            },
            "type": "scattermapbox"
           }
          ],
          "scatterpolar": [
           {
            "marker": {
             "colorbar": {
              "outlinewidth": 0,
              "ticks": ""
             }
            },
            "type": "scatterpolar"
           }
          ],
          "scatterpolargl": [
           {
            "marker": {
             "colorbar": {
              "outlinewidth": 0,
              "ticks": ""
             }
            },
            "type": "scatterpolargl"
           }
          ],
          "scatterternary": [
           {
            "marker": {
             "colorbar": {
              "outlinewidth": 0,
              "ticks": ""
             }
            },
            "type": "scatterternary"
           }
          ],
          "surface": [
           {
            "colorbar": {
             "outlinewidth": 0,
             "ticks": ""
            },
            "colorscale": [
             [
              0,
              "#0d0887"
             ],
             [
              0.1111111111111111,
              "#46039f"
             ],
             [
              0.2222222222222222,
              "#7201a8"
             ],
             [
              0.3333333333333333,
              "#9c179e"
             ],
             [
              0.4444444444444444,
              "#bd3786"
             ],
             [
              0.5555555555555556,
              "#d8576b"
             ],
             [
              0.6666666666666666,
              "#ed7953"
             ],
             [
              0.7777777777777778,
              "#fb9f3a"
             ],
             [
              0.8888888888888888,
              "#fdca26"
             ],
             [
              1,
              "#f0f921"
             ]
            ],
            "type": "surface"
           }
          ],
          "table": [
           {
            "cells": {
             "fill": {
              "color": "#EBF0F8"
             },
             "line": {
              "color": "white"
             }
            },
            "header": {
             "fill": {
              "color": "#C8D4E3"
             },
             "line": {
              "color": "white"
             }
            },
            "type": "table"
           }
          ]
         },
         "layout": {
          "annotationdefaults": {
           "arrowcolor": "#2a3f5f",
           "arrowhead": 0,
           "arrowwidth": 1
          },
          "autotypenumbers": "strict",
          "coloraxis": {
           "colorbar": {
            "outlinewidth": 0,
            "ticks": ""
           }
          },
          "colorscale": {
           "diverging": [
            [
             0,
             "#8e0152"
            ],
            [
             0.1,
             "#c51b7d"
            ],
            [
             0.2,
             "#de77ae"
            ],
            [
             0.3,
             "#f1b6da"
            ],
            [
             0.4,
             "#fde0ef"
            ],
            [
             0.5,
             "#f7f7f7"
            ],
            [
             0.6,
             "#e6f5d0"
            ],
            [
             0.7,
             "#b8e186"
            ],
            [
             0.8,
             "#7fbc41"
            ],
            [
             0.9,
             "#4d9221"
            ],
            [
             1,
             "#276419"
            ]
           ],
           "sequential": [
            [
             0,
             "#0d0887"
            ],
            [
             0.1111111111111111,
             "#46039f"
            ],
            [
             0.2222222222222222,
             "#7201a8"
            ],
            [
             0.3333333333333333,
             "#9c179e"
            ],
            [
             0.4444444444444444,
             "#bd3786"
            ],
            [
             0.5555555555555556,
             "#d8576b"
            ],
            [
             0.6666666666666666,
             "#ed7953"
            ],
            [
             0.7777777777777778,
             "#fb9f3a"
            ],
            [
             0.8888888888888888,
             "#fdca26"
            ],
            [
             1,
             "#f0f921"
            ]
           ],
           "sequentialminus": [
            [
             0,
             "#0d0887"
            ],
            [
             0.1111111111111111,
             "#46039f"
            ],
            [
             0.2222222222222222,
             "#7201a8"
            ],
            [
             0.3333333333333333,
             "#9c179e"
            ],
            [
             0.4444444444444444,
             "#bd3786"
            ],
            [
             0.5555555555555556,
             "#d8576b"
            ],
            [
             0.6666666666666666,
             "#ed7953"
            ],
            [
             0.7777777777777778,
             "#fb9f3a"
            ],
            [
             0.8888888888888888,
             "#fdca26"
            ],
            [
             1,
             "#f0f921"
            ]
           ]
          },
          "colorway": [
           "#636efa",
           "#EF553B",
           "#00cc96",
           "#ab63fa",
           "#FFA15A",
           "#19d3f3",
           "#FF6692",
           "#B6E880",
           "#FF97FF",
           "#FECB52"
          ],
          "font": {
           "color": "#2a3f5f"
          },
          "geo": {
           "bgcolor": "white",
           "lakecolor": "white",
           "landcolor": "#E5ECF6",
           "showlakes": true,
           "showland": true,
           "subunitcolor": "white"
          },
          "hoverlabel": {
           "align": "left"
          },
          "hovermode": "closest",
          "mapbox": {
           "style": "light"
          },
          "paper_bgcolor": "white",
          "plot_bgcolor": "#E5ECF6",
          "polar": {
           "angularaxis": {
            "gridcolor": "white",
            "linecolor": "white",
            "ticks": ""
           },
           "bgcolor": "#E5ECF6",
           "radialaxis": {
            "gridcolor": "white",
            "linecolor": "white",
            "ticks": ""
           }
          },
          "scene": {
           "xaxis": {
            "backgroundcolor": "#E5ECF6",
            "gridcolor": "white",
            "gridwidth": 2,
            "linecolor": "white",
            "showbackground": true,
            "ticks": "",
            "zerolinecolor": "white"
           },
           "yaxis": {
            "backgroundcolor": "#E5ECF6",
            "gridcolor": "white",
            "gridwidth": 2,
            "linecolor": "white",
            "showbackground": true,
            "ticks": "",
            "zerolinecolor": "white"
           },
           "zaxis": {
            "backgroundcolor": "#E5ECF6",
            "gridcolor": "white",
            "gridwidth": 2,
            "linecolor": "white",
            "showbackground": true,
            "ticks": "",
            "zerolinecolor": "white"
           }
          },
          "shapedefaults": {
           "line": {
            "color": "#2a3f5f"
           }
          },
          "ternary": {
           "aaxis": {
            "gridcolor": "white",
            "linecolor": "white",
            "ticks": ""
           },
           "baxis": {
            "gridcolor": "white",
            "linecolor": "white",
            "ticks": ""
           },
           "bgcolor": "#E5ECF6",
           "caxis": {
            "gridcolor": "white",
            "linecolor": "white",
            "ticks": ""
           }
          },
          "title": {
           "x": 0.05
          },
          "xaxis": {
           "automargin": true,
           "gridcolor": "white",
           "linecolor": "white",
           "ticks": "",
           "title": {
            "standoff": 15
           },
           "zerolinecolor": "white",
           "zerolinewidth": 2
          },
          "yaxis": {
           "automargin": true,
           "gridcolor": "white",
           "linecolor": "white",
           "ticks": "",
           "title": {
            "standoff": 15
           },
           "zerolinecolor": "white",
           "zerolinewidth": 2
          }
         }
        },
        "title": {
         "text": "Contour Plot"
        },
        "xaxis": {
         "range": [
          13.75,
          41.25
         ],
         "title": {
          "text": "max_depth"
         }
        },
        "yaxis": {
         "range": [
          0.29999999999999993,
          15.7
         ],
         "title": {
          "text": "min_samples_leaf"
         }
        }
       }
      }
     },
     "metadata": {},
     "output_type": "display_data"
    }
   ],
   "source": [
    "optuna.visualization.plot_contour(study_ranFor_opt, params=[\"max_depth\", \"min_samples_leaf\"],\n",
    "                                  target_name=\"f1_score\")"
   ]
  }
 ],
 "metadata": {
  "kernelspec": {
   "display_name": "Python 3",
   "language": "python",
   "name": "python3"
  },
  "language_info": {
   "codemirror_mode": {
    "name": "ipython",
    "version": 3
   },
   "file_extension": ".py",
   "mimetype": "text/x-python",
   "name": "python",
   "nbconvert_exporter": "python",
   "pygments_lexer": "ipython3",
   "version": "3.11.0"
  },
  "orig_nbformat": 4
 },
 "nbformat": 4,
 "nbformat_minor": 2
}
